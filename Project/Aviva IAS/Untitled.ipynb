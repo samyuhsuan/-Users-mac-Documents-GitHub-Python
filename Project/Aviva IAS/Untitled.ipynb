{
 "cells": [
  {
   "cell_type": "code",
   "execution_count": 273,
   "metadata": {
    "collapsed": true
   },
   "outputs": [],
   "source": [
    "import pandas as pd\n",
    "import numpy as np\n",
    "import time\n",
    "import datetime\n",
    "from datetime import datetime, timedelta, timezone\n",
    "import pytz"
   ]
  },
  {
   "cell_type": "code",
   "execution_count": 2,
   "metadata": {},
   "outputs": [
    {
     "name": "stderr",
     "output_type": "stream",
     "text": [
      "C:\\Users\\ylin\\AppData\\Local\\Continuum\\Anaconda3\\lib\\site-packages\\IPython\\core\\interactiveshell.py:2717: DtypeWarning: Columns (9,10) have mixed types. Specify dtype option on import or set low_memory=False.\n",
      "  interactivity=interactivity, compiler=compiler, result=result)\n"
     ]
    }
   ],
   "source": [
    "activity = pd.read_csv(\"C:\\\\Users\\\\ylin\\\\Desktop\\\\ias file\\\\activity.csv\")\n",
    "impression = pd.read_csv(\"C:\\\\Users\\\\ylin\\\\Desktop\\\\ias file\\\\impressions.csv\")"
   ]
  },
  {
   "cell_type": "code",
   "execution_count": 3,
   "metadata": {},
   "outputs": [
    {
     "data": {
      "text/plain": [
       "Index(['Event_Time', 'User_ID', 'Advertiser_ID', 'Campaign_ID', 'Site_ID_DCM',\n",
       "       'Placement_ID', 'Activity_ID', 'DBM_Device_Type', 'DBM_Advertiser_ID',\n",
       "       'DBM_Attributed_Inventory_Source_Is_Public', 'DBM_Auction_ID',\n",
       "       'DBM_Insertion_Order_ID', 'DBM_Line_Item_ID', 'Total_Conversions',\n",
       "       'Total_Revenue', 'DBM_Revenue_Advertiser_Currency'],\n",
       "      dtype='object')"
      ]
     },
     "execution_count": 3,
     "metadata": {},
     "output_type": "execute_result"
    }
   ],
   "source": [
    "activity.columns"
   ]
  },
  {
   "cell_type": "code",
   "execution_count": 4,
   "metadata": {},
   "outputs": [
    {
     "data": {
      "text/plain": [
       "139664"
      ]
     },
     "execution_count": 4,
     "metadata": {},
     "output_type": "execute_result"
    }
   ],
   "source": [
    "activity.User_ID.count()"
   ]
  },
  {
   "cell_type": "code",
   "execution_count": 5,
   "metadata": {},
   "outputs": [
    {
     "data": {
      "text/plain": [
       "632678"
      ]
     },
     "execution_count": 5,
     "metadata": {},
     "output_type": "execute_result"
    }
   ],
   "source": [
    "impression.User_ID.count()"
   ]
  },
  {
   "cell_type": "code",
   "execution_count": 6,
   "metadata": {},
   "outputs": [
    {
     "data": {
      "text/plain": [
       "364785"
      ]
     },
     "execution_count": 6,
     "metadata": {},
     "output_type": "execute_result"
    }
   ],
   "source": [
    "impression.User_ID[impression.DBM_Insertion_Order_ID == 3863579].count()"
   ]
  },
  {
   "cell_type": "code",
   "execution_count": 7,
   "metadata": {},
   "outputs": [
    {
     "data": {
      "text/plain": [
       "Index(['Event_Time', 'User_ID', 'Advertiser_ID', 'Campaign_ID', 'Site_ID_DCM',\n",
       "       'Placement_ID', 'Activity_ID', 'DBM_Device_Type', 'DBM_Advertiser_ID',\n",
       "       'DBM_Attributed_Inventory_Source_Is_Public', 'DBM_Auction_ID',\n",
       "       'DBM_Insertion_Order_ID', 'DBM_Line_Item_ID', 'Total_Conversions',\n",
       "       'Total_Revenue', 'DBM_Revenue_Advertiser_Currency'],\n",
       "      dtype='object')"
      ]
     },
     "execution_count": 7,
     "metadata": {},
     "output_type": "execute_result"
    }
   ],
   "source": [
    "activity.columns"
   ]
  },
  {
   "cell_type": "code",
   "execution_count": 8,
   "metadata": {},
   "outputs": [
    {
     "data": {
      "text/plain": [
       "array([ 320052,  320053,  320216,  320217, 6060602, 6065499, 6066102], dtype=int64)"
      ]
     },
     "execution_count": 8,
     "metadata": {},
     "output_type": "execute_result"
    }
   ],
   "source": [
    "activity.Activity_ID.unique()"
   ]
  },
  {
   "cell_type": "code",
   "execution_count": 9,
   "metadata": {},
   "outputs": [
    {
     "data": {
      "text/plain": [
       "array([ 3863580.,  3863579.,       nan])"
      ]
     },
     "execution_count": 9,
     "metadata": {},
     "output_type": "execute_result"
    }
   ],
   "source": [
    "activity['DBM_Insertion_Order_ID'].unique()"
   ]
  },
  {
   "cell_type": "code",
   "execution_count": 10,
   "metadata": {},
   "outputs": [
    {
     "data": {
      "text/plain": [
       "array([3863580, 3863579], dtype=int64)"
      ]
     },
     "execution_count": 10,
     "metadata": {},
     "output_type": "execute_result"
    }
   ],
   "source": [
    "impression['DBM_Insertion_Order_ID'].unique()"
   ]
  },
  {
   "cell_type": "code",
   "execution_count": 11,
   "metadata": {},
   "outputs": [
    {
     "data": {
      "text/plain": [
       "771"
      ]
     },
     "execution_count": 11,
     "metadata": {},
     "output_type": "execute_result"
    }
   ],
   "source": [
    "len(activity.DBM_Auction_ID.unique())"
   ]
  },
  {
   "cell_type": "code",
   "execution_count": 12,
   "metadata": {},
   "outputs": [
    {
     "data": {
      "text/plain": [
       "139664"
      ]
     },
     "execution_count": 12,
     "metadata": {},
     "output_type": "execute_result"
    }
   ],
   "source": [
    "len(activity.DBM_Auction_ID)"
   ]
  },
  {
   "cell_type": "markdown",
   "metadata": {},
   "source": [
    "---"
   ]
  },
  {
   "cell_type": "code",
   "execution_count": 113,
   "metadata": {},
   "outputs": [],
   "source": [
    "activity2 = pd.read_csv(\"C:\\\\Users\\\\ylin\\\\Desktop\\\\ias file\\\\activity_2.csv\")\n",
    "impression2 = pd.read_csv(\"C:\\\\Users\\\\ylin\\\\Desktop\\\\ias file\\\\impressions_2.csv\")"
   ]
  },
  {
   "cell_type": "code",
   "execution_count": 114,
   "metadata": {},
   "outputs": [
    {
     "data": {
      "text/plain": [
       "Index(['Event_User', 'Event_Time', 'User_ID', 'Advertiser_ID', 'Campaign_ID',\n",
       "       'Site_ID_DCM', 'Placement_ID', 'Activity_ID', 'DBM_Device_Type',\n",
       "       'DBM_Advertiser_ID', 'DBM_Attributed_Inventory_Source_Is_Public',\n",
       "       'DBM_Auction_ID', 'DBM_Insertion_Order_ID', 'DBM_Line_Item_ID',\n",
       "       'Total_Conversions', 'Total_Revenue',\n",
       "       'DBM_Revenue_Advertiser_Currency'],\n",
       "      dtype='object')"
      ]
     },
     "execution_count": 114,
     "metadata": {},
     "output_type": "execute_result"
    }
   ],
   "source": [
    "activity2.columns"
   ]
  },
  {
   "cell_type": "code",
   "execution_count": 115,
   "metadata": {},
   "outputs": [
    {
     "data": {
      "text/plain": [
       "array([ 320052,  320053,  320216,  320217, 6066102, 6060602, 6065499], dtype=int64)"
      ]
     },
     "execution_count": 115,
     "metadata": {},
     "output_type": "execute_result"
    }
   ],
   "source": [
    "activity2.Activity_ID.unique()"
   ]
  },
  {
   "cell_type": "code",
   "execution_count": 116,
   "metadata": {},
   "outputs": [],
   "source": [
    "activity2[\"measurable_6060602\"] = 0\n",
    "activity2[\"viewable_6066102\"] = 0\n",
    "activity2[\"fraud_6065499\"] = 0\n",
    "activity2[\"HI_Quote_320052\"] = 0\n",
    "activity2[\"HI_Sales_320053\"] = 0"
   ]
  },
  {
   "cell_type": "code",
   "execution_count": 117,
   "metadata": {},
   "outputs": [],
   "source": [
    "activity2.loc[activity2.Activity_ID == 6060602, \"measurable_6060602\"] = 1\n",
    "activity2.loc[activity2.Activity_ID == 6066102, \"viewable_6066102\"] = 1\n",
    "activity2.loc[activity2.Activity_ID == 6065499, \"fraud_6065499\"] = 1\n",
    "activity2.loc[activity2.Activity_ID == 320052, \"HI_Quote_320052\"] = 1\n",
    "activity2.loc[activity2.Activity_ID == 320053, \"HI_Sales_320053\"] = 1"
   ]
  },
  {
   "cell_type": "code",
   "execution_count": 118,
   "metadata": {},
   "outputs": [
    {
     "data": {
      "text/html": [
       "<div>\n",
       "<style>\n",
       "    .dataframe thead tr:only-child th {\n",
       "        text-align: right;\n",
       "    }\n",
       "\n",
       "    .dataframe thead th {\n",
       "        text-align: left;\n",
       "    }\n",
       "\n",
       "    .dataframe tbody tr th {\n",
       "        vertical-align: top;\n",
       "    }\n",
       "</style>\n",
       "<table border=\"1\" class=\"dataframe\">\n",
       "  <thead>\n",
       "    <tr style=\"text-align: right;\">\n",
       "      <th></th>\n",
       "      <th>Event_User</th>\n",
       "      <th>Event_Time</th>\n",
       "      <th>User_ID</th>\n",
       "      <th>Advertiser_ID</th>\n",
       "      <th>Campaign_ID</th>\n",
       "      <th>Site_ID_DCM</th>\n",
       "      <th>Placement_ID</th>\n",
       "      <th>Activity_ID</th>\n",
       "      <th>DBM_Device_Type</th>\n",
       "      <th>DBM_Advertiser_ID</th>\n",
       "      <th>...</th>\n",
       "      <th>DBM_Insertion_Order_ID</th>\n",
       "      <th>DBM_Line_Item_ID</th>\n",
       "      <th>Total_Conversions</th>\n",
       "      <th>Total_Revenue</th>\n",
       "      <th>DBM_Revenue_Advertiser_Currency</th>\n",
       "      <th>measurable_6060602</th>\n",
       "      <th>viewable_6066102</th>\n",
       "      <th>fraud_6065499</th>\n",
       "      <th>HI_Quote_320052</th>\n",
       "      <th>HI_Sales_320053</th>\n",
       "    </tr>\n",
       "  </thead>\n",
       "  <tbody>\n",
       "    <tr>\n",
       "      <th>0</th>\n",
       "      <td>1506930000000000_AMsySZY8muPyhRGV3SdWC4l3mo3n</td>\n",
       "      <td>1.506930e+15</td>\n",
       "      <td>AMsySZY8muPyhRGV3SdWC4l3mo3n</td>\n",
       "      <td>1268443</td>\n",
       "      <td>20334041</td>\n",
       "      <td>984668</td>\n",
       "      <td>205800991</td>\n",
       "      <td>320052</td>\n",
       "      <td>0.0</td>\n",
       "      <td>3601.0</td>\n",
       "      <td>...</td>\n",
       "      <td>3863580.0</td>\n",
       "      <td>13955149.0</td>\n",
       "      <td>1</td>\n",
       "      <td>0.000175</td>\n",
       "      <td>0</td>\n",
       "      <td>0</td>\n",
       "      <td>0</td>\n",
       "      <td>0</td>\n",
       "      <td>1</td>\n",
       "      <td>0</td>\n",
       "    </tr>\n",
       "    <tr>\n",
       "      <th>1</th>\n",
       "      <td>1506930000000000_AMsySZamNYBSz1EQrGABbK0ui60a</td>\n",
       "      <td>1.506930e+15</td>\n",
       "      <td>AMsySZamNYBSz1EQrGABbK0ui60a</td>\n",
       "      <td>1268443</td>\n",
       "      <td>20334041</td>\n",
       "      <td>984668</td>\n",
       "      <td>205801000</td>\n",
       "      <td>320052</td>\n",
       "      <td>0.0</td>\n",
       "      <td>3601.0</td>\n",
       "      <td>...</td>\n",
       "      <td>3863579.0</td>\n",
       "      <td>13955138.0</td>\n",
       "      <td>1</td>\n",
       "      <td>0.000324</td>\n",
       "      <td>0</td>\n",
       "      <td>0</td>\n",
       "      <td>0</td>\n",
       "      <td>0</td>\n",
       "      <td>1</td>\n",
       "      <td>0</td>\n",
       "    </tr>\n",
       "    <tr>\n",
       "      <th>2</th>\n",
       "      <td>1506930000000000_AMsySZamNYBSz1EQrGABbK0ui60a</td>\n",
       "      <td>1.506930e+15</td>\n",
       "      <td>AMsySZamNYBSz1EQrGABbK0ui60a</td>\n",
       "      <td>1268443</td>\n",
       "      <td>20334041</td>\n",
       "      <td>984668</td>\n",
       "      <td>205801000</td>\n",
       "      <td>320052</td>\n",
       "      <td>0.0</td>\n",
       "      <td>3601.0</td>\n",
       "      <td>...</td>\n",
       "      <td>3863579.0</td>\n",
       "      <td>13955138.0</td>\n",
       "      <td>1</td>\n",
       "      <td>0.000389</td>\n",
       "      <td>0</td>\n",
       "      <td>0</td>\n",
       "      <td>0</td>\n",
       "      <td>0</td>\n",
       "      <td>1</td>\n",
       "      <td>0</td>\n",
       "    </tr>\n",
       "    <tr>\n",
       "      <th>3</th>\n",
       "      <td>1506940000000000_AMsySZY63VYQ1DO4K56qEQGpY42f</td>\n",
       "      <td>1.506940e+15</td>\n",
       "      <td>AMsySZY63VYQ1DO4K56qEQGpY42f</td>\n",
       "      <td>1268443</td>\n",
       "      <td>20334041</td>\n",
       "      <td>984668</td>\n",
       "      <td>205802575</td>\n",
       "      <td>320052</td>\n",
       "      <td>0.0</td>\n",
       "      <td>3601.0</td>\n",
       "      <td>...</td>\n",
       "      <td>3863579.0</td>\n",
       "      <td>13955134.0</td>\n",
       "      <td>1</td>\n",
       "      <td>0.000240</td>\n",
       "      <td>0</td>\n",
       "      <td>0</td>\n",
       "      <td>0</td>\n",
       "      <td>0</td>\n",
       "      <td>1</td>\n",
       "      <td>0</td>\n",
       "    </tr>\n",
       "    <tr>\n",
       "      <th>4</th>\n",
       "      <td>1506940000000000_AMsySZbTfidKErdEJ7P-CnCk1iGN</td>\n",
       "      <td>1.506940e+15</td>\n",
       "      <td>AMsySZbTfidKErdEJ7P-CnCk1iGN</td>\n",
       "      <td>1268443</td>\n",
       "      <td>20334041</td>\n",
       "      <td>984668</td>\n",
       "      <td>205802575</td>\n",
       "      <td>320052</td>\n",
       "      <td>0.0</td>\n",
       "      <td>3601.0</td>\n",
       "      <td>...</td>\n",
       "      <td>3863579.0</td>\n",
       "      <td>13955134.0</td>\n",
       "      <td>1</td>\n",
       "      <td>0.000157</td>\n",
       "      <td>0</td>\n",
       "      <td>0</td>\n",
       "      <td>0</td>\n",
       "      <td>0</td>\n",
       "      <td>1</td>\n",
       "      <td>0</td>\n",
       "    </tr>\n",
       "  </tbody>\n",
       "</table>\n",
       "<p>5 rows × 22 columns</p>\n",
       "</div>"
      ],
      "text/plain": [
       "                                      Event_User    Event_Time  \\\n",
       "0  1506930000000000_AMsySZY8muPyhRGV3SdWC4l3mo3n  1.506930e+15   \n",
       "1  1506930000000000_AMsySZamNYBSz1EQrGABbK0ui60a  1.506930e+15   \n",
       "2  1506930000000000_AMsySZamNYBSz1EQrGABbK0ui60a  1.506930e+15   \n",
       "3  1506940000000000_AMsySZY63VYQ1DO4K56qEQGpY42f  1.506940e+15   \n",
       "4  1506940000000000_AMsySZbTfidKErdEJ7P-CnCk1iGN  1.506940e+15   \n",
       "\n",
       "                        User_ID  Advertiser_ID  Campaign_ID  Site_ID_DCM  \\\n",
       "0  AMsySZY8muPyhRGV3SdWC4l3mo3n        1268443     20334041       984668   \n",
       "1  AMsySZamNYBSz1EQrGABbK0ui60a        1268443     20334041       984668   \n",
       "2  AMsySZamNYBSz1EQrGABbK0ui60a        1268443     20334041       984668   \n",
       "3  AMsySZY63VYQ1DO4K56qEQGpY42f        1268443     20334041       984668   \n",
       "4  AMsySZbTfidKErdEJ7P-CnCk1iGN        1268443     20334041       984668   \n",
       "\n",
       "   Placement_ID  Activity_ID  DBM_Device_Type  DBM_Advertiser_ID  \\\n",
       "0     205800991       320052              0.0             3601.0   \n",
       "1     205801000       320052              0.0             3601.0   \n",
       "2     205801000       320052              0.0             3601.0   \n",
       "3     205802575       320052              0.0             3601.0   \n",
       "4     205802575       320052              0.0             3601.0   \n",
       "\n",
       "        ...        DBM_Insertion_Order_ID DBM_Line_Item_ID  Total_Conversions  \\\n",
       "0       ...                     3863580.0       13955149.0                  1   \n",
       "1       ...                     3863579.0       13955138.0                  1   \n",
       "2       ...                     3863579.0       13955138.0                  1   \n",
       "3       ...                     3863579.0       13955134.0                  1   \n",
       "4       ...                     3863579.0       13955134.0                  1   \n",
       "\n",
       "   Total_Revenue  DBM_Revenue_Advertiser_Currency  measurable_6060602  \\\n",
       "0       0.000175                                0                   0   \n",
       "1       0.000324                                0                   0   \n",
       "2       0.000389                                0                   0   \n",
       "3       0.000240                                0                   0   \n",
       "4       0.000157                                0                   0   \n",
       "\n",
       "   viewable_6066102  fraud_6065499  HI_Quote_320052  HI_Sales_320053  \n",
       "0                 0              0                1                0  \n",
       "1                 0              0                1                0  \n",
       "2                 0              0                1                0  \n",
       "3                 0              0                1                0  \n",
       "4                 0              0                1                0  \n",
       "\n",
       "[5 rows x 22 columns]"
      ]
     },
     "execution_count": 118,
     "metadata": {},
     "output_type": "execute_result"
    }
   ],
   "source": [
    "activity2.head()"
   ]
  },
  {
   "cell_type": "code",
   "execution_count": 122,
   "metadata": {},
   "outputs": [
    {
     "data": {
      "text/plain": [
       "0.7403115043349116"
      ]
     },
     "execution_count": 122,
     "metadata": {},
     "output_type": "execute_result"
    }
   ],
   "source": [
    "activity2.viewable_6066102.sum()/activity2.measurable_6060602.sum()"
   ]
  },
  {
   "cell_type": "code",
   "execution_count": 123,
   "metadata": {},
   "outputs": [
    {
     "data": {
      "text/plain": [
       "0.5640608889907206"
      ]
     },
     "execution_count": 123,
     "metadata": {},
     "output_type": "execute_result"
    }
   ],
   "source": [
    "activity2.measurable_6060602.sum()/len(activity2.viewable_6066102)"
   ]
  },
  {
   "cell_type": "code",
   "execution_count": 141,
   "metadata": {},
   "outputs": [],
   "source": [
    "activity2.pivot_table(index=\"Event_User\", values=[\"measurable_6060602\",\"viewable_6066102\", \"HI_Sales_320053\", \"HI_Quote_320052\"], aggfunc=np.sum).sort_values(\"HI_Quote_320052\", ascending=False).to_csv(\"C:\\\\Users\\\\ylin\\\\Desktop\\\\ias file\\\\\"+\"ias stats.csv\")"
   ]
  },
  {
   "cell_type": "code",
   "execution_count": 143,
   "metadata": {},
   "outputs": [
    {
     "data": {
      "text/plain": [
       "Index(['Event_User', 'Event_Time', 'User_ID', 'Advertiser_ID', 'Campaign_ID',\n",
       "       'Site_ID_DCM', 'Placement_ID', 'Activity_ID', 'DBM_Device_Type',\n",
       "       'DBM_Advertiser_ID', 'DBM_Attributed_Inventory_Source_Is_Public',\n",
       "       'DBM_Auction_ID', 'DBM_Insertion_Order_ID', 'DBM_Line_Item_ID',\n",
       "       'Total_Conversions', 'Total_Revenue', 'DBM_Revenue_Advertiser_Currency',\n",
       "       'measurable_6060602', 'viewable_6066102', 'fraud_6065499',\n",
       "       'HI_Quote_320052', 'HI_Sales_320053'],\n",
       "      dtype='object')"
      ]
     },
     "execution_count": 143,
     "metadata": {},
     "output_type": "execute_result"
    }
   ],
   "source": [
    "activity2.columns"
   ]
  },
  {
   "cell_type": "markdown",
   "metadata": {},
   "source": [
    "---"
   ]
  },
  {
   "cell_type": "code",
   "execution_count": 279,
   "metadata": {},
   "outputs": [
    {
     "name": "stderr",
     "output_type": "stream",
     "text": [
      "C:\\Users\\ylin\\AppData\\Local\\Continuum\\Anaconda3\\lib\\site-packages\\IPython\\core\\interactiveshell.py:2717: DtypeWarning: Columns (10,37,38,39,40,45,47,48,51,53,56) have mixed types. Specify dtype option on import or set low_memory=False.\n",
      "  interactivity=interactivity, compiler=compiler, result=result)\n"
     ]
    }
   ],
   "source": [
    "oactivity = pd.read_csv(\"C:\\\\Users\\\\ylin\\\\Desktop\\\\ias file\\\\original_activity.csv\")"
   ]
  },
  {
   "cell_type": "code",
   "execution_count": 280,
   "metadata": {},
   "outputs": [],
   "source": [
    "oactivity[\"cTime\"] = pd.to_datetime(oactivity[\"Event_Time\"])"
   ]
  },
  {
   "cell_type": "code",
   "execution_count": 281,
   "metadata": {},
   "outputs": [],
   "source": [
    "oactivity[\"cTime\"] = oactivity[\"cTime\"].astype(\"str\")"
   ]
  },
  {
   "cell_type": "code",
   "execution_count": 282,
   "metadata": {},
   "outputs": [],
   "source": [
    "oactivity.cTime = oactivity.cTime.str[:20]"
   ]
  },
  {
   "cell_type": "code",
   "execution_count": 283,
   "metadata": {},
   "outputs": [],
   "source": [
    "oactivity[\"Event_User\"] = oactivity.cTime + \"_\" + oactivity.User_ID"
   ]
  },
  {
   "cell_type": "code",
   "execution_count": 284,
   "metadata": {},
   "outputs": [
    {
     "data": {
      "text/html": [
       "<div>\n",
       "<style>\n",
       "    .dataframe thead tr:only-child th {\n",
       "        text-align: right;\n",
       "    }\n",
       "\n",
       "    .dataframe thead th {\n",
       "        text-align: left;\n",
       "    }\n",
       "\n",
       "    .dataframe tbody tr th {\n",
       "        vertical-align: top;\n",
       "    }\n",
       "</style>\n",
       "<table border=\"1\" class=\"dataframe\">\n",
       "  <thead>\n",
       "    <tr style=\"text-align: right;\">\n",
       "      <th></th>\n",
       "      <th>Event_Time</th>\n",
       "      <th>User_ID</th>\n",
       "      <th>Advertiser_ID</th>\n",
       "      <th>Campaign_ID</th>\n",
       "      <th>Ad_ID</th>\n",
       "      <th>Rendering_ID</th>\n",
       "      <th>Creative_Version</th>\n",
       "      <th>Site_ID_DCM</th>\n",
       "      <th>Placement_ID</th>\n",
       "      <th>Country_Code</th>\n",
       "      <th>...</th>\n",
       "      <th>DBM_Media_Fee_4_USD</th>\n",
       "      <th>DBM_Media_Fee_5_Advertiser_Currency</th>\n",
       "      <th>DBM_Media_Fee_5_Partner_Currency</th>\n",
       "      <th>DBM_Media_Fee_5_USD</th>\n",
       "      <th>DBM_Media_Cost_Advertiser_Currency</th>\n",
       "      <th>DBM_Media_Cost_Partner_Currency</th>\n",
       "      <th>DBM_Media_Cost_USD</th>\n",
       "      <th>Country_ID</th>\n",
       "      <th>cTime</th>\n",
       "      <th>Event_User</th>\n",
       "    </tr>\n",
       "  </thead>\n",
       "  <tbody>\n",
       "    <tr>\n",
       "      <th>0</th>\n",
       "      <td>1507279103422175</td>\n",
       "      <td>AMsySZYm0qlBhhrKuveCqplzoFG8</td>\n",
       "      <td>1268443</td>\n",
       "      <td>20334041</td>\n",
       "      <td>405784226</td>\n",
       "      <td>74877651</td>\n",
       "      <td>2</td>\n",
       "      <td>984668</td>\n",
       "      <td>205748492</td>\n",
       "      <td>UK</td>\n",
       "      <td>...</td>\n",
       "      <td>0</td>\n",
       "      <td>0</td>\n",
       "      <td>0</td>\n",
       "      <td>0</td>\n",
       "      <td>0</td>\n",
       "      <td>0</td>\n",
       "      <td>0</td>\n",
       "      <td>NaN</td>\n",
       "      <td>1970-01-18 10:41:19.</td>\n",
       "      <td>1970-01-18 10:41:19._AMsySZYm0qlBhhrKuveCqplzoFG8</td>\n",
       "    </tr>\n",
       "    <tr>\n",
       "      <th>1</th>\n",
       "      <td>1508834251029799</td>\n",
       "      <td>AMsySZZAnhAEoB2YCKFOT6LI1DzU</td>\n",
       "      <td>1268443</td>\n",
       "      <td>20334041</td>\n",
       "      <td>405784226</td>\n",
       "      <td>74877651</td>\n",
       "      <td>2</td>\n",
       "      <td>984668</td>\n",
       "      <td>205748492</td>\n",
       "      <td>UK</td>\n",
       "      <td>...</td>\n",
       "      <td>0</td>\n",
       "      <td>0</td>\n",
       "      <td>0</td>\n",
       "      <td>0</td>\n",
       "      <td>0</td>\n",
       "      <td>0</td>\n",
       "      <td>0</td>\n",
       "      <td>NaN</td>\n",
       "      <td>1970-01-18 11:07:14.</td>\n",
       "      <td>1970-01-18 11:07:14._AMsySZZAnhAEoB2YCKFOT6LI1DzU</td>\n",
       "    </tr>\n",
       "    <tr>\n",
       "      <th>2</th>\n",
       "      <td>1509100517621317</td>\n",
       "      <td>AMsySZbb2LWaWJoOnzFBU2tSiF5x</td>\n",
       "      <td>1268443</td>\n",
       "      <td>20334041</td>\n",
       "      <td>405784226</td>\n",
       "      <td>74877651</td>\n",
       "      <td>2</td>\n",
       "      <td>984668</td>\n",
       "      <td>205748492</td>\n",
       "      <td>UK</td>\n",
       "      <td>...</td>\n",
       "      <td>0</td>\n",
       "      <td>0</td>\n",
       "      <td>0</td>\n",
       "      <td>0</td>\n",
       "      <td>0</td>\n",
       "      <td>0</td>\n",
       "      <td>0</td>\n",
       "      <td>NaN</td>\n",
       "      <td>1970-01-18 11:11:40.</td>\n",
       "      <td>1970-01-18 11:11:40._AMsySZbb2LWaWJoOnzFBU2tSiF5x</td>\n",
       "    </tr>\n",
       "    <tr>\n",
       "      <th>3</th>\n",
       "      <td>1508937850041742</td>\n",
       "      <td>AMsySZawbOkGD6PbMbUBjeMgZHXW</td>\n",
       "      <td>1268443</td>\n",
       "      <td>20334041</td>\n",
       "      <td>405784247</td>\n",
       "      <td>74877651</td>\n",
       "      <td>2</td>\n",
       "      <td>984668</td>\n",
       "      <td>205802572</td>\n",
       "      <td>UK</td>\n",
       "      <td>...</td>\n",
       "      <td>0</td>\n",
       "      <td>0</td>\n",
       "      <td>0</td>\n",
       "      <td>0</td>\n",
       "      <td>0</td>\n",
       "      <td>0</td>\n",
       "      <td>0</td>\n",
       "      <td>NaN</td>\n",
       "      <td>1970-01-18 11:08:57.</td>\n",
       "      <td>1970-01-18 11:08:57._AMsySZawbOkGD6PbMbUBjeMgZHXW</td>\n",
       "    </tr>\n",
       "    <tr>\n",
       "      <th>4</th>\n",
       "      <td>1507278946575818</td>\n",
       "      <td>AMsySZYneWxiAIk3BHjs6qzsOq_D</td>\n",
       "      <td>1268443</td>\n",
       "      <td>20334041</td>\n",
       "      <td>405784247</td>\n",
       "      <td>74877651</td>\n",
       "      <td>2</td>\n",
       "      <td>984668</td>\n",
       "      <td>205802572</td>\n",
       "      <td>UK</td>\n",
       "      <td>...</td>\n",
       "      <td>0</td>\n",
       "      <td>0</td>\n",
       "      <td>0</td>\n",
       "      <td>0</td>\n",
       "      <td>0</td>\n",
       "      <td>0</td>\n",
       "      <td>0</td>\n",
       "      <td>NaN</td>\n",
       "      <td>1970-01-18 10:41:18.</td>\n",
       "      <td>1970-01-18 10:41:18._AMsySZYneWxiAIk3BHjs6qzsOq_D</td>\n",
       "    </tr>\n",
       "  </tbody>\n",
       "</table>\n",
       "<p>5 rows × 108 columns</p>\n",
       "</div>"
      ],
      "text/plain": [
       "         Event_Time                       User_ID  Advertiser_ID  Campaign_ID  \\\n",
       "0  1507279103422175  AMsySZYm0qlBhhrKuveCqplzoFG8        1268443     20334041   \n",
       "1  1508834251029799  AMsySZZAnhAEoB2YCKFOT6LI1DzU        1268443     20334041   \n",
       "2  1509100517621317  AMsySZbb2LWaWJoOnzFBU2tSiF5x        1268443     20334041   \n",
       "3  1508937850041742  AMsySZawbOkGD6PbMbUBjeMgZHXW        1268443     20334041   \n",
       "4  1507278946575818  AMsySZYneWxiAIk3BHjs6qzsOq_D        1268443     20334041   \n",
       "\n",
       "       Ad_ID  Rendering_ID  Creative_Version  Site_ID_DCM  Placement_ID  \\\n",
       "0  405784226      74877651                 2       984668     205748492   \n",
       "1  405784226      74877651                 2       984668     205748492   \n",
       "2  405784226      74877651                 2       984668     205748492   \n",
       "3  405784247      74877651                 2       984668     205802572   \n",
       "4  405784247      74877651                 2       984668     205802572   \n",
       "\n",
       "  Country_Code                        ...                          \\\n",
       "0           UK                        ...                           \n",
       "1           UK                        ...                           \n",
       "2           UK                        ...                           \n",
       "3           UK                        ...                           \n",
       "4           UK                        ...                           \n",
       "\n",
       "  DBM_Media_Fee_4_USD  DBM_Media_Fee_5_Advertiser_Currency  \\\n",
       "0                   0                                    0   \n",
       "1                   0                                    0   \n",
       "2                   0                                    0   \n",
       "3                   0                                    0   \n",
       "4                   0                                    0   \n",
       "\n",
       "   DBM_Media_Fee_5_Partner_Currency  DBM_Media_Fee_5_USD  \\\n",
       "0                                 0                    0   \n",
       "1                                 0                    0   \n",
       "2                                 0                    0   \n",
       "3                                 0                    0   \n",
       "4                                 0                    0   \n",
       "\n",
       "   DBM_Media_Cost_Advertiser_Currency  DBM_Media_Cost_Partner_Currency  \\\n",
       "0                                   0                                0   \n",
       "1                                   0                                0   \n",
       "2                                   0                                0   \n",
       "3                                   0                                0   \n",
       "4                                   0                                0   \n",
       "\n",
       "  DBM_Media_Cost_USD Country_ID                 cTime  \\\n",
       "0                  0        NaN  1970-01-18 10:41:19.   \n",
       "1                  0        NaN  1970-01-18 11:07:14.   \n",
       "2                  0        NaN  1970-01-18 11:11:40.   \n",
       "3                  0        NaN  1970-01-18 11:08:57.   \n",
       "4                  0        NaN  1970-01-18 10:41:18.   \n",
       "\n",
       "                                          Event_User  \n",
       "0  1970-01-18 10:41:19._AMsySZYm0qlBhhrKuveCqplzoFG8  \n",
       "1  1970-01-18 11:07:14._AMsySZZAnhAEoB2YCKFOT6LI1DzU  \n",
       "2  1970-01-18 11:11:40._AMsySZbb2LWaWJoOnzFBU2tSiF5x  \n",
       "3  1970-01-18 11:08:57._AMsySZawbOkGD6PbMbUBjeMgZHXW  \n",
       "4  1970-01-18 10:41:18._AMsySZYneWxiAIk3BHjs6qzsOq_D  \n",
       "\n",
       "[5 rows x 108 columns]"
      ]
     },
     "execution_count": 284,
     "metadata": {},
     "output_type": "execute_result"
    }
   ],
   "source": [
    "oactivity.head()"
   ]
  },
  {
   "cell_type": "code",
   "execution_count": 285,
   "metadata": {
    "collapsed": true
   },
   "outputs": [],
   "source": [
    "oactivity[\"measurable_6060602\"] = 0\n",
    "oactivity[\"viewable_6066102\"] = 0\n",
    "oactivity[\"fraud_6065499\"] = 0\n",
    "oactivity[\"HI_Quote_320052\"] = 0\n",
    "oactivity[\"HI_Sales_320053\"] = 0"
   ]
  },
  {
   "cell_type": "code",
   "execution_count": 286,
   "metadata": {
    "collapsed": true
   },
   "outputs": [],
   "source": [
    "oactivity.loc[oactivity.Activity_ID == 6060602, \"measurable_6060602\"] = 1\n",
    "oactivity.loc[oactivity.Activity_ID == 6066102, \"viewable_6066102\"] = 1\n",
    "oactivity.loc[oactivity.Activity_ID == 6065499, \"fraud_6065499\"] = 1\n",
    "oactivity.loc[oactivity.Activity_ID == 320052, \"HI_Quote_320052\"] = 1\n",
    "oactivity.loc[oactivity.Activity_ID == 320053, \"HI_Sales_320053\"] = 1"
   ]
  },
  {
   "cell_type": "code",
   "execution_count": 287,
   "metadata": {},
   "outputs": [
    {
     "data": {
      "text/html": [
       "<div>\n",
       "<style>\n",
       "    .dataframe thead tr:only-child th {\n",
       "        text-align: right;\n",
       "    }\n",
       "\n",
       "    .dataframe thead th {\n",
       "        text-align: left;\n",
       "    }\n",
       "\n",
       "    .dataframe tbody tr th {\n",
       "        vertical-align: top;\n",
       "    }\n",
       "</style>\n",
       "<table border=\"1\" class=\"dataframe\">\n",
       "  <thead>\n",
       "    <tr style=\"text-align: right;\">\n",
       "      <th></th>\n",
       "      <th>Event_Time</th>\n",
       "      <th>User_ID</th>\n",
       "      <th>Advertiser_ID</th>\n",
       "      <th>Campaign_ID</th>\n",
       "      <th>Ad_ID</th>\n",
       "      <th>Rendering_ID</th>\n",
       "      <th>Creative_Version</th>\n",
       "      <th>Site_ID_DCM</th>\n",
       "      <th>Placement_ID</th>\n",
       "      <th>Country_Code</th>\n",
       "      <th>...</th>\n",
       "      <th>DBM_Media_Cost_Partner_Currency</th>\n",
       "      <th>DBM_Media_Cost_USD</th>\n",
       "      <th>Country_ID</th>\n",
       "      <th>cTime</th>\n",
       "      <th>Event_User</th>\n",
       "      <th>measurable_6060602</th>\n",
       "      <th>viewable_6066102</th>\n",
       "      <th>fraud_6065499</th>\n",
       "      <th>HI_Quote_320052</th>\n",
       "      <th>HI_Sales_320053</th>\n",
       "    </tr>\n",
       "  </thead>\n",
       "  <tbody>\n",
       "    <tr>\n",
       "      <th>0</th>\n",
       "      <td>1507279103422175</td>\n",
       "      <td>AMsySZYm0qlBhhrKuveCqplzoFG8</td>\n",
       "      <td>1268443</td>\n",
       "      <td>20334041</td>\n",
       "      <td>405784226</td>\n",
       "      <td>74877651</td>\n",
       "      <td>2</td>\n",
       "      <td>984668</td>\n",
       "      <td>205748492</td>\n",
       "      <td>UK</td>\n",
       "      <td>...</td>\n",
       "      <td>0</td>\n",
       "      <td>0</td>\n",
       "      <td>NaN</td>\n",
       "      <td>1970-01-18 10:41:19.</td>\n",
       "      <td>1970-01-18 10:41:19._AMsySZYm0qlBhhrKuveCqplzoFG8</td>\n",
       "      <td>0</td>\n",
       "      <td>0</td>\n",
       "      <td>0</td>\n",
       "      <td>1</td>\n",
       "      <td>0</td>\n",
       "    </tr>\n",
       "    <tr>\n",
       "      <th>1</th>\n",
       "      <td>1508834251029799</td>\n",
       "      <td>AMsySZZAnhAEoB2YCKFOT6LI1DzU</td>\n",
       "      <td>1268443</td>\n",
       "      <td>20334041</td>\n",
       "      <td>405784226</td>\n",
       "      <td>74877651</td>\n",
       "      <td>2</td>\n",
       "      <td>984668</td>\n",
       "      <td>205748492</td>\n",
       "      <td>UK</td>\n",
       "      <td>...</td>\n",
       "      <td>0</td>\n",
       "      <td>0</td>\n",
       "      <td>NaN</td>\n",
       "      <td>1970-01-18 11:07:14.</td>\n",
       "      <td>1970-01-18 11:07:14._AMsySZZAnhAEoB2YCKFOT6LI1DzU</td>\n",
       "      <td>0</td>\n",
       "      <td>0</td>\n",
       "      <td>0</td>\n",
       "      <td>1</td>\n",
       "      <td>0</td>\n",
       "    </tr>\n",
       "    <tr>\n",
       "      <th>2</th>\n",
       "      <td>1509100517621317</td>\n",
       "      <td>AMsySZbb2LWaWJoOnzFBU2tSiF5x</td>\n",
       "      <td>1268443</td>\n",
       "      <td>20334041</td>\n",
       "      <td>405784226</td>\n",
       "      <td>74877651</td>\n",
       "      <td>2</td>\n",
       "      <td>984668</td>\n",
       "      <td>205748492</td>\n",
       "      <td>UK</td>\n",
       "      <td>...</td>\n",
       "      <td>0</td>\n",
       "      <td>0</td>\n",
       "      <td>NaN</td>\n",
       "      <td>1970-01-18 11:11:40.</td>\n",
       "      <td>1970-01-18 11:11:40._AMsySZbb2LWaWJoOnzFBU2tSiF5x</td>\n",
       "      <td>0</td>\n",
       "      <td>0</td>\n",
       "      <td>0</td>\n",
       "      <td>1</td>\n",
       "      <td>0</td>\n",
       "    </tr>\n",
       "    <tr>\n",
       "      <th>3</th>\n",
       "      <td>1508937850041742</td>\n",
       "      <td>AMsySZawbOkGD6PbMbUBjeMgZHXW</td>\n",
       "      <td>1268443</td>\n",
       "      <td>20334041</td>\n",
       "      <td>405784247</td>\n",
       "      <td>74877651</td>\n",
       "      <td>2</td>\n",
       "      <td>984668</td>\n",
       "      <td>205802572</td>\n",
       "      <td>UK</td>\n",
       "      <td>...</td>\n",
       "      <td>0</td>\n",
       "      <td>0</td>\n",
       "      <td>NaN</td>\n",
       "      <td>1970-01-18 11:08:57.</td>\n",
       "      <td>1970-01-18 11:08:57._AMsySZawbOkGD6PbMbUBjeMgZHXW</td>\n",
       "      <td>0</td>\n",
       "      <td>0</td>\n",
       "      <td>0</td>\n",
       "      <td>1</td>\n",
       "      <td>0</td>\n",
       "    </tr>\n",
       "    <tr>\n",
       "      <th>4</th>\n",
       "      <td>1507278946575818</td>\n",
       "      <td>AMsySZYneWxiAIk3BHjs6qzsOq_D</td>\n",
       "      <td>1268443</td>\n",
       "      <td>20334041</td>\n",
       "      <td>405784247</td>\n",
       "      <td>74877651</td>\n",
       "      <td>2</td>\n",
       "      <td>984668</td>\n",
       "      <td>205802572</td>\n",
       "      <td>UK</td>\n",
       "      <td>...</td>\n",
       "      <td>0</td>\n",
       "      <td>0</td>\n",
       "      <td>NaN</td>\n",
       "      <td>1970-01-18 10:41:18.</td>\n",
       "      <td>1970-01-18 10:41:18._AMsySZYneWxiAIk3BHjs6qzsOq_D</td>\n",
       "      <td>0</td>\n",
       "      <td>0</td>\n",
       "      <td>0</td>\n",
       "      <td>1</td>\n",
       "      <td>0</td>\n",
       "    </tr>\n",
       "  </tbody>\n",
       "</table>\n",
       "<p>5 rows × 113 columns</p>\n",
       "</div>"
      ],
      "text/plain": [
       "         Event_Time                       User_ID  Advertiser_ID  Campaign_ID  \\\n",
       "0  1507279103422175  AMsySZYm0qlBhhrKuveCqplzoFG8        1268443     20334041   \n",
       "1  1508834251029799  AMsySZZAnhAEoB2YCKFOT6LI1DzU        1268443     20334041   \n",
       "2  1509100517621317  AMsySZbb2LWaWJoOnzFBU2tSiF5x        1268443     20334041   \n",
       "3  1508937850041742  AMsySZawbOkGD6PbMbUBjeMgZHXW        1268443     20334041   \n",
       "4  1507278946575818  AMsySZYneWxiAIk3BHjs6qzsOq_D        1268443     20334041   \n",
       "\n",
       "       Ad_ID  Rendering_ID  Creative_Version  Site_ID_DCM  Placement_ID  \\\n",
       "0  405784226      74877651                 2       984668     205748492   \n",
       "1  405784226      74877651                 2       984668     205748492   \n",
       "2  405784226      74877651                 2       984668     205748492   \n",
       "3  405784247      74877651                 2       984668     205802572   \n",
       "4  405784247      74877651                 2       984668     205802572   \n",
       "\n",
       "  Country_Code       ...        DBM_Media_Cost_Partner_Currency  \\\n",
       "0           UK       ...                                      0   \n",
       "1           UK       ...                                      0   \n",
       "2           UK       ...                                      0   \n",
       "3           UK       ...                                      0   \n",
       "4           UK       ...                                      0   \n",
       "\n",
       "   DBM_Media_Cost_USD  Country_ID                 cTime  \\\n",
       "0                   0         NaN  1970-01-18 10:41:19.   \n",
       "1                   0         NaN  1970-01-18 11:07:14.   \n",
       "2                   0         NaN  1970-01-18 11:11:40.   \n",
       "3                   0         NaN  1970-01-18 11:08:57.   \n",
       "4                   0         NaN  1970-01-18 10:41:18.   \n",
       "\n",
       "                                          Event_User  measurable_6060602  \\\n",
       "0  1970-01-18 10:41:19._AMsySZYm0qlBhhrKuveCqplzoFG8                   0   \n",
       "1  1970-01-18 11:07:14._AMsySZZAnhAEoB2YCKFOT6LI1DzU                   0   \n",
       "2  1970-01-18 11:11:40._AMsySZbb2LWaWJoOnzFBU2tSiF5x                   0   \n",
       "3  1970-01-18 11:08:57._AMsySZawbOkGD6PbMbUBjeMgZHXW                   0   \n",
       "4  1970-01-18 10:41:18._AMsySZYneWxiAIk3BHjs6qzsOq_D                   0   \n",
       "\n",
       "  viewable_6066102 fraud_6065499  HI_Quote_320052  HI_Sales_320053  \n",
       "0                0             0                1                0  \n",
       "1                0             0                1                0  \n",
       "2                0             0                1                0  \n",
       "3                0             0                1                0  \n",
       "4                0             0                1                0  \n",
       "\n",
       "[5 rows x 113 columns]"
      ]
     },
     "execution_count": 287,
     "metadata": {},
     "output_type": "execute_result"
    }
   ],
   "source": [
    "oactivity.head()"
   ]
  },
  {
   "cell_type": "code",
   "execution_count": 289,
   "metadata": {},
   "outputs": [],
   "source": [
    "oactivity.pivot_table(index=\"Event_User\", values=[\"measurable_6060602\",\"viewable_6066102\", \"HI_Sales_320053\", \"HI_Quote_320052\"], aggfunc=np.sum).sort_values(\"HI_Quote_320052\", ascending=False).to_csv(\"C:\\\\Users\\\\ylin\\\\Desktop\\\\ias file\\\\\"+\"ias stats.csv\")"
   ]
  },
  {
   "cell_type": "code",
   "execution_count": 252,
   "metadata": {},
   "outputs": [
    {
     "data": {
      "text/plain": [
       "Index(['Event_Time', 'User_ID', 'Advertiser_ID', 'Campaign_ID', 'Ad_ID',\n",
       "       'Rendering_ID', 'Creative_Version', 'Site_ID_DCM', 'Placement_ID',\n",
       "       'Country_Code',\n",
       "       ...\n",
       "       'DBM_Media_Cost_Partner_Currency', 'DBM_Media_Cost_USD', 'Country_ID',\n",
       "       'cTime', 'Event_User', 'measurable_6060602', 'viewable_6066102',\n",
       "       'fraud_6065499', 'HI_Quote_320052', 'HI_Sales_320053'],\n",
       "      dtype='object', length=113)"
      ]
     },
     "execution_count": 252,
     "metadata": {},
     "output_type": "execute_result"
    }
   ],
   "source": [
    "oactivity.columns"
   ]
  },
  {
   "cell_type": "code",
   "execution_count": 239,
   "metadata": {},
   "outputs": [
    {
     "data": {
      "text/plain": [
       "771"
      ]
     },
     "execution_count": 239,
     "metadata": {},
     "output_type": "execute_result"
    }
   ],
   "source": [
    "len(oactivity.DBM_Auction_ID.unique())"
   ]
  },
  {
   "cell_type": "code",
   "execution_count": 238,
   "metadata": {},
   "outputs": [
    {
     "data": {
      "text/plain": [
       "139664"
      ]
     },
     "execution_count": 238,
     "metadata": {},
     "output_type": "execute_result"
    }
   ],
   "source": [
    "len(oactivity.Event_User)"
   ]
  },
  {
   "cell_type": "code",
   "execution_count": null,
   "metadata": {
    "collapsed": true
   },
   "outputs": [],
   "source": [
    "oactivity.DBM_Insertion"
   ]
  }
 ],
 "metadata": {
  "kernelspec": {
   "display_name": "Python 3",
   "language": "python",
   "name": "python3"
  },
  "language_info": {
   "codemirror_mode": {
    "name": "ipython",
    "version": 3
   },
   "file_extension": ".py",
   "mimetype": "text/x-python",
   "name": "python",
   "nbconvert_exporter": "python",
   "pygments_lexer": "ipython3",
   "version": "3.6.1"
  }
 },
 "nbformat": 4,
 "nbformat_minor": 2
}
