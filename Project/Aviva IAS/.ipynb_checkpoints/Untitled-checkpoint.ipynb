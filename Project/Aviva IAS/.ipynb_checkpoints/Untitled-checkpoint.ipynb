{
 "cells": [
  {
   "cell_type": "code",
   "execution_count": 1,
   "metadata": {
    "collapsed": true
   },
   "outputs": [],
   "source": [
    "import pandas as pd\n",
    "import numpy as np"
   ]
  },
  {
   "cell_type": "code",
   "execution_count": 2,
   "metadata": {},
   "outputs": [
    {
     "name": "stderr",
     "output_type": "stream",
     "text": [
      "C:\\Users\\ylin\\AppData\\Local\\Continuum\\Anaconda3\\lib\\site-packages\\IPython\\core\\interactiveshell.py:2717: DtypeWarning: Columns (9,10) have mixed types. Specify dtype option on import or set low_memory=False.\n",
      "  interactivity=interactivity, compiler=compiler, result=result)\n"
     ]
    }
   ],
   "source": [
    "activity = pd.read_csv(\"C:\\\\Users\\\\ylin\\\\Desktop\\\\ias file\\\\activity.csv\")\n",
    "impression = pd.read_csv(\"C:\\\\Users\\\\ylin\\\\Desktop\\\\ias file\\\\impressions.csv\")"
   ]
  },
  {
   "cell_type": "code",
   "execution_count": 3,
   "metadata": {},
   "outputs": [
    {
     "data": {
      "text/plain": [
       "Index(['Event_Time', 'User_ID', 'Advertiser_ID', 'Campaign_ID', 'Site_ID_DCM',\n",
       "       'Placement_ID', 'Activity_ID', 'DBM_Device_Type', 'DBM_Advertiser_ID',\n",
       "       'DBM_Attributed_Inventory_Source_Is_Public', 'DBM_Auction_ID',\n",
       "       'DBM_Insertion_Order_ID', 'DBM_Line_Item_ID', 'Total_Conversions',\n",
       "       'Total_Revenue', 'DBM_Revenue_Advertiser_Currency'],\n",
       "      dtype='object')"
      ]
     },
     "execution_count": 3,
     "metadata": {},
     "output_type": "execute_result"
    }
   ],
   "source": [
    "activity.columns"
   ]
  },
  {
   "cell_type": "code",
   "execution_count": 4,
   "metadata": {},
   "outputs": [
    {
     "data": {
      "text/plain": [
       "139664"
      ]
     },
     "execution_count": 4,
     "metadata": {},
     "output_type": "execute_result"
    }
   ],
   "source": [
    "activity.User_ID.count()"
   ]
  },
  {
   "cell_type": "code",
   "execution_count": 5,
   "metadata": {},
   "outputs": [
    {
     "data": {
      "text/plain": [
       "632678"
      ]
     },
     "execution_count": 5,
     "metadata": {},
     "output_type": "execute_result"
    }
   ],
   "source": [
    "impression.User_ID.count()"
   ]
  },
  {
   "cell_type": "code",
   "execution_count": 6,
   "metadata": {},
   "outputs": [
    {
     "data": {
      "text/plain": [
       "364785"
      ]
     },
     "execution_count": 6,
     "metadata": {},
     "output_type": "execute_result"
    }
   ],
   "source": [
    "impression.User_ID[impression.DBM_Insertion_Order_ID == 3863579].count()"
   ]
  },
  {
   "cell_type": "code",
   "execution_count": 7,
   "metadata": {},
   "outputs": [
    {
     "data": {
      "text/plain": [
       "Index(['Event_Time', 'User_ID', 'Advertiser_ID', 'Campaign_ID', 'Site_ID_DCM',\n",
       "       'Placement_ID', 'Activity_ID', 'DBM_Device_Type', 'DBM_Advertiser_ID',\n",
       "       'DBM_Attributed_Inventory_Source_Is_Public', 'DBM_Auction_ID',\n",
       "       'DBM_Insertion_Order_ID', 'DBM_Line_Item_ID', 'Total_Conversions',\n",
       "       'Total_Revenue', 'DBM_Revenue_Advertiser_Currency'],\n",
       "      dtype='object')"
      ]
     },
     "execution_count": 7,
     "metadata": {},
     "output_type": "execute_result"
    }
   ],
   "source": [
    "activity.columns"
   ]
  },
  {
   "cell_type": "code",
   "execution_count": 8,
   "metadata": {},
   "outputs": [
    {
     "data": {
      "text/plain": [
       "array([ 320052,  320053,  320216,  320217, 6060602, 6065499, 6066102], dtype=int64)"
      ]
     },
     "execution_count": 8,
     "metadata": {},
     "output_type": "execute_result"
    }
   ],
   "source": [
    "activity.Activity_ID.unique()"
   ]
  },
  {
   "cell_type": "code",
   "execution_count": 9,
   "metadata": {},
   "outputs": [
    {
     "data": {
      "text/plain": [
       "array([ 3863580.,  3863579.,       nan])"
      ]
     },
     "execution_count": 9,
     "metadata": {},
     "output_type": "execute_result"
    }
   ],
   "source": [
    "activity['DBM_Insertion_Order_ID'].unique()"
   ]
  },
  {
   "cell_type": "code",
   "execution_count": 10,
   "metadata": {},
   "outputs": [
    {
     "data": {
      "text/plain": [
       "array([3863580, 3863579], dtype=int64)"
      ]
     },
     "execution_count": 10,
     "metadata": {},
     "output_type": "execute_result"
    }
   ],
   "source": [
    "impression['DBM_Insertion_Order_ID'].unique()"
   ]
  },
  {
   "cell_type": "code",
   "execution_count": 11,
   "metadata": {},
   "outputs": [
    {
     "data": {
      "text/plain": [
       "771"
      ]
     },
     "execution_count": 11,
     "metadata": {},
     "output_type": "execute_result"
    }
   ],
   "source": [
    "len(activity.DBM_Auction_ID.unique())"
   ]
  },
  {
   "cell_type": "code",
   "execution_count": 12,
   "metadata": {},
   "outputs": [
    {
     "data": {
      "text/plain": [
       "139664"
      ]
     },
     "execution_count": 12,
     "metadata": {},
     "output_type": "execute_result"
    }
   ],
   "source": [
    "len(activity.DBM_Auction_ID)"
   ]
  },
  {
   "cell_type": "markdown",
   "metadata": {},
   "source": [
    "---"
   ]
  },
  {
   "cell_type": "code",
   "execution_count": 65,
   "metadata": {},
   "outputs": [],
   "source": [
    "activity2 = pd.read_csv(\"C:\\\\Users\\\\ylin\\\\Desktop\\\\ias file\\\\activity_2.csv\")\n",
    "impression2 = pd.read_csv(\"C:\\\\Users\\\\ylin\\\\Desktop\\\\ias file\\\\impressions_2.csv\")"
   ]
  },
  {
   "cell_type": "code",
   "execution_count": 33,
   "metadata": {},
   "outputs": [
    {
     "data": {
      "text/html": [
       "<div>\n",
       "<style>\n",
       "    .dataframe thead tr:only-child th {\n",
       "        text-align: right;\n",
       "    }\n",
       "\n",
       "    .dataframe thead th {\n",
       "        text-align: left;\n",
       "    }\n",
       "\n",
       "    .dataframe tbody tr th {\n",
       "        vertical-align: top;\n",
       "    }\n",
       "</style>\n",
       "<table border=\"1\" class=\"dataframe\">\n",
       "  <thead>\n",
       "    <tr style=\"text-align: right;\">\n",
       "      <th></th>\n",
       "      <th></th>\n",
       "      <th>Site_ID_DCM</th>\n",
       "    </tr>\n",
       "    <tr>\n",
       "      <th>Activity_ID</th>\n",
       "      <th>Placement_ID</th>\n",
       "      <th></th>\n",
       "    </tr>\n",
       "  </thead>\n",
       "  <tbody>\n",
       "    <tr>\n",
       "      <th rowspan=\"12\" valign=\"top\">6060602</th>\n",
       "      <th>205748492</th>\n",
       "      <td>13424</td>\n",
       "    </tr>\n",
       "    <tr>\n",
       "      <th>205748495</th>\n",
       "      <td>1941</td>\n",
       "    </tr>\n",
       "    <tr>\n",
       "      <th>205800991</th>\n",
       "      <td>6796</td>\n",
       "    </tr>\n",
       "    <tr>\n",
       "      <th>205800997</th>\n",
       "      <td>3189</td>\n",
       "    </tr>\n",
       "    <tr>\n",
       "      <th>205801000</th>\n",
       "      <td>3996</td>\n",
       "    </tr>\n",
       "    <tr>\n",
       "      <th>205802110</th>\n",
       "      <td>2329</td>\n",
       "    </tr>\n",
       "    <tr>\n",
       "      <th>205802569</th>\n",
       "      <td>6174</td>\n",
       "    </tr>\n",
       "    <tr>\n",
       "      <th>205802572</th>\n",
       "      <td>11201</td>\n",
       "    </tr>\n",
       "    <tr>\n",
       "      <th>205802575</th>\n",
       "      <td>14169</td>\n",
       "    </tr>\n",
       "    <tr>\n",
       "      <th>205803697</th>\n",
       "      <td>4554</td>\n",
       "    </tr>\n",
       "    <tr>\n",
       "      <th>205803703</th>\n",
       "      <td>8074</td>\n",
       "    </tr>\n",
       "    <tr>\n",
       "      <th>205803706</th>\n",
       "      <td>2932</td>\n",
       "    </tr>\n",
       "    <tr>\n",
       "      <th rowspan=\"12\" valign=\"top\">6065499</th>\n",
       "      <th>205748492</th>\n",
       "      <td>45</td>\n",
       "    </tr>\n",
       "    <tr>\n",
       "      <th>205748495</th>\n",
       "      <td>1</td>\n",
       "    </tr>\n",
       "    <tr>\n",
       "      <th>205800991</th>\n",
       "      <td>23</td>\n",
       "    </tr>\n",
       "    <tr>\n",
       "      <th>205800997</th>\n",
       "      <td>15</td>\n",
       "    </tr>\n",
       "    <tr>\n",
       "      <th>205801000</th>\n",
       "      <td>7</td>\n",
       "    </tr>\n",
       "    <tr>\n",
       "      <th>205802110</th>\n",
       "      <td>6</td>\n",
       "    </tr>\n",
       "    <tr>\n",
       "      <th>205802569</th>\n",
       "      <td>29</td>\n",
       "    </tr>\n",
       "    <tr>\n",
       "      <th>205802572</th>\n",
       "      <td>40</td>\n",
       "    </tr>\n",
       "    <tr>\n",
       "      <th>205802575</th>\n",
       "      <td>71</td>\n",
       "    </tr>\n",
       "    <tr>\n",
       "      <th>205803697</th>\n",
       "      <td>12</td>\n",
       "    </tr>\n",
       "    <tr>\n",
       "      <th>205803703</th>\n",
       "      <td>28</td>\n",
       "    </tr>\n",
       "    <tr>\n",
       "      <th>205803706</th>\n",
       "      <td>17</td>\n",
       "    </tr>\n",
       "    <tr>\n",
       "      <th rowspan=\"12\" valign=\"top\">6066102</th>\n",
       "      <th>205748492</th>\n",
       "      <td>10278</td>\n",
       "    </tr>\n",
       "    <tr>\n",
       "      <th>205748495</th>\n",
       "      <td>1436</td>\n",
       "    </tr>\n",
       "    <tr>\n",
       "      <th>205800991</th>\n",
       "      <td>4766</td>\n",
       "    </tr>\n",
       "    <tr>\n",
       "      <th>205800997</th>\n",
       "      <td>2456</td>\n",
       "    </tr>\n",
       "    <tr>\n",
       "      <th>205801000</th>\n",
       "      <td>3170</td>\n",
       "    </tr>\n",
       "    <tr>\n",
       "      <th>205802110</th>\n",
       "      <td>1678</td>\n",
       "    </tr>\n",
       "    <tr>\n",
       "      <th>205802569</th>\n",
       "      <td>4171</td>\n",
       "    </tr>\n",
       "    <tr>\n",
       "      <th>205802572</th>\n",
       "      <td>8142</td>\n",
       "    </tr>\n",
       "    <tr>\n",
       "      <th>205802575</th>\n",
       "      <td>10632</td>\n",
       "    </tr>\n",
       "    <tr>\n",
       "      <th>205803697</th>\n",
       "      <td>3745</td>\n",
       "    </tr>\n",
       "    <tr>\n",
       "      <th>205803703</th>\n",
       "      <td>5650</td>\n",
       "    </tr>\n",
       "    <tr>\n",
       "      <th>205803706</th>\n",
       "      <td>2197</td>\n",
       "    </tr>\n",
       "  </tbody>\n",
       "</table>\n",
       "</div>"
      ],
      "text/plain": [
       "                          Site_ID_DCM\n",
       "Activity_ID Placement_ID             \n",
       "6060602     205748492           13424\n",
       "            205748495            1941\n",
       "            205800991            6796\n",
       "            205800997            3189\n",
       "            205801000            3996\n",
       "            205802110            2329\n",
       "            205802569            6174\n",
       "            205802572           11201\n",
       "            205802575           14169\n",
       "            205803697            4554\n",
       "            205803703            8074\n",
       "            205803706            2932\n",
       "6065499     205748492              45\n",
       "            205748495               1\n",
       "            205800991              23\n",
       "            205800997              15\n",
       "            205801000               7\n",
       "            205802110               6\n",
       "            205802569              29\n",
       "            205802572              40\n",
       "            205802575              71\n",
       "            205803697              12\n",
       "            205803703              28\n",
       "            205803706              17\n",
       "6066102     205748492           10278\n",
       "            205748495            1436\n",
       "            205800991            4766\n",
       "            205800997            2456\n",
       "            205801000            3170\n",
       "            205802110            1678\n",
       "            205802569            4171\n",
       "            205802572            8142\n",
       "            205802575           10632\n",
       "            205803697            3745\n",
       "            205803703            5650\n",
       "            205803706            2197"
      ]
     },
     "execution_count": 33,
     "metadata": {},
     "output_type": "execute_result"
    }
   ],
   "source": [
    "activity2[activity2.Activity_ID.isin([6060602, 6065499, 6066102])].pivot_table(values=\"Site_ID_DCM\", index=[\"Activity_ID\", \"Placement_ID\"], aggfunc=\"count\")"
   ]
  },
  {
   "cell_type": "code",
   "execution_count": 37,
   "metadata": {},
   "outputs": [
    {
     "data": {
      "text/plain": [
       "Index(['Event_User', 'Event_Time', 'User_ID', 'Advertiser_ID', 'Campaign_ID',\n",
       "       'Site_ID_DCM', 'Placement_ID', 'Activity_ID', 'DBM_Device_Type',\n",
       "       'DBM_Advertiser_ID', 'DBM_Attributed_Inventory_Source_Is_Public',\n",
       "       'DBM_Auction_ID', 'DBM_Insertion_Order_ID', 'DBM_Line_Item_ID',\n",
       "       'Total_Conversions', 'Total_Revenue',\n",
       "       'DBM_Revenue_Advertiser_Currency'],\n",
       "      dtype='object')"
      ]
     },
     "execution_count": 37,
     "metadata": {},
     "output_type": "execute_result"
    }
   ],
   "source": [
    "activity2.columns"
   ]
  },
  {
   "cell_type": "code",
   "execution_count": 56,
   "metadata": {},
   "outputs": [
    {
     "data": {
      "text/plain": [
       "array([ 320052,  320053,  320216,  320217, 6066102, 6060602, 6065499], dtype=int64)"
      ]
     },
     "execution_count": 56,
     "metadata": {},
     "output_type": "execute_result"
    }
   ],
   "source": [
    "activity2.Activity_ID.unique()"
   ]
  },
  {
   "cell_type": "code",
   "execution_count": 67,
   "metadata": {},
   "outputs": [],
   "source": [
    "activity2[\"measurable_6060602\"] = 0\n",
    "activity2[\"viewa_ble_6066102\"] = 0\n",
    "activity2[\"fraud6065499\"] = 0\n",
    "activity2[\"HI_Quote_320052\"] = 0\n",
    "activity2[\"HI_Sales_320053\"] = 0"
   ]
  },
  {
   "cell_type": "code",
   "execution_count": 68,
   "metadata": {},
   "outputs": [],
   "source": [
    "activity2.loc[activity2.Activity_ID == 6060602, \"measurable_6060602\"] = 1\n",
    "activity2.loc[activity2.Activity_ID == 6066102, \"viewable_6066102\"] = 1\n",
    "activity2.loc[activity2.Activity_ID == 6065499, \"fraud_6065499\"] = 1\n",
    "activity2.loc[activity2.Activity_ID == 320052, \"HI_Quote_320052\"] = 1\n",
    "activity2.loc[activity2.Activity_ID == 320053, \"HI_Sales_320053\"] = 1"
   ]
  },
  {
   "cell_type": "code",
   "execution_count": 69,
   "metadata": {},
   "outputs": [
    {
     "data": {
      "text/plain": [
       "Index(['Event_User', 'Event_Time', 'User_ID', 'Advertiser_ID', 'Campaign_ID',\n",
       "       'Site_ID_DCM', 'Placement_ID', 'Activity_ID', 'DBM_Device_Type',\n",
       "       'DBM_Advertiser_ID', 'DBM_Attributed_Inventory_Source_Is_Public',\n",
       "       'DBM_Auction_ID', 'DBM_Insertion_Order_ID', 'DBM_Line_Item_ID',\n",
       "       'Total_Conversions', 'Total_Revenue', 'DBM_Revenue_Advertiser_Currency',\n",
       "       'measurable_6060602', 'viewa_ble_6066102', 'fraud6065499',\n",
       "       'HI_Quote_320052', 'HI_Sales_320053', 'viewable_6066102',\n",
       "       'fraud_6065499'],\n",
       "      dtype='object')"
      ]
     },
     "execution_count": 69,
     "metadata": {},
     "output_type": "execute_result"
    }
   ],
   "source": [
    "activity2.columns"
   ]
  },
  {
   "cell_type": "code",
   "execution_count": 75,
   "metadata": {},
   "outputs": [
    {
     "data": {
      "text/plain": [
       "58321.0"
      ]
     },
     "execution_count": 75,
     "metadata": {},
     "output_type": "execute_result"
    }
   ],
   "source": [
    "activity2.viewable_6066102.sum()"
   ]
  },
  {
   "cell_type": "code",
   "execution_count": 78,
   "metadata": {},
   "outputs": [
    {
     "data": {
      "text/plain": [
       "78779"
      ]
     },
     "execution_count": 78,
     "metadata": {},
     "output_type": "execute_result"
    }
   ],
   "source": [
    "activity2.measurable_6060602.sum()"
   ]
  },
  {
   "cell_type": "code",
   "execution_count": 79,
   "metadata": {},
   "outputs": [
    {
     "data": {
      "text/plain": [
       "139664"
      ]
     },
     "execution_count": 79,
     "metadata": {},
     "output_type": "execute_result"
    }
   ],
   "source": [
    "len(activity2.viewable_6066102)"
   ]
  },
  {
   "cell_type": "code",
   "execution_count": null,
   "metadata": {
    "collapsed": true
   },
   "outputs": [],
   "source": []
  }
 ],
 "metadata": {
  "kernelspec": {
   "display_name": "Python 3",
   "language": "python",
   "name": "python3"
  },
  "language_info": {
   "codemirror_mode": {
    "name": "ipython",
    "version": 3
   },
   "file_extension": ".py",
   "mimetype": "text/x-python",
   "name": "python",
   "nbconvert_exporter": "python",
   "pygments_lexer": "ipython3",
   "version": "3.6.1"
  }
 },
 "nbformat": 4,
 "nbformat_minor": 2
}
