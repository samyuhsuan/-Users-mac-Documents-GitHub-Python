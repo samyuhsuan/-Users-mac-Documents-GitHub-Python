{
 "cells": [
  {
   "cell_type": "code",
   "execution_count": 216,
   "metadata": {
    "collapsed": false
   },
   "outputs": [],
   "source": [
    "import pandas as pd\n",
    "import numpy as np\n",
    "import glob"
   ]
  },
  {
   "cell_type": "code",
   "execution_count": 217,
   "metadata": {
    "collapsed": false
   },
   "outputs": [],
   "source": [
    "zo = pd.DataFrame()\n",
    "for file in glob.glob(\"dbm*.csv\"):\n",
    "    df = pd.read_csv(file)\n",
    "    zo = zo.append(df, ignore_index=True)"
   ]
  },
  {
   "cell_type": "code",
   "execution_count": 218,
   "metadata": {
    "collapsed": false
   },
   "outputs": [],
   "source": [
    "dbm = pd.DataFrame()\n",
    "for file in glob.glob(\"att*.csv\"):\n",
    "    df = pd.read_csv(file, skipinitialspace=True, \n",
    "            usecols=[\"Insertion Order\", \"Insertion Order ID\", \"Line Item\", \"Line Item ID\", \"Revenue (Adv Currency)\"])\n",
    "    dbm = dbm.append(df, ignore_index=True)"
   ]
  },
  {
   "cell_type": "code",
   "execution_count": 219,
   "metadata": {
    "collapsed": false
   },
   "outputs": [],
   "source": [
    "IOIDmap = pd.read_csv(\"map.csv\", usecols=[\"IOID\", \"IOName\", \"Targeting\"])"
   ]
  },
  {
   "cell_type": "code",
   "execution_count": 220,
   "metadata": {
    "collapsed": false
   },
   "outputs": [],
   "source": [
    "dbm.columns = [\"IO\", \"IOID\", \"LI\", \"LIID\", \"Spend\"]"
   ]
  },
  {
   "cell_type": "code",
   "execution_count": 221,
   "metadata": {
    "collapsed": false
   },
   "outputs": [],
   "source": [
    "dbm = dbm.drop(dbm.index[dbm.tail(5).index.values])\n",
    "dbm = dbm.loc[dbm.LI.isnull() == False]"
   ]
  },
  {
   "cell_type": "code",
   "execution_count": 222,
   "metadata": {
    "collapsed": false
   },
   "outputs": [],
   "source": [
    "dbm.IOID = dbm.IOID.astype(\"int64\")\n",
    "dbm.LIID = dbm.LIID.astype(\"int64\")"
   ]
  },
  {
   "cell_type": "code",
   "execution_count": 223,
   "metadata": {
    "collapsed": false
   },
   "outputs": [],
   "source": [
    "#pd.DataFrame(dbm.IOID.unique(), columns=[\"uniqueIOID\"]).to_csv(\n",
    "#    \"D:\\\\Users\\\\ylin\\\\Desktop\\\\Aviva ATT output\\\\\"+\"uniqueIOID.csv\", index=False)"
   ]
  },
  {
   "cell_type": "code",
   "execution_count": 224,
   "metadata": {
    "collapsed": false
   },
   "outputs": [],
   "source": [
    "dbm_ = pd.DataFrame(dbm.pivot_table(values=\"Spend\", index=[\"IOID\", \"IO\"], aggfunc=np.sum)).reset_index()"
   ]
  },
  {
   "cell_type": "code",
   "execution_count": 225,
   "metadata": {
    "collapsed": false
   },
   "outputs": [],
   "source": [
    "zo_ = pd.DataFrame(zo.pivot_table(values=\"zo_attr\", index=\"dbm_insertion_order_id\", aggfunc=np.sum)).reset_index()"
   ]
  },
  {
   "cell_type": "code",
   "execution_count": 226,
   "metadata": {
    "collapsed": false
   },
   "outputs": [],
   "source": [
    "zo_.columns = [\"IOID\", \"zo_attr\"]"
   ]
  },
  {
   "cell_type": "code",
   "execution_count": 227,
   "metadata": {
    "collapsed": false
   },
   "outputs": [],
   "source": [
    "data = dbm_.merge(zo_, on=\"IOID\", how=\"left\")"
   ]
  },
  {
   "cell_type": "code",
   "execution_count": 228,
   "metadata": {
    "collapsed": false
   },
   "outputs": [],
   "source": [
    "data = data.merge(IOIDmap[[\"IOID\", \"Targeting\"]], on=\"IOID\", how=\"left\")"
   ]
  },
  {
   "cell_type": "code",
   "execution_count": 229,
   "metadata": {
    "collapsed": false
   },
   "outputs": [],
   "source": [
    "data_ = data.pivot_table(values=[\"Spend\", \"zo_attr\"], aggfunc=np.sum, index=\"Targeting\").reset_index()"
   ]
  },
  {
   "cell_type": "code",
   "execution_count": 230,
   "metadata": {
    "collapsed": false
   },
   "outputs": [],
   "source": [
    "data_[\"zoCPQ\"] = data_.Spend / data_.zo_attr"
   ]
  },
  {
   "cell_type": "code",
   "execution_count": 231,
   "metadata": {
    "collapsed": false
   },
   "outputs": [],
   "source": [
    "data_.to_csv(\"D:\\\\Users\\\\ylin\\\\Desktop\\\\\"+\"latest CPQ.csv\", index=False)"
   ]
  },
  {
   "cell_type": "code",
   "execution_count": 232,
   "metadata": {
    "collapsed": false
   },
   "outputs": [
    {
     "data": {
      "text/html": [
       "<div>\n",
       "<table border=\"1\" class=\"dataframe\">\n",
       "  <thead>\n",
       "    <tr style=\"text-align: right;\">\n",
       "      <th></th>\n",
       "      <th>Targeting</th>\n",
       "      <th>Spend</th>\n",
       "      <th>zo_attr</th>\n",
       "      <th>zoCPQ</th>\n",
       "    </tr>\n",
       "  </thead>\n",
       "  <tbody>\n",
       "    <tr>\n",
       "      <th>0</th>\n",
       "      <td>Prospecting</td>\n",
       "      <td>128433.341320</td>\n",
       "      <td>15844.730934</td>\n",
       "      <td>8.105745</td>\n",
       "    </tr>\n",
       "    <tr>\n",
       "      <th>1</th>\n",
       "      <td>Remarketing existing</td>\n",
       "      <td>17893.703917</td>\n",
       "      <td>1943.679811</td>\n",
       "      <td>9.206097</td>\n",
       "    </tr>\n",
       "    <tr>\n",
       "      <th>2</th>\n",
       "      <td>Remarketing non-existing</td>\n",
       "      <td>180101.571548</td>\n",
       "      <td>28978.067045</td>\n",
       "      <td>6.215100</td>\n",
       "    </tr>\n",
       "  </tbody>\n",
       "</table>\n",
       "</div>"
      ],
      "text/plain": [
       "                  Targeting          Spend       zo_attr     zoCPQ\n",
       "0               Prospecting  128433.341320  15844.730934  8.105745\n",
       "1      Remarketing existing   17893.703917   1943.679811  9.206097\n",
       "2  Remarketing non-existing  180101.571548  28978.067045  6.215100"
      ]
     },
     "execution_count": 232,
     "metadata": {},
     "output_type": "execute_result"
    }
   ],
   "source": [
    "data_"
   ]
  },
  {
   "cell_type": "code",
   "execution_count": 233,
   "metadata": {
    "collapsed": false
   },
   "outputs": [],
   "source": [
    "#Output the new IOs from DBM which are not mapped\n",
    "IOIDmap_inc = list(set(np.unique(dbm.IOID.values)) - set(IOIDmap.IOID.values))\n",
    "IOIDmap_inc = pd.DataFrame(data=IOIDmap_inc, columns=[\"IOID\"])\n",
    "IOIDmap = IOIDmap.append(IOIDmap_inc, ignore_index=True)\n",
    "IOIDmap.to_csv(\"map.csv\", index=False)"
   ]
  },
  {
   "cell_type": "code",
   "execution_count": null,
   "metadata": {
    "collapsed": true
   },
   "outputs": [],
   "source": []
  }
 ],
 "metadata": {
  "anaconda-cloud": {},
  "kernelspec": {
   "display_name": "Python [conda root]",
   "language": "python",
   "name": "conda-root-py"
  },
  "language_info": {
   "codemirror_mode": {
    "name": "ipython",
    "version": 3
   },
   "file_extension": ".py",
   "mimetype": "text/x-python",
   "name": "python",
   "nbconvert_exporter": "python",
   "pygments_lexer": "ipython3",
   "version": "3.5.2"
  }
 },
 "nbformat": 4,
 "nbformat_minor": 1
}
