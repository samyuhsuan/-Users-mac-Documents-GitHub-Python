{
 "cells": [
  {
   "cell_type": "code",
   "execution_count": 94,
   "metadata": {
    "collapsed": false
   },
   "outputs": [],
   "source": [
    "import pandas as pd\n",
    "import numpy as np\n",
    "import glob"
   ]
  },
  {
   "cell_type": "code",
   "execution_count": 95,
   "metadata": {
    "collapsed": false
   },
   "outputs": [],
   "source": [
    "zo = pd.DataFrame()\n",
    "for file in glob.glob(\"dbm*.csv\"):\n",
    "    df = pd.read_csv(file)\n",
    "    zo = zo.append(df, ignore_index=True)"
   ]
  },
  {
   "cell_type": "code",
   "execution_count": 96,
   "metadata": {
    "collapsed": false
   },
   "outputs": [],
   "source": [
    "dbm = pd.DataFrame()\n",
    "for file in glob.glob(\"att*.csv\"):\n",
    "    df = pd.read_csv(file, skipinitialspace=True, \n",
    "            usecols=[\"Insertion Order\", \"Insertion Order ID\", \"Line Item\", \"Line Item ID\", \"Revenue (Adv Currency)\"])\n",
    "    dbm = dbm.append(df, ignore_index=True)"
   ]
  },
  {
   "cell_type": "code",
   "execution_count": 97,
   "metadata": {
    "collapsed": false
   },
   "outputs": [],
   "source": [
    "IOIDmap = pd.read_csv(\"map.csv\", usecols=[\"IOID\", \"Targeting\"])"
   ]
  },
  {
   "cell_type": "code",
   "execution_count": 98,
   "metadata": {
    "collapsed": false
   },
   "outputs": [],
   "source": [
    "dbm.columns = [\"IO\", \"IOID\", \"LI\", \"LIID\", \"Spend\"]"
   ]
  },
  {
   "cell_type": "code",
   "execution_count": 99,
   "metadata": {
    "collapsed": false
   },
   "outputs": [],
   "source": [
    "dbm = dbm.drop(dbm.index[dbm.tail(5).index.values])\n",
    "dbm = dbm.loc[dbm.LI.isnull() == False]"
   ]
  },
  {
   "cell_type": "code",
   "execution_count": 74,
   "metadata": {
    "collapsed": false
   },
   "outputs": [],
   "source": [
    "dbm.IOID = dbm.IOID.astype(\"int64\")\n",
    "dbm.LIID = dbm.LIID.astype(\"int64\")"
   ]
  },
  {
   "cell_type": "code",
   "execution_count": 75,
   "metadata": {
    "collapsed": false
   },
   "outputs": [],
   "source": [
    "#pd.DataFrame(dbm.IOID.unique(), columns=[\"uniqueIOID\"]).to_csv(\n",
    "#    \"D:\\\\Users\\\\ylin\\\\Desktop\\\\Aviva ATT output\\\\\"+\"uniqueIOID.csv\", index=False)"
   ]
  },
  {
   "cell_type": "code",
   "execution_count": 76,
   "metadata": {
    "collapsed": false
   },
   "outputs": [],
   "source": [
    "dbm_ = pd.DataFrame(dbm.pivot_table(values=\"Spend\", index=[\"IOID\", \"IO\"], aggfunc=np.sum)).reset_index()"
   ]
  },
  {
   "cell_type": "code",
   "execution_count": 43,
   "metadata": {
    "collapsed": false
   },
   "outputs": [],
   "source": [
    "zo_ = pd.DataFrame(zo.pivot_table(values=\"zo_attr\", index=\"dbm_insertion_order_id\", aggfunc=np.sum)).reset_index()"
   ]
  },
  {
   "cell_type": "code",
   "execution_count": 44,
   "metadata": {
    "collapsed": false
   },
   "outputs": [],
   "source": [
    "zo_.columns = [\"IOID\", \"zo_attr\"]"
   ]
  },
  {
   "cell_type": "code",
   "execution_count": 80,
   "metadata": {
    "collapsed": false
   },
   "outputs": [],
   "source": [
    "data = dbm_.merge(zo_, on=\"IOID\", how=\"left\")"
   ]
  },
  {
   "cell_type": "code",
   "execution_count": 81,
   "metadata": {
    "collapsed": false
   },
   "outputs": [],
   "source": [
    "data = data.merge(IOIDmap, on=\"IOID\", how=\"left\")"
   ]
  },
  {
   "cell_type": "code",
   "execution_count": 85,
   "metadata": {
    "collapsed": false
   },
   "outputs": [],
   "source": [
    "data_ = data.pivot_table(values=[\"Spend\", \"zo_attr\"], aggfunc=np.sum, index=\"Targeting\").reset_index()"
   ]
  },
  {
   "cell_type": "code",
   "execution_count": 90,
   "metadata": {
    "collapsed": false
   },
   "outputs": [],
   "source": [
    "data_[\"zoCPQ\"] = data_.Spend / data_.zo_attr"
   ]
  },
  {
   "cell_type": "code",
   "execution_count": 49,
   "metadata": {
    "collapsed": false
   },
   "outputs": [],
   "source": [
    "data_.to_csv(\"D:\\\\Users\\\\ylin\\\\Desktop\\\\\"+\"latest CPQ.csv\", index=False)"
   ]
  },
  {
   "cell_type": "code",
   "execution_count": 91,
   "metadata": {
    "collapsed": false
   },
   "outputs": [
    {
     "data": {
      "text/html": [
       "<div>\n",
       "<table border=\"1\" class=\"dataframe\">\n",
       "  <thead>\n",
       "    <tr style=\"text-align: right;\">\n",
       "      <th></th>\n",
       "      <th>Targeting</th>\n",
       "      <th>Spend</th>\n",
       "      <th>zo_attr</th>\n",
       "      <th>zoCPQ</th>\n",
       "    </tr>\n",
       "  </thead>\n",
       "  <tbody>\n",
       "    <tr>\n",
       "      <th>0</th>\n",
       "      <td>Prospecting</td>\n",
       "      <td>128433.341320</td>\n",
       "      <td>15844.730934</td>\n",
       "      <td>8.105745</td>\n",
       "    </tr>\n",
       "    <tr>\n",
       "      <th>1</th>\n",
       "      <td>Remarketing existing</td>\n",
       "      <td>17893.703917</td>\n",
       "      <td>1943.679811</td>\n",
       "      <td>9.206097</td>\n",
       "    </tr>\n",
       "    <tr>\n",
       "      <th>2</th>\n",
       "      <td>Remarketing non-existing</td>\n",
       "      <td>186119.893788</td>\n",
       "      <td>29545.800527</td>\n",
       "      <td>6.299369</td>\n",
       "    </tr>\n",
       "  </tbody>\n",
       "</table>\n",
       "</div>"
      ],
      "text/plain": [
       "                  Targeting          Spend       zo_attr     zoCPQ\n",
       "0               Prospecting  128433.341320  15844.730934  8.105745\n",
       "1      Remarketing existing   17893.703917   1943.679811  9.206097\n",
       "2  Remarketing non-existing  186119.893788  29545.800527  6.299369"
      ]
     },
     "execution_count": 91,
     "metadata": {},
     "output_type": "execute_result"
    }
   ],
   "source": [
    "data_"
   ]
  },
  {
   "cell_type": "code",
   "execution_count": null,
   "metadata": {
    "collapsed": true
   },
   "outputs": [],
   "source": []
  }
 ],
 "metadata": {
  "anaconda-cloud": {},
  "kernelspec": {
   "display_name": "Python [conda root]",
   "language": "python",
   "name": "conda-root-py"
  },
  "language_info": {
   "codemirror_mode": {
    "name": "ipython",
    "version": 3
   },
   "file_extension": ".py",
   "mimetype": "text/x-python",
   "name": "python",
   "nbconvert_exporter": "python",
   "pygments_lexer": "ipython3",
   "version": "3.5.2"
  }
 },
 "nbformat": 4,
 "nbformat_minor": 1
}
