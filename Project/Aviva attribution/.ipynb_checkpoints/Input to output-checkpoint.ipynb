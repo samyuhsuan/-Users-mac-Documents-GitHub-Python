{
 "cells": [
  {
   "cell_type": "code",
   "execution_count": 269,
   "metadata": {
    "collapsed": false
   },
   "outputs": [],
   "source": [
    "import pandas as pd\n",
    "import numpy as np\n",
    "import glob"
   ]
  },
  {
   "cell_type": "code",
   "execution_count": 273,
   "metadata": {
    "collapsed": false
   },
   "outputs": [],
   "source": [
    "zo = pd.DataFrame()\n",
    "for file in glob.glob(\"dbm*.csv\"):\n",
    "    df = pd.read_csv(file)\n",
    "    zo = zo.append(df, ignore_index=True)"
   ]
  },
  {
   "cell_type": "code",
   "execution_count": 279,
   "metadata": {
    "collapsed": false
   },
   "outputs": [],
   "source": [
    "dbm = pd.DataFrame()\n",
    "for file in glob.glob(\"att*.csv\"):\n",
    "    df = pd.read_csv(file, skipinitialspace=True, \n",
    "            usecols=[\"Insertion Order\", \"Insertion Order ID\", \"Line Item\", \"Line Item ID\", \"Revenue (Adv Currency)\"])\n",
    "    dbm = dbm.append(df, ignore_index=True)"
   ]
  },
  {
   "cell_type": "code",
   "execution_count": 292,
   "metadata": {
    "collapsed": false
   },
   "outputs": [],
   "source": [
    "IOIDmap = pd.read_csv(\"map.csv\", usecols=[\"IOID\", \"Targeting\"])"
   ]
  },
  {
   "cell_type": "code",
   "execution_count": 280,
   "metadata": {
    "collapsed": false
   },
   "outputs": [],
   "source": [
    "dbm.columns = [\"IO\", \"IOID\", \"LI\", \"LIID\", \"Spend\"]"
   ]
  },
  {
   "cell_type": "code",
   "execution_count": 281,
   "metadata": {
    "collapsed": false
   },
   "outputs": [],
   "source": [
    "dbm = dbm.drop(dbm.index[dbm.tail(5).index.values])\n",
    "dbm = dbm.loc[dbm.LI.isnull() == False]"
   ]
  },
  {
   "cell_type": "code",
   "execution_count": 282,
   "metadata": {
    "collapsed": false
   },
   "outputs": [],
   "source": [
    "dbm.IOID = dbm.IOID.astype(\"int64\")\n",
    "dbm.LIID = dbm.LIID.astype(\"int64\")"
   ]
  },
  {
   "cell_type": "code",
   "execution_count": 283,
   "metadata": {
    "collapsed": false
   },
   "outputs": [],
   "source": [
    "pd.DataFrame(dbm.IOID.unique(), columns=[\"uniqueIOID\"]).to_csv(\n",
    "    \"D:\\\\Users\\\\ylin\\\\Desktop\\\\Aviva ATT output\\\\\"+\"uniqueIOID.csv\", index=False)"
   ]
  },
  {
   "cell_type": "code",
   "execution_count": 284,
   "metadata": {
    "collapsed": false
   },
   "outputs": [],
   "source": [
    "dbm_ = pd.DataFrame(dbm.pivot_table(values=\"Spend\", index=[\"IOID\", \"IO\"], aggfunc=np.sum)).reset_index()"
   ]
  },
  {
   "cell_type": "code",
   "execution_count": 285,
   "metadata": {
    "collapsed": false
   },
   "outputs": [],
   "source": [
    "zo_ = pd.DataFrame(zo.pivot_table(values=\"zo_attr\", index=\"dbm_insertion_order_id\", aggfunc=np.sum)).reset_index()"
   ]
  },
  {
   "cell_type": "code",
   "execution_count": 286,
   "metadata": {
    "collapsed": false
   },
   "outputs": [],
   "source": [
    "zo_.columns = [\"IOID\", \"zo_attr\"]"
   ]
  },
  {
   "cell_type": "code",
   "execution_count": 287,
   "metadata": {
    "collapsed": false
   },
   "outputs": [],
   "source": [
    "data = dbm_.merge(zo_, on=\"IOID\", how=\"left\")"
   ]
  },
  {
   "cell_type": "code",
   "execution_count": 288,
   "metadata": {
    "collapsed": false
   },
   "outputs": [],
   "source": [
    "data = data.merge(IOIDmap, on=\"IOID\", how=\"left\")"
   ]
  },
  {
   "cell_type": "code",
   "execution_count": 289,
   "metadata": {
    "collapsed": false
   },
   "outputs": [],
   "source": [
    "data_ = data.pivot_table(values=[\"Spend\", \"zo_attr\"], index=\"Targeting\").reset_index()"
   ]
  },
  {
   "cell_type": "code",
   "execution_count": 290,
   "metadata": {
    "collapsed": false
   },
   "outputs": [],
   "source": [
    "data_[\"zoCPQ\"] = data.Spend / data.zo_attr"
   ]
  },
  {
   "cell_type": "code",
   "execution_count": 291,
   "metadata": {
    "collapsed": false
   },
   "outputs": [],
   "source": [
    "data_.to_csv(\"D:\\\\Users\\\\ylin\\\\Desktop\\\\Aviva ATT output\\\\\"+\"latest CPQ.csv\", index=False)"
   ]
  },
  {
   "cell_type": "code",
   "execution_count": null,
   "metadata": {
    "collapsed": true
   },
   "outputs": [],
   "source": []
  }
 ],
 "metadata": {
  "anaconda-cloud": {},
  "kernelspec": {
   "display_name": "Python [conda root]",
   "language": "python",
   "name": "conda-root-py"
  },
  "language_info": {
   "codemirror_mode": {
    "name": "ipython",
    "version": 3
   },
   "file_extension": ".py",
   "mimetype": "text/x-python",
   "name": "python",
   "nbconvert_exporter": "python",
   "pygments_lexer": "ipython3",
   "version": "3.5.2"
  }
 },
 "nbformat": 4,
 "nbformat_minor": 1
}
