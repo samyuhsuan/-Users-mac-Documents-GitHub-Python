{
 "cells": [
  {
   "cell_type": "code",
   "execution_count": 125,
   "metadata": {
    "collapsed": true
   },
   "outputs": [],
   "source": [
    "import pandas as pd\n",
    "import numpy as np\n",
    "import matplotlib.pyplot as plt\n",
    "import seaborn as sns\n",
    "import glob\n",
    "import time\n",
    "%matplotlib inline"
   ]
  },
  {
   "cell_type": "markdown",
   "metadata": {},
   "source": [
    "---"
   ]
  },
  {
   "cell_type": "code",
   "execution_count": 126,
   "metadata": {
    "collapsed": true
   },
   "outputs": [],
   "source": [
    "#DBM data below"
   ]
  },
  {
   "cell_type": "code",
   "execution_count": 127,
   "metadata": {
    "collapsed": true
   },
   "outputs": [],
   "source": [
    "DBM = pd.DataFrame()\n",
    "for file in glob.glob(\"DBM*.csv\"):\n",
    "    df = pd.read_csv(file)\n",
    "    df = df[df[\"Advertiser Currency\"].isnull() == False]\n",
    "    DBM = DBM.append(df, ignore_index=True)"
   ]
  },
  {
   "cell_type": "code",
   "execution_count": 128,
   "metadata": {
    "collapsed": true
   },
   "outputs": [],
   "source": [
    "DBM = DBM.loc[:, [\"Month\", \"Advertiser\", \"Public Inventory\", \"Impressions\", \n",
    "                  \"Clicks\", \"Revenue (Adv Currency)\", \"Media Cost (Advertiser Currency)\", \"Advertiser Currency\"]]"
   ]
  },
  {
   "cell_type": "code",
   "execution_count": 129,
   "metadata": {
    "collapsed": true
   },
   "outputs": [],
   "source": [
    "DBM.columns = [\"Month\", \"Advertiser\", \"Public\", \"Impressions\", \"Clicks\", \"Spend\", \"Media\", \"Currency\"]"
   ]
  },
  {
   "cell_type": "code",
   "execution_count": 130,
   "metadata": {
    "collapsed": true
   },
   "outputs": [],
   "source": [
    "DBM[\"DSP\"] = \"DBM\"\n",
    "DBM[\"Type\"] = \"General\""
   ]
  },
  {
   "cell_type": "markdown",
   "metadata": {},
   "source": [
    "---"
   ]
  },
  {
   "cell_type": "code",
   "execution_count": 131,
   "metadata": {
    "collapsed": true
   },
   "outputs": [],
   "source": [
    "#YouTube/TrueView data below"
   ]
  },
  {
   "cell_type": "code",
   "execution_count": 132,
   "metadata": {
    "collapsed": true
   },
   "outputs": [],
   "source": [
    "YT = pd.DataFrame()\n",
    "for file in glob.glob(\"YT*.csv\"):\n",
    "    df = pd.read_csv(file)\n",
    "    df = df[df[\"Advertiser Currency\"].isnull() == False]\n",
    "    YT = YT.append(df, ignore_index=True)"
   ]
  },
  {
   "cell_type": "code",
   "execution_count": 133,
   "metadata": {
    "collapsed": true
   },
   "outputs": [],
   "source": [
    "YT[\"Public\"] = \"N/A\"\n",
    "YT[\"DSP\"] = \"DBM\"\n",
    "YT[\"Type\"] = \"TrueView\""
   ]
  },
  {
   "cell_type": "code",
   "execution_count": 134,
   "metadata": {
    "collapsed": true
   },
   "outputs": [],
   "source": [
    "YT = YT.loc[:, [\"Month\", \"Advertiser\", \"Public\",\"Impressions\", \n",
    "                \"Clicks\", \"Revenue (Adv Currency)\", \"Media Cost (Advertiser Currency)\", \"Advertiser Currency\", \"DSP\", \"Type\"]]"
   ]
  },
  {
   "cell_type": "code",
   "execution_count": 135,
   "metadata": {
    "collapsed": true
   },
   "outputs": [],
   "source": [
    "YT.columns = ['Month', 'Advertiser', 'Public', 'Impressions', 'Clicks',\n",
    "       'Spend', 'Media', 'Currency', 'DSP', 'Type']"
   ]
  },
  {
   "cell_type": "markdown",
   "metadata": {},
   "source": [
    "---"
   ]
  },
  {
   "cell_type": "code",
   "execution_count": 136,
   "metadata": {
    "collapsed": true
   },
   "outputs": [],
   "source": [
    "#Videology data below\n",
    "#please note the data in the template the time frame please select the specific time rather than 'last month'"
   ]
  },
  {
   "cell_type": "code",
   "execution_count": 137,
   "metadata": {
    "collapsed": true
   },
   "outputs": [],
   "source": [
    "videology = pd.DataFrame()\n",
    "for file in glob.glob(\"Videology*.csv\"):\n",
    "    df = pd.read_csv(file)\n",
    "    df = df[df[\"Placement ID\"].isnull() == False]\n",
    "    videology = videology.append(df, ignore_index=True)"
   ]
  },
  {
   "cell_type": "code",
   "execution_count": 138,
   "metadata": {
    "collapsed": true
   },
   "outputs": [],
   "source": [
    "videology.columns = [\"Advertiser\", \"Placement\", \"PlacementName\", \"Date\", \"Impressions\", \"Spend\", \"Clicks\"]"
   ]
  },
  {
   "cell_type": "code",
   "execution_count": 139,
   "metadata": {
    "collapsed": true
   },
   "outputs": [],
   "source": [
    "list1=[]\n",
    "for month in videology.Date:\n",
    "    g = month[-4:] + \"/\" + \"{0:0=2d}\".format(time.strptime(month[:3], \"%b\").tm_mon)\n",
    "    list1.append(g)"
   ]
  },
  {
   "cell_type": "code",
   "execution_count": 140,
   "metadata": {
    "collapsed": true
   },
   "outputs": [],
   "source": [
    "#repmoving the thousand separator \n",
    "videology.Impressions = videology.Impressions.apply(lambda x: float(x.split()[0].replace(',', '')))\n",
    "videology.Clicks = videology.Clicks.apply(lambda x: float(x.split()[0].replace(',', '')))\n",
    "videology.Spend = videology.Spend.apply(lambda x: float(x.split()[0].replace(',', '')))"
   ]
  },
  {
   "cell_type": "code",
   "execution_count": 141,
   "metadata": {
    "collapsed": true
   },
   "outputs": [],
   "source": [
    "videology[\"Currency\"] = \"GBP\"\n",
    "videology[\"DSP\"] = \"Videology\"\n",
    "videology[\"Type\"] = \"General\"\n",
    "videology.loc[(videology.PlacementName.str.contains(\"Channel 4\")) | \n",
    "              (videology.PlacementName.str.contains(\"C4\")), \"Type\"] = \"Channel 4\"\n",
    "videology[\"Media\"] = videology.Spend * 0.7\n",
    "videology.loc[videology.Type == \"Channel 4\", \"Media\"] = videology.Spend * 0.8\n",
    "videology[\"Public\"] = \"N/A\"\n",
    "videology[\"Month\"] = list1"
   ]
  },
  {
   "cell_type": "code",
   "execution_count": 142,
   "metadata": {
    "collapsed": true
   },
   "outputs": [],
   "source": [
    "videology = videology.loc[:, ['Month', 'Advertiser', 'Public', 'Impressions', 'Clicks', 'Spend',\n",
    "       'Media', 'Currency', 'DSP', 'Type']]"
   ]
  },
  {
   "cell_type": "markdown",
   "metadata": {},
   "source": [
    "---"
   ]
  },
  {
   "cell_type": "code",
   "execution_count": 143,
   "metadata": {
    "collapsed": true
   },
   "outputs": [],
   "source": [
    "#TheTradeDesk data below"
   ]
  },
  {
   "cell_type": "code",
   "execution_count": 144,
   "metadata": {
    "collapsed": true
   },
   "outputs": [],
   "source": [
    "TTD = pd.DataFrame()\n",
    "for file in glob.glob(\"TTTD*.csv\"):\n",
    "    df=pd.read_csv(file)\n",
    "    TTD = TTD.append(df, ignore_index=True)"
   ]
  },
  {
   "cell_type": "code",
   "execution_count": 145,
   "metadata": {
    "collapsed": true
   },
   "outputs": [],
   "source": [
    "TTD[\"Month\"] = TTD.Date.str.split(\"/\").str[2] + \"/\" + TTD.Date.str.split(\"/\").str[1]\n",
    "TTD[\"Public\"] = \"Yes\"\n",
    "TTD.loc[TTD[\"Inventory Contract\"].isnull() != True, \"Public\"] = \"No\"\n",
    "TTD[\"DSP\"] = \"TTD\"\n",
    "TTD[\"Type\"] = \"Genral\""
   ]
  },
  {
   "cell_type": "code",
   "execution_count": 146,
   "metadata": {
    "collapsed": true
   },
   "outputs": [],
   "source": [
    "TTD.columns = ['Date', 'Advertiser', 'Currency', 'Inventory Contract','Impressions', 'Clicks', 'Spend',\n",
    "       'Media', 'Month', 'Public', 'DSP', 'Type']"
   ]
  },
  {
   "cell_type": "code",
   "execution_count": 147,
   "metadata": {
    "collapsed": true
   },
   "outputs": [],
   "source": [
    "TTD = TTD.loc[:, [\"Month\", \"Advertiser\", \"Public\", \"Impressions\", \"Clicks\", \"Spend\", \"Media\", \"Currency\", \"DSP\", \"Type\"]]"
   ]
  },
  {
   "cell_type": "code",
   "execution_count": 148,
   "metadata": {
    "collapsed": true
   },
   "outputs": [],
   "source": [
    "TTD.Spend = TTD.Spend.str.replace(\",\", \"\")\n",
    "TTD.Spend = pd.to_numeric(TTD.Spend) / 100000000000000\n",
    "TTD.Media = TTD.Media.str.replace(\",\", \"\")\n",
    "TTD.Media = pd.to_numeric(TTD.Media) / 100000000000000"
   ]
  },
  {
   "cell_type": "markdown",
   "metadata": {},
   "source": [
    "---"
   ]
  },
  {
   "cell_type": "code",
   "execution_count": 149,
   "metadata": {
    "collapsed": true
   },
   "outputs": [],
   "source": [
    "#RocketFuel data below"
   ]
  },
  {
   "cell_type": "code",
   "execution_count": 150,
   "metadata": {
    "collapsed": true
   },
   "outputs": [],
   "source": [
    "RF = pd.DataFrame()\n",
    "for file in glob.glob(\"RF*.csv\"):\n",
    "    df = pd.read_csv(file, header=1)\n",
    "    RF = RF.append(df, ignore_index=True)\n",
    "RF.Spend = RF.Spend.str.replace(\"GBP \", \"\")\n",
    "RF[\"Media Cost\"] = RF[\"Media Cost\"].str.replace(\"GBP \", \"\")"
   ]
  },
  {
   "cell_type": "code",
   "execution_count": 151,
   "metadata": {
    "collapsed": true
   },
   "outputs": [],
   "source": [
    "RF[\"Public\"] = \"Yes\"\n",
    "RF.loc[RF[\"Exchange Deal ID\"].isnull() == False, \"Public\"] = \"No\"\n",
    "RF[\"Month\"] = RF[\"Year and Month\"].str.split(\"-\").str[0] + \"/\" + RF[\"Year and Month\"].str.split(\"-\").str[1]\n",
    "RF[\"DSP\"] = \"RocketFuel\"\n",
    "RF[\"Type\"] = \"General\"\n",
    "RF[\"Currency\"] = \"GBP\""
   ]
  },
  {
   "cell_type": "code",
   "execution_count": 152,
   "metadata": {
    "collapsed": true
   },
   "outputs": [],
   "source": [
    "RF = RF.loc[:, [\"Month\", \"Advertiser\", \"Public\", \"Imps\", \"Clicks\", \"Spend\", \"Media Cost\", \"Currency\", \"DSP\", \"Type\"]]"
   ]
  },
  {
   "cell_type": "code",
   "execution_count": 153,
   "metadata": {
    "collapsed": true
   },
   "outputs": [],
   "source": [
    "RF.columns = ['Month', 'Advertiser', 'Public', 'Impressions', 'Clicks', 'Spend', 'Media', 'Currency', 'DSP', 'Type']"
   ]
  },
  {
   "cell_type": "code",
   "execution_count": 154,
   "metadata": {
    "collapsed": true
   },
   "outputs": [],
   "source": [
    "RF.Spend = RF.Spend.astype(\"float64\")\n",
    "RF.Media = RF.Media.astype(\"float64\")"
   ]
  },
  {
   "cell_type": "markdown",
   "metadata": {},
   "source": [
    "---"
   ]
  },
  {
   "cell_type": "code",
   "execution_count": 155,
   "metadata": {
    "collapsed": true
   },
   "outputs": [],
   "source": [
    "#Amazon data below"
   ]
  },
  {
   "cell_type": "code",
   "execution_count": 156,
   "metadata": {
    "collapsed": true
   },
   "outputs": [],
   "source": [
    "AAP_old = pd.read_csv(\"Amazon_0116_0317.csv\")"
   ]
  },
  {
   "cell_type": "code",
   "execution_count": 157,
   "metadata": {
    "collapsed": true
   },
   "outputs": [],
   "source": [
    "AAP_old = AAP_old.head(147)"
   ]
  },
  {
   "cell_type": "code",
   "execution_count": 158,
   "metadata": {
    "collapsed": true
   },
   "outputs": [],
   "source": [
    "AAP_old.date = AAP_old.date.str.split(\" \").str[0]\n",
    "AAP_old.date = AAP_old.date.str.split(\"/\").str[2] + \"/\" + AAP_old.date.str.split(\"/\").str[1]"
   ]
  },
  {
   "cell_type": "code",
   "execution_count": 159,
   "metadata": {
    "collapsed": true
   },
   "outputs": [],
   "source": [
    "AAP_old.columns = ['Month', 'Advertiser', 'advertiser_id', 'Impressions', 'Clicks',\n",
    "       'Media', 'net cost', 'agency markup', 'Spend']"
   ]
  },
  {
   "cell_type": "code",
   "execution_count": 160,
   "metadata": {
    "collapsed": true
   },
   "outputs": [],
   "source": [
    "AAP = pd.DataFrame()\n",
    "for file in glob.glob(\"AAP*.csv\"):\n",
    "    df = pd.read_csv(file, usecols=[\"Date\", \"Advertiser\", \"Impressions\", \"Clickthroughs\", \n",
    "                                    \"Total Cost\", \"Supply Cost\", \"Order Currency\"])\n",
    "    AAP = AAP.append(df, ignore_index=True) "
   ]
  },
  {
   "cell_type": "code",
   "execution_count": 161,
   "metadata": {
    "collapsed": true
   },
   "outputs": [],
   "source": [
    "AAP = AAP.drop(AAP.index[AAP[\"Total Cost\"] == 0]).reset_index(drop=True)"
   ]
  },
  {
   "cell_type": "code",
   "execution_count": 162,
   "metadata": {
    "collapsed": true
   },
   "outputs": [],
   "source": [
    "list2=[]\n",
    "for month in AAP.Date:\n",
    "    g = month[-4:] + \"/\" + \"{0:0=2d}\".format(time.strptime(month[:3], \"%b\").tm_mon)\n",
    "    list2.append(g)"
   ]
  },
  {
   "cell_type": "code",
   "execution_count": 163,
   "metadata": {
    "collapsed": true
   },
   "outputs": [],
   "source": [
    "AAP.Date = list2\n",
    "AAP[\"Public\"] = \"N/A\"\n",
    "AAP[\"DSP\"] = \"AAP\"\n",
    "AAP[\"Type\"] = \"General\""
   ]
  },
  {
   "cell_type": "code",
   "execution_count": 164,
   "metadata": {
    "collapsed": true
   },
   "outputs": [],
   "source": [
    "AAP.columns = ['Month', 'Advertiser', 'Currency', 'Media', 'Spend','Impressions', 'Clicks', 'Public', 'DSP', 'Type']"
   ]
  },
  {
   "cell_type": "code",
   "execution_count": 165,
   "metadata": {
    "collapsed": true
   },
   "outputs": [],
   "source": [
    "AAP = AAP.loc[:, ['Month', 'Advertiser', 'Public', 'Impressions', 'Clicks', 'Spend', 'Media', 'Currency', 'DSP', 'Type']]"
   ]
  },
  {
   "cell_type": "code",
   "execution_count": 166,
   "metadata": {},
   "outputs": [
    {
     "name": "stderr",
     "output_type": "stream",
     "text": [
      "C:\\Users\\ylin\\AppData\\Local\\Continuum\\Anaconda3\\lib\\site-packages\\ipykernel_launcher.py:1: FutureWarning: convert_objects is deprecated.  Use the data-type specific converters pd.to_datetime, pd.to_timedelta and pd.to_numeric.\n",
      "  \"\"\"Entry point for launching an IPython kernel.\n"
     ]
    }
   ],
   "source": [
    "AAP.Spend = AAP.Spend.convert_objects(convert_numeric=True)"
   ]
  },
  {
   "cell_type": "markdown",
   "metadata": {},
   "source": [
    "---"
   ]
  },
  {
   "cell_type": "code",
   "execution_count": 167,
   "metadata": {
    "collapsed": true
   },
   "outputs": [],
   "source": [
    "#Turn data below"
   ]
  },
  {
   "cell_type": "code",
   "execution_count": 168,
   "metadata": {
    "collapsed": true
   },
   "outputs": [],
   "source": [
    "TURN_old = pd.read_csv(\"oldTURN_0317_0417.csv\")"
   ]
  },
  {
   "cell_type": "code",
   "execution_count": 169,
   "metadata": {
    "collapsed": true
   },
   "outputs": [],
   "source": [
    "TURN_old.Month = TURN_old.Month.str.split(\"/\").str[2] + \"/\" + TURN_old.Month.str.split(\"/\").str[0]"
   ]
  },
  {
   "cell_type": "code",
   "execution_count": 170,
   "metadata": {
    "collapsed": true
   },
   "outputs": [],
   "source": [
    "TURN_old[\"Public\"] = \"Yes\"\n",
    "TURN_old.loc[~TURN_old.Deal_ID.isin([-1]), \"Public\"] = \"No\"\n",
    "TURN_old[\"DSP\"] = \"TURN\"\n",
    "TURN_old[\"Type\"] = \"General\"\n",
    "TURN_old[\"Media\"] = TURN_old.Spend * 0.7"
   ]
  },
  {
   "cell_type": "code",
   "execution_count": 171,
   "metadata": {
    "collapsed": true
   },
   "outputs": [],
   "source": [
    "TURN_old = TURN_old.loc[:, ['Month', 'Advertiser', 'Public', 'Impressions','Clicks','Spend','Media','Currency', 'DSP', 'Type']]"
   ]
  },
  {
   "cell_type": "code",
   "execution_count": 172,
   "metadata": {
    "collapsed": true
   },
   "outputs": [],
   "source": [
    "TURN = pd.DataFrame()\n",
    "for file in glob.glob(\"TURN*.csv\"):\n",
    "    df = pd.read_csv(file, encoding=\"ISO-8859-1\")\n",
    "    TURN = TURN.append(df, ignore_index=True)"
   ]
  },
  {
   "cell_type": "code",
   "execution_count": 173,
   "metadata": {
    "collapsed": true
   },
   "outputs": [],
   "source": [
    "TURN.columns = ['Month', 'Advertiser', 'deal_id', 'deal_name', 'Impressions', 'Clicks', 'Currency', 'Spend']"
   ]
  },
  {
   "cell_type": "code",
   "execution_count": 174,
   "metadata": {
    "collapsed": true
   },
   "outputs": [],
   "source": [
    "TURN.Spend = TURN.Spend.str.replace(\"£\", \"\")\n",
    "TURN.Spend = TURN.Spend.str.replace(\",\", \"\")\n",
    "TURN.Spend = pd.to_numeric(TURN.Spend)"
   ]
  },
  {
   "cell_type": "code",
   "execution_count": 175,
   "metadata": {
    "collapsed": true
   },
   "outputs": [],
   "source": [
    "TURN.Month = TURN.Month.str.split(\"_\").str[0] + \"/\" + TURN.Month.str.split(\"_\").str[1]"
   ]
  },
  {
   "cell_type": "code",
   "execution_count": 176,
   "metadata": {
    "collapsed": true
   },
   "outputs": [],
   "source": [
    "TURN[\"Public\"] = \"Yes\"\n",
    "TURN.loc[~(TURN.deal_id == \"Unknown\"), \"Public\"] = \"No\"\n",
    "TURN[\"DSP\"] = \"TURN\"\n",
    "TURN[\"Type\"] = \"General\"\n",
    "TURN[\"Media\"] = TURN.Spend * 0.7"
   ]
  },
  {
   "cell_type": "code",
   "execution_count": 177,
   "metadata": {
    "collapsed": true
   },
   "outputs": [],
   "source": [
    "TURN = TURN.loc[:, ['Month', 'Advertiser', 'Public', 'Impressions', 'Clicks','Spend','Media','Currency','DSP', 'Type']]\n",
    "TURN = TURN.append(TURN_old, ignore_index=True)"
   ]
  },
  {
   "cell_type": "markdown",
   "metadata": {},
   "source": [
    "---"
   ]
  },
  {
   "cell_type": "code",
   "execution_count": 178,
   "metadata": {
    "collapsed": true
   },
   "outputs": [],
   "source": [
    "#Data from all DSPs"
   ]
  },
  {
   "cell_type": "code",
   "execution_count": 179,
   "metadata": {
    "collapsed": true
   },
   "outputs": [],
   "source": [
    "data = DBM.append([TTD, YT, videology, RF, AAP, TURN], ignore_index=True)"
   ]
  },
  {
   "cell_type": "code",
   "execution_count": 180,
   "metadata": {
    "collapsed": true
   },
   "outputs": [],
   "source": [
    "np.unique(data.Currency)\n",
    "USDtoGBP = 0.77\n",
    "EURtoGBP = 0.84"
   ]
  },
  {
   "cell_type": "code",
   "execution_count": 181,
   "metadata": {
    "collapsed": true
   },
   "outputs": [],
   "source": [
    "data[\"cSpend\"] = data.Spend \n",
    "data.loc[data.Currency == \"USD\",\"cSpend\"] = data.Spend * USDtoGBP\n",
    "data.loc[data.Currency == \"EUR\",\"cSpend\"] = data.Spend * EURtoGBP"
   ]
  },
  {
   "cell_type": "markdown",
   "metadata": {},
   "source": [
    "---"
   ]
  },
  {
   "cell_type": "code",
   "execution_count": 182,
   "metadata": {
    "collapsed": true
   },
   "outputs": [],
   "source": [
    "#file to ZO folder on desktop"
   ]
  },
  {
   "cell_type": "code",
   "execution_count": 183,
   "metadata": {
    "collapsed": true
   },
   "outputs": [],
   "source": [
    "data.sort_values(\"Month\", ascending=True).to_csv(\"C:\\\\Users\\\\ylin\\\\Desktop\\\\ZO Spend\\\\\"+\"ZO spend.csv\", index=False)"
   ]
  },
  {
   "cell_type": "code",
   "execution_count": 184,
   "metadata": {
    "collapsed": true
   },
   "outputs": [],
   "source": [
    "data.pivot_table(values=\"cSpend\", index=\"Month\", columns=[\"DSP\", \"Type\", \"Public\"], \n",
    "                 aggfunc=np.sum, margins=True).round().to_csv(\"C:\\\\Users\\\\ylin\\\\Desktop\\\\ZO Spend\\\\\"+\"ZO spend pivot.csv\")"
   ]
  },
  {
   "cell_type": "code",
   "execution_count": 185,
   "metadata": {},
   "outputs": [
    {
     "data": {
      "text/html": [
       "<div>\n",
       "<style>\n",
       "    .dataframe thead tr:only-child th {\n",
       "        text-align: right;\n",
       "    }\n",
       "\n",
       "    .dataframe thead th {\n",
       "        text-align: left;\n",
       "    }\n",
       "\n",
       "    .dataframe tbody tr th {\n",
       "        vertical-align: top;\n",
       "    }\n",
       "</style>\n",
       "<table border=\"1\" class=\"dataframe\">\n",
       "  <thead>\n",
       "    <tr>\n",
       "      <th>DSP</th>\n",
       "      <th>AAP</th>\n",
       "      <th colspan=\"3\" halign=\"left\">DBM</th>\n",
       "      <th>RocketFuel</th>\n",
       "      <th colspan=\"2\" halign=\"left\">TTD</th>\n",
       "      <th colspan=\"2\" halign=\"left\">TURN</th>\n",
       "      <th colspan=\"2\" halign=\"left\">Videology</th>\n",
       "      <th>All</th>\n",
       "    </tr>\n",
       "    <tr>\n",
       "      <th>Type</th>\n",
       "      <th>General</th>\n",
       "      <th colspan=\"2\" halign=\"left\">General</th>\n",
       "      <th>TrueView</th>\n",
       "      <th>General</th>\n",
       "      <th colspan=\"2\" halign=\"left\">Genral</th>\n",
       "      <th colspan=\"2\" halign=\"left\">General</th>\n",
       "      <th>Channel 4</th>\n",
       "      <th>General</th>\n",
       "      <th></th>\n",
       "    </tr>\n",
       "    <tr>\n",
       "      <th>Public</th>\n",
       "      <th>N/A</th>\n",
       "      <th>No</th>\n",
       "      <th>Yes</th>\n",
       "      <th>N/A</th>\n",
       "      <th>Yes</th>\n",
       "      <th>No</th>\n",
       "      <th>Yes</th>\n",
       "      <th>No</th>\n",
       "      <th>Yes</th>\n",
       "      <th>N/A</th>\n",
       "      <th>N/A</th>\n",
       "      <th></th>\n",
       "    </tr>\n",
       "    <tr>\n",
       "      <th>Month</th>\n",
       "      <th></th>\n",
       "      <th></th>\n",
       "      <th></th>\n",
       "      <th></th>\n",
       "      <th></th>\n",
       "      <th></th>\n",
       "      <th></th>\n",
       "      <th></th>\n",
       "      <th></th>\n",
       "      <th></th>\n",
       "      <th></th>\n",
       "      <th></th>\n",
       "    </tr>\n",
       "  </thead>\n",
       "  <tbody>\n",
       "    <tr>\n",
       "      <th>2016/01</th>\n",
       "      <td>NaN</td>\n",
       "      <td>462491.0</td>\n",
       "      <td>2015535.0</td>\n",
       "      <td>126240.0</td>\n",
       "      <td>NaN</td>\n",
       "      <td>NaN</td>\n",
       "      <td>0.0</td>\n",
       "      <td>NaN</td>\n",
       "      <td>NaN</td>\n",
       "      <td>NaN</td>\n",
       "      <td>NaN</td>\n",
       "      <td>2604266.0</td>\n",
       "    </tr>\n",
       "    <tr>\n",
       "      <th>2016/02</th>\n",
       "      <td>NaN</td>\n",
       "      <td>599799.0</td>\n",
       "      <td>2321375.0</td>\n",
       "      <td>180716.0</td>\n",
       "      <td>NaN</td>\n",
       "      <td>NaN</td>\n",
       "      <td>0.0</td>\n",
       "      <td>NaN</td>\n",
       "      <td>NaN</td>\n",
       "      <td>NaN</td>\n",
       "      <td>NaN</td>\n",
       "      <td>3101890.0</td>\n",
       "    </tr>\n",
       "    <tr>\n",
       "      <th>2016/03</th>\n",
       "      <td>NaN</td>\n",
       "      <td>1042068.0</td>\n",
       "      <td>2574432.0</td>\n",
       "      <td>279131.0</td>\n",
       "      <td>NaN</td>\n",
       "      <td>NaN</td>\n",
       "      <td>NaN</td>\n",
       "      <td>NaN</td>\n",
       "      <td>NaN</td>\n",
       "      <td>NaN</td>\n",
       "      <td>NaN</td>\n",
       "      <td>3895631.0</td>\n",
       "    </tr>\n",
       "    <tr>\n",
       "      <th>2016/04</th>\n",
       "      <td>NaN</td>\n",
       "      <td>525837.0</td>\n",
       "      <td>2141692.0</td>\n",
       "      <td>371005.0</td>\n",
       "      <td>NaN</td>\n",
       "      <td>NaN</td>\n",
       "      <td>1974.0</td>\n",
       "      <td>NaN</td>\n",
       "      <td>NaN</td>\n",
       "      <td>NaN</td>\n",
       "      <td>NaN</td>\n",
       "      <td>3040509.0</td>\n",
       "    </tr>\n",
       "    <tr>\n",
       "      <th>2016/05</th>\n",
       "      <td>NaN</td>\n",
       "      <td>537853.0</td>\n",
       "      <td>1718345.0</td>\n",
       "      <td>153631.0</td>\n",
       "      <td>NaN</td>\n",
       "      <td>NaN</td>\n",
       "      <td>10261.0</td>\n",
       "      <td>NaN</td>\n",
       "      <td>NaN</td>\n",
       "      <td>121445.0</td>\n",
       "      <td>341517.0</td>\n",
       "      <td>2883051.0</td>\n",
       "    </tr>\n",
       "    <tr>\n",
       "      <th>2016/06</th>\n",
       "      <td>NaN</td>\n",
       "      <td>601384.0</td>\n",
       "      <td>1900652.0</td>\n",
       "      <td>286835.0</td>\n",
       "      <td>NaN</td>\n",
       "      <td>NaN</td>\n",
       "      <td>19950.0</td>\n",
       "      <td>NaN</td>\n",
       "      <td>NaN</td>\n",
       "      <td>163329.0</td>\n",
       "      <td>353411.0</td>\n",
       "      <td>3325562.0</td>\n",
       "    </tr>\n",
       "    <tr>\n",
       "      <th>2016/07</th>\n",
       "      <td>NaN</td>\n",
       "      <td>470456.0</td>\n",
       "      <td>1444104.0</td>\n",
       "      <td>225570.0</td>\n",
       "      <td>NaN</td>\n",
       "      <td>31395.0</td>\n",
       "      <td>13668.0</td>\n",
       "      <td>NaN</td>\n",
       "      <td>NaN</td>\n",
       "      <td>104554.0</td>\n",
       "      <td>162814.0</td>\n",
       "      <td>2452561.0</td>\n",
       "    </tr>\n",
       "    <tr>\n",
       "      <th>2016/08</th>\n",
       "      <td>NaN</td>\n",
       "      <td>685058.0</td>\n",
       "      <td>1577548.0</td>\n",
       "      <td>138528.0</td>\n",
       "      <td>NaN</td>\n",
       "      <td>90540.0</td>\n",
       "      <td>32341.0</td>\n",
       "      <td>NaN</td>\n",
       "      <td>NaN</td>\n",
       "      <td>215635.0</td>\n",
       "      <td>113612.0</td>\n",
       "      <td>2853263.0</td>\n",
       "    </tr>\n",
       "    <tr>\n",
       "      <th>2016/09</th>\n",
       "      <td>NaN</td>\n",
       "      <td>843696.0</td>\n",
       "      <td>1788445.0</td>\n",
       "      <td>172688.0</td>\n",
       "      <td>NaN</td>\n",
       "      <td>63959.0</td>\n",
       "      <td>13476.0</td>\n",
       "      <td>NaN</td>\n",
       "      <td>NaN</td>\n",
       "      <td>302641.0</td>\n",
       "      <td>161261.0</td>\n",
       "      <td>3346166.0</td>\n",
       "    </tr>\n",
       "    <tr>\n",
       "      <th>2016/10</th>\n",
       "      <td>NaN</td>\n",
       "      <td>784882.0</td>\n",
       "      <td>2080459.0</td>\n",
       "      <td>380387.0</td>\n",
       "      <td>NaN</td>\n",
       "      <td>34.0</td>\n",
       "      <td>27429.0</td>\n",
       "      <td>NaN</td>\n",
       "      <td>NaN</td>\n",
       "      <td>831893.0</td>\n",
       "      <td>227547.0</td>\n",
       "      <td>4332630.0</td>\n",
       "    </tr>\n",
       "    <tr>\n",
       "      <th>2016/11</th>\n",
       "      <td>NaN</td>\n",
       "      <td>987119.0</td>\n",
       "      <td>1905395.0</td>\n",
       "      <td>350509.0</td>\n",
       "      <td>NaN</td>\n",
       "      <td>29214.0</td>\n",
       "      <td>26356.0</td>\n",
       "      <td>NaN</td>\n",
       "      <td>NaN</td>\n",
       "      <td>841687.0</td>\n",
       "      <td>145597.0</td>\n",
       "      <td>4285877.0</td>\n",
       "    </tr>\n",
       "    <tr>\n",
       "      <th>2016/12</th>\n",
       "      <td>NaN</td>\n",
       "      <td>1018084.0</td>\n",
       "      <td>1783496.0</td>\n",
       "      <td>174375.0</td>\n",
       "      <td>NaN</td>\n",
       "      <td>80587.0</td>\n",
       "      <td>28732.0</td>\n",
       "      <td>NaN</td>\n",
       "      <td>NaN</td>\n",
       "      <td>480049.0</td>\n",
       "      <td>31477.0</td>\n",
       "      <td>3596800.0</td>\n",
       "    </tr>\n",
       "    <tr>\n",
       "      <th>2017/01</th>\n",
       "      <td>NaN</td>\n",
       "      <td>442769.0</td>\n",
       "      <td>1138666.0</td>\n",
       "      <td>201930.0</td>\n",
       "      <td>5743.0</td>\n",
       "      <td>16078.0</td>\n",
       "      <td>8943.0</td>\n",
       "      <td>NaN</td>\n",
       "      <td>NaN</td>\n",
       "      <td>264591.0</td>\n",
       "      <td>212558.0</td>\n",
       "      <td>2291277.0</td>\n",
       "    </tr>\n",
       "    <tr>\n",
       "      <th>2017/02</th>\n",
       "      <td>NaN</td>\n",
       "      <td>419031.0</td>\n",
       "      <td>947721.0</td>\n",
       "      <td>175352.0</td>\n",
       "      <td>6835.0</td>\n",
       "      <td>15637.0</td>\n",
       "      <td>27589.0</td>\n",
       "      <td>NaN</td>\n",
       "      <td>NaN</td>\n",
       "      <td>518240.0</td>\n",
       "      <td>228212.0</td>\n",
       "      <td>2338618.0</td>\n",
       "    </tr>\n",
       "    <tr>\n",
       "      <th>2017/03</th>\n",
       "      <td>NaN</td>\n",
       "      <td>596981.0</td>\n",
       "      <td>1165207.0</td>\n",
       "      <td>139000.0</td>\n",
       "      <td>5570.0</td>\n",
       "      <td>45042.0</td>\n",
       "      <td>62396.0</td>\n",
       "      <td>0.0</td>\n",
       "      <td>14250.0</td>\n",
       "      <td>433708.0</td>\n",
       "      <td>237404.0</td>\n",
       "      <td>2699557.0</td>\n",
       "    </tr>\n",
       "    <tr>\n",
       "      <th>2017/04</th>\n",
       "      <td>25278.0</td>\n",
       "      <td>593276.0</td>\n",
       "      <td>1188412.0</td>\n",
       "      <td>132948.0</td>\n",
       "      <td>22024.0</td>\n",
       "      <td>21149.0</td>\n",
       "      <td>50544.0</td>\n",
       "      <td>NaN</td>\n",
       "      <td>1.0</td>\n",
       "      <td>518357.0</td>\n",
       "      <td>147026.0</td>\n",
       "      <td>2699015.0</td>\n",
       "    </tr>\n",
       "    <tr>\n",
       "      <th>2017/05</th>\n",
       "      <td>20469.0</td>\n",
       "      <td>298205.0</td>\n",
       "      <td>926253.0</td>\n",
       "      <td>63504.0</td>\n",
       "      <td>31687.0</td>\n",
       "      <td>56710.0</td>\n",
       "      <td>45494.0</td>\n",
       "      <td>2.0</td>\n",
       "      <td>7860.0</td>\n",
       "      <td>483277.0</td>\n",
       "      <td>97798.0</td>\n",
       "      <td>2031258.0</td>\n",
       "    </tr>\n",
       "    <tr>\n",
       "      <th>2017/06</th>\n",
       "      <td>30055.0</td>\n",
       "      <td>351915.0</td>\n",
       "      <td>961273.0</td>\n",
       "      <td>85682.0</td>\n",
       "      <td>1.0</td>\n",
       "      <td>79248.0</td>\n",
       "      <td>31904.0</td>\n",
       "      <td>2204.0</td>\n",
       "      <td>20437.0</td>\n",
       "      <td>345388.0</td>\n",
       "      <td>89350.0</td>\n",
       "      <td>1997456.0</td>\n",
       "    </tr>\n",
       "    <tr>\n",
       "      <th>2017/07</th>\n",
       "      <td>21559.0</td>\n",
       "      <td>271127.0</td>\n",
       "      <td>785516.0</td>\n",
       "      <td>120438.0</td>\n",
       "      <td>3704.0</td>\n",
       "      <td>74340.0</td>\n",
       "      <td>23412.0</td>\n",
       "      <td>NaN</td>\n",
       "      <td>NaN</td>\n",
       "      <td>350381.0</td>\n",
       "      <td>90070.0</td>\n",
       "      <td>1740547.0</td>\n",
       "    </tr>\n",
       "    <tr>\n",
       "      <th>All</th>\n",
       "      <td>97361.0</td>\n",
       "      <td>11532029.0</td>\n",
       "      <td>30364525.0</td>\n",
       "      <td>3758471.0</td>\n",
       "      <td>75565.0</td>\n",
       "      <td>603933.0</td>\n",
       "      <td>424470.0</td>\n",
       "      <td>2206.0</td>\n",
       "      <td>42547.0</td>\n",
       "      <td>5975174.0</td>\n",
       "      <td>2639654.0</td>\n",
       "      <td>55515935.0</td>\n",
       "    </tr>\n",
       "  </tbody>\n",
       "</table>\n",
       "</div>"
      ],
      "text/plain": [
       "DSP          AAP         DBM                        RocketFuel       TTD  \\\n",
       "Type     General     General               TrueView    General    Genral   \n",
       "Public       N/A          No         Yes        N/A        Yes        No   \n",
       "Month                                                                      \n",
       "2016/01      NaN    462491.0   2015535.0   126240.0        NaN       NaN   \n",
       "2016/02      NaN    599799.0   2321375.0   180716.0        NaN       NaN   \n",
       "2016/03      NaN   1042068.0   2574432.0   279131.0        NaN       NaN   \n",
       "2016/04      NaN    525837.0   2141692.0   371005.0        NaN       NaN   \n",
       "2016/05      NaN    537853.0   1718345.0   153631.0        NaN       NaN   \n",
       "2016/06      NaN    601384.0   1900652.0   286835.0        NaN       NaN   \n",
       "2016/07      NaN    470456.0   1444104.0   225570.0        NaN   31395.0   \n",
       "2016/08      NaN    685058.0   1577548.0   138528.0        NaN   90540.0   \n",
       "2016/09      NaN    843696.0   1788445.0   172688.0        NaN   63959.0   \n",
       "2016/10      NaN    784882.0   2080459.0   380387.0        NaN      34.0   \n",
       "2016/11      NaN    987119.0   1905395.0   350509.0        NaN   29214.0   \n",
       "2016/12      NaN   1018084.0   1783496.0   174375.0        NaN   80587.0   \n",
       "2017/01      NaN    442769.0   1138666.0   201930.0     5743.0   16078.0   \n",
       "2017/02      NaN    419031.0    947721.0   175352.0     6835.0   15637.0   \n",
       "2017/03      NaN    596981.0   1165207.0   139000.0     5570.0   45042.0   \n",
       "2017/04  25278.0    593276.0   1188412.0   132948.0    22024.0   21149.0   \n",
       "2017/05  20469.0    298205.0    926253.0    63504.0    31687.0   56710.0   \n",
       "2017/06  30055.0    351915.0    961273.0    85682.0        1.0   79248.0   \n",
       "2017/07  21559.0    271127.0    785516.0   120438.0     3704.0   74340.0   \n",
       "All      97361.0  11532029.0  30364525.0  3758471.0    75565.0  603933.0   \n",
       "\n",
       "DSP                  TURN           Videology                    All  \n",
       "Type              General           Channel 4    General              \n",
       "Public        Yes      No      Yes        N/A        N/A              \n",
       "Month                                                                 \n",
       "2016/01       0.0     NaN      NaN        NaN        NaN   2604266.0  \n",
       "2016/02       0.0     NaN      NaN        NaN        NaN   3101890.0  \n",
       "2016/03       NaN     NaN      NaN        NaN        NaN   3895631.0  \n",
       "2016/04    1974.0     NaN      NaN        NaN        NaN   3040509.0  \n",
       "2016/05   10261.0     NaN      NaN   121445.0   341517.0   2883051.0  \n",
       "2016/06   19950.0     NaN      NaN   163329.0   353411.0   3325562.0  \n",
       "2016/07   13668.0     NaN      NaN   104554.0   162814.0   2452561.0  \n",
       "2016/08   32341.0     NaN      NaN   215635.0   113612.0   2853263.0  \n",
       "2016/09   13476.0     NaN      NaN   302641.0   161261.0   3346166.0  \n",
       "2016/10   27429.0     NaN      NaN   831893.0   227547.0   4332630.0  \n",
       "2016/11   26356.0     NaN      NaN   841687.0   145597.0   4285877.0  \n",
       "2016/12   28732.0     NaN      NaN   480049.0    31477.0   3596800.0  \n",
       "2017/01    8943.0     NaN      NaN   264591.0   212558.0   2291277.0  \n",
       "2017/02   27589.0     NaN      NaN   518240.0   228212.0   2338618.0  \n",
       "2017/03   62396.0     0.0  14250.0   433708.0   237404.0   2699557.0  \n",
       "2017/04   50544.0     NaN      1.0   518357.0   147026.0   2699015.0  \n",
       "2017/05   45494.0     2.0   7860.0   483277.0    97798.0   2031258.0  \n",
       "2017/06   31904.0  2204.0  20437.0   345388.0    89350.0   1997456.0  \n",
       "2017/07   23412.0     NaN      NaN   350381.0    90070.0   1740547.0  \n",
       "All      424470.0  2206.0  42547.0  5975174.0  2639654.0  55515935.0  "
      ]
     },
     "execution_count": 185,
     "metadata": {},
     "output_type": "execute_result"
    }
   ],
   "source": [
    "data.pivot_table(values=\"cSpend\", index=\"Month\", columns=[\"DSP\", \"Type\", \"Public\"], aggfunc=np.sum, margins=True).round()"
   ]
  },
  {
   "cell_type": "code",
   "execution_count": 186,
   "metadata": {},
   "outputs": [
    {
     "data": {
      "text/html": [
       "<div>\n",
       "<style>\n",
       "    .dataframe thead tr:only-child th {\n",
       "        text-align: right;\n",
       "    }\n",
       "\n",
       "    .dataframe thead th {\n",
       "        text-align: left;\n",
       "    }\n",
       "\n",
       "    .dataframe tbody tr th {\n",
       "        vertical-align: top;\n",
       "    }\n",
       "</style>\n",
       "<table border=\"1\" class=\"dataframe\">\n",
       "  <thead>\n",
       "    <tr style=\"text-align: right;\">\n",
       "      <th></th>\n",
       "      <th>cSpend</th>\n",
       "    </tr>\n",
       "    <tr>\n",
       "      <th>Advertiser</th>\n",
       "      <th></th>\n",
       "    </tr>\n",
       "  </thead>\n",
       "  <tbody>\n",
       "    <tr>\n",
       "      <th>Next_UK_Zenith</th>\n",
       "      <td>9.816020e+06</td>\n",
       "    </tr>\n",
       "    <tr>\n",
       "      <th>Natwest (DFA)_UK_Zenith</th>\n",
       "      <td>4.355141e+06</td>\n",
       "    </tr>\n",
       "    <tr>\n",
       "      <th>Mercedes-Benz_UK_Zenith/Ninah</th>\n",
       "      <td>3.923772e+06</td>\n",
       "    </tr>\n",
       "    <tr>\n",
       "      <th>Toyota_UK_Zenith</th>\n",
       "      <td>3.373294e+06</td>\n",
       "    </tr>\n",
       "    <tr>\n",
       "      <th>Entertainment One_UK_Zenith</th>\n",
       "      <td>2.776404e+06</td>\n",
       "    </tr>\n",
       "    <tr>\n",
       "      <th>Aviva_UK_Zenith</th>\n",
       "      <td>2.466817e+06</td>\n",
       "    </tr>\n",
       "    <tr>\n",
       "      <th>Christies_UK_Zenith International</th>\n",
       "      <td>2.148874e+06</td>\n",
       "    </tr>\n",
       "    <tr>\n",
       "      <th>Mercedes UK</th>\n",
       "      <td>1.847864e+06</td>\n",
       "    </tr>\n",
       "    <tr>\n",
       "      <th>Delta Airline_UK_Zenith International</th>\n",
       "      <td>1.191990e+06</td>\n",
       "    </tr>\n",
       "    <tr>\n",
       "      <th>ACER_UK_Zenith</th>\n",
       "      <td>1.000961e+06</td>\n",
       "    </tr>\n",
       "    <tr>\n",
       "      <th>Lexus_UK_Zenith</th>\n",
       "      <td>9.623658e+05</td>\n",
       "    </tr>\n",
       "    <tr>\n",
       "      <th>RBS</th>\n",
       "      <td>9.398100e+05</td>\n",
       "    </tr>\n",
       "    <tr>\n",
       "      <th>Mercedes-Benz_UK_Zenith/Ninah (non-DFA)</th>\n",
       "      <td>8.897799e+05</td>\n",
       "    </tr>\n",
       "    <tr>\n",
       "      <th>Molson Coors</th>\n",
       "      <td>7.809161e+05</td>\n",
       "    </tr>\n",
       "    <tr>\n",
       "      <th>RBS (DFA)_UK_Zenith</th>\n",
       "      <td>7.453729e+05</td>\n",
       "    </tr>\n",
       "    <tr>\n",
       "      <th>KFC_UK_Blue449</th>\n",
       "      <td>7.444476e+05</td>\n",
       "    </tr>\n",
       "    <tr>\n",
       "      <th>Omega_UK_Zenith</th>\n",
       "      <td>7.440371e+05</td>\n",
       "    </tr>\n",
       "    <tr>\n",
       "      <th>E One</th>\n",
       "      <td>7.429599e+05</td>\n",
       "    </tr>\n",
       "    <tr>\n",
       "      <th>Birds Eye</th>\n",
       "      <td>7.255450e+05</td>\n",
       "    </tr>\n",
       "    <tr>\n",
       "      <th>Coty</th>\n",
       "      <td>6.935387e+05</td>\n",
       "    </tr>\n",
       "    <tr>\n",
       "      <th>Omega Pharma</th>\n",
       "      <td>6.598220e+05</td>\n",
       "    </tr>\n",
       "    <tr>\n",
       "      <th>Dixons_UK_Blue449-DCM</th>\n",
       "      <td>6.205994e+05</td>\n",
       "    </tr>\n",
       "    <tr>\n",
       "      <th>SCA_UK_Zenith</th>\n",
       "      <td>5.994574e+05</td>\n",
       "    </tr>\n",
       "    <tr>\n",
       "      <th>Aviva</th>\n",
       "      <td>5.845660e+05</td>\n",
       "    </tr>\n",
       "    <tr>\n",
       "      <th>ACER USD_UK_Zenith International</th>\n",
       "      <td>5.600411e+05</td>\n",
       "    </tr>\n",
       "    <tr>\n",
       "      <th>John Frieda_UK_Zenith</th>\n",
       "      <td>5.400590e+05</td>\n",
       "    </tr>\n",
       "    <tr>\n",
       "      <th>Mercedes-Benz_UK_Zenith</th>\n",
       "      <td>5.360547e+05</td>\n",
       "    </tr>\n",
       "    <tr>\n",
       "      <th>Molson Coors_UK_Zenith (DCM)</th>\n",
       "      <td>4.760278e+05</td>\n",
       "    </tr>\n",
       "    <tr>\n",
       "      <th>Costa_UK_Zenith</th>\n",
       "      <td>4.754996e+05</td>\n",
       "    </tr>\n",
       "    <tr>\n",
       "      <th>Lexus Pan Euro_UK_Zenith International DCM Parent</th>\n",
       "      <td>4.424931e+05</td>\n",
       "    </tr>\n",
       "    <tr>\n",
       "      <th>...</th>\n",
       "      <td>...</td>\n",
       "    </tr>\n",
       "    <tr>\n",
       "      <th>Fred Perry_UK_Zenith (non-DCM)</th>\n",
       "      <td>9.163669e+03</td>\n",
       "    </tr>\n",
       "    <tr>\n",
       "      <th>Mont Blanc_UK_Zenith</th>\n",
       "      <td>8.359464e+03</td>\n",
       "    </tr>\n",
       "    <tr>\n",
       "      <th>Bottega Veneta_UK_Zenith</th>\n",
       "      <td>7.999879e+03</td>\n",
       "    </tr>\n",
       "    <tr>\n",
       "      <th>NAS_UK_Zenith</th>\n",
       "      <td>7.566318e+03</td>\n",
       "    </tr>\n",
       "    <tr>\n",
       "      <th>Premier Group_UK_Zenith</th>\n",
       "      <td>7.484037e+03</td>\n",
       "    </tr>\n",
       "    <tr>\n",
       "      <th>JTI_UK_Zenith</th>\n",
       "      <td>7.353292e+03</td>\n",
       "    </tr>\n",
       "    <tr>\n",
       "      <th>Crucial_IT_Zenith</th>\n",
       "      <td>6.960732e+03</td>\n",
       "    </tr>\n",
       "    <tr>\n",
       "      <th>Carpetright</th>\n",
       "      <td>6.874400e+03</td>\n",
       "    </tr>\n",
       "    <tr>\n",
       "      <th>Acer_UK_Zenith</th>\n",
       "      <td>6.550695e+03</td>\n",
       "    </tr>\n",
       "    <tr>\n",
       "      <th>Oxfam_UK_Zenith (non DCM)</th>\n",
       "      <td>6.447049e+03</td>\n",
       "    </tr>\n",
       "    <tr>\n",
       "      <th>PizzaHut_UK_Starcom</th>\n",
       "      <td>5.658890e+03</td>\n",
       "    </tr>\n",
       "    <tr>\n",
       "      <th>Mercedes_UK_Zenith</th>\n",
       "      <td>5.308608e+03</td>\n",
       "    </tr>\n",
       "    <tr>\n",
       "      <th>Alexander McQueen_UK_Zenith (non-DCM)</th>\n",
       "      <td>5.029201e+03</td>\n",
       "    </tr>\n",
       "    <tr>\n",
       "      <th>Cineworld_UK_Starcom</th>\n",
       "      <td>4.377808e+03</td>\n",
       "    </tr>\n",
       "    <tr>\n",
       "      <th>Gucci_UK_Zenith</th>\n",
       "      <td>4.020035e+03</td>\n",
       "    </tr>\n",
       "    <tr>\n",
       "      <th>Calor Gas-NON DFA_UK_Blue449</th>\n",
       "      <td>3.979138e+03</td>\n",
       "    </tr>\n",
       "    <tr>\n",
       "      <th>DMU_UK_Starcom</th>\n",
       "      <td>2.926635e+03</td>\n",
       "    </tr>\n",
       "    <tr>\n",
       "      <th>Dunhill_UK_Zenith</th>\n",
       "      <td>2.580682e+03</td>\n",
       "    </tr>\n",
       "    <tr>\n",
       "      <th>Vemedia</th>\n",
       "      <td>2.036760e+03</td>\n",
       "    </tr>\n",
       "    <tr>\n",
       "      <th>Vacheron_UK_Zenith</th>\n",
       "      <td>1.824285e+03</td>\n",
       "    </tr>\n",
       "    <tr>\n",
       "      <th>Jaeger LeCoultre_UK_Zenith</th>\n",
       "      <td>9.999642e+02</td>\n",
       "    </tr>\n",
       "    <tr>\n",
       "      <th>Helly Hansen_UK_Starcom</th>\n",
       "      <td>7.301071e+02</td>\n",
       "    </tr>\n",
       "    <tr>\n",
       "      <th>Lombard_UK_Zenith (non DCM)</th>\n",
       "      <td>6.452299e+02</td>\n",
       "    </tr>\n",
       "    <tr>\n",
       "      <th>David Lloyd_UK_Blue449</th>\n",
       "      <td>2.969194e+01</td>\n",
       "    </tr>\n",
       "    <tr>\n",
       "      <th>Test</th>\n",
       "      <td>6.400000e-01</td>\n",
       "    </tr>\n",
       "    <tr>\n",
       "      <th>Travelodge_UK_Starcom</th>\n",
       "      <td>6.378700e-02</td>\n",
       "    </tr>\n",
       "    <tr>\n",
       "      <th>Piaget_UK_Zenith</th>\n",
       "      <td>1.431000e-02</td>\n",
       "    </tr>\n",
       "    <tr>\n",
       "      <th>Ekabe_UK_Zenith</th>\n",
       "      <td>0.000000e+00</td>\n",
       "    </tr>\n",
       "    <tr>\n",
       "      <th>Artsana_UK_Zenith</th>\n",
       "      <td>0.000000e+00</td>\n",
       "    </tr>\n",
       "    <tr>\n",
       "      <th>Avon BAR_UK_Starcom</th>\n",
       "      <td>0.000000e+00</td>\n",
       "    </tr>\n",
       "  </tbody>\n",
       "</table>\n",
       "<p>167 rows × 1 columns</p>\n",
       "</div>"
      ],
      "text/plain": [
       "                                                         cSpend\n",
       "Advertiser                                                     \n",
       "Next_UK_Zenith                                     9.816020e+06\n",
       "Natwest (DFA)_UK_Zenith                            4.355141e+06\n",
       "Mercedes-Benz_UK_Zenith/Ninah                      3.923772e+06\n",
       "Toyota_UK_Zenith                                   3.373294e+06\n",
       "Entertainment One_UK_Zenith                        2.776404e+06\n",
       "Aviva_UK_Zenith                                    2.466817e+06\n",
       "Christies_UK_Zenith International                  2.148874e+06\n",
       "Mercedes UK                                        1.847864e+06\n",
       "Delta Airline_UK_Zenith International              1.191990e+06\n",
       "ACER_UK_Zenith                                     1.000961e+06\n",
       "Lexus_UK_Zenith                                    9.623658e+05\n",
       "RBS                                                9.398100e+05\n",
       "Mercedes-Benz_UK_Zenith/Ninah (non-DFA)            8.897799e+05\n",
       "Molson Coors                                       7.809161e+05\n",
       "RBS (DFA)_UK_Zenith                                7.453729e+05\n",
       "KFC_UK_Blue449                                     7.444476e+05\n",
       "Omega_UK_Zenith                                    7.440371e+05\n",
       "E One                                              7.429599e+05\n",
       "Birds Eye                                          7.255450e+05\n",
       "Coty                                               6.935387e+05\n",
       "Omega Pharma                                       6.598220e+05\n",
       "Dixons_UK_Blue449-DCM                              6.205994e+05\n",
       "SCA_UK_Zenith                                      5.994574e+05\n",
       "Aviva                                              5.845660e+05\n",
       "ACER USD_UK_Zenith International                   5.600411e+05\n",
       "John Frieda_UK_Zenith                              5.400590e+05\n",
       "Mercedes-Benz_UK_Zenith                            5.360547e+05\n",
       "Molson Coors_UK_Zenith (DCM)                       4.760278e+05\n",
       "Costa_UK_Zenith                                    4.754996e+05\n",
       "Lexus Pan Euro_UK_Zenith International DCM Parent  4.424931e+05\n",
       "...                                                         ...\n",
       "Fred Perry_UK_Zenith (non-DCM)                     9.163669e+03\n",
       "Mont Blanc_UK_Zenith                               8.359464e+03\n",
       "Bottega Veneta_UK_Zenith                           7.999879e+03\n",
       "NAS_UK_Zenith                                      7.566318e+03\n",
       "Premier Group_UK_Zenith                            7.484037e+03\n",
       "JTI_UK_Zenith                                      7.353292e+03\n",
       "Crucial_IT_Zenith                                  6.960732e+03\n",
       "Carpetright                                        6.874400e+03\n",
       "Acer_UK_Zenith                                     6.550695e+03\n",
       "Oxfam_UK_Zenith (non DCM)                          6.447049e+03\n",
       "PizzaHut_UK_Starcom                                5.658890e+03\n",
       "Mercedes_UK_Zenith                                 5.308608e+03\n",
       "Alexander McQueen_UK_Zenith (non-DCM)              5.029201e+03\n",
       "Cineworld_UK_Starcom                               4.377808e+03\n",
       "Gucci_UK_Zenith                                    4.020035e+03\n",
       "Calor Gas-NON DFA_UK_Blue449                       3.979138e+03\n",
       "DMU_UK_Starcom                                     2.926635e+03\n",
       "Dunhill_UK_Zenith                                  2.580682e+03\n",
       "Vemedia                                            2.036760e+03\n",
       "Vacheron_UK_Zenith                                 1.824285e+03\n",
       "Jaeger LeCoultre_UK_Zenith                         9.999642e+02\n",
       "Helly Hansen_UK_Starcom                            7.301071e+02\n",
       "Lombard_UK_Zenith (non DCM)                        6.452299e+02\n",
       "David Lloyd_UK_Blue449                             2.969194e+01\n",
       "Test                                               6.400000e-01\n",
       "Travelodge_UK_Starcom                              6.378700e-02\n",
       "Piaget_UK_Zenith                                   1.431000e-02\n",
       "Ekabe_UK_Zenith                                    0.000000e+00\n",
       "Artsana_UK_Zenith                                  0.000000e+00\n",
       "Avon BAR_UK_Starcom                                0.000000e+00\n",
       "\n",
       "[167 rows x 1 columns]"
      ]
     },
     "execution_count": 186,
     "metadata": {},
     "output_type": "execute_result"
    }
   ],
   "source": [
    "data.pivot_table(values=\"cSpend\", index=\"Advertiser\", aggfunc=np.sum).sort_values(\"cSpend\", ascending=False)"
   ]
  },
  {
   "cell_type": "code",
   "execution_count": null,
   "metadata": {
    "collapsed": true
   },
   "outputs": [],
   "source": []
  }
 ],
 "metadata": {
  "anaconda-cloud": {},
  "kernelspec": {
   "display_name": "Python 3",
   "language": "python",
   "name": "python3"
  },
  "language_info": {
   "codemirror_mode": {
    "name": "ipython",
    "version": 3
   },
   "file_extension": ".py",
   "mimetype": "text/x-python",
   "name": "python",
   "nbconvert_exporter": "python",
   "pygments_lexer": "ipython3",
   "version": "3.6.1"
  }
 },
 "nbformat": 4,
 "nbformat_minor": 1
}
