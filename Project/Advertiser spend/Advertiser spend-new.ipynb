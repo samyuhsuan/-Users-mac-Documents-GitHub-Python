{
 "cells": [
  {
   "cell_type": "code",
   "execution_count": 516,
   "metadata": {
    "collapsed": true
   },
   "outputs": [],
   "source": [
    "import pandas as pd\n",
    "import numpy as np\n",
    "import matplotlib.pyplot as plt\n",
    "import seaborn as sns\n",
    "import glob\n",
    "import time\n",
    "import csv\n",
    "%matplotlib inline"
   ]
  },
  {
   "cell_type": "markdown",
   "metadata": {},
   "source": [
    "---"
   ]
  },
  {
   "cell_type": "code",
   "execution_count": 517,
   "metadata": {
    "collapsed": true
   },
   "outputs": [],
   "source": [
    "#DBM data below"
   ]
  },
  {
   "cell_type": "code",
   "execution_count": 518,
   "metadata": {
    "collapsed": true
   },
   "outputs": [],
   "source": [
    "DBM = pd.DataFrame()\n",
    "for file in glob.glob(\"DBM*.csv\"):\n",
    "    df = pd.read_csv(file)\n",
    "    df = df[df[\"Advertiser Currency\"].isnull() == False]\n",
    "    DBM = DBM.append(df, ignore_index=True)"
   ]
  },
  {
   "cell_type": "code",
   "execution_count": 519,
   "metadata": {
    "collapsed": true
   },
   "outputs": [],
   "source": [
    "DBM = DBM.loc[:, [\"Month\", \"Advertiser\", \"Public Inventory\", \"Impressions\", \n",
    "                  \"Clicks\", \"Revenue (Adv Currency)\", \"Media Cost (Advertiser Currency)\", \"Advertiser Currency\"]]"
   ]
  },
  {
   "cell_type": "code",
   "execution_count": 520,
   "metadata": {
    "collapsed": true
   },
   "outputs": [],
   "source": [
    "DBM.columns = [\"Month\", \"Advertiser\", \"Public\", \"Impressions\", \"Clicks\", \"Spend\", \"Media\", \"Currency\"]"
   ]
  },
  {
   "cell_type": "code",
   "execution_count": 521,
   "metadata": {
    "collapsed": true
   },
   "outputs": [],
   "source": [
    "DBM[\"DSP\"] = \"DBM\"\n",
    "DBM[\"Type\"] = \"General\""
   ]
  },
  {
   "cell_type": "markdown",
   "metadata": {},
   "source": [
    "---"
   ]
  },
  {
   "cell_type": "code",
   "execution_count": 522,
   "metadata": {
    "collapsed": true
   },
   "outputs": [],
   "source": [
    "#YouTube/TrueView data below"
   ]
  },
  {
   "cell_type": "code",
   "execution_count": 523,
   "metadata": {
    "collapsed": true
   },
   "outputs": [],
   "source": [
    "YT = pd.DataFrame()\n",
    "for file in glob.glob(\"YT*.csv\"):\n",
    "    df = pd.read_csv(file)\n",
    "    df = df[df[\"Advertiser Currency\"].isnull() == False]\n",
    "    YT = YT.append(df, ignore_index=True)"
   ]
  },
  {
   "cell_type": "code",
   "execution_count": 524,
   "metadata": {
    "collapsed": true
   },
   "outputs": [],
   "source": [
    "YT[\"Public\"] = \"N/A\"\n",
    "YT[\"DSP\"] = \"DBM\"\n",
    "YT[\"Type\"] = \"TrueView\""
   ]
  },
  {
   "cell_type": "code",
   "execution_count": 525,
   "metadata": {
    "collapsed": true
   },
   "outputs": [],
   "source": [
    "YT = YT.loc[:, [\"Month\", \"Advertiser\", \"Public\",\"Impressions\", \n",
    "                \"Clicks\", \"Revenue (Adv Currency)\", \"Media Cost (Advertiser Currency)\", \"Advertiser Currency\", \"DSP\", \"Type\"]]"
   ]
  },
  {
   "cell_type": "code",
   "execution_count": 526,
   "metadata": {
    "collapsed": true
   },
   "outputs": [],
   "source": [
    "YT.columns = ['Month', 'Advertiser', 'Public', 'Impressions', 'Clicks',\n",
    "       'Spend', 'Media', 'Currency', 'DSP', 'Type']"
   ]
  },
  {
   "cell_type": "markdown",
   "metadata": {},
   "source": [
    "---"
   ]
  },
  {
   "cell_type": "code",
   "execution_count": 527,
   "metadata": {
    "collapsed": true
   },
   "outputs": [],
   "source": [
    "#Videology data below\n",
    "#please note the data in the template the time frame please select the specific time rather than 'last month'"
   ]
  },
  {
   "cell_type": "code",
   "execution_count": 528,
   "metadata": {
    "collapsed": true
   },
   "outputs": [],
   "source": [
    "videology = pd.DataFrame()\n",
    "for file in glob.glob(\"Videology*.csv\"):\n",
    "    df = pd.read_csv(file)\n",
    "    df = df[df[\"Placement ID\"].isnull() == False]\n",
    "    videology = videology.append(df, ignore_index=True)"
   ]
  },
  {
   "cell_type": "code",
   "execution_count": 529,
   "metadata": {
    "collapsed": true
   },
   "outputs": [],
   "source": [
    "videology.columns = [\"Advertiser\", \"Placement\", \"PlacementName\", \"Date\", \"Impressions\", \"Spend\", \"Clicks\"]"
   ]
  },
  {
   "cell_type": "code",
   "execution_count": 530,
   "metadata": {
    "collapsed": true
   },
   "outputs": [],
   "source": [
    "list1=[]\n",
    "for month in videology.Date:\n",
    "    g = month[-4:] + \"/\" + \"{0:0=2d}\".format(time.strptime(month[:3], \"%b\").tm_mon)\n",
    "    list1.append(g)"
   ]
  },
  {
   "cell_type": "code",
   "execution_count": 531,
   "metadata": {
    "collapsed": true
   },
   "outputs": [],
   "source": [
    "#repmoving the thousand separator \n",
    "videology.Impressions = videology.Impressions.apply(lambda x: float(x.split()[0].replace(',', '')))\n",
    "videology.Clicks = videology.Clicks.apply(lambda x: float(x.split()[0].replace(',', '')))\n",
    "videology.Spend = videology.Spend.apply(lambda x: float(x.split()[0].replace(',', '')))"
   ]
  },
  {
   "cell_type": "code",
   "execution_count": 532,
   "metadata": {
    "collapsed": true
   },
   "outputs": [],
   "source": [
    "videology[\"Currency\"] = \"GBP\"\n",
    "videology[\"DSP\"] = \"Videology\"\n",
    "videology[\"Type\"] = \"General\"\n",
    "videology.loc[(videology.PlacementName.str.contains(\"Channel 4\")) | \n",
    "              (videology.PlacementName.str.contains(\"C4\")), \"Type\"] = \"Channel 4\"\n",
    "videology[\"Media\"] = videology.Spend * 0.7\n",
    "videology.loc[videology.Type == \"Channel 4\", \"Media\"] = videology.Spend * 0.8\n",
    "videology[\"Public\"] = \"N/A\"\n",
    "videology[\"Month\"] = list1"
   ]
  },
  {
   "cell_type": "code",
   "execution_count": 533,
   "metadata": {
    "collapsed": true
   },
   "outputs": [],
   "source": [
    "videology = videology.loc[:, ['Month', 'Advertiser', 'Public', 'Impressions', 'Clicks', 'Spend',\n",
    "       'Media', 'Currency', 'DSP', 'Type']]"
   ]
  },
  {
   "cell_type": "markdown",
   "metadata": {},
   "source": [
    "---"
   ]
  },
  {
   "cell_type": "code",
   "execution_count": 534,
   "metadata": {
    "collapsed": true
   },
   "outputs": [],
   "source": [
    "#TheTradeDesk data below"
   ]
  },
  {
   "cell_type": "code",
   "execution_count": 535,
   "metadata": {
    "collapsed": true
   },
   "outputs": [],
   "source": [
    "TTD = pd.DataFrame()\n",
    "for file in glob.glob(\"TTTD*.csv\"):\n",
    "    df=pd.read_csv(file)\n",
    "    TTD = TTD.append(df, ignore_index=True)"
   ]
  },
  {
   "cell_type": "code",
   "execution_count": 536,
   "metadata": {
    "collapsed": true
   },
   "outputs": [],
   "source": [
    "TTD[\"Month\"] = TTD.Date.str.split(\"/\").str[2] + \"/\" + TTD.Date.str.split(\"/\").str[1]\n",
    "TTD[\"Public\"] = \"Yes\"\n",
    "TTD.loc[TTD[\"Inventory Contract\"].isnull() != True, \"Public\"] = \"No\"\n",
    "TTD[\"DSP\"] = \"TTD\"\n",
    "TTD[\"Type\"] = \"Genral\""
   ]
  },
  {
   "cell_type": "code",
   "execution_count": 537,
   "metadata": {
    "collapsed": true
   },
   "outputs": [],
   "source": [
    "TTD.columns = ['Date', 'Advertiser', 'Currency', 'Inventory Contract','Impressions', 'Clicks', 'Spend',\n",
    "       'Media', 'Month', 'Public', 'DSP', 'Type']"
   ]
  },
  {
   "cell_type": "code",
   "execution_count": 538,
   "metadata": {
    "collapsed": true
   },
   "outputs": [],
   "source": [
    "TTD = TTD.loc[:, [\"Month\", \"Advertiser\", \"Public\", \"Impressions\", \"Clicks\", \"Spend\", \"Media\", \"Currency\", \"DSP\", \"Type\"]]"
   ]
  },
  {
   "cell_type": "code",
   "execution_count": 539,
   "metadata": {
    "collapsed": true
   },
   "outputs": [],
   "source": [
    "TTD.Spend = TTD.Spend.str.replace(\",\", \"\")\n",
    "TTD.Spend = pd.to_numeric(TTD.Spend) / 100000000000000\n",
    "TTD.Media = TTD.Media.str.replace(\",\", \"\")\n",
    "TTD.Media = pd.to_numeric(TTD.Media) / 100000000000000"
   ]
  },
  {
   "cell_type": "markdown",
   "metadata": {},
   "source": [
    "---"
   ]
  },
  {
   "cell_type": "code",
   "execution_count": 540,
   "metadata": {
    "collapsed": true
   },
   "outputs": [],
   "source": [
    "#RocketFuel data below"
   ]
  },
  {
   "cell_type": "code",
   "execution_count": 541,
   "metadata": {
    "collapsed": true
   },
   "outputs": [],
   "source": [
    "RF = pd.DataFrame()\n",
    "for file in glob.glob(\"RF*.csv\"):\n",
    "    df = pd.read_csv(file)\n",
    "    RF = RF.append(df, ignore_index=True)\n",
    "RF.Spend = RF.Spend.str.replace(\"GBP \", \"\")\n",
    "RF[\"Media Cost\"] = RF[\"Media Cost\"].str.replace(\"GBP \", \"\")"
   ]
  },
  {
   "cell_type": "code",
   "execution_count": 542,
   "metadata": {
    "collapsed": true
   },
   "outputs": [],
   "source": [
    "RF[\"Public\"] = \"Yes\"\n",
    "RF.loc[RF[\"Exchange Deal ID\"].isnull() == False, \"Public\"] = \"No\"\n",
    "RF[\"Month\"] = RF[\"Year and Month\"].str.split(\"-\").str[0] + \"/\" + RF[\"Year and Month\"].str.split(\"-\").str[1]\n",
    "RF[\"DSP\"] = \"RocketFuel\"\n",
    "RF[\"Type\"] = \"General\"\n",
    "RF[\"Currency\"] = \"GBP\""
   ]
  },
  {
   "cell_type": "code",
   "execution_count": 543,
   "metadata": {
    "collapsed": true
   },
   "outputs": [],
   "source": [
    "RF = RF.loc[:, [\"Month\", \"Advertiser\", \"Public\", \"Imps\", \"Clicks\", \"Spend\", \"Media Cost\", \"Currency\", \"DSP\", \"Type\"]]"
   ]
  },
  {
   "cell_type": "code",
   "execution_count": 544,
   "metadata": {
    "collapsed": true
   },
   "outputs": [],
   "source": [
    "RF.columns = ['Month', 'Advertiser', 'Public', 'Impressions', 'Clicks', 'Spend', 'Media', 'Currency', 'DSP', 'Type']"
   ]
  },
  {
   "cell_type": "code",
   "execution_count": 545,
   "metadata": {
    "collapsed": true
   },
   "outputs": [],
   "source": [
    "RF.Spend = RF.Spend.astype(\"float64\")\n",
    "RF.Media = RF.Media.astype(\"float64\")"
   ]
  },
  {
   "cell_type": "markdown",
   "metadata": {},
   "source": [
    "---"
   ]
  },
  {
   "cell_type": "code",
   "execution_count": 546,
   "metadata": {
    "collapsed": true
   },
   "outputs": [],
   "source": [
    "#Amazon data below"
   ]
  },
  {
   "cell_type": "code",
   "execution_count": 547,
   "metadata": {
    "collapsed": true
   },
   "outputs": [],
   "source": [
    "AAP_old = pd.read_csv(\"Amazon_0116_0317.csv\")"
   ]
  },
  {
   "cell_type": "code",
   "execution_count": 548,
   "metadata": {
    "collapsed": true
   },
   "outputs": [],
   "source": [
    "AAP_old = AAP_old.head(147)"
   ]
  },
  {
   "cell_type": "code",
   "execution_count": 549,
   "metadata": {
    "collapsed": true
   },
   "outputs": [],
   "source": [
    "AAP_old.date = AAP_old.date.str.split(\" \").str[0]\n",
    "AAP_old.date = AAP_old.date.str.split(\"/\").str[2] + \"/\" + AAP_old.date.str.split(\"/\").str[1]"
   ]
  },
  {
   "cell_type": "code",
   "execution_count": 550,
   "metadata": {
    "collapsed": true
   },
   "outputs": [],
   "source": [
    "AAP_old.columns = ['Month', 'Advertiser', 'advertiser_id', 'Impressions', 'Clicks',\n",
    "       'Media', 'net cost', 'agency markup', 'Spend']"
   ]
  },
  {
   "cell_type": "code",
   "execution_count": 551,
   "metadata": {
    "collapsed": true
   },
   "outputs": [],
   "source": [
    "AAP = pd.DataFrame()\n",
    "for file in glob.glob(\"AAP*.csv\"):\n",
    "    df = pd.read_csv(file, usecols=[\"Date\", \"Advertiser\", \"Impressions\", \"Clickthroughs\", \n",
    "                                    \"Total Cost\", \"Supply Cost\", \"Order Currency\"])\n",
    "    AAP = AAP.append(df, ignore_index=True) "
   ]
  },
  {
   "cell_type": "code",
   "execution_count": 552,
   "metadata": {
    "collapsed": true
   },
   "outputs": [],
   "source": [
    "AAP = AAP.drop(AAP.index[AAP[\"Total Cost\"] == 0]).reset_index(drop=True)"
   ]
  },
  {
   "cell_type": "code",
   "execution_count": 553,
   "metadata": {
    "collapsed": true
   },
   "outputs": [],
   "source": [
    "list2=[]\n",
    "for month in AAP.Date:\n",
    "    g = month[-4:] + \"/\" + \"{0:0=2d}\".format(time.strptime(month[:3], \"%b\").tm_mon)\n",
    "    list2.append(g)"
   ]
  },
  {
   "cell_type": "code",
   "execution_count": 554,
   "metadata": {
    "collapsed": true
   },
   "outputs": [],
   "source": [
    "AAP.Date = list2\n",
    "AAP[\"Public\"] = \"N/A\"\n",
    "AAP[\"DSP\"] = \"AAP\"\n",
    "AAP[\"Type\"] = \"General\""
   ]
  },
  {
   "cell_type": "code",
   "execution_count": 555,
   "metadata": {
    "collapsed": true
   },
   "outputs": [],
   "source": [
    "AAP.columns = ['Month', 'Advertiser', 'Currency', 'Media', 'Spend','Impressions', 'Clicks', 'Public', 'DSP', 'Type']"
   ]
  },
  {
   "cell_type": "code",
   "execution_count": 556,
   "metadata": {
    "collapsed": true
   },
   "outputs": [],
   "source": [
    "AAP = AAP.loc[:, ['Month', 'Advertiser', 'Public', 'Impressions', 'Clicks', 'Spend', 'Media', 'Currency', 'DSP', 'Type']]"
   ]
  },
  {
   "cell_type": "code",
   "execution_count": 557,
   "metadata": {},
   "outputs": [
    {
     "name": "stderr",
     "output_type": "stream",
     "text": [
      "C:\\Users\\ylin\\AppData\\Local\\Continuum\\Anaconda3\\lib\\site-packages\\ipykernel_launcher.py:1: FutureWarning: convert_objects is deprecated.  Use the data-type specific converters pd.to_datetime, pd.to_timedelta and pd.to_numeric.\n",
      "  \"\"\"Entry point for launching an IPython kernel.\n"
     ]
    }
   ],
   "source": [
    "AAP.Spend = AAP.Spend.convert_objects(convert_numeric=True)"
   ]
  },
  {
   "cell_type": "markdown",
   "metadata": {},
   "source": [
    "---"
   ]
  },
  {
   "cell_type": "code",
   "execution_count": 558,
   "metadata": {
    "collapsed": true
   },
   "outputs": [],
   "source": [
    "#Turn data below"
   ]
  },
  {
   "cell_type": "code",
   "execution_count": 559,
   "metadata": {
    "collapsed": true
   },
   "outputs": [],
   "source": [
    "TURN_old = pd.read_csv(\"oldTURN_0317_0417.csv\")"
   ]
  },
  {
   "cell_type": "code",
   "execution_count": 560,
   "metadata": {
    "collapsed": true
   },
   "outputs": [],
   "source": [
    "TURN_old.Month = TURN_old.Month.str.split(\"/\").str[2] + \"/\" + TURN_old.Month.str.split(\"/\").str[0]"
   ]
  },
  {
   "cell_type": "code",
   "execution_count": 561,
   "metadata": {
    "collapsed": true
   },
   "outputs": [],
   "source": [
    "TURN_old[\"Public\"] = \"Yes\"\n",
    "TURN_old.loc[~TURN_old.Deal_ID.isin([-1]), \"Public\"] = \"No\"\n",
    "TURN_old[\"DSP\"] = \"TURN\"\n",
    "TURN_old[\"Type\"] = \"General\"\n",
    "TURN_old[\"Media\"] = TURN_old.Spend * 0.7"
   ]
  },
  {
   "cell_type": "code",
   "execution_count": 562,
   "metadata": {
    "collapsed": true
   },
   "outputs": [],
   "source": [
    "TURN_old = TURN_old.loc[:, ['Month', 'Advertiser', 'Public', 'Impressions','Clicks','Spend','Media','Currency', 'DSP', 'Type']]"
   ]
  },
  {
   "cell_type": "code",
   "execution_count": 563,
   "metadata": {
    "collapsed": true
   },
   "outputs": [],
   "source": [
    "TURN = pd.DataFrame()\n",
    "for file in glob.glob(\"TURN*.csv\"):\n",
    "    df = pd.read_csv(file, encoding=\"ISO-8859-1\")\n",
    "    TURN = TURN.append(df, ignore_index=True)"
   ]
  },
  {
   "cell_type": "code",
   "execution_count": 564,
   "metadata": {
    "collapsed": true
   },
   "outputs": [],
   "source": [
    "TURN.columns = ['Month', 'Advertiser', 'deal_id', 'deal_name', 'Impressions', 'Clicks', 'Currency', 'Spend']"
   ]
  },
  {
   "cell_type": "code",
   "execution_count": 565,
   "metadata": {
    "collapsed": true
   },
   "outputs": [],
   "source": [
    "TURN.Spend = TURN.Spend.str.replace(\"£\", \"\")\n",
    "TURN.Spend = TURN.Spend.str.replace(\",\", \"\")\n",
    "TURN.Spend = pd.to_numeric(TURN.Spend)"
   ]
  },
  {
   "cell_type": "code",
   "execution_count": 566,
   "metadata": {
    "collapsed": true
   },
   "outputs": [],
   "source": [
    "TURN.Month = TURN.Month.str.split(\"_\").str[0] + \"/\" + TURN.Month.str.split(\"_\").str[1]"
   ]
  },
  {
   "cell_type": "code",
   "execution_count": 567,
   "metadata": {
    "collapsed": true
   },
   "outputs": [],
   "source": [
    "TURN[\"Public\"] = \"Yes\"\n",
    "TURN.loc[~(TURN.deal_id == \"Unknown\"), \"Public\"] = \"No\"\n",
    "TURN[\"DSP\"] = \"TURN\"\n",
    "TURN[\"Type\"] = \"General\"\n",
    "TURN[\"Media\"] = TURN.Spend * 0.7"
   ]
  },
  {
   "cell_type": "code",
   "execution_count": 568,
   "metadata": {
    "collapsed": true
   },
   "outputs": [],
   "source": [
    "TURN = TURN.loc[:, ['Month', 'Advertiser', 'Public', 'Impressions', 'Clicks','Spend','Media','Currency','DSP', 'Type']]\n",
    "TURN = TURN.append(TURN_old, ignore_index=True)"
   ]
  },
  {
   "cell_type": "markdown",
   "metadata": {},
   "source": [
    "---"
   ]
  },
  {
   "cell_type": "code",
   "execution_count": 569,
   "metadata": {
    "collapsed": true
   },
   "outputs": [],
   "source": [
    "#Data from all DSPs"
   ]
  },
  {
   "cell_type": "code",
   "execution_count": 570,
   "metadata": {
    "collapsed": true
   },
   "outputs": [],
   "source": [
    "data = DBM.append([TTD, YT, videology, RF, AAP, TURN], ignore_index=True)"
   ]
  },
  {
   "cell_type": "code",
   "execution_count": 571,
   "metadata": {
    "collapsed": true
   },
   "outputs": [],
   "source": [
    "np.unique(data.Currency)\n",
    "USDtoGBP = 0.77\n",
    "EURtoGBP = 0.84"
   ]
  },
  {
   "cell_type": "code",
   "execution_count": 572,
   "metadata": {
    "collapsed": true
   },
   "outputs": [],
   "source": [
    "data[\"cSpend\"] = data.Spend \n",
    "data.loc[data.Currency == \"USD\",\"cSpend\"] = data.Spend * USDtoGBP\n",
    "data.loc[data.Currency == \"EUR\",\"cSpend\"] = data.Spend * EURtoGBP"
   ]
  },
  {
   "cell_type": "code",
   "execution_count": 573,
   "metadata": {
    "collapsed": true
   },
   "outputs": [],
   "source": [
    "lookup = pd.read_csv(\"clientLookUp.csv\", encoding=\"ISO-8859-1\")"
   ]
  },
  {
   "cell_type": "code",
   "execution_count": 574,
   "metadata": {
    "collapsed": true
   },
   "outputs": [],
   "source": [
    "data = data.merge(lookup[[\"Advertiser\", \"AdvertiserConsolidate\", \"Agency\", \"AgencySub\"]], on=\"Advertiser\", how=\"left\")"
   ]
  },
  {
   "cell_type": "code",
   "execution_count": 575,
   "metadata": {},
   "outputs": [
    {
     "data": {
      "text/html": [
       "<div>\n",
       "<style>\n",
       "    .dataframe thead tr:only-child th {\n",
       "        text-align: right;\n",
       "    }\n",
       "\n",
       "    .dataframe thead th {\n",
       "        text-align: left;\n",
       "    }\n",
       "\n",
       "    .dataframe tbody tr th {\n",
       "        vertical-align: top;\n",
       "    }\n",
       "</style>\n",
       "<table border=\"1\" class=\"dataframe\">\n",
       "  <thead>\n",
       "    <tr style=\"text-align: right;\">\n",
       "      <th></th>\n",
       "      <th>Month</th>\n",
       "      <th>Advertiser</th>\n",
       "      <th>Public</th>\n",
       "      <th>Impressions</th>\n",
       "      <th>Clicks</th>\n",
       "      <th>Spend</th>\n",
       "      <th>Media</th>\n",
       "      <th>Currency</th>\n",
       "      <th>DSP</th>\n",
       "      <th>Type</th>\n",
       "      <th>cSpend</th>\n",
       "      <th>AdvertiserConsolidate</th>\n",
       "      <th>Agency</th>\n",
       "      <th>AgencySub</th>\n",
       "    </tr>\n",
       "  </thead>\n",
       "  <tbody>\n",
       "    <tr>\n",
       "      <th>0</th>\n",
       "      <td>2016/07</td>\n",
       "      <td>BBC Store_UK_Zenith</td>\n",
       "      <td>No</td>\n",
       "      <td>43275</td>\n",
       "      <td>59</td>\n",
       "      <td>174.403276</td>\n",
       "      <td>122.083783</td>\n",
       "      <td>GBP</td>\n",
       "      <td>DBM</td>\n",
       "      <td>General</td>\n",
       "      <td>174.403276</td>\n",
       "      <td>BBCStore</td>\n",
       "      <td>Zenith</td>\n",
       "      <td>UK</td>\n",
       "    </tr>\n",
       "    <tr>\n",
       "      <th>1</th>\n",
       "      <td>2016/03</td>\n",
       "      <td>Aviva_UK_Zenith (non-DCM)</td>\n",
       "      <td>No</td>\n",
       "      <td>12806</td>\n",
       "      <td>438</td>\n",
       "      <td>219.431282</td>\n",
       "      <td>145.403610</td>\n",
       "      <td>GBP</td>\n",
       "      <td>DBM</td>\n",
       "      <td>General</td>\n",
       "      <td>219.431282</td>\n",
       "      <td>AvivaUK</td>\n",
       "      <td>Zenith</td>\n",
       "      <td>UK</td>\n",
       "    </tr>\n",
       "    <tr>\n",
       "      <th>2</th>\n",
       "      <td>2016/05</td>\n",
       "      <td>Qantas_UK_Zenith</td>\n",
       "      <td>No</td>\n",
       "      <td>35249</td>\n",
       "      <td>43</td>\n",
       "      <td>176.013562</td>\n",
       "      <td>120.409233</td>\n",
       "      <td>GBP</td>\n",
       "      <td>DBM</td>\n",
       "      <td>General</td>\n",
       "      <td>176.013562</td>\n",
       "      <td>Qantas</td>\n",
       "      <td>Zenith</td>\n",
       "      <td>UK</td>\n",
       "    </tr>\n",
       "    <tr>\n",
       "      <th>3</th>\n",
       "      <td>2016/10</td>\n",
       "      <td>Toyota_UK_Zenith</td>\n",
       "      <td>No</td>\n",
       "      <td>1.14894e+07</td>\n",
       "      <td>13085</td>\n",
       "      <td>130165.389485</td>\n",
       "      <td>91336.044259</td>\n",
       "      <td>GBP</td>\n",
       "      <td>DBM</td>\n",
       "      <td>General</td>\n",
       "      <td>130165.389485</td>\n",
       "      <td>Toyota</td>\n",
       "      <td>Zenith</td>\n",
       "      <td>UK</td>\n",
       "    </tr>\n",
       "    <tr>\n",
       "      <th>4</th>\n",
       "      <td>2016/07</td>\n",
       "      <td>Hästens_UK_Zenith</td>\n",
       "      <td>No</td>\n",
       "      <td>40890</td>\n",
       "      <td>37</td>\n",
       "      <td>464.743776</td>\n",
       "      <td>325.324612</td>\n",
       "      <td>GBP</td>\n",
       "      <td>DBM</td>\n",
       "      <td>General</td>\n",
       "      <td>464.743776</td>\n",
       "      <td>Hästens</td>\n",
       "      <td>Zenith</td>\n",
       "      <td>UK</td>\n",
       "    </tr>\n",
       "  </tbody>\n",
       "</table>\n",
       "</div>"
      ],
      "text/plain": [
       "     Month                 Advertiser Public  Impressions Clicks  \\\n",
       "0  2016/07        BBC Store_UK_Zenith     No        43275     59   \n",
       "1  2016/03  Aviva_UK_Zenith (non-DCM)     No        12806    438   \n",
       "2  2016/05           Qantas_UK_Zenith     No        35249     43   \n",
       "3  2016/10           Toyota_UK_Zenith     No  1.14894e+07  13085   \n",
       "4  2016/07          Hästens_UK_Zenith     No        40890     37   \n",
       "\n",
       "           Spend         Media Currency  DSP     Type         cSpend  \\\n",
       "0     174.403276    122.083783      GBP  DBM  General     174.403276   \n",
       "1     219.431282    145.403610      GBP  DBM  General     219.431282   \n",
       "2     176.013562    120.409233      GBP  DBM  General     176.013562   \n",
       "3  130165.389485  91336.044259      GBP  DBM  General  130165.389485   \n",
       "4     464.743776    325.324612      GBP  DBM  General     464.743776   \n",
       "\n",
       "  AdvertiserConsolidate  Agency AgencySub  \n",
       "0              BBCStore  Zenith        UK  \n",
       "1               AvivaUK  Zenith        UK  \n",
       "2                Qantas  Zenith        UK  \n",
       "3                Toyota  Zenith        UK  \n",
       "4               Hästens  Zenith        UK  "
      ]
     },
     "execution_count": 575,
     "metadata": {},
     "output_type": "execute_result"
    }
   ],
   "source": [
    "data.head()"
   ]
  },
  {
   "cell_type": "markdown",
   "metadata": {},
   "source": [
    "---"
   ]
  },
  {
   "cell_type": "code",
   "execution_count": 576,
   "metadata": {
    "collapsed": true
   },
   "outputs": [],
   "source": [
    "#file to ZO folder on desktop"
   ]
  },
  {
   "cell_type": "code",
   "execution_count": 577,
   "metadata": {
    "collapsed": true
   },
   "outputs": [],
   "source": [
    "data.sort_values(\"Month\", ascending=True).to_csv(\"C:\\\\Users\\\\ylin\\\\Desktop\\\\ZO Spend\\\\\"+\"ZO spend.csv\", index=False)"
   ]
  },
  {
   "cell_type": "code",
   "execution_count": 578,
   "metadata": {
    "collapsed": true
   },
   "outputs": [],
   "source": [
    "data.pivot_table(values=\"cSpend\", index=\"Month\", columns=[\"DSP\", \"Type\", \"Public\"], \n",
    "                 aggfunc=np.sum, margins=True).round().to_csv(\"C:\\\\Users\\\\ylin\\\\Desktop\\\\ZO Spend\\\\\"+\"ZO spend pivot.csv\")"
   ]
  },
  {
   "cell_type": "code",
   "execution_count": 579,
   "metadata": {
    "collapsed": true
   },
   "outputs": [],
   "source": [
    "data.pivot_table(values=\"cSpend\", index=\"AdvertiserConsolidate\", \n",
    "                 columns=[\"Month\"], aggfunc=np.sum, margins=True).round().to_csv(\"C:\\\\Users\\\\ylin\\\\Desktop\\\\ZO Spend\\\\\"+\"ZO spend pivot by client.csv\")"
   ]
  },
  {
   "cell_type": "code",
   "execution_count": 580,
   "metadata": {
    "collapsed": true
   },
   "outputs": [],
   "source": [
    "data.pivot_table(values=\"cSpend\", index=[\"Agency\", \"AgencySub\"], columns=[\"DSP\", \"Type\", \"Public\"], aggfunc=np.sum, margins=True).round().to_csv(\"C:\\\\Users\\\\ylin\\\\Desktop\\\\ZO Spend\\\\\"+\"ZO spend pivot by agency.csv\")"
   ]
  },
  {
   "cell_type": "code",
   "execution_count": 581,
   "metadata": {},
   "outputs": [
    {
     "data": {
      "text/html": [
       "<div>\n",
       "<style>\n",
       "    .dataframe thead tr:only-child th {\n",
       "        text-align: right;\n",
       "    }\n",
       "\n",
       "    .dataframe thead th {\n",
       "        text-align: left;\n",
       "    }\n",
       "\n",
       "    .dataframe tbody tr th {\n",
       "        vertical-align: top;\n",
       "    }\n",
       "</style>\n",
       "<table border=\"1\" class=\"dataframe\">\n",
       "  <thead>\n",
       "    <tr>\n",
       "      <th>DSP</th>\n",
       "      <th>AAP</th>\n",
       "      <th colspan=\"3\" halign=\"left\">DBM</th>\n",
       "      <th>RocketFuel</th>\n",
       "      <th colspan=\"2\" halign=\"left\">TTD</th>\n",
       "      <th colspan=\"2\" halign=\"left\">TURN</th>\n",
       "      <th colspan=\"2\" halign=\"left\">Videology</th>\n",
       "      <th>All</th>\n",
       "    </tr>\n",
       "    <tr>\n",
       "      <th>Type</th>\n",
       "      <th>General</th>\n",
       "      <th colspan=\"2\" halign=\"left\">General</th>\n",
       "      <th>TrueView</th>\n",
       "      <th>General</th>\n",
       "      <th colspan=\"2\" halign=\"left\">Genral</th>\n",
       "      <th colspan=\"2\" halign=\"left\">General</th>\n",
       "      <th>Channel 4</th>\n",
       "      <th>General</th>\n",
       "      <th></th>\n",
       "    </tr>\n",
       "    <tr>\n",
       "      <th>Public</th>\n",
       "      <th>N/A</th>\n",
       "      <th>No</th>\n",
       "      <th>Yes</th>\n",
       "      <th>N/A</th>\n",
       "      <th>Yes</th>\n",
       "      <th>No</th>\n",
       "      <th>Yes</th>\n",
       "      <th>No</th>\n",
       "      <th>Yes</th>\n",
       "      <th>N/A</th>\n",
       "      <th>N/A</th>\n",
       "      <th></th>\n",
       "    </tr>\n",
       "    <tr>\n",
       "      <th>Month</th>\n",
       "      <th></th>\n",
       "      <th></th>\n",
       "      <th></th>\n",
       "      <th></th>\n",
       "      <th></th>\n",
       "      <th></th>\n",
       "      <th></th>\n",
       "      <th></th>\n",
       "      <th></th>\n",
       "      <th></th>\n",
       "      <th></th>\n",
       "      <th></th>\n",
       "    </tr>\n",
       "  </thead>\n",
       "  <tbody>\n",
       "    <tr>\n",
       "      <th>2016/01</th>\n",
       "      <td>NaN</td>\n",
       "      <td>462491.0</td>\n",
       "      <td>2015535.0</td>\n",
       "      <td>126240.0</td>\n",
       "      <td>NaN</td>\n",
       "      <td>NaN</td>\n",
       "      <td>0.0</td>\n",
       "      <td>NaN</td>\n",
       "      <td>NaN</td>\n",
       "      <td>NaN</td>\n",
       "      <td>NaN</td>\n",
       "      <td>2604266.0</td>\n",
       "    </tr>\n",
       "    <tr>\n",
       "      <th>2016/02</th>\n",
       "      <td>NaN</td>\n",
       "      <td>599799.0</td>\n",
       "      <td>2321375.0</td>\n",
       "      <td>180716.0</td>\n",
       "      <td>NaN</td>\n",
       "      <td>NaN</td>\n",
       "      <td>0.0</td>\n",
       "      <td>NaN</td>\n",
       "      <td>NaN</td>\n",
       "      <td>NaN</td>\n",
       "      <td>NaN</td>\n",
       "      <td>3101890.0</td>\n",
       "    </tr>\n",
       "    <tr>\n",
       "      <th>2016/03</th>\n",
       "      <td>NaN</td>\n",
       "      <td>1042068.0</td>\n",
       "      <td>2574432.0</td>\n",
       "      <td>279131.0</td>\n",
       "      <td>NaN</td>\n",
       "      <td>NaN</td>\n",
       "      <td>NaN</td>\n",
       "      <td>NaN</td>\n",
       "      <td>NaN</td>\n",
       "      <td>NaN</td>\n",
       "      <td>NaN</td>\n",
       "      <td>3895631.0</td>\n",
       "    </tr>\n",
       "    <tr>\n",
       "      <th>2016/04</th>\n",
       "      <td>NaN</td>\n",
       "      <td>525837.0</td>\n",
       "      <td>2141692.0</td>\n",
       "      <td>371005.0</td>\n",
       "      <td>NaN</td>\n",
       "      <td>NaN</td>\n",
       "      <td>1974.0</td>\n",
       "      <td>NaN</td>\n",
       "      <td>NaN</td>\n",
       "      <td>NaN</td>\n",
       "      <td>NaN</td>\n",
       "      <td>3040509.0</td>\n",
       "    </tr>\n",
       "    <tr>\n",
       "      <th>2016/05</th>\n",
       "      <td>NaN</td>\n",
       "      <td>537853.0</td>\n",
       "      <td>1718345.0</td>\n",
       "      <td>153631.0</td>\n",
       "      <td>NaN</td>\n",
       "      <td>NaN</td>\n",
       "      <td>10261.0</td>\n",
       "      <td>NaN</td>\n",
       "      <td>NaN</td>\n",
       "      <td>121445.0</td>\n",
       "      <td>341517.0</td>\n",
       "      <td>2883051.0</td>\n",
       "    </tr>\n",
       "    <tr>\n",
       "      <th>2016/06</th>\n",
       "      <td>NaN</td>\n",
       "      <td>601384.0</td>\n",
       "      <td>1900652.0</td>\n",
       "      <td>286835.0</td>\n",
       "      <td>NaN</td>\n",
       "      <td>NaN</td>\n",
       "      <td>19950.0</td>\n",
       "      <td>NaN</td>\n",
       "      <td>NaN</td>\n",
       "      <td>163329.0</td>\n",
       "      <td>353411.0</td>\n",
       "      <td>3325562.0</td>\n",
       "    </tr>\n",
       "    <tr>\n",
       "      <th>2016/07</th>\n",
       "      <td>NaN</td>\n",
       "      <td>470456.0</td>\n",
       "      <td>1444104.0</td>\n",
       "      <td>225570.0</td>\n",
       "      <td>NaN</td>\n",
       "      <td>31395.0</td>\n",
       "      <td>13668.0</td>\n",
       "      <td>NaN</td>\n",
       "      <td>NaN</td>\n",
       "      <td>104554.0</td>\n",
       "      <td>162814.0</td>\n",
       "      <td>2452561.0</td>\n",
       "    </tr>\n",
       "    <tr>\n",
       "      <th>2016/08</th>\n",
       "      <td>NaN</td>\n",
       "      <td>685058.0</td>\n",
       "      <td>1577548.0</td>\n",
       "      <td>138528.0</td>\n",
       "      <td>NaN</td>\n",
       "      <td>90540.0</td>\n",
       "      <td>32341.0</td>\n",
       "      <td>NaN</td>\n",
       "      <td>NaN</td>\n",
       "      <td>215635.0</td>\n",
       "      <td>113612.0</td>\n",
       "      <td>2853263.0</td>\n",
       "    </tr>\n",
       "    <tr>\n",
       "      <th>2016/09</th>\n",
       "      <td>NaN</td>\n",
       "      <td>843696.0</td>\n",
       "      <td>1788445.0</td>\n",
       "      <td>172688.0</td>\n",
       "      <td>NaN</td>\n",
       "      <td>63959.0</td>\n",
       "      <td>13476.0</td>\n",
       "      <td>NaN</td>\n",
       "      <td>NaN</td>\n",
       "      <td>302641.0</td>\n",
       "      <td>161261.0</td>\n",
       "      <td>3346166.0</td>\n",
       "    </tr>\n",
       "    <tr>\n",
       "      <th>2016/10</th>\n",
       "      <td>NaN</td>\n",
       "      <td>784882.0</td>\n",
       "      <td>2080459.0</td>\n",
       "      <td>380387.0</td>\n",
       "      <td>NaN</td>\n",
       "      <td>34.0</td>\n",
       "      <td>27429.0</td>\n",
       "      <td>NaN</td>\n",
       "      <td>NaN</td>\n",
       "      <td>831893.0</td>\n",
       "      <td>227547.0</td>\n",
       "      <td>4332630.0</td>\n",
       "    </tr>\n",
       "    <tr>\n",
       "      <th>2016/11</th>\n",
       "      <td>NaN</td>\n",
       "      <td>987119.0</td>\n",
       "      <td>1905395.0</td>\n",
       "      <td>350509.0</td>\n",
       "      <td>NaN</td>\n",
       "      <td>29214.0</td>\n",
       "      <td>26356.0</td>\n",
       "      <td>NaN</td>\n",
       "      <td>NaN</td>\n",
       "      <td>841687.0</td>\n",
       "      <td>145597.0</td>\n",
       "      <td>4285877.0</td>\n",
       "    </tr>\n",
       "    <tr>\n",
       "      <th>2016/12</th>\n",
       "      <td>NaN</td>\n",
       "      <td>1018084.0</td>\n",
       "      <td>1783496.0</td>\n",
       "      <td>174375.0</td>\n",
       "      <td>NaN</td>\n",
       "      <td>80587.0</td>\n",
       "      <td>28732.0</td>\n",
       "      <td>NaN</td>\n",
       "      <td>NaN</td>\n",
       "      <td>480049.0</td>\n",
       "      <td>31477.0</td>\n",
       "      <td>3596800.0</td>\n",
       "    </tr>\n",
       "    <tr>\n",
       "      <th>2017/01</th>\n",
       "      <td>NaN</td>\n",
       "      <td>442769.0</td>\n",
       "      <td>1138666.0</td>\n",
       "      <td>201930.0</td>\n",
       "      <td>5743.0</td>\n",
       "      <td>16078.0</td>\n",
       "      <td>8943.0</td>\n",
       "      <td>NaN</td>\n",
       "      <td>NaN</td>\n",
       "      <td>264591.0</td>\n",
       "      <td>212558.0</td>\n",
       "      <td>2291277.0</td>\n",
       "    </tr>\n",
       "    <tr>\n",
       "      <th>2017/02</th>\n",
       "      <td>NaN</td>\n",
       "      <td>419031.0</td>\n",
       "      <td>947721.0</td>\n",
       "      <td>175352.0</td>\n",
       "      <td>6835.0</td>\n",
       "      <td>15637.0</td>\n",
       "      <td>27589.0</td>\n",
       "      <td>NaN</td>\n",
       "      <td>NaN</td>\n",
       "      <td>518240.0</td>\n",
       "      <td>228212.0</td>\n",
       "      <td>2338618.0</td>\n",
       "    </tr>\n",
       "    <tr>\n",
       "      <th>2017/03</th>\n",
       "      <td>NaN</td>\n",
       "      <td>596981.0</td>\n",
       "      <td>1165207.0</td>\n",
       "      <td>139000.0</td>\n",
       "      <td>5570.0</td>\n",
       "      <td>45042.0</td>\n",
       "      <td>62396.0</td>\n",
       "      <td>0.0</td>\n",
       "      <td>14250.0</td>\n",
       "      <td>433708.0</td>\n",
       "      <td>237404.0</td>\n",
       "      <td>2699557.0</td>\n",
       "    </tr>\n",
       "    <tr>\n",
       "      <th>2017/04</th>\n",
       "      <td>25278.0</td>\n",
       "      <td>593276.0</td>\n",
       "      <td>1188412.0</td>\n",
       "      <td>132948.0</td>\n",
       "      <td>22024.0</td>\n",
       "      <td>21149.0</td>\n",
       "      <td>50544.0</td>\n",
       "      <td>NaN</td>\n",
       "      <td>1.0</td>\n",
       "      <td>518357.0</td>\n",
       "      <td>147026.0</td>\n",
       "      <td>2699015.0</td>\n",
       "    </tr>\n",
       "    <tr>\n",
       "      <th>2017/05</th>\n",
       "      <td>20469.0</td>\n",
       "      <td>298205.0</td>\n",
       "      <td>926253.0</td>\n",
       "      <td>63504.0</td>\n",
       "      <td>31687.0</td>\n",
       "      <td>56710.0</td>\n",
       "      <td>45494.0</td>\n",
       "      <td>2.0</td>\n",
       "      <td>7860.0</td>\n",
       "      <td>483277.0</td>\n",
       "      <td>97798.0</td>\n",
       "      <td>2031258.0</td>\n",
       "    </tr>\n",
       "    <tr>\n",
       "      <th>2017/06</th>\n",
       "      <td>30055.0</td>\n",
       "      <td>351915.0</td>\n",
       "      <td>961273.0</td>\n",
       "      <td>85682.0</td>\n",
       "      <td>1.0</td>\n",
       "      <td>79248.0</td>\n",
       "      <td>31904.0</td>\n",
       "      <td>2204.0</td>\n",
       "      <td>20437.0</td>\n",
       "      <td>345388.0</td>\n",
       "      <td>89350.0</td>\n",
       "      <td>1997456.0</td>\n",
       "    </tr>\n",
       "    <tr>\n",
       "      <th>2017/07</th>\n",
       "      <td>21559.0</td>\n",
       "      <td>271127.0</td>\n",
       "      <td>785516.0</td>\n",
       "      <td>120438.0</td>\n",
       "      <td>3704.0</td>\n",
       "      <td>74340.0</td>\n",
       "      <td>23412.0</td>\n",
       "      <td>2387.0</td>\n",
       "      <td>13584.0</td>\n",
       "      <td>350381.0</td>\n",
       "      <td>90070.0</td>\n",
       "      <td>1756518.0</td>\n",
       "    </tr>\n",
       "    <tr>\n",
       "      <th>2017/08</th>\n",
       "      <td>32519.0</td>\n",
       "      <td>353206.0</td>\n",
       "      <td>788154.0</td>\n",
       "      <td>172132.0</td>\n",
       "      <td>10532.0</td>\n",
       "      <td>58307.0</td>\n",
       "      <td>17265.0</td>\n",
       "      <td>11497.0</td>\n",
       "      <td>35540.0</td>\n",
       "      <td>345237.0</td>\n",
       "      <td>59077.0</td>\n",
       "      <td>1883465.0</td>\n",
       "    </tr>\n",
       "    <tr>\n",
       "      <th>2017/09</th>\n",
       "      <td>27907.0</td>\n",
       "      <td>409477.0</td>\n",
       "      <td>813817.0</td>\n",
       "      <td>103424.0</td>\n",
       "      <td>14785.0</td>\n",
       "      <td>88593.0</td>\n",
       "      <td>19698.0</td>\n",
       "      <td>6390.0</td>\n",
       "      <td>14299.0</td>\n",
       "      <td>413142.0</td>\n",
       "      <td>113248.0</td>\n",
       "      <td>2024780.0</td>\n",
       "    </tr>\n",
       "    <tr>\n",
       "      <th>2017/10</th>\n",
       "      <td>34644.0</td>\n",
       "      <td>612566.0</td>\n",
       "      <td>1286887.0</td>\n",
       "      <td>116184.0</td>\n",
       "      <td>65421.0</td>\n",
       "      <td>68197.0</td>\n",
       "      <td>16581.0</td>\n",
       "      <td>NaN</td>\n",
       "      <td>NaN</td>\n",
       "      <td>370971.0</td>\n",
       "      <td>57690.0</td>\n",
       "      <td>2629140.0</td>\n",
       "    </tr>\n",
       "    <tr>\n",
       "      <th>All</th>\n",
       "      <td>192431.0</td>\n",
       "      <td>12907279.0</td>\n",
       "      <td>33253383.0</td>\n",
       "      <td>4150211.0</td>\n",
       "      <td>166302.0</td>\n",
       "      <td>819029.0</td>\n",
       "      <td>478013.0</td>\n",
       "      <td>22480.0</td>\n",
       "      <td>105969.0</td>\n",
       "      <td>7104524.0</td>\n",
       "      <td>2869669.0</td>\n",
       "      <td>62069290.0</td>\n",
       "    </tr>\n",
       "  </tbody>\n",
       "</table>\n",
       "</div>"
      ],
      "text/plain": [
       "DSP           AAP         DBM                        RocketFuel       TTD  \\\n",
       "Type      General     General               TrueView    General    Genral   \n",
       "Public        N/A          No         Yes        N/A        Yes        No   \n",
       "Month                                                                       \n",
       "2016/01       NaN    462491.0   2015535.0   126240.0        NaN       NaN   \n",
       "2016/02       NaN    599799.0   2321375.0   180716.0        NaN       NaN   \n",
       "2016/03       NaN   1042068.0   2574432.0   279131.0        NaN       NaN   \n",
       "2016/04       NaN    525837.0   2141692.0   371005.0        NaN       NaN   \n",
       "2016/05       NaN    537853.0   1718345.0   153631.0        NaN       NaN   \n",
       "2016/06       NaN    601384.0   1900652.0   286835.0        NaN       NaN   \n",
       "2016/07       NaN    470456.0   1444104.0   225570.0        NaN   31395.0   \n",
       "2016/08       NaN    685058.0   1577548.0   138528.0        NaN   90540.0   \n",
       "2016/09       NaN    843696.0   1788445.0   172688.0        NaN   63959.0   \n",
       "2016/10       NaN    784882.0   2080459.0   380387.0        NaN      34.0   \n",
       "2016/11       NaN    987119.0   1905395.0   350509.0        NaN   29214.0   \n",
       "2016/12       NaN   1018084.0   1783496.0   174375.0        NaN   80587.0   \n",
       "2017/01       NaN    442769.0   1138666.0   201930.0     5743.0   16078.0   \n",
       "2017/02       NaN    419031.0    947721.0   175352.0     6835.0   15637.0   \n",
       "2017/03       NaN    596981.0   1165207.0   139000.0     5570.0   45042.0   \n",
       "2017/04   25278.0    593276.0   1188412.0   132948.0    22024.0   21149.0   \n",
       "2017/05   20469.0    298205.0    926253.0    63504.0    31687.0   56710.0   \n",
       "2017/06   30055.0    351915.0    961273.0    85682.0        1.0   79248.0   \n",
       "2017/07   21559.0    271127.0    785516.0   120438.0     3704.0   74340.0   \n",
       "2017/08   32519.0    353206.0    788154.0   172132.0    10532.0   58307.0   \n",
       "2017/09   27907.0    409477.0    813817.0   103424.0    14785.0   88593.0   \n",
       "2017/10   34644.0    612566.0   1286887.0   116184.0    65421.0   68197.0   \n",
       "All      192431.0  12907279.0  33253383.0  4150211.0   166302.0  819029.0   \n",
       "\n",
       "DSP                   TURN            Videology                    All  \n",
       "Type               General            Channel 4    General              \n",
       "Public        Yes       No       Yes        N/A        N/A              \n",
       "Month                                                                   \n",
       "2016/01       0.0      NaN       NaN        NaN        NaN   2604266.0  \n",
       "2016/02       0.0      NaN       NaN        NaN        NaN   3101890.0  \n",
       "2016/03       NaN      NaN       NaN        NaN        NaN   3895631.0  \n",
       "2016/04    1974.0      NaN       NaN        NaN        NaN   3040509.0  \n",
       "2016/05   10261.0      NaN       NaN   121445.0   341517.0   2883051.0  \n",
       "2016/06   19950.0      NaN       NaN   163329.0   353411.0   3325562.0  \n",
       "2016/07   13668.0      NaN       NaN   104554.0   162814.0   2452561.0  \n",
       "2016/08   32341.0      NaN       NaN   215635.0   113612.0   2853263.0  \n",
       "2016/09   13476.0      NaN       NaN   302641.0   161261.0   3346166.0  \n",
       "2016/10   27429.0      NaN       NaN   831893.0   227547.0   4332630.0  \n",
       "2016/11   26356.0      NaN       NaN   841687.0   145597.0   4285877.0  \n",
       "2016/12   28732.0      NaN       NaN   480049.0    31477.0   3596800.0  \n",
       "2017/01    8943.0      NaN       NaN   264591.0   212558.0   2291277.0  \n",
       "2017/02   27589.0      NaN       NaN   518240.0   228212.0   2338618.0  \n",
       "2017/03   62396.0      0.0   14250.0   433708.0   237404.0   2699557.0  \n",
       "2017/04   50544.0      NaN       1.0   518357.0   147026.0   2699015.0  \n",
       "2017/05   45494.0      2.0    7860.0   483277.0    97798.0   2031258.0  \n",
       "2017/06   31904.0   2204.0   20437.0   345388.0    89350.0   1997456.0  \n",
       "2017/07   23412.0   2387.0   13584.0   350381.0    90070.0   1756518.0  \n",
       "2017/08   17265.0  11497.0   35540.0   345237.0    59077.0   1883465.0  \n",
       "2017/09   19698.0   6390.0   14299.0   413142.0   113248.0   2024780.0  \n",
       "2017/10   16581.0      NaN       NaN   370971.0    57690.0   2629140.0  \n",
       "All      478013.0  22480.0  105969.0  7104524.0  2869669.0  62069290.0  "
      ]
     },
     "execution_count": 581,
     "metadata": {},
     "output_type": "execute_result"
    }
   ],
   "source": [
    "data.pivot_table(values=\"cSpend\", index=\"Month\", columns=[\"DSP\", \"Type\", \"Public\"], aggfunc=np.sum, margins=True).round()"
   ]
  },
  {
   "cell_type": "code",
   "execution_count": 582,
   "metadata": {},
   "outputs": [
    {
     "data": {
      "text/html": [
       "<div>\n",
       "<style>\n",
       "    .dataframe thead tr:only-child th {\n",
       "        text-align: right;\n",
       "    }\n",
       "\n",
       "    .dataframe thead th {\n",
       "        text-align: left;\n",
       "    }\n",
       "\n",
       "    .dataframe tbody tr th {\n",
       "        vertical-align: top;\n",
       "    }\n",
       "</style>\n",
       "<table border=\"1\" class=\"dataframe\">\n",
       "  <thead>\n",
       "    <tr style=\"text-align: right;\">\n",
       "      <th></th>\n",
       "      <th>Month</th>\n",
       "      <th>Advertiser</th>\n",
       "      <th>Public</th>\n",
       "      <th>Impressions</th>\n",
       "      <th>Clicks</th>\n",
       "      <th>Spend</th>\n",
       "      <th>Media</th>\n",
       "      <th>Currency</th>\n",
       "      <th>DSP</th>\n",
       "      <th>Type</th>\n",
       "      <th>cSpend</th>\n",
       "      <th>AdvertiserConsolidate</th>\n",
       "      <th>Agency</th>\n",
       "      <th>AgencySub</th>\n",
       "    </tr>\n",
       "  </thead>\n",
       "  <tbody>\n",
       "    <tr>\n",
       "      <th>0</th>\n",
       "      <td>2016/07</td>\n",
       "      <td>BBC Store_UK_Zenith</td>\n",
       "      <td>No</td>\n",
       "      <td>43275</td>\n",
       "      <td>59</td>\n",
       "      <td>174.403276</td>\n",
       "      <td>122.083783</td>\n",
       "      <td>GBP</td>\n",
       "      <td>DBM</td>\n",
       "      <td>General</td>\n",
       "      <td>174.403276</td>\n",
       "      <td>BBCStore</td>\n",
       "      <td>Zenith</td>\n",
       "      <td>UK</td>\n",
       "    </tr>\n",
       "    <tr>\n",
       "      <th>1</th>\n",
       "      <td>2016/03</td>\n",
       "      <td>Aviva_UK_Zenith (non-DCM)</td>\n",
       "      <td>No</td>\n",
       "      <td>12806</td>\n",
       "      <td>438</td>\n",
       "      <td>219.431282</td>\n",
       "      <td>145.403610</td>\n",
       "      <td>GBP</td>\n",
       "      <td>DBM</td>\n",
       "      <td>General</td>\n",
       "      <td>219.431282</td>\n",
       "      <td>AvivaUK</td>\n",
       "      <td>Zenith</td>\n",
       "      <td>UK</td>\n",
       "    </tr>\n",
       "    <tr>\n",
       "      <th>2</th>\n",
       "      <td>2016/05</td>\n",
       "      <td>Qantas_UK_Zenith</td>\n",
       "      <td>No</td>\n",
       "      <td>35249</td>\n",
       "      <td>43</td>\n",
       "      <td>176.013562</td>\n",
       "      <td>120.409233</td>\n",
       "      <td>GBP</td>\n",
       "      <td>DBM</td>\n",
       "      <td>General</td>\n",
       "      <td>176.013562</td>\n",
       "      <td>Qantas</td>\n",
       "      <td>Zenith</td>\n",
       "      <td>UK</td>\n",
       "    </tr>\n",
       "    <tr>\n",
       "      <th>3</th>\n",
       "      <td>2016/10</td>\n",
       "      <td>Toyota_UK_Zenith</td>\n",
       "      <td>No</td>\n",
       "      <td>1.14894e+07</td>\n",
       "      <td>13085</td>\n",
       "      <td>130165.389485</td>\n",
       "      <td>91336.044259</td>\n",
       "      <td>GBP</td>\n",
       "      <td>DBM</td>\n",
       "      <td>General</td>\n",
       "      <td>130165.389485</td>\n",
       "      <td>Toyota</td>\n",
       "      <td>Zenith</td>\n",
       "      <td>UK</td>\n",
       "    </tr>\n",
       "    <tr>\n",
       "      <th>4</th>\n",
       "      <td>2016/07</td>\n",
       "      <td>Hästens_UK_Zenith</td>\n",
       "      <td>No</td>\n",
       "      <td>40890</td>\n",
       "      <td>37</td>\n",
       "      <td>464.743776</td>\n",
       "      <td>325.324612</td>\n",
       "      <td>GBP</td>\n",
       "      <td>DBM</td>\n",
       "      <td>General</td>\n",
       "      <td>464.743776</td>\n",
       "      <td>Hästens</td>\n",
       "      <td>Zenith</td>\n",
       "      <td>UK</td>\n",
       "    </tr>\n",
       "  </tbody>\n",
       "</table>\n",
       "</div>"
      ],
      "text/plain": [
       "     Month                 Advertiser Public  Impressions Clicks  \\\n",
       "0  2016/07        BBC Store_UK_Zenith     No        43275     59   \n",
       "1  2016/03  Aviva_UK_Zenith (non-DCM)     No        12806    438   \n",
       "2  2016/05           Qantas_UK_Zenith     No        35249     43   \n",
       "3  2016/10           Toyota_UK_Zenith     No  1.14894e+07  13085   \n",
       "4  2016/07          Hästens_UK_Zenith     No        40890     37   \n",
       "\n",
       "           Spend         Media Currency  DSP     Type         cSpend  \\\n",
       "0     174.403276    122.083783      GBP  DBM  General     174.403276   \n",
       "1     219.431282    145.403610      GBP  DBM  General     219.431282   \n",
       "2     176.013562    120.409233      GBP  DBM  General     176.013562   \n",
       "3  130165.389485  91336.044259      GBP  DBM  General  130165.389485   \n",
       "4     464.743776    325.324612      GBP  DBM  General     464.743776   \n",
       "\n",
       "  AdvertiserConsolidate  Agency AgencySub  \n",
       "0              BBCStore  Zenith        UK  \n",
       "1               AvivaUK  Zenith        UK  \n",
       "2                Qantas  Zenith        UK  \n",
       "3                Toyota  Zenith        UK  \n",
       "4               Hästens  Zenith        UK  "
      ]
     },
     "execution_count": 582,
     "metadata": {},
     "output_type": "execute_result"
    }
   ],
   "source": [
    "data.head()"
   ]
  },
  {
   "cell_type": "code",
   "execution_count": 583,
   "metadata": {},
   "outputs": [
    {
     "data": {
      "text/html": [
       "<div>\n",
       "<style>\n",
       "    .dataframe thead tr:only-child th {\n",
       "        text-align: right;\n",
       "    }\n",
       "\n",
       "    .dataframe thead th {\n",
       "        text-align: left;\n",
       "    }\n",
       "\n",
       "    .dataframe tbody tr th {\n",
       "        vertical-align: top;\n",
       "    }\n",
       "</style>\n",
       "<table border=\"1\" class=\"dataframe\">\n",
       "  <thead>\n",
       "    <tr>\n",
       "      <th>DSP</th>\n",
       "      <th colspan=\"3\" halign=\"left\">DBM</th>\n",
       "      <th colspan=\"2\" halign=\"left\">TURN</th>\n",
       "      <th colspan=\"2\" halign=\"left\">Videology</th>\n",
       "      <th>All</th>\n",
       "    </tr>\n",
       "    <tr>\n",
       "      <th>Type</th>\n",
       "      <th colspan=\"2\" halign=\"left\">General</th>\n",
       "      <th>TrueView</th>\n",
       "      <th colspan=\"2\" halign=\"left\">General</th>\n",
       "      <th>Channel 4</th>\n",
       "      <th>General</th>\n",
       "      <th></th>\n",
       "    </tr>\n",
       "    <tr>\n",
       "      <th>Public</th>\n",
       "      <th>No</th>\n",
       "      <th>Yes</th>\n",
       "      <th>N/A</th>\n",
       "      <th>No</th>\n",
       "      <th>Yes</th>\n",
       "      <th>N/A</th>\n",
       "      <th>N/A</th>\n",
       "      <th></th>\n",
       "    </tr>\n",
       "    <tr>\n",
       "      <th>Month</th>\n",
       "      <th></th>\n",
       "      <th></th>\n",
       "      <th></th>\n",
       "      <th></th>\n",
       "      <th></th>\n",
       "      <th></th>\n",
       "      <th></th>\n",
       "      <th></th>\n",
       "    </tr>\n",
       "  </thead>\n",
       "  <tbody>\n",
       "    <tr>\n",
       "      <th>2016/01</th>\n",
       "      <td>8132.0</td>\n",
       "      <td>17245.0</td>\n",
       "      <td>NaN</td>\n",
       "      <td>NaN</td>\n",
       "      <td>NaN</td>\n",
       "      <td>NaN</td>\n",
       "      <td>NaN</td>\n",
       "      <td>25377.0</td>\n",
       "    </tr>\n",
       "    <tr>\n",
       "      <th>2016/02</th>\n",
       "      <td>21874.0</td>\n",
       "      <td>27135.0</td>\n",
       "      <td>NaN</td>\n",
       "      <td>NaN</td>\n",
       "      <td>NaN</td>\n",
       "      <td>NaN</td>\n",
       "      <td>NaN</td>\n",
       "      <td>49009.0</td>\n",
       "    </tr>\n",
       "    <tr>\n",
       "      <th>2016/03</th>\n",
       "      <td>1464.0</td>\n",
       "      <td>1201.0</td>\n",
       "      <td>NaN</td>\n",
       "      <td>NaN</td>\n",
       "      <td>NaN</td>\n",
       "      <td>NaN</td>\n",
       "      <td>NaN</td>\n",
       "      <td>2665.0</td>\n",
       "    </tr>\n",
       "    <tr>\n",
       "      <th>2016/04</th>\n",
       "      <td>10350.0</td>\n",
       "      <td>2660.0</td>\n",
       "      <td>NaN</td>\n",
       "      <td>NaN</td>\n",
       "      <td>NaN</td>\n",
       "      <td>NaN</td>\n",
       "      <td>NaN</td>\n",
       "      <td>13010.0</td>\n",
       "    </tr>\n",
       "    <tr>\n",
       "      <th>2016/05</th>\n",
       "      <td>4317.0</td>\n",
       "      <td>6335.0</td>\n",
       "      <td>NaN</td>\n",
       "      <td>NaN</td>\n",
       "      <td>NaN</td>\n",
       "      <td>6918.0</td>\n",
       "      <td>17405.0</td>\n",
       "      <td>34974.0</td>\n",
       "    </tr>\n",
       "    <tr>\n",
       "      <th>2016/06</th>\n",
       "      <td>14867.0</td>\n",
       "      <td>8940.0</td>\n",
       "      <td>NaN</td>\n",
       "      <td>NaN</td>\n",
       "      <td>NaN</td>\n",
       "      <td>NaN</td>\n",
       "      <td>NaN</td>\n",
       "      <td>23807.0</td>\n",
       "    </tr>\n",
       "    <tr>\n",
       "      <th>2016/07</th>\n",
       "      <td>20884.0</td>\n",
       "      <td>14565.0</td>\n",
       "      <td>NaN</td>\n",
       "      <td>NaN</td>\n",
       "      <td>NaN</td>\n",
       "      <td>NaN</td>\n",
       "      <td>NaN</td>\n",
       "      <td>35449.0</td>\n",
       "    </tr>\n",
       "    <tr>\n",
       "      <th>2016/08</th>\n",
       "      <td>8712.0</td>\n",
       "      <td>34221.0</td>\n",
       "      <td>NaN</td>\n",
       "      <td>NaN</td>\n",
       "      <td>NaN</td>\n",
       "      <td>44785.0</td>\n",
       "      <td>NaN</td>\n",
       "      <td>87719.0</td>\n",
       "    </tr>\n",
       "    <tr>\n",
       "      <th>2016/09</th>\n",
       "      <td>13802.0</td>\n",
       "      <td>47814.0</td>\n",
       "      <td>NaN</td>\n",
       "      <td>NaN</td>\n",
       "      <td>NaN</td>\n",
       "      <td>21227.0</td>\n",
       "      <td>NaN</td>\n",
       "      <td>82844.0</td>\n",
       "    </tr>\n",
       "    <tr>\n",
       "      <th>2016/10</th>\n",
       "      <td>7173.0</td>\n",
       "      <td>25523.0</td>\n",
       "      <td>NaN</td>\n",
       "      <td>NaN</td>\n",
       "      <td>NaN</td>\n",
       "      <td>11060.0</td>\n",
       "      <td>NaN</td>\n",
       "      <td>43756.0</td>\n",
       "    </tr>\n",
       "    <tr>\n",
       "      <th>2016/11</th>\n",
       "      <td>8844.0</td>\n",
       "      <td>26119.0</td>\n",
       "      <td>NaN</td>\n",
       "      <td>NaN</td>\n",
       "      <td>NaN</td>\n",
       "      <td>31492.0</td>\n",
       "      <td>NaN</td>\n",
       "      <td>66455.0</td>\n",
       "    </tr>\n",
       "    <tr>\n",
       "      <th>2016/12</th>\n",
       "      <td>4099.0</td>\n",
       "      <td>0.0</td>\n",
       "      <td>NaN</td>\n",
       "      <td>NaN</td>\n",
       "      <td>NaN</td>\n",
       "      <td>43589.0</td>\n",
       "      <td>NaN</td>\n",
       "      <td>47688.0</td>\n",
       "    </tr>\n",
       "    <tr>\n",
       "      <th>2017/01</th>\n",
       "      <td>NaN</td>\n",
       "      <td>39394.0</td>\n",
       "      <td>39394.0</td>\n",
       "      <td>NaN</td>\n",
       "      <td>NaN</td>\n",
       "      <td>NaN</td>\n",
       "      <td>NaN</td>\n",
       "      <td>78788.0</td>\n",
       "    </tr>\n",
       "    <tr>\n",
       "      <th>2017/02</th>\n",
       "      <td>6880.0</td>\n",
       "      <td>16454.0</td>\n",
       "      <td>16454.0</td>\n",
       "      <td>NaN</td>\n",
       "      <td>NaN</td>\n",
       "      <td>19191.0</td>\n",
       "      <td>6816.0</td>\n",
       "      <td>65795.0</td>\n",
       "    </tr>\n",
       "    <tr>\n",
       "      <th>2017/03</th>\n",
       "      <td>10204.0</td>\n",
       "      <td>30746.0</td>\n",
       "      <td>30746.0</td>\n",
       "      <td>NaN</td>\n",
       "      <td>NaN</td>\n",
       "      <td>21344.0</td>\n",
       "      <td>20345.0</td>\n",
       "      <td>113386.0</td>\n",
       "    </tr>\n",
       "    <tr>\n",
       "      <th>2017/04</th>\n",
       "      <td>NaN</td>\n",
       "      <td>115469.0</td>\n",
       "      <td>115469.0</td>\n",
       "      <td>NaN</td>\n",
       "      <td>NaN</td>\n",
       "      <td>12028.0</td>\n",
       "      <td>3123.0</td>\n",
       "      <td>246087.0</td>\n",
       "    </tr>\n",
       "    <tr>\n",
       "      <th>2017/05</th>\n",
       "      <td>NaN</td>\n",
       "      <td>29399.0</td>\n",
       "      <td>29399.0</td>\n",
       "      <td>0.0</td>\n",
       "      <td>2561.0</td>\n",
       "      <td>18609.0</td>\n",
       "      <td>4604.0</td>\n",
       "      <td>84571.0</td>\n",
       "    </tr>\n",
       "    <tr>\n",
       "      <th>2017/06</th>\n",
       "      <td>NaN</td>\n",
       "      <td>NaN</td>\n",
       "      <td>NaN</td>\n",
       "      <td>348.0</td>\n",
       "      <td>806.0</td>\n",
       "      <td>10224.0</td>\n",
       "      <td>5510.0</td>\n",
       "      <td>16888.0</td>\n",
       "    </tr>\n",
       "    <tr>\n",
       "      <th>2017/07</th>\n",
       "      <td>NaN</td>\n",
       "      <td>8943.0</td>\n",
       "      <td>8943.0</td>\n",
       "      <td>808.0</td>\n",
       "      <td>9749.0</td>\n",
       "      <td>16624.0</td>\n",
       "      <td>5379.0</td>\n",
       "      <td>50445.0</td>\n",
       "    </tr>\n",
       "    <tr>\n",
       "      <th>2017/08</th>\n",
       "      <td>NaN</td>\n",
       "      <td>38850.0</td>\n",
       "      <td>38850.0</td>\n",
       "      <td>11497.0</td>\n",
       "      <td>35540.0</td>\n",
       "      <td>69355.0</td>\n",
       "      <td>4113.0</td>\n",
       "      <td>198204.0</td>\n",
       "    </tr>\n",
       "    <tr>\n",
       "      <th>2017/09</th>\n",
       "      <td>14119.0</td>\n",
       "      <td>23493.0</td>\n",
       "      <td>23493.0</td>\n",
       "      <td>6390.0</td>\n",
       "      <td>14299.0</td>\n",
       "      <td>39987.0</td>\n",
       "      <td>17460.0</td>\n",
       "      <td>139241.0</td>\n",
       "    </tr>\n",
       "    <tr>\n",
       "      <th>2017/10</th>\n",
       "      <td>10609.0</td>\n",
       "      <td>54463.0</td>\n",
       "      <td>54463.0</td>\n",
       "      <td>NaN</td>\n",
       "      <td>NaN</td>\n",
       "      <td>38176.0</td>\n",
       "      <td>6867.0</td>\n",
       "      <td>164579.0</td>\n",
       "    </tr>\n",
       "    <tr>\n",
       "      <th>All</th>\n",
       "      <td>166331.0</td>\n",
       "      <td>568968.0</td>\n",
       "      <td>357211.0</td>\n",
       "      <td>19042.0</td>\n",
       "      <td>62955.0</td>\n",
       "      <td>404608.0</td>\n",
       "      <td>91622.0</td>\n",
       "      <td>1670737.0</td>\n",
       "    </tr>\n",
       "  </tbody>\n",
       "</table>\n",
       "</div>"
      ],
      "text/plain": [
       "DSP           DBM                         TURN          Videology           \\\n",
       "Type      General            TrueView  General          Channel 4  General   \n",
       "Public         No       Yes       N/A       No      Yes       N/A      N/A   \n",
       "Month                                                                        \n",
       "2016/01    8132.0   17245.0       NaN      NaN      NaN       NaN      NaN   \n",
       "2016/02   21874.0   27135.0       NaN      NaN      NaN       NaN      NaN   \n",
       "2016/03    1464.0    1201.0       NaN      NaN      NaN       NaN      NaN   \n",
       "2016/04   10350.0    2660.0       NaN      NaN      NaN       NaN      NaN   \n",
       "2016/05    4317.0    6335.0       NaN      NaN      NaN    6918.0  17405.0   \n",
       "2016/06   14867.0    8940.0       NaN      NaN      NaN       NaN      NaN   \n",
       "2016/07   20884.0   14565.0       NaN      NaN      NaN       NaN      NaN   \n",
       "2016/08    8712.0   34221.0       NaN      NaN      NaN   44785.0      NaN   \n",
       "2016/09   13802.0   47814.0       NaN      NaN      NaN   21227.0      NaN   \n",
       "2016/10    7173.0   25523.0       NaN      NaN      NaN   11060.0      NaN   \n",
       "2016/11    8844.0   26119.0       NaN      NaN      NaN   31492.0      NaN   \n",
       "2016/12    4099.0       0.0       NaN      NaN      NaN   43589.0      NaN   \n",
       "2017/01       NaN   39394.0   39394.0      NaN      NaN       NaN      NaN   \n",
       "2017/02    6880.0   16454.0   16454.0      NaN      NaN   19191.0   6816.0   \n",
       "2017/03   10204.0   30746.0   30746.0      NaN      NaN   21344.0  20345.0   \n",
       "2017/04       NaN  115469.0  115469.0      NaN      NaN   12028.0   3123.0   \n",
       "2017/05       NaN   29399.0   29399.0      0.0   2561.0   18609.0   4604.0   \n",
       "2017/06       NaN       NaN       NaN    348.0    806.0   10224.0   5510.0   \n",
       "2017/07       NaN    8943.0    8943.0    808.0   9749.0   16624.0   5379.0   \n",
       "2017/08       NaN   38850.0   38850.0  11497.0  35540.0   69355.0   4113.0   \n",
       "2017/09   14119.0   23493.0   23493.0   6390.0  14299.0   39987.0  17460.0   \n",
       "2017/10   10609.0   54463.0   54463.0      NaN      NaN   38176.0   6867.0   \n",
       "All      166331.0  568968.0  357211.0  19042.0  62955.0  404608.0  91622.0   \n",
       "\n",
       "DSP            All  \n",
       "Type                \n",
       "Public              \n",
       "Month               \n",
       "2016/01    25377.0  \n",
       "2016/02    49009.0  \n",
       "2016/03     2665.0  \n",
       "2016/04    13010.0  \n",
       "2016/05    34974.0  \n",
       "2016/06    23807.0  \n",
       "2016/07    35449.0  \n",
       "2016/08    87719.0  \n",
       "2016/09    82844.0  \n",
       "2016/10    43756.0  \n",
       "2016/11    66455.0  \n",
       "2016/12    47688.0  \n",
       "2017/01    78788.0  \n",
       "2017/02    65795.0  \n",
       "2017/03   113386.0  \n",
       "2017/04   246087.0  \n",
       "2017/05    84571.0  \n",
       "2017/06    16888.0  \n",
       "2017/07    50445.0  \n",
       "2017/08   198204.0  \n",
       "2017/09   139241.0  \n",
       "2017/10   164579.0  \n",
       "All      1670737.0  "
      ]
     },
     "execution_count": 583,
     "metadata": {},
     "output_type": "execute_result"
    }
   ],
   "source": [
    "data.loc[data.AdvertiserConsolidate == \"SCA\",:].pivot_table(values=\"cSpend\", \n",
    "                 index=\"Month\", columns=[\"DSP\", \"Type\", \"Public\"], aggfunc=np.sum, margins=True).round()"
   ]
  },
  {
   "cell_type": "code",
   "execution_count": 584,
   "metadata": {
    "collapsed": true
   },
   "outputs": [],
   "source": [
    "#AdvertiserList = pd.DataFrame(data=data.Advertiser.unique().tolist(), columns=[\"AdvertiserName\"])\n",
    "#AdvertiserList = AdvertiserList.sort_values(by=\"AdvertiserName\", ascending=True).reset_index(drop=True)\n",
    "#AdvertiserList.to_csv(\"C:\\\\Users\\\\ylin\\\\Desktop\\\\GitHub-Python\\\\Project\\\\Advertiser spend\\\\\"+\"ClientLookUp.csv\", index=False)"
   ]
  },
  {
   "cell_type": "code",
   "execution_count": 585,
   "metadata": {},
   "outputs": [
    {
     "data": {
      "text/plain": [
       "{'Acer_DE_Zenith',\n",
       " 'Acer_FR_Zenith',\n",
       " 'Aviva_Zenith',\n",
       " 'HP P&C (USD)_UK_Performics',\n",
       " 'HP Solvent (USD)_UK_Performics',\n",
       " 'HP Supplies (USD)_UK_Performics'}"
      ]
     },
     "execution_count": 585,
     "metadata": {},
     "output_type": "execute_result"
    }
   ],
   "source": [
    "#new client check\n",
    "set(data.Advertiser.unique()) - set(lookup.Advertiser)"
   ]
  },
  {
   "cell_type": "code",
   "execution_count": 586,
   "metadata": {
    "collapsed": true
   },
   "outputs": [],
   "source": [
    "data.loc[data.AdvertiserConsolidate == \"SCA\",:].to_csv(\"C:\\\\Users\\\\ylin\\\\Desktop\\\\ZO Spend\\\\\"+\"SCA spend.csv\")"
   ]
  },
  {
   "cell_type": "code",
   "execution_count": null,
   "metadata": {
    "collapsed": true
   },
   "outputs": [],
   "source": []
  }
 ],
 "metadata": {
  "anaconda-cloud": {},
  "kernelspec": {
   "display_name": "Python 3",
   "language": "python",
   "name": "python3"
  },
  "language_info": {
   "codemirror_mode": {
    "name": "ipython",
    "version": 3
   },
   "file_extension": ".py",
   "mimetype": "text/x-python",
   "name": "python",
   "nbconvert_exporter": "python",
   "pygments_lexer": "ipython3",
   "version": "3.6.1"
  }
 },
 "nbformat": 4,
 "nbformat_minor": 1
}
