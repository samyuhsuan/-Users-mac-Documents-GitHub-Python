{
 "cells": [
  {
   "cell_type": "code",
   "execution_count": 37,
   "metadata": {
    "collapsed": true
   },
   "outputs": [],
   "source": [
    "import pandas as pd\n",
    "import numpy as np\n",
    "import matplotlib.pyplot as plt\n",
    "import seaborn as sns\n",
    "import glob\n",
    "import time\n",
    "%matplotlib inline"
   ]
  },
  {
   "cell_type": "markdown",
   "metadata": {},
   "source": [
    "---"
   ]
  },
  {
   "cell_type": "code",
   "execution_count": 38,
   "metadata": {
    "collapsed": true
   },
   "outputs": [],
   "source": [
    "#DBM data below"
   ]
  },
  {
   "cell_type": "code",
   "execution_count": 39,
   "metadata": {
    "collapsed": true
   },
   "outputs": [],
   "source": [
    "DBM = pd.DataFrame()\n",
    "for file in glob.glob(\"DBM*.csv\"):\n",
    "    df = pd.read_csv(file)\n",
    "    df = df[df[\"Advertiser Currency\"].isnull() == False]\n",
    "    DBM = DBM.append(df, ignore_index=True)"
   ]
  },
  {
   "cell_type": "code",
   "execution_count": 40,
   "metadata": {
    "collapsed": true
   },
   "outputs": [],
   "source": [
    "DBM = DBM.loc[:, [\"Month\", \"Advertiser\", \"Public Inventory\", \"Impressions\", \n",
    "                  \"Clicks\", \"Revenue (Adv Currency)\", \"Media Cost (Advertiser Currency)\", \"Advertiser Currency\"]]"
   ]
  },
  {
   "cell_type": "code",
   "execution_count": 41,
   "metadata": {
    "collapsed": true
   },
   "outputs": [],
   "source": [
    "DBM.columns = [\"Month\", \"Advertiser\", \"Public\", \"Impressions\", \"Clicks\", \"Spend\", \"Media\", \"Currency\"]"
   ]
  },
  {
   "cell_type": "code",
   "execution_count": 42,
   "metadata": {
    "collapsed": true
   },
   "outputs": [],
   "source": [
    "DBM[\"DSP\"] = \"DBM\"\n",
    "DBM[\"Type\"] = \"General\""
   ]
  },
  {
   "cell_type": "markdown",
   "metadata": {},
   "source": [
    "---"
   ]
  },
  {
   "cell_type": "code",
   "execution_count": 43,
   "metadata": {
    "collapsed": true
   },
   "outputs": [],
   "source": [
    "#YouTube/TrueView data below"
   ]
  },
  {
   "cell_type": "code",
   "execution_count": 44,
   "metadata": {
    "collapsed": true
   },
   "outputs": [],
   "source": [
    "YT = pd.DataFrame()\n",
    "for file in glob.glob(\"YT*.csv\"):\n",
    "    df = pd.read_csv(file)\n",
    "    df = df[df[\"Advertiser Currency\"].isnull() == False]\n",
    "    YT = YT.append(df, ignore_index=True)"
   ]
  },
  {
   "cell_type": "code",
   "execution_count": 45,
   "metadata": {
    "collapsed": true
   },
   "outputs": [],
   "source": [
    "YT[\"Public\"] = \"N/A\"\n",
    "YT[\"DSP\"] = \"DBM\"\n",
    "YT[\"Type\"] = \"TrueView\""
   ]
  },
  {
   "cell_type": "code",
   "execution_count": 46,
   "metadata": {
    "collapsed": true
   },
   "outputs": [],
   "source": [
    "YT = YT.loc[:, [\"Month\", \"Advertiser\", \"Public\",\"Impressions\", \n",
    "                \"Clicks\", \"Revenue (Adv Currency)\", \"Media Cost (Advertiser Currency)\", \"Advertiser Currency\", \"DSP\", \"Type\"]]"
   ]
  },
  {
   "cell_type": "code",
   "execution_count": 47,
   "metadata": {
    "collapsed": true
   },
   "outputs": [],
   "source": [
    "YT.columns = ['Month', 'Advertiser', 'Public', 'Impressions', 'Clicks',\n",
    "       'Spend', 'Media', 'Currency', 'DSP', 'Type']"
   ]
  },
  {
   "cell_type": "markdown",
   "metadata": {},
   "source": [
    "---"
   ]
  },
  {
   "cell_type": "code",
   "execution_count": 48,
   "metadata": {
    "collapsed": true
   },
   "outputs": [],
   "source": [
    "#Videology data below\n",
    "#please note the data in the template the time frame please select the specific time rather than 'last month'"
   ]
  },
  {
   "cell_type": "code",
   "execution_count": 49,
   "metadata": {
    "collapsed": true
   },
   "outputs": [],
   "source": [
    "videology = pd.DataFrame()\n",
    "for file in glob.glob(\"Videology*.csv\"):\n",
    "    df = pd.read_csv(file)\n",
    "    df = df[df[\"Placement ID\"].isnull() == False]\n",
    "    videology = videology.append(df, ignore_index=True)"
   ]
  },
  {
   "cell_type": "code",
   "execution_count": 50,
   "metadata": {
    "collapsed": true
   },
   "outputs": [],
   "source": [
    "videology.columns = [\"Advertiser\", \"Placement\", \"PlacementName\", \"Date\", \"Impressions\", \"Spend\", \"Clicks\"]"
   ]
  },
  {
   "cell_type": "code",
   "execution_count": 51,
   "metadata": {
    "collapsed": true
   },
   "outputs": [],
   "source": [
    "list1=[]\n",
    "for month in videology.Date:\n",
    "    g = month[-4:] + \"/\" + \"{0:0=2d}\".format(time.strptime(month[:3], \"%b\").tm_mon)\n",
    "    list1.append(g)"
   ]
  },
  {
   "cell_type": "code",
   "execution_count": 52,
   "metadata": {
    "collapsed": true
   },
   "outputs": [],
   "source": [
    "#repmoving the thousand separator \n",
    "videology.Impressions = videology.Impressions.apply(lambda x: float(x.split()[0].replace(',', '')))\n",
    "videology.Clicks = videology.Clicks.apply(lambda x: float(x.split()[0].replace(',', '')))\n",
    "videology.Spend = videology.Spend.apply(lambda x: float(x.split()[0].replace(',', '')))"
   ]
  },
  {
   "cell_type": "code",
   "execution_count": 53,
   "metadata": {
    "collapsed": true
   },
   "outputs": [],
   "source": [
    "videology[\"Currency\"] = \"GBP\"\n",
    "videology[\"DSP\"] = \"Videology\"\n",
    "videology[\"Type\"] = \"General\"\n",
    "videology.loc[(videology.PlacementName.str.contains(\"Channel 4\")) | \n",
    "              (videology.PlacementName.str.contains(\"C4\")), \"Type\"] = \"Channel 4\"\n",
    "videology[\"Media\"] = videology.Spend * 0.7\n",
    "videology.loc[videology.Type == \"Channel 4\", \"Media\"] = videology.Spend * 0.8\n",
    "videology[\"Public\"] = \"N/A\"\n",
    "videology[\"Month\"] = list1"
   ]
  },
  {
   "cell_type": "code",
   "execution_count": 54,
   "metadata": {
    "collapsed": true
   },
   "outputs": [],
   "source": [
    "videology = videology.loc[:, ['Month', 'Advertiser', 'Public', 'Impressions', 'Clicks', 'Spend',\n",
    "       'Media', 'Currency', 'DSP', 'Type']]"
   ]
  },
  {
   "cell_type": "markdown",
   "metadata": {},
   "source": [
    "---"
   ]
  },
  {
   "cell_type": "code",
   "execution_count": 55,
   "metadata": {
    "collapsed": true
   },
   "outputs": [],
   "source": [
    "#TheTradeDesk data below"
   ]
  },
  {
   "cell_type": "code",
   "execution_count": 57,
   "metadata": {},
   "outputs": [],
   "source": [
    "TTD = pd.DataFrame()\n",
    "for file in glob.glob(\"TTTD*.csv\"):\n",
    "    df=pd.read_csv(file)\n",
    "    TTD = TTD.append(df, ignore_index=True)"
   ]
  },
  {
   "cell_type": "code",
   "execution_count": 61,
   "metadata": {},
   "outputs": [
    {
     "data": {
      "text/html": [
       "<div>\n",
       "<style>\n",
       "    .dataframe thead tr:only-child th {\n",
       "        text-align: right;\n",
       "    }\n",
       "\n",
       "    .dataframe thead th {\n",
       "        text-align: left;\n",
       "    }\n",
       "\n",
       "    .dataframe tbody tr th {\n",
       "        vertical-align: top;\n",
       "    }\n",
       "</style>\n",
       "<table border=\"1\" class=\"dataframe\">\n",
       "  <thead>\n",
       "    <tr style=\"text-align: right;\">\n",
       "      <th></th>\n",
       "      <th>Month</th>\n",
       "      <th>Advertiser</th>\n",
       "      <th>Public</th>\n",
       "      <th>Impressions</th>\n",
       "      <th>Clicks</th>\n",
       "      <th>Spend</th>\n",
       "      <th>Media</th>\n",
       "      <th>Currency</th>\n",
       "      <th>DSP</th>\n",
       "      <th>Type</th>\n",
       "    </tr>\n",
       "  </thead>\n",
       "  <tbody>\n",
       "    <tr>\n",
       "      <th>0</th>\n",
       "      <td>2016/07</td>\n",
       "      <td>BBC Store_UK_Zenith</td>\n",
       "      <td>No</td>\n",
       "      <td>43275.0</td>\n",
       "      <td>59.0</td>\n",
       "      <td>174.403276</td>\n",
       "      <td>122.083783</td>\n",
       "      <td>GBP</td>\n",
       "      <td>DBM</td>\n",
       "      <td>General</td>\n",
       "    </tr>\n",
       "    <tr>\n",
       "      <th>1</th>\n",
       "      <td>2016/03</td>\n",
       "      <td>Aviva_UK_Zenith (non-DCM)</td>\n",
       "      <td>No</td>\n",
       "      <td>12806.0</td>\n",
       "      <td>438.0</td>\n",
       "      <td>219.431282</td>\n",
       "      <td>145.403610</td>\n",
       "      <td>GBP</td>\n",
       "      <td>DBM</td>\n",
       "      <td>General</td>\n",
       "    </tr>\n",
       "    <tr>\n",
       "      <th>2</th>\n",
       "      <td>2016/05</td>\n",
       "      <td>Qantas_UK_Zenith</td>\n",
       "      <td>No</td>\n",
       "      <td>35249.0</td>\n",
       "      <td>43.0</td>\n",
       "      <td>176.013562</td>\n",
       "      <td>120.409233</td>\n",
       "      <td>GBP</td>\n",
       "      <td>DBM</td>\n",
       "      <td>General</td>\n",
       "    </tr>\n",
       "    <tr>\n",
       "      <th>3</th>\n",
       "      <td>2016/10</td>\n",
       "      <td>Toyota_UK_Zenith</td>\n",
       "      <td>No</td>\n",
       "      <td>11489364.0</td>\n",
       "      <td>13085.0</td>\n",
       "      <td>130165.389485</td>\n",
       "      <td>91336.044259</td>\n",
       "      <td>GBP</td>\n",
       "      <td>DBM</td>\n",
       "      <td>General</td>\n",
       "    </tr>\n",
       "    <tr>\n",
       "      <th>4</th>\n",
       "      <td>2016/07</td>\n",
       "      <td>Hästens_UK_Zenith</td>\n",
       "      <td>No</td>\n",
       "      <td>40890.0</td>\n",
       "      <td>37.0</td>\n",
       "      <td>464.743776</td>\n",
       "      <td>325.324612</td>\n",
       "      <td>GBP</td>\n",
       "      <td>DBM</td>\n",
       "      <td>General</td>\n",
       "    </tr>\n",
       "  </tbody>\n",
       "</table>\n",
       "</div>"
      ],
      "text/plain": [
       "     Month                 Advertiser Public  Impressions   Clicks  \\\n",
       "0  2016/07        BBC Store_UK_Zenith     No      43275.0     59.0   \n",
       "1  2016/03  Aviva_UK_Zenith (non-DCM)     No      12806.0    438.0   \n",
       "2  2016/05           Qantas_UK_Zenith     No      35249.0     43.0   \n",
       "3  2016/10           Toyota_UK_Zenith     No   11489364.0  13085.0   \n",
       "4  2016/07          Hästens_UK_Zenith     No      40890.0     37.0   \n",
       "\n",
       "           Spend         Media Currency  DSP     Type  \n",
       "0     174.403276    122.083783      GBP  DBM  General  \n",
       "1     219.431282    145.403610      GBP  DBM  General  \n",
       "2     176.013562    120.409233      GBP  DBM  General  \n",
       "3  130165.389485  91336.044259      GBP  DBM  General  \n",
       "4     464.743776    325.324612      GBP  DBM  General  "
      ]
     },
     "execution_count": 61,
     "metadata": {},
     "output_type": "execute_result"
    }
   ],
   "source": [
    "DBM.head()"
   ]
  },
  {
   "cell_type": "code",
   "execution_count": 62,
   "metadata": {},
   "outputs": [
    {
     "data": {
      "text/html": [
       "<div>\n",
       "<style>\n",
       "    .dataframe thead tr:only-child th {\n",
       "        text-align: right;\n",
       "    }\n",
       "\n",
       "    .dataframe thead th {\n",
       "        text-align: left;\n",
       "    }\n",
       "\n",
       "    .dataframe tbody tr th {\n",
       "        vertical-align: top;\n",
       "    }\n",
       "</style>\n",
       "<table border=\"1\" class=\"dataframe\">\n",
       "  <thead>\n",
       "    <tr style=\"text-align: right;\">\n",
       "      <th></th>\n",
       "      <th>Date</th>\n",
       "      <th>Advertiser</th>\n",
       "      <th>Advertiser Currency Code</th>\n",
       "      <th>Inventory Contract</th>\n",
       "      <th>Impressions</th>\n",
       "      <th>Clicks</th>\n",
       "      <th>Advertiser Cost (Adv Currency)</th>\n",
       "      <th>Media Cost (Adv Currency)</th>\n",
       "    </tr>\n",
       "  </thead>\n",
       "  <tbody>\n",
       "    <tr>\n",
       "      <th>0</th>\n",
       "      <td>01/01/2016</td>\n",
       "      <td>Sanofi_UK_Zenith</td>\n",
       "      <td>GBP</td>\n",
       "      <td>NaN</td>\n",
       "      <td>2</td>\n",
       "      <td>0</td>\n",
       "      <td>0,00470987228573</td>\n",
       "      <td>0,00330701846347</td>\n",
       "    </tr>\n",
       "    <tr>\n",
       "      <th>1</th>\n",
       "      <td>02/01/2016</td>\n",
       "      <td>Sanofi_UK_Zenith</td>\n",
       "      <td>GBP</td>\n",
       "      <td>NaN</td>\n",
       "      <td>1</td>\n",
       "      <td>0</td>\n",
       "      <td>0,000204947222042</td>\n",
       "      <td>0</td>\n",
       "    </tr>\n",
       "    <tr>\n",
       "      <th>2</th>\n",
       "      <td>30/01/2016</td>\n",
       "      <td>Omega Pharma_UK_Zenith</td>\n",
       "      <td>GBP</td>\n",
       "      <td>NaN</td>\n",
       "      <td>0</td>\n",
       "      <td>1</td>\n",
       "      <td>0</td>\n",
       "      <td>0</td>\n",
       "    </tr>\n",
       "    <tr>\n",
       "      <th>3</th>\n",
       "      <td>30/01/2016</td>\n",
       "      <td>Sanofi_UK_Zenith</td>\n",
       "      <td>GBP</td>\n",
       "      <td>NaN</td>\n",
       "      <td>0</td>\n",
       "      <td>1</td>\n",
       "      <td>0</td>\n",
       "      <td>0</td>\n",
       "    </tr>\n",
       "    <tr>\n",
       "      <th>4</th>\n",
       "      <td>01/02/2016</td>\n",
       "      <td>Omega Pharma_UK_Zenith</td>\n",
       "      <td>GBP</td>\n",
       "      <td>NaN</td>\n",
       "      <td>0</td>\n",
       "      <td>1</td>\n",
       "      <td>0</td>\n",
       "      <td>0</td>\n",
       "    </tr>\n",
       "  </tbody>\n",
       "</table>\n",
       "</div>"
      ],
      "text/plain": [
       "         Date              Advertiser Advertiser Currency Code  \\\n",
       "0  01/01/2016        Sanofi_UK_Zenith                      GBP   \n",
       "1  02/01/2016        Sanofi_UK_Zenith                      GBP   \n",
       "2  30/01/2016  Omega Pharma_UK_Zenith                      GBP   \n",
       "3  30/01/2016        Sanofi_UK_Zenith                      GBP   \n",
       "4  01/02/2016  Omega Pharma_UK_Zenith                      GBP   \n",
       "\n",
       "  Inventory Contract  Impressions  Clicks Advertiser Cost (Adv Currency)  \\\n",
       "0                NaN            2       0               0,00470987228573   \n",
       "1                NaN            1       0              0,000204947222042   \n",
       "2                NaN            0       1                              0   \n",
       "3                NaN            0       1                              0   \n",
       "4                NaN            0       1                              0   \n",
       "\n",
       "  Media Cost (Adv Currency)  \n",
       "0          0,00330701846347  \n",
       "1                         0  \n",
       "2                         0  \n",
       "3                         0  \n",
       "4                         0  "
      ]
     },
     "execution_count": 62,
     "metadata": {},
     "output_type": "execute_result"
    }
   ],
   "source": [
    "TTD.head()"
   ]
  },
  {
   "cell_type": "code",
   "execution_count": null,
   "metadata": {
    "collapsed": true
   },
   "outputs": [],
   "source": [
    "TTD[\"Month\"]"
   ]
  },
  {
   "cell_type": "code",
   "execution_count": 21,
   "metadata": {
    "collapsed": true
   },
   "outputs": [],
   "source": [
    "TTD[\"Month\"] = TTD.Date.str.split(\"/\").str[2] + \"/\" + TTD.Date.str.split(\"/\").str[1]\n",
    "TTD[\"Public\"] = \"Yes\"\n",
    "TTD.loc[TTD.PMP.str.contains(\"PMP\"), \"Public\"] = \"No\"\n",
    "TTD[\"DSP\"] = \"TTD\"\n",
    "TTD[\"Type\"] = \"General\""
   ]
  },
  {
   "cell_type": "code",
   "execution_count": 22,
   "metadata": {
    "collapsed": true
   },
   "outputs": [],
   "source": [
    "TTD = TTD.loc[:, [\"Month\", \"Advertiser\", \"Public\", \"Impressions\", \"Clicks\", \"Spend\", \"Media\", \"Currency\", \"DSP\", \"Type\"]]"
   ]
  },
  {
   "cell_type": "code",
   "execution_count": 23,
   "metadata": {
    "collapsed": true
   },
   "outputs": [],
   "source": [
    "TTD.Impressions = TTD.Impressions.astype(\"float64\")\n",
    "TTD.Clicks = TTD.Clicks.astype(\"float64\")\n",
    "TTD.Spend = TTD.Spend.astype(\"float64\")\n",
    "TTD.Media = TTD.Media.astype(\"float64\")"
   ]
  },
  {
   "cell_type": "code",
   "execution_count": 24,
   "metadata": {
    "collapsed": true
   },
   "outputs": [],
   "source": [
    "#below is fixed for 2016 TTD data "
   ]
  },
  {
   "cell_type": "code",
   "execution_count": 25,
   "metadata": {
    "collapsed": true
   },
   "outputs": [],
   "source": [
    "TTD_old = pd.read_csv(\"TTD_0116_1216.csv\")"
   ]
  },
  {
   "cell_type": "code",
   "execution_count": 26,
   "metadata": {
    "collapsed": true
   },
   "outputs": [],
   "source": [
    "TTD_old[\"Month\"] = TTD_old.Date.str.split(\"/\").str[2] + \"/\" + TTD_old.Date.str.split(\"/\").str[1]\n",
    "TTD_old[\"Public\"] = \"Yes\"\n",
    "TTD_old.loc[TTD_old[\"Inventory Contract\"] == \"PMP\", \"Public\"] = \"No\"\n",
    "TTD_old[\"DSP\"] = \"TTD\"\n",
    "TTD_old[\"Type\"] = \"General\""
   ]
  },
  {
   "cell_type": "code",
   "execution_count": 27,
   "metadata": {
    "collapsed": true
   },
   "outputs": [],
   "source": [
    "TTD_old = TTD_old.loc[:, [\"Month\", \"Advertiser\", \"Public\", \"Impressions\", \n",
    "                          \"Clicks\", \"Advertiser Cost (Adv Currency)\", \"Media Cost (Adv Currency)\", \n",
    "                          \"Advertiser Currency Code\", \"DSP\", \"Type\"]]"
   ]
  },
  {
   "cell_type": "code",
   "execution_count": 28,
   "metadata": {
    "collapsed": true
   },
   "outputs": [],
   "source": [
    "TTD_old.columns = ['Month', 'Advertiser', 'Public', 'Impressions', 'Clicks',\n",
    "       'Spend', 'Media','Currency', 'DSP', 'Type']"
   ]
  },
  {
   "cell_type": "code",
   "execution_count": 29,
   "metadata": {
    "collapsed": true
   },
   "outputs": [],
   "source": [
    "TTD = TTD.append(TTD_old, ignore_index=True)"
   ]
  },
  {
   "cell_type": "code",
   "execution_count": 30,
   "metadata": {
    "collapsed": true
   },
   "outputs": [],
   "source": [
    "TTTD = pd.read_csv(\"TTTD.csv\")"
   ]
  },
  {
   "cell_type": "code",
   "execution_count": 31,
   "metadata": {},
   "outputs": [
    {
     "data": {
      "text/html": [
       "<div>\n",
       "<style>\n",
       "    .dataframe thead tr:only-child th {\n",
       "        text-align: right;\n",
       "    }\n",
       "\n",
       "    .dataframe thead th {\n",
       "        text-align: left;\n",
       "    }\n",
       "\n",
       "    .dataframe tbody tr th {\n",
       "        vertical-align: top;\n",
       "    }\n",
       "</style>\n",
       "<table border=\"1\" class=\"dataframe\">\n",
       "  <thead>\n",
       "    <tr style=\"text-align: right;\">\n",
       "      <th></th>\n",
       "      <th>Date</th>\n",
       "      <th>Advertiser</th>\n",
       "      <th>Advertiser Currency Code</th>\n",
       "      <th>Inventory Contract</th>\n",
       "      <th>Impressions</th>\n",
       "      <th>Clicks</th>\n",
       "      <th>Advertiser Cost (Adv Currency)</th>\n",
       "      <th>Media Cost (Adv Currency)</th>\n",
       "      <th>Public</th>\n",
       "    </tr>\n",
       "  </thead>\n",
       "  <tbody>\n",
       "    <tr>\n",
       "      <th>0</th>\n",
       "      <td>01/01/2016</td>\n",
       "      <td>Sanofi_UK_Zenith</td>\n",
       "      <td>GBP</td>\n",
       "      <td>NaN</td>\n",
       "      <td>2</td>\n",
       "      <td>0</td>\n",
       "      <td>0,00470987228573</td>\n",
       "      <td>0,00330701846347</td>\n",
       "      <td>Yes</td>\n",
       "    </tr>\n",
       "    <tr>\n",
       "      <th>1</th>\n",
       "      <td>02/01/2016</td>\n",
       "      <td>Sanofi_UK_Zenith</td>\n",
       "      <td>GBP</td>\n",
       "      <td>NaN</td>\n",
       "      <td>1</td>\n",
       "      <td>0</td>\n",
       "      <td>0,000204947222042</td>\n",
       "      <td>0</td>\n",
       "      <td>Yes</td>\n",
       "    </tr>\n",
       "    <tr>\n",
       "      <th>2</th>\n",
       "      <td>30/01/2016</td>\n",
       "      <td>Omega Pharma_UK_Zenith</td>\n",
       "      <td>GBP</td>\n",
       "      <td>NaN</td>\n",
       "      <td>0</td>\n",
       "      <td>1</td>\n",
       "      <td>0</td>\n",
       "      <td>0</td>\n",
       "      <td>Yes</td>\n",
       "    </tr>\n",
       "    <tr>\n",
       "      <th>3</th>\n",
       "      <td>30/01/2016</td>\n",
       "      <td>Sanofi_UK_Zenith</td>\n",
       "      <td>GBP</td>\n",
       "      <td>NaN</td>\n",
       "      <td>0</td>\n",
       "      <td>1</td>\n",
       "      <td>0</td>\n",
       "      <td>0</td>\n",
       "      <td>Yes</td>\n",
       "    </tr>\n",
       "    <tr>\n",
       "      <th>4</th>\n",
       "      <td>01/02/2016</td>\n",
       "      <td>Omega Pharma_UK_Zenith</td>\n",
       "      <td>GBP</td>\n",
       "      <td>NaN</td>\n",
       "      <td>0</td>\n",
       "      <td>1</td>\n",
       "      <td>0</td>\n",
       "      <td>0</td>\n",
       "      <td>Yes</td>\n",
       "    </tr>\n",
       "    <tr>\n",
       "      <th>5</th>\n",
       "      <td>24/02/2016</td>\n",
       "      <td>Artsana_UK_Zenith</td>\n",
       "      <td>GBP</td>\n",
       "      <td>NaN</td>\n",
       "      <td>0</td>\n",
       "      <td>2</td>\n",
       "      <td>0</td>\n",
       "      <td>0</td>\n",
       "      <td>Yes</td>\n",
       "    </tr>\n",
       "    <tr>\n",
       "      <th>6</th>\n",
       "      <td>24/02/2016</td>\n",
       "      <td>Omega Pharma_UK_Zenith</td>\n",
       "      <td>GBP</td>\n",
       "      <td>NaN</td>\n",
       "      <td>0</td>\n",
       "      <td>2</td>\n",
       "      <td>0</td>\n",
       "      <td>0</td>\n",
       "      <td>Yes</td>\n",
       "    </tr>\n",
       "    <tr>\n",
       "      <th>7</th>\n",
       "      <td>27/04/2016</td>\n",
       "      <td>Mercedes-Benz_UK_Zenith</td>\n",
       "      <td>GBP</td>\n",
       "      <td>NaN</td>\n",
       "      <td>410509</td>\n",
       "      <td>286</td>\n",
       "      <td>86,676,018,250,928,100</td>\n",
       "      <td>57,070,898,088,600,800</td>\n",
       "      <td>Yes</td>\n",
       "    </tr>\n",
       "    <tr>\n",
       "      <th>8</th>\n",
       "      <td>28/04/2016</td>\n",
       "      <td>Mercedes-Benz_UK_Zenith</td>\n",
       "      <td>GBP</td>\n",
       "      <td>NaN</td>\n",
       "      <td>469287</td>\n",
       "      <td>377</td>\n",
       "      <td>10,273,701,954,952,700</td>\n",
       "      <td>67,008,779,133,039,000</td>\n",
       "      <td>Yes</td>\n",
       "    </tr>\n",
       "    <tr>\n",
       "      <th>9</th>\n",
       "      <td>29/04/2016</td>\n",
       "      <td>Mercedes-Benz_UK_Zenith</td>\n",
       "      <td>GBP</td>\n",
       "      <td>NaN</td>\n",
       "      <td>322001</td>\n",
       "      <td>290</td>\n",
       "      <td>68,947,254,338,890,600</td>\n",
       "      <td>45,616,836,838,677,100</td>\n",
       "      <td>Yes</td>\n",
       "    </tr>\n",
       "    <tr>\n",
       "      <th>10</th>\n",
       "      <td>30/04/2016</td>\n",
       "      <td>Mercedes-Benz_UK_Zenith</td>\n",
       "      <td>GBP</td>\n",
       "      <td>NaN</td>\n",
       "      <td>9873</td>\n",
       "      <td>19</td>\n",
       "      <td>31,531,790,324,285,400</td>\n",
       "      <td>21,819,198,690,066,900</td>\n",
       "      <td>Yes</td>\n",
       "    </tr>\n",
       "    <tr>\n",
       "      <th>11</th>\n",
       "      <td>01/05/2016</td>\n",
       "      <td>Mercedes-Benz_UK_Zenith</td>\n",
       "      <td>GBP</td>\n",
       "      <td>NaN</td>\n",
       "      <td>10184</td>\n",
       "      <td>12</td>\n",
       "      <td>30,777,811,561,742,700</td>\n",
       "      <td>21,283,452,378,422,000</td>\n",
       "      <td>Yes</td>\n",
       "    </tr>\n",
       "    <tr>\n",
       "      <th>12</th>\n",
       "      <td>02/05/2016</td>\n",
       "      <td>Mercedes-Benz_UK_Zenith</td>\n",
       "      <td>GBP</td>\n",
       "      <td>NaN</td>\n",
       "      <td>48201</td>\n",
       "      <td>39</td>\n",
       "      <td>10,268,009,899,272,500</td>\n",
       "      <td>68,359,887,466,518,300</td>\n",
       "      <td>Yes</td>\n",
       "    </tr>\n",
       "    <tr>\n",
       "      <th>13</th>\n",
       "      <td>03/05/2016</td>\n",
       "      <td>Mercedes-Benz_UK_Zenith</td>\n",
       "      <td>GBP</td>\n",
       "      <td>NaN</td>\n",
       "      <td>9545</td>\n",
       "      <td>13</td>\n",
       "      <td>30,361,254,804,680,700</td>\n",
       "      <td>2,100,923,319,380,850</td>\n",
       "      <td>Yes</td>\n",
       "    </tr>\n",
       "    <tr>\n",
       "      <th>14</th>\n",
       "      <td>04/05/2016</td>\n",
       "      <td>Mercedes-Benz_UK_Zenith</td>\n",
       "      <td>GBP</td>\n",
       "      <td>NaN</td>\n",
       "      <td>48872</td>\n",
       "      <td>40</td>\n",
       "      <td>11,576,833,017,103,600</td>\n",
       "      <td>7,672,135,172,077,210</td>\n",
       "      <td>Yes</td>\n",
       "    </tr>\n",
       "    <tr>\n",
       "      <th>15</th>\n",
       "      <td>05/05/2016</td>\n",
       "      <td>Mercedes-Benz_UK_Zenith</td>\n",
       "      <td>GBP</td>\n",
       "      <td>NaN</td>\n",
       "      <td>35357</td>\n",
       "      <td>25</td>\n",
       "      <td>89,755,799,786,691,800</td>\n",
       "      <td>60,282,682,528,709,500</td>\n",
       "      <td>Yes</td>\n",
       "    </tr>\n",
       "    <tr>\n",
       "      <th>16</th>\n",
       "      <td>06/05/2016</td>\n",
       "      <td>Mercedes-Benz_UK_Zenith</td>\n",
       "      <td>GBP</td>\n",
       "      <td>NaN</td>\n",
       "      <td>10164</td>\n",
       "      <td>19</td>\n",
       "      <td>31,310,442,273,722,400</td>\n",
       "      <td>21,654,518,770,969,100</td>\n",
       "      <td>Yes</td>\n",
       "    </tr>\n",
       "    <tr>\n",
       "      <th>17</th>\n",
       "      <td>08/05/2016</td>\n",
       "      <td>Mercedes-Benz_UK_Zenith</td>\n",
       "      <td>GBP</td>\n",
       "      <td>NaN</td>\n",
       "      <td>0</td>\n",
       "      <td>2</td>\n",
       "      <td>0</td>\n",
       "      <td>0</td>\n",
       "      <td>Yes</td>\n",
       "    </tr>\n",
       "    <tr>\n",
       "      <th>18</th>\n",
       "      <td>11/05/2016</td>\n",
       "      <td>Mercedes-Benz_UK_Zenith</td>\n",
       "      <td>GBP</td>\n",
       "      <td>NaN</td>\n",
       "      <td>10913</td>\n",
       "      <td>12</td>\n",
       "      <td>23,973,483,088,534,800</td>\n",
       "      <td>15,836,810,506,457,400</td>\n",
       "      <td>Yes</td>\n",
       "    </tr>\n",
       "    <tr>\n",
       "      <th>19</th>\n",
       "      <td>13/05/2016</td>\n",
       "      <td>Mercedes-Benz_UK_Zenith</td>\n",
       "      <td>GBP</td>\n",
       "      <td>NaN</td>\n",
       "      <td>5151</td>\n",
       "      <td>4</td>\n",
       "      <td>11,487,827,546,012,900</td>\n",
       "      <td>7,608,260,594,691,610</td>\n",
       "      <td>Yes</td>\n",
       "    </tr>\n",
       "    <tr>\n",
       "      <th>20</th>\n",
       "      <td>14/05/2016</td>\n",
       "      <td>Mercedes-Benz_UK_Zenith</td>\n",
       "      <td>GBP</td>\n",
       "      <td>NaN</td>\n",
       "      <td>2453</td>\n",
       "      <td>2</td>\n",
       "      <td>5,637,551,033,652,230</td>\n",
       "      <td>3,749,550,793,697,320</td>\n",
       "      <td>Yes</td>\n",
       "    </tr>\n",
       "    <tr>\n",
       "      <th>21</th>\n",
       "      <td>15/05/2016</td>\n",
       "      <td>Mercedes-Benz_UK_Zenith</td>\n",
       "      <td>GBP</td>\n",
       "      <td>NaN</td>\n",
       "      <td>29279</td>\n",
       "      <td>27</td>\n",
       "      <td>62,098,376,092,642,800</td>\n",
       "      <td>4,071,615,617,775,360</td>\n",
       "      <td>Yes</td>\n",
       "    </tr>\n",
       "    <tr>\n",
       "      <th>22</th>\n",
       "      <td>16/05/2016</td>\n",
       "      <td>Mercedes-Benz_UK_Zenith</td>\n",
       "      <td>GBP</td>\n",
       "      <td>NaN</td>\n",
       "      <td>367180</td>\n",
       "      <td>318</td>\n",
       "      <td>78,576,001,932,498,600</td>\n",
       "      <td>51,182,897,956,564,400</td>\n",
       "      <td>Yes</td>\n",
       "    </tr>\n",
       "    <tr>\n",
       "      <th>23</th>\n",
       "      <td>17/05/2016</td>\n",
       "      <td>Mercedes-Benz_UK_Zenith</td>\n",
       "      <td>GBP</td>\n",
       "      <td>NaN</td>\n",
       "      <td>816321</td>\n",
       "      <td>699</td>\n",
       "      <td>19,049,347,184,274,900</td>\n",
       "      <td>12,534,291,713,181,500</td>\n",
       "      <td>Yes</td>\n",
       "    </tr>\n",
       "    <tr>\n",
       "      <th>24</th>\n",
       "      <td>18/05/2016</td>\n",
       "      <td>Mercedes-Benz_UK_Zenith</td>\n",
       "      <td>GBP</td>\n",
       "      <td>NaN</td>\n",
       "      <td>298581</td>\n",
       "      <td>240</td>\n",
       "      <td>70,387,901,209,701,300</td>\n",
       "      <td>46,819,000,892,373,300</td>\n",
       "      <td>Yes</td>\n",
       "    </tr>\n",
       "    <tr>\n",
       "      <th>25</th>\n",
       "      <td>19/05/2016</td>\n",
       "      <td>Mercedes-Benz_UK_Zenith</td>\n",
       "      <td>GBP</td>\n",
       "      <td>NaN</td>\n",
       "      <td>875753</td>\n",
       "      <td>729</td>\n",
       "      <td>20,400,850,198,118,300</td>\n",
       "      <td>13,509,607,005,804,400</td>\n",
       "      <td>Yes</td>\n",
       "    </tr>\n",
       "    <tr>\n",
       "      <th>26</th>\n",
       "      <td>20/05/2016</td>\n",
       "      <td>Mercedes-Benz_UK_Zenith</td>\n",
       "      <td>GBP</td>\n",
       "      <td>NaN</td>\n",
       "      <td>824246</td>\n",
       "      <td>644</td>\n",
       "      <td>19,225,487,719,656,200</td>\n",
       "      <td>12,689,397,633,170,400</td>\n",
       "      <td>Yes</td>\n",
       "    </tr>\n",
       "    <tr>\n",
       "      <th>27</th>\n",
       "      <td>21/05/2016</td>\n",
       "      <td>Mercedes-Benz_UK_Zenith</td>\n",
       "      <td>GBP</td>\n",
       "      <td>NaN</td>\n",
       "      <td>546880</td>\n",
       "      <td>534</td>\n",
       "      <td>12,304,109,018,340,200</td>\n",
       "      <td>81,436,216,960,208,700</td>\n",
       "      <td>Yes</td>\n",
       "    </tr>\n",
       "    <tr>\n",
       "      <th>28</th>\n",
       "      <td>22/05/2016</td>\n",
       "      <td>Mercedes-Benz_UK_Zenith</td>\n",
       "      <td>GBP</td>\n",
       "      <td>NaN</td>\n",
       "      <td>860834</td>\n",
       "      <td>855</td>\n",
       "      <td>20,133,980,697,377,700</td>\n",
       "      <td>13,300,225,586,441,900</td>\n",
       "      <td>Yes</td>\n",
       "    </tr>\n",
       "    <tr>\n",
       "      <th>29</th>\n",
       "      <td>23/05/2016</td>\n",
       "      <td>Mercedes-Benz_UK_Zenith</td>\n",
       "      <td>GBP</td>\n",
       "      <td>NaN</td>\n",
       "      <td>911437</td>\n",
       "      <td>775</td>\n",
       "      <td>21,097,405,590,943,200</td>\n",
       "      <td>13,932,437,152,251,800</td>\n",
       "      <td>Yes</td>\n",
       "    </tr>\n",
       "    <tr>\n",
       "      <th>...</th>\n",
       "      <td>...</td>\n",
       "      <td>...</td>\n",
       "      <td>...</td>\n",
       "      <td>...</td>\n",
       "      <td>...</td>\n",
       "      <td>...</td>\n",
       "      <td>...</td>\n",
       "      <td>...</td>\n",
       "      <td>...</td>\n",
       "    </tr>\n",
       "    <tr>\n",
       "      <th>3015</th>\n",
       "      <td>27/06/2017</td>\n",
       "      <td>Omega Pharma_UK_Zenith</td>\n",
       "      <td>GBP</td>\n",
       "      <td>NaN</td>\n",
       "      <td>32</td>\n",
       "      <td>0</td>\n",
       "      <td>0,058471998667875</td>\n",
       "      <td>0,0353298541266</td>\n",
       "      <td>Yes</td>\n",
       "    </tr>\n",
       "    <tr>\n",
       "      <th>3016</th>\n",
       "      <td>27/06/2017</td>\n",
       "      <td>Oracle_UK_Zenith International</td>\n",
       "      <td>GBP</td>\n",
       "      <td>NaN</td>\n",
       "      <td>0</td>\n",
       "      <td>0</td>\n",
       "      <td>0</td>\n",
       "      <td>0</td>\n",
       "      <td>Yes</td>\n",
       "    </tr>\n",
       "    <tr>\n",
       "      <th>3017</th>\n",
       "      <td>28/06/2017</td>\n",
       "      <td>John Frieda_UK_Zenith</td>\n",
       "      <td>GBP</td>\n",
       "      <td>NaN</td>\n",
       "      <td>89808</td>\n",
       "      <td>82</td>\n",
       "      <td>32,189,825,395,464,700</td>\n",
       "      <td>20,946,781,616,800,800</td>\n",
       "      <td>Yes</td>\n",
       "    </tr>\n",
       "    <tr>\n",
       "      <th>3018</th>\n",
       "      <td>28/06/2017</td>\n",
       "      <td>Mercedes-Benz_UK_Zenith</td>\n",
       "      <td>GBP</td>\n",
       "      <td>PMP_SublimeSkinz_Mercedes Verticals_Floor: £14...</td>\n",
       "      <td>5085</td>\n",
       "      <td>96</td>\n",
       "      <td>87,139,182,468,393,200</td>\n",
       "      <td>63,021,243,848,801,400</td>\n",
       "      <td>Yes</td>\n",
       "    </tr>\n",
       "    <tr>\n",
       "      <th>3019</th>\n",
       "      <td>28/06/2017</td>\n",
       "      <td>Mercedes-Benz_UK_Zenith</td>\n",
       "      <td>GBP</td>\n",
       "      <td>PMP_SublimeSkinz_ROS_Floor: £10_ImproveDigital...</td>\n",
       "      <td>79987</td>\n",
       "      <td>1402</td>\n",
       "      <td>10,261,314,408,530,400</td>\n",
       "      <td>92,652,494,765,056,600</td>\n",
       "      <td>Yes</td>\n",
       "    </tr>\n",
       "    <tr>\n",
       "      <th>3020</th>\n",
       "      <td>28/06/2017</td>\n",
       "      <td>Mercedes-Benz_UK_Zenith</td>\n",
       "      <td>GBP</td>\n",
       "      <td>PMP_SublimeSkinz_ROS_Floor: £10_ImproveDigital...</td>\n",
       "      <td>29477</td>\n",
       "      <td>561</td>\n",
       "      <td>39,740,195,022,822,600</td>\n",
       "      <td>29,018,249,081,343,500</td>\n",
       "      <td>Yes</td>\n",
       "    </tr>\n",
       "    <tr>\n",
       "      <th>3021</th>\n",
       "      <td>28/06/2017</td>\n",
       "      <td>Mercedes-Benz_UK_Zenith</td>\n",
       "      <td>GBP</td>\n",
       "      <td>PMP_SublimeSkinz_ROS_Floor: £10_ImproveDigital...</td>\n",
       "      <td>86263</td>\n",
       "      <td>1631</td>\n",
       "      <td>10,505,890,554,232,400</td>\n",
       "      <td>94,874,755,349,968,300</td>\n",
       "      <td>Yes</td>\n",
       "    </tr>\n",
       "    <tr>\n",
       "      <th>3022</th>\n",
       "      <td>28/06/2017</td>\n",
       "      <td>Mercedes-Benz_UK_Zenith</td>\n",
       "      <td>GBP</td>\n",
       "      <td>NaN</td>\n",
       "      <td>1313678</td>\n",
       "      <td>1611</td>\n",
       "      <td>54,088,738,435,725,100</td>\n",
       "      <td>33,876,119,271,372,700</td>\n",
       "      <td>Yes</td>\n",
       "    </tr>\n",
       "    <tr>\n",
       "      <th>3023</th>\n",
       "      <td>28/06/2017</td>\n",
       "      <td>Omega Pharma_UK_Zenith</td>\n",
       "      <td>GBP</td>\n",
       "      <td>Sharethrough - Channel - Health &amp; Fitness - Gl...</td>\n",
       "      <td>41054</td>\n",
       "      <td>130</td>\n",
       "      <td>76,774,241,049,504,500</td>\n",
       "      <td>46,607,528,572,861,100</td>\n",
       "      <td>Yes</td>\n",
       "    </tr>\n",
       "    <tr>\n",
       "      <th>3024</th>\n",
       "      <td>28/06/2017</td>\n",
       "      <td>Omega Pharma_UK_Zenith</td>\n",
       "      <td>GBP</td>\n",
       "      <td>Sharethrough - Channel - Home &amp; Garden - Globa...</td>\n",
       "      <td>45915</td>\n",
       "      <td>147</td>\n",
       "      <td>86,495,765,702,759,300</td>\n",
       "      <td>5,256,794,846,067,050</td>\n",
       "      <td>Yes</td>\n",
       "    </tr>\n",
       "    <tr>\n",
       "      <th>3025</th>\n",
       "      <td>28/06/2017</td>\n",
       "      <td>Oracle_UK_Zenith International</td>\n",
       "      <td>GBP</td>\n",
       "      <td>NaN</td>\n",
       "      <td>0</td>\n",
       "      <td>0</td>\n",
       "      <td>0</td>\n",
       "      <td>0</td>\n",
       "      <td>Yes</td>\n",
       "    </tr>\n",
       "    <tr>\n",
       "      <th>3026</th>\n",
       "      <td>29/06/2017</td>\n",
       "      <td>John Frieda_UK_Zenith</td>\n",
       "      <td>GBP</td>\n",
       "      <td>NaN</td>\n",
       "      <td>168025</td>\n",
       "      <td>1270</td>\n",
       "      <td>10,911,378,230,323,100</td>\n",
       "      <td>91,092,670,536,323,600</td>\n",
       "      <td>Yes</td>\n",
       "    </tr>\n",
       "    <tr>\n",
       "      <th>3027</th>\n",
       "      <td>29/06/2017</td>\n",
       "      <td>Mercedes-Benz_UK_Zenith</td>\n",
       "      <td>GBP</td>\n",
       "      <td>PMP_SublimeSkinz_Mercedes Verticals_Floor: £14...</td>\n",
       "      <td>6314</td>\n",
       "      <td>124</td>\n",
       "      <td>10,930,809,616,695,200</td>\n",
       "      <td>77,155,491,128,314,200</td>\n",
       "      <td>Yes</td>\n",
       "    </tr>\n",
       "    <tr>\n",
       "      <th>3028</th>\n",
       "      <td>29/06/2017</td>\n",
       "      <td>Mercedes-Benz_UK_Zenith</td>\n",
       "      <td>GBP</td>\n",
       "      <td>PMP_SublimeSkinz_ROS_Floor: £10_ImproveDigital...</td>\n",
       "      <td>101233</td>\n",
       "      <td>1663</td>\n",
       "      <td>12,825,062,558,147,800</td>\n",
       "      <td>11,581,095,070,197,200</td>\n",
       "      <td>Yes</td>\n",
       "    </tr>\n",
       "    <tr>\n",
       "      <th>3029</th>\n",
       "      <td>29/06/2017</td>\n",
       "      <td>Mercedes-Benz_UK_Zenith</td>\n",
       "      <td>GBP</td>\n",
       "      <td>PMP_SublimeSkinz_ROS_Floor: £10_ImproveDigital...</td>\n",
       "      <td>35023</td>\n",
       "      <td>597</td>\n",
       "      <td>47,268,710,795,685,400</td>\n",
       "      <td>34,176,592,436,426,200</td>\n",
       "      <td>Yes</td>\n",
       "    </tr>\n",
       "    <tr>\n",
       "      <th>3030</th>\n",
       "      <td>29/06/2017</td>\n",
       "      <td>Mercedes-Benz_UK_Zenith</td>\n",
       "      <td>GBP</td>\n",
       "      <td>PMP_SublimeSkinz_ROS_Floor: £10_ImproveDigital...</td>\n",
       "      <td>149811</td>\n",
       "      <td>2467</td>\n",
       "      <td>18,111,587,723,410,600</td>\n",
       "      <td>16,356,132,798,612,900</td>\n",
       "      <td>Yes</td>\n",
       "    </tr>\n",
       "    <tr>\n",
       "      <th>3031</th>\n",
       "      <td>29/06/2017</td>\n",
       "      <td>Mercedes-Benz_UK_Zenith</td>\n",
       "      <td>GBP</td>\n",
       "      <td>NaN</td>\n",
       "      <td>1305883</td>\n",
       "      <td>1662</td>\n",
       "      <td>52,769,177,488,103,300</td>\n",
       "      <td>32,998,797,476,557,200</td>\n",
       "      <td>Yes</td>\n",
       "    </tr>\n",
       "    <tr>\n",
       "      <th>3032</th>\n",
       "      <td>29/06/2017</td>\n",
       "      <td>Omega Pharma_UK_Zenith</td>\n",
       "      <td>GBP</td>\n",
       "      <td>Sharethrough - Channel - Health &amp; Fitness - Gl...</td>\n",
       "      <td>19005</td>\n",
       "      <td>68</td>\n",
       "      <td>42,017,536,784,963,700</td>\n",
       "      <td>26,138,240,777,306,700</td>\n",
       "      <td>Yes</td>\n",
       "    </tr>\n",
       "    <tr>\n",
       "      <th>3033</th>\n",
       "      <td>29/06/2017</td>\n",
       "      <td>Omega Pharma_UK_Zenith</td>\n",
       "      <td>GBP</td>\n",
       "      <td>Sharethrough - Channel - Home &amp; Garden - Globa...</td>\n",
       "      <td>50977</td>\n",
       "      <td>180</td>\n",
       "      <td>10,360,817,470,920,600</td>\n",
       "      <td>63,744,064,574,768,600</td>\n",
       "      <td>Yes</td>\n",
       "    </tr>\n",
       "    <tr>\n",
       "      <th>3034</th>\n",
       "      <td>29/06/2017</td>\n",
       "      <td>Oracle_UK_Zenith International</td>\n",
       "      <td>GBP</td>\n",
       "      <td>NaN</td>\n",
       "      <td>0</td>\n",
       "      <td>0</td>\n",
       "      <td>0</td>\n",
       "      <td>0</td>\n",
       "      <td>Yes</td>\n",
       "    </tr>\n",
       "    <tr>\n",
       "      <th>3035</th>\n",
       "      <td>30/06/2017</td>\n",
       "      <td>John Frieda_UK_Zenith</td>\n",
       "      <td>GBP</td>\n",
       "      <td>NaN</td>\n",
       "      <td>194277</td>\n",
       "      <td>1461</td>\n",
       "      <td>1,328,962,655,528,480</td>\n",
       "      <td>11,275,149,747,883,800</td>\n",
       "      <td>Yes</td>\n",
       "    </tr>\n",
       "    <tr>\n",
       "      <th>3036</th>\n",
       "      <td>30/06/2017</td>\n",
       "      <td>Mercedes-Benz_UK_Zenith</td>\n",
       "      <td>GBP</td>\n",
       "      <td>PMP_SublimeSkinz_Mercedes Verticals_Floor: £14...</td>\n",
       "      <td>7795</td>\n",
       "      <td>152</td>\n",
       "      <td>13,270,280,014,050,700</td>\n",
       "      <td>93,829,544,835,417,900</td>\n",
       "      <td>Yes</td>\n",
       "    </tr>\n",
       "    <tr>\n",
       "      <th>3037</th>\n",
       "      <td>30/06/2017</td>\n",
       "      <td>Mercedes-Benz_UK_Zenith</td>\n",
       "      <td>GBP</td>\n",
       "      <td>PMP_SublimeSkinz_ROS_Floor: £10_ImproveDigital...</td>\n",
       "      <td>88831</td>\n",
       "      <td>1431</td>\n",
       "      <td>11,341,713,457,599,800</td>\n",
       "      <td>10,242,681,985,823,000</td>\n",
       "      <td>Yes</td>\n",
       "    </tr>\n",
       "    <tr>\n",
       "      <th>3038</th>\n",
       "      <td>30/06/2017</td>\n",
       "      <td>Mercedes-Benz_UK_Zenith</td>\n",
       "      <td>GBP</td>\n",
       "      <td>PMP_SublimeSkinz_ROS_Floor: £10_ImproveDigital...</td>\n",
       "      <td>36048</td>\n",
       "      <td>614</td>\n",
       "      <td>48,328,134,478,531,300</td>\n",
       "      <td>34,967,720,432,372,600</td>\n",
       "      <td>Yes</td>\n",
       "    </tr>\n",
       "    <tr>\n",
       "      <th>3039</th>\n",
       "      <td>30/06/2017</td>\n",
       "      <td>Mercedes-Benz_UK_Zenith</td>\n",
       "      <td>GBP</td>\n",
       "      <td>PMP_SublimeSkinz_ROS_Floor: £10_ImproveDigital...</td>\n",
       "      <td>179851</td>\n",
       "      <td>3141</td>\n",
       "      <td>20,068,402,947,749,800</td>\n",
       "      <td>18,107,532,510,523,000</td>\n",
       "      <td>Yes</td>\n",
       "    </tr>\n",
       "    <tr>\n",
       "      <th>3040</th>\n",
       "      <td>30/06/2017</td>\n",
       "      <td>Mercedes-Benz_UK_Zenith</td>\n",
       "      <td>GBP</td>\n",
       "      <td>NaN</td>\n",
       "      <td>1175973</td>\n",
       "      <td>1433</td>\n",
       "      <td>47,652,582,016,141,100</td>\n",
       "      <td>29,699,704,465,692,900</td>\n",
       "      <td>Yes</td>\n",
       "    </tr>\n",
       "    <tr>\n",
       "      <th>3041</th>\n",
       "      <td>30/06/2017</td>\n",
       "      <td>New Look_UK_Performics</td>\n",
       "      <td>GBP</td>\n",
       "      <td>PMP_Just Premium_MultiURL_ROS_Fixed_OpenX/Impr...</td>\n",
       "      <td>35619</td>\n",
       "      <td>733</td>\n",
       "      <td>91,112,924,560,603,900</td>\n",
       "      <td>637,597,112,631,732</td>\n",
       "      <td>Yes</td>\n",
       "    </tr>\n",
       "    <tr>\n",
       "      <th>3042</th>\n",
       "      <td>30/06/2017</td>\n",
       "      <td>New Look_UK_Performics</td>\n",
       "      <td>GBP</td>\n",
       "      <td>PMP_Mozoo_MultiURL_ROS_Fixed_SmartRTB_DBM_New ...</td>\n",
       "      <td>31312</td>\n",
       "      <td>2343</td>\n",
       "      <td>62,809,796,193,021,800</td>\n",
       "      <td>43,949,846,350,945,500</td>\n",
       "      <td>Yes</td>\n",
       "    </tr>\n",
       "    <tr>\n",
       "      <th>3043</th>\n",
       "      <td>30/06/2017</td>\n",
       "      <td>Omega Pharma_UK_Zenith</td>\n",
       "      <td>GBP</td>\n",
       "      <td>Sharethrough - Channel - Health &amp; Fitness - Gl...</td>\n",
       "      <td>36444</td>\n",
       "      <td>126</td>\n",
       "      <td>63,701,222,821,423,000</td>\n",
       "      <td>38,349,940,789,906,300</td>\n",
       "      <td>Yes</td>\n",
       "    </tr>\n",
       "    <tr>\n",
       "      <th>3044</th>\n",
       "      <td>30/06/2017</td>\n",
       "      <td>Omega Pharma_UK_Zenith</td>\n",
       "      <td>GBP</td>\n",
       "      <td>Sharethrough - Channel - Home &amp; Garden - Globa...</td>\n",
       "      <td>57296</td>\n",
       "      <td>229</td>\n",
       "      <td>10,430,797,144,288,000</td>\n",
       "      <td>63,203,223,013,606,800</td>\n",
       "      <td>Yes</td>\n",
       "    </tr>\n",
       "  </tbody>\n",
       "</table>\n",
       "<p>3045 rows × 9 columns</p>\n",
       "</div>"
      ],
      "text/plain": [
       "            Date                      Advertiser Advertiser Currency Code  \\\n",
       "0     01/01/2016                Sanofi_UK_Zenith                      GBP   \n",
       "1     02/01/2016                Sanofi_UK_Zenith                      GBP   \n",
       "2     30/01/2016          Omega Pharma_UK_Zenith                      GBP   \n",
       "3     30/01/2016                Sanofi_UK_Zenith                      GBP   \n",
       "4     01/02/2016          Omega Pharma_UK_Zenith                      GBP   \n",
       "5     24/02/2016               Artsana_UK_Zenith                      GBP   \n",
       "6     24/02/2016          Omega Pharma_UK_Zenith                      GBP   \n",
       "7     27/04/2016         Mercedes-Benz_UK_Zenith                      GBP   \n",
       "8     28/04/2016         Mercedes-Benz_UK_Zenith                      GBP   \n",
       "9     29/04/2016         Mercedes-Benz_UK_Zenith                      GBP   \n",
       "10    30/04/2016         Mercedes-Benz_UK_Zenith                      GBP   \n",
       "11    01/05/2016         Mercedes-Benz_UK_Zenith                      GBP   \n",
       "12    02/05/2016         Mercedes-Benz_UK_Zenith                      GBP   \n",
       "13    03/05/2016         Mercedes-Benz_UK_Zenith                      GBP   \n",
       "14    04/05/2016         Mercedes-Benz_UK_Zenith                      GBP   \n",
       "15    05/05/2016         Mercedes-Benz_UK_Zenith                      GBP   \n",
       "16    06/05/2016         Mercedes-Benz_UK_Zenith                      GBP   \n",
       "17    08/05/2016         Mercedes-Benz_UK_Zenith                      GBP   \n",
       "18    11/05/2016         Mercedes-Benz_UK_Zenith                      GBP   \n",
       "19    13/05/2016         Mercedes-Benz_UK_Zenith                      GBP   \n",
       "20    14/05/2016         Mercedes-Benz_UK_Zenith                      GBP   \n",
       "21    15/05/2016         Mercedes-Benz_UK_Zenith                      GBP   \n",
       "22    16/05/2016         Mercedes-Benz_UK_Zenith                      GBP   \n",
       "23    17/05/2016         Mercedes-Benz_UK_Zenith                      GBP   \n",
       "24    18/05/2016         Mercedes-Benz_UK_Zenith                      GBP   \n",
       "25    19/05/2016         Mercedes-Benz_UK_Zenith                      GBP   \n",
       "26    20/05/2016         Mercedes-Benz_UK_Zenith                      GBP   \n",
       "27    21/05/2016         Mercedes-Benz_UK_Zenith                      GBP   \n",
       "28    22/05/2016         Mercedes-Benz_UK_Zenith                      GBP   \n",
       "29    23/05/2016         Mercedes-Benz_UK_Zenith                      GBP   \n",
       "...          ...                             ...                      ...   \n",
       "3015  27/06/2017          Omega Pharma_UK_Zenith                      GBP   \n",
       "3016  27/06/2017  Oracle_UK_Zenith International                      GBP   \n",
       "3017  28/06/2017           John Frieda_UK_Zenith                      GBP   \n",
       "3018  28/06/2017         Mercedes-Benz_UK_Zenith                      GBP   \n",
       "3019  28/06/2017         Mercedes-Benz_UK_Zenith                      GBP   \n",
       "3020  28/06/2017         Mercedes-Benz_UK_Zenith                      GBP   \n",
       "3021  28/06/2017         Mercedes-Benz_UK_Zenith                      GBP   \n",
       "3022  28/06/2017         Mercedes-Benz_UK_Zenith                      GBP   \n",
       "3023  28/06/2017          Omega Pharma_UK_Zenith                      GBP   \n",
       "3024  28/06/2017          Omega Pharma_UK_Zenith                      GBP   \n",
       "3025  28/06/2017  Oracle_UK_Zenith International                      GBP   \n",
       "3026  29/06/2017           John Frieda_UK_Zenith                      GBP   \n",
       "3027  29/06/2017         Mercedes-Benz_UK_Zenith                      GBP   \n",
       "3028  29/06/2017         Mercedes-Benz_UK_Zenith                      GBP   \n",
       "3029  29/06/2017         Mercedes-Benz_UK_Zenith                      GBP   \n",
       "3030  29/06/2017         Mercedes-Benz_UK_Zenith                      GBP   \n",
       "3031  29/06/2017         Mercedes-Benz_UK_Zenith                      GBP   \n",
       "3032  29/06/2017          Omega Pharma_UK_Zenith                      GBP   \n",
       "3033  29/06/2017          Omega Pharma_UK_Zenith                      GBP   \n",
       "3034  29/06/2017  Oracle_UK_Zenith International                      GBP   \n",
       "3035  30/06/2017           John Frieda_UK_Zenith                      GBP   \n",
       "3036  30/06/2017         Mercedes-Benz_UK_Zenith                      GBP   \n",
       "3037  30/06/2017         Mercedes-Benz_UK_Zenith                      GBP   \n",
       "3038  30/06/2017         Mercedes-Benz_UK_Zenith                      GBP   \n",
       "3039  30/06/2017         Mercedes-Benz_UK_Zenith                      GBP   \n",
       "3040  30/06/2017         Mercedes-Benz_UK_Zenith                      GBP   \n",
       "3041  30/06/2017          New Look_UK_Performics                      GBP   \n",
       "3042  30/06/2017          New Look_UK_Performics                      GBP   \n",
       "3043  30/06/2017          Omega Pharma_UK_Zenith                      GBP   \n",
       "3044  30/06/2017          Omega Pharma_UK_Zenith                      GBP   \n",
       "\n",
       "                                     Inventory Contract  Impressions  Clicks  \\\n",
       "0                                                   NaN            2       0   \n",
       "1                                                   NaN            1       0   \n",
       "2                                                   NaN            0       1   \n",
       "3                                                   NaN            0       1   \n",
       "4                                                   NaN            0       1   \n",
       "5                                                   NaN            0       2   \n",
       "6                                                   NaN            0       2   \n",
       "7                                                   NaN       410509     286   \n",
       "8                                                   NaN       469287     377   \n",
       "9                                                   NaN       322001     290   \n",
       "10                                                  NaN         9873      19   \n",
       "11                                                  NaN        10184      12   \n",
       "12                                                  NaN        48201      39   \n",
       "13                                                  NaN         9545      13   \n",
       "14                                                  NaN        48872      40   \n",
       "15                                                  NaN        35357      25   \n",
       "16                                                  NaN        10164      19   \n",
       "17                                                  NaN            0       2   \n",
       "18                                                  NaN        10913      12   \n",
       "19                                                  NaN         5151       4   \n",
       "20                                                  NaN         2453       2   \n",
       "21                                                  NaN        29279      27   \n",
       "22                                                  NaN       367180     318   \n",
       "23                                                  NaN       816321     699   \n",
       "24                                                  NaN       298581     240   \n",
       "25                                                  NaN       875753     729   \n",
       "26                                                  NaN       824246     644   \n",
       "27                                                  NaN       546880     534   \n",
       "28                                                  NaN       860834     855   \n",
       "29                                                  NaN       911437     775   \n",
       "...                                                 ...          ...     ...   \n",
       "3015                                                NaN           32       0   \n",
       "3016                                                NaN            0       0   \n",
       "3017                                                NaN        89808      82   \n",
       "3018  PMP_SublimeSkinz_Mercedes Verticals_Floor: £14...         5085      96   \n",
       "3019  PMP_SublimeSkinz_ROS_Floor: £10_ImproveDigital...        79987    1402   \n",
       "3020  PMP_SublimeSkinz_ROS_Floor: £10_ImproveDigital...        29477     561   \n",
       "3021  PMP_SublimeSkinz_ROS_Floor: £10_ImproveDigital...        86263    1631   \n",
       "3022                                                NaN      1313678    1611   \n",
       "3023  Sharethrough - Channel - Health & Fitness - Gl...        41054     130   \n",
       "3024  Sharethrough - Channel - Home & Garden - Globa...        45915     147   \n",
       "3025                                                NaN            0       0   \n",
       "3026                                                NaN       168025    1270   \n",
       "3027  PMP_SublimeSkinz_Mercedes Verticals_Floor: £14...         6314     124   \n",
       "3028  PMP_SublimeSkinz_ROS_Floor: £10_ImproveDigital...       101233    1663   \n",
       "3029  PMP_SublimeSkinz_ROS_Floor: £10_ImproveDigital...        35023     597   \n",
       "3030  PMP_SublimeSkinz_ROS_Floor: £10_ImproveDigital...       149811    2467   \n",
       "3031                                                NaN      1305883    1662   \n",
       "3032  Sharethrough - Channel - Health & Fitness - Gl...        19005      68   \n",
       "3033  Sharethrough - Channel - Home & Garden - Globa...        50977     180   \n",
       "3034                                                NaN            0       0   \n",
       "3035                                                NaN       194277    1461   \n",
       "3036  PMP_SublimeSkinz_Mercedes Verticals_Floor: £14...         7795     152   \n",
       "3037  PMP_SublimeSkinz_ROS_Floor: £10_ImproveDigital...        88831    1431   \n",
       "3038  PMP_SublimeSkinz_ROS_Floor: £10_ImproveDigital...        36048     614   \n",
       "3039  PMP_SublimeSkinz_ROS_Floor: £10_ImproveDigital...       179851    3141   \n",
       "3040                                                NaN      1175973    1433   \n",
       "3041  PMP_Just Premium_MultiURL_ROS_Fixed_OpenX/Impr...        35619     733   \n",
       "3042  PMP_Mozoo_MultiURL_ROS_Fixed_SmartRTB_DBM_New ...        31312    2343   \n",
       "3043  Sharethrough - Channel - Health & Fitness - Gl...        36444     126   \n",
       "3044  Sharethrough - Channel - Home & Garden - Globa...        57296     229   \n",
       "\n",
       "     Advertiser Cost (Adv Currency) Media Cost (Adv Currency) Public  \n",
       "0                  0,00470987228573          0,00330701846347    Yes  \n",
       "1                 0,000204947222042                         0    Yes  \n",
       "2                                 0                         0    Yes  \n",
       "3                                 0                         0    Yes  \n",
       "4                                 0                         0    Yes  \n",
       "5                                 0                         0    Yes  \n",
       "6                                 0                         0    Yes  \n",
       "7            86,676,018,250,928,100    57,070,898,088,600,800    Yes  \n",
       "8            10,273,701,954,952,700    67,008,779,133,039,000    Yes  \n",
       "9            68,947,254,338,890,600    45,616,836,838,677,100    Yes  \n",
       "10           31,531,790,324,285,400    21,819,198,690,066,900    Yes  \n",
       "11           30,777,811,561,742,700    21,283,452,378,422,000    Yes  \n",
       "12           10,268,009,899,272,500    68,359,887,466,518,300    Yes  \n",
       "13           30,361,254,804,680,700     2,100,923,319,380,850    Yes  \n",
       "14           11,576,833,017,103,600     7,672,135,172,077,210    Yes  \n",
       "15           89,755,799,786,691,800    60,282,682,528,709,500    Yes  \n",
       "16           31,310,442,273,722,400    21,654,518,770,969,100    Yes  \n",
       "17                                0                         0    Yes  \n",
       "18           23,973,483,088,534,800    15,836,810,506,457,400    Yes  \n",
       "19           11,487,827,546,012,900     7,608,260,594,691,610    Yes  \n",
       "20            5,637,551,033,652,230     3,749,550,793,697,320    Yes  \n",
       "21           62,098,376,092,642,800     4,071,615,617,775,360    Yes  \n",
       "22           78,576,001,932,498,600    51,182,897,956,564,400    Yes  \n",
       "23           19,049,347,184,274,900    12,534,291,713,181,500    Yes  \n",
       "24           70,387,901,209,701,300    46,819,000,892,373,300    Yes  \n",
       "25           20,400,850,198,118,300    13,509,607,005,804,400    Yes  \n",
       "26           19,225,487,719,656,200    12,689,397,633,170,400    Yes  \n",
       "27           12,304,109,018,340,200    81,436,216,960,208,700    Yes  \n",
       "28           20,133,980,697,377,700    13,300,225,586,441,900    Yes  \n",
       "29           21,097,405,590,943,200    13,932,437,152,251,800    Yes  \n",
       "...                             ...                       ...    ...  \n",
       "3015              0,058471998667875           0,0353298541266    Yes  \n",
       "3016                              0                         0    Yes  \n",
       "3017         32,189,825,395,464,700    20,946,781,616,800,800    Yes  \n",
       "3018         87,139,182,468,393,200    63,021,243,848,801,400    Yes  \n",
       "3019         10,261,314,408,530,400    92,652,494,765,056,600    Yes  \n",
       "3020         39,740,195,022,822,600    29,018,249,081,343,500    Yes  \n",
       "3021         10,505,890,554,232,400    94,874,755,349,968,300    Yes  \n",
       "3022         54,088,738,435,725,100    33,876,119,271,372,700    Yes  \n",
       "3023         76,774,241,049,504,500    46,607,528,572,861,100    Yes  \n",
       "3024         86,495,765,702,759,300     5,256,794,846,067,050    Yes  \n",
       "3025                              0                         0    Yes  \n",
       "3026         10,911,378,230,323,100    91,092,670,536,323,600    Yes  \n",
       "3027         10,930,809,616,695,200    77,155,491,128,314,200    Yes  \n",
       "3028         12,825,062,558,147,800    11,581,095,070,197,200    Yes  \n",
       "3029         47,268,710,795,685,400    34,176,592,436,426,200    Yes  \n",
       "3030         18,111,587,723,410,600    16,356,132,798,612,900    Yes  \n",
       "3031         52,769,177,488,103,300    32,998,797,476,557,200    Yes  \n",
       "3032         42,017,536,784,963,700    26,138,240,777,306,700    Yes  \n",
       "3033         10,360,817,470,920,600    63,744,064,574,768,600    Yes  \n",
       "3034                              0                         0    Yes  \n",
       "3035          1,328,962,655,528,480    11,275,149,747,883,800    Yes  \n",
       "3036         13,270,280,014,050,700    93,829,544,835,417,900    Yes  \n",
       "3037         11,341,713,457,599,800    10,242,681,985,823,000    Yes  \n",
       "3038         48,328,134,478,531,300    34,967,720,432,372,600    Yes  \n",
       "3039         20,068,402,947,749,800    18,107,532,510,523,000    Yes  \n",
       "3040         47,652,582,016,141,100    29,699,704,465,692,900    Yes  \n",
       "3041         91,112,924,560,603,900       637,597,112,631,732    Yes  \n",
       "3042         62,809,796,193,021,800    43,949,846,350,945,500    Yes  \n",
       "3043         63,701,222,821,423,000    38,349,940,789,906,300    Yes  \n",
       "3044         10,430,797,144,288,000    63,203,223,013,606,800    Yes  \n",
       "\n",
       "[3045 rows x 9 columns]"
      ]
     },
     "execution_count": 31,
     "metadata": {},
     "output_type": "execute_result"
    }
   ],
   "source": [
    "TTTD[\"Public\"] = \"Yes\"\n",
    "TTTD"
   ]
  },
  {
   "cell_type": "code",
   "execution_count": 32,
   "metadata": {},
   "outputs": [
    {
     "data": {
      "text/html": [
       "<div>\n",
       "<style>\n",
       "    .dataframe thead tr:only-child th {\n",
       "        text-align: right;\n",
       "    }\n",
       "\n",
       "    .dataframe thead th {\n",
       "        text-align: left;\n",
       "    }\n",
       "\n",
       "    .dataframe tbody tr th {\n",
       "        vertical-align: top;\n",
       "    }\n",
       "</style>\n",
       "<table border=\"1\" class=\"dataframe\">\n",
       "  <thead>\n",
       "    <tr style=\"text-align: right;\">\n",
       "      <th></th>\n",
       "      <th>Date</th>\n",
       "      <th>Advertiser</th>\n",
       "      <th>Advertiser Currency Code</th>\n",
       "      <th>Inventory Contract</th>\n",
       "      <th>Impressions</th>\n",
       "      <th>Clicks</th>\n",
       "      <th>Advertiser Cost (Adv Currency)</th>\n",
       "      <th>Media Cost (Adv Currency)</th>\n",
       "      <th>Public</th>\n",
       "    </tr>\n",
       "  </thead>\n",
       "  <tbody>\n",
       "    <tr>\n",
       "      <th>0</th>\n",
       "      <td>01/01/2016</td>\n",
       "      <td>Sanofi_UK_Zenith</td>\n",
       "      <td>GBP</td>\n",
       "      <td>NaN</td>\n",
       "      <td>2</td>\n",
       "      <td>0</td>\n",
       "      <td>0,00470987228573</td>\n",
       "      <td>0,00330701846347</td>\n",
       "      <td>Yes</td>\n",
       "    </tr>\n",
       "    <tr>\n",
       "      <th>1</th>\n",
       "      <td>02/01/2016</td>\n",
       "      <td>Sanofi_UK_Zenith</td>\n",
       "      <td>GBP</td>\n",
       "      <td>NaN</td>\n",
       "      <td>1</td>\n",
       "      <td>0</td>\n",
       "      <td>0,000204947222042</td>\n",
       "      <td>0</td>\n",
       "      <td>Yes</td>\n",
       "    </tr>\n",
       "    <tr>\n",
       "      <th>2</th>\n",
       "      <td>30/01/2016</td>\n",
       "      <td>Omega Pharma_UK_Zenith</td>\n",
       "      <td>GBP</td>\n",
       "      <td>NaN</td>\n",
       "      <td>0</td>\n",
       "      <td>1</td>\n",
       "      <td>0</td>\n",
       "      <td>0</td>\n",
       "      <td>Yes</td>\n",
       "    </tr>\n",
       "    <tr>\n",
       "      <th>3</th>\n",
       "      <td>30/01/2016</td>\n",
       "      <td>Sanofi_UK_Zenith</td>\n",
       "      <td>GBP</td>\n",
       "      <td>NaN</td>\n",
       "      <td>0</td>\n",
       "      <td>1</td>\n",
       "      <td>0</td>\n",
       "      <td>0</td>\n",
       "      <td>Yes</td>\n",
       "    </tr>\n",
       "    <tr>\n",
       "      <th>4</th>\n",
       "      <td>01/02/2016</td>\n",
       "      <td>Omega Pharma_UK_Zenith</td>\n",
       "      <td>GBP</td>\n",
       "      <td>NaN</td>\n",
       "      <td>0</td>\n",
       "      <td>1</td>\n",
       "      <td>0</td>\n",
       "      <td>0</td>\n",
       "      <td>Yes</td>\n",
       "    </tr>\n",
       "  </tbody>\n",
       "</table>\n",
       "</div>"
      ],
      "text/plain": [
       "         Date              Advertiser Advertiser Currency Code  \\\n",
       "0  01/01/2016        Sanofi_UK_Zenith                      GBP   \n",
       "1  02/01/2016        Sanofi_UK_Zenith                      GBP   \n",
       "2  30/01/2016  Omega Pharma_UK_Zenith                      GBP   \n",
       "3  30/01/2016        Sanofi_UK_Zenith                      GBP   \n",
       "4  01/02/2016  Omega Pharma_UK_Zenith                      GBP   \n",
       "\n",
       "  Inventory Contract  Impressions  Clicks Advertiser Cost (Adv Currency)  \\\n",
       "0                NaN            2       0               0,00470987228573   \n",
       "1                NaN            1       0              0,000204947222042   \n",
       "2                NaN            0       1                              0   \n",
       "3                NaN            0       1                              0   \n",
       "4                NaN            0       1                              0   \n",
       "\n",
       "  Media Cost (Adv Currency) Public  \n",
       "0          0,00330701846347    Yes  \n",
       "1                         0    Yes  \n",
       "2                         0    Yes  \n",
       "3                         0    Yes  \n",
       "4                         0    Yes  "
      ]
     },
     "execution_count": 32,
     "metadata": {},
     "output_type": "execute_result"
    }
   ],
   "source": [
    "TTTD.head()"
   ]
  },
  {
   "cell_type": "code",
   "execution_count": 33,
   "metadata": {},
   "outputs": [
    {
     "data": {
      "text/html": [
       "<div>\n",
       "<style>\n",
       "    .dataframe thead tr:only-child th {\n",
       "        text-align: right;\n",
       "    }\n",
       "\n",
       "    .dataframe thead th {\n",
       "        text-align: left;\n",
       "    }\n",
       "\n",
       "    .dataframe tbody tr th {\n",
       "        vertical-align: top;\n",
       "    }\n",
       "</style>\n",
       "<table border=\"1\" class=\"dataframe\">\n",
       "  <thead>\n",
       "    <tr style=\"text-align: right;\">\n",
       "      <th></th>\n",
       "      <th>Inventory Contract</th>\n",
       "    </tr>\n",
       "  </thead>\n",
       "  <tbody>\n",
       "    <tr>\n",
       "      <th>0</th>\n",
       "      <td>NaN</td>\n",
       "    </tr>\n",
       "    <tr>\n",
       "      <th>1</th>\n",
       "      <td>NaN</td>\n",
       "    </tr>\n",
       "    <tr>\n",
       "      <th>2</th>\n",
       "      <td>NaN</td>\n",
       "    </tr>\n",
       "    <tr>\n",
       "      <th>3</th>\n",
       "      <td>NaN</td>\n",
       "    </tr>\n",
       "    <tr>\n",
       "      <th>4</th>\n",
       "      <td>NaN</td>\n",
       "    </tr>\n",
       "    <tr>\n",
       "      <th>5</th>\n",
       "      <td>NaN</td>\n",
       "    </tr>\n",
       "    <tr>\n",
       "      <th>6</th>\n",
       "      <td>NaN</td>\n",
       "    </tr>\n",
       "    <tr>\n",
       "      <th>7</th>\n",
       "      <td>NaN</td>\n",
       "    </tr>\n",
       "    <tr>\n",
       "      <th>8</th>\n",
       "      <td>NaN</td>\n",
       "    </tr>\n",
       "    <tr>\n",
       "      <th>9</th>\n",
       "      <td>NaN</td>\n",
       "    </tr>\n",
       "    <tr>\n",
       "      <th>10</th>\n",
       "      <td>NaN</td>\n",
       "    </tr>\n",
       "    <tr>\n",
       "      <th>11</th>\n",
       "      <td>NaN</td>\n",
       "    </tr>\n",
       "    <tr>\n",
       "      <th>12</th>\n",
       "      <td>NaN</td>\n",
       "    </tr>\n",
       "    <tr>\n",
       "      <th>13</th>\n",
       "      <td>NaN</td>\n",
       "    </tr>\n",
       "    <tr>\n",
       "      <th>14</th>\n",
       "      <td>NaN</td>\n",
       "    </tr>\n",
       "    <tr>\n",
       "      <th>15</th>\n",
       "      <td>NaN</td>\n",
       "    </tr>\n",
       "    <tr>\n",
       "      <th>16</th>\n",
       "      <td>NaN</td>\n",
       "    </tr>\n",
       "    <tr>\n",
       "      <th>17</th>\n",
       "      <td>NaN</td>\n",
       "    </tr>\n",
       "    <tr>\n",
       "      <th>18</th>\n",
       "      <td>NaN</td>\n",
       "    </tr>\n",
       "    <tr>\n",
       "      <th>19</th>\n",
       "      <td>NaN</td>\n",
       "    </tr>\n",
       "    <tr>\n",
       "      <th>20</th>\n",
       "      <td>NaN</td>\n",
       "    </tr>\n",
       "    <tr>\n",
       "      <th>21</th>\n",
       "      <td>NaN</td>\n",
       "    </tr>\n",
       "    <tr>\n",
       "      <th>22</th>\n",
       "      <td>NaN</td>\n",
       "    </tr>\n",
       "    <tr>\n",
       "      <th>23</th>\n",
       "      <td>NaN</td>\n",
       "    </tr>\n",
       "    <tr>\n",
       "      <th>24</th>\n",
       "      <td>NaN</td>\n",
       "    </tr>\n",
       "    <tr>\n",
       "      <th>25</th>\n",
       "      <td>NaN</td>\n",
       "    </tr>\n",
       "    <tr>\n",
       "      <th>26</th>\n",
       "      <td>NaN</td>\n",
       "    </tr>\n",
       "    <tr>\n",
       "      <th>27</th>\n",
       "      <td>NaN</td>\n",
       "    </tr>\n",
       "    <tr>\n",
       "      <th>28</th>\n",
       "      <td>NaN</td>\n",
       "    </tr>\n",
       "    <tr>\n",
       "      <th>29</th>\n",
       "      <td>NaN</td>\n",
       "    </tr>\n",
       "    <tr>\n",
       "      <th>...</th>\n",
       "      <td>...</td>\n",
       "    </tr>\n",
       "    <tr>\n",
       "      <th>2906</th>\n",
       "      <td>NaN</td>\n",
       "    </tr>\n",
       "    <tr>\n",
       "      <th>2919</th>\n",
       "      <td>NaN</td>\n",
       "    </tr>\n",
       "    <tr>\n",
       "      <th>2922</th>\n",
       "      <td>NaN</td>\n",
       "    </tr>\n",
       "    <tr>\n",
       "      <th>2925</th>\n",
       "      <td>NaN</td>\n",
       "    </tr>\n",
       "    <tr>\n",
       "      <th>2926</th>\n",
       "      <td>NaN</td>\n",
       "    </tr>\n",
       "    <tr>\n",
       "      <th>2938</th>\n",
       "      <td>NaN</td>\n",
       "    </tr>\n",
       "    <tr>\n",
       "      <th>2939</th>\n",
       "      <td>NaN</td>\n",
       "    </tr>\n",
       "    <tr>\n",
       "      <th>2942</th>\n",
       "      <td>NaN</td>\n",
       "    </tr>\n",
       "    <tr>\n",
       "      <th>2945</th>\n",
       "      <td>NaN</td>\n",
       "    </tr>\n",
       "    <tr>\n",
       "      <th>2957</th>\n",
       "      <td>NaN</td>\n",
       "    </tr>\n",
       "    <tr>\n",
       "      <th>2961</th>\n",
       "      <td>NaN</td>\n",
       "    </tr>\n",
       "    <tr>\n",
       "      <th>2975</th>\n",
       "      <td>NaN</td>\n",
       "    </tr>\n",
       "    <tr>\n",
       "      <th>2979</th>\n",
       "      <td>NaN</td>\n",
       "    </tr>\n",
       "    <tr>\n",
       "      <th>2991</th>\n",
       "      <td>NaN</td>\n",
       "    </tr>\n",
       "    <tr>\n",
       "      <th>2995</th>\n",
       "      <td>NaN</td>\n",
       "    </tr>\n",
       "    <tr>\n",
       "      <th>2998</th>\n",
       "      <td>NaN</td>\n",
       "    </tr>\n",
       "    <tr>\n",
       "      <th>3003</th>\n",
       "      <td>NaN</td>\n",
       "    </tr>\n",
       "    <tr>\n",
       "      <th>3006</th>\n",
       "      <td>NaN</td>\n",
       "    </tr>\n",
       "    <tr>\n",
       "      <th>3007</th>\n",
       "      <td>NaN</td>\n",
       "    </tr>\n",
       "    <tr>\n",
       "      <th>3012</th>\n",
       "      <td>NaN</td>\n",
       "    </tr>\n",
       "    <tr>\n",
       "      <th>3015</th>\n",
       "      <td>NaN</td>\n",
       "    </tr>\n",
       "    <tr>\n",
       "      <th>3016</th>\n",
       "      <td>NaN</td>\n",
       "    </tr>\n",
       "    <tr>\n",
       "      <th>3017</th>\n",
       "      <td>NaN</td>\n",
       "    </tr>\n",
       "    <tr>\n",
       "      <th>3022</th>\n",
       "      <td>NaN</td>\n",
       "    </tr>\n",
       "    <tr>\n",
       "      <th>3025</th>\n",
       "      <td>NaN</td>\n",
       "    </tr>\n",
       "    <tr>\n",
       "      <th>3026</th>\n",
       "      <td>NaN</td>\n",
       "    </tr>\n",
       "    <tr>\n",
       "      <th>3031</th>\n",
       "      <td>NaN</td>\n",
       "    </tr>\n",
       "    <tr>\n",
       "      <th>3034</th>\n",
       "      <td>NaN</td>\n",
       "    </tr>\n",
       "    <tr>\n",
       "      <th>3035</th>\n",
       "      <td>NaN</td>\n",
       "    </tr>\n",
       "    <tr>\n",
       "      <th>3040</th>\n",
       "      <td>NaN</td>\n",
       "    </tr>\n",
       "  </tbody>\n",
       "</table>\n",
       "<p>1146 rows × 1 columns</p>\n",
       "</div>"
      ],
      "text/plain": [
       "     Inventory Contract\n",
       "0                   NaN\n",
       "1                   NaN\n",
       "2                   NaN\n",
       "3                   NaN\n",
       "4                   NaN\n",
       "5                   NaN\n",
       "6                   NaN\n",
       "7                   NaN\n",
       "8                   NaN\n",
       "9                   NaN\n",
       "10                  NaN\n",
       "11                  NaN\n",
       "12                  NaN\n",
       "13                  NaN\n",
       "14                  NaN\n",
       "15                  NaN\n",
       "16                  NaN\n",
       "17                  NaN\n",
       "18                  NaN\n",
       "19                  NaN\n",
       "20                  NaN\n",
       "21                  NaN\n",
       "22                  NaN\n",
       "23                  NaN\n",
       "24                  NaN\n",
       "25                  NaN\n",
       "26                  NaN\n",
       "27                  NaN\n",
       "28                  NaN\n",
       "29                  NaN\n",
       "...                 ...\n",
       "2906                NaN\n",
       "2919                NaN\n",
       "2922                NaN\n",
       "2925                NaN\n",
       "2926                NaN\n",
       "2938                NaN\n",
       "2939                NaN\n",
       "2942                NaN\n",
       "2945                NaN\n",
       "2957                NaN\n",
       "2961                NaN\n",
       "2975                NaN\n",
       "2979                NaN\n",
       "2991                NaN\n",
       "2995                NaN\n",
       "2998                NaN\n",
       "3003                NaN\n",
       "3006                NaN\n",
       "3007                NaN\n",
       "3012                NaN\n",
       "3015                NaN\n",
       "3016                NaN\n",
       "3017                NaN\n",
       "3022                NaN\n",
       "3025                NaN\n",
       "3026                NaN\n",
       "3031                NaN\n",
       "3034                NaN\n",
       "3035                NaN\n",
       "3040                NaN\n",
       "\n",
       "[1146 rows x 1 columns]"
      ]
     },
     "execution_count": 33,
     "metadata": {},
     "output_type": "execute_result"
    }
   ],
   "source": [
    "TTTD.loc[TTTD[\"Inventory Contract\"].isnull() == True,[\"Inventory Contract\"]]"
   ]
  },
  {
   "cell_type": "code",
   "execution_count": 34,
   "metadata": {},
   "outputs": [
    {
     "ename": "NotImplementedError",
     "evalue": "iLocation based boolean indexing on an integer type is not available",
     "output_type": "error",
     "traceback": [
      "\u001b[1;31m---------------------------------------------------------------------------\u001b[0m",
      "\u001b[1;31mNotImplementedError\u001b[0m                       Traceback (most recent call last)",
      "\u001b[1;32m<ipython-input-34-f061e936d51f>\u001b[0m in \u001b[0;36m<module>\u001b[1;34m()\u001b[0m\n\u001b[1;32m----> 1\u001b[1;33m \u001b[0mTTTD\u001b[0m\u001b[1;33m.\u001b[0m\u001b[0miloc\u001b[0m\u001b[1;33m[\u001b[0m\u001b[0mTTTD\u001b[0m\u001b[1;33m[\u001b[0m\u001b[1;34m\"Inventory Contract\"\u001b[0m\u001b[1;33m]\u001b[0m \u001b[1;33m==\u001b[0m \u001b[0mnp\u001b[0m\u001b[1;33m.\u001b[0m\u001b[0mNaN\u001b[0m\u001b[1;33m,\u001b[0m \u001b[1;33m]\u001b[0m\u001b[1;33m\u001b[0m\u001b[0m\n\u001b[0m",
      "\u001b[1;32mC:\\Users\\ylin\\AppData\\Local\\Continuum\\Anaconda3\\lib\\site-packages\\pandas\\core\\indexing.py\u001b[0m in \u001b[0;36m__getitem__\u001b[1;34m(self, key)\u001b[0m\n\u001b[0;32m   1323\u001b[0m             \u001b[1;32mexcept\u001b[0m \u001b[1;33m(\u001b[0m\u001b[0mKeyError\u001b[0m\u001b[1;33m,\u001b[0m \u001b[0mIndexError\u001b[0m\u001b[1;33m)\u001b[0m\u001b[1;33m:\u001b[0m\u001b[1;33m\u001b[0m\u001b[0m\n\u001b[0;32m   1324\u001b[0m                 \u001b[1;32mpass\u001b[0m\u001b[1;33m\u001b[0m\u001b[0m\n\u001b[1;32m-> 1325\u001b[1;33m             \u001b[1;32mreturn\u001b[0m \u001b[0mself\u001b[0m\u001b[1;33m.\u001b[0m\u001b[0m_getitem_tuple\u001b[0m\u001b[1;33m(\u001b[0m\u001b[0mkey\u001b[0m\u001b[1;33m)\u001b[0m\u001b[1;33m\u001b[0m\u001b[0m\n\u001b[0m\u001b[0;32m   1326\u001b[0m         \u001b[1;32melse\u001b[0m\u001b[1;33m:\u001b[0m\u001b[1;33m\u001b[0m\u001b[0m\n\u001b[0;32m   1327\u001b[0m             \u001b[0mkey\u001b[0m \u001b[1;33m=\u001b[0m \u001b[0mcom\u001b[0m\u001b[1;33m.\u001b[0m\u001b[0m_apply_if_callable\u001b[0m\u001b[1;33m(\u001b[0m\u001b[0mkey\u001b[0m\u001b[1;33m,\u001b[0m \u001b[0mself\u001b[0m\u001b[1;33m.\u001b[0m\u001b[0mobj\u001b[0m\u001b[1;33m)\u001b[0m\u001b[1;33m\u001b[0m\u001b[0m\n",
      "\u001b[1;32mC:\\Users\\ylin\\AppData\\Local\\Continuum\\Anaconda3\\lib\\site-packages\\pandas\\core\\indexing.py\u001b[0m in \u001b[0;36m_getitem_tuple\u001b[1;34m(self, tup)\u001b[0m\n\u001b[0;32m   1660\u001b[0m     \u001b[1;32mdef\u001b[0m \u001b[0m_getitem_tuple\u001b[0m\u001b[1;33m(\u001b[0m\u001b[0mself\u001b[0m\u001b[1;33m,\u001b[0m \u001b[0mtup\u001b[0m\u001b[1;33m)\u001b[0m\u001b[1;33m:\u001b[0m\u001b[1;33m\u001b[0m\u001b[0m\n\u001b[0;32m   1661\u001b[0m \u001b[1;33m\u001b[0m\u001b[0m\n\u001b[1;32m-> 1662\u001b[1;33m         \u001b[0mself\u001b[0m\u001b[1;33m.\u001b[0m\u001b[0m_has_valid_tuple\u001b[0m\u001b[1;33m(\u001b[0m\u001b[0mtup\u001b[0m\u001b[1;33m)\u001b[0m\u001b[1;33m\u001b[0m\u001b[0m\n\u001b[0m\u001b[0;32m   1663\u001b[0m         \u001b[1;32mtry\u001b[0m\u001b[1;33m:\u001b[0m\u001b[1;33m\u001b[0m\u001b[0m\n\u001b[0;32m   1664\u001b[0m             \u001b[1;32mreturn\u001b[0m \u001b[0mself\u001b[0m\u001b[1;33m.\u001b[0m\u001b[0m_getitem_lowerdim\u001b[0m\u001b[1;33m(\u001b[0m\u001b[0mtup\u001b[0m\u001b[1;33m)\u001b[0m\u001b[1;33m\u001b[0m\u001b[0m\n",
      "\u001b[1;32mC:\\Users\\ylin\\AppData\\Local\\Continuum\\Anaconda3\\lib\\site-packages\\pandas\\core\\indexing.py\u001b[0m in \u001b[0;36m_has_valid_tuple\u001b[1;34m(self, key)\u001b[0m\n\u001b[0;32m    187\u001b[0m             \u001b[1;32mif\u001b[0m \u001b[0mi\u001b[0m \u001b[1;33m>=\u001b[0m \u001b[0mself\u001b[0m\u001b[1;33m.\u001b[0m\u001b[0mobj\u001b[0m\u001b[1;33m.\u001b[0m\u001b[0mndim\u001b[0m\u001b[1;33m:\u001b[0m\u001b[1;33m\u001b[0m\u001b[0m\n\u001b[0;32m    188\u001b[0m                 \u001b[1;32mraise\u001b[0m \u001b[0mIndexingError\u001b[0m\u001b[1;33m(\u001b[0m\u001b[1;34m'Too many indexers'\u001b[0m\u001b[1;33m)\u001b[0m\u001b[1;33m\u001b[0m\u001b[0m\n\u001b[1;32m--> 189\u001b[1;33m             \u001b[1;32mif\u001b[0m \u001b[1;32mnot\u001b[0m \u001b[0mself\u001b[0m\u001b[1;33m.\u001b[0m\u001b[0m_has_valid_type\u001b[0m\u001b[1;33m(\u001b[0m\u001b[0mk\u001b[0m\u001b[1;33m,\u001b[0m \u001b[0mi\u001b[0m\u001b[1;33m)\u001b[0m\u001b[1;33m:\u001b[0m\u001b[1;33m\u001b[0m\u001b[0m\n\u001b[0m\u001b[0;32m    190\u001b[0m                 raise ValueError(\"Location based indexing can only have [%s] \"\n\u001b[0;32m    191\u001b[0m                                  \"types\" % self._valid_types)\n",
      "\u001b[1;32mC:\\Users\\ylin\\AppData\\Local\\Continuum\\Anaconda3\\lib\\site-packages\\pandas\\core\\indexing.py\u001b[0m in \u001b[0;36m_has_valid_type\u001b[1;34m(self, key, axis)\u001b[0m\n\u001b[0;32m   1585\u001b[0m             \u001b[1;32mif\u001b[0m \u001b[0mhasattr\u001b[0m\u001b[1;33m(\u001b[0m\u001b[0mkey\u001b[0m\u001b[1;33m,\u001b[0m \u001b[1;34m'index'\u001b[0m\u001b[1;33m)\u001b[0m \u001b[1;32mand\u001b[0m \u001b[0misinstance\u001b[0m\u001b[1;33m(\u001b[0m\u001b[0mkey\u001b[0m\u001b[1;33m.\u001b[0m\u001b[0mindex\u001b[0m\u001b[1;33m,\u001b[0m \u001b[0mIndex\u001b[0m\u001b[1;33m)\u001b[0m\u001b[1;33m:\u001b[0m\u001b[1;33m\u001b[0m\u001b[0m\n\u001b[0;32m   1586\u001b[0m                 \u001b[1;32mif\u001b[0m \u001b[0mkey\u001b[0m\u001b[1;33m.\u001b[0m\u001b[0mindex\u001b[0m\u001b[1;33m.\u001b[0m\u001b[0minferred_type\u001b[0m \u001b[1;33m==\u001b[0m \u001b[1;34m'integer'\u001b[0m\u001b[1;33m:\u001b[0m\u001b[1;33m\u001b[0m\u001b[0m\n\u001b[1;32m-> 1587\u001b[1;33m                     raise NotImplementedError(\"iLocation based boolean \"\n\u001b[0m\u001b[0;32m   1588\u001b[0m                                               \u001b[1;34m\"indexing on an integer type \"\u001b[0m\u001b[1;33m\u001b[0m\u001b[0m\n\u001b[0;32m   1589\u001b[0m                                               \"is not available\")\n",
      "\u001b[1;31mNotImplementedError\u001b[0m: iLocation based boolean indexing on an integer type is not available"
     ]
    }
   ],
   "source": [
    "TTTD.iloc[TTTD[\"Inventory Contract\"] == np.NaN, ]"
   ]
  },
  {
   "cell_type": "code",
   "execution_count": null,
   "metadata": {},
   "outputs": [],
   "source": [
    "TTTD[\"DSP\"] = \"TTD\""
   ]
  },
  {
   "cell_type": "code",
   "execution_count": null,
   "metadata": {},
   "outputs": [],
   "source": [
    "DBM.head()"
   ]
  },
  {
   "cell_type": "code",
   "execution_count": null,
   "metadata": {
    "collapsed": true
   },
   "outputs": [],
   "source": []
  },
  {
   "cell_type": "code",
   "execution_count": null,
   "metadata": {
    "collapsed": true
   },
   "outputs": [],
   "source": []
  },
  {
   "cell_type": "code",
   "execution_count": null,
   "metadata": {
    "collapsed": true
   },
   "outputs": [],
   "source": []
  },
  {
   "cell_type": "code",
   "execution_count": null,
   "metadata": {
    "collapsed": true
   },
   "outputs": [],
   "source": []
  },
  {
   "cell_type": "code",
   "execution_count": null,
   "metadata": {
    "collapsed": true
   },
   "outputs": [],
   "source": []
  },
  {
   "cell_type": "code",
   "execution_count": null,
   "metadata": {
    "collapsed": true
   },
   "outputs": [],
   "source": []
  },
  {
   "cell_type": "code",
   "execution_count": null,
   "metadata": {
    "collapsed": true
   },
   "outputs": [],
   "source": []
  },
  {
   "cell_type": "code",
   "execution_count": null,
   "metadata": {
    "collapsed": true
   },
   "outputs": [],
   "source": []
  },
  {
   "cell_type": "markdown",
   "metadata": {},
   "source": [
    "---"
   ]
  },
  {
   "cell_type": "code",
   "execution_count": null,
   "metadata": {
    "collapsed": true
   },
   "outputs": [],
   "source": [
    "#RocketFuel data below"
   ]
  },
  {
   "cell_type": "code",
   "execution_count": null,
   "metadata": {
    "collapsed": true
   },
   "outputs": [],
   "source": [
    "RF = pd.DataFrame()\n",
    "for file in glob.glob(\"RF*.csv\"):\n",
    "    df = pd.read_csv(file, header=1)\n",
    "    RF = RF.append(df, ignore_index=True)\n",
    "RF.Spend = RF.Spend.str.replace(\"GBP \", \"\")\n",
    "RF[\"Media Cost\"] = RF[\"Media Cost\"].str.replace(\"GBP \", \"\")"
   ]
  },
  {
   "cell_type": "code",
   "execution_count": null,
   "metadata": {
    "collapsed": true
   },
   "outputs": [],
   "source": [
    "RF[\"Public\"] = \"Yes\"\n",
    "RF.loc[RF[\"Exchange Deal ID\"].isnull() == False, \"Public\"] = \"No\"\n",
    "RF[\"Month\"] = RF[\"Year and Month\"].str.split(\"-\").str[0] + \"/\" + RF[\"Year and Month\"].str.split(\"-\").str[1]\n",
    "RF[\"DSP\"] = \"RocketFuel\"\n",
    "RF[\"Type\"] = \"General\"\n",
    "RF[\"Currency\"] = \"GBP\""
   ]
  },
  {
   "cell_type": "code",
   "execution_count": null,
   "metadata": {
    "collapsed": true
   },
   "outputs": [],
   "source": [
    "RF = RF.loc[:, [\"Month\", \"Advertiser\", \"Public\", \"Imps\", \"Clicks\", \"Spend\", \"Media Cost\", \"Currency\", \"DSP\", \"Type\"]]"
   ]
  },
  {
   "cell_type": "code",
   "execution_count": null,
   "metadata": {
    "collapsed": true
   },
   "outputs": [],
   "source": [
    "RF.columns = ['Month', 'Advertiser', 'Public', 'Impressions', 'Clicks', 'Spend', 'Media', 'Currency', 'DSP', 'Type']"
   ]
  },
  {
   "cell_type": "code",
   "execution_count": null,
   "metadata": {
    "collapsed": true
   },
   "outputs": [],
   "source": [
    "RF.Spend = RF.Spend.astype(\"float64\")\n",
    "RF.Media = RF.Media.astype(\"float64\")"
   ]
  },
  {
   "cell_type": "markdown",
   "metadata": {},
   "source": [
    "---"
   ]
  },
  {
   "cell_type": "code",
   "execution_count": null,
   "metadata": {
    "collapsed": true
   },
   "outputs": [],
   "source": [
    "#Amazon data below"
   ]
  },
  {
   "cell_type": "code",
   "execution_count": null,
   "metadata": {
    "collapsed": true
   },
   "outputs": [],
   "source": [
    "AAP_old = pd.read_csv(\"Amazon_0116_0317.csv\")"
   ]
  },
  {
   "cell_type": "code",
   "execution_count": null,
   "metadata": {
    "collapsed": true
   },
   "outputs": [],
   "source": [
    "AAP_old = AAP_old.head(147)"
   ]
  },
  {
   "cell_type": "code",
   "execution_count": null,
   "metadata": {
    "collapsed": true
   },
   "outputs": [],
   "source": [
    "AAP_old.date = AAP_old.date.str.split(\" \").str[0]\n",
    "AAP_old.date = AAP_old.date.str.split(\"/\").str[2] + \"/\" + AAP_old.date.str.split(\"/\").str[1]"
   ]
  },
  {
   "cell_type": "code",
   "execution_count": null,
   "metadata": {
    "collapsed": true
   },
   "outputs": [],
   "source": [
    "AAP_old.columns = ['Month', 'Advertiser', 'advertiser_id', 'Impressions', 'Clicks',\n",
    "       'Media', 'net cost', 'agency markup', 'Spend']"
   ]
  },
  {
   "cell_type": "code",
   "execution_count": null,
   "metadata": {
    "collapsed": true
   },
   "outputs": [],
   "source": [
    "AAP = pd.DataFrame()\n",
    "for file in glob.glob(\"AAP*.csv\"):\n",
    "    df = pd.read_csv(file, usecols=[\"Date\", \"Advertiser\", \"Impressions\", \"Clickthroughs\", \n",
    "                                    \"Total Cost\", \"Supply Cost\", \"Order Currency\"])\n",
    "    AAP = AAP.append(df, ignore_index=True) "
   ]
  },
  {
   "cell_type": "code",
   "execution_count": null,
   "metadata": {
    "collapsed": true
   },
   "outputs": [],
   "source": [
    "AAP = AAP.drop(AAP.index[AAP[\"Total Cost\"] == 0]).reset_index(drop=True)"
   ]
  },
  {
   "cell_type": "code",
   "execution_count": null,
   "metadata": {
    "collapsed": true
   },
   "outputs": [],
   "source": [
    "list2=[]\n",
    "for month in AAP.Date:\n",
    "    g = month[-4:] + \"/\" + \"{0:0=2d}\".format(time.strptime(month[:3], \"%b\").tm_mon)\n",
    "    list2.append(g)"
   ]
  },
  {
   "cell_type": "code",
   "execution_count": null,
   "metadata": {
    "collapsed": true
   },
   "outputs": [],
   "source": [
    "AAP.Date = list2\n",
    "AAP[\"Public\"] = \"N/A\"\n",
    "AAP[\"DSP\"] = \"AAP\"\n",
    "AAP[\"Type\"] = \"General\""
   ]
  },
  {
   "cell_type": "code",
   "execution_count": null,
   "metadata": {
    "collapsed": true
   },
   "outputs": [],
   "source": [
    "AAP.columns = ['Month', 'Advertiser', 'Currency', 'Media', 'Spend','Impressions', 'Clicks', 'Public', 'DSP', 'Type']"
   ]
  },
  {
   "cell_type": "code",
   "execution_count": null,
   "metadata": {
    "collapsed": true
   },
   "outputs": [],
   "source": [
    "AAP = AAP.loc[:, ['Month', 'Advertiser', 'Public', 'Impressions', 'Clicks', 'Spend', 'Media', 'Currency', 'DSP', 'Type']]"
   ]
  },
  {
   "cell_type": "code",
   "execution_count": null,
   "metadata": {},
   "outputs": [],
   "source": [
    "AAP.Spend = AAP.Spend.convert_objects(convert_numeric=True)"
   ]
  },
  {
   "cell_type": "markdown",
   "metadata": {},
   "source": [
    "---"
   ]
  },
  {
   "cell_type": "code",
   "execution_count": null,
   "metadata": {
    "collapsed": true
   },
   "outputs": [],
   "source": [
    "#Turn data below"
   ]
  },
  {
   "cell_type": "code",
   "execution_count": null,
   "metadata": {
    "collapsed": true
   },
   "outputs": [],
   "source": [
    "TURN_old = pd.read_csv(\"oldTURN_0317_0417.csv\")"
   ]
  },
  {
   "cell_type": "code",
   "execution_count": null,
   "metadata": {
    "collapsed": true
   },
   "outputs": [],
   "source": [
    "TURN_old.Month = TURN_old.Month.str.split(\"/\").str[2] + \"/\" + TURN_old.Month.str.split(\"/\").str[0]"
   ]
  },
  {
   "cell_type": "code",
   "execution_count": null,
   "metadata": {
    "collapsed": true
   },
   "outputs": [],
   "source": [
    "TURN_old[\"Public\"] = \"Yes\"\n",
    "TURN_old.loc[~TURN_old.Deal_ID.isin([-1]), \"Public\"] = \"No\"\n",
    "TURN_old[\"DSP\"] = \"TURN\"\n",
    "TURN_old[\"Type\"] = \"General\"\n",
    "TURN_old[\"Media\"] = TURN_old.Spend * 0.7"
   ]
  },
  {
   "cell_type": "code",
   "execution_count": null,
   "metadata": {
    "collapsed": true
   },
   "outputs": [],
   "source": [
    "TURN_old = TURN_old.loc[:, ['Month', 'Advertiser', 'Public', 'Impressions','Clicks','Spend','Media','Currency', 'DSP', 'Type']]"
   ]
  },
  {
   "cell_type": "code",
   "execution_count": null,
   "metadata": {
    "collapsed": true
   },
   "outputs": [],
   "source": [
    "TURN = pd.DataFrame()\n",
    "for file in glob.glob(\"TURN*.csv\"):\n",
    "    df = pd.read_csv(file, encoding=\"ISO-8859-1\")\n",
    "    TURN = TURN.append(df, ignore_index=True)"
   ]
  },
  {
   "cell_type": "code",
   "execution_count": null,
   "metadata": {
    "collapsed": true
   },
   "outputs": [],
   "source": [
    "TURN.columns = ['Month', 'Advertiser', 'deal_id', 'deal_name', 'Impressions', 'Clicks', 'Currency', 'Spend']"
   ]
  },
  {
   "cell_type": "code",
   "execution_count": null,
   "metadata": {
    "collapsed": true
   },
   "outputs": [],
   "source": [
    "TURN.Spend = TURN.Spend.str.replace(\"£\", \"\")\n",
    "TURN.Spend = TURN.Spend.str.replace(\",\", \"\")\n",
    "TURN.Spend = pd.to_numeric(TURN.Spend)"
   ]
  },
  {
   "cell_type": "code",
   "execution_count": null,
   "metadata": {
    "collapsed": true
   },
   "outputs": [],
   "source": [
    "TURN.Month = TURN.Month.str.split(\"_\").str[0] + \"/\" + TURN.Month.str.split(\"_\").str[1]"
   ]
  },
  {
   "cell_type": "code",
   "execution_count": null,
   "metadata": {
    "collapsed": true
   },
   "outputs": [],
   "source": [
    "TURN[\"Public\"] = \"Yes\"\n",
    "TURN.loc[~(TURN.deal_id == \"Unknown\"), \"Public\"] = \"No\"\n",
    "TURN[\"DSP\"] = \"TURN\"\n",
    "TURN[\"Type\"] = \"General\"\n",
    "TURN[\"Media\"] = TURN.Spend * 0.7"
   ]
  },
  {
   "cell_type": "code",
   "execution_count": null,
   "metadata": {
    "collapsed": true
   },
   "outputs": [],
   "source": [
    "TURN = TURN.loc[:, ['Month', 'Advertiser', 'Public', 'Impressions', 'Clicks','Spend','Media','Currency','DSP', 'Type']]\n",
    "TURN = TURN.append(TURN_old, ignore_index=True)"
   ]
  },
  {
   "cell_type": "markdown",
   "metadata": {},
   "source": [
    "---"
   ]
  },
  {
   "cell_type": "code",
   "execution_count": null,
   "metadata": {
    "collapsed": true
   },
   "outputs": [],
   "source": [
    "#Data from all DSPs"
   ]
  },
  {
   "cell_type": "code",
   "execution_count": null,
   "metadata": {
    "collapsed": true
   },
   "outputs": [],
   "source": [
    "data = DBM.append([TTD, YT, videology, RF, AAP, TURN], ignore_index=True)"
   ]
  },
  {
   "cell_type": "code",
   "execution_count": null,
   "metadata": {
    "collapsed": true
   },
   "outputs": [],
   "source": [
    "np.unique(data.Currency)\n",
    "USDtoGBP = 0.77\n",
    "EURtoGBP = 0.84"
   ]
  },
  {
   "cell_type": "code",
   "execution_count": null,
   "metadata": {
    "collapsed": true
   },
   "outputs": [],
   "source": [
    "data[\"cSpend\"] = data.Spend \n",
    "data.loc[data.Currency == \"USD\",\"cSpend\"] = data.Spend * USDtoGBP\n",
    "data.loc[data.Currency == \"EUR\",\"cSpend\"] = data.Spend * EURtoGBP"
   ]
  },
  {
   "cell_type": "markdown",
   "metadata": {},
   "source": [
    "---"
   ]
  },
  {
   "cell_type": "code",
   "execution_count": null,
   "metadata": {
    "collapsed": true
   },
   "outputs": [],
   "source": [
    "#file to ZO folder on desktop"
   ]
  },
  {
   "cell_type": "code",
   "execution_count": null,
   "metadata": {
    "collapsed": true
   },
   "outputs": [],
   "source": [
    "data.sort_values(\"Month\", ascending=True).to_csv(\"C:\\\\Users\\\\ylin\\\\Desktop\\\\ZO Spend\\\\\"+\"ZO spend.csv\", index=False)"
   ]
  },
  {
   "cell_type": "code",
   "execution_count": null,
   "metadata": {
    "collapsed": true
   },
   "outputs": [],
   "source": [
    "data.pivot_table(values=\"cSpend\", index=\"Month\", columns=[\"DSP\", \"Type\", \"Public\"], \n",
    "                 aggfunc=np.sum, margins=True).round().to_csv(\"C:\\\\Users\\\\ylin\\\\Desktop\\\\ZO Spend\\\\\"+\"ZO spend pivot.csv\")"
   ]
  },
  {
   "cell_type": "code",
   "execution_count": null,
   "metadata": {},
   "outputs": [],
   "source": [
    "data.pivot_table(values=\"cSpend\", index=\"Month\", columns=[\"DSP\", \"Type\", \"Public\"], aggfunc=np.sum, margins=True).round()"
   ]
  },
  {
   "cell_type": "code",
   "execution_count": null,
   "metadata": {
    "collapsed": true
   },
   "outputs": [],
   "source": []
  }
 ],
 "metadata": {
  "anaconda-cloud": {},
  "kernelspec": {
   "display_name": "Python 3",
   "language": "python",
   "name": "python3"
  }
 },
 "nbformat": 4,
 "nbformat_minor": 1
}
