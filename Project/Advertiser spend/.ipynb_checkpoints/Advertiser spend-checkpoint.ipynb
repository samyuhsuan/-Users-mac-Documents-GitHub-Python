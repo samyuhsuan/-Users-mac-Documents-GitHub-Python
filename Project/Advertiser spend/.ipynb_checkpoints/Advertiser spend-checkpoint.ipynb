{
 "cells": [
  {
   "cell_type": "code",
   "execution_count": 286,
   "metadata": {
    "collapsed": true
   },
   "outputs": [],
   "source": [
    "import pandas as pd\n",
    "import numpy as np\n",
    "import matplotlib.pyplot as plt\n",
    "import seaborn as sns\n",
    "import glob\n",
    "import time\n",
    "%matplotlib inline"
   ]
  },
  {
   "cell_type": "markdown",
   "metadata": {},
   "source": [
    "---"
   ]
  },
  {
   "cell_type": "code",
   "execution_count": 287,
   "metadata": {
    "collapsed": true
   },
   "outputs": [],
   "source": [
    "#DBM data below"
   ]
  },
  {
   "cell_type": "code",
   "execution_count": 288,
   "metadata": {
    "collapsed": false
   },
   "outputs": [],
   "source": [
    "DBM = pd.DataFrame()\n",
    "for file in glob.glob(\"DBM*.csv\"):\n",
    "    df = pd.read_csv(file)\n",
    "    df = df[df[\"Advertiser Currency\"].isnull() == False]\n",
    "    DBM = DBM.append(df, ignore_index=True)"
   ]
  },
  {
   "cell_type": "code",
   "execution_count": 289,
   "metadata": {
    "collapsed": false
   },
   "outputs": [],
   "source": [
    "DBM = DBM.loc[:, [\"Month\", \"Advertiser\", \"Public Inventory\", \"Impressions\", \n",
    "                  \"Clicks\", \"Revenue (Adv Currency)\", \"Media Cost (Advertiser Currency)\", \"Advertiser Currency\"]]"
   ]
  },
  {
   "cell_type": "code",
   "execution_count": 290,
   "metadata": {
    "collapsed": false
   },
   "outputs": [],
   "source": [
    "DBM.columns = [\"Month\", \"Advertiser\", \"Public\", \"Impressions\", \"Clicks\", \"Spend\", \"Media\", \"Currency\"]"
   ]
  },
  {
   "cell_type": "code",
   "execution_count": 291,
   "metadata": {
    "collapsed": false
   },
   "outputs": [],
   "source": [
    "DBM[\"DSP\"] = \"DBM\"\n",
    "DBM[\"Type\"] = \"General\""
   ]
  },
  {
   "cell_type": "markdown",
   "metadata": {},
   "source": [
    "---"
   ]
  },
  {
   "cell_type": "code",
   "execution_count": 292,
   "metadata": {
    "collapsed": true
   },
   "outputs": [],
   "source": [
    "#YouTube/TrueView data below"
   ]
  },
  {
   "cell_type": "code",
   "execution_count": 293,
   "metadata": {
    "collapsed": true
   },
   "outputs": [],
   "source": [
    "YT = pd.DataFrame()\n",
    "for file in glob.glob(\"YT*.csv\"):\n",
    "    df = pd.read_csv(file)\n",
    "    df = df[df[\"Advertiser Currency\"].isnull() == False]\n",
    "    YT = YT.append(df, ignore_index=True)"
   ]
  },
  {
   "cell_type": "code",
   "execution_count": 294,
   "metadata": {
    "collapsed": false
   },
   "outputs": [],
   "source": [
    "YT[\"Public\"] = \"N/A\"\n",
    "YT[\"DSP\"] = \"DBM\"\n",
    "YT[\"Type\"] = \"TrueView\""
   ]
  },
  {
   "cell_type": "code",
   "execution_count": 295,
   "metadata": {
    "collapsed": false
   },
   "outputs": [],
   "source": [
    "YT = YT.loc[:, [\"Month\", \"Advertiser\", \"Public\",\"Impressions\", \n",
    "                \"Clicks\", \"Revenue (Adv Currency)\", \"Media Cost (Advertiser Currency)\", \"Advertiser Currency\", \"DSP\", \"Type\"]]"
   ]
  },
  {
   "cell_type": "code",
   "execution_count": 296,
   "metadata": {
    "collapsed": false
   },
   "outputs": [],
   "source": [
    "YT.columns = ['Month', 'Advertiser', 'Public', 'Impressions', 'Clicks',\n",
    "       'Spend', 'Media', 'Currency', 'DSP', 'Type']"
   ]
  },
  {
   "cell_type": "markdown",
   "metadata": {},
   "source": [
    "---"
   ]
  },
  {
   "cell_type": "code",
   "execution_count": 297,
   "metadata": {
    "collapsed": true
   },
   "outputs": [],
   "source": [
    "#Videology data below\n",
    "#please note the data in the template the time frame please select the specific time rather than 'last month'"
   ]
  },
  {
   "cell_type": "code",
   "execution_count": 298,
   "metadata": {
    "collapsed": false
   },
   "outputs": [],
   "source": [
    "videology = pd.DataFrame()\n",
    "for file in glob.glob(\"Videology*.csv\"):\n",
    "    df = pd.read_csv(file)\n",
    "    df = df[df[\"Placement ID\"].isnull() == False]\n",
    "    videology = videology.append(df, ignore_index=True)"
   ]
  },
  {
   "cell_type": "code",
   "execution_count": 299,
   "metadata": {
    "collapsed": false
   },
   "outputs": [],
   "source": [
    "videology.columns = [\"Advertiser\", \"Placement\", \"PlacementName\", \"Date\", \"Impressions\", \"Spend\", \"Clicks\"]"
   ]
  },
  {
   "cell_type": "code",
   "execution_count": 300,
   "metadata": {
    "collapsed": false
   },
   "outputs": [],
   "source": [
    "list1=[]\n",
    "for month in videology.Date:\n",
    "    g = month[-4:] + \"/\" + \"{0:0=2d}\".format(time.strptime(month[:3], \"%b\").tm_mon)\n",
    "    list1.append(g)"
   ]
  },
  {
   "cell_type": "code",
   "execution_count": 301,
   "metadata": {
    "collapsed": false
   },
   "outputs": [],
   "source": [
    "#repmoving the thousand separator \n",
    "videology.Impressions = videology.Impressions.apply(lambda x: float(x.split()[0].replace(',', '')))\n",
    "videology.Clicks = videology.Clicks.apply(lambda x: float(x.split()[0].replace(',', '')))\n",
    "videology.Spend = videology.Spend.apply(lambda x: float(x.split()[0].replace(',', '')))"
   ]
  },
  {
   "cell_type": "code",
   "execution_count": 302,
   "metadata": {
    "collapsed": false
   },
   "outputs": [],
   "source": [
    "videology[\"Currency\"] = \"GBP\"\n",
    "videology[\"DSP\"] = \"Videology\"\n",
    "videology[\"Type\"] = \"General\"\n",
    "videology.loc[(videology.PlacementName.str.contains(\"Channel 4\")) | \n",
    "              (videology.PlacementName.str.contains(\"C4\")), \"Type\"] = \"Channel 4\"\n",
    "videology[\"Media\"] = videology.Spend * 0.7\n",
    "videology.loc[videology.Type == \"Channel 4\", \"Media\"] = videology.Spend * 0.8\n",
    "videology[\"Public\"] = \"N/A\"\n",
    "videology[\"Month\"] = list1"
   ]
  },
  {
   "cell_type": "code",
   "execution_count": 303,
   "metadata": {
    "collapsed": true
   },
   "outputs": [],
   "source": [
    "videology = videology.loc[:, ['Month', 'Advertiser', 'Public', 'Impressions', 'Clicks', 'Spend',\n",
    "       'Media', 'Currency', 'DSP', 'Type']]"
   ]
  },
  {
   "cell_type": "markdown",
   "metadata": {},
   "source": [
    "---"
   ]
  },
  {
   "cell_type": "code",
   "execution_count": 304,
   "metadata": {
    "collapsed": true
   },
   "outputs": [],
   "source": [
    "#TheTradeDesk data below"
   ]
  },
  {
   "cell_type": "code",
   "execution_count": 305,
   "metadata": {
    "collapsed": false
   },
   "outputs": [],
   "source": [
    "TTD = pd.DataFrame()\n",
    "for file in glob.glob(\"TTD*.tsv\"):\n",
    "    df = pd.read_csv(file)\n",
    "    TTD = TTD.append(df, ignore_index=True)\n",
    "TTD.columns = [\"all\"]\n",
    "TTD = pd.DataFrame(TTD[\"all\"].str.split(\"\\t\").tolist(), \n",
    "             columns=[\"Date\", \"Advertiser\",\"Currency\", \"PMP\", \"Impressions\", \"Clicks\", \"Spend\", \"Media\"])"
   ]
  },
  {
   "cell_type": "code",
   "execution_count": 306,
   "metadata": {
    "collapsed": false
   },
   "outputs": [],
   "source": [
    "TTD[\"Month\"] = TTD.Date.str.split(\"/\").str[2] + \"/\" + TTD.Date.str.split(\"/\").str[1]\n",
    "TTD[\"Public\"] = \"Yes\"\n",
    "TTD.loc[TTD.PMP.str.contains(\"PMP\"), \"Public\"] = \"No\"\n",
    "TTD[\"DSP\"] = \"TTD\"\n",
    "TTD[\"Type\"] = \"General\""
   ]
  },
  {
   "cell_type": "code",
   "execution_count": 307,
   "metadata": {
    "collapsed": false
   },
   "outputs": [],
   "source": [
    "TTD = TTD.loc[:, [\"Month\", \"Advertiser\", \"Public\", \"Impressions\", \"Clicks\", \"Spend\", \"Media\", \"Currency\", \"DSP\", \"Type\"]]"
   ]
  },
  {
   "cell_type": "code",
   "execution_count": 308,
   "metadata": {
    "collapsed": false
   },
   "outputs": [],
   "source": [
    "TTD.Impressions = TTD.Impressions.astype(\"float64\")\n",
    "TTD.Clicks = TTD.Clicks.astype(\"float64\")\n",
    "TTD.Spend = TTD.Spend.astype(\"float64\")\n",
    "TTD.Media = TTD.Media.astype(\"float64\")"
   ]
  },
  {
   "cell_type": "code",
   "execution_count": 309,
   "metadata": {
    "collapsed": true
   },
   "outputs": [],
   "source": [
    "#below is fixed for 2016 TTD data "
   ]
  },
  {
   "cell_type": "code",
   "execution_count": 310,
   "metadata": {
    "collapsed": false
   },
   "outputs": [],
   "source": [
    "TTD_old = pd.read_csv(\"TTD_0116_1216.csv\")"
   ]
  },
  {
   "cell_type": "code",
   "execution_count": 311,
   "metadata": {
    "collapsed": false
   },
   "outputs": [],
   "source": [
    "TTD_old[\"Month\"] = TTD_old.Date.str.split(\"/\").str[2] + \"/\" + TTD_old.Date.str.split(\"/\").str[1]\n",
    "TTD_old[\"Public\"] = \"Yes\"\n",
    "TTD_old.loc[TTD_old[\"Inventory Contract\"] == \"PMP\", \"Public\"] = \"No\"\n",
    "TTD_old[\"DSP\"] = \"TTD\"\n",
    "TTD_old[\"Type\"] = \"General\""
   ]
  },
  {
   "cell_type": "code",
   "execution_count": 312,
   "metadata": {
    "collapsed": true
   },
   "outputs": [],
   "source": [
    "TTD_old = TTD_old.loc[:, [\"Month\", \"Advertiser\", \"Public\", \"Impressions\", \n",
    "                          \"Clicks\", \"Advertiser Cost (Adv Currency)\", \"Media Cost (Adv Currency)\", \n",
    "                          \"Advertiser Currency Code\", \"DSP\", \"Type\"]]"
   ]
  },
  {
   "cell_type": "code",
   "execution_count": 313,
   "metadata": {
    "collapsed": false
   },
   "outputs": [],
   "source": [
    "TTD_old.columns = ['Month', 'Advertiser', 'Public', 'Impressions', 'Clicks',\n",
    "       'Spend', 'Media','Currency', 'DSP', 'Type']"
   ]
  },
  {
   "cell_type": "code",
   "execution_count": 314,
   "metadata": {
    "collapsed": false
   },
   "outputs": [],
   "source": [
    "TTD = TTD.append(TTD_old, ignore_index=True)"
   ]
  },
  {
   "cell_type": "markdown",
   "metadata": {},
   "source": [
    "---"
   ]
  },
  {
   "cell_type": "code",
   "execution_count": 315,
   "metadata": {
    "collapsed": true
   },
   "outputs": [],
   "source": [
    "#RocketFuel data below"
   ]
  },
  {
   "cell_type": "code",
   "execution_count": 316,
   "metadata": {
    "collapsed": false
   },
   "outputs": [],
   "source": [
    "RF = pd.DataFrame()\n",
    "for file in glob.glob(\"RF_0117_0417.csv\"):\n",
    "    df = pd.read_csv(file, header=2)\n",
    "    RF = RF.append(df, ignore_index=True)\n",
    "RF.Spend = RF.Spend.str.replace(\"GBP \", \"\")\n",
    "RF[\"Media Cost\"] = RF[\"Media Cost\"].str.replace(\"GBP \", \"\")"
   ]
  },
  {
   "cell_type": "code",
   "execution_count": 317,
   "metadata": {
    "collapsed": false
   },
   "outputs": [],
   "source": [
    "RF[\"Public\"] = \"Yes\"\n",
    "RF.loc[RF[\"Exchange Deal ID\"].isnull() == False, \"Public\"] = \"No\"\n",
    "RF[\"Month\"] = RF[\"Year and Month\"].str.split(\"-\").str[0] + \"/\" + RF[\"Year and Month\"].str.split(\"-\").str[1]\n",
    "RF[\"DSP\"] = \"RocketFuel\"\n",
    "RF[\"Type\"] = \"General\"\n",
    "RF[\"Currency\"] = \"GBP\""
   ]
  },
  {
   "cell_type": "code",
   "execution_count": 318,
   "metadata": {
    "collapsed": false
   },
   "outputs": [],
   "source": [
    "RF = RF.loc[:, [\"Month\", \"Advertiser\", \"Public\", \"Imps\", \"Clicks\", \"Spend\", \"Media Cost\", \"Currency\", \"DSP\", \"Type\"]]"
   ]
  },
  {
   "cell_type": "code",
   "execution_count": 319,
   "metadata": {
    "collapsed": false
   },
   "outputs": [],
   "source": [
    "RF.columns = ['Month', 'Advertiser', 'Public', 'Impressions', 'Clicks', 'Spend', 'Media', 'Currency', 'DSP', 'Type']"
   ]
  },
  {
   "cell_type": "code",
   "execution_count": 320,
   "metadata": {
    "collapsed": false
   },
   "outputs": [],
   "source": [
    "RF.Spend = RF.Spend.astype(\"float64\")\n",
    "RF.Media = RF.Media.astype(\"float64\")"
   ]
  },
  {
   "cell_type": "markdown",
   "metadata": {},
   "source": [
    "---"
   ]
  },
  {
   "cell_type": "code",
   "execution_count": 321,
   "metadata": {
    "collapsed": true
   },
   "outputs": [],
   "source": [
    "AAP_old = pd.read_csv(\"Amazon_0116_0317.csv\")"
   ]
  },
  {
   "cell_type": "code",
   "execution_count": 322,
   "metadata": {
    "collapsed": false
   },
   "outputs": [
    {
     "data": {
      "text/html": [
       "<div>\n",
       "<table border=\"1\" class=\"dataframe\">\n",
       "  <thead>\n",
       "    <tr style=\"text-align: right;\">\n",
       "      <th></th>\n",
       "      <th>Month</th>\n",
       "      <th>Advertiser</th>\n",
       "      <th>Public</th>\n",
       "      <th>Impressions</th>\n",
       "      <th>Clicks</th>\n",
       "      <th>Spend</th>\n",
       "      <th>Media</th>\n",
       "      <th>Currency</th>\n",
       "      <th>DSP</th>\n",
       "      <th>Type</th>\n",
       "      <th>cSpend</th>\n",
       "    </tr>\n",
       "  </thead>\n",
       "  <tbody>\n",
       "    <tr>\n",
       "      <th>0</th>\n",
       "      <td>2016/07</td>\n",
       "      <td>BBC Store_UK_Zenith</td>\n",
       "      <td>No</td>\n",
       "      <td>43275.0</td>\n",
       "      <td>59.0</td>\n",
       "      <td>174.403276</td>\n",
       "      <td>122.083783</td>\n",
       "      <td>GBP</td>\n",
       "      <td>DBM</td>\n",
       "      <td>General</td>\n",
       "      <td>174.403276</td>\n",
       "    </tr>\n",
       "    <tr>\n",
       "      <th>1</th>\n",
       "      <td>2016/03</td>\n",
       "      <td>Aviva_UK_Zenith (non-DCM)</td>\n",
       "      <td>No</td>\n",
       "      <td>12806.0</td>\n",
       "      <td>438.0</td>\n",
       "      <td>219.431282</td>\n",
       "      <td>145.403610</td>\n",
       "      <td>GBP</td>\n",
       "      <td>DBM</td>\n",
       "      <td>General</td>\n",
       "      <td>219.431282</td>\n",
       "    </tr>\n",
       "    <tr>\n",
       "      <th>2</th>\n",
       "      <td>2016/05</td>\n",
       "      <td>Qantas_UK_Zenith</td>\n",
       "      <td>No</td>\n",
       "      <td>35249.0</td>\n",
       "      <td>43.0</td>\n",
       "      <td>176.013562</td>\n",
       "      <td>120.409233</td>\n",
       "      <td>GBP</td>\n",
       "      <td>DBM</td>\n",
       "      <td>General</td>\n",
       "      <td>176.013562</td>\n",
       "    </tr>\n",
       "    <tr>\n",
       "      <th>3</th>\n",
       "      <td>2016/10</td>\n",
       "      <td>Toyota_UK_Zenith</td>\n",
       "      <td>No</td>\n",
       "      <td>11489364.0</td>\n",
       "      <td>13085.0</td>\n",
       "      <td>130165.389485</td>\n",
       "      <td>91336.044259</td>\n",
       "      <td>GBP</td>\n",
       "      <td>DBM</td>\n",
       "      <td>General</td>\n",
       "      <td>130165.389485</td>\n",
       "    </tr>\n",
       "    <tr>\n",
       "      <th>4</th>\n",
       "      <td>2016/07</td>\n",
       "      <td>Hästens_UK_Zenith</td>\n",
       "      <td>No</td>\n",
       "      <td>40890.0</td>\n",
       "      <td>37.0</td>\n",
       "      <td>464.743776</td>\n",
       "      <td>325.324612</td>\n",
       "      <td>GBP</td>\n",
       "      <td>DBM</td>\n",
       "      <td>General</td>\n",
       "      <td>464.743776</td>\n",
       "    </tr>\n",
       "  </tbody>\n",
       "</table>\n",
       "</div>"
      ],
      "text/plain": [
       "     Month                 Advertiser Public  Impressions   Clicks  \\\n",
       "0  2016/07        BBC Store_UK_Zenith     No      43275.0     59.0   \n",
       "1  2016/03  Aviva_UK_Zenith (non-DCM)     No      12806.0    438.0   \n",
       "2  2016/05           Qantas_UK_Zenith     No      35249.0     43.0   \n",
       "3  2016/10           Toyota_UK_Zenith     No   11489364.0  13085.0   \n",
       "4  2016/07          Hästens_UK_Zenith     No      40890.0     37.0   \n",
       "\n",
       "           Spend         Media Currency  DSP     Type         cSpend  \n",
       "0     174.403276    122.083783      GBP  DBM  General     174.403276  \n",
       "1     219.431282    145.403610      GBP  DBM  General     219.431282  \n",
       "2     176.013562    120.409233      GBP  DBM  General     176.013562  \n",
       "3  130165.389485  91336.044259      GBP  DBM  General  130165.389485  \n",
       "4     464.743776    325.324612      GBP  DBM  General     464.743776  "
      ]
     },
     "execution_count": 322,
     "metadata": {},
     "output_type": "execute_result"
    }
   ],
   "source": [
    "data.head()"
   ]
  },
  {
   "cell_type": "code",
   "execution_count": 323,
   "metadata": {
    "collapsed": false
   },
   "outputs": [],
   "source": [
    "AAP_old = AAP_old.head(147)"
   ]
  },
  {
   "cell_type": "code",
   "execution_count": 324,
   "metadata": {
    "collapsed": false
   },
   "outputs": [],
   "source": [
    "AAP_old.date = AAP_old.date.str.split(\" \").str[0]\n",
    "AAP_old.date = AAP_old.date.str.split(\"/\").str[2] + \"/\" + AAP_old.date.str.split(\"/\").str[1]"
   ]
  },
  {
   "cell_type": "code",
   "execution_count": 325,
   "metadata": {
    "collapsed": false
   },
   "outputs": [
    {
     "data": {
      "text/html": [
       "<div>\n",
       "<table border=\"1\" class=\"dataframe\">\n",
       "  <thead>\n",
       "    <tr style=\"text-align: right;\">\n",
       "      <th></th>\n",
       "      <th>date</th>\n",
       "      <th>advertiser_name</th>\n",
       "      <th>advertiser_id</th>\n",
       "      <th>impressions</th>\n",
       "      <th>clicks</th>\n",
       "      <th>supply cost</th>\n",
       "      <th>net cost</th>\n",
       "      <th>agency markup</th>\n",
       "      <th>total cost</th>\n",
       "    </tr>\n",
       "  </thead>\n",
       "  <tbody>\n",
       "    <tr>\n",
       "      <th>0</th>\n",
       "      <td>2016/01</td>\n",
       "      <td>HomeAway_UK_Zenith</td>\n",
       "      <td>1.505130e+09</td>\n",
       "      <td>1168023.0</td>\n",
       "      <td>311.0</td>\n",
       "      <td>1835.9515</td>\n",
       "      <td>2851.41</td>\n",
       "      <td>0.0</td>\n",
       "      <td>2851.41</td>\n",
       "    </tr>\n",
       "    <tr>\n",
       "      <th>1</th>\n",
       "      <td>2016/01</td>\n",
       "      <td>Natwest_UK_Zenith duplicate</td>\n",
       "      <td>1.502036e+09</td>\n",
       "      <td>5326829.0</td>\n",
       "      <td>3667.0</td>\n",
       "      <td>10144.4970</td>\n",
       "      <td>14228.96</td>\n",
       "      <td>0.0</td>\n",
       "      <td>14228.96</td>\n",
       "    </tr>\n",
       "    <tr>\n",
       "      <th>2</th>\n",
       "      <td>2016/01</td>\n",
       "      <td>RBS_UK_Zenith</td>\n",
       "      <td>1.502039e+09</td>\n",
       "      <td>594671.0</td>\n",
       "      <td>457.0</td>\n",
       "      <td>1311.1522</td>\n",
       "      <td>2198.10</td>\n",
       "      <td>0.0</td>\n",
       "      <td>2198.10</td>\n",
       "    </tr>\n",
       "    <tr>\n",
       "      <th>3</th>\n",
       "      <td>2016/01</td>\n",
       "      <td>Omega Pharma_UK_Zenith</td>\n",
       "      <td>1.505136e+09</td>\n",
       "      <td>773795.0</td>\n",
       "      <td>559.0</td>\n",
       "      <td>2749.8116</td>\n",
       "      <td>3043.90</td>\n",
       "      <td>0.0</td>\n",
       "      <td>3043.90</td>\n",
       "    </tr>\n",
       "    <tr>\n",
       "      <th>4</th>\n",
       "      <td>2016/01</td>\n",
       "      <td>Aviva_Zenith</td>\n",
       "      <td>1.502254e+09</td>\n",
       "      <td>586496.0</td>\n",
       "      <td>701.0</td>\n",
       "      <td>1826.6986</td>\n",
       "      <td>1898.92</td>\n",
       "      <td>0.0</td>\n",
       "      <td>1898.92</td>\n",
       "    </tr>\n",
       "  </tbody>\n",
       "</table>\n",
       "</div>"
      ],
      "text/plain": [
       "      date              advertiser_name  advertiser_id  impressions  clicks  \\\n",
       "0  2016/01           HomeAway_UK_Zenith   1.505130e+09    1168023.0   311.0   \n",
       "1  2016/01  Natwest_UK_Zenith duplicate   1.502036e+09    5326829.0  3667.0   \n",
       "2  2016/01                RBS_UK_Zenith   1.502039e+09     594671.0   457.0   \n",
       "3  2016/01       Omega Pharma_UK_Zenith   1.505136e+09     773795.0   559.0   \n",
       "4  2016/01                 Aviva_Zenith   1.502254e+09     586496.0   701.0   \n",
       "\n",
       "   supply cost  net cost  agency markup  total cost  \n",
       "0    1835.9515   2851.41            0.0     2851.41  \n",
       "1   10144.4970  14228.96            0.0    14228.96  \n",
       "2    1311.1522   2198.10            0.0     2198.10  \n",
       "3    2749.8116   3043.90            0.0     3043.90  \n",
       "4    1826.6986   1898.92            0.0     1898.92  "
      ]
     },
     "execution_count": 325,
     "metadata": {},
     "output_type": "execute_result"
    }
   ],
   "source": [
    "AAP_old.head()"
   ]
  },
  {
   "cell_type": "code",
   "execution_count": 326,
   "metadata": {
    "collapsed": false
   },
   "outputs": [],
   "source": [
    "AAP_old.columns = ['Month', 'Advertiser', 'advertiser_id', 'Impressions', 'Clicks',\n",
    "       'Media', 'net cost', 'agency markup', 'Spend']"
   ]
  },
  {
   "cell_type": "code",
   "execution_count": null,
   "metadata": {
    "collapsed": true
   },
   "outputs": [],
   "source": []
  },
  {
   "cell_type": "code",
   "execution_count": 327,
   "metadata": {
    "collapsed": false
   },
   "outputs": [
    {
     "data": {
      "text/html": [
       "<div>\n",
       "<table border=\"1\" class=\"dataframe\">\n",
       "  <thead>\n",
       "    <tr style=\"text-align: right;\">\n",
       "      <th></th>\n",
       "      <th>Month</th>\n",
       "      <th>Advertiser</th>\n",
       "      <th>Public</th>\n",
       "      <th>Impressions</th>\n",
       "      <th>Clicks</th>\n",
       "      <th>Spend</th>\n",
       "      <th>Media</th>\n",
       "      <th>Currency</th>\n",
       "      <th>DSP</th>\n",
       "      <th>Type</th>\n",
       "      <th>cSpend</th>\n",
       "    </tr>\n",
       "  </thead>\n",
       "  <tbody>\n",
       "    <tr>\n",
       "      <th>0</th>\n",
       "      <td>2016/07</td>\n",
       "      <td>BBC Store_UK_Zenith</td>\n",
       "      <td>No</td>\n",
       "      <td>43275.0</td>\n",
       "      <td>59.0</td>\n",
       "      <td>174.403276</td>\n",
       "      <td>122.083783</td>\n",
       "      <td>GBP</td>\n",
       "      <td>DBM</td>\n",
       "      <td>General</td>\n",
       "      <td>174.403276</td>\n",
       "    </tr>\n",
       "    <tr>\n",
       "      <th>1</th>\n",
       "      <td>2016/03</td>\n",
       "      <td>Aviva_UK_Zenith (non-DCM)</td>\n",
       "      <td>No</td>\n",
       "      <td>12806.0</td>\n",
       "      <td>438.0</td>\n",
       "      <td>219.431282</td>\n",
       "      <td>145.403610</td>\n",
       "      <td>GBP</td>\n",
       "      <td>DBM</td>\n",
       "      <td>General</td>\n",
       "      <td>219.431282</td>\n",
       "    </tr>\n",
       "    <tr>\n",
       "      <th>2</th>\n",
       "      <td>2016/05</td>\n",
       "      <td>Qantas_UK_Zenith</td>\n",
       "      <td>No</td>\n",
       "      <td>35249.0</td>\n",
       "      <td>43.0</td>\n",
       "      <td>176.013562</td>\n",
       "      <td>120.409233</td>\n",
       "      <td>GBP</td>\n",
       "      <td>DBM</td>\n",
       "      <td>General</td>\n",
       "      <td>176.013562</td>\n",
       "    </tr>\n",
       "    <tr>\n",
       "      <th>3</th>\n",
       "      <td>2016/10</td>\n",
       "      <td>Toyota_UK_Zenith</td>\n",
       "      <td>No</td>\n",
       "      <td>11489364.0</td>\n",
       "      <td>13085.0</td>\n",
       "      <td>130165.389485</td>\n",
       "      <td>91336.044259</td>\n",
       "      <td>GBP</td>\n",
       "      <td>DBM</td>\n",
       "      <td>General</td>\n",
       "      <td>130165.389485</td>\n",
       "    </tr>\n",
       "    <tr>\n",
       "      <th>4</th>\n",
       "      <td>2016/07</td>\n",
       "      <td>Hästens_UK_Zenith</td>\n",
       "      <td>No</td>\n",
       "      <td>40890.0</td>\n",
       "      <td>37.0</td>\n",
       "      <td>464.743776</td>\n",
       "      <td>325.324612</td>\n",
       "      <td>GBP</td>\n",
       "      <td>DBM</td>\n",
       "      <td>General</td>\n",
       "      <td>464.743776</td>\n",
       "    </tr>\n",
       "  </tbody>\n",
       "</table>\n",
       "</div>"
      ],
      "text/plain": [
       "     Month                 Advertiser Public  Impressions   Clicks  \\\n",
       "0  2016/07        BBC Store_UK_Zenith     No      43275.0     59.0   \n",
       "1  2016/03  Aviva_UK_Zenith (non-DCM)     No      12806.0    438.0   \n",
       "2  2016/05           Qantas_UK_Zenith     No      35249.0     43.0   \n",
       "3  2016/10           Toyota_UK_Zenith     No   11489364.0  13085.0   \n",
       "4  2016/07          Hästens_UK_Zenith     No      40890.0     37.0   \n",
       "\n",
       "           Spend         Media Currency  DSP     Type         cSpend  \n",
       "0     174.403276    122.083783      GBP  DBM  General     174.403276  \n",
       "1     219.431282    145.403610      GBP  DBM  General     219.431282  \n",
       "2     176.013562    120.409233      GBP  DBM  General     176.013562  \n",
       "3  130165.389485  91336.044259      GBP  DBM  General  130165.389485  \n",
       "4     464.743776    325.324612      GBP  DBM  General     464.743776  "
      ]
     },
     "execution_count": 327,
     "metadata": {},
     "output_type": "execute_result"
    }
   ],
   "source": [
    "data.head()"
   ]
  },
  {
   "cell_type": "code",
   "execution_count": null,
   "metadata": {
    "collapsed": true
   },
   "outputs": [],
   "source": []
  },
  {
   "cell_type": "code",
   "execution_count": 328,
   "metadata": {
    "collapsed": false
   },
   "outputs": [],
   "source": [
    "AAP = pd.DataFrame()\n",
    "for file in glob.glob(\"AAP*.csv\"):\n",
    "    df = pd.read_csv(file, usecols=[\"Date\", \"Advertiser\", \"Impressions\", \"Clickthroughs\", \n",
    "                                    \"Total Cost\", \"Supply Cost\", \"Order Currency\"])\n",
    "    AAP = AAP.append(df, ignore_index=True) "
   ]
  },
  {
   "cell_type": "code",
   "execution_count": 329,
   "metadata": {
    "collapsed": false
   },
   "outputs": [],
   "source": [
    "AAP = AAP.drop(AAP.index[AAP[\"Total Cost\"] == 0]).reset_index(drop=True)"
   ]
  },
  {
   "cell_type": "code",
   "execution_count": 330,
   "metadata": {
    "collapsed": false
   },
   "outputs": [],
   "source": [
    "list2=[]\n",
    "for month in AAP.Date:\n",
    "    g = month[-4:] + \"/\" + \"{0:0=2d}\".format(time.strptime(month[:3], \"%b\").tm_mon)\n",
    "    list2.append(g)"
   ]
  },
  {
   "cell_type": "code",
   "execution_count": 332,
   "metadata": {
    "collapsed": true
   },
   "outputs": [],
   "source": [
    "AAP.Date = list2\n",
    "AAP[\"Public\"] = \"N/A\"\n",
    "AAP[\"DSP\"] = \"AAP\"\n",
    "AAP[\"Type\"] = \"General\""
   ]
  },
  {
   "cell_type": "code",
   "execution_count": 333,
   "metadata": {
    "collapsed": false
   },
   "outputs": [],
   "source": [
    "AAP.columns = ['Month', 'Advertiser', 'Currency', 'Media', 'Spend','Impressions', 'Clicks', 'Public', 'DSP', 'Type']"
   ]
  },
  {
   "cell_type": "code",
   "execution_count": 338,
   "metadata": {
    "collapsed": false
   },
   "outputs": [],
   "source": [
    "AAP = AAP.loc[:, ['Month', 'Advertiser', 'Public', 'Impressions', 'Clicks', 'Spend', 'Media', 'Currency', 'DSP', 'Type']]"
   ]
  },
  {
   "cell_type": "code",
   "execution_count": null,
   "metadata": {
    "collapsed": true
   },
   "outputs": [],
   "source": []
  },
  {
   "cell_type": "code",
   "execution_count": null,
   "metadata": {
    "collapsed": true
   },
   "outputs": [],
   "source": []
  },
  {
   "cell_type": "code",
   "execution_count": null,
   "metadata": {
    "collapsed": true
   },
   "outputs": [],
   "source": []
  },
  {
   "cell_type": "markdown",
   "metadata": {},
   "source": [
    "---"
   ]
  },
  {
   "cell_type": "code",
   "execution_count": null,
   "metadata": {
    "collapsed": true
   },
   "outputs": [],
   "source": [
    "#Data from all DSPs"
   ]
  },
  {
   "cell_type": "code",
   "execution_count": 339,
   "metadata": {
    "collapsed": false
   },
   "outputs": [],
   "source": [
    "data = DBM.append([TTD, YT, videology, RF, AAP], ignore_index=True)"
   ]
  },
  {
   "cell_type": "code",
   "execution_count": 340,
   "metadata": {
    "collapsed": false
   },
   "outputs": [],
   "source": [
    "np.unique(data.Currency)\n",
    "USDtoGBP = 0.77\n",
    "EURtoGBP = 0.84"
   ]
  },
  {
   "cell_type": "code",
   "execution_count": 341,
   "metadata": {
    "collapsed": false
   },
   "outputs": [],
   "source": [
    "data[\"cSpend\"] = data.Spend \n",
    "data.loc[data.Currency == \"USD\",\"cSpend\"] = data.Spend * USDtoGBP\n",
    "data.loc[data.Currency == \"EUR\",\"cSpend\"] = data.Spend * EURtoGBP"
   ]
  },
  {
   "cell_type": "markdown",
   "metadata": {},
   "source": [
    "---"
   ]
  },
  {
   "cell_type": "code",
   "execution_count": 342,
   "metadata": {
    "collapsed": true
   },
   "outputs": [],
   "source": [
    "#file to ZO folder on desktop"
   ]
  },
  {
   "cell_type": "code",
   "execution_count": 343,
   "metadata": {
    "collapsed": false
   },
   "outputs": [],
   "source": [
    "data.sort_values(\"Month\", ascending=True).to_csv(\"D:\\\\Users\\\\ylin\\\\Desktop\\\\ZO Spend\\\\\"+\"ZO spend.csv\", index=False)"
   ]
  },
  {
   "cell_type": "code",
   "execution_count": 344,
   "metadata": {
    "collapsed": true
   },
   "outputs": [],
   "source": [
    "data.pivot_table(values=\"cSpend\", index=\"Month\", columns=[\"DSP\", \"Type\", \"Public\"], \n",
    "                 aggfunc=np.sum).round().to_csv(\"D:\\\\Users\\\\ylin\\\\Desktop\\\\ZO Spend\\\\\"+\"ZO spend pivot.csv\")"
   ]
  },
  {
   "cell_type": "code",
   "execution_count": 345,
   "metadata": {
    "collapsed": false
   },
   "outputs": [
    {
     "data": {
      "text/html": [
       "<div>\n",
       "<table border=\"1\" class=\"dataframe\">\n",
       "  <thead>\n",
       "    <tr>\n",
       "      <th>DSP</th>\n",
       "      <th>AAP</th>\n",
       "      <th colspan=\"3\" halign=\"left\">DBM</th>\n",
       "      <th>RocketFuel</th>\n",
       "      <th colspan=\"2\" halign=\"left\">TTD</th>\n",
       "      <th colspan=\"2\" halign=\"left\">Videology</th>\n",
       "    </tr>\n",
       "    <tr>\n",
       "      <th>Type</th>\n",
       "      <th>General</th>\n",
       "      <th colspan=\"2\" halign=\"left\">General</th>\n",
       "      <th>TrueView</th>\n",
       "      <th>General</th>\n",
       "      <th colspan=\"2\" halign=\"left\">General</th>\n",
       "      <th>Channel 4</th>\n",
       "      <th>General</th>\n",
       "    </tr>\n",
       "    <tr>\n",
       "      <th>Public</th>\n",
       "      <th>N/A</th>\n",
       "      <th>No</th>\n",
       "      <th>Yes</th>\n",
       "      <th>N/A</th>\n",
       "      <th>Yes</th>\n",
       "      <th>No</th>\n",
       "      <th>Yes</th>\n",
       "      <th>N/A</th>\n",
       "      <th>N/A</th>\n",
       "    </tr>\n",
       "    <tr>\n",
       "      <th>Month</th>\n",
       "      <th></th>\n",
       "      <th></th>\n",
       "      <th></th>\n",
       "      <th></th>\n",
       "      <th></th>\n",
       "      <th></th>\n",
       "      <th></th>\n",
       "      <th></th>\n",
       "      <th></th>\n",
       "    </tr>\n",
       "  </thead>\n",
       "  <tbody>\n",
       "    <tr>\n",
       "      <th>2016/01</th>\n",
       "      <td>NaN</td>\n",
       "      <td>462491.0</td>\n",
       "      <td>2015535.0</td>\n",
       "      <td>126240.0</td>\n",
       "      <td>NaN</td>\n",
       "      <td>NaN</td>\n",
       "      <td>0.0</td>\n",
       "      <td>NaN</td>\n",
       "      <td>NaN</td>\n",
       "    </tr>\n",
       "    <tr>\n",
       "      <th>2016/02</th>\n",
       "      <td>NaN</td>\n",
       "      <td>599799.0</td>\n",
       "      <td>2321375.0</td>\n",
       "      <td>180716.0</td>\n",
       "      <td>NaN</td>\n",
       "      <td>NaN</td>\n",
       "      <td>0.0</td>\n",
       "      <td>NaN</td>\n",
       "      <td>NaN</td>\n",
       "    </tr>\n",
       "    <tr>\n",
       "      <th>2016/03</th>\n",
       "      <td>NaN</td>\n",
       "      <td>1042068.0</td>\n",
       "      <td>2574432.0</td>\n",
       "      <td>279131.0</td>\n",
       "      <td>NaN</td>\n",
       "      <td>NaN</td>\n",
       "      <td>NaN</td>\n",
       "      <td>NaN</td>\n",
       "      <td>NaN</td>\n",
       "    </tr>\n",
       "    <tr>\n",
       "      <th>2016/04</th>\n",
       "      <td>NaN</td>\n",
       "      <td>525837.0</td>\n",
       "      <td>2141692.0</td>\n",
       "      <td>371005.0</td>\n",
       "      <td>NaN</td>\n",
       "      <td>NaN</td>\n",
       "      <td>2615.0</td>\n",
       "      <td>NaN</td>\n",
       "      <td>NaN</td>\n",
       "    </tr>\n",
       "    <tr>\n",
       "      <th>2016/05</th>\n",
       "      <td>NaN</td>\n",
       "      <td>537853.0</td>\n",
       "      <td>1718345.0</td>\n",
       "      <td>153631.0</td>\n",
       "      <td>NaN</td>\n",
       "      <td>NaN</td>\n",
       "      <td>19819.0</td>\n",
       "      <td>121445.0</td>\n",
       "      <td>341517.0</td>\n",
       "    </tr>\n",
       "    <tr>\n",
       "      <th>2016/06</th>\n",
       "      <td>NaN</td>\n",
       "      <td>601384.0</td>\n",
       "      <td>1900652.0</td>\n",
       "      <td>286835.0</td>\n",
       "      <td>NaN</td>\n",
       "      <td>NaN</td>\n",
       "      <td>21837.0</td>\n",
       "      <td>163329.0</td>\n",
       "      <td>353411.0</td>\n",
       "    </tr>\n",
       "    <tr>\n",
       "      <th>2016/07</th>\n",
       "      <td>NaN</td>\n",
       "      <td>470456.0</td>\n",
       "      <td>1444104.0</td>\n",
       "      <td>225570.0</td>\n",
       "      <td>NaN</td>\n",
       "      <td>19428.0</td>\n",
       "      <td>60549.0</td>\n",
       "      <td>104554.0</td>\n",
       "      <td>162814.0</td>\n",
       "    </tr>\n",
       "    <tr>\n",
       "      <th>2016/08</th>\n",
       "      <td>NaN</td>\n",
       "      <td>685058.0</td>\n",
       "      <td>1577548.0</td>\n",
       "      <td>138528.0</td>\n",
       "      <td>NaN</td>\n",
       "      <td>29773.0</td>\n",
       "      <td>163617.0</td>\n",
       "      <td>215635.0</td>\n",
       "      <td>113612.0</td>\n",
       "    </tr>\n",
       "    <tr>\n",
       "      <th>2016/09</th>\n",
       "      <td>NaN</td>\n",
       "      <td>843696.0</td>\n",
       "      <td>1788445.0</td>\n",
       "      <td>172688.0</td>\n",
       "      <td>NaN</td>\n",
       "      <td>37963.0</td>\n",
       "      <td>71513.0</td>\n",
       "      <td>302641.0</td>\n",
       "      <td>161261.0</td>\n",
       "    </tr>\n",
       "    <tr>\n",
       "      <th>2016/10</th>\n",
       "      <td>NaN</td>\n",
       "      <td>784882.0</td>\n",
       "      <td>2080459.0</td>\n",
       "      <td>380387.0</td>\n",
       "      <td>NaN</td>\n",
       "      <td>3.0</td>\n",
       "      <td>45319.0</td>\n",
       "      <td>831893.0</td>\n",
       "      <td>227547.0</td>\n",
       "    </tr>\n",
       "    <tr>\n",
       "      <th>2016/11</th>\n",
       "      <td>NaN</td>\n",
       "      <td>987119.0</td>\n",
       "      <td>1905395.0</td>\n",
       "      <td>350509.0</td>\n",
       "      <td>NaN</td>\n",
       "      <td>23429.0</td>\n",
       "      <td>98703.0</td>\n",
       "      <td>841687.0</td>\n",
       "      <td>145597.0</td>\n",
       "    </tr>\n",
       "    <tr>\n",
       "      <th>2016/12</th>\n",
       "      <td>NaN</td>\n",
       "      <td>1018084.0</td>\n",
       "      <td>1783496.0</td>\n",
       "      <td>174375.0</td>\n",
       "      <td>NaN</td>\n",
       "      <td>91615.0</td>\n",
       "      <td>74246.0</td>\n",
       "      <td>480049.0</td>\n",
       "      <td>31477.0</td>\n",
       "    </tr>\n",
       "    <tr>\n",
       "      <th>2017/01</th>\n",
       "      <td>NaN</td>\n",
       "      <td>442769.0</td>\n",
       "      <td>1138666.0</td>\n",
       "      <td>201930.0</td>\n",
       "      <td>5743.0</td>\n",
       "      <td>17489.0</td>\n",
       "      <td>95751.0</td>\n",
       "      <td>264591.0</td>\n",
       "      <td>212558.0</td>\n",
       "    </tr>\n",
       "    <tr>\n",
       "      <th>2017/02</th>\n",
       "      <td>NaN</td>\n",
       "      <td>419031.0</td>\n",
       "      <td>947721.0</td>\n",
       "      <td>175352.0</td>\n",
       "      <td>6835.0</td>\n",
       "      <td>16691.0</td>\n",
       "      <td>131737.0</td>\n",
       "      <td>518240.0</td>\n",
       "      <td>228212.0</td>\n",
       "    </tr>\n",
       "    <tr>\n",
       "      <th>2017/03</th>\n",
       "      <td>NaN</td>\n",
       "      <td>596981.0</td>\n",
       "      <td>1165207.0</td>\n",
       "      <td>139000.0</td>\n",
       "      <td>5570.0</td>\n",
       "      <td>33715.0</td>\n",
       "      <td>266813.0</td>\n",
       "      <td>433708.0</td>\n",
       "      <td>237404.0</td>\n",
       "    </tr>\n",
       "    <tr>\n",
       "      <th>2017/04</th>\n",
       "      <td>25278.0</td>\n",
       "      <td>593276.0</td>\n",
       "      <td>1188412.0</td>\n",
       "      <td>132948.0</td>\n",
       "      <td>22024.0</td>\n",
       "      <td>23500.0</td>\n",
       "      <td>234321.0</td>\n",
       "      <td>518357.0</td>\n",
       "      <td>147026.0</td>\n",
       "    </tr>\n",
       "  </tbody>\n",
       "</table>\n",
       "</div>"
      ],
      "text/plain": [
       "DSP          AAP        DBM                      RocketFuel      TTD  \\\n",
       "Type     General    General             TrueView    General  General   \n",
       "Public       N/A         No        Yes       N/A        Yes       No   \n",
       "Month                                                                  \n",
       "2016/01      NaN   462491.0  2015535.0  126240.0        NaN      NaN   \n",
       "2016/02      NaN   599799.0  2321375.0  180716.0        NaN      NaN   \n",
       "2016/03      NaN  1042068.0  2574432.0  279131.0        NaN      NaN   \n",
       "2016/04      NaN   525837.0  2141692.0  371005.0        NaN      NaN   \n",
       "2016/05      NaN   537853.0  1718345.0  153631.0        NaN      NaN   \n",
       "2016/06      NaN   601384.0  1900652.0  286835.0        NaN      NaN   \n",
       "2016/07      NaN   470456.0  1444104.0  225570.0        NaN  19428.0   \n",
       "2016/08      NaN   685058.0  1577548.0  138528.0        NaN  29773.0   \n",
       "2016/09      NaN   843696.0  1788445.0  172688.0        NaN  37963.0   \n",
       "2016/10      NaN   784882.0  2080459.0  380387.0        NaN      3.0   \n",
       "2016/11      NaN   987119.0  1905395.0  350509.0        NaN  23429.0   \n",
       "2016/12      NaN  1018084.0  1783496.0  174375.0        NaN  91615.0   \n",
       "2017/01      NaN   442769.0  1138666.0  201930.0     5743.0  17489.0   \n",
       "2017/02      NaN   419031.0   947721.0  175352.0     6835.0  16691.0   \n",
       "2017/03      NaN   596981.0  1165207.0  139000.0     5570.0  33715.0   \n",
       "2017/04  25278.0   593276.0  1188412.0  132948.0    22024.0  23500.0   \n",
       "\n",
       "DSP               Videology            \n",
       "Type              Channel 4   General  \n",
       "Public        Yes       N/A       N/A  \n",
       "Month                                  \n",
       "2016/01       0.0       NaN       NaN  \n",
       "2016/02       0.0       NaN       NaN  \n",
       "2016/03       NaN       NaN       NaN  \n",
       "2016/04    2615.0       NaN       NaN  \n",
       "2016/05   19819.0  121445.0  341517.0  \n",
       "2016/06   21837.0  163329.0  353411.0  \n",
       "2016/07   60549.0  104554.0  162814.0  \n",
       "2016/08  163617.0  215635.0  113612.0  \n",
       "2016/09   71513.0  302641.0  161261.0  \n",
       "2016/10   45319.0  831893.0  227547.0  \n",
       "2016/11   98703.0  841687.0  145597.0  \n",
       "2016/12   74246.0  480049.0   31477.0  \n",
       "2017/01   95751.0  264591.0  212558.0  \n",
       "2017/02  131737.0  518240.0  228212.0  \n",
       "2017/03  266813.0  433708.0  237404.0  \n",
       "2017/04  234321.0  518357.0  147026.0  "
      ]
     },
     "execution_count": 345,
     "metadata": {},
     "output_type": "execute_result"
    }
   ],
   "source": [
    "data.pivot_table(values=\"cSpend\", index=\"Month\", columns=[\"DSP\", \"Type\", \"Public\"], aggfunc=np.sum).round()"
   ]
  },
  {
   "cell_type": "code",
   "execution_count": null,
   "metadata": {
    "collapsed": true
   },
   "outputs": [],
   "source": []
  }
 ],
 "metadata": {
  "anaconda-cloud": {},
  "kernelspec": {
   "display_name": "Python [conda root]",
   "language": "python",
   "name": "conda-root-py"
  },
  "language_info": {
   "codemirror_mode": {
    "name": "ipython",
    "version": 3
   },
   "file_extension": ".py",
   "mimetype": "text/x-python",
   "name": "python",
   "nbconvert_exporter": "python",
   "pygments_lexer": "ipython3",
   "version": "3.5.2"
  }
 },
 "nbformat": 4,
 "nbformat_minor": 1
}
