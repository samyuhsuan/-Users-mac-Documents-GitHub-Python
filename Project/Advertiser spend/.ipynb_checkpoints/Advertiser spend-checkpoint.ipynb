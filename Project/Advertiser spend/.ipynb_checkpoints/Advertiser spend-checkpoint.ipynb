{
 "cells": [
  {
   "cell_type": "code",
   "execution_count": 25,
   "metadata": {
    "collapsed": true
   },
   "outputs": [],
   "source": [
    "import pandas as pd\n",
    "import numpy as np\n",
    "import matplotlib.pyplot as plt\n",
    "import seaborn as sns\n",
    "import glob\n",
    "%matplotlib inline"
   ]
  },
  {
   "cell_type": "code",
   "execution_count": 48,
   "metadata": {
    "collapsed": false
   },
   "outputs": [],
   "source": [
    "DBM = pd.DataFrame()\n",
    "for file in glob.glob(\"DBM*.csv\"):\n",
    "    df = pd.read_csv(file)\n",
    "    df = df[df[\"Advertiser Currency\"].isnull() == False]\n",
    "    DBM = DBM.append(df, ignore_index=True)"
   ]
  },
  {
   "cell_type": "code",
   "execution_count": 60,
   "metadata": {
    "collapsed": false
   },
   "outputs": [],
   "source": [
    "DBM = DBM.loc[:, [\"Month\", \"Advertiser\", \"Public Inventory\", \"Impressions\", \n",
    "                  \"Clicks\", \"Revenue (Adv Currency)\", \"Media Cost (Advertiser Currency)\", \"Advertiser Currency\"]]"
   ]
  },
  {
   "cell_type": "code",
   "execution_count": 61,
   "metadata": {
    "collapsed": false
   },
   "outputs": [],
   "source": [
    "DBM.columns = [\"Month\", \"Advertiser\", \"Public\", \"Impressions\", \"Clicks\", \"Spend\", \"Media\", \"Currency\"]"
   ]
  },
  {
   "cell_type": "code",
   "execution_count": 62,
   "metadata": {
    "collapsed": false
   },
   "outputs": [],
   "source": [
    "DBM[\"DSP\"] = \"DBM\""
   ]
  },
  {
   "cell_type": "code",
   "execution_count": 63,
   "metadata": {
    "collapsed": false
   },
   "outputs": [
    {
     "data": {
      "text/html": [
       "<div>\n",
       "<table border=\"1\" class=\"dataframe\">\n",
       "  <thead>\n",
       "    <tr style=\"text-align: right;\">\n",
       "      <th>DSP</th>\n",
       "      <th>DBM</th>\n",
       "    </tr>\n",
       "    <tr>\n",
       "      <th>Month</th>\n",
       "      <th></th>\n",
       "    </tr>\n",
       "  </thead>\n",
       "  <tbody>\n",
       "    <tr>\n",
       "      <th>2017/02</th>\n",
       "      <td>1373784.0</td>\n",
       "    </tr>\n",
       "    <tr>\n",
       "      <th>2017/03</th>\n",
       "      <td>1767080.0</td>\n",
       "    </tr>\n",
       "  </tbody>\n",
       "</table>\n",
       "</div>"
      ],
      "text/plain": [
       "DSP            DBM\n",
       "Month             \n",
       "2017/02  1373784.0\n",
       "2017/03  1767080.0"
      ]
     },
     "execution_count": 63,
     "metadata": {},
     "output_type": "execute_result"
    }
   ],
   "source": [
    "DBM.pivot_table(values=\"Spend\", index=\"Month\", columns=\"DSP\", aggfunc=np.sum).round()"
   ]
  },
  {
   "cell_type": "markdown",
   "metadata": {},
   "source": [
    "---"
   ]
  },
  {
   "cell_type": "code",
   "execution_count": 136,
   "metadata": {
    "collapsed": true
   },
   "outputs": [],
   "source": [
    "TTD = pd.DataFrame()\n",
    "for file in glob.glob(\"TTD*.tsv\"):\n",
    "    df = pd.read_csv(file)\n",
    "    TTD = TTD.append(df, ignore_index=True)\n",
    "TTD.columns = [\"all\"]\n",
    "TTD = pd.DataFrame(TTD[\"all\"].str.split(\"\\t\").tolist(), \n",
    "             columns=[\"Date\", \"Advertiser\",\"Currency\", \"PMP\", \"Impressions\", \"Clicks\", \"Spend\", \"Media\"])"
   ]
  },
  {
   "cell_type": "code",
   "execution_count": 137,
   "metadata": {
    "collapsed": false
   },
   "outputs": [],
   "source": [
    "TTD[\"Month\"] = TTD.Date.str.split(\"/\").str[2] + \"/\" + TTD.Date.str.split(\"/\").str[1]\n",
    "TTD[\"Public\"] = \"Yes\"\n",
    "TTD.loc[TTD.PMP.str.contains(\"PMP\"), \"Public\"] = \"No\"\n",
    "TTD[\"DSP\"] = \"TTD\""
   ]
  },
  {
   "cell_type": "code",
   "execution_count": 140,
   "metadata": {
    "collapsed": false
   },
   "outputs": [],
   "source": [
    "TTD = TTD.loc[:, [\"Month\", \"Advertiser\", \"Public\", \"Impressions\", \"Clicks\", \"Spend\", \"Media\", \"Currency\", \"DSP\"]]"
   ]
  },
  {
   "cell_type": "code",
   "execution_count": 144,
   "metadata": {
    "collapsed": false
   },
   "outputs": [],
   "source": [
    "TTD.Impressions = TTD.Impressions.astype(\"float64\")\n",
    "TTD.Clicks = TTD.Clicks.astype(\"float64\")\n",
    "TTD.Spend = TTD.Spend.astype(\"float64\")\n",
    "TTD.Media = TTD.Media.astype(\"float64\")"
   ]
  },
  {
   "cell_type": "markdown",
   "metadata": {},
   "source": [
    "---"
   ]
  },
  {
   "cell_type": "code",
   "execution_count": null,
   "metadata": {
    "collapsed": true
   },
   "outputs": [],
   "source": []
  }
 ],
 "metadata": {
  "anaconda-cloud": {},
  "kernelspec": {
   "display_name": "Python [conda root]",
   "language": "python",
   "name": "conda-root-py"
  },
  "language_info": {
   "codemirror_mode": {
    "name": "ipython",
    "version": 3
   },
   "file_extension": ".py",
   "mimetype": "text/x-python",
   "name": "python",
   "nbconvert_exporter": "python",
   "pygments_lexer": "ipython3",
   "version": "3.5.2"
  }
 },
 "nbformat": 4,
 "nbformat_minor": 1
}
