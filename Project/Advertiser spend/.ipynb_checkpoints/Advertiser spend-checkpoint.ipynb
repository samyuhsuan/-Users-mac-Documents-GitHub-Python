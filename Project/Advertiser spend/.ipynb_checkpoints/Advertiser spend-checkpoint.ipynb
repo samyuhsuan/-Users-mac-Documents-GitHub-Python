{
 "cells": [
  {
   "cell_type": "code",
   "execution_count": 254,
   "metadata": {
    "collapsed": true
   },
   "outputs": [],
   "source": [
    "import pandas as pd\n",
    "import numpy as np\n",
    "import matplotlib.pyplot as plt\n",
    "import seaborn as sns\n",
    "import glob\n",
    "import time\n",
    "%matplotlib inline"
   ]
  },
  {
   "cell_type": "markdown",
   "metadata": {},
   "source": [
    "---"
   ]
  },
  {
   "cell_type": "code",
   "execution_count": 255,
   "metadata": {
    "collapsed": true
   },
   "outputs": [],
   "source": [
    "#DBM data below"
   ]
  },
  {
   "cell_type": "code",
   "execution_count": 256,
   "metadata": {
    "collapsed": false
   },
   "outputs": [],
   "source": [
    "DBM = pd.DataFrame()\n",
    "for file in glob.glob(\"DBM*.csv\"):\n",
    "    df = pd.read_csv(file)\n",
    "    df = df[df[\"Advertiser Currency\"].isnull() == False]\n",
    "    DBM = DBM.append(df, ignore_index=True)"
   ]
  },
  {
   "cell_type": "code",
   "execution_count": 257,
   "metadata": {
    "collapsed": false
   },
   "outputs": [],
   "source": [
    "DBM = DBM.loc[:, [\"Month\", \"Advertiser\", \"Public Inventory\", \"Impressions\", \n",
    "                  \"Clicks\", \"Revenue (Adv Currency)\", \"Media Cost (Advertiser Currency)\", \"Advertiser Currency\"]]"
   ]
  },
  {
   "cell_type": "code",
   "execution_count": 258,
   "metadata": {
    "collapsed": false
   },
   "outputs": [],
   "source": [
    "DBM.columns = [\"Month\", \"Advertiser\", \"Public\", \"Impressions\", \"Clicks\", \"Spend\", \"Media\", \"Currency\"]"
   ]
  },
  {
   "cell_type": "code",
   "execution_count": 259,
   "metadata": {
    "collapsed": false
   },
   "outputs": [],
   "source": [
    "DBM[\"DSP\"] = \"DBM\"\n",
    "DBM[\"Type\"] = \"General\""
   ]
  },
  {
   "cell_type": "markdown",
   "metadata": {},
   "source": [
    "---"
   ]
  },
  {
   "cell_type": "code",
   "execution_count": 260,
   "metadata": {
    "collapsed": true
   },
   "outputs": [],
   "source": [
    "#YouTube/TrueView data below"
   ]
  },
  {
   "cell_type": "code",
   "execution_count": 261,
   "metadata": {
    "collapsed": true
   },
   "outputs": [],
   "source": [
    "YT = pd.DataFrame()\n",
    "for file in glob.glob(\"YT*.csv\"):\n",
    "    df = pd.read_csv(file)\n",
    "    df = df[df[\"Advertiser Currency\"].isnull() == False]\n",
    "    YT = YT.append(df, ignore_index=True)"
   ]
  },
  {
   "cell_type": "code",
   "execution_count": 262,
   "metadata": {
    "collapsed": false
   },
   "outputs": [],
   "source": [
    "YT[\"Public\"] = \"N/A\"\n",
    "YT[\"DSP\"] = \"DBM\"\n",
    "YT[\"Type\"] = \"TrueView\""
   ]
  },
  {
   "cell_type": "code",
   "execution_count": 263,
   "metadata": {
    "collapsed": false
   },
   "outputs": [],
   "source": [
    "YT = YT.loc[:, [\"Month\", \"Advertiser\", \"Public\",\"Impressions\", \n",
    "                \"Clicks\", \"Revenue (Adv Currency)\", \"Media Cost (Advertiser Currency)\", \"Advertiser Currency\", \"DSP\", \"Type\"]]"
   ]
  },
  {
   "cell_type": "code",
   "execution_count": 264,
   "metadata": {
    "collapsed": false
   },
   "outputs": [],
   "source": [
    "YT.columns = ['Month', 'Advertiser', 'Public', 'Impressions', 'Clicks',\n",
    "       'Spend', 'Media', 'Currency', 'DSP', 'Type']"
   ]
  },
  {
   "cell_type": "markdown",
   "metadata": {},
   "source": [
    "---"
   ]
  },
  {
   "cell_type": "code",
   "execution_count": 265,
   "metadata": {
    "collapsed": true
   },
   "outputs": [],
   "source": [
    "#Videology data below\n",
    "#please note the data in the template the time frame please select the specific time rather than 'last month'"
   ]
  },
  {
   "cell_type": "code",
   "execution_count": 266,
   "metadata": {
    "collapsed": false
   },
   "outputs": [],
   "source": [
    "videology = pd.DataFrame()\n",
    "for file in glob.glob(\"Videology*.csv\"):\n",
    "    df = pd.read_csv(file)\n",
    "    df = df[df[\"Placement ID\"].isnull() == False]\n",
    "    videology = videology.append(df, ignore_index=True)"
   ]
  },
  {
   "cell_type": "code",
   "execution_count": 267,
   "metadata": {
    "collapsed": false
   },
   "outputs": [],
   "source": [
    "videology.columns = [\"Advertiser\", \"Placement\", \"PlacementName\", \"Date\", \"Impressions\", \"Spend\", \"Clicks\"]"
   ]
  },
  {
   "cell_type": "code",
   "execution_count": 268,
   "metadata": {
    "collapsed": false
   },
   "outputs": [],
   "source": [
    "list1=[]\n",
    "for month in videology.Date:\n",
    "    g = month[-4:] + \"/\" + \"{0:0=2d}\".format(time.strptime(month[:3], \"%b\").tm_mon)\n",
    "    list1.append(g)"
   ]
  },
  {
   "cell_type": "code",
   "execution_count": 269,
   "metadata": {
    "collapsed": false
   },
   "outputs": [],
   "source": [
    "#repmoving the thousand separator \n",
    "videology.Impressions = videology.Impressions.apply(lambda x: float(x.split()[0].replace(',', '')))\n",
    "videology.Clicks = videology.Clicks.apply(lambda x: float(x.split()[0].replace(',', '')))\n",
    "videology.Spend = videology.Spend.apply(lambda x: float(x.split()[0].replace(',', '')))"
   ]
  },
  {
   "cell_type": "code",
   "execution_count": 270,
   "metadata": {
    "collapsed": false
   },
   "outputs": [],
   "source": [
    "videology[\"Currency\"] = \"GBP\"\n",
    "videology[\"DSP\"] = \"Videology\"\n",
    "videology[\"Type\"] = \"General\"\n",
    "videology.loc[(videology.PlacementName.str.contains(\"Channel 4\")) | \n",
    "              (videology.PlacementName.str.contains(\"C4\")), \"Type\"] = \"Channel 4\"\n",
    "videology[\"Media\"] = videology.Spend * 0.7\n",
    "videology.loc[videology.Type == \"Channel 4\", \"Media\"] = videology.Spend * 0.8\n",
    "videology[\"Public\"] = \"N/A\"\n",
    "videology[\"Month\"] = list1"
   ]
  },
  {
   "cell_type": "code",
   "execution_count": 271,
   "metadata": {
    "collapsed": true
   },
   "outputs": [],
   "source": [
    "videology = videology.loc[:, ['Month', 'Advertiser', 'Public', 'Impressions', 'Clicks', 'Spend',\n",
    "       'Media', 'Currency', 'DSP', 'Type']]"
   ]
  },
  {
   "cell_type": "markdown",
   "metadata": {},
   "source": [
    "---"
   ]
  },
  {
   "cell_type": "code",
   "execution_count": 272,
   "metadata": {
    "collapsed": true
   },
   "outputs": [],
   "source": [
    "#TheTradeDesk data below"
   ]
  },
  {
   "cell_type": "code",
   "execution_count": 273,
   "metadata": {
    "collapsed": false
   },
   "outputs": [],
   "source": [
    "TTD = pd.DataFrame()\n",
    "for file in glob.glob(\"TTD*.tsv\"):\n",
    "    df = pd.read_csv(file)\n",
    "    TTD = TTD.append(df, ignore_index=True)\n",
    "TTD.columns = [\"all\"]\n",
    "TTD = pd.DataFrame(TTD[\"all\"].str.split(\"\\t\").tolist(), \n",
    "             columns=[\"Date\", \"Advertiser\",\"Currency\", \"PMP\", \"Impressions\", \"Clicks\", \"Spend\", \"Media\"])"
   ]
  },
  {
   "cell_type": "code",
   "execution_count": 274,
   "metadata": {
    "collapsed": false
   },
   "outputs": [],
   "source": [
    "TTD[\"Month\"] = TTD.Date.str.split(\"/\").str[2] + \"/\" + TTD.Date.str.split(\"/\").str[1]\n",
    "TTD[\"Public\"] = \"Yes\"\n",
    "TTD.loc[TTD.PMP.str.contains(\"PMP\"), \"Public\"] = \"No\"\n",
    "TTD[\"DSP\"] = \"TTD\"\n",
    "TTD[\"Type\"] = \"General\""
   ]
  },
  {
   "cell_type": "code",
   "execution_count": 275,
   "metadata": {
    "collapsed": false
   },
   "outputs": [],
   "source": [
    "TTD = TTD.loc[:, [\"Month\", \"Advertiser\", \"Public\", \"Impressions\", \"Clicks\", \"Spend\", \"Media\", \"Currency\", \"DSP\", \"Type\"]]"
   ]
  },
  {
   "cell_type": "code",
   "execution_count": 276,
   "metadata": {
    "collapsed": false
   },
   "outputs": [],
   "source": [
    "TTD.Impressions = TTD.Impressions.astype(\"float64\")\n",
    "TTD.Clicks = TTD.Clicks.astype(\"float64\")\n",
    "TTD.Spend = TTD.Spend.astype(\"float64\")\n",
    "TTD.Media = TTD.Media.astype(\"float64\")"
   ]
  },
  {
   "cell_type": "code",
   "execution_count": 277,
   "metadata": {
    "collapsed": true
   },
   "outputs": [],
   "source": [
    "#below is fixed for 2016 TTD data "
   ]
  },
  {
   "cell_type": "code",
   "execution_count": 278,
   "metadata": {
    "collapsed": false
   },
   "outputs": [],
   "source": [
    "TTD_old = pd.read_csv(\"TTD_0116_1216.csv\")"
   ]
  },
  {
   "cell_type": "code",
   "execution_count": 279,
   "metadata": {
    "collapsed": false
   },
   "outputs": [],
   "source": [
    "TTD_old[\"Month\"] = TTD_old.Date.str.split(\"/\").str[2] + \"/\" + TTD_old.Date.str.split(\"/\").str[1]\n",
    "TTD_old[\"Public\"] = \"Yes\"\n",
    "TTD_old.loc[TTD_old[\"Inventory Contract\"] == \"PMP\", \"Public\"] = \"No\"\n",
    "TTD_old[\"DSP\"] = \"TTD\"\n",
    "TTD_old[\"Type\"] = \"General\""
   ]
  },
  {
   "cell_type": "code",
   "execution_count": 280,
   "metadata": {
    "collapsed": true
   },
   "outputs": [],
   "source": [
    "TTD_old = TTD_old.loc[:, [\"Month\", \"Advertiser\", \"Public\", \"Impressions\", \n",
    "                          \"Clicks\", \"Advertiser Cost (Adv Currency)\", \"Media Cost (Adv Currency)\", \n",
    "                          \"Advertiser Currency Code\", \"DSP\", \"Type\"]]"
   ]
  },
  {
   "cell_type": "code",
   "execution_count": 281,
   "metadata": {
    "collapsed": false
   },
   "outputs": [],
   "source": [
    "TTD_old.columns = ['Month', 'Advertiser', 'Public', 'Impressions', 'Clicks',\n",
    "       'Spend', 'Media','Currency', 'DSP', 'Type']"
   ]
  },
  {
   "cell_type": "code",
   "execution_count": 282,
   "metadata": {
    "collapsed": false
   },
   "outputs": [],
   "source": [
    "TTD = TTD.append(TTD_old, ignore_index=True)"
   ]
  },
  {
   "cell_type": "markdown",
   "metadata": {},
   "source": [
    "---"
   ]
  },
  {
   "cell_type": "code",
   "execution_count": 283,
   "metadata": {
    "collapsed": true
   },
   "outputs": [],
   "source": [
    "#RocketFuel data below"
   ]
  },
  {
   "cell_type": "code",
   "execution_count": 284,
   "metadata": {
    "collapsed": false
   },
   "outputs": [],
   "source": [
    "RF = pd.DataFrame()\n",
    "for file in glob.glob(\"RF*.csv\"):\n",
    "    df = pd.read_csv(file, header=1)\n",
    "    RF = RF.append(df, ignore_index=True)\n",
    "RF.Spend = RF.Spend.str.replace(\"GBP \", \"\")\n",
    "RF[\"Media Cost\"] = RF[\"Media Cost\"].str.replace(\"GBP \", \"\")"
   ]
  },
  {
   "cell_type": "code",
   "execution_count": 285,
   "metadata": {
    "collapsed": false
   },
   "outputs": [],
   "source": [
    "RF[\"Public\"] = \"Yes\"\n",
    "RF.loc[RF[\"Exchange Deal ID\"].isnull() == False, \"Public\"] = \"No\"\n",
    "RF[\"Month\"] = RF[\"Year and Month\"].str.split(\"-\").str[0] + \"/\" + RF[\"Year and Month\"].str.split(\"-\").str[1]\n",
    "RF[\"DSP\"] = \"RocketFuel\"\n",
    "RF[\"Type\"] = \"General\"\n",
    "RF[\"Currency\"] = \"GBP\""
   ]
  },
  {
   "cell_type": "code",
   "execution_count": 286,
   "metadata": {
    "collapsed": false
   },
   "outputs": [],
   "source": [
    "RF = RF.loc[:, [\"Month\", \"Advertiser\", \"Public\", \"Imps\", \"Clicks\", \"Spend\", \"Media Cost\", \"Currency\", \"DSP\", \"Type\"]]"
   ]
  },
  {
   "cell_type": "code",
   "execution_count": 287,
   "metadata": {
    "collapsed": false
   },
   "outputs": [],
   "source": [
    "RF.columns = ['Month', 'Advertiser', 'Public', 'Impressions', 'Clicks', 'Spend', 'Media', 'Currency', 'DSP', 'Type']"
   ]
  },
  {
   "cell_type": "code",
   "execution_count": 288,
   "metadata": {
    "collapsed": false
   },
   "outputs": [],
   "source": [
    "RF.Spend = RF.Spend.astype(\"float64\")\n",
    "RF.Media = RF.Media.astype(\"float64\")"
   ]
  },
  {
   "cell_type": "code",
   "execution_count": 289,
   "metadata": {
    "collapsed": false
   },
   "outputs": [
    {
     "data": {
      "text/html": [
       "<div>\n",
       "<table border=\"1\" class=\"dataframe\">\n",
       "  <thead>\n",
       "    <tr style=\"text-align: right;\">\n",
       "      <th></th>\n",
       "      <th>Month</th>\n",
       "      <th>Advertiser</th>\n",
       "      <th>Public</th>\n",
       "      <th>Impressions</th>\n",
       "      <th>Clicks</th>\n",
       "      <th>Spend</th>\n",
       "      <th>Media</th>\n",
       "      <th>Currency</th>\n",
       "      <th>DSP</th>\n",
       "      <th>Type</th>\n",
       "    </tr>\n",
       "  </thead>\n",
       "  <tbody>\n",
       "    <tr>\n",
       "      <th>0</th>\n",
       "      <td>2017/03</td>\n",
       "      <td>Oracle_UK_Zenith International</td>\n",
       "      <td>Yes</td>\n",
       "      <td>501277</td>\n",
       "      <td>113</td>\n",
       "      <td>1580.351490</td>\n",
       "      <td>354.304629</td>\n",
       "      <td>GBP</td>\n",
       "      <td>RocketFuel</td>\n",
       "      <td>General</td>\n",
       "    </tr>\n",
       "    <tr>\n",
       "      <th>1</th>\n",
       "      <td>2017/01</td>\n",
       "      <td>SIA_UK_Zenith</td>\n",
       "      <td>Yes</td>\n",
       "      <td>10036103</td>\n",
       "      <td>1619</td>\n",
       "      <td>5743.274096</td>\n",
       "      <td>5228.897753</td>\n",
       "      <td>GBP</td>\n",
       "      <td>RocketFuel</td>\n",
       "      <td>General</td>\n",
       "    </tr>\n",
       "    <tr>\n",
       "      <th>2</th>\n",
       "      <td>2017/02</td>\n",
       "      <td>SIA_UK_Zenith</td>\n",
       "      <td>Yes</td>\n",
       "      <td>12439864</td>\n",
       "      <td>1619</td>\n",
       "      <td>6834.760327</td>\n",
       "      <td>6221.848560</td>\n",
       "      <td>GBP</td>\n",
       "      <td>RocketFuel</td>\n",
       "      <td>General</td>\n",
       "    </tr>\n",
       "    <tr>\n",
       "      <th>3</th>\n",
       "      <td>2017/03</td>\n",
       "      <td>SIA_UK_Zenith</td>\n",
       "      <td>Yes</td>\n",
       "      <td>7411795</td>\n",
       "      <td>1055</td>\n",
       "      <td>3989.397817</td>\n",
       "      <td>3632.332180</td>\n",
       "      <td>GBP</td>\n",
       "      <td>RocketFuel</td>\n",
       "      <td>General</td>\n",
       "    </tr>\n",
       "    <tr>\n",
       "      <th>4</th>\n",
       "      <td>2017/04</td>\n",
       "      <td>Oracle_UK_Zenith International</td>\n",
       "      <td>Yes</td>\n",
       "      <td>6520125</td>\n",
       "      <td>3692</td>\n",
       "      <td>21566.779405</td>\n",
       "      <td>5738.533406</td>\n",
       "      <td>GBP</td>\n",
       "      <td>RocketFuel</td>\n",
       "      <td>General</td>\n",
       "    </tr>\n",
       "    <tr>\n",
       "      <th>5</th>\n",
       "      <td>2017/04</td>\n",
       "      <td>SIA_UK_Zenith</td>\n",
       "      <td>Yes</td>\n",
       "      <td>820462</td>\n",
       "      <td>147</td>\n",
       "      <td>457.593990</td>\n",
       "      <td>416.580948</td>\n",
       "      <td>GBP</td>\n",
       "      <td>RocketFuel</td>\n",
       "      <td>General</td>\n",
       "    </tr>\n",
       "    <tr>\n",
       "      <th>6</th>\n",
       "      <td>2017/05</td>\n",
       "      <td>Oracle_UK_Zenith International</td>\n",
       "      <td>Yes</td>\n",
       "      <td>9632442</td>\n",
       "      <td>6011</td>\n",
       "      <td>30975.331033</td>\n",
       "      <td>9884.922543</td>\n",
       "      <td>GBP</td>\n",
       "      <td>RocketFuel</td>\n",
       "      <td>General</td>\n",
       "    </tr>\n",
       "    <tr>\n",
       "      <th>7</th>\n",
       "      <td>2017/05</td>\n",
       "      <td>SIA_UK_Zenith</td>\n",
       "      <td>Yes</td>\n",
       "      <td>1419037</td>\n",
       "      <td>228</td>\n",
       "      <td>712.110331</td>\n",
       "      <td>648.336431</td>\n",
       "      <td>GBP</td>\n",
       "      <td>RocketFuel</td>\n",
       "      <td>General</td>\n",
       "    </tr>\n",
       "  </tbody>\n",
       "</table>\n",
       "</div>"
      ],
      "text/plain": [
       "     Month                      Advertiser Public  Impressions  Clicks  \\\n",
       "0  2017/03  Oracle_UK_Zenith International    Yes       501277     113   \n",
       "1  2017/01                  SIA_UK_Zenith     Yes     10036103    1619   \n",
       "2  2017/02                  SIA_UK_Zenith     Yes     12439864    1619   \n",
       "3  2017/03                  SIA_UK_Zenith     Yes      7411795    1055   \n",
       "4  2017/04  Oracle_UK_Zenith International    Yes      6520125    3692   \n",
       "5  2017/04                  SIA_UK_Zenith     Yes       820462     147   \n",
       "6  2017/05  Oracle_UK_Zenith International    Yes      9632442    6011   \n",
       "7  2017/05                  SIA_UK_Zenith     Yes      1419037     228   \n",
       "\n",
       "          Spend        Media Currency         DSP     Type  \n",
       "0   1580.351490   354.304629      GBP  RocketFuel  General  \n",
       "1   5743.274096  5228.897753      GBP  RocketFuel  General  \n",
       "2   6834.760327  6221.848560      GBP  RocketFuel  General  \n",
       "3   3989.397817  3632.332180      GBP  RocketFuel  General  \n",
       "4  21566.779405  5738.533406      GBP  RocketFuel  General  \n",
       "5    457.593990   416.580948      GBP  RocketFuel  General  \n",
       "6  30975.331033  9884.922543      GBP  RocketFuel  General  \n",
       "7    712.110331   648.336431      GBP  RocketFuel  General  "
      ]
     },
     "execution_count": 289,
     "metadata": {},
     "output_type": "execute_result"
    }
   ],
   "source": [
    "RF"
   ]
  },
  {
   "cell_type": "markdown",
   "metadata": {},
   "source": [
    "---"
   ]
  },
  {
   "cell_type": "code",
   "execution_count": 290,
   "metadata": {
    "collapsed": true
   },
   "outputs": [],
   "source": [
    "AAP_old = pd.read_csv(\"Amazon_0116_0317.csv\")"
   ]
  },
  {
   "cell_type": "code",
   "execution_count": 291,
   "metadata": {
    "collapsed": false
   },
   "outputs": [],
   "source": [
    "AAP_old = AAP_old.head(147)"
   ]
  },
  {
   "cell_type": "code",
   "execution_count": 292,
   "metadata": {
    "collapsed": false
   },
   "outputs": [],
   "source": [
    "AAP_old.date = AAP_old.date.str.split(\" \").str[0]\n",
    "AAP_old.date = AAP_old.date.str.split(\"/\").str[2] + \"/\" + AAP_old.date.str.split(\"/\").str[1]"
   ]
  },
  {
   "cell_type": "code",
   "execution_count": 293,
   "metadata": {
    "collapsed": false
   },
   "outputs": [],
   "source": [
    "AAP_old.columns = ['Month', 'Advertiser', 'advertiser_id', 'Impressions', 'Clicks',\n",
    "       'Media', 'net cost', 'agency markup', 'Spend']"
   ]
  },
  {
   "cell_type": "code",
   "execution_count": 294,
   "metadata": {
    "collapsed": false
   },
   "outputs": [],
   "source": [
    "AAP = pd.DataFrame()\n",
    "for file in glob.glob(\"AAP*.csv\"):\n",
    "    df = pd.read_csv(file, usecols=[\"Date\", \"Advertiser\", \"Impressions\", \"Clickthroughs\", \n",
    "                                    \"Total Cost\", \"Supply Cost\", \"Order Currency\"])\n",
    "    AAP = AAP.append(df, ignore_index=True) "
   ]
  },
  {
   "cell_type": "code",
   "execution_count": 295,
   "metadata": {
    "collapsed": false
   },
   "outputs": [],
   "source": [
    "AAP = AAP.drop(AAP.index[AAP[\"Total Cost\"] == 0]).reset_index(drop=True)"
   ]
  },
  {
   "cell_type": "code",
   "execution_count": 296,
   "metadata": {
    "collapsed": false
   },
   "outputs": [],
   "source": [
    "list2=[]\n",
    "for month in AAP.Date:\n",
    "    g = month[-4:] + \"/\" + \"{0:0=2d}\".format(time.strptime(month[:3], \"%b\").tm_mon)\n",
    "    list2.append(g)"
   ]
  },
  {
   "cell_type": "code",
   "execution_count": 297,
   "metadata": {
    "collapsed": true
   },
   "outputs": [],
   "source": [
    "AAP.Date = list2\n",
    "AAP[\"Public\"] = \"N/A\"\n",
    "AAP[\"DSP\"] = \"AAP\"\n",
    "AAP[\"Type\"] = \"General\""
   ]
  },
  {
   "cell_type": "code",
   "execution_count": 298,
   "metadata": {
    "collapsed": false
   },
   "outputs": [],
   "source": [
    "AAP.columns = ['Month', 'Advertiser', 'Currency', 'Media', 'Spend','Impressions', 'Clicks', 'Public', 'DSP', 'Type']"
   ]
  },
  {
   "cell_type": "code",
   "execution_count": 299,
   "metadata": {
    "collapsed": false
   },
   "outputs": [],
   "source": [
    "AAP = AAP.loc[:, ['Month', 'Advertiser', 'Public', 'Impressions', 'Clicks', 'Spend', 'Media', 'Currency', 'DSP', 'Type']]"
   ]
  },
  {
   "cell_type": "code",
   "execution_count": null,
   "metadata": {
    "collapsed": true
   },
   "outputs": [],
   "source": []
  },
  {
   "cell_type": "code",
   "execution_count": null,
   "metadata": {
    "collapsed": true
   },
   "outputs": [],
   "source": []
  },
  {
   "cell_type": "code",
   "execution_count": null,
   "metadata": {
    "collapsed": true
   },
   "outputs": [],
   "source": []
  },
  {
   "cell_type": "markdown",
   "metadata": {},
   "source": [
    "---"
   ]
  },
  {
   "cell_type": "code",
   "execution_count": 300,
   "metadata": {
    "collapsed": true
   },
   "outputs": [],
   "source": [
    "#Data from all DSPs"
   ]
  },
  {
   "cell_type": "code",
   "execution_count": 301,
   "metadata": {
    "collapsed": false
   },
   "outputs": [],
   "source": [
    "data = DBM.append([TTD, YT, videology, RF, AAP], ignore_index=True)"
   ]
  },
  {
   "cell_type": "code",
   "execution_count": 302,
   "metadata": {
    "collapsed": false
   },
   "outputs": [],
   "source": [
    "np.unique(data.Currency)\n",
    "USDtoGBP = 0.77\n",
    "EURtoGBP = 0.84"
   ]
  },
  {
   "cell_type": "code",
   "execution_count": 303,
   "metadata": {
    "collapsed": false
   },
   "outputs": [],
   "source": [
    "data[\"cSpend\"] = data.Spend \n",
    "data.loc[data.Currency == \"USD\",\"cSpend\"] = data.Spend * USDtoGBP\n",
    "data.loc[data.Currency == \"EUR\",\"cSpend\"] = data.Spend * EURtoGBP"
   ]
  },
  {
   "cell_type": "markdown",
   "metadata": {},
   "source": [
    "---"
   ]
  },
  {
   "cell_type": "code",
   "execution_count": 304,
   "metadata": {
    "collapsed": true
   },
   "outputs": [],
   "source": [
    "#file to ZO folder on desktop"
   ]
  },
  {
   "cell_type": "code",
   "execution_count": 305,
   "metadata": {
    "collapsed": false
   },
   "outputs": [],
   "source": [
    "data.sort_values(\"Month\", ascending=True).to_csv(\"D:\\\\Users\\\\ylin\\\\Desktop\\\\ZO Spend\\\\\"+\"ZO spend.csv\", index=False)"
   ]
  },
  {
   "cell_type": "code",
   "execution_count": 309,
   "metadata": {
    "collapsed": true
   },
   "outputs": [],
   "source": [
    "data.pivot_table(values=\"cSpend\", index=\"Month\", columns=[\"DSP\", \"Type\", \"Public\"], \n",
    "                 aggfunc=np.sum, margins=True).round().to_csv(\"D:\\\\Users\\\\ylin\\\\Desktop\\\\ZO Spend\\\\\"+\"ZO spend pivot.csv\")"
   ]
  },
  {
   "cell_type": "code",
   "execution_count": 308,
   "metadata": {
    "collapsed": false
   },
   "outputs": [
    {
     "data": {
      "text/html": [
       "<div>\n",
       "<table border=\"1\" class=\"dataframe\">\n",
       "  <thead>\n",
       "    <tr>\n",
       "      <th>DSP</th>\n",
       "      <th>AAP</th>\n",
       "      <th colspan=\"3\" halign=\"left\">DBM</th>\n",
       "      <th>RocketFuel</th>\n",
       "      <th colspan=\"2\" halign=\"left\">TTD</th>\n",
       "      <th colspan=\"2\" halign=\"left\">Videology</th>\n",
       "      <th>All</th>\n",
       "    </tr>\n",
       "    <tr>\n",
       "      <th>Type</th>\n",
       "      <th>General</th>\n",
       "      <th colspan=\"2\" halign=\"left\">General</th>\n",
       "      <th>TrueView</th>\n",
       "      <th>General</th>\n",
       "      <th colspan=\"2\" halign=\"left\">General</th>\n",
       "      <th>Channel 4</th>\n",
       "      <th>General</th>\n",
       "      <th></th>\n",
       "    </tr>\n",
       "    <tr>\n",
       "      <th>Public</th>\n",
       "      <th>N/A</th>\n",
       "      <th>No</th>\n",
       "      <th>Yes</th>\n",
       "      <th>N/A</th>\n",
       "      <th>Yes</th>\n",
       "      <th>No</th>\n",
       "      <th>Yes</th>\n",
       "      <th>N/A</th>\n",
       "      <th>N/A</th>\n",
       "      <th></th>\n",
       "    </tr>\n",
       "    <tr>\n",
       "      <th>Month</th>\n",
       "      <th></th>\n",
       "      <th></th>\n",
       "      <th></th>\n",
       "      <th></th>\n",
       "      <th></th>\n",
       "      <th></th>\n",
       "      <th></th>\n",
       "      <th></th>\n",
       "      <th></th>\n",
       "      <th></th>\n",
       "    </tr>\n",
       "  </thead>\n",
       "  <tbody>\n",
       "    <tr>\n",
       "      <th>2016/01</th>\n",
       "      <td>NaN</td>\n",
       "      <td>462491.0</td>\n",
       "      <td>2015535.0</td>\n",
       "      <td>126240.0</td>\n",
       "      <td>NaN</td>\n",
       "      <td>NaN</td>\n",
       "      <td>0.0</td>\n",
       "      <td>NaN</td>\n",
       "      <td>NaN</td>\n",
       "      <td>2604266.0</td>\n",
       "    </tr>\n",
       "    <tr>\n",
       "      <th>2016/02</th>\n",
       "      <td>NaN</td>\n",
       "      <td>599799.0</td>\n",
       "      <td>2321375.0</td>\n",
       "      <td>180716.0</td>\n",
       "      <td>NaN</td>\n",
       "      <td>NaN</td>\n",
       "      <td>0.0</td>\n",
       "      <td>NaN</td>\n",
       "      <td>NaN</td>\n",
       "      <td>3101890.0</td>\n",
       "    </tr>\n",
       "    <tr>\n",
       "      <th>2016/03</th>\n",
       "      <td>NaN</td>\n",
       "      <td>1042068.0</td>\n",
       "      <td>2574432.0</td>\n",
       "      <td>279131.0</td>\n",
       "      <td>NaN</td>\n",
       "      <td>NaN</td>\n",
       "      <td>NaN</td>\n",
       "      <td>NaN</td>\n",
       "      <td>NaN</td>\n",
       "      <td>3895631.0</td>\n",
       "    </tr>\n",
       "    <tr>\n",
       "      <th>2016/04</th>\n",
       "      <td>NaN</td>\n",
       "      <td>525837.0</td>\n",
       "      <td>2141692.0</td>\n",
       "      <td>371005.0</td>\n",
       "      <td>NaN</td>\n",
       "      <td>NaN</td>\n",
       "      <td>2615.0</td>\n",
       "      <td>NaN</td>\n",
       "      <td>NaN</td>\n",
       "      <td>3041149.0</td>\n",
       "    </tr>\n",
       "    <tr>\n",
       "      <th>2016/05</th>\n",
       "      <td>NaN</td>\n",
       "      <td>537853.0</td>\n",
       "      <td>1718345.0</td>\n",
       "      <td>153631.0</td>\n",
       "      <td>NaN</td>\n",
       "      <td>NaN</td>\n",
       "      <td>19819.0</td>\n",
       "      <td>121445.0</td>\n",
       "      <td>341517.0</td>\n",
       "      <td>2892609.0</td>\n",
       "    </tr>\n",
       "    <tr>\n",
       "      <th>2016/06</th>\n",
       "      <td>NaN</td>\n",
       "      <td>601384.0</td>\n",
       "      <td>1900652.0</td>\n",
       "      <td>286835.0</td>\n",
       "      <td>NaN</td>\n",
       "      <td>NaN</td>\n",
       "      <td>21837.0</td>\n",
       "      <td>163329.0</td>\n",
       "      <td>353411.0</td>\n",
       "      <td>3327449.0</td>\n",
       "    </tr>\n",
       "    <tr>\n",
       "      <th>2016/07</th>\n",
       "      <td>NaN</td>\n",
       "      <td>470456.0</td>\n",
       "      <td>1444104.0</td>\n",
       "      <td>225570.0</td>\n",
       "      <td>NaN</td>\n",
       "      <td>19428.0</td>\n",
       "      <td>60549.0</td>\n",
       "      <td>104554.0</td>\n",
       "      <td>162814.0</td>\n",
       "      <td>2487475.0</td>\n",
       "    </tr>\n",
       "    <tr>\n",
       "      <th>2016/08</th>\n",
       "      <td>NaN</td>\n",
       "      <td>685058.0</td>\n",
       "      <td>1577548.0</td>\n",
       "      <td>138528.0</td>\n",
       "      <td>NaN</td>\n",
       "      <td>29773.0</td>\n",
       "      <td>163617.0</td>\n",
       "      <td>215635.0</td>\n",
       "      <td>113612.0</td>\n",
       "      <td>2923772.0</td>\n",
       "    </tr>\n",
       "    <tr>\n",
       "      <th>2016/09</th>\n",
       "      <td>NaN</td>\n",
       "      <td>843696.0</td>\n",
       "      <td>1788445.0</td>\n",
       "      <td>172688.0</td>\n",
       "      <td>NaN</td>\n",
       "      <td>37963.0</td>\n",
       "      <td>71513.0</td>\n",
       "      <td>302641.0</td>\n",
       "      <td>161261.0</td>\n",
       "      <td>3378207.0</td>\n",
       "    </tr>\n",
       "    <tr>\n",
       "      <th>2016/10</th>\n",
       "      <td>NaN</td>\n",
       "      <td>784882.0</td>\n",
       "      <td>2080459.0</td>\n",
       "      <td>380387.0</td>\n",
       "      <td>NaN</td>\n",
       "      <td>3.0</td>\n",
       "      <td>45319.0</td>\n",
       "      <td>831893.0</td>\n",
       "      <td>227547.0</td>\n",
       "      <td>4350490.0</td>\n",
       "    </tr>\n",
       "    <tr>\n",
       "      <th>2016/11</th>\n",
       "      <td>NaN</td>\n",
       "      <td>987119.0</td>\n",
       "      <td>1905395.0</td>\n",
       "      <td>350509.0</td>\n",
       "      <td>NaN</td>\n",
       "      <td>23429.0</td>\n",
       "      <td>98703.0</td>\n",
       "      <td>841687.0</td>\n",
       "      <td>145597.0</td>\n",
       "      <td>4352439.0</td>\n",
       "    </tr>\n",
       "    <tr>\n",
       "      <th>2016/12</th>\n",
       "      <td>NaN</td>\n",
       "      <td>1018084.0</td>\n",
       "      <td>1783496.0</td>\n",
       "      <td>174375.0</td>\n",
       "      <td>NaN</td>\n",
       "      <td>91615.0</td>\n",
       "      <td>74246.0</td>\n",
       "      <td>480049.0</td>\n",
       "      <td>31477.0</td>\n",
       "      <td>3653341.0</td>\n",
       "    </tr>\n",
       "    <tr>\n",
       "      <th>2017/01</th>\n",
       "      <td>NaN</td>\n",
       "      <td>442769.0</td>\n",
       "      <td>1138666.0</td>\n",
       "      <td>201930.0</td>\n",
       "      <td>5743.0</td>\n",
       "      <td>17489.0</td>\n",
       "      <td>95751.0</td>\n",
       "      <td>264591.0</td>\n",
       "      <td>212558.0</td>\n",
       "      <td>2379496.0</td>\n",
       "    </tr>\n",
       "    <tr>\n",
       "      <th>2017/02</th>\n",
       "      <td>NaN</td>\n",
       "      <td>419031.0</td>\n",
       "      <td>947721.0</td>\n",
       "      <td>175352.0</td>\n",
       "      <td>6835.0</td>\n",
       "      <td>16691.0</td>\n",
       "      <td>131737.0</td>\n",
       "      <td>518240.0</td>\n",
       "      <td>228212.0</td>\n",
       "      <td>2443819.0</td>\n",
       "    </tr>\n",
       "    <tr>\n",
       "      <th>2017/03</th>\n",
       "      <td>NaN</td>\n",
       "      <td>596981.0</td>\n",
       "      <td>1165207.0</td>\n",
       "      <td>139000.0</td>\n",
       "      <td>5570.0</td>\n",
       "      <td>33715.0</td>\n",
       "      <td>266813.0</td>\n",
       "      <td>433708.0</td>\n",
       "      <td>237404.0</td>\n",
       "      <td>2878399.0</td>\n",
       "    </tr>\n",
       "    <tr>\n",
       "      <th>2017/04</th>\n",
       "      <td>25278.0</td>\n",
       "      <td>593276.0</td>\n",
       "      <td>1188412.0</td>\n",
       "      <td>132948.0</td>\n",
       "      <td>22024.0</td>\n",
       "      <td>23500.0</td>\n",
       "      <td>234321.0</td>\n",
       "      <td>518357.0</td>\n",
       "      <td>147026.0</td>\n",
       "      <td>2885142.0</td>\n",
       "    </tr>\n",
       "    <tr>\n",
       "      <th>2017/05</th>\n",
       "      <td>NaN</td>\n",
       "      <td>298205.0</td>\n",
       "      <td>926253.0</td>\n",
       "      <td>63504.0</td>\n",
       "      <td>31687.0</td>\n",
       "      <td>37394.0</td>\n",
       "      <td>237539.0</td>\n",
       "      <td>483277.0</td>\n",
       "      <td>97798.0</td>\n",
       "      <td>2175656.0</td>\n",
       "    </tr>\n",
       "    <tr>\n",
       "      <th>All</th>\n",
       "      <td>25278.0</td>\n",
       "      <td>10908988.0</td>\n",
       "      <td>28617737.0</td>\n",
       "      <td>3552351.0</td>\n",
       "      <td>71860.0</td>\n",
       "      <td>330999.0</td>\n",
       "      <td>1524380.0</td>\n",
       "      <td>5279405.0</td>\n",
       "      <td>2460233.0</td>\n",
       "      <td>52771231.0</td>\n",
       "    </tr>\n",
       "  </tbody>\n",
       "</table>\n",
       "</div>"
      ],
      "text/plain": [
       "DSP          AAP         DBM                        RocketFuel       TTD  \\\n",
       "Type     General     General               TrueView    General   General   \n",
       "Public       N/A          No         Yes        N/A        Yes        No   \n",
       "Month                                                                      \n",
       "2016/01      NaN    462491.0   2015535.0   126240.0        NaN       NaN   \n",
       "2016/02      NaN    599799.0   2321375.0   180716.0        NaN       NaN   \n",
       "2016/03      NaN   1042068.0   2574432.0   279131.0        NaN       NaN   \n",
       "2016/04      NaN    525837.0   2141692.0   371005.0        NaN       NaN   \n",
       "2016/05      NaN    537853.0   1718345.0   153631.0        NaN       NaN   \n",
       "2016/06      NaN    601384.0   1900652.0   286835.0        NaN       NaN   \n",
       "2016/07      NaN    470456.0   1444104.0   225570.0        NaN   19428.0   \n",
       "2016/08      NaN    685058.0   1577548.0   138528.0        NaN   29773.0   \n",
       "2016/09      NaN    843696.0   1788445.0   172688.0        NaN   37963.0   \n",
       "2016/10      NaN    784882.0   2080459.0   380387.0        NaN       3.0   \n",
       "2016/11      NaN    987119.0   1905395.0   350509.0        NaN   23429.0   \n",
       "2016/12      NaN   1018084.0   1783496.0   174375.0        NaN   91615.0   \n",
       "2017/01      NaN    442769.0   1138666.0   201930.0     5743.0   17489.0   \n",
       "2017/02      NaN    419031.0    947721.0   175352.0     6835.0   16691.0   \n",
       "2017/03      NaN    596981.0   1165207.0   139000.0     5570.0   33715.0   \n",
       "2017/04  25278.0    593276.0   1188412.0   132948.0    22024.0   23500.0   \n",
       "2017/05      NaN    298205.0    926253.0    63504.0    31687.0   37394.0   \n",
       "All      25278.0  10908988.0  28617737.0  3552351.0    71860.0  330999.0   \n",
       "\n",
       "DSP                 Videology                    All  \n",
       "Type                Channel 4    General              \n",
       "Public         Yes        N/A        N/A              \n",
       "Month                                                 \n",
       "2016/01        0.0        NaN        NaN   2604266.0  \n",
       "2016/02        0.0        NaN        NaN   3101890.0  \n",
       "2016/03        NaN        NaN        NaN   3895631.0  \n",
       "2016/04     2615.0        NaN        NaN   3041149.0  \n",
       "2016/05    19819.0   121445.0   341517.0   2892609.0  \n",
       "2016/06    21837.0   163329.0   353411.0   3327449.0  \n",
       "2016/07    60549.0   104554.0   162814.0   2487475.0  \n",
       "2016/08   163617.0   215635.0   113612.0   2923772.0  \n",
       "2016/09    71513.0   302641.0   161261.0   3378207.0  \n",
       "2016/10    45319.0   831893.0   227547.0   4350490.0  \n",
       "2016/11    98703.0   841687.0   145597.0   4352439.0  \n",
       "2016/12    74246.0   480049.0    31477.0   3653341.0  \n",
       "2017/01    95751.0   264591.0   212558.0   2379496.0  \n",
       "2017/02   131737.0   518240.0   228212.0   2443819.0  \n",
       "2017/03   266813.0   433708.0   237404.0   2878399.0  \n",
       "2017/04   234321.0   518357.0   147026.0   2885142.0  \n",
       "2017/05   237539.0   483277.0    97798.0   2175656.0  \n",
       "All      1524380.0  5279405.0  2460233.0  52771231.0  "
      ]
     },
     "execution_count": 308,
     "metadata": {},
     "output_type": "execute_result"
    }
   ],
   "source": [
    "data.pivot_table(values=\"cSpend\", index=\"Month\", columns=[\"DSP\", \"Type\", \"Public\"], aggfunc=np.sum, margins=True).round()"
   ]
  },
  {
   "cell_type": "code",
   "execution_count": null,
   "metadata": {
    "collapsed": true
   },
   "outputs": [],
   "source": []
  }
 ],
 "metadata": {
  "anaconda-cloud": {},
  "kernelspec": {
   "display_name": "Python [conda root]",
   "language": "python",
   "name": "conda-root-py"
  },
  "language_info": {
   "codemirror_mode": {
    "name": "ipython",
    "version": 3
   },
   "file_extension": ".py",
   "mimetype": "text/x-python",
   "name": "python",
   "nbconvert_exporter": "python",
   "pygments_lexer": "ipython3",
   "version": "3.5.2"
  }
 },
 "nbformat": 4,
 "nbformat_minor": 1
}
