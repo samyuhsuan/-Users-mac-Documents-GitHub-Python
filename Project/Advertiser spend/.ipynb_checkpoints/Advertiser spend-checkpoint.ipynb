{
 "cells": [
  {
   "cell_type": "code",
   "execution_count": 368,
   "metadata": {
    "collapsed": true
   },
   "outputs": [],
   "source": [
    "import pandas as pd\n",
    "import numpy as np\n",
    "import matplotlib.pyplot as plt\n",
    "import seaborn as sns\n",
    "import glob\n",
    "import time\n",
    "%matplotlib inline"
   ]
  },
  {
   "cell_type": "markdown",
   "metadata": {},
   "source": [
    "---"
   ]
  },
  {
   "cell_type": "code",
   "execution_count": 369,
   "metadata": {
    "collapsed": true
   },
   "outputs": [],
   "source": [
    "#DBM data below"
   ]
  },
  {
   "cell_type": "code",
   "execution_count": 370,
   "metadata": {
    "collapsed": false
   },
   "outputs": [],
   "source": [
    "DBM = pd.DataFrame()\n",
    "for file in glob.glob(\"DBM*.csv\"):\n",
    "    df = pd.read_csv(file)\n",
    "    df = df[df[\"Advertiser Currency\"].isnull() == False]\n",
    "    DBM = DBM.append(df, ignore_index=True)"
   ]
  },
  {
   "cell_type": "code",
   "execution_count": 371,
   "metadata": {
    "collapsed": false
   },
   "outputs": [],
   "source": [
    "DBM = DBM.loc[:, [\"Month\", \"Advertiser\", \"Public Inventory\", \"Impressions\", \n",
    "                  \"Clicks\", \"Revenue (Adv Currency)\", \"Media Cost (Advertiser Currency)\", \"Advertiser Currency\"]]"
   ]
  },
  {
   "cell_type": "code",
   "execution_count": 372,
   "metadata": {
    "collapsed": false
   },
   "outputs": [],
   "source": [
    "DBM.columns = [\"Month\", \"Advertiser\", \"Public\", \"Impressions\", \"Clicks\", \"Spend\", \"Media\", \"Currency\"]"
   ]
  },
  {
   "cell_type": "code",
   "execution_count": 373,
   "metadata": {
    "collapsed": false
   },
   "outputs": [],
   "source": [
    "DBM[\"DSP\"] = \"DBM\"\n",
    "DBM[\"Type\"] = \"General\""
   ]
  },
  {
   "cell_type": "markdown",
   "metadata": {},
   "source": [
    "---"
   ]
  },
  {
   "cell_type": "code",
   "execution_count": 374,
   "metadata": {
    "collapsed": true
   },
   "outputs": [],
   "source": [
    "#YouTube/TrueView data below"
   ]
  },
  {
   "cell_type": "code",
   "execution_count": 375,
   "metadata": {
    "collapsed": true
   },
   "outputs": [],
   "source": [
    "YT = pd.DataFrame()\n",
    "for file in glob.glob(\"YT*.csv\"):\n",
    "    df = pd.read_csv(file)\n",
    "    df = df[df[\"Advertiser Currency\"].isnull() == False]\n",
    "    YT = YT.append(df, ignore_index=True)"
   ]
  },
  {
   "cell_type": "code",
   "execution_count": 376,
   "metadata": {
    "collapsed": false
   },
   "outputs": [],
   "source": [
    "YT[\"Public\"] = \"N/A\"\n",
    "YT[\"DSP\"] = \"DBM\"\n",
    "YT[\"Type\"] = \"TrueView\""
   ]
  },
  {
   "cell_type": "code",
   "execution_count": 377,
   "metadata": {
    "collapsed": false
   },
   "outputs": [],
   "source": [
    "YT = YT.loc[:, [\"Month\", \"Advertiser\", \"Public\",\"Impressions\", \n",
    "                \"Clicks\", \"Revenue (Adv Currency)\", \"Media Cost (Advertiser Currency)\", \"Advertiser Currency\", \"DSP\", \"Type\"]]"
   ]
  },
  {
   "cell_type": "code",
   "execution_count": 378,
   "metadata": {
    "collapsed": false
   },
   "outputs": [],
   "source": [
    "YT.columns = ['Month', 'Advertiser', 'Public', 'Impressions', 'Clicks',\n",
    "       'Spend', 'Media', 'Currency', 'DSP', 'Type']"
   ]
  },
  {
   "cell_type": "markdown",
   "metadata": {},
   "source": [
    "---"
   ]
  },
  {
   "cell_type": "code",
   "execution_count": 379,
   "metadata": {
    "collapsed": true
   },
   "outputs": [],
   "source": [
    "#Videology data below\n",
    "#please note the data in the template the time frame please select the specific time rather than 'last month'"
   ]
  },
  {
   "cell_type": "code",
   "execution_count": 380,
   "metadata": {
    "collapsed": false
   },
   "outputs": [],
   "source": [
    "videology = pd.DataFrame()\n",
    "for file in glob.glob(\"Videology*.csv\"):\n",
    "    df = pd.read_csv(file)\n",
    "    df = df[df[\"Placement ID\"].isnull() == False]\n",
    "    videology = videology.append(df, ignore_index=True)"
   ]
  },
  {
   "cell_type": "code",
   "execution_count": 381,
   "metadata": {
    "collapsed": false
   },
   "outputs": [],
   "source": [
    "videology.columns = [\"Advertiser\", \"Placement\", \"PlacementName\", \"Date\", \"Impressions\", \"Spend\", \"Clicks\"]"
   ]
  },
  {
   "cell_type": "code",
   "execution_count": 382,
   "metadata": {
    "collapsed": false
   },
   "outputs": [],
   "source": [
    "list=[]\n",
    "for month in videology.Date:\n",
    "    g = month[-4:] + \"/\" + \"{0:0=2d}\".format(time.strptime(month[:3], \"%b\").tm_mon)\n",
    "    list.append(g)"
   ]
  },
  {
   "cell_type": "code",
   "execution_count": 383,
   "metadata": {
    "collapsed": false
   },
   "outputs": [],
   "source": [
    "videology.Impressions = videology.Impressions.apply(lambda x: float(x.split()[0].replace(',', '')))\n",
    "videology.Clicks = videology.Clicks.apply(lambda x: float(x.split()[0].replace(',', '')))\n",
    "videology.Spend = videology.Spend.apply(lambda x: float(x.split()[0].replace(',', '')))"
   ]
  },
  {
   "cell_type": "code",
   "execution_count": 384,
   "metadata": {
    "collapsed": false
   },
   "outputs": [],
   "source": [
    "videology[\"Currency\"] = \"GBP\"\n",
    "videology[\"DSP\"] = \"Videology\"\n",
    "videology[\"Type\"] = \"General\"\n",
    "videology.loc[(videology.PlacementName.str.contains(\"Channel 4\")) | \n",
    "              (videology.PlacementName.str.contains(\"C4\")), \"Type\"] = \"Channel 4\"\n",
    "videology[\"Media\"] = videology.Spend * 0.7\n",
    "videology.loc[videology.Type == \"Channel 4\", \"Media\"] = videology.Spend * 0.8\n",
    "videology[\"Public\"] = \"N/A\"\n",
    "videology[\"Month\"] = list"
   ]
  },
  {
   "cell_type": "code",
   "execution_count": 385,
   "metadata": {
    "collapsed": true
   },
   "outputs": [],
   "source": [
    "videology = videology.loc[:, ['Month', 'Advertiser', 'Public', 'Impressions', 'Clicks', 'Spend',\n",
    "       'Media', 'Currency', 'DSP', 'Type']]"
   ]
  },
  {
   "cell_type": "markdown",
   "metadata": {},
   "source": [
    "---"
   ]
  },
  {
   "cell_type": "code",
   "execution_count": 386,
   "metadata": {
    "collapsed": true
   },
   "outputs": [],
   "source": [
    "#TheTradeDesk data below"
   ]
  },
  {
   "cell_type": "code",
   "execution_count": 387,
   "metadata": {
    "collapsed": false
   },
   "outputs": [],
   "source": [
    "TTD = pd.DataFrame()\n",
    "for file in glob.glob(\"TTD*.tsv\"):\n",
    "    df = pd.read_csv(file)\n",
    "    TTD = TTD.append(df, ignore_index=True)\n",
    "TTD.columns = [\"all\"]\n",
    "TTD = pd.DataFrame(TTD[\"all\"].str.split(\"\\t\").tolist(), \n",
    "             columns=[\"Date\", \"Advertiser\",\"Currency\", \"PMP\", \"Impressions\", \"Clicks\", \"Spend\", \"Media\"])"
   ]
  },
  {
   "cell_type": "code",
   "execution_count": 388,
   "metadata": {
    "collapsed": false
   },
   "outputs": [],
   "source": [
    "TTD[\"Month\"] = TTD.Date.str.split(\"/\").str[2] + \"/\" + TTD.Date.str.split(\"/\").str[1]\n",
    "TTD[\"Public\"] = \"Yes\"\n",
    "TTD.loc[TTD.PMP.str.contains(\"PMP\"), \"Public\"] = \"No\"\n",
    "TTD[\"DSP\"] = \"TTD\"\n",
    "TTD[\"Type\"] = \"General\""
   ]
  },
  {
   "cell_type": "code",
   "execution_count": 389,
   "metadata": {
    "collapsed": false
   },
   "outputs": [],
   "source": [
    "TTD = TTD.loc[:, [\"Month\", \"Advertiser\", \"Public\", \"Impressions\", \"Clicks\", \"Spend\", \"Media\", \"Currency\", \"DSP\", \"Type\"]]"
   ]
  },
  {
   "cell_type": "code",
   "execution_count": 390,
   "metadata": {
    "collapsed": false
   },
   "outputs": [],
   "source": [
    "TTD.Impressions = TTD.Impressions.astype(\"float64\")\n",
    "TTD.Clicks = TTD.Clicks.astype(\"float64\")\n",
    "TTD.Spend = TTD.Spend.astype(\"float64\")\n",
    "TTD.Media = TTD.Media.astype(\"float64\")"
   ]
  },
  {
   "cell_type": "code",
   "execution_count": 391,
   "metadata": {
    "collapsed": true
   },
   "outputs": [],
   "source": [
    "#below is fixed for 2016 TTD data "
   ]
  },
  {
   "cell_type": "code",
   "execution_count": 392,
   "metadata": {
    "collapsed": false
   },
   "outputs": [],
   "source": [
    "TTD_old = pd.read_csv(\"TTD_0116_1216.csv\")"
   ]
  },
  {
   "cell_type": "code",
   "execution_count": 393,
   "metadata": {
    "collapsed": false
   },
   "outputs": [],
   "source": [
    "TTD_old[\"Month\"] = TTD_old.Date.str.split(\"/\").str[2] + \"/\" + TTD_old.Date.str.split(\"/\").str[1]\n",
    "TTD_old[\"Public\"] = \"Yes\"\n",
    "TTD_old.loc[TTD_old[\"Inventory Contract\"] == \"PMP\", \"Public\"] = \"No\"\n",
    "TTD_old[\"DSP\"] = \"TTD\"\n",
    "TTD_old[\"Type\"] = \"General\""
   ]
  },
  {
   "cell_type": "code",
   "execution_count": 394,
   "metadata": {
    "collapsed": true
   },
   "outputs": [],
   "source": [
    "TTD_old = TTD_old.loc[:, [\"Month\", \"Advertiser\", \"Public\", \"Impressions\", \n",
    "                          \"Clicks\", \"Advertiser Cost (Adv Currency)\", \"Media Cost (Adv Currency)\", \n",
    "                          \"Advertiser Currency Code\", \"DSP\", \"Type\"]]"
   ]
  },
  {
   "cell_type": "code",
   "execution_count": 395,
   "metadata": {
    "collapsed": false
   },
   "outputs": [],
   "source": [
    "TTD_old.columns = ['Month', 'Advertiser', 'Public', 'Impressions', 'Clicks',\n",
    "       'Spend', 'Media','Currency', 'DSP', 'Type']"
   ]
  },
  {
   "cell_type": "code",
   "execution_count": 396,
   "metadata": {
    "collapsed": false
   },
   "outputs": [],
   "source": [
    "TTD = TTD.append(TTD_old, ignore_index=True)"
   ]
  },
  {
   "cell_type": "markdown",
   "metadata": {},
   "source": [
    "---"
   ]
  },
  {
   "cell_type": "code",
   "execution_count": 397,
   "metadata": {
    "collapsed": true
   },
   "outputs": [],
   "source": [
    "#RocketFuel data below"
   ]
  },
  {
   "cell_type": "code",
   "execution_count": 417,
   "metadata": {
    "collapsed": false
   },
   "outputs": [
    {
     "ename": "AttributeError",
     "evalue": "'DataFrame' object has no attribute 'Spend'",
     "output_type": "error",
     "traceback": [
      "\u001b[0;31m---------------------------------------------------------------------------\u001b[0m",
      "\u001b[0;31mAttributeError\u001b[0m                            Traceback (most recent call last)",
      "\u001b[0;32m<ipython-input-417-62abe8d08d02>\u001b[0m in \u001b[0;36m<module>\u001b[0;34m()\u001b[0m\n\u001b[1;32m      3\u001b[0m     \u001b[0mdf\u001b[0m \u001b[1;33m=\u001b[0m \u001b[0mpd\u001b[0m\u001b[1;33m.\u001b[0m\u001b[0mread_csv\u001b[0m\u001b[1;33m(\u001b[0m\u001b[0mfile\u001b[0m\u001b[1;33m,\u001b[0m \u001b[0mheader\u001b[0m\u001b[1;33m=\u001b[0m\u001b[1;36m1\u001b[0m\u001b[1;33m)\u001b[0m\u001b[1;33m\u001b[0m\u001b[0m\n\u001b[1;32m      4\u001b[0m     \u001b[0mRF\u001b[0m \u001b[1;33m=\u001b[0m \u001b[0mRF\u001b[0m\u001b[1;33m.\u001b[0m\u001b[0mappend\u001b[0m\u001b[1;33m(\u001b[0m\u001b[0mdf\u001b[0m\u001b[1;33m,\u001b[0m \u001b[0mignore_index\u001b[0m\u001b[1;33m=\u001b[0m\u001b[1;32mTrue\u001b[0m\u001b[1;33m)\u001b[0m\u001b[1;33m\u001b[0m\u001b[0m\n\u001b[0;32m----> 5\u001b[0;31m \u001b[0mRF\u001b[0m\u001b[1;33m.\u001b[0m\u001b[0mSpend\u001b[0m \u001b[1;33m=\u001b[0m \u001b[0mRF\u001b[0m\u001b[1;33m.\u001b[0m\u001b[0mSpend\u001b[0m\u001b[1;33m.\u001b[0m\u001b[0mstr\u001b[0m\u001b[1;33m.\u001b[0m\u001b[0mreplace\u001b[0m\u001b[1;33m(\u001b[0m\u001b[1;34m\"GBP \"\u001b[0m\u001b[1;33m,\u001b[0m \u001b[1;34m\"\"\u001b[0m\u001b[1;33m)\u001b[0m\u001b[1;33m\u001b[0m\u001b[0m\n\u001b[0m\u001b[1;32m      6\u001b[0m \u001b[0mRF\u001b[0m\u001b[1;33m[\u001b[0m\u001b[1;34m\"Media Cost\"\u001b[0m\u001b[1;33m]\u001b[0m \u001b[1;33m=\u001b[0m \u001b[0mRF\u001b[0m\u001b[1;33m[\u001b[0m\u001b[1;34m\"Media Cost\"\u001b[0m\u001b[1;33m]\u001b[0m\u001b[1;33m.\u001b[0m\u001b[0mstr\u001b[0m\u001b[1;33m.\u001b[0m\u001b[0mreplace\u001b[0m\u001b[1;33m(\u001b[0m\u001b[1;34m\"GBP \"\u001b[0m\u001b[1;33m,\u001b[0m \u001b[1;34m\"\"\u001b[0m\u001b[1;33m)\u001b[0m\u001b[1;33m\u001b[0m\u001b[0m\n",
      "\u001b[0;32mC:\\Program Files\\Anaconda3\\lib\\site-packages\\pandas\\core\\generic.py\u001b[0m in \u001b[0;36m__getattr__\u001b[0;34m(self, name)\u001b[0m\n\u001b[1;32m   2670\u001b[0m             \u001b[1;32mif\u001b[0m \u001b[0mname\u001b[0m \u001b[1;32min\u001b[0m \u001b[0mself\u001b[0m\u001b[1;33m.\u001b[0m\u001b[0m_info_axis\u001b[0m\u001b[1;33m:\u001b[0m\u001b[1;33m\u001b[0m\u001b[0m\n\u001b[1;32m   2671\u001b[0m                 \u001b[1;32mreturn\u001b[0m \u001b[0mself\u001b[0m\u001b[1;33m[\u001b[0m\u001b[0mname\u001b[0m\u001b[1;33m]\u001b[0m\u001b[1;33m\u001b[0m\u001b[0m\n\u001b[0;32m-> 2672\u001b[0;31m             \u001b[1;32mreturn\u001b[0m \u001b[0mobject\u001b[0m\u001b[1;33m.\u001b[0m\u001b[0m__getattribute__\u001b[0m\u001b[1;33m(\u001b[0m\u001b[0mself\u001b[0m\u001b[1;33m,\u001b[0m \u001b[0mname\u001b[0m\u001b[1;33m)\u001b[0m\u001b[1;33m\u001b[0m\u001b[0m\n\u001b[0m\u001b[1;32m   2673\u001b[0m \u001b[1;33m\u001b[0m\u001b[0m\n\u001b[1;32m   2674\u001b[0m     \u001b[1;32mdef\u001b[0m \u001b[0m__setattr__\u001b[0m\u001b[1;33m(\u001b[0m\u001b[0mself\u001b[0m\u001b[1;33m,\u001b[0m \u001b[0mname\u001b[0m\u001b[1;33m,\u001b[0m \u001b[0mvalue\u001b[0m\u001b[1;33m)\u001b[0m\u001b[1;33m:\u001b[0m\u001b[1;33m\u001b[0m\u001b[0m\n",
      "\u001b[0;31mAttributeError\u001b[0m: 'DataFrame' object has no attribute 'Spend'"
     ]
    }
   ],
   "source": [
    "RF = pd.DataFrame()\n",
    "for file in glob.glob(\"RF_0117_0317.csv\"):\n",
    "    df = pd.read_csv(file, header=2)\n",
    "    RF = RF.append(df, ignore_index=True)\n",
    "RF.Spend = RF.Spend.str.replace(\"GBP \", \"\")\n",
    "RF[\"Media Cost\"] = RF[\"Media Cost\"].str.replace(\"GBP \", \"\")"
   ]
  },
  {
   "cell_type": "code",
   "execution_count": 411,
   "metadata": {
    "collapsed": false
   },
   "outputs": [],
   "source": [
    "RF[\"Public\"] = \"Yes\"\n",
    "RF.loc[RF[\"Exchange Deal ID\"].isnull() == False, \"Public\"] = \"No\"\n",
    "RF[\"Month\"] = RF[\"Year and Month\"].str.split(\"-\").str[0] + \"/\" + RF[\"Year and Month\"].str.split(\"-\").str[1]\n",
    "RF[\"DSP\"] = \"RocketFuel\"\n",
    "RF[\"Type\"] = \"General\"\n",
    "RF[\"Currency\"] = \"GBP\""
   ]
  },
  {
   "cell_type": "code",
   "execution_count": 412,
   "metadata": {
    "collapsed": false
   },
   "outputs": [],
   "source": [
    "RF = RF.loc[:, [\"Month\", \"Advertiser\", \"Public\", \"Imps\", \"Clicks\", \"Spend\", \"Media Cost\", \"Currency\", \"DSP\", \"Type\"]]"
   ]
  },
  {
   "cell_type": "code",
   "execution_count": 413,
   "metadata": {
    "collapsed": false
   },
   "outputs": [],
   "source": [
    "RF.columns = ['Month', 'Advertiser', 'Public', 'Impressions', 'Clicks', 'Spend', 'Media', 'Currency', 'DSP', 'Type']"
   ]
  },
  {
   "cell_type": "code",
   "execution_count": 414,
   "metadata": {
    "collapsed": false
   },
   "outputs": [],
   "source": [
    "RF.Spend = RF.Spend.astype(\"float64\")\n",
    "RF.Media = RF.Media.astype(\"float64\")"
   ]
  },
  {
   "cell_type": "markdown",
   "metadata": {},
   "source": [
    "---"
   ]
  },
  {
   "cell_type": "code",
   "execution_count": 403,
   "metadata": {
    "collapsed": true
   },
   "outputs": [],
   "source": [
    "#Data from all DSPs"
   ]
  },
  {
   "cell_type": "code",
   "execution_count": 404,
   "metadata": {
    "collapsed": false
   },
   "outputs": [],
   "source": [
    "data = DBM.append([TTD, YT, videology, RF], ignore_index=True)"
   ]
  },
  {
   "cell_type": "code",
   "execution_count": 405,
   "metadata": {
    "collapsed": false
   },
   "outputs": [],
   "source": [
    "np.unique(data.Currency)\n",
    "USDtoGBP = 0.77\n",
    "EURtoGBP = 0.84"
   ]
  },
  {
   "cell_type": "code",
   "execution_count": 406,
   "metadata": {
    "collapsed": false
   },
   "outputs": [],
   "source": [
    "data[\"cSpend\"] = data.Spend \n",
    "data.loc[data.Currency == \"USD\",\"cSpend\"] = data.Spend * USDtoGBP\n",
    "data.loc[data.Currency == \"EUR\",\"cSpend\"] = data.Spend * EURtoGBP"
   ]
  },
  {
   "cell_type": "code",
   "execution_count": 407,
   "metadata": {
    "collapsed": false
   },
   "outputs": [
    {
     "data": {
      "text/html": [
       "<div>\n",
       "<table border=\"1\" class=\"dataframe\">\n",
       "  <thead>\n",
       "    <tr>\n",
       "      <th>DSP</th>\n",
       "      <th colspan=\"3\" halign=\"left\">DBM</th>\n",
       "      <th>RocketFuel</th>\n",
       "      <th colspan=\"2\" halign=\"left\">TTD</th>\n",
       "      <th colspan=\"2\" halign=\"left\">Videology</th>\n",
       "    </tr>\n",
       "    <tr>\n",
       "      <th>Type</th>\n",
       "      <th colspan=\"2\" halign=\"left\">General</th>\n",
       "      <th>TrueView</th>\n",
       "      <th>General</th>\n",
       "      <th colspan=\"2\" halign=\"left\">General</th>\n",
       "      <th>Channel 4</th>\n",
       "      <th>General</th>\n",
       "    </tr>\n",
       "    <tr>\n",
       "      <th>Public</th>\n",
       "      <th>No</th>\n",
       "      <th>Yes</th>\n",
       "      <th>N/A</th>\n",
       "      <th>Yes</th>\n",
       "      <th>No</th>\n",
       "      <th>Yes</th>\n",
       "      <th>N/A</th>\n",
       "      <th>N/A</th>\n",
       "    </tr>\n",
       "    <tr>\n",
       "      <th>Month</th>\n",
       "      <th></th>\n",
       "      <th></th>\n",
       "      <th></th>\n",
       "      <th></th>\n",
       "      <th></th>\n",
       "      <th></th>\n",
       "      <th></th>\n",
       "      <th></th>\n",
       "    </tr>\n",
       "  </thead>\n",
       "  <tbody>\n",
       "    <tr>\n",
       "      <th>2016/01</th>\n",
       "      <td>473262.0</td>\n",
       "      <td>2045017.0</td>\n",
       "      <td>126240.0</td>\n",
       "      <td>NaN</td>\n",
       "      <td>NaN</td>\n",
       "      <td>0.0</td>\n",
       "      <td>NaN</td>\n",
       "      <td>NaN</td>\n",
       "    </tr>\n",
       "    <tr>\n",
       "      <th>2016/02</th>\n",
       "      <td>609759.0</td>\n",
       "      <td>2354635.0</td>\n",
       "      <td>186656.0</td>\n",
       "      <td>NaN</td>\n",
       "      <td>NaN</td>\n",
       "      <td>0.0</td>\n",
       "      <td>NaN</td>\n",
       "      <td>NaN</td>\n",
       "    </tr>\n",
       "    <tr>\n",
       "      <th>2016/03</th>\n",
       "      <td>1051876.0</td>\n",
       "      <td>2612724.0</td>\n",
       "      <td>289921.0</td>\n",
       "      <td>NaN</td>\n",
       "      <td>NaN</td>\n",
       "      <td>NaN</td>\n",
       "      <td>NaN</td>\n",
       "      <td>NaN</td>\n",
       "    </tr>\n",
       "    <tr>\n",
       "      <th>2016/04</th>\n",
       "      <td>535931.0</td>\n",
       "      <td>2162700.0</td>\n",
       "      <td>371005.0</td>\n",
       "      <td>NaN</td>\n",
       "      <td>NaN</td>\n",
       "      <td>2615.0</td>\n",
       "      <td>NaN</td>\n",
       "      <td>NaN</td>\n",
       "    </tr>\n",
       "    <tr>\n",
       "      <th>2016/05</th>\n",
       "      <td>540723.0</td>\n",
       "      <td>1735084.0</td>\n",
       "      <td>153631.0</td>\n",
       "      <td>NaN</td>\n",
       "      <td>NaN</td>\n",
       "      <td>19819.0</td>\n",
       "      <td>121445.0</td>\n",
       "      <td>341517.0</td>\n",
       "    </tr>\n",
       "    <tr>\n",
       "      <th>2016/06</th>\n",
       "      <td>603414.0</td>\n",
       "      <td>1961338.0</td>\n",
       "      <td>286835.0</td>\n",
       "      <td>NaN</td>\n",
       "      <td>NaN</td>\n",
       "      <td>21837.0</td>\n",
       "      <td>163329.0</td>\n",
       "      <td>353411.0</td>\n",
       "    </tr>\n",
       "    <tr>\n",
       "      <th>2016/07</th>\n",
       "      <td>470555.0</td>\n",
       "      <td>1454305.0</td>\n",
       "      <td>225570.0</td>\n",
       "      <td>NaN</td>\n",
       "      <td>19428.0</td>\n",
       "      <td>60549.0</td>\n",
       "      <td>104554.0</td>\n",
       "      <td>162814.0</td>\n",
       "    </tr>\n",
       "    <tr>\n",
       "      <th>2016/08</th>\n",
       "      <td>686579.0</td>\n",
       "      <td>1583842.0</td>\n",
       "      <td>138528.0</td>\n",
       "      <td>NaN</td>\n",
       "      <td>29773.0</td>\n",
       "      <td>163617.0</td>\n",
       "      <td>215635.0</td>\n",
       "      <td>113612.0</td>\n",
       "    </tr>\n",
       "    <tr>\n",
       "      <th>2016/09</th>\n",
       "      <td>844030.0</td>\n",
       "      <td>1791282.0</td>\n",
       "      <td>172688.0</td>\n",
       "      <td>NaN</td>\n",
       "      <td>37963.0</td>\n",
       "      <td>71513.0</td>\n",
       "      <td>302641.0</td>\n",
       "      <td>161261.0</td>\n",
       "    </tr>\n",
       "    <tr>\n",
       "      <th>2016/10</th>\n",
       "      <td>784883.0</td>\n",
       "      <td>2101953.0</td>\n",
       "      <td>400381.0</td>\n",
       "      <td>NaN</td>\n",
       "      <td>3.0</td>\n",
       "      <td>45319.0</td>\n",
       "      <td>831893.0</td>\n",
       "      <td>227547.0</td>\n",
       "    </tr>\n",
       "    <tr>\n",
       "      <th>2016/11</th>\n",
       "      <td>987438.0</td>\n",
       "      <td>1907799.0</td>\n",
       "      <td>351515.0</td>\n",
       "      <td>NaN</td>\n",
       "      <td>23429.0</td>\n",
       "      <td>98703.0</td>\n",
       "      <td>841687.0</td>\n",
       "      <td>145597.0</td>\n",
       "    </tr>\n",
       "    <tr>\n",
       "      <th>2016/12</th>\n",
       "      <td>1023534.0</td>\n",
       "      <td>1798303.0</td>\n",
       "      <td>174375.0</td>\n",
       "      <td>NaN</td>\n",
       "      <td>91615.0</td>\n",
       "      <td>74246.0</td>\n",
       "      <td>480049.0</td>\n",
       "      <td>31477.0</td>\n",
       "    </tr>\n",
       "    <tr>\n",
       "      <th>2017/01</th>\n",
       "      <td>445116.0</td>\n",
       "      <td>1154329.0</td>\n",
       "      <td>201930.0</td>\n",
       "      <td>NaN</td>\n",
       "      <td>17489.0</td>\n",
       "      <td>95751.0</td>\n",
       "      <td>264591.0</td>\n",
       "      <td>212558.0</td>\n",
       "    </tr>\n",
       "    <tr>\n",
       "      <th>2017/02</th>\n",
       "      <td>419350.0</td>\n",
       "      <td>954434.0</td>\n",
       "      <td>175352.0</td>\n",
       "      <td>NaN</td>\n",
       "      <td>16691.0</td>\n",
       "      <td>131737.0</td>\n",
       "      <td>518240.0</td>\n",
       "      <td>228212.0</td>\n",
       "    </tr>\n",
       "    <tr>\n",
       "      <th>2017/03</th>\n",
       "      <td>597193.0</td>\n",
       "      <td>1169887.0</td>\n",
       "      <td>139000.0</td>\n",
       "      <td>NaN</td>\n",
       "      <td>33715.0</td>\n",
       "      <td>266813.0</td>\n",
       "      <td>433708.0</td>\n",
       "      <td>237404.0</td>\n",
       "    </tr>\n",
       "    <tr>\n",
       "      <th>2017/04</th>\n",
       "      <td>594247.0</td>\n",
       "      <td>1206795.0</td>\n",
       "      <td>132948.0</td>\n",
       "      <td>22024.0</td>\n",
       "      <td>23500.0</td>\n",
       "      <td>234321.0</td>\n",
       "      <td>518357.0</td>\n",
       "      <td>147026.0</td>\n",
       "    </tr>\n",
       "  </tbody>\n",
       "</table>\n",
       "</div>"
      ],
      "text/plain": [
       "DSP            DBM                      RocketFuel      TTD            \\\n",
       "Type       General             TrueView    General  General             \n",
       "Public          No        Yes       N/A        Yes       No       Yes   \n",
       "Month                                                                   \n",
       "2016/01   473262.0  2045017.0  126240.0        NaN      NaN       0.0   \n",
       "2016/02   609759.0  2354635.0  186656.0        NaN      NaN       0.0   \n",
       "2016/03  1051876.0  2612724.0  289921.0        NaN      NaN       NaN   \n",
       "2016/04   535931.0  2162700.0  371005.0        NaN      NaN    2615.0   \n",
       "2016/05   540723.0  1735084.0  153631.0        NaN      NaN   19819.0   \n",
       "2016/06   603414.0  1961338.0  286835.0        NaN      NaN   21837.0   \n",
       "2016/07   470555.0  1454305.0  225570.0        NaN  19428.0   60549.0   \n",
       "2016/08   686579.0  1583842.0  138528.0        NaN  29773.0  163617.0   \n",
       "2016/09   844030.0  1791282.0  172688.0        NaN  37963.0   71513.0   \n",
       "2016/10   784883.0  2101953.0  400381.0        NaN      3.0   45319.0   \n",
       "2016/11   987438.0  1907799.0  351515.0        NaN  23429.0   98703.0   \n",
       "2016/12  1023534.0  1798303.0  174375.0        NaN  91615.0   74246.0   \n",
       "2017/01   445116.0  1154329.0  201930.0        NaN  17489.0   95751.0   \n",
       "2017/02   419350.0   954434.0  175352.0        NaN  16691.0  131737.0   \n",
       "2017/03   597193.0  1169887.0  139000.0        NaN  33715.0  266813.0   \n",
       "2017/04   594247.0  1206795.0  132948.0    22024.0  23500.0  234321.0   \n",
       "\n",
       "DSP     Videology            \n",
       "Type    Channel 4   General  \n",
       "Public        N/A       N/A  \n",
       "Month                        \n",
       "2016/01       NaN       NaN  \n",
       "2016/02       NaN       NaN  \n",
       "2016/03       NaN       NaN  \n",
       "2016/04       NaN       NaN  \n",
       "2016/05  121445.0  341517.0  \n",
       "2016/06  163329.0  353411.0  \n",
       "2016/07  104554.0  162814.0  \n",
       "2016/08  215635.0  113612.0  \n",
       "2016/09  302641.0  161261.0  \n",
       "2016/10  831893.0  227547.0  \n",
       "2016/11  841687.0  145597.0  \n",
       "2016/12  480049.0   31477.0  \n",
       "2017/01  264591.0  212558.0  \n",
       "2017/02  518240.0  228212.0  \n",
       "2017/03  433708.0  237404.0  \n",
       "2017/04  518357.0  147026.0  "
      ]
     },
     "execution_count": 407,
     "metadata": {},
     "output_type": "execute_result"
    }
   ],
   "source": [
    "data.pivot_table(values=\"Spend\", index=\"Month\", columns=[\"DSP\", \"Type\", \"Public\"], aggfunc=np.sum).round()"
   ]
  },
  {
   "cell_type": "code",
   "execution_count": 408,
   "metadata": {
    "collapsed": false
   },
   "outputs": [
    {
     "data": {
      "text/plain": [
       "Month\n",
       "2016/01    2644519.0\n",
       "2016/02    3151049.0\n",
       "2016/03    3954521.0\n",
       "2016/04    3072252.0\n",
       "2016/05    2912219.0\n",
       "2016/06    3390165.0\n",
       "2016/07    2497775.0\n",
       "2016/08    2931586.0\n",
       "2016/09    3381378.0\n",
       "2016/10    4391979.0\n",
       "2016/11    4356169.0\n",
       "2016/12    3673598.0\n",
       "2017/01    2391763.0\n",
       "2017/02    2444016.0\n",
       "2017/03    2877722.0\n",
       "2017/04    2879217.0\n",
       "Name: Spend, dtype: float64"
      ]
     },
     "execution_count": 408,
     "metadata": {},
     "output_type": "execute_result"
    }
   ],
   "source": [
    "data.pivot_table(values=\"Spend\", index=\"Month\", aggfunc=np.sum).round()"
   ]
  },
  {
   "cell_type": "code",
   "execution_count": null,
   "metadata": {
    "collapsed": true
   },
   "outputs": [],
   "source": []
  }
 ],
 "metadata": {
  "anaconda-cloud": {},
  "kernelspec": {
   "display_name": "Python [conda root]",
   "language": "python",
   "name": "conda-root-py"
  },
  "language_info": {
   "codemirror_mode": {
    "name": "ipython",
    "version": 3
   },
   "file_extension": ".py",
   "mimetype": "text/x-python",
   "name": "python",
   "nbconvert_exporter": "python",
   "pygments_lexer": "ipython3",
   "version": "3.5.2"
  }
 },
 "nbformat": 4,
 "nbformat_minor": 1
}
