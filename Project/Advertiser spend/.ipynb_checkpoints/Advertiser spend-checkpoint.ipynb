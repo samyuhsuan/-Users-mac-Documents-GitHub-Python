{
 "cells": [
  {
   "cell_type": "code",
   "execution_count": 124,
   "metadata": {
    "collapsed": true
   },
   "outputs": [],
   "source": [
    "import pandas as pd\n",
    "import numpy as np\n",
    "import matplotlib.pyplot as plt\n",
    "import seaborn as sns\n",
    "import glob\n",
    "import time\n",
    "%matplotlib inline"
   ]
  },
  {
   "cell_type": "markdown",
   "metadata": {},
   "source": [
    "---"
   ]
  },
  {
   "cell_type": "code",
   "execution_count": 125,
   "metadata": {
    "collapsed": true
   },
   "outputs": [],
   "source": [
    "#DBM data below"
   ]
  },
  {
   "cell_type": "code",
   "execution_count": 126,
   "metadata": {
    "collapsed": false
   },
   "outputs": [],
   "source": [
    "DBM = pd.DataFrame()\n",
    "for file in glob.glob(\"DBM*.csv\"):\n",
    "    df = pd.read_csv(file)\n",
    "    df = df[df[\"Advertiser Currency\"].isnull() == False]\n",
    "    DBM = DBM.append(df, ignore_index=True)"
   ]
  },
  {
   "cell_type": "code",
   "execution_count": 127,
   "metadata": {
    "collapsed": false
   },
   "outputs": [],
   "source": [
    "DBM = DBM.loc[:, [\"Month\", \"Advertiser\", \"Public Inventory\", \"Impressions\", \n",
    "                  \"Clicks\", \"Revenue (Adv Currency)\", \"Media Cost (Advertiser Currency)\", \"Advertiser Currency\"]]"
   ]
  },
  {
   "cell_type": "code",
   "execution_count": 128,
   "metadata": {
    "collapsed": false
   },
   "outputs": [],
   "source": [
    "DBM.columns = [\"Month\", \"Advertiser\", \"Public\", \"Impressions\", \"Clicks\", \"Spend\", \"Media\", \"Currency\"]"
   ]
  },
  {
   "cell_type": "code",
   "execution_count": 129,
   "metadata": {
    "collapsed": false
   },
   "outputs": [],
   "source": [
    "DBM[\"DSP\"] = \"DBM\"\n",
    "DBM[\"Type\"] = \"General\""
   ]
  },
  {
   "cell_type": "markdown",
   "metadata": {},
   "source": [
    "---"
   ]
  },
  {
   "cell_type": "code",
   "execution_count": 130,
   "metadata": {
    "collapsed": true
   },
   "outputs": [],
   "source": [
    "#YouTube/TrueView data below"
   ]
  },
  {
   "cell_type": "code",
   "execution_count": 131,
   "metadata": {
    "collapsed": true
   },
   "outputs": [],
   "source": [
    "YT = pd.DataFrame()\n",
    "for file in glob.glob(\"YT*.csv\"):\n",
    "    df = pd.read_csv(file)\n",
    "    df = df[df[\"Advertiser Currency\"].isnull() == False]\n",
    "    YT = YT.append(df, ignore_index=True)"
   ]
  },
  {
   "cell_type": "code",
   "execution_count": 132,
   "metadata": {
    "collapsed": false
   },
   "outputs": [],
   "source": [
    "YT[\"Public\"] = \"N/A\"\n",
    "YT[\"DSP\"] = \"DBM\"\n",
    "YT[\"Type\"] = \"TrueView\""
   ]
  },
  {
   "cell_type": "code",
   "execution_count": 133,
   "metadata": {
    "collapsed": false
   },
   "outputs": [],
   "source": [
    "YT = YT.loc[:, [\"Month\", \"Advertiser\", \"Public\",\"Impressions\", \n",
    "                \"Clicks\", \"Revenue (Adv Currency)\", \"Media Cost (Advertiser Currency)\", \"Advertiser Currency\", \"DSP\", \"Type\"]]"
   ]
  },
  {
   "cell_type": "code",
   "execution_count": 134,
   "metadata": {
    "collapsed": false
   },
   "outputs": [],
   "source": [
    "YT.columns = ['Month', 'Advertiser', 'Public', 'Impressions', 'Clicks',\n",
    "       'Spend', 'Media', 'Currency', 'DSP', 'Type']"
   ]
  },
  {
   "cell_type": "markdown",
   "metadata": {},
   "source": [
    "---"
   ]
  },
  {
   "cell_type": "code",
   "execution_count": 135,
   "metadata": {
    "collapsed": true
   },
   "outputs": [],
   "source": [
    "#Videology data below\n",
    "#please note the data in the template the time frame please select the specific time rather than 'last month'"
   ]
  },
  {
   "cell_type": "code",
   "execution_count": 136,
   "metadata": {
    "collapsed": false
   },
   "outputs": [],
   "source": [
    "videology = pd.DataFrame()\n",
    "for file in glob.glob(\"Videology*.csv\"):\n",
    "    df = pd.read_csv(file)\n",
    "    df = df[df[\"Placement ID\"].isnull() == False]\n",
    "    videology = videology.append(df, ignore_index=True)"
   ]
  },
  {
   "cell_type": "code",
   "execution_count": 137,
   "metadata": {
    "collapsed": false
   },
   "outputs": [],
   "source": [
    "videology.columns = [\"Advertiser\", \"Placement\", \"PlacementName\", \"Date\", \"Impressions\", \"Spend\", \"Clicks\"]"
   ]
  },
  {
   "cell_type": "code",
   "execution_count": 138,
   "metadata": {
    "collapsed": false
   },
   "outputs": [],
   "source": [
    "list1=[]\n",
    "for month in videology.Date:\n",
    "    g = month[-4:] + \"/\" + \"{0:0=2d}\".format(time.strptime(month[:3], \"%b\").tm_mon)\n",
    "    list1.append(g)"
   ]
  },
  {
   "cell_type": "code",
   "execution_count": 139,
   "metadata": {
    "collapsed": false
   },
   "outputs": [],
   "source": [
    "#repmoving the thousand separator \n",
    "videology.Impressions = videology.Impressions.apply(lambda x: float(x.split()[0].replace(',', '')))\n",
    "videology.Clicks = videology.Clicks.apply(lambda x: float(x.split()[0].replace(',', '')))\n",
    "videology.Spend = videology.Spend.apply(lambda x: float(x.split()[0].replace(',', '')))"
   ]
  },
  {
   "cell_type": "code",
   "execution_count": 140,
   "metadata": {
    "collapsed": false
   },
   "outputs": [],
   "source": [
    "videology[\"Currency\"] = \"GBP\"\n",
    "videology[\"DSP\"] = \"Videology\"\n",
    "videology[\"Type\"] = \"General\"\n",
    "videology.loc[(videology.PlacementName.str.contains(\"Channel 4\")) | \n",
    "              (videology.PlacementName.str.contains(\"C4\")), \"Type\"] = \"Channel 4\"\n",
    "videology[\"Media\"] = videology.Spend * 0.7\n",
    "videology.loc[videology.Type == \"Channel 4\", \"Media\"] = videology.Spend * 0.8\n",
    "videology[\"Public\"] = \"N/A\"\n",
    "videology[\"Month\"] = list1"
   ]
  },
  {
   "cell_type": "code",
   "execution_count": 141,
   "metadata": {
    "collapsed": true
   },
   "outputs": [],
   "source": [
    "videology = videology.loc[:, ['Month', 'Advertiser', 'Public', 'Impressions', 'Clicks', 'Spend',\n",
    "       'Media', 'Currency', 'DSP', 'Type']]"
   ]
  },
  {
   "cell_type": "markdown",
   "metadata": {},
   "source": [
    "---"
   ]
  },
  {
   "cell_type": "code",
   "execution_count": 142,
   "metadata": {
    "collapsed": true
   },
   "outputs": [],
   "source": [
    "#TheTradeDesk data below"
   ]
  },
  {
   "cell_type": "code",
   "execution_count": 143,
   "metadata": {
    "collapsed": false
   },
   "outputs": [],
   "source": [
    "TTD = pd.DataFrame()\n",
    "for file in glob.glob(\"TTD*.tsv\"):\n",
    "    df = pd.read_csv(file)\n",
    "    TTD = TTD.append(df, ignore_index=True)\n",
    "TTD.columns = [\"all\"]\n",
    "TTD = pd.DataFrame(TTD[\"all\"].str.split(\"\\t\").tolist(), \n",
    "             columns=[\"Date\", \"Advertiser\",\"Currency\", \"PMP\", \"Impressions\", \"Clicks\", \"Spend\", \"Media\"])"
   ]
  },
  {
   "cell_type": "code",
   "execution_count": 144,
   "metadata": {
    "collapsed": false
   },
   "outputs": [],
   "source": [
    "TTD[\"Month\"] = TTD.Date.str.split(\"/\").str[2] + \"/\" + TTD.Date.str.split(\"/\").str[1]\n",
    "TTD[\"Public\"] = \"Yes\"\n",
    "TTD.loc[TTD.PMP.str.contains(\"PMP\"), \"Public\"] = \"No\"\n",
    "TTD[\"DSP\"] = \"TTD\"\n",
    "TTD[\"Type\"] = \"General\""
   ]
  },
  {
   "cell_type": "code",
   "execution_count": 145,
   "metadata": {
    "collapsed": false
   },
   "outputs": [],
   "source": [
    "TTD = TTD.loc[:, [\"Month\", \"Advertiser\", \"Public\", \"Impressions\", \"Clicks\", \"Spend\", \"Media\", \"Currency\", \"DSP\", \"Type\"]]"
   ]
  },
  {
   "cell_type": "code",
   "execution_count": 146,
   "metadata": {
    "collapsed": false
   },
   "outputs": [],
   "source": [
    "TTD.Impressions = TTD.Impressions.astype(\"float64\")\n",
    "TTD.Clicks = TTD.Clicks.astype(\"float64\")\n",
    "TTD.Spend = TTD.Spend.astype(\"float64\")\n",
    "TTD.Media = TTD.Media.astype(\"float64\")"
   ]
  },
  {
   "cell_type": "code",
   "execution_count": 147,
   "metadata": {
    "collapsed": true
   },
   "outputs": [],
   "source": [
    "#below is fixed for 2016 TTD data "
   ]
  },
  {
   "cell_type": "code",
   "execution_count": 148,
   "metadata": {
    "collapsed": false
   },
   "outputs": [],
   "source": [
    "TTD_old = pd.read_csv(\"TTD_0116_1216.csv\")"
   ]
  },
  {
   "cell_type": "code",
   "execution_count": 149,
   "metadata": {
    "collapsed": false
   },
   "outputs": [],
   "source": [
    "TTD_old[\"Month\"] = TTD_old.Date.str.split(\"/\").str[2] + \"/\" + TTD_old.Date.str.split(\"/\").str[1]\n",
    "TTD_old[\"Public\"] = \"Yes\"\n",
    "TTD_old.loc[TTD_old[\"Inventory Contract\"] == \"PMP\", \"Public\"] = \"No\"\n",
    "TTD_old[\"DSP\"] = \"TTD\"\n",
    "TTD_old[\"Type\"] = \"General\""
   ]
  },
  {
   "cell_type": "code",
   "execution_count": 150,
   "metadata": {
    "collapsed": true
   },
   "outputs": [],
   "source": [
    "TTD_old = TTD_old.loc[:, [\"Month\", \"Advertiser\", \"Public\", \"Impressions\", \n",
    "                          \"Clicks\", \"Advertiser Cost (Adv Currency)\", \"Media Cost (Adv Currency)\", \n",
    "                          \"Advertiser Currency Code\", \"DSP\", \"Type\"]]"
   ]
  },
  {
   "cell_type": "code",
   "execution_count": 151,
   "metadata": {
    "collapsed": false
   },
   "outputs": [],
   "source": [
    "TTD_old.columns = ['Month', 'Advertiser', 'Public', 'Impressions', 'Clicks',\n",
    "       'Spend', 'Media','Currency', 'DSP', 'Type']"
   ]
  },
  {
   "cell_type": "code",
   "execution_count": 152,
   "metadata": {
    "collapsed": false
   },
   "outputs": [],
   "source": [
    "TTD = TTD.append(TTD_old, ignore_index=True)"
   ]
  },
  {
   "cell_type": "markdown",
   "metadata": {},
   "source": [
    "---"
   ]
  },
  {
   "cell_type": "code",
   "execution_count": 153,
   "metadata": {
    "collapsed": true
   },
   "outputs": [],
   "source": [
    "#RocketFuel data below"
   ]
  },
  {
   "cell_type": "code",
   "execution_count": 154,
   "metadata": {
    "collapsed": false
   },
   "outputs": [],
   "source": [
    "RF = pd.DataFrame()\n",
    "for file in glob.glob(\"RF*.csv\"):\n",
    "    df = pd.read_csv(file, header=1)\n",
    "    RF = RF.append(df, ignore_index=True)\n",
    "RF.Spend = RF.Spend.str.replace(\"GBP \", \"\")\n",
    "RF[\"Media Cost\"] = RF[\"Media Cost\"].str.replace(\"GBP \", \"\")"
   ]
  },
  {
   "cell_type": "code",
   "execution_count": 155,
   "metadata": {
    "collapsed": false
   },
   "outputs": [],
   "source": [
    "RF[\"Public\"] = \"Yes\"\n",
    "RF.loc[RF[\"Exchange Deal ID\"].isnull() == False, \"Public\"] = \"No\"\n",
    "RF[\"Month\"] = RF[\"Year and Month\"].str.split(\"-\").str[0] + \"/\" + RF[\"Year and Month\"].str.split(\"-\").str[1]\n",
    "RF[\"DSP\"] = \"RocketFuel\"\n",
    "RF[\"Type\"] = \"General\"\n",
    "RF[\"Currency\"] = \"GBP\""
   ]
  },
  {
   "cell_type": "code",
   "execution_count": 156,
   "metadata": {
    "collapsed": false
   },
   "outputs": [],
   "source": [
    "RF = RF.loc[:, [\"Month\", \"Advertiser\", \"Public\", \"Imps\", \"Clicks\", \"Spend\", \"Media Cost\", \"Currency\", \"DSP\", \"Type\"]]"
   ]
  },
  {
   "cell_type": "code",
   "execution_count": 157,
   "metadata": {
    "collapsed": false
   },
   "outputs": [],
   "source": [
    "RF.columns = ['Month', 'Advertiser', 'Public', 'Impressions', 'Clicks', 'Spend', 'Media', 'Currency', 'DSP', 'Type']"
   ]
  },
  {
   "cell_type": "code",
   "execution_count": 158,
   "metadata": {
    "collapsed": false
   },
   "outputs": [],
   "source": [
    "RF.Spend = RF.Spend.astype(\"float64\")\n",
    "RF.Media = RF.Media.astype(\"float64\")"
   ]
  },
  {
   "cell_type": "markdown",
   "metadata": {},
   "source": [
    "---"
   ]
  },
  {
   "cell_type": "code",
   "execution_count": 159,
   "metadata": {
    "collapsed": true
   },
   "outputs": [],
   "source": [
    "#Amazon data below"
   ]
  },
  {
   "cell_type": "code",
   "execution_count": 160,
   "metadata": {
    "collapsed": true
   },
   "outputs": [],
   "source": [
    "AAP_old = pd.read_csv(\"Amazon_0116_0317.csv\")"
   ]
  },
  {
   "cell_type": "code",
   "execution_count": 161,
   "metadata": {
    "collapsed": false
   },
   "outputs": [],
   "source": [
    "AAP_old = AAP_old.head(147)"
   ]
  },
  {
   "cell_type": "code",
   "execution_count": 162,
   "metadata": {
    "collapsed": false
   },
   "outputs": [],
   "source": [
    "AAP_old.date = AAP_old.date.str.split(\" \").str[0]\n",
    "AAP_old.date = AAP_old.date.str.split(\"/\").str[2] + \"/\" + AAP_old.date.str.split(\"/\").str[1]"
   ]
  },
  {
   "cell_type": "code",
   "execution_count": 163,
   "metadata": {
    "collapsed": false
   },
   "outputs": [],
   "source": [
    "AAP_old.columns = ['Month', 'Advertiser', 'advertiser_id', 'Impressions', 'Clicks',\n",
    "       'Media', 'net cost', 'agency markup', 'Spend']"
   ]
  },
  {
   "cell_type": "code",
   "execution_count": 164,
   "metadata": {
    "collapsed": false
   },
   "outputs": [],
   "source": [
    "AAP = pd.DataFrame()\n",
    "for file in glob.glob(\"AAP*.csv\"):\n",
    "    df = pd.read_csv(file, usecols=[\"Date\", \"Advertiser\", \"Impressions\", \"Clickthroughs\", \n",
    "                                    \"Total Cost\", \"Supply Cost\", \"Order Currency\"])\n",
    "    AAP = AAP.append(df, ignore_index=True) "
   ]
  },
  {
   "cell_type": "code",
   "execution_count": 165,
   "metadata": {
    "collapsed": false
   },
   "outputs": [],
   "source": [
    "AAP = AAP.drop(AAP.index[AAP[\"Total Cost\"] == 0]).reset_index(drop=True)"
   ]
  },
  {
   "cell_type": "code",
   "execution_count": 166,
   "metadata": {
    "collapsed": false
   },
   "outputs": [],
   "source": [
    "list2=[]\n",
    "for month in AAP.Date:\n",
    "    g = month[-4:] + \"/\" + \"{0:0=2d}\".format(time.strptime(month[:3], \"%b\").tm_mon)\n",
    "    list2.append(g)"
   ]
  },
  {
   "cell_type": "code",
   "execution_count": 167,
   "metadata": {
    "collapsed": true
   },
   "outputs": [],
   "source": [
    "AAP.Date = list2\n",
    "AAP[\"Public\"] = \"N/A\"\n",
    "AAP[\"DSP\"] = \"AAP\"\n",
    "AAP[\"Type\"] = \"General\""
   ]
  },
  {
   "cell_type": "code",
   "execution_count": 168,
   "metadata": {
    "collapsed": false
   },
   "outputs": [],
   "source": [
    "AAP.columns = ['Month', 'Advertiser', 'Currency', 'Media', 'Spend','Impressions', 'Clicks', 'Public', 'DSP', 'Type']"
   ]
  },
  {
   "cell_type": "code",
   "execution_count": 169,
   "metadata": {
    "collapsed": false
   },
   "outputs": [],
   "source": [
    "AAP = AAP.loc[:, ['Month', 'Advertiser', 'Public', 'Impressions', 'Clicks', 'Spend', 'Media', 'Currency', 'DSP', 'Type']]"
   ]
  },
  {
   "cell_type": "code",
   "execution_count": 170,
   "metadata": {
    "collapsed": false
   },
   "outputs": [
    {
     "name": "stderr",
     "output_type": "stream",
     "text": [
      "C:\\Program Files\\Anaconda3\\lib\\site-packages\\ipykernel\\__main__.py:1: FutureWarning: convert_objects is deprecated.  Use the data-type specific converters pd.to_datetime, pd.to_timedelta and pd.to_numeric.\n",
      "  if __name__ == '__main__':\n"
     ]
    }
   ],
   "source": [
    "AAP.Spend = AAP.Spend.convert_objects(convert_numeric=True)"
   ]
  },
  {
   "cell_type": "markdown",
   "metadata": {},
   "source": [
    "---"
   ]
  },
  {
   "cell_type": "code",
   "execution_count": 171,
   "metadata": {
    "collapsed": true
   },
   "outputs": [],
   "source": [
    "#Turn data below"
   ]
  },
  {
   "cell_type": "code",
   "execution_count": 172,
   "metadata": {
    "collapsed": true
   },
   "outputs": [],
   "source": [
    "TURN_old = pd.read_csv(\"oldTURN_0317_0417.csv\")"
   ]
  },
  {
   "cell_type": "code",
   "execution_count": 173,
   "metadata": {
    "collapsed": false
   },
   "outputs": [],
   "source": [
    "TURN_old.Month = TURN_old.Month.str.split(\"/\").str[2] + \"/\" + TURN_old.Month.str.split(\"/\").str[0]"
   ]
  },
  {
   "cell_type": "code",
   "execution_count": 174,
   "metadata": {
    "collapsed": false
   },
   "outputs": [],
   "source": [
    "TURN_old[\"Public\"] = \"Yes\"\n",
    "TURN_old.loc[~TURN_old.Deal_ID.isin([-1]), \"Public\"] = \"No\"\n",
    "TURN_old[\"DSP\"] = \"TURN\"\n",
    "TURN_old[\"Type\"] = \"General\"\n",
    "TURN_old[\"Media\"] = TURN_old.Spend * 0.7"
   ]
  },
  {
   "cell_type": "code",
   "execution_count": 175,
   "metadata": {
    "collapsed": false
   },
   "outputs": [],
   "source": [
    "TURN_old = TURN_old.loc[:, ['Month', 'Advertiser', 'Public', 'Impressions','Clicks','Spend','Media','Currency', 'DSP', 'Type']]"
   ]
  },
  {
   "cell_type": "code",
   "execution_count": 176,
   "metadata": {
    "collapsed": false
   },
   "outputs": [],
   "source": [
    "TURN = pd.DataFrame()\n",
    "for file in glob.glob(\"TURN*.csv\"):\n",
    "    df = pd.read_csv(file, encoding=\"ISO-8859-1\")\n",
    "    TURN = TURN.append(df, ignore_index=True)"
   ]
  },
  {
   "cell_type": "code",
   "execution_count": 177,
   "metadata": {
    "collapsed": false
   },
   "outputs": [],
   "source": [
    "TURN.columns = ['Month', 'Advertiser', 'deal_id', 'deal_name', 'Impressions', 'Clicks', 'Currency', 'Spend']"
   ]
  },
  {
   "cell_type": "code",
   "execution_count": 178,
   "metadata": {
    "collapsed": false
   },
   "outputs": [],
   "source": [
    "TURN.Spend = TURN.Spend.str.replace(\"£\", \"\")\n",
    "TURN.Spend = TURN.Spend.str.replace(\",\", \"\")\n",
    "TURN.Spend = pd.to_numeric(TURN.Spend)"
   ]
  },
  {
   "cell_type": "code",
   "execution_count": 179,
   "metadata": {
    "collapsed": true
   },
   "outputs": [],
   "source": [
    "TURN.Month = TURN.Month.str.split(\"_\").str[0] + \"/\" + TURN.Month.str.split(\"_\").str[1]"
   ]
  },
  {
   "cell_type": "code",
   "execution_count": 180,
   "metadata": {
    "collapsed": false
   },
   "outputs": [],
   "source": [
    "TURN[\"Public\"] = \"Yes\"\n",
    "TURN.loc[~(TURN.deal_id == \"Unknown\"), \"Public\"] = \"No\"\n",
    "TURN[\"DSP\"] = \"TURN\"\n",
    "TURN[\"Type\"] = \"General\"\n",
    "TURN[\"Media\"] = TURN.Spend * 0.7"
   ]
  },
  {
   "cell_type": "code",
   "execution_count": 181,
   "metadata": {
    "collapsed": false
   },
   "outputs": [],
   "source": [
    "TURN = TURN.loc[:, ['Month', 'Advertiser', 'Public', 'Impressions', 'Clicks','Spend','Media','Currency','DSP', 'Type']]\n",
    "TURN = TURN.append(TURN_old, ignore_index=True)"
   ]
  },
  {
   "cell_type": "markdown",
   "metadata": {},
   "source": [
    "---"
   ]
  },
  {
   "cell_type": "code",
   "execution_count": 182,
   "metadata": {
    "collapsed": true
   },
   "outputs": [],
   "source": [
    "#Data from all DSPs"
   ]
  },
  {
   "cell_type": "code",
   "execution_count": 183,
   "metadata": {
    "collapsed": false
   },
   "outputs": [],
   "source": [
    "data = DBM.append([TTD, YT, videology, RF, AAP, TURN], ignore_index=True)"
   ]
  },
  {
   "cell_type": "code",
   "execution_count": 184,
   "metadata": {
    "collapsed": false
   },
   "outputs": [],
   "source": [
    "np.unique(data.Currency)\n",
    "USDtoGBP = 0.77\n",
    "EURtoGBP = 0.84"
   ]
  },
  {
   "cell_type": "code",
   "execution_count": 185,
   "metadata": {
    "collapsed": false
   },
   "outputs": [],
   "source": [
    "data[\"cSpend\"] = data.Spend \n",
    "data.loc[data.Currency == \"USD\",\"cSpend\"] = data.Spend * USDtoGBP\n",
    "data.loc[data.Currency == \"EUR\",\"cSpend\"] = data.Spend * EURtoGBP"
   ]
  },
  {
   "cell_type": "markdown",
   "metadata": {},
   "source": [
    "---"
   ]
  },
  {
   "cell_type": "code",
   "execution_count": 186,
   "metadata": {
    "collapsed": true
   },
   "outputs": [],
   "source": [
    "#file to ZO folder on desktop"
   ]
  },
  {
   "cell_type": "code",
   "execution_count": 187,
   "metadata": {
    "collapsed": false
   },
   "outputs": [],
   "source": [
    "data.sort_values(\"Month\", ascending=True).to_csv(\"D:\\\\Users\\\\ylin\\\\Desktop\\\\ZO Spend\\\\\"+\"ZO spend.csv\", index=False)"
   ]
  },
  {
   "cell_type": "code",
   "execution_count": 188,
   "metadata": {
    "collapsed": true
   },
   "outputs": [],
   "source": [
    "data.pivot_table(values=\"cSpend\", index=\"Month\", columns=[\"DSP\", \"Type\", \"Public\"], \n",
    "                 aggfunc=np.sum, margins=True).round().to_csv(\"D:\\\\Users\\\\ylin\\\\Desktop\\\\ZO Spend\\\\\"+\"ZO spend pivot.csv\")"
   ]
  },
  {
   "cell_type": "code",
   "execution_count": 189,
   "metadata": {
    "collapsed": false
   },
   "outputs": [
    {
     "data": {
      "text/html": [
       "<div>\n",
       "<table border=\"1\" class=\"dataframe\">\n",
       "  <thead>\n",
       "    <tr>\n",
       "      <th>DSP</th>\n",
       "      <th>AAP</th>\n",
       "      <th colspan=\"3\" halign=\"left\">DBM</th>\n",
       "      <th>RocketFuel</th>\n",
       "      <th colspan=\"2\" halign=\"left\">TTD</th>\n",
       "      <th colspan=\"2\" halign=\"left\">TURN</th>\n",
       "      <th colspan=\"2\" halign=\"left\">Videology</th>\n",
       "      <th>All</th>\n",
       "    </tr>\n",
       "    <tr>\n",
       "      <th>Type</th>\n",
       "      <th>General</th>\n",
       "      <th colspan=\"2\" halign=\"left\">General</th>\n",
       "      <th>TrueView</th>\n",
       "      <th>General</th>\n",
       "      <th colspan=\"2\" halign=\"left\">General</th>\n",
       "      <th colspan=\"2\" halign=\"left\">General</th>\n",
       "      <th>Channel 4</th>\n",
       "      <th>General</th>\n",
       "      <th></th>\n",
       "    </tr>\n",
       "    <tr>\n",
       "      <th>Public</th>\n",
       "      <th>N/A</th>\n",
       "      <th>No</th>\n",
       "      <th>Yes</th>\n",
       "      <th>N/A</th>\n",
       "      <th>Yes</th>\n",
       "      <th>No</th>\n",
       "      <th>Yes</th>\n",
       "      <th>No</th>\n",
       "      <th>Yes</th>\n",
       "      <th>N/A</th>\n",
       "      <th>N/A</th>\n",
       "      <th></th>\n",
       "    </tr>\n",
       "    <tr>\n",
       "      <th>Month</th>\n",
       "      <th></th>\n",
       "      <th></th>\n",
       "      <th></th>\n",
       "      <th></th>\n",
       "      <th></th>\n",
       "      <th></th>\n",
       "      <th></th>\n",
       "      <th></th>\n",
       "      <th></th>\n",
       "      <th></th>\n",
       "      <th></th>\n",
       "      <th></th>\n",
       "    </tr>\n",
       "  </thead>\n",
       "  <tbody>\n",
       "    <tr>\n",
       "      <th>2016/01</th>\n",
       "      <td>NaN</td>\n",
       "      <td>462491.0</td>\n",
       "      <td>2015535.0</td>\n",
       "      <td>126240.0</td>\n",
       "      <td>NaN</td>\n",
       "      <td>NaN</td>\n",
       "      <td>0.0</td>\n",
       "      <td>NaN</td>\n",
       "      <td>NaN</td>\n",
       "      <td>NaN</td>\n",
       "      <td>NaN</td>\n",
       "      <td>2604266.0</td>\n",
       "    </tr>\n",
       "    <tr>\n",
       "      <th>2016/02</th>\n",
       "      <td>NaN</td>\n",
       "      <td>599799.0</td>\n",
       "      <td>2321375.0</td>\n",
       "      <td>180716.0</td>\n",
       "      <td>NaN</td>\n",
       "      <td>NaN</td>\n",
       "      <td>0.0</td>\n",
       "      <td>NaN</td>\n",
       "      <td>NaN</td>\n",
       "      <td>NaN</td>\n",
       "      <td>NaN</td>\n",
       "      <td>3101890.0</td>\n",
       "    </tr>\n",
       "    <tr>\n",
       "      <th>2016/03</th>\n",
       "      <td>NaN</td>\n",
       "      <td>1042068.0</td>\n",
       "      <td>2574432.0</td>\n",
       "      <td>279131.0</td>\n",
       "      <td>NaN</td>\n",
       "      <td>NaN</td>\n",
       "      <td>NaN</td>\n",
       "      <td>NaN</td>\n",
       "      <td>NaN</td>\n",
       "      <td>NaN</td>\n",
       "      <td>NaN</td>\n",
       "      <td>3895631.0</td>\n",
       "    </tr>\n",
       "    <tr>\n",
       "      <th>2016/04</th>\n",
       "      <td>NaN</td>\n",
       "      <td>525837.0</td>\n",
       "      <td>2141692.0</td>\n",
       "      <td>371005.0</td>\n",
       "      <td>NaN</td>\n",
       "      <td>NaN</td>\n",
       "      <td>2615.0</td>\n",
       "      <td>NaN</td>\n",
       "      <td>NaN</td>\n",
       "      <td>NaN</td>\n",
       "      <td>NaN</td>\n",
       "      <td>3041149.0</td>\n",
       "    </tr>\n",
       "    <tr>\n",
       "      <th>2016/05</th>\n",
       "      <td>NaN</td>\n",
       "      <td>537853.0</td>\n",
       "      <td>1718345.0</td>\n",
       "      <td>153631.0</td>\n",
       "      <td>NaN</td>\n",
       "      <td>NaN</td>\n",
       "      <td>19819.0</td>\n",
       "      <td>NaN</td>\n",
       "      <td>NaN</td>\n",
       "      <td>121445.0</td>\n",
       "      <td>341517.0</td>\n",
       "      <td>2892609.0</td>\n",
       "    </tr>\n",
       "    <tr>\n",
       "      <th>2016/06</th>\n",
       "      <td>NaN</td>\n",
       "      <td>601384.0</td>\n",
       "      <td>1900652.0</td>\n",
       "      <td>286835.0</td>\n",
       "      <td>NaN</td>\n",
       "      <td>NaN</td>\n",
       "      <td>21837.0</td>\n",
       "      <td>NaN</td>\n",
       "      <td>NaN</td>\n",
       "      <td>163329.0</td>\n",
       "      <td>353411.0</td>\n",
       "      <td>3327449.0</td>\n",
       "    </tr>\n",
       "    <tr>\n",
       "      <th>2016/07</th>\n",
       "      <td>NaN</td>\n",
       "      <td>470456.0</td>\n",
       "      <td>1444104.0</td>\n",
       "      <td>225570.0</td>\n",
       "      <td>NaN</td>\n",
       "      <td>19428.0</td>\n",
       "      <td>60549.0</td>\n",
       "      <td>NaN</td>\n",
       "      <td>NaN</td>\n",
       "      <td>104554.0</td>\n",
       "      <td>162814.0</td>\n",
       "      <td>2487475.0</td>\n",
       "    </tr>\n",
       "    <tr>\n",
       "      <th>2016/08</th>\n",
       "      <td>NaN</td>\n",
       "      <td>685058.0</td>\n",
       "      <td>1577548.0</td>\n",
       "      <td>138528.0</td>\n",
       "      <td>NaN</td>\n",
       "      <td>29773.0</td>\n",
       "      <td>163617.0</td>\n",
       "      <td>NaN</td>\n",
       "      <td>NaN</td>\n",
       "      <td>215635.0</td>\n",
       "      <td>113612.0</td>\n",
       "      <td>2923772.0</td>\n",
       "    </tr>\n",
       "    <tr>\n",
       "      <th>2016/09</th>\n",
       "      <td>NaN</td>\n",
       "      <td>843696.0</td>\n",
       "      <td>1788445.0</td>\n",
       "      <td>172688.0</td>\n",
       "      <td>NaN</td>\n",
       "      <td>37963.0</td>\n",
       "      <td>71513.0</td>\n",
       "      <td>NaN</td>\n",
       "      <td>NaN</td>\n",
       "      <td>302641.0</td>\n",
       "      <td>161261.0</td>\n",
       "      <td>3378207.0</td>\n",
       "    </tr>\n",
       "    <tr>\n",
       "      <th>2016/10</th>\n",
       "      <td>NaN</td>\n",
       "      <td>784882.0</td>\n",
       "      <td>2080459.0</td>\n",
       "      <td>380387.0</td>\n",
       "      <td>NaN</td>\n",
       "      <td>3.0</td>\n",
       "      <td>45319.0</td>\n",
       "      <td>NaN</td>\n",
       "      <td>NaN</td>\n",
       "      <td>831893.0</td>\n",
       "      <td>227547.0</td>\n",
       "      <td>4350490.0</td>\n",
       "    </tr>\n",
       "    <tr>\n",
       "      <th>2016/11</th>\n",
       "      <td>NaN</td>\n",
       "      <td>987119.0</td>\n",
       "      <td>1905395.0</td>\n",
       "      <td>350509.0</td>\n",
       "      <td>NaN</td>\n",
       "      <td>23429.0</td>\n",
       "      <td>98703.0</td>\n",
       "      <td>NaN</td>\n",
       "      <td>NaN</td>\n",
       "      <td>841687.0</td>\n",
       "      <td>145597.0</td>\n",
       "      <td>4352439.0</td>\n",
       "    </tr>\n",
       "    <tr>\n",
       "      <th>2016/12</th>\n",
       "      <td>NaN</td>\n",
       "      <td>1018084.0</td>\n",
       "      <td>1783496.0</td>\n",
       "      <td>174375.0</td>\n",
       "      <td>NaN</td>\n",
       "      <td>91615.0</td>\n",
       "      <td>74246.0</td>\n",
       "      <td>NaN</td>\n",
       "      <td>NaN</td>\n",
       "      <td>480049.0</td>\n",
       "      <td>31477.0</td>\n",
       "      <td>3653341.0</td>\n",
       "    </tr>\n",
       "    <tr>\n",
       "      <th>2017/01</th>\n",
       "      <td>NaN</td>\n",
       "      <td>442769.0</td>\n",
       "      <td>1138666.0</td>\n",
       "      <td>201930.0</td>\n",
       "      <td>5743.0</td>\n",
       "      <td>17489.0</td>\n",
       "      <td>95751.0</td>\n",
       "      <td>NaN</td>\n",
       "      <td>NaN</td>\n",
       "      <td>264591.0</td>\n",
       "      <td>212558.0</td>\n",
       "      <td>2379496.0</td>\n",
       "    </tr>\n",
       "    <tr>\n",
       "      <th>2017/02</th>\n",
       "      <td>NaN</td>\n",
       "      <td>419031.0</td>\n",
       "      <td>947721.0</td>\n",
       "      <td>175352.0</td>\n",
       "      <td>6835.0</td>\n",
       "      <td>16691.0</td>\n",
       "      <td>131737.0</td>\n",
       "      <td>NaN</td>\n",
       "      <td>NaN</td>\n",
       "      <td>518240.0</td>\n",
       "      <td>228212.0</td>\n",
       "      <td>2443819.0</td>\n",
       "    </tr>\n",
       "    <tr>\n",
       "      <th>2017/03</th>\n",
       "      <td>NaN</td>\n",
       "      <td>596981.0</td>\n",
       "      <td>1165207.0</td>\n",
       "      <td>139000.0</td>\n",
       "      <td>5570.0</td>\n",
       "      <td>33715.0</td>\n",
       "      <td>266813.0</td>\n",
       "      <td>0.0</td>\n",
       "      <td>14250.0</td>\n",
       "      <td>433708.0</td>\n",
       "      <td>237404.0</td>\n",
       "      <td>2892649.0</td>\n",
       "    </tr>\n",
       "    <tr>\n",
       "      <th>2017/04</th>\n",
       "      <td>25278.0</td>\n",
       "      <td>593276.0</td>\n",
       "      <td>1188412.0</td>\n",
       "      <td>132948.0</td>\n",
       "      <td>22024.0</td>\n",
       "      <td>23500.0</td>\n",
       "      <td>234321.0</td>\n",
       "      <td>NaN</td>\n",
       "      <td>1.0</td>\n",
       "      <td>518357.0</td>\n",
       "      <td>147026.0</td>\n",
       "      <td>2885142.0</td>\n",
       "    </tr>\n",
       "    <tr>\n",
       "      <th>2017/05</th>\n",
       "      <td>20469.0</td>\n",
       "      <td>298205.0</td>\n",
       "      <td>926253.0</td>\n",
       "      <td>63504.0</td>\n",
       "      <td>31687.0</td>\n",
       "      <td>37394.0</td>\n",
       "      <td>237539.0</td>\n",
       "      <td>2.0</td>\n",
       "      <td>7860.0</td>\n",
       "      <td>483277.0</td>\n",
       "      <td>97798.0</td>\n",
       "      <td>2203986.0</td>\n",
       "    </tr>\n",
       "    <tr>\n",
       "      <th>All</th>\n",
       "      <td>45747.0</td>\n",
       "      <td>10908988.0</td>\n",
       "      <td>28617737.0</td>\n",
       "      <td>3552351.0</td>\n",
       "      <td>71860.0</td>\n",
       "      <td>330999.0</td>\n",
       "      <td>1524380.0</td>\n",
       "      <td>2.0</td>\n",
       "      <td>22110.0</td>\n",
       "      <td>5279405.0</td>\n",
       "      <td>2460233.0</td>\n",
       "      <td>52813811.0</td>\n",
       "    </tr>\n",
       "  </tbody>\n",
       "</table>\n",
       "</div>"
      ],
      "text/plain": [
       "DSP          AAP         DBM                        RocketFuel       TTD  \\\n",
       "Type     General     General               TrueView    General   General   \n",
       "Public       N/A          No         Yes        N/A        Yes        No   \n",
       "Month                                                                      \n",
       "2016/01      NaN    462491.0   2015535.0   126240.0        NaN       NaN   \n",
       "2016/02      NaN    599799.0   2321375.0   180716.0        NaN       NaN   \n",
       "2016/03      NaN   1042068.0   2574432.0   279131.0        NaN       NaN   \n",
       "2016/04      NaN    525837.0   2141692.0   371005.0        NaN       NaN   \n",
       "2016/05      NaN    537853.0   1718345.0   153631.0        NaN       NaN   \n",
       "2016/06      NaN    601384.0   1900652.0   286835.0        NaN       NaN   \n",
       "2016/07      NaN    470456.0   1444104.0   225570.0        NaN   19428.0   \n",
       "2016/08      NaN    685058.0   1577548.0   138528.0        NaN   29773.0   \n",
       "2016/09      NaN    843696.0   1788445.0   172688.0        NaN   37963.0   \n",
       "2016/10      NaN    784882.0   2080459.0   380387.0        NaN       3.0   \n",
       "2016/11      NaN    987119.0   1905395.0   350509.0        NaN   23429.0   \n",
       "2016/12      NaN   1018084.0   1783496.0   174375.0        NaN   91615.0   \n",
       "2017/01      NaN    442769.0   1138666.0   201930.0     5743.0   17489.0   \n",
       "2017/02      NaN    419031.0    947721.0   175352.0     6835.0   16691.0   \n",
       "2017/03      NaN    596981.0   1165207.0   139000.0     5570.0   33715.0   \n",
       "2017/04  25278.0    593276.0   1188412.0   132948.0    22024.0   23500.0   \n",
       "2017/05  20469.0    298205.0    926253.0    63504.0    31687.0   37394.0   \n",
       "All      45747.0  10908988.0  28617737.0  3552351.0    71860.0  330999.0   \n",
       "\n",
       "DSP                   TURN           Videology                    All  \n",
       "Type               General           Channel 4    General              \n",
       "Public         Yes      No      Yes        N/A        N/A              \n",
       "Month                                                                  \n",
       "2016/01        0.0     NaN      NaN        NaN        NaN   2604266.0  \n",
       "2016/02        0.0     NaN      NaN        NaN        NaN   3101890.0  \n",
       "2016/03        NaN     NaN      NaN        NaN        NaN   3895631.0  \n",
       "2016/04     2615.0     NaN      NaN        NaN        NaN   3041149.0  \n",
       "2016/05    19819.0     NaN      NaN   121445.0   341517.0   2892609.0  \n",
       "2016/06    21837.0     NaN      NaN   163329.0   353411.0   3327449.0  \n",
       "2016/07    60549.0     NaN      NaN   104554.0   162814.0   2487475.0  \n",
       "2016/08   163617.0     NaN      NaN   215635.0   113612.0   2923772.0  \n",
       "2016/09    71513.0     NaN      NaN   302641.0   161261.0   3378207.0  \n",
       "2016/10    45319.0     NaN      NaN   831893.0   227547.0   4350490.0  \n",
       "2016/11    98703.0     NaN      NaN   841687.0   145597.0   4352439.0  \n",
       "2016/12    74246.0     NaN      NaN   480049.0    31477.0   3653341.0  \n",
       "2017/01    95751.0     NaN      NaN   264591.0   212558.0   2379496.0  \n",
       "2017/02   131737.0     NaN      NaN   518240.0   228212.0   2443819.0  \n",
       "2017/03   266813.0     0.0  14250.0   433708.0   237404.0   2892649.0  \n",
       "2017/04   234321.0     NaN      1.0   518357.0   147026.0   2885142.0  \n",
       "2017/05   237539.0     2.0   7860.0   483277.0    97798.0   2203986.0  \n",
       "All      1524380.0     2.0  22110.0  5279405.0  2460233.0  52813811.0  "
      ]
     },
     "execution_count": 189,
     "metadata": {},
     "output_type": "execute_result"
    }
   ],
   "source": [
    "data.pivot_table(values=\"cSpend\", index=\"Month\", columns=[\"DSP\", \"Type\", \"Public\"], aggfunc=np.sum, margins=True).round()"
   ]
  },
  {
   "cell_type": "code",
   "execution_count": null,
   "metadata": {
    "collapsed": true
   },
   "outputs": [],
   "source": []
  }
 ],
 "metadata": {
  "anaconda-cloud": {},
  "kernelspec": {
   "display_name": "Python [conda root]",
   "language": "python",
   "name": "conda-root-py"
  },
  "language_info": {
   "codemirror_mode": {
    "name": "ipython",
    "version": 3
   },
   "file_extension": ".py",
   "mimetype": "text/x-python",
   "name": "python",
   "nbconvert_exporter": "python",
   "pygments_lexer": "ipython3",
   "version": "3.5.2"
  }
 },
 "nbformat": 4,
 "nbformat_minor": 1
}
