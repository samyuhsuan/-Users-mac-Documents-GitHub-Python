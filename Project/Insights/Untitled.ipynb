{
 "cells": [
  {
   "cell_type": "code",
   "execution_count": 143,
   "metadata": {
    "collapsed": true
   },
   "outputs": [],
   "source": [
    "import numpy as np\n",
    "import pandas as pd\n",
    "import seaborn as sns\n",
    "import matplotlib.pyplot as plt\n",
    "%matplotlib inline"
   ]
  },
  {
   "cell_type": "code",
   "execution_count": 51,
   "metadata": {},
   "outputs": [
    {
     "name": "stderr",
     "output_type": "stream",
     "text": [
      "b'Skipping line 118719: expected 13 fields, saw 52\\n'\n",
      "C:\\Users\\ylin\\AppData\\Local\\Continuum\\Anaconda3\\lib\\site-packages\\IPython\\core\\interactiveshell.py:2717: DtypeWarning: Columns (1) have mixed types. Specify dtype option on import or set low_memory=False.\n",
      "  interactivity=interactivity, compiler=compiler, result=result)\n"
     ]
    }
   ],
   "source": [
    "data = pd.read_csv(\"Audience composition example.csv\", error_bad_lines=False)"
   ]
  },
  {
   "cell_type": "code",
   "execution_count": 52,
   "metadata": {
    "collapsed": true
   },
   "outputs": [],
   "source": [
    "data = data.loc[data[\"Unique Cookies with Impressions\"].isnull() == False,:]"
   ]
  },
  {
   "cell_type": "code",
   "execution_count": 53,
   "metadata": {
    "collapsed": true
   },
   "outputs": [],
   "source": [
    "data = data.loc[:, ['Audience List', 'Audience List ID','Eligible Cookies on First-Party Audience List', 'Audience List.1',\n",
    "       'Audience List ID.1', 'Audience List Type.1',\n",
    "       'Audience List Cost (USD).1',\n",
    "       'Eligible Cookies on Third-Party Audience List & Interest',\n",
    "       'Match Ratio', 'Potential Impressions',\n",
    "       'Unique Cookies with Impressions']]"
   ]
  },
  {
   "cell_type": "code",
   "execution_count": 54,
   "metadata": {
    "collapsed": true
   },
   "outputs": [],
   "source": [
    "data.columns = ['Fst_Name', 'Fst_ID', 'Fst_Size', 'Trd_Name',\n",
    "       'Trd_ID', 'Trd_Type', 'Trd_Cost_USD', 'Trd_Size',\n",
    "       'Match_Ratio', 'Potential_Impressions','Unique_Overlap']"
   ]
  },
  {
   "cell_type": "code",
   "execution_count": 55,
   "metadata": {
    "collapsed": true
   },
   "outputs": [],
   "source": [
    "#1. assuming population base\n",
    "#2. 1st party eligible cookies / population base = threshold%\n",
    "#3. 1 / threshold% = TP (minimum amount of 3rd party cookies required)\n",
    "#4. filter out: Uniques cookies with impressions < threshold \n",
    "#5. sort it by match ratio "
   ]
  },
  {
   "cell_type": "markdown",
   "metadata": {},
   "source": [
    "---"
   ]
  },
  {
   "cell_type": "code",
   "execution_count": 56,
   "metadata": {},
   "outputs": [
    {
     "name": "stdout",
     "output_type": "stream",
     "text": [
      "4.0773475e-05 24525.7486638\n"
     ]
    }
   ],
   "source": [
    "#1. population assumption as base (important assumption as it affects how strigent the threshold is)\n",
    "#below sets at 40 billions (Calculation shows 40 billion is what Google use to calculate match ratio)\n",
    "pop = 40000000000\n",
    "#2. 1st party eligible cookies / population base = threshold% = TP_Percentage\n",
    "TP_Percentage = data.Fst_Size[0] / pop \n",
    "#3. 1 / threshold% = TP (minimum amount of 3rd party cookies required)\n",
    "TP = 1 / TP_Percentage\n",
    "print(TP_Percentage, TP)"
   ]
  },
  {
   "cell_type": "markdown",
   "metadata": {
    "collapsed": true
   },
   "source": [
    "---"
   ]
  },
  {
   "cell_type": "code",
   "execution_count": 57,
   "metadata": {
    "collapsed": true
   },
   "outputs": [],
   "source": [
    "#4. filter out: Uniques cookies with impressions < threshold \n",
    "#5. sort it by match ratio \n",
    "data = data.loc[data.Trd_Size > TP,:].sort_values(\"Match_Ratio\",ascending=False).reset_index(drop=True)"
   ]
  },
  {
   "cell_type": "markdown",
   "metadata": {},
   "source": [
    "---"
   ]
  },
  {
   "cell_type": "code",
   "execution_count": 69,
   "metadata": {
    "collapsed": true
   },
   "outputs": [],
   "source": [
    "#Below we do the top 50 and top 100 segments"
   ]
  },
  {
   "cell_type": "code",
   "execution_count": 58,
   "metadata": {
    "collapsed": true
   },
   "outputs": [],
   "source": [
    "output = data.loc[:, ['Trd_Name', 'Trd_ID', 'Trd_Type',\n",
    "       'Trd_Cost_USD', 'Trd_Size', 'Match_Ratio', 'Potential_Impressions',\n",
    "       'Unique_Overlap']]"
   ]
  },
  {
   "cell_type": "code",
   "execution_count": 59,
   "metadata": {},
   "outputs": [],
   "source": [
    "output = output.loc[~output.Trd_Name.str.contains(\"Deleted\"),:]\n",
    "output = output.loc[output.Trd_Name.str[1:4] != \"Old\",:]"
   ]
  },
  {
   "cell_type": "code",
   "execution_count": 65,
   "metadata": {
    "collapsed": true
   },
   "outputs": [],
   "source": [
    "output_top50 = output.loc[:50, \"Trd_Name\"].sort_values(ascending=True).reset_index(drop=True)\n",
    "output_top100 = output.loc[:100, \"Trd_Name\"].sort_values(ascending=True).reset_index(drop=True)"
   ]
  },
  {
   "cell_type": "code",
   "execution_count": 77,
   "metadata": {},
   "outputs": [],
   "source": [
    "list1 = output.loc[:100, \"Trd_Name\"].sort_values(ascending=True).reset_index(drop=True)"
   ]
  },
  {
   "cell_type": "code",
   "execution_count": 78,
   "metadata": {},
   "outputs": [
    {
     "name": "stdout",
     "output_type": "stream",
     "text": [
      "Acxiom UK » Automotive » Car SMMT code » E+ (Executive/Luxury/Sport)\n",
      "Acxiom UK » Automotive » Likely Age of Car » 0-3 years\n",
      "Acxiom UK » Automotive » Purchase Behaviour » Tends to buy Car under 3 years old\n",
      "Acxiom UK » Debt/Credit » Cards » 3+ Credit Cards\n",
      "Acxiom UK » Debt/Credit » Cards » Have American Express/Diners Club card\n",
      "Acxiom UK » Demographics & Lifestage » Age » 50-54 years\n",
      "Acxiom UK » Demographics & Lifestage » Age » 55-59 years\n",
      "Acxiom UK » Demographics & Lifestage » Children » 2 Children\n",
      "Acxiom UK » Demographics & Lifestage » Lifestage » 3: Older Couples (35-54)\n",
      "Acxiom UK » Economic Wellbeing/Income » Annual Household Income » 7: £75,000+\n",
      "Acxiom UK » Economic Wellbeing/Income » Employment Status » 2: Company Director\n",
      "Acxiom UK » Economic Wellbeing/Income » High Affluence (top 30%)\n",
      "Acxiom UK » Economic Wellbeing/Income » Occupation » 7: Professional/Senior Management\n",
      "Acxiom UK » Geography » Region » East Anglia\n",
      "Acxiom UK » Home & Property » Home Owner Maturity » Likely to be mortgaged as 2nd time buyer\n",
      "Acxiom UK » Home & Property » Property Type » 4: Detached\n",
      "Acxiom UK » Insurance » Home Insurance Spend likely to be 74% above UK average\n",
      "Acxiom UK » Insurance » Motor Insurance Expiry Month » 02: February\n",
      "Acxiom UK » Investment Services » Have High Interest Investments\n",
      "Acxiom UK » Investment Services » Have ISA\n",
      "Acxiom UK » Investment Services » Have Stocks/Shares\n",
      "Acxiom UK » Investment Services » High Investment Activity\n",
      "Acxiom UK » Investment Services » Savings and Investments Spend likely to be 3.6x UK average\n",
      "Acxiom UK » Lifestyle and Interests » Interest in Golf\n",
      "Acxiom UK » Lifestyle and Interests » Interest in National Trust\n",
      "Acxiom UK » Personicx Consumer Segments » 11: Smart Ambitions [YH211]\n",
      "Acxiom UK » Personicx Consumer Segments » 16: Switched-On and Savvy [FH116]\n",
      "Acxiom UK » Personicx Consumer Segments » 20: Sporty Families [FH220]\n",
      "Acxiom UK » Personicx Consumer Segments » 21: Established Elite [FH121]\n",
      "Acxiom UK » Personicx Consumer Segments » 23: Smart Money [FH223]\n",
      "Acxiom UK » Personicx Consumer Segments » 28: Professional Portfolio [FH228]\n",
      "Acxiom UK » Personicx Consumer Segments » 29: Prudent Families [FM329]\n",
      "Acxiom UK » Personicx Consumer Segments » 32: Good Value [XM332]\n",
      "Acxiom UK » Personicx Consumer Segments » 33: Wealthy Worldly and Wise [XH333]\n",
      "Acxiom UK » Personicx Consumer Segments » 35: Successful Living [FH235]\n",
      "Acxiom UK » Personicx Consumer Segments » 36: Rich Reserves [XH236]\n",
      "Acxiom UK » Personicx Consumer Segments » 38: Cultural Connoisseurs [XH238]\n",
      "Acxiom UK » Personicx Consumer Segments » 39: Salt of Society [XM439]\n",
      "Acxiom UK » Personicx Consumer Segments » 43: Mortgage-Free Jet Set [XH343]\n",
      "Acxiom UK » Personicx Consumer Segments » 46: Country Life [XH446]\n",
      "Acxiom UK » Personicx Consumer Segments » 48: Community Spirited [RM548]\n",
      "Acxiom UK » Personicx Consumer Segments » 52: Restricted Retirement [RL552]\n",
      "Acxiom UK » Retail » General Personal Effects Spend likely to be 2.6x UK average » General Personal effects (above average spend)\n",
      "Acxiom UK » Retail » Likely to regularly buy Groceries Online\n",
      "Acxiom UK » Technology » Consumer Electronics Audience Segments » 02: Tech savvy financially comfortable established couples & families\n",
      "Acxiom UK » Travel » Holiday and Travel Spend » Likely to spend 2.4x UK average on UK Holidays\n",
      "Acxiom UK » Travel » Holiday and Travel Spend » Likely to spend 2.5x UK average on Holidays\n",
      "Acxiom UK » Travel » Likely Holiday Destination » USA\n",
      "Acxiom UK » Travel » Skiing/Boarding as a regular hobby\n",
      "AddThis - UK » In-Market » Auto » Class » Hatchback\n",
      "AddThis - UK » In-Market » Financial » Insurance » Auto Insurance\n",
      "AddThis - UK » In-Market » Financial » Insurance » Home Insurance\n",
      "AddThis - UK » In-Market » Financial » Insurance » Life Insurance\n",
      "AddThis - UK » In-Market » Travel » Holiday Type » Travel Insurance\n",
      "Bluekai - Branded Data » On Audience » Intent » Finance » Insurance\n",
      "Bluekai - Branded Data » On Audience » Interest » Personal Finance » Insurance\n",
      "Eyeota - CACI - UK » Acorn » Type » 04 Asset Rich Families\n",
      "Eyeota - CACI - UK » Acorn » Type » 08 Prosperous Suburban Families\n",
      "Eyeota - Experian - UK » FSS » Type E14 New Nesters\n",
      "Eyeota - ShareThis - EMEA » Arts and Entertainment » Visual Art and Design » Art and Craft Supplies\n",
      "Eyeota - ShareThis - EMEA » Autos and Vehicles » Bicycles and Accessories\n",
      "Eyeota - ShareThis - EMEA » Autos and Vehicles » Bicycles and Accessories » Mountain Bikes\n",
      "Eyeota - ShareThis - EMEA » Autos and Vehicles » Classic Vehicles\n",
      "Eyeota - ShareThis - EMEA » Autos and Vehicles » Trucks and Suvs » Trucks\n",
      "Eyeota - ShareThis - EMEA » Autos and Vehicles » Vehicle Brands » Land Rover\n",
      "Eyeota - ShareThis - EMEA » Autos and Vehicles » Vehicle Brands » Maserati\n",
      "Eyeota - ShareThis - EMEA » Autos and Vehicles » Vehicle Brands » Volkswagen\n",
      "Eyeota - ShareThis - EMEA » Autos and Vehicles » Vehicle Codes and Driving Laws\n",
      "Eyeota - ShareThis - EMEA » Business and Industrial » Agriculture and Forestry » Farms and Ranches\n",
      "Eyeota - ShareThis - EMEA » Business and Industrial » Construction and Maintenance » Building Materials and Supplies\n",
      "Eyeota - ShareThis - EMEA » Business and Industrial » Energy and Utilities » Waste Management\n",
      "Eyeota - ShareThis - EMEA » Food and Drink » Restaurants » Catering\n",
      "Eyeota - ShareThis - EMEA » Food and Drink » Restaurants » Fine Dining\n",
      "Eyeota - ShareThis - EMEA » Health » Vision Care\n",
      "Eyeota - ShareThis - EMEA » Hobbies and Leisure » Water Activities » Diving and Underwater Activities\n",
      "Eyeota - ShareThis - EMEA » Home and Garden » Bed and Bath » Bathroom\n",
      "Eyeota - ShareThis - EMEA » Home and Garden » Home Appliances\n",
      "Eyeota - ShareThis - EMEA » Home and Garden » Home Improvement » Construction and Power Tools\n",
      "Eyeota - ShareThis - EMEA » Home and Garden » Home Improvement » Flooring\n",
      "Eyeota - ShareThis - EMEA » Home and Garden » Home Improvement » Plumbing\n",
      "Eyeota - ShareThis - EMEA » Home and Garden » Home Improvement » Roofing\n",
      "Eyeota - ShareThis - EMEA » People and Society » Seniors and Retirement\n",
      "Eyeota - ShareThis - EMEA » Shopping » Consumer Resources » Product Reviews and Price Comparisons\n",
      "Eyeota - ShareThis - EMEA » Sports » Individual Sports » Cycling\n",
      "Eyeota - ShareThis - Global excluding US and EMEA » Autos and Vehicles » Vehicle Brands » Maserati\n",
      "LiveRamp Data Store » GBG Transactis » UK » Age Band 50-54\n",
      "LiveRamp Data Store » GBG Transactis » UK » Books/Games/Music Buyers Category\n",
      "LiveRamp Data Store » GBG Transactis » UK » Books/Games/Music Category Spend\n",
      "LiveRamp Data Store » GBG Transactis » UK » Credit Card Owners\n",
      "LiveRamp Data Store » GBG Transactis » UK » Food & Drink/Food & Drink Products Buyers\n",
      "LiveRamp Data Store » GBG Transactis » UK » Food and Drink Category Spend\n",
      "LiveRamp Data Store » GBG Transactis » UK » High End/Luxury Goods Consumer\n",
      "LiveRamp Data Store » GBG Transactis » UK » Income GBP50,000 - GBP59,0000\n",
      "LiveRamp Data Store » GBG Transactis » UK » Order Channel In Store\n",
      "LiveRamp Data Store » GBG Transactis » UK » Payment Method Voucher\n",
      "eXelate » ShareThis » UK » Autos & Vehicles » Trucks & Suvs » Suvs\n",
      "eXelate » eXelate maX Masked T1602\n"
     ]
    }
   ],
   "source": [
    "i = 0\n",
    "while i < len(list1):\n",
    "    print(list1[i])\n",
    "    i = i + 1"
   ]
  },
  {
   "cell_type": "code",
   "execution_count": 11,
   "metadata": {},
   "outputs": [
    {
     "data": {
      "text/html": [
       "<div>\n",
       "<style>\n",
       "    .dataframe thead tr:only-child th {\n",
       "        text-align: right;\n",
       "    }\n",
       "\n",
       "    .dataframe thead th {\n",
       "        text-align: left;\n",
       "    }\n",
       "\n",
       "    .dataframe tbody tr th {\n",
       "        vertical-align: top;\n",
       "    }\n",
       "</style>\n",
       "<table border=\"1\" class=\"dataframe\">\n",
       "  <thead>\n",
       "    <tr style=\"text-align: right;\">\n",
       "      <th></th>\n",
       "      <th>Trd_Name</th>\n",
       "      <th>Trd_ID</th>\n",
       "      <th>Trd_Type</th>\n",
       "      <th>Trd_Cost_USD</th>\n",
       "      <th>Trd_Size</th>\n",
       "      <th>Match_Ratio</th>\n",
       "      <th>Potential_Impressions</th>\n",
       "      <th>Unique_Overlap</th>\n",
       "    </tr>\n",
       "  </thead>\n",
       "  <tbody>\n",
       "  </tbody>\n",
       "</table>\n",
       "</div>"
      ],
      "text/plain": [
       "Empty DataFrame\n",
       "Columns: [Trd_Name, Trd_ID, Trd_Type, Trd_Cost_USD, Trd_Size, Match_Ratio, Potential_Impressions, Unique_Overlap]\n",
       "Index: []"
      ]
     },
     "execution_count": 11,
     "metadata": {},
     "output_type": "execute_result"
    }
   ],
   "source": [
    "output[(output.Trd_Name.str.contains(\"BlueKai\")) & (output.Trd_Type == 'Bid Manager Audiences')]"
   ]
  },
  {
   "cell_type": "code",
   "execution_count": 149,
   "metadata": {},
   "outputs": [
    {
     "data": {
      "text/html": [
       "<div>\n",
       "<style>\n",
       "    .dataframe thead tr:only-child th {\n",
       "        text-align: right;\n",
       "    }\n",
       "\n",
       "    .dataframe thead th {\n",
       "        text-align: left;\n",
       "    }\n",
       "\n",
       "    .dataframe tbody tr th {\n",
       "        vertical-align: top;\n",
       "    }\n",
       "</style>\n",
       "<table border=\"1\" class=\"dataframe\">\n",
       "  <thead>\n",
       "    <tr style=\"text-align: right;\">\n",
       "      <th></th>\n",
       "      <th>Trd_Name</th>\n",
       "      <th>Trd_ID</th>\n",
       "      <th>Trd_Type</th>\n",
       "      <th>Trd_Cost_USD</th>\n",
       "      <th>Trd_Size</th>\n",
       "      <th>Match_Ratio</th>\n",
       "      <th>Potential_Impressions</th>\n",
       "      <th>Unique_Overlap</th>\n",
       "    </tr>\n",
       "  </thead>\n",
       "  <tbody>\n",
       "  </tbody>\n",
       "</table>\n",
       "</div>"
      ],
      "text/plain": [
       "Empty DataFrame\n",
       "Columns: [Trd_Name, Trd_ID, Trd_Type, Trd_Cost_USD, Trd_Size, Match_Ratio, Potential_Impressions, Unique_Overlap]\n",
       "Index: []"
      ]
     },
     "execution_count": 149,
     "metadata": {},
     "output_type": "execute_result"
    }
   ],
   "source": [
    "output[(output.Trd_Name.str.contains(\"BlueKai\")) & (output.Trd_Name.str.contains(\"Bid Manager\"))].sort_values(\"Trd_Size\", ascending=False)"
   ]
  },
  {
   "cell_type": "markdown",
   "metadata": {},
   "source": [
    "---"
   ]
  },
  {
   "cell_type": "code",
   "execution_count": 70,
   "metadata": {
    "collapsed": true
   },
   "outputs": [],
   "source": [
    "#Below we do the standard demo/age segments"
   ]
  },
  {
   "cell_type": "code",
   "execution_count": 133,
   "metadata": {
    "collapsed": true
   },
   "outputs": [],
   "source": [
    "match = pd.read_csv(\"segment_match_table.csv\", error_bad_lines=False)"
   ]
  },
  {
   "cell_type": "code",
   "execution_count": 134,
   "metadata": {},
   "outputs": [],
   "source": [
    "#Have chosen Axciom for its relatively strong reach and higher match ratio generally speaking\n",
    "#Axciom age data \n",
    "output_age = output.loc[output.Trd_ID.isin([413303512, 413303575, 413682608, 413302702, \n",
    "                               415218099, 413302699, 415218093, 413303584, 415218102, \n",
    "                               413303578, 413303581, 415218096]),:].sort_values(\"Trd_Name\", ascending=True).reset_index(drop=True)"
   ]
  },
  {
   "cell_type": "code",
   "execution_count": 135,
   "metadata": {},
   "outputs": [],
   "source": [
    "output_age = output_age.merge(match[[\"Trd_ID\", \"Map_Name\"]], on=\"Trd_ID\", how=\"left\")\n",
    "output_age = output_age.loc[:, [\"Map_Name\", \"Match_Ratio\"]]"
   ]
  },
  {
   "cell_type": "code",
   "execution_count": 136,
   "metadata": {},
   "outputs": [],
   "source": [
    "output_age[\"Index\"] = output_age.Match_Ratio / (np.sum(output_age.Match_Ratio) / len(output_age.Match_Ratio)) * 100"
   ]
  },
  {
   "cell_type": "code",
   "execution_count": 137,
   "metadata": {},
   "outputs": [
    {
     "data": {
      "text/html": [
       "<div>\n",
       "<style>\n",
       "    .dataframe thead tr:only-child th {\n",
       "        text-align: right;\n",
       "    }\n",
       "\n",
       "    .dataframe thead th {\n",
       "        text-align: left;\n",
       "    }\n",
       "\n",
       "    .dataframe tbody tr th {\n",
       "        vertical-align: top;\n",
       "    }\n",
       "</style>\n",
       "<table border=\"1\" class=\"dataframe\">\n",
       "  <thead>\n",
       "    <tr style=\"text-align: right;\">\n",
       "      <th></th>\n",
       "      <th>Map_Name</th>\n",
       "      <th>Match_Ratio</th>\n",
       "      <th>Index</th>\n",
       "    </tr>\n",
       "  </thead>\n",
       "  <tbody>\n",
       "    <tr>\n",
       "      <th>0</th>\n",
       "      <td>Age 18 - 24</td>\n",
       "      <td>138.609674</td>\n",
       "      <td>54.646441</td>\n",
       "    </tr>\n",
       "    <tr>\n",
       "      <th>1</th>\n",
       "      <td>Age 25 - 29</td>\n",
       "      <td>182.029231</td>\n",
       "      <td>71.764469</td>\n",
       "    </tr>\n",
       "    <tr>\n",
       "      <th>2</th>\n",
       "      <td>Age 30 - 34</td>\n",
       "      <td>229.156896</td>\n",
       "      <td>90.344407</td>\n",
       "    </tr>\n",
       "    <tr>\n",
       "      <th>3</th>\n",
       "      <td>Age 35 - 39</td>\n",
       "      <td>250.493282</td>\n",
       "      <td>98.756212</td>\n",
       "    </tr>\n",
       "    <tr>\n",
       "      <th>4</th>\n",
       "      <td>Age 40 - 44</td>\n",
       "      <td>287.769046</td>\n",
       "      <td>113.452068</td>\n",
       "    </tr>\n",
       "    <tr>\n",
       "      <th>5</th>\n",
       "      <td>Age 45 - 49</td>\n",
       "      <td>295.747275</td>\n",
       "      <td>116.597460</td>\n",
       "    </tr>\n",
       "    <tr>\n",
       "      <th>6</th>\n",
       "      <td>Age 50 - 54</td>\n",
       "      <td>321.464833</td>\n",
       "      <td>126.736529</td>\n",
       "    </tr>\n",
       "    <tr>\n",
       "      <th>7</th>\n",
       "      <td>Age 55 - 59</td>\n",
       "      <td>317.158740</td>\n",
       "      <td>125.038865</td>\n",
       "    </tr>\n",
       "    <tr>\n",
       "      <th>8</th>\n",
       "      <td>Age 60 - 64</td>\n",
       "      <td>268.597142</td>\n",
       "      <td>105.893603</td>\n",
       "    </tr>\n",
       "    <tr>\n",
       "      <th>9</th>\n",
       "      <td>Age 65 - 69</td>\n",
       "      <td>259.450755</td>\n",
       "      <td>102.287668</td>\n",
       "    </tr>\n",
       "    <tr>\n",
       "      <th>10</th>\n",
       "      <td>Age 70 - 74</td>\n",
       "      <td>257.289121</td>\n",
       "      <td>101.435451</td>\n",
       "    </tr>\n",
       "    <tr>\n",
       "      <th>11</th>\n",
       "      <td>Age 75 plus</td>\n",
       "      <td>236.011536</td>\n",
       "      <td>93.046828</td>\n",
       "    </tr>\n",
       "  </tbody>\n",
       "</table>\n",
       "</div>"
      ],
      "text/plain": [
       "       Map_Name  Match_Ratio       Index\n",
       "0   Age 18 - 24   138.609674   54.646441\n",
       "1   Age 25 - 29   182.029231   71.764469\n",
       "2   Age 30 - 34   229.156896   90.344407\n",
       "3   Age 35 - 39   250.493282   98.756212\n",
       "4   Age 40 - 44   287.769046  113.452068\n",
       "5   Age 45 - 49   295.747275  116.597460\n",
       "6   Age 50 - 54   321.464833  126.736529\n",
       "7   Age 55 - 59   317.158740  125.038865\n",
       "8   Age 60 - 64   268.597142  105.893603\n",
       "9   Age 65 - 69   259.450755  102.287668\n",
       "10  Age 70 - 74   257.289121  101.435451\n",
       "11  Age 75 plus   236.011536   93.046828"
      ]
     },
     "execution_count": 137,
     "metadata": {},
     "output_type": "execute_result"
    }
   ],
   "source": [
    "output_age"
   ]
  },
  {
   "cell_type": "code",
   "execution_count": 148,
   "metadata": {},
   "outputs": [
    {
     "data": {
      "text/plain": [
       "<matplotlib.axes._subplots.AxesSubplot at 0x10e51400>"
      ]
     },
     "execution_count": 148,
     "metadata": {},
     "output_type": "execute_result"
    },
    {
     "data": {
      "image/png": "[encoded data removed]",
      "text/plain": [
       "<matplotlib.figure.Figure at 0x10daad30>"
      ]
     },
     "metadata": {},
     "output_type": "display_data"
    }
   ],
   "source": [
    "sns.barplot(data=output_age, x=\"Map_Name\", y=\"Index\")"
   ]
  },
  {
   "cell_type": "code",
   "execution_count": null,
   "metadata": {
    "collapsed": true
   },
   "outputs": [],
   "source": [
    "sns.heatmap()"
   ]
  }
 ],
 "metadata": {
  "anaconda-cloud": {},
  "kernelspec": {
   "display_name": "Python 3",
   "language": "python",
   "name": "python3"
  },
  "language_info": {
   "codemirror_mode": {
    "name": "ipython",
    "version": 3
   },
   "file_extension": ".py",
   "mimetype": "text/x-python",
   "name": "python",
   "nbconvert_exporter": "python",
   "pygments_lexer": "ipython3",
   "version": "3.6.1"
  }
 },
 "nbformat": 4,
 "nbformat_minor": 2
}
