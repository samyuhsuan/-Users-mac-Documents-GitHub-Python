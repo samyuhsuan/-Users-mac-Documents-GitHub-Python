{
 "cells": [
  {
   "cell_type": "code",
   "execution_count": 1,
   "metadata": {
    "collapsed": true
   },
   "outputs": [],
   "source": [
    "import numpy as np\n",
    "import pandas as pd\n",
    "import seaborn as sns\n",
    "import matplotlib.pyplot as plt\n",
    "%matplotlib inline"
   ]
  },
  {
   "cell_type": "code",
   "execution_count": 2,
   "metadata": {
    "collapsed": false
   },
   "outputs": [
    {
     "name": "stderr",
     "output_type": "stream",
     "text": [
      "b'Skipping line 118719: expected 13 fields, saw 52\\n'\n",
      "/Applications/anaconda/lib/python3.5/site-packages/IPython/core/interactiveshell.py:2717: DtypeWarning: Columns (1) have mixed types. Specify dtype option on import or set low_memory=False.\n",
      "  interactivity=interactivity, compiler=compiler, result=result)\n"
     ]
    }
   ],
   "source": [
    "data = pd.read_csv(\"Audience composition example.csv\", error_bad_lines=False)"
   ]
  },
  {
   "cell_type": "code",
   "execution_count": 3,
   "metadata": {
    "collapsed": true
   },
   "outputs": [],
   "source": [
    "data = data.loc[data[\"Unique Cookies with Impressions\"].isnull() == False,:]"
   ]
  },
  {
   "cell_type": "code",
   "execution_count": 4,
   "metadata": {
    "collapsed": true
   },
   "outputs": [],
   "source": [
    "data = data.loc[:, ['Audience List', 'Audience List ID','Eligible Cookies on First-Party Audience List', 'Audience List.1',\n",
    "       'Audience List ID.1', 'Audience List Type.1',\n",
    "       'Audience List Cost (USD).1',\n",
    "       'Eligible Cookies on Third-Party Audience List & Interest',\n",
    "       'Match Ratio', 'Potential Impressions',\n",
    "       'Unique Cookies with Impressions']]"
   ]
  },
  {
   "cell_type": "code",
   "execution_count": 5,
   "metadata": {
    "collapsed": true
   },
   "outputs": [],
   "source": [
    "data.columns = ['Fst_Name', 'Fst_ID', 'Fst_Size', 'Trd_Name',\n",
    "       'Trd_ID', 'Trd_Type', 'Trd_Cost_USD', 'Trd_Size',\n",
    "       'Match_Ratio', 'Potential_Impressions','Unique_Overlap']"
   ]
  },
  {
   "cell_type": "code",
   "execution_count": 6,
   "metadata": {
    "collapsed": true
   },
   "outputs": [],
   "source": [
    "#1. assuming population base\n",
    "#2. 1st party eligible cookies / population base = threshold%\n",
    "#3. 1 / threshold% = TP (minimum amount of 3rd party cookies required)\n",
    "#4. filter out: Uniques cookies with impressions < threshold \n",
    "#5. sort it by match ratio "
   ]
  },
  {
   "cell_type": "markdown",
   "metadata": {},
   "source": [
    "---"
   ]
  },
  {
   "cell_type": "code",
   "execution_count": 7,
   "metadata": {
    "collapsed": false
   },
   "outputs": [
    {
     "name": "stdout",
     "output_type": "stream",
     "text": [
      "4.0773475e-05 24525.7486638\n"
     ]
    }
   ],
   "source": [
    "#1. population assumption as base (important assumption as it affects how strigent the threshold is)\n",
    "#below sets at 40 billions (Calculation shows 40 billion is what Google use to calculate match ratio)\n",
    "pop = 40000000000\n",
    "#2. 1st party eligible cookies / population base = threshold% = TP_Percentage\n",
    "TP_Percentage = data.Fst_Size[0] / pop \n",
    "#3. 1 / threshold% = TP (minimum amount of 3rd party cookies required)\n",
    "TP = 1 / TP_Percentage\n",
    "print(TP_Percentage, TP)"
   ]
  },
  {
   "cell_type": "markdown",
   "metadata": {
    "collapsed": true
   },
   "source": [
    "---"
   ]
  },
  {
   "cell_type": "code",
   "execution_count": 8,
   "metadata": {
    "collapsed": true
   },
   "outputs": [],
   "source": [
    "#4. filter out: Uniques cookies with impressions < threshold \n",
    "#5. sort it by match ratio \n",
    "data = data.loc[data.Trd_Size > TP,:].sort_values(\"Match_Ratio\",ascending=False).reset_index(drop=True)"
   ]
  },
  {
   "cell_type": "markdown",
   "metadata": {},
   "source": [
    "---"
   ]
  },
  {
   "cell_type": "code",
   "execution_count": 9,
   "metadata": {
    "collapsed": true
   },
   "outputs": [],
   "source": [
    "#Below we do the top 50 and top 100 segments"
   ]
  },
  {
   "cell_type": "code",
   "execution_count": 10,
   "metadata": {
    "collapsed": true
   },
   "outputs": [],
   "source": [
    "output = data.loc[:, ['Trd_Name', 'Trd_ID', 'Trd_Type',\n",
    "       'Trd_Cost_USD', 'Trd_Size', 'Match_Ratio', 'Potential_Impressions',\n",
    "       'Unique_Overlap']]"
   ]
  },
  {
   "cell_type": "code",
   "execution_count": 11,
   "metadata": {
    "collapsed": true
   },
   "outputs": [],
   "source": [
    "output = output.loc[~output.Trd_Name.str.contains(\"Deleted\"),:]\n",
    "output = output.loc[output.Trd_Name.str[1:4] != \"Old\",:]"
   ]
  },
  {
   "cell_type": "code",
   "execution_count": 12,
   "metadata": {
    "collapsed": true
   },
   "outputs": [],
   "source": [
    "output_top50 = output.loc[:50, \"Trd_Name\"].sort_values(ascending=True).reset_index(drop=True)\n",
    "output_top100 = output.loc[:100, \"Trd_Name\"].sort_values(ascending=True).reset_index(drop=True)"
   ]
  },
  {
   "cell_type": "code",
   "execution_count": 13,
   "metadata": {
    "collapsed": true
   },
   "outputs": [],
   "source": [
    "list1 = output.loc[:100, \"Trd_Name\"].sort_values(ascending=True).reset_index(drop=True)"
   ]
  },
  {
   "cell_type": "code",
   "execution_count": 14,
   "metadata": {
    "collapsed": false
   },
   "outputs": [
    {
     "name": "stdout",
     "output_type": "stream",
     "text": [
      "Acxiom UK » Automotive » Car SMMT code » E+ (Executive/Luxury/Sport)\n",
      "Acxiom UK » Automotive » Likely Age of Car » 0-3 years\n",
      "Acxiom UK » Automotive » Purchase Behaviour » Tends to buy Car under 3 years old\n",
      "Acxiom UK » Debt/Credit » Cards » 3+ Credit Cards\n",
      "Acxiom UK » Debt/Credit » Cards » Have American Express/Diners Club card\n",
      "Acxiom UK » Demographics & Lifestage » Age » 50-54 years\n",
      "Acxiom UK » Demographics & Lifestage » Age » 55-59 years\n",
      "Acxiom UK » Demographics & Lifestage » Children » 2 Children\n",
      "Acxiom UK » Demographics & Lifestage » Lifestage » 3: Older Couples (35-54)\n",
      "Acxiom UK » Economic Wellbeing/Income » Annual Household Income » 7: £75,000+\n",
      "Acxiom UK » Economic Wellbeing/Income » Employment Status » 2: Company Director\n",
      "Acxiom UK » Economic Wellbeing/Income » High Affluence (top 30%)\n",
      "Acxiom UK » Economic Wellbeing/Income » Occupation » 7: Professional/Senior Management\n",
      "Acxiom UK » Geography » Region » East Anglia\n",
      "Acxiom UK » Home & Property » Home Owner Maturity » Likely to be mortgaged as 2nd time buyer\n",
      "Acxiom UK » Home & Property » Property Type » 4: Detached\n",
      "Acxiom UK » Insurance » Home Insurance Spend likely to be 74% above UK average\n",
      "Acxiom UK » Insurance » Motor Insurance Expiry Month » 02: February\n",
      "Acxiom UK » Investment Services » Have High Interest Investments\n",
      "Acxiom UK » Investment Services » Have ISA\n",
      "Acxiom UK » Investment Services » Have Stocks/Shares\n",
      "Acxiom UK » Investment Services » High Investment Activity\n",
      "Acxiom UK » Investment Services » Savings and Investments Spend likely to be 3.6x UK average\n",
      "Acxiom UK » Lifestyle and Interests » Interest in Golf\n",
      "Acxiom UK » Lifestyle and Interests » Interest in National Trust\n",
      "Acxiom UK » Personicx Consumer Segments » 11: Smart Ambitions [YH211]\n",
      "Acxiom UK » Personicx Consumer Segments » 16: Switched-On and Savvy [FH116]\n",
      "Acxiom UK » Personicx Consumer Segments » 20: Sporty Families [FH220]\n",
      "Acxiom UK » Personicx Consumer Segments » 21: Established Elite [FH121]\n",
      "Acxiom UK » Personicx Consumer Segments » 23: Smart Money [FH223]\n",
      "Acxiom UK » Personicx Consumer Segments » 28: Professional Portfolio [FH228]\n",
      "Acxiom UK » Personicx Consumer Segments » 29: Prudent Families [FM329]\n",
      "Acxiom UK » Personicx Consumer Segments » 32: Good Value [XM332]\n",
      "Acxiom UK » Personicx Consumer Segments » 33: Wealthy Worldly and Wise [XH333]\n",
      "Acxiom UK » Personicx Consumer Segments » 35: Successful Living [FH235]\n",
      "Acxiom UK » Personicx Consumer Segments » 36: Rich Reserves [XH236]\n",
      "Acxiom UK » Personicx Consumer Segments » 38: Cultural Connoisseurs [XH238]\n",
      "Acxiom UK » Personicx Consumer Segments » 39: Salt of Society [XM439]\n",
      "Acxiom UK » Personicx Consumer Segments » 43: Mortgage-Free Jet Set [XH343]\n",
      "Acxiom UK » Personicx Consumer Segments » 46: Country Life [XH446]\n",
      "Acxiom UK » Personicx Consumer Segments » 48: Community Spirited [RM548]\n",
      "Acxiom UK » Personicx Consumer Segments » 52: Restricted Retirement [RL552]\n",
      "Acxiom UK » Retail » General Personal Effects Spend likely to be 2.6x UK average » General Personal effects (above average spend)\n",
      "Acxiom UK » Retail » Likely to regularly buy Groceries Online\n",
      "Acxiom UK » Technology » Consumer Electronics Audience Segments » 02: Tech savvy financially comfortable established couples & families\n",
      "Acxiom UK » Travel » Holiday and Travel Spend » Likely to spend 2.4x UK average on UK Holidays\n",
      "Acxiom UK » Travel » Holiday and Travel Spend » Likely to spend 2.5x UK average on Holidays\n",
      "Acxiom UK » Travel » Likely Holiday Destination » USA\n",
      "Acxiom UK » Travel » Skiing/Boarding as a regular hobby\n",
      "AddThis - UK » In-Market » Auto » Class » Hatchback\n",
      "AddThis - UK » In-Market » Financial » Insurance » Auto Insurance\n",
      "AddThis - UK » In-Market » Financial » Insurance » Home Insurance\n",
      "AddThis - UK » In-Market » Financial » Insurance » Life Insurance\n",
      "AddThis - UK » In-Market » Travel » Holiday Type » Travel Insurance\n",
      "Bluekai - Branded Data » On Audience » Intent » Finance » Insurance\n",
      "Bluekai - Branded Data » On Audience » Interest » Personal Finance » Insurance\n",
      "Eyeota - CACI - UK » Acorn » Type » 04 Asset Rich Families\n",
      "Eyeota - CACI - UK » Acorn » Type » 08 Prosperous Suburban Families\n",
      "Eyeota - Experian - UK » FSS » Type E14 New Nesters\n",
      "Eyeota - ShareThis - EMEA » Arts and Entertainment » Visual Art and Design » Art and Craft Supplies\n",
      "Eyeota - ShareThis - EMEA » Autos and Vehicles » Bicycles and Accessories\n",
      "Eyeota - ShareThis - EMEA » Autos and Vehicles » Bicycles and Accessories » Mountain Bikes\n",
      "Eyeota - ShareThis - EMEA » Autos and Vehicles » Classic Vehicles\n",
      "Eyeota - ShareThis - EMEA » Autos and Vehicles » Trucks and Suvs » Trucks\n",
      "Eyeota - ShareThis - EMEA » Autos and Vehicles » Vehicle Brands » Land Rover\n",
      "Eyeota - ShareThis - EMEA » Autos and Vehicles » Vehicle Brands » Maserati\n",
      "Eyeota - ShareThis - EMEA » Autos and Vehicles » Vehicle Brands » Volkswagen\n",
      "Eyeota - ShareThis - EMEA » Autos and Vehicles » Vehicle Codes and Driving Laws\n",
      "Eyeota - ShareThis - EMEA » Business and Industrial » Agriculture and Forestry » Farms and Ranches\n",
      "Eyeota - ShareThis - EMEA » Business and Industrial » Construction and Maintenance » Building Materials and Supplies\n",
      "Eyeota - ShareThis - EMEA » Business and Industrial » Energy and Utilities » Waste Management\n",
      "Eyeota - ShareThis - EMEA » Food and Drink » Restaurants » Catering\n",
      "Eyeota - ShareThis - EMEA » Food and Drink » Restaurants » Fine Dining\n",
      "Eyeota - ShareThis - EMEA » Health » Vision Care\n",
      "Eyeota - ShareThis - EMEA » Hobbies and Leisure » Water Activities » Diving and Underwater Activities\n",
      "Eyeota - ShareThis - EMEA » Home and Garden » Bed and Bath » Bathroom\n",
      "Eyeota - ShareThis - EMEA » Home and Garden » Home Appliances\n",
      "Eyeota - ShareThis - EMEA » Home and Garden » Home Improvement » Construction and Power Tools\n",
      "Eyeota - ShareThis - EMEA » Home and Garden » Home Improvement » Flooring\n",
      "Eyeota - ShareThis - EMEA » Home and Garden » Home Improvement » Plumbing\n",
      "Eyeota - ShareThis - EMEA » Home and Garden » Home Improvement » Roofing\n",
      "Eyeota - ShareThis - EMEA » People and Society » Seniors and Retirement\n",
      "Eyeota - ShareThis - EMEA » Shopping » Consumer Resources » Product Reviews and Price Comparisons\n",
      "Eyeota - ShareThis - EMEA » Sports » Individual Sports » Cycling\n",
      "Eyeota - ShareThis - Global excluding US and EMEA » Autos and Vehicles » Vehicle Brands » Maserati\n",
      "LiveRamp Data Store » GBG Transactis » UK » Age Band 50-54\n",
      "LiveRamp Data Store » GBG Transactis » UK » Books/Games/Music Buyers Category\n",
      "LiveRamp Data Store » GBG Transactis » UK » Books/Games/Music Category Spend\n",
      "LiveRamp Data Store » GBG Transactis » UK » Credit Card Owners\n",
      "LiveRamp Data Store » GBG Transactis » UK » Food & Drink/Food & Drink Products Buyers\n",
      "LiveRamp Data Store » GBG Transactis » UK » Food and Drink Category Spend\n",
      "LiveRamp Data Store » GBG Transactis » UK » High End/Luxury Goods Consumer\n",
      "LiveRamp Data Store » GBG Transactis » UK » Income GBP50,000 - GBP59,0000\n",
      "LiveRamp Data Store » GBG Transactis » UK » Order Channel In Store\n",
      "LiveRamp Data Store » GBG Transactis » UK » Payment Method Voucher\n",
      "eXelate » ShareThis » UK » Autos & Vehicles » Trucks & Suvs » Suvs\n",
      "eXelate » eXelate maX Masked T1602\n"
     ]
    }
   ],
   "source": [
    "i = 0\n",
    "while i < len(list1):\n",
    "    print(list1[i])\n",
    "    i = i + 1"
   ]
  },
  {
   "cell_type": "code",
   "execution_count": 15,
   "metadata": {
    "collapsed": false
   },
   "outputs": [
    {
     "data": {
      "text/html": [
       "<div>\n",
       "<table border=\"1\" class=\"dataframe\">\n",
       "  <thead>\n",
       "    <tr style=\"text-align: right;\">\n",
       "      <th></th>\n",
       "      <th>Trd_Name</th>\n",
       "      <th>Trd_ID</th>\n",
       "      <th>Trd_Type</th>\n",
       "      <th>Trd_Cost_USD</th>\n",
       "      <th>Trd_Size</th>\n",
       "      <th>Match_Ratio</th>\n",
       "      <th>Potential_Impressions</th>\n",
       "      <th>Unique_Overlap</th>\n",
       "    </tr>\n",
       "  </thead>\n",
       "  <tbody>\n",
       "  </tbody>\n",
       "</table>\n",
       "</div>"
      ],
      "text/plain": [
       "Empty DataFrame\n",
       "Columns: [Trd_Name, Trd_ID, Trd_Type, Trd_Cost_USD, Trd_Size, Match_Ratio, Potential_Impressions, Unique_Overlap]\n",
       "Index: []"
      ]
     },
     "execution_count": 15,
     "metadata": {},
     "output_type": "execute_result"
    }
   ],
   "source": [
    "output[(output.Trd_Name.str.contains(\"BlueKai\")) & (output.Trd_Type == 'Bid Manager Audiences')]"
   ]
  },
  {
   "cell_type": "code",
   "execution_count": 16,
   "metadata": {
    "collapsed": false
   },
   "outputs": [
    {
     "data": {
      "text/html": [
       "<div>\n",
       "<table border=\"1\" class=\"dataframe\">\n",
       "  <thead>\n",
       "    <tr style=\"text-align: right;\">\n",
       "      <th></th>\n",
       "      <th>Trd_Name</th>\n",
       "      <th>Trd_ID</th>\n",
       "      <th>Trd_Type</th>\n",
       "      <th>Trd_Cost_USD</th>\n",
       "      <th>Trd_Size</th>\n",
       "      <th>Match_Ratio</th>\n",
       "      <th>Potential_Impressions</th>\n",
       "      <th>Unique_Overlap</th>\n",
       "    </tr>\n",
       "  </thead>\n",
       "  <tbody>\n",
       "    <tr>\n",
       "      <th>11479</th>\n",
       "      <td>Bid Manager Audiences » In-Market Categories »...</td>\n",
       "      <td>4576009.0</td>\n",
       "      <td>Bid Manager Audiences</td>\n",
       "      <td>0.0</td>\n",
       "      <td>1.246211e+08</td>\n",
       "      <td>38.998976</td>\n",
       "      <td>79398592</td>\n",
       "      <td>607494</td>\n",
       "    </tr>\n",
       "    <tr>\n",
       "      <th>12403</th>\n",
       "      <td>Bid Manager Audiences » In-Market Categories »...</td>\n",
       "      <td>4575049.0</td>\n",
       "      <td>Bid Manager Audiences</td>\n",
       "      <td>0.0</td>\n",
       "      <td>1.703233e+07</td>\n",
       "      <td>31.413180</td>\n",
       "      <td>8658003</td>\n",
       "      <td>66878</td>\n",
       "    </tr>\n",
       "    <tr>\n",
       "      <th>13425</th>\n",
       "      <td>Bid Manager Audiences » In-Market Categories »...</td>\n",
       "      <td>4530529.0</td>\n",
       "      <td>Bid Manager Audiences</td>\n",
       "      <td>0.0</td>\n",
       "      <td>5.092577e+06</td>\n",
       "      <td>24.276039</td>\n",
       "      <td>346013</td>\n",
       "      <td>15453</td>\n",
       "    </tr>\n",
       "    <tr>\n",
       "      <th>14278</th>\n",
       "      <td>Bid Manager Audiences » In-Market Categories »...</td>\n",
       "      <td>4529449.0</td>\n",
       "      <td>Bid Manager Audiences</td>\n",
       "      <td>0.0</td>\n",
       "      <td>1.770147e+07</td>\n",
       "      <td>20.336083</td>\n",
       "      <td>253159</td>\n",
       "      <td>44996</td>\n",
       "    </tr>\n",
       "    <tr>\n",
       "      <th>14317</th>\n",
       "      <td>Bid Manager Audiences » In-Market Categories »...</td>\n",
       "      <td>4575529.0</td>\n",
       "      <td>Bid Manager Audiences</td>\n",
       "      <td>0.0</td>\n",
       "      <td>8.843424e+07</td>\n",
       "      <td>20.213574</td>\n",
       "      <td>4702907</td>\n",
       "      <td>223440</td>\n",
       "    </tr>\n",
       "    <tr>\n",
       "      <th>14512</th>\n",
       "      <td>Bid Manager Audiences » In-Market Categories »...</td>\n",
       "      <td>4529569.0</td>\n",
       "      <td>Bid Manager Audiences</td>\n",
       "      <td>0.0</td>\n",
       "      <td>3.520124e+07</td>\n",
       "      <td>19.552153</td>\n",
       "      <td>866729</td>\n",
       "      <td>86030</td>\n",
       "    </tr>\n",
       "    <tr>\n",
       "      <th>14527</th>\n",
       "      <td>Bid Manager Audiences » In-Market Categories »...</td>\n",
       "      <td>4529689.0</td>\n",
       "      <td>Bid Manager Audiences</td>\n",
       "      <td>0.0</td>\n",
       "      <td>3.341052e+07</td>\n",
       "      <td>19.493110</td>\n",
       "      <td>886409</td>\n",
       "      <td>81407</td>\n",
       "    </tr>\n",
       "    <tr>\n",
       "      <th>15462</th>\n",
       "      <td>Bid Manager Audiences » In-Market Categories »...</td>\n",
       "      <td>4488529.0</td>\n",
       "      <td>Bid Manager Audiences</td>\n",
       "      <td>0.0</td>\n",
       "      <td>1.214240e+08</td>\n",
       "      <td>16.691421</td>\n",
       "      <td>55079008</td>\n",
       "      <td>253335</td>\n",
       "    </tr>\n",
       "    <tr>\n",
       "      <th>15507</th>\n",
       "      <td>Bid Manager Audiences » In-Market Categories »...</td>\n",
       "      <td>4481929.0</td>\n",
       "      <td>Bid Manager Audiences</td>\n",
       "      <td>0.0</td>\n",
       "      <td>9.167654e+07</td>\n",
       "      <td>16.571004</td>\n",
       "      <td>30342570</td>\n",
       "      <td>189891</td>\n",
       "    </tr>\n",
       "    <tr>\n",
       "      <th>15932</th>\n",
       "      <td>Bid Manager Audiences » In-Market Categories »...</td>\n",
       "      <td>4530169.0</td>\n",
       "      <td>Bid Manager Audiences</td>\n",
       "      <td>0.0</td>\n",
       "      <td>6.488189e+06</td>\n",
       "      <td>15.579531</td>\n",
       "      <td>139215</td>\n",
       "      <td>12635</td>\n",
       "    </tr>\n",
       "    <tr>\n",
       "      <th>15942</th>\n",
       "      <td>Bid Manager Audiences » In-Market Categories »...</td>\n",
       "      <td>4504129.0</td>\n",
       "      <td>Bid Manager Audiences</td>\n",
       "      <td>0.0</td>\n",
       "      <td>1.061258e+08</td>\n",
       "      <td>15.556110</td>\n",
       "      <td>9884043</td>\n",
       "      <td>206357</td>\n",
       "    </tr>\n",
       "    <tr>\n",
       "      <th>16419</th>\n",
       "      <td>Bid Manager Audiences » In-Market Categories »...</td>\n",
       "      <td>4493449.0</td>\n",
       "      <td>Bid Manager Audiences</td>\n",
       "      <td>0.0</td>\n",
       "      <td>4.789552e+07</td>\n",
       "      <td>14.561119</td>\n",
       "      <td>5069834</td>\n",
       "      <td>87174</td>\n",
       "    </tr>\n",
       "    <tr>\n",
       "      <th>16614</th>\n",
       "      <td>Bid Manager Audiences » In-Market Categories »...</td>\n",
       "      <td>4575889.0</td>\n",
       "      <td>Bid Manager Audiences</td>\n",
       "      <td>0.0</td>\n",
       "      <td>5.539843e+07</td>\n",
       "      <td>14.172222</td>\n",
       "      <td>4791446</td>\n",
       "      <td>98137</td>\n",
       "    </tr>\n",
       "    <tr>\n",
       "      <th>16900</th>\n",
       "      <td>Bid Manager Audiences » In-Market Categories »...</td>\n",
       "      <td>4573729.0</td>\n",
       "      <td>Bid Manager Audiences</td>\n",
       "      <td>0.0</td>\n",
       "      <td>8.193529e+06</td>\n",
       "      <td>13.669722</td>\n",
       "      <td>598380</td>\n",
       "      <td>14000</td>\n",
       "    </tr>\n",
       "    <tr>\n",
       "      <th>17087</th>\n",
       "      <td>Bid Manager Audiences » In-Market Categories »...</td>\n",
       "      <td>4530409.0</td>\n",
       "      <td>Bid Manager Audiences</td>\n",
       "      <td>0.0</td>\n",
       "      <td>2.766836e+08</td>\n",
       "      <td>13.417912</td>\n",
       "      <td>46596144</td>\n",
       "      <td>464051</td>\n",
       "    </tr>\n",
       "    <tr>\n",
       "      <th>17342</th>\n",
       "      <td>Bid Manager Audiences » In-Market Categories »...</td>\n",
       "      <td>4554409.0</td>\n",
       "      <td>Bid Manager Audiences</td>\n",
       "      <td>0.0</td>\n",
       "      <td>1.132261e+08</td>\n",
       "      <td>13.071850</td>\n",
       "      <td>13920547</td>\n",
       "      <td>185004</td>\n",
       "    </tr>\n",
       "    <tr>\n",
       "      <th>17406</th>\n",
       "      <td>Bid Manager Audiences » In-Market Categories »...</td>\n",
       "      <td>4484329.0</td>\n",
       "      <td>Bid Manager Audiences</td>\n",
       "      <td>0.0</td>\n",
       "      <td>1.805930e+08</td>\n",
       "      <td>12.946837</td>\n",
       "      <td>46181888</td>\n",
       "      <td>292255</td>\n",
       "    </tr>\n",
       "    <tr>\n",
       "      <th>17496</th>\n",
       "      <td>Bid Manager Audiences » In-Market Categories »...</td>\n",
       "      <td>4530289.0</td>\n",
       "      <td>Bid Manager Audiences</td>\n",
       "      <td>0.0</td>\n",
       "      <td>8.229700e+04</td>\n",
       "      <td>12.831947</td>\n",
       "      <td>&lt; 1000</td>\n",
       "      <td>&lt; 1000</td>\n",
       "    </tr>\n",
       "    <tr>\n",
       "      <th>17770</th>\n",
       "      <td>Bid Manager Audiences » In-Market Categories »...</td>\n",
       "      <td>4529209.0</td>\n",
       "      <td>Bid Manager Audiences</td>\n",
       "      <td>0.0</td>\n",
       "      <td>2.275826e+08</td>\n",
       "      <td>12.472989</td>\n",
       "      <td>14579377</td>\n",
       "      <td>354819</td>\n",
       "    </tr>\n",
       "    <tr>\n",
       "      <th>17884</th>\n",
       "      <td>Bid Manager Audiences » In-Market Categories »...</td>\n",
       "      <td>4487329.0</td>\n",
       "      <td>Bid Manager Audiences</td>\n",
       "      <td>0.0</td>\n",
       "      <td>6.181207e+07</td>\n",
       "      <td>12.314200</td>\n",
       "      <td>7249029</td>\n",
       "      <td>95143</td>\n",
       "    </tr>\n",
       "    <tr>\n",
       "      <th>18067</th>\n",
       "      <td>Bid Manager Audiences » In-Market Categories »...</td>\n",
       "      <td>4504249.0</td>\n",
       "      <td>Bid Manager Audiences</td>\n",
       "      <td>0.0</td>\n",
       "      <td>8.256063e+07</td>\n",
       "      <td>12.065181</td>\n",
       "      <td>14023836</td>\n",
       "      <td>124510</td>\n",
       "    </tr>\n",
       "    <tr>\n",
       "      <th>18120</th>\n",
       "      <td>Bid Manager Audiences » In-Market Categories »...</td>\n",
       "      <td>4575169.0</td>\n",
       "      <td>Bid Manager Audiences</td>\n",
       "      <td>0.0</td>\n",
       "      <td>2.427059e+07</td>\n",
       "      <td>11.987202</td>\n",
       "      <td>3065869</td>\n",
       "      <td>36366</td>\n",
       "    </tr>\n",
       "    <tr>\n",
       "      <th>18477</th>\n",
       "      <td>Bid Manager Audiences » In-Market Categories »...</td>\n",
       "      <td>4529329.0</td>\n",
       "      <td>Bid Manager Audiences</td>\n",
       "      <td>0.0</td>\n",
       "      <td>3.846322e+07</td>\n",
       "      <td>11.520119</td>\n",
       "      <td>1450976</td>\n",
       "      <td>55386</td>\n",
       "    </tr>\n",
       "    <tr>\n",
       "      <th>18582</th>\n",
       "      <td>Bid Manager Audiences » In-Market Categories »...</td>\n",
       "      <td>4483249.0</td>\n",
       "      <td>Bid Manager Audiences</td>\n",
       "      <td>0.0</td>\n",
       "      <td>1.333945e+08</td>\n",
       "      <td>11.388571</td>\n",
       "      <td>24997696</td>\n",
       "      <td>189891</td>\n",
       "    </tr>\n",
       "    <tr>\n",
       "      <th>18736</th>\n",
       "      <td>Bid Manager Audiences » In-Market Categories »...</td>\n",
       "      <td>4487209.0</td>\n",
       "      <td>Bid Manager Audiences</td>\n",
       "      <td>0.0</td>\n",
       "      <td>1.102632e+08</td>\n",
       "      <td>11.209357</td>\n",
       "      <td>26471436</td>\n",
       "      <td>154493</td>\n",
       "    </tr>\n",
       "    <tr>\n",
       "      <th>18756</th>\n",
       "      <td>Bid Manager Audiences » In-Market Categories »...</td>\n",
       "      <td>4529809.0</td>\n",
       "      <td>Bid Manager Audiences</td>\n",
       "      <td>0.0</td>\n",
       "      <td>1.860860e+08</td>\n",
       "      <td>11.192358</td>\n",
       "      <td>8978525</td>\n",
       "      <td>260335</td>\n",
       "    </tr>\n",
       "    <tr>\n",
       "      <th>18828</th>\n",
       "      <td>Bid Manager Audiences » In-Market Categories »...</td>\n",
       "      <td>4577929.0</td>\n",
       "      <td>Bid Manager Audiences</td>\n",
       "      <td>0.0</td>\n",
       "      <td>4.384904e+07</td>\n",
       "      <td>11.077235</td>\n",
       "      <td>2234273</td>\n",
       "      <td>60714</td>\n",
       "    </tr>\n",
       "    <tr>\n",
       "      <th>19034</th>\n",
       "      <td>Bid Manager Audiences » In-Market Categories »...</td>\n",
       "      <td>4486729.0</td>\n",
       "      <td>Bid Manager Audiences</td>\n",
       "      <td>0.0</td>\n",
       "      <td>4.016682e+07</td>\n",
       "      <td>10.829950</td>\n",
       "      <td>3845951</td>\n",
       "      <td>54374</td>\n",
       "    </tr>\n",
       "    <tr>\n",
       "      <th>19153</th>\n",
       "      <td>Bid Manager Audiences » In-Market Categories »...</td>\n",
       "      <td>4482409.0</td>\n",
       "      <td>Bid Manager Audiences</td>\n",
       "      <td>0.0</td>\n",
       "      <td>2.366763e+08</td>\n",
       "      <td>10.670680</td>\n",
       "      <td>59999016</td>\n",
       "      <td>315678</td>\n",
       "    </tr>\n",
       "    <tr>\n",
       "      <th>19179</th>\n",
       "      <td>Bid Manager Audiences » In-Market Categories »...</td>\n",
       "      <td>4485049.0</td>\n",
       "      <td>Bid Manager Audiences</td>\n",
       "      <td>0.0</td>\n",
       "      <td>1.019523e+08</td>\n",
       "      <td>10.644425</td>\n",
       "      <td>7586501</td>\n",
       "      <td>135649</td>\n",
       "    </tr>\n",
       "    <tr>\n",
       "      <th>...</th>\n",
       "      <td>...</td>\n",
       "      <td>...</td>\n",
       "      <td>...</td>\n",
       "      <td>...</td>\n",
       "      <td>...</td>\n",
       "      <td>...</td>\n",
       "      <td>...</td>\n",
       "      <td>...</td>\n",
       "    </tr>\n",
       "    <tr>\n",
       "      <th>39886</th>\n",
       "      <td>Bid Manager Audiences » In-Market Categories »...</td>\n",
       "      <td>4532089.0</td>\n",
       "      <td>Bid Manager Audiences</td>\n",
       "      <td>0.0</td>\n",
       "      <td>1.100468e+08</td>\n",
       "      <td>1.795579</td>\n",
       "      <td>3435921</td>\n",
       "      <td>24699</td>\n",
       "    </tr>\n",
       "    <tr>\n",
       "      <th>40232</th>\n",
       "      <td>Bid Manager Audiences » In-Market Categories »...</td>\n",
       "      <td>4531489.0</td>\n",
       "      <td>Bid Manager Audiences</td>\n",
       "      <td>0.0</td>\n",
       "      <td>2.097984e+08</td>\n",
       "      <td>1.759493</td>\n",
       "      <td>5347824</td>\n",
       "      <td>46141</td>\n",
       "    </tr>\n",
       "    <tr>\n",
       "      <th>40471</th>\n",
       "      <td>Bid Manager Audiences » In-Market Categories »...</td>\n",
       "      <td>4560049.0</td>\n",
       "      <td>Bid Manager Audiences</td>\n",
       "      <td>0.0</td>\n",
       "      <td>1.150326e+08</td>\n",
       "      <td>1.736115</td>\n",
       "      <td>1006165</td>\n",
       "      <td>24963</td>\n",
       "    </tr>\n",
       "    <tr>\n",
       "      <th>40770</th>\n",
       "      <td>Bid Manager Audiences » In-Market Categories »...</td>\n",
       "      <td>4559809.0</td>\n",
       "      <td>Bid Manager Audiences</td>\n",
       "      <td>0.0</td>\n",
       "      <td>5.559109e+07</td>\n",
       "      <td>1.710684</td>\n",
       "      <td>1194163</td>\n",
       "      <td>11887</td>\n",
       "    </tr>\n",
       "    <tr>\n",
       "      <th>41030</th>\n",
       "      <td>Bid Manager Audiences » In-Market Categories »...</td>\n",
       "      <td>4576849.0</td>\n",
       "      <td>Bid Manager Audiences</td>\n",
       "      <td>0.0</td>\n",
       "      <td>1.230204e+07</td>\n",
       "      <td>1.688874</td>\n",
       "      <td>182538</td>\n",
       "      <td>2597</td>\n",
       "    </tr>\n",
       "    <tr>\n",
       "      <th>41334</th>\n",
       "      <td>Bid Manager Audiences » In-Market Categories »...</td>\n",
       "      <td>4560289.0</td>\n",
       "      <td>Bid Manager Audiences</td>\n",
       "      <td>0.0</td>\n",
       "      <td>1.462360e+08</td>\n",
       "      <td>1.664372</td>\n",
       "      <td>1227316</td>\n",
       "      <td>30423</td>\n",
       "    </tr>\n",
       "    <tr>\n",
       "      <th>41546</th>\n",
       "      <td>Bid Manager Audiences » In-Market Categories »...</td>\n",
       "      <td>4530049.0</td>\n",
       "      <td>Bid Manager Audiences</td>\n",
       "      <td>0.0</td>\n",
       "      <td>5.953217e+08</td>\n",
       "      <td>1.645424</td>\n",
       "      <td>33021084</td>\n",
       "      <td>122441</td>\n",
       "    </tr>\n",
       "    <tr>\n",
       "      <th>41599</th>\n",
       "      <td>Bid Manager Audiences » In-Market Categories »...</td>\n",
       "      <td>4500049.0</td>\n",
       "      <td>Bid Manager Audiences</td>\n",
       "      <td>0.0</td>\n",
       "      <td>1.175961e+09</td>\n",
       "      <td>1.642001</td>\n",
       "      <td>37272048</td>\n",
       "      <td>241359</td>\n",
       "    </tr>\n",
       "    <tr>\n",
       "      <th>42599</th>\n",
       "      <td>Bid Manager Audiences » In-Market Categories »...</td>\n",
       "      <td>4506769.0</td>\n",
       "      <td>Bid Manager Audiences</td>\n",
       "      <td>0.0</td>\n",
       "      <td>2.945335e+08</td>\n",
       "      <td>1.565423</td>\n",
       "      <td>7885405</td>\n",
       "      <td>57632</td>\n",
       "    </tr>\n",
       "    <tr>\n",
       "      <th>43665</th>\n",
       "      <td>Bid Manager Audiences » In-Market Categories »...</td>\n",
       "      <td>4500529.0</td>\n",
       "      <td>Bid Manager Audiences</td>\n",
       "      <td>0.0</td>\n",
       "      <td>5.884124e+07</td>\n",
       "      <td>1.496409</td>\n",
       "      <td>2624403</td>\n",
       "      <td>11006</td>\n",
       "    </tr>\n",
       "    <tr>\n",
       "      <th>43764</th>\n",
       "      <td>Bid Manager Audiences » In-Market Categories »...</td>\n",
       "      <td>4499809.0</td>\n",
       "      <td>Bid Manager Audiences</td>\n",
       "      <td>0.0</td>\n",
       "      <td>2.302304e+09</td>\n",
       "      <td>1.490741</td>\n",
       "      <td>70361416</td>\n",
       "      <td>429005</td>\n",
       "    </tr>\n",
       "    <tr>\n",
       "      <th>43860</th>\n",
       "      <td>Bid Manager Audiences » In-Market Categories »...</td>\n",
       "      <td>4500649.0</td>\n",
       "      <td>Bid Manager Audiences</td>\n",
       "      <td>0.0</td>\n",
       "      <td>1.655947e+08</td>\n",
       "      <td>1.484681</td>\n",
       "      <td>1122090</td>\n",
       "      <td>30731</td>\n",
       "    </tr>\n",
       "    <tr>\n",
       "      <th>45999</th>\n",
       "      <td>Bid Manager Audiences » In-Market Categories »...</td>\n",
       "      <td>4531969.0</td>\n",
       "      <td>Bid Manager Audiences</td>\n",
       "      <td>0.0</td>\n",
       "      <td>1.044987e+08</td>\n",
       "      <td>1.361741</td>\n",
       "      <td>2966674</td>\n",
       "      <td>17787</td>\n",
       "    </tr>\n",
       "    <tr>\n",
       "      <th>47019</th>\n",
       "      <td>Bid Manager Audiences » In-Market Categories »...</td>\n",
       "      <td>4579009.0</td>\n",
       "      <td>Bid Manager Audiences</td>\n",
       "      <td>0.0</td>\n",
       "      <td>5.366783e+06</td>\n",
       "      <td>1.311811</td>\n",
       "      <td>4887</td>\n",
       "      <td>&lt; 1000</td>\n",
       "    </tr>\n",
       "    <tr>\n",
       "      <th>47317</th>\n",
       "      <td>Bid Manager Audiences » In-Market Categories »...</td>\n",
       "      <td>4581769.0</td>\n",
       "      <td>Bid Manager Audiences</td>\n",
       "      <td>0.0</td>\n",
       "      <td>3.251069e+06</td>\n",
       "      <td>1.299303</td>\n",
       "      <td>38304</td>\n",
       "      <td>&lt; 1000</td>\n",
       "    </tr>\n",
       "    <tr>\n",
       "      <th>47625</th>\n",
       "      <td>Bid Manager Audiences » In-Market Categories »...</td>\n",
       "      <td>4495729.0</td>\n",
       "      <td>Bid Manager Audiences</td>\n",
       "      <td>0.0</td>\n",
       "      <td>3.863230e+07</td>\n",
       "      <td>1.285387</td>\n",
       "      <td>338484</td>\n",
       "      <td>6207</td>\n",
       "    </tr>\n",
       "    <tr>\n",
       "      <th>50125</th>\n",
       "      <td>Bid Manager Audiences » In-Market Categories »...</td>\n",
       "      <td>4499929.0</td>\n",
       "      <td>Bid Manager Audiences</td>\n",
       "      <td>0.0</td>\n",
       "      <td>6.799965e+08</td>\n",
       "      <td>1.182570</td>\n",
       "      <td>14889992</td>\n",
       "      <td>100515</td>\n",
       "    </tr>\n",
       "    <tr>\n",
       "      <th>50991</th>\n",
       "      <td>Bid Manager Audiences » In-Market Categories »...</td>\n",
       "      <td>4571569.0</td>\n",
       "      <td>Bid Manager Audiences</td>\n",
       "      <td>0.0</td>\n",
       "      <td>9.148833e+07</td>\n",
       "      <td>1.151131</td>\n",
       "      <td>1065030</td>\n",
       "      <td>13164</td>\n",
       "    </tr>\n",
       "    <tr>\n",
       "      <th>52882</th>\n",
       "      <td>Bid Manager Audiences » In-Market Categories »...</td>\n",
       "      <td>4577329.0</td>\n",
       "      <td>Bid Manager Audiences</td>\n",
       "      <td>0.0</td>\n",
       "      <td>2.271901e+07</td>\n",
       "      <td>1.084938</td>\n",
       "      <td>110729</td>\n",
       "      <td>3081</td>\n",
       "    </tr>\n",
       "    <tr>\n",
       "      <th>60993</th>\n",
       "      <td>Bid Manager Audiences » In-Market Categories »...</td>\n",
       "      <td>4500169.0</td>\n",
       "      <td>Bid Manager Audiences</td>\n",
       "      <td>0.0</td>\n",
       "      <td>9.366629e+08</td>\n",
       "      <td>0.858144</td>\n",
       "      <td>22428900</td>\n",
       "      <td>100471</td>\n",
       "    </tr>\n",
       "    <tr>\n",
       "      <th>68052</th>\n",
       "      <td>Bid Manager Audiences » In-Market Categories »...</td>\n",
       "      <td>4506889.0</td>\n",
       "      <td>Bid Manager Audiences</td>\n",
       "      <td>0.0</td>\n",
       "      <td>1.988222e+07</td>\n",
       "      <td>0.708593</td>\n",
       "      <td>276802</td>\n",
       "      <td>1761</td>\n",
       "    </tr>\n",
       "    <tr>\n",
       "      <th>74198</th>\n",
       "      <td>Bid Manager Audiences » In-Market Categories »...</td>\n",
       "      <td>4578529.0</td>\n",
       "      <td>Bid Manager Audiences</td>\n",
       "      <td>0.0</td>\n",
       "      <td>1.745952e+06</td>\n",
       "      <td>0.604845</td>\n",
       "      <td>&lt; 1000</td>\n",
       "      <td>&lt; 1000</td>\n",
       "    </tr>\n",
       "    <tr>\n",
       "      <th>80155</th>\n",
       "      <td>Bid Manager Audiences » In-Market Categories »...</td>\n",
       "      <td>4558849.0</td>\n",
       "      <td>Bid Manager Audiences</td>\n",
       "      <td>0.0</td>\n",
       "      <td>1.473047e+07</td>\n",
       "      <td>0.525728</td>\n",
       "      <td>57191</td>\n",
       "      <td>&lt; 1000</td>\n",
       "    </tr>\n",
       "    <tr>\n",
       "      <th>97675</th>\n",
       "      <td>Bid Manager Audiences » In-Market Categories »...</td>\n",
       "      <td>4500409.0</td>\n",
       "      <td>Bid Manager Audiences</td>\n",
       "      <td>0.0</td>\n",
       "      <td>6.836147e+08</td>\n",
       "      <td>0.330781</td>\n",
       "      <td>5626212</td>\n",
       "      <td>28265</td>\n",
       "    </tr>\n",
       "    <tr>\n",
       "      <th>106739</th>\n",
       "      <td>Bid Manager Audiences » In-Market Categories »...</td>\n",
       "      <td>4577449.0</td>\n",
       "      <td>Bid Manager Audiences</td>\n",
       "      <td>0.0</td>\n",
       "      <td>2.676677e+07</td>\n",
       "      <td>0.236718</td>\n",
       "      <td>175450</td>\n",
       "      <td>&lt; 1000</td>\n",
       "    </tr>\n",
       "    <tr>\n",
       "      <th>108033</th>\n",
       "      <td>Bid Manager Audiences » In-Market Categories »...</td>\n",
       "      <td>4573489.0</td>\n",
       "      <td>Bid Manager Audiences</td>\n",
       "      <td>0.0</td>\n",
       "      <td>4.940882e+07</td>\n",
       "      <td>0.220858</td>\n",
       "      <td>310307</td>\n",
       "      <td>1364</td>\n",
       "    </tr>\n",
       "    <tr>\n",
       "      <th>110317</th>\n",
       "      <td>Bid Manager Audiences » In-Market Categories »...</td>\n",
       "      <td>4574209.0</td>\n",
       "      <td>Bid Manager Audiences</td>\n",
       "      <td>0.0</td>\n",
       "      <td>2.256453e+07</td>\n",
       "      <td>0.187202</td>\n",
       "      <td>18887</td>\n",
       "      <td>&lt; 1000</td>\n",
       "    </tr>\n",
       "    <tr>\n",
       "      <th>114447</th>\n",
       "      <td>Bid Manager Audiences » In-Market Categories »...</td>\n",
       "      <td>4573849.0</td>\n",
       "      <td>Bid Manager Audiences</td>\n",
       "      <td>0.0</td>\n",
       "      <td>9.106743e+06</td>\n",
       "      <td>0.115961</td>\n",
       "      <td>36631</td>\n",
       "      <td>&lt; 1000</td>\n",
       "    </tr>\n",
       "    <tr>\n",
       "      <th>116660</th>\n",
       "      <td>Bid Manager Audiences » In-Market Categories »...</td>\n",
       "      <td>4573129.0</td>\n",
       "      <td>Bid Manager Audiences</td>\n",
       "      <td>0.0</td>\n",
       "      <td>2.475465e+07</td>\n",
       "      <td>0.071100</td>\n",
       "      <td>10258</td>\n",
       "      <td>&lt; 1000</td>\n",
       "    </tr>\n",
       "    <tr>\n",
       "      <th>117220</th>\n",
       "      <td>Bid Manager Audiences » In-Market Categories »...</td>\n",
       "      <td>4574689.0</td>\n",
       "      <td>Bid Manager Audiences</td>\n",
       "      <td>0.0</td>\n",
       "      <td>3.841846e+07</td>\n",
       "      <td>0.054975</td>\n",
       "      <td>15365</td>\n",
       "      <td>&lt; 1000</td>\n",
       "    </tr>\n",
       "  </tbody>\n",
       "</table>\n",
       "<p>491 rows × 8 columns</p>\n",
       "</div>"
      ],
      "text/plain": [
       "                                                 Trd_Name     Trd_ID  \\\n",
       "11479   Bid Manager Audiences » In-Market Categories »...  4576009.0   \n",
       "12403   Bid Manager Audiences » In-Market Categories »...  4575049.0   \n",
       "13425   Bid Manager Audiences » In-Market Categories »...  4530529.0   \n",
       "14278   Bid Manager Audiences » In-Market Categories »...  4529449.0   \n",
       "14317   Bid Manager Audiences » In-Market Categories »...  4575529.0   \n",
       "14512   Bid Manager Audiences » In-Market Categories »...  4529569.0   \n",
       "14527   Bid Manager Audiences » In-Market Categories »...  4529689.0   \n",
       "15462   Bid Manager Audiences » In-Market Categories »...  4488529.0   \n",
       "15507   Bid Manager Audiences » In-Market Categories »...  4481929.0   \n",
       "15932   Bid Manager Audiences » In-Market Categories »...  4530169.0   \n",
       "15942   Bid Manager Audiences » In-Market Categories »...  4504129.0   \n",
       "16419   Bid Manager Audiences » In-Market Categories »...  4493449.0   \n",
       "16614   Bid Manager Audiences » In-Market Categories »...  4575889.0   \n",
       "16900   Bid Manager Audiences » In-Market Categories »...  4573729.0   \n",
       "17087   Bid Manager Audiences » In-Market Categories »...  4530409.0   \n",
       "17342   Bid Manager Audiences » In-Market Categories »...  4554409.0   \n",
       "17406   Bid Manager Audiences » In-Market Categories »...  4484329.0   \n",
       "17496   Bid Manager Audiences » In-Market Categories »...  4530289.0   \n",
       "17770   Bid Manager Audiences » In-Market Categories »...  4529209.0   \n",
       "17884   Bid Manager Audiences » In-Market Categories »...  4487329.0   \n",
       "18067   Bid Manager Audiences » In-Market Categories »...  4504249.0   \n",
       "18120   Bid Manager Audiences » In-Market Categories »...  4575169.0   \n",
       "18477   Bid Manager Audiences » In-Market Categories »...  4529329.0   \n",
       "18582   Bid Manager Audiences » In-Market Categories »...  4483249.0   \n",
       "18736   Bid Manager Audiences » In-Market Categories »...  4487209.0   \n",
       "18756   Bid Manager Audiences » In-Market Categories »...  4529809.0   \n",
       "18828   Bid Manager Audiences » In-Market Categories »...  4577929.0   \n",
       "19034   Bid Manager Audiences » In-Market Categories »...  4486729.0   \n",
       "19153   Bid Manager Audiences » In-Market Categories »...  4482409.0   \n",
       "19179   Bid Manager Audiences » In-Market Categories »...  4485049.0   \n",
       "...                                                   ...        ...   \n",
       "39886   Bid Manager Audiences » In-Market Categories »...  4532089.0   \n",
       "40232   Bid Manager Audiences » In-Market Categories »...  4531489.0   \n",
       "40471   Bid Manager Audiences » In-Market Categories »...  4560049.0   \n",
       "40770   Bid Manager Audiences » In-Market Categories »...  4559809.0   \n",
       "41030   Bid Manager Audiences » In-Market Categories »...  4576849.0   \n",
       "41334   Bid Manager Audiences » In-Market Categories »...  4560289.0   \n",
       "41546   Bid Manager Audiences » In-Market Categories »...  4530049.0   \n",
       "41599   Bid Manager Audiences » In-Market Categories »...  4500049.0   \n",
       "42599   Bid Manager Audiences » In-Market Categories »...  4506769.0   \n",
       "43665   Bid Manager Audiences » In-Market Categories »...  4500529.0   \n",
       "43764   Bid Manager Audiences » In-Market Categories »...  4499809.0   \n",
       "43860   Bid Manager Audiences » In-Market Categories »...  4500649.0   \n",
       "45999   Bid Manager Audiences » In-Market Categories »...  4531969.0   \n",
       "47019   Bid Manager Audiences » In-Market Categories »...  4579009.0   \n",
       "47317   Bid Manager Audiences » In-Market Categories »...  4581769.0   \n",
       "47625   Bid Manager Audiences » In-Market Categories »...  4495729.0   \n",
       "50125   Bid Manager Audiences » In-Market Categories »...  4499929.0   \n",
       "50991   Bid Manager Audiences » In-Market Categories »...  4571569.0   \n",
       "52882   Bid Manager Audiences » In-Market Categories »...  4577329.0   \n",
       "60993   Bid Manager Audiences » In-Market Categories »...  4500169.0   \n",
       "68052   Bid Manager Audiences » In-Market Categories »...  4506889.0   \n",
       "74198   Bid Manager Audiences » In-Market Categories »...  4578529.0   \n",
       "80155   Bid Manager Audiences » In-Market Categories »...  4558849.0   \n",
       "97675   Bid Manager Audiences » In-Market Categories »...  4500409.0   \n",
       "106739  Bid Manager Audiences » In-Market Categories »...  4577449.0   \n",
       "108033  Bid Manager Audiences » In-Market Categories »...  4573489.0   \n",
       "110317  Bid Manager Audiences » In-Market Categories »...  4574209.0   \n",
       "114447  Bid Manager Audiences » In-Market Categories »...  4573849.0   \n",
       "116660  Bid Manager Audiences » In-Market Categories »...  4573129.0   \n",
       "117220  Bid Manager Audiences » In-Market Categories »...  4574689.0   \n",
       "\n",
       "                     Trd_Type  Trd_Cost_USD      Trd_Size  Match_Ratio  \\\n",
       "11479   Bid Manager Audiences           0.0  1.246211e+08    38.998976   \n",
       "12403   Bid Manager Audiences           0.0  1.703233e+07    31.413180   \n",
       "13425   Bid Manager Audiences           0.0  5.092577e+06    24.276039   \n",
       "14278   Bid Manager Audiences           0.0  1.770147e+07    20.336083   \n",
       "14317   Bid Manager Audiences           0.0  8.843424e+07    20.213574   \n",
       "14512   Bid Manager Audiences           0.0  3.520124e+07    19.552153   \n",
       "14527   Bid Manager Audiences           0.0  3.341052e+07    19.493110   \n",
       "15462   Bid Manager Audiences           0.0  1.214240e+08    16.691421   \n",
       "15507   Bid Manager Audiences           0.0  9.167654e+07    16.571004   \n",
       "15932   Bid Manager Audiences           0.0  6.488189e+06    15.579531   \n",
       "15942   Bid Manager Audiences           0.0  1.061258e+08    15.556110   \n",
       "16419   Bid Manager Audiences           0.0  4.789552e+07    14.561119   \n",
       "16614   Bid Manager Audiences           0.0  5.539843e+07    14.172222   \n",
       "16900   Bid Manager Audiences           0.0  8.193529e+06    13.669722   \n",
       "17087   Bid Manager Audiences           0.0  2.766836e+08    13.417912   \n",
       "17342   Bid Manager Audiences           0.0  1.132261e+08    13.071850   \n",
       "17406   Bid Manager Audiences           0.0  1.805930e+08    12.946837   \n",
       "17496   Bid Manager Audiences           0.0  8.229700e+04    12.831947   \n",
       "17770   Bid Manager Audiences           0.0  2.275826e+08    12.472989   \n",
       "17884   Bid Manager Audiences           0.0  6.181207e+07    12.314200   \n",
       "18067   Bid Manager Audiences           0.0  8.256063e+07    12.065181   \n",
       "18120   Bid Manager Audiences           0.0  2.427059e+07    11.987202   \n",
       "18477   Bid Manager Audiences           0.0  3.846322e+07    11.520119   \n",
       "18582   Bid Manager Audiences           0.0  1.333945e+08    11.388571   \n",
       "18736   Bid Manager Audiences           0.0  1.102632e+08    11.209357   \n",
       "18756   Bid Manager Audiences           0.0  1.860860e+08    11.192358   \n",
       "18828   Bid Manager Audiences           0.0  4.384904e+07    11.077235   \n",
       "19034   Bid Manager Audiences           0.0  4.016682e+07    10.829950   \n",
       "19153   Bid Manager Audiences           0.0  2.366763e+08    10.670680   \n",
       "19179   Bid Manager Audiences           0.0  1.019523e+08    10.644425   \n",
       "...                       ...           ...           ...          ...   \n",
       "39886   Bid Manager Audiences           0.0  1.100468e+08     1.795579   \n",
       "40232   Bid Manager Audiences           0.0  2.097984e+08     1.759493   \n",
       "40471   Bid Manager Audiences           0.0  1.150326e+08     1.736115   \n",
       "40770   Bid Manager Audiences           0.0  5.559109e+07     1.710684   \n",
       "41030   Bid Manager Audiences           0.0  1.230204e+07     1.688874   \n",
       "41334   Bid Manager Audiences           0.0  1.462360e+08     1.664372   \n",
       "41546   Bid Manager Audiences           0.0  5.953217e+08     1.645424   \n",
       "41599   Bid Manager Audiences           0.0  1.175961e+09     1.642001   \n",
       "42599   Bid Manager Audiences           0.0  2.945335e+08     1.565423   \n",
       "43665   Bid Manager Audiences           0.0  5.884124e+07     1.496409   \n",
       "43764   Bid Manager Audiences           0.0  2.302304e+09     1.490741   \n",
       "43860   Bid Manager Audiences           0.0  1.655947e+08     1.484681   \n",
       "45999   Bid Manager Audiences           0.0  1.044987e+08     1.361741   \n",
       "47019   Bid Manager Audiences           0.0  5.366783e+06     1.311811   \n",
       "47317   Bid Manager Audiences           0.0  3.251069e+06     1.299303   \n",
       "47625   Bid Manager Audiences           0.0  3.863230e+07     1.285387   \n",
       "50125   Bid Manager Audiences           0.0  6.799965e+08     1.182570   \n",
       "50991   Bid Manager Audiences           0.0  9.148833e+07     1.151131   \n",
       "52882   Bid Manager Audiences           0.0  2.271901e+07     1.084938   \n",
       "60993   Bid Manager Audiences           0.0  9.366629e+08     0.858144   \n",
       "68052   Bid Manager Audiences           0.0  1.988222e+07     0.708593   \n",
       "74198   Bid Manager Audiences           0.0  1.745952e+06     0.604845   \n",
       "80155   Bid Manager Audiences           0.0  1.473047e+07     0.525728   \n",
       "97675   Bid Manager Audiences           0.0  6.836147e+08     0.330781   \n",
       "106739  Bid Manager Audiences           0.0  2.676677e+07     0.236718   \n",
       "108033  Bid Manager Audiences           0.0  4.940882e+07     0.220858   \n",
       "110317  Bid Manager Audiences           0.0  2.256453e+07     0.187202   \n",
       "114447  Bid Manager Audiences           0.0  9.106743e+06     0.115961   \n",
       "116660  Bid Manager Audiences           0.0  2.475465e+07     0.071100   \n",
       "117220  Bid Manager Audiences           0.0  3.841846e+07     0.054975   \n",
       "\n",
       "       Potential_Impressions Unique_Overlap  \n",
       "11479               79398592         607494  \n",
       "12403                8658003          66878  \n",
       "13425                 346013          15453  \n",
       "14278                 253159          44996  \n",
       "14317                4702907         223440  \n",
       "14512                 866729          86030  \n",
       "14527                 886409          81407  \n",
       "15462               55079008         253335  \n",
       "15507               30342570         189891  \n",
       "15932                 139215          12635  \n",
       "15942                9884043         206357  \n",
       "16419                5069834          87174  \n",
       "16614                4791446          98137  \n",
       "16900                 598380          14000  \n",
       "17087               46596144         464051  \n",
       "17342               13920547         185004  \n",
       "17406               46181888         292255  \n",
       "17496                 < 1000         < 1000  \n",
       "17770               14579377         354819  \n",
       "17884                7249029          95143  \n",
       "18067               14023836         124510  \n",
       "18120                3065869          36366  \n",
       "18477                1450976          55386  \n",
       "18582               24997696         189891  \n",
       "18736               26471436         154493  \n",
       "18756                8978525         260335  \n",
       "18828                2234273          60714  \n",
       "19034                3845951          54374  \n",
       "19153               59999016         315678  \n",
       "19179                7586501         135649  \n",
       "...                      ...            ...  \n",
       "39886                3435921          24699  \n",
       "40232                5347824          46141  \n",
       "40471                1006165          24963  \n",
       "40770                1194163          11887  \n",
       "41030                 182538           2597  \n",
       "41334                1227316          30423  \n",
       "41546               33021084         122441  \n",
       "41599               37272048         241359  \n",
       "42599                7885405          57632  \n",
       "43665                2624403          11006  \n",
       "43764               70361416         429005  \n",
       "43860                1122090          30731  \n",
       "45999                2966674          17787  \n",
       "47019                   4887         < 1000  \n",
       "47317                  38304         < 1000  \n",
       "47625                 338484           6207  \n",
       "50125               14889992         100515  \n",
       "50991                1065030          13164  \n",
       "52882                 110729           3081  \n",
       "60993               22428900         100471  \n",
       "68052                 276802           1761  \n",
       "74198                 < 1000         < 1000  \n",
       "80155                  57191         < 1000  \n",
       "97675                5626212          28265  \n",
       "106739                175450         < 1000  \n",
       "108033                310307           1364  \n",
       "110317                 18887         < 1000  \n",
       "114447                 36631         < 1000  \n",
       "116660                 10258         < 1000  \n",
       "117220                 15365         < 1000  \n",
       "\n",
       "[491 rows x 8 columns]"
      ]
     },
     "execution_count": 16,
     "metadata": {},
     "output_type": "execute_result"
    }
   ],
   "source": [
    "output[(output.Trd_Name.str.contains(\"In-Market\")) & (output.Trd_Name.str.contains(\"Bid Manager\"))].sort_values(\"Match_Ratio\", ascending=False)"
   ]
  },
  {
   "cell_type": "markdown",
   "metadata": {},
   "source": [
    "---"
   ]
  },
  {
   "cell_type": "code",
   "execution_count": 17,
   "metadata": {
    "collapsed": true
   },
   "outputs": [],
   "source": [
    "#Below we do the standard demo/age segments"
   ]
  },
  {
   "cell_type": "code",
   "execution_count": 18,
   "metadata": {
    "collapsed": true
   },
   "outputs": [],
   "source": [
    "match = pd.read_csv(\"segment_match_table.csv\", error_bad_lines=False)"
   ]
  },
  {
   "cell_type": "code",
   "execution_count": 19,
   "metadata": {
    "collapsed": true
   },
   "outputs": [],
   "source": [
    "#Have chosen Axciom for its relatively strong reach and higher match ratio generally speaking\n",
    "#Axciom age data \n",
    "output_age = output.loc[output.Trd_ID.isin([413303512, 413303575, 413682608, 413302702, \n",
    "                               415218099, 413302699, 415218093, 413303584, 415218102, \n",
    "                               413303578, 413303581, 415218096]),:].sort_values(\"Trd_Name\", ascending=True).reset_index(drop=True)"
   ]
  },
  {
   "cell_type": "code",
   "execution_count": 20,
   "metadata": {
    "collapsed": true
   },
   "outputs": [],
   "source": [
    "output_age = output_age.merge(match[[\"Trd_ID\", \"Map_Name\"]], on=\"Trd_ID\", how=\"left\")\n",
    "output_age = output_age.loc[:, [\"Map_Name\", \"Match_Ratio\"]]"
   ]
  },
  {
   "cell_type": "code",
   "execution_count": 21,
   "metadata": {
    "collapsed": true
   },
   "outputs": [],
   "source": [
    "output_age[\"Index\"] = output_age.Match_Ratio / (np.sum(output_age.Match_Ratio) / len(output_age.Match_Ratio)) * 100"
   ]
  },
  {
   "cell_type": "code",
   "execution_count": 22,
   "metadata": {
    "collapsed": false
   },
   "outputs": [],
   "source": [
    "pal = sns.color_palette(palette=\"Blues\", n_colors=1)"
   ]
  },
  {
   "cell_type": "code",
   "execution_count": 25,
   "metadata": {
    "collapsed": false
   },
   "outputs": [
    {
     "data": {
      "text/plain": [
       "(array([ 0,  1,  2,  3,  4,  5,  6,  7,  8,  9, 10, 11]),\n",
       " <a list of 12 Text xticklabel objects>)"
      ]
     },
     "execution_count": 25,
     "metadata": {},
     "output_type": "execute_result"
    },
    {
     "data": {
      "image/png": "[encoded data removed]",
      "text/plain": [
       "<matplotlib.figure.Figure at 0x104df3898>"
      ]
     },
     "metadata": {},
     "output_type": "display_data"
    }
   ],
   "source": [
    "age_plot = sns.barplot(data=output_age, x=\"Map_Name\", y=\"Index\", palette=pal)\n",
    "age_plot = age_plot.set(ylim=[0, np.max(output_age[\"Index\"])*1.1], xlabel=\"Age Groupe\", ylabel=\"Index\")\n",
    "plt.xticks(rotation=90)"
   ]
  },
  {
   "cell_type": "code",
   "execution_count": 39,
   "metadata": {
    "collapsed": true
   },
   "outputs": [],
   "source": [
    "output_gender = output.loc[output.Trd_ID.isin([438587246, 438587243]),:].sort_values(\"Trd_Name\", ascending=True).reset_index(drop=True)"
   ]
  },
  {
   "cell_type": "code",
   "execution_count": 40,
   "metadata": {
    "collapsed": true
   },
   "outputs": [],
   "source": [
    "#output_gender = output.loc[output.Trd_ID.isin([413682596, 413682590]),:].sort_values(\"Trd_Name\", ascending=True).reset_index(drop=True)"
   ]
  },
  {
   "cell_type": "code",
   "execution_count": 41,
   "metadata": {
    "collapsed": true
   },
   "outputs": [],
   "source": [
    "#output_gender = output.loc[output.Trd_ID.isin([186895219, 186895099]),:].sort_values(\"Trd_Name\", ascending=True).reset_index(drop=True)"
   ]
  },
  {
   "cell_type": "code",
   "execution_count": 42,
   "metadata": {
    "collapsed": true
   },
   "outputs": [],
   "source": [
    "output_gender[\"Index\"] = output_gender.Match_Ratio / (np.sum(output_gender.Match_Ratio) / len(output_gender.Match_Ratio)) * 100"
   ]
  },
  {
   "cell_type": "code",
   "execution_count": 43,
   "metadata": {
    "collapsed": false
   },
   "outputs": [
    {
     "data": {
      "text/plain": [
       "(array([0, 1]), <a list of 2 Text xticklabel objects>)"
      ]
     },
     "execution_count": 43,
     "metadata": {},
     "output_type": "execute_result"
    },
    {
     "data": {
      "image/png": "[encoded data removed]",
      "text/plain": [
       "<matplotlib.figure.Figure at 0x116a1a4e0>"
      ]
     },
     "metadata": {},
     "output_type": "display_data"
    }
   ],
   "source": [
    "gender_plot = sns.barplot(data=output_gender, x=\"Trd_Name\", y=\"Index\", palette=pal)\n",
    "gender_plot = gender_plot.set(ylim=[0, np.max(output_gender[\"Index\"])*1.1], xlabel=\"Gender\", ylabel=\"Index\")\n",
    "plt.xticks(rotation=90)"
   ]
  },
  {
   "cell_type": "markdown",
   "metadata": {},
   "source": [
    "---"
   ]
  },
  {
   "cell_type": "code",
   "execution_count": 44,
   "metadata": {
    "collapsed": true
   },
   "outputs": [],
   "source": [
    "#Below we do the standard income segments"
   ]
  },
  {
   "cell_type": "code",
   "execution_count": 53,
   "metadata": {
    "collapsed": true
   },
   "outputs": [],
   "source": [
    "output_income = output.loc[output.Trd_ID.isin([413682620, 413303689, 413303650, 413303686, 415218129, 413303653, 415218138]),:].sort_values(\"Trd_Name\", ascending=True).reset_index(drop=True)"
   ]
  },
  {
   "cell_type": "code",
   "execution_count": 54,
   "metadata": {
    "collapsed": false
   },
   "outputs": [
    {
     "data": {
      "text/plain": [
       "(array([0, 1, 2, 3, 4, 5, 6]), <a list of 7 Text xticklabel objects>)"
      ]
     },
     "execution_count": 54,
     "metadata": {},
     "output_type": "execute_result"
    },
    {
     "data": {
      "image/png": "[encoded data removed]",
      "text/plain": [
       "<matplotlib.figure.Figure at 0x118da2978>"
      ]
     },
     "metadata": {},
     "output_type": "display_data"
    }
   ],
   "source": [
    "output_income[\"Index\"] = output_income.Match_Ratio / (np.sum(output_income.Match_Ratio) / len(output_income.Match_Ratio)) * 100\n",
    "income_plot = sns.barplot(data=output_income, x=\"Trd_Name\", y=\"Index\", palette=pal)\n",
    "income_plot = income_plot.set(ylim=[0, np.max(output_income[\"Index\"])*1.1], xlabel=\"Income\", ylabel=\"Index\")\n",
    "plt.xticks(rotation=90)"
   ]
  },
  {
   "cell_type": "markdown",
   "metadata": {},
   "source": [
    "---"
   ]
  },
  {
   "cell_type": "code",
   "execution_count": 56,
   "metadata": {
    "collapsed": true
   },
   "outputs": [],
   "source": [
    "#Below we do the standard employment segments"
   ]
  },
  {
   "cell_type": "code",
   "execution_count": 57,
   "metadata": {
    "collapsed": true
   },
   "outputs": [],
   "source": [
    "output_emp = output.loc[output.Trd_ID.isin([413303644, 413303647, 413682614, 415218123, 413303401, 415218126, 413682617]),:].sort_values(\"Trd_Name\", ascending=True).reset_index(drop=True)"
   ]
  },
  {
   "cell_type": "code",
   "execution_count": 58,
   "metadata": {
    "collapsed": false
   },
   "outputs": [
    {
     "data": {
      "text/plain": [
       "(array([0, 1, 2, 3, 4, 5, 6]), <a list of 7 Text xticklabel objects>)"
      ]
     },
     "execution_count": 58,
     "metadata": {},
     "output_type": "execute_result"
    },
    {
     "data": {
      "image/png": "[encoded data removed]",
      "text/plain": [
       "<matplotlib.figure.Figure at 0x116b9a630>"
      ]
     },
     "metadata": {},
     "output_type": "display_data"
    }
   ],
   "source": [
    "output_emp[\"Index\"] = output_emp.Match_Ratio / (np.sum(output_emp.Match_Ratio) / len(output_emp.Match_Ratio)) * 100\n",
    "emp_plot = sns.barplot(data=output_emp, x=\"Trd_Name\", y=\"Index\", palette=pal)\n",
    "emp_plot = emp_plot.set(ylim=[0, np.max(output_emp[\"Index\"])*1.1], xlabel=\"Employment\", ylabel=\"Index\")\n",
    "plt.xticks(rotation=90)"
   ]
  },
  {
   "cell_type": "markdown",
   "metadata": {},
   "source": [
    "---"
   ]
  },
  {
   "cell_type": "code",
   "execution_count": null,
   "metadata": {
    "collapsed": true
   },
   "outputs": [],
   "source": [
    "#Below we do the standard housing segments"
   ]
  },
  {
   "cell_type": "code",
   "execution_count": 60,
   "metadata": {
    "collapsed": true
   },
   "outputs": [],
   "source": [
    "output_house = output.loc[output.Trd_ID.isin([415218153, 413682647, 413682650, 413682653, 415218150]),:].sort_values(\"Trd_Name\", ascending=True).reset_index(drop=True)"
   ]
  },
  {
   "cell_type": "code",
   "execution_count": 61,
   "metadata": {
    "collapsed": false
   },
   "outputs": [
    {
     "data": {
      "text/plain": [
       "(array([0, 1, 2, 3, 4]), <a list of 5 Text xticklabel objects>)"
      ]
     },
     "execution_count": 61,
     "metadata": {},
     "output_type": "execute_result"
    },
    {
     "data": {
      "image/png": "[encoded data removed]",
      "text/plain": [
       "<matplotlib.figure.Figure at 0x11975ceb8>"
      ]
     },
     "metadata": {},
     "output_type": "display_data"
    }
   ],
   "source": [
    "output_house[\"Index\"] = output_house.Match_Ratio / (np.sum(output_house.Match_Ratio) / len(output_house.Match_Ratio)) * 100\n",
    "house_plot = sns.barplot(data=output_house, x=\"Trd_Name\", y=\"Index\", palette=pal)\n",
    "house_plot = house_plot.set(ylim=[0, np.max(output_emp[\"Index\"])*1.1], xlabel=\"Employment\", ylabel=\"Index\")\n",
    "plt.xticks(rotation=90)"
   ]
  },
  {
   "cell_type": "markdown",
   "metadata": {},
   "source": [
    "---"
   ]
  },
  {
   "cell_type": "code",
   "execution_count": null,
   "metadata": {
    "collapsed": true
   },
   "outputs": [],
   "source": []
  },
  {
   "cell_type": "code",
   "execution_count": null,
   "metadata": {
    "collapsed": true
   },
   "outputs": [],
   "source": []
  },
  {
   "cell_type": "code",
   "execution_count": null,
   "metadata": {
    "collapsed": true
   },
   "outputs": [],
   "source": [
    "#syntax is fig, something=plt.subplots(numberOfRows, numberOfColumns)\n",
    "#then pass this something into ax=something in your charts\n",
    "#****importantly that make sure the plots are run at the same time as your subplots so it can be displayed\n",
    "f, ggg = plt.subplots(2, 2, figsize=[10, 5])\n",
    "sns.kdeplot(ndata.Viewability.head(100), ndata.CTR.head(100), ax=ggg[0, 0])\n",
    "sns.distplot(ndata.Viewability, ax=ggg[0, 1])\n",
    "sns.distplot(ndata.Spend, ax=ggg[1, 0])\n",
    "sns.distplot(ndata.CTR, ax=ggg[1, 1])"
   ]
  },
  {
   "cell_type": "code",
   "execution_count": null,
   "metadata": {
    "collapsed": true
   },
   "outputs": [],
   "source": []
  },
  {
   "cell_type": "code",
   "execution_count": null,
   "metadata": {
    "collapsed": true
   },
   "outputs": [],
   "source": []
  },
  {
   "cell_type": "code",
   "execution_count": null,
   "metadata": {
    "collapsed": true
   },
   "outputs": [],
   "source": []
  },
  {
   "cell_type": "code",
   "execution_count": null,
   "metadata": {
    "collapsed": true
   },
   "outputs": [],
   "source": []
  },
  {
   "cell_type": "code",
   "execution_count": null,
   "metadata": {
    "collapsed": true
   },
   "outputs": [],
   "source": []
  },
  {
   "cell_type": "code",
   "execution_count": null,
   "metadata": {
    "collapsed": true
   },
   "outputs": [],
   "source": [
    "#always output an excel sheet just in case codes break"
   ]
  }
 ],
 "metadata": {
  "anaconda-cloud": {},
  "kernelspec": {
   "display_name": "Python [default]",
   "language": "python",
   "name": "python3"
  }
 },
 "nbformat": 4,
 "nbformat_minor": 2
}
