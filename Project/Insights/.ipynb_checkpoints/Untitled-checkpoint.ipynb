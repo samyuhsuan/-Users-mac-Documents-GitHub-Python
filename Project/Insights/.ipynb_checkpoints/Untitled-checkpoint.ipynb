{
 "cells": [
  {
   "cell_type": "code",
   "execution_count": 1,
   "metadata": {
    "collapsed": true
   },
   "outputs": [],
   "source": [
    "import numpy as np\n",
    "import pandas as pd\n",
    "import seaborn as sns"
   ]
  },
  {
   "cell_type": "code",
   "execution_count": 4,
   "metadata": {},
   "outputs": [
    {
     "name": "stderr",
     "output_type": "stream",
     "text": [
      "b'Skipping line 118719: expected 13 fields, saw 52\\n'\n",
      "C:\\Users\\ylin\\AppData\\Local\\Continuum\\Anaconda3\\lib\\site-packages\\IPython\\core\\interactiveshell.py:2717: DtypeWarning: Columns (1) have mixed types. Specify dtype option on import or set low_memory=False.\n",
      "  interactivity=interactivity, compiler=compiler, result=result)\n"
     ]
    }
   ],
   "source": [
    "data = pd.read_csv(\"Audience composition example.csv\", error_bad_lines=False)"
   ]
  },
  {
   "cell_type": "code",
   "execution_count": 5,
   "metadata": {},
   "outputs": [
    {
     "data": {
      "text/html": [
       "<div>\n",
       "<style>\n",
       "    .dataframe thead tr:only-child th {\n",
       "        text-align: right;\n",
       "    }\n",
       "\n",
       "    .dataframe thead th {\n",
       "        text-align: left;\n",
       "    }\n",
       "\n",
       "    .dataframe tbody tr th {\n",
       "        vertical-align: top;\n",
       "    }\n",
       "</style>\n",
       "<table border=\"1\" class=\"dataframe\">\n",
       "  <thead>\n",
       "    <tr style=\"text-align: right;\">\n",
       "      <th></th>\n",
       "      <th>Audience List</th>\n",
       "      <th>Audience List ID</th>\n",
       "      <th>Audience List Type</th>\n",
       "      <th>Audience List Cost (USD)</th>\n",
       "      <th>Eligible Cookies on First-Party Audience List</th>\n",
       "      <th>Audience List.1</th>\n",
       "      <th>Audience List ID.1</th>\n",
       "      <th>Audience List Type.1</th>\n",
       "      <th>Audience List Cost (USD).1</th>\n",
       "      <th>Eligible Cookies on Third-Party Audience List &amp; Interest</th>\n",
       "      <th>Match Ratio</th>\n",
       "      <th>Potential Impressions</th>\n",
       "      <th>Unique Cookies with Impressions</th>\n",
       "    </tr>\n",
       "  </thead>\n",
       "  <tbody>\n",
       "    <tr>\n",
       "      <th>0</th>\n",
       "      <td>AAM_ExistingCustomers_All_AllCustomers</td>\n",
       "      <td>460888340</td>\n",
       "      <td>First Party</td>\n",
       "      <td>0.0</td>\n",
       "      <td>1630939.0</td>\n",
       "      <td>V12</td>\n",
       "      <td>1830126.0</td>\n",
       "      <td>Third Party</td>\n",
       "      <td>0.50</td>\n",
       "      <td>157239488.0</td>\n",
       "      <td>0.618234</td>\n",
       "      <td>17150110</td>\n",
       "      <td>12151</td>\n",
       "    </tr>\n",
       "    <tr>\n",
       "      <th>1</th>\n",
       "      <td>AAM_ExistingCustomers_All_AllCustomers</td>\n",
       "      <td>460888340</td>\n",
       "      <td>First Party</td>\n",
       "      <td>0.0</td>\n",
       "      <td>1630939.0</td>\n",
       "      <td>EPMV=1</td>\n",
       "      <td>414894051.0</td>\n",
       "      <td>Third Party</td>\n",
       "      <td>1.75</td>\n",
       "      <td>46535308.0</td>\n",
       "      <td>0.317875</td>\n",
       "      <td>2640077</td>\n",
       "      <td>1849</td>\n",
       "    </tr>\n",
       "    <tr>\n",
       "      <th>2</th>\n",
       "      <td>AAM_ExistingCustomers_All_AllCustomers</td>\n",
       "      <td>460888340</td>\n",
       "      <td>First Party</td>\n",
       "      <td>0.0</td>\n",
       "      <td>1630939.0</td>\n",
       "      <td>EPMV=2</td>\n",
       "      <td>414894147.0</td>\n",
       "      <td>Third Party</td>\n",
       "      <td>1.75</td>\n",
       "      <td>46836000.0</td>\n",
       "      <td>0.406024</td>\n",
       "      <td>7147369</td>\n",
       "      <td>2377</td>\n",
       "    </tr>\n",
       "    <tr>\n",
       "      <th>3</th>\n",
       "      <td>AAM_ExistingCustomers_All_AllCustomers</td>\n",
       "      <td>460888340</td>\n",
       "      <td>First Party</td>\n",
       "      <td>0.0</td>\n",
       "      <td>1630939.0</td>\n",
       "      <td>06 » 04</td>\n",
       "      <td>66781279.0</td>\n",
       "      <td>Third Party</td>\n",
       "      <td>1.00</td>\n",
       "      <td>1766825.0</td>\n",
       "      <td>0.199233</td>\n",
       "      <td>76652</td>\n",
       "      <td>&lt; 1000</td>\n",
       "    </tr>\n",
       "    <tr>\n",
       "      <th>4</th>\n",
       "      <td>AAM_ExistingCustomers_All_AllCustomers</td>\n",
       "      <td>460888340</td>\n",
       "      <td>First Party</td>\n",
       "      <td>0.0</td>\n",
       "      <td>1630939.0</td>\n",
       "      <td>06 » 06</td>\n",
       "      <td>66781519.0</td>\n",
       "      <td>Third Party</td>\n",
       "      <td>1.00</td>\n",
       "      <td>2261793.0</td>\n",
       "      <td>1.245066</td>\n",
       "      <td>56267</td>\n",
       "      <td>&lt; 1000</td>\n",
       "    </tr>\n",
       "  </tbody>\n",
       "</table>\n",
       "</div>"
      ],
      "text/plain": [
       "                            Audience List Audience List ID Audience List Type  \\\n",
       "0  AAM_ExistingCustomers_All_AllCustomers        460888340        First Party   \n",
       "1  AAM_ExistingCustomers_All_AllCustomers        460888340        First Party   \n",
       "2  AAM_ExistingCustomers_All_AllCustomers        460888340        First Party   \n",
       "3  AAM_ExistingCustomers_All_AllCustomers        460888340        First Party   \n",
       "4  AAM_ExistingCustomers_All_AllCustomers        460888340        First Party   \n",
       "\n",
       "   Audience List Cost (USD)  Eligible Cookies on First-Party Audience List  \\\n",
       "0                       0.0                                      1630939.0   \n",
       "1                       0.0                                      1630939.0   \n",
       "2                       0.0                                      1630939.0   \n",
       "3                       0.0                                      1630939.0   \n",
       "4                       0.0                                      1630939.0   \n",
       "\n",
       "  Audience List.1  Audience List ID.1 Audience List Type.1  \\\n",
       "0             V12           1830126.0          Third Party   \n",
       "1          EPMV=1         414894051.0          Third Party   \n",
       "2          EPMV=2         414894147.0          Third Party   \n",
       "3         06 » 04          66781279.0          Third Party   \n",
       "4         06 » 06          66781519.0          Third Party   \n",
       "\n",
       "   Audience List Cost (USD).1  \\\n",
       "0                        0.50   \n",
       "1                        1.75   \n",
       "2                        1.75   \n",
       "3                        1.00   \n",
       "4                        1.00   \n",
       "\n",
       "   Eligible Cookies on Third-Party Audience List & Interest  Match Ratio  \\\n",
       "0                                        157239488.0            0.618234   \n",
       "1                                         46535308.0            0.317875   \n",
       "2                                         46836000.0            0.406024   \n",
       "3                                          1766825.0            0.199233   \n",
       "4                                          2261793.0            1.245066   \n",
       "\n",
       "  Potential Impressions Unique Cookies with Impressions  \n",
       "0              17150110                           12151  \n",
       "1               2640077                            1849  \n",
       "2               7147369                            2377  \n",
       "3                 76652                          < 1000  \n",
       "4                 56267                          < 1000  "
      ]
     },
     "execution_count": 5,
     "metadata": {},
     "output_type": "execute_result"
    }
   ],
   "source": [
    "data.head()"
   ]
  },
  {
   "cell_type": "code",
   "execution_count": 6,
   "metadata": {
    "collapsed": true
   },
   "outputs": [],
   "source": [
    "#method 1 using 3rd party segment unique size * threshold% as threshold\n",
    "#1. assuming population base\n",
    "#2. 1st party eligible cookies / population base = threshold%\n",
    "#3. 1st party eligible cookies * threshold% = threshold\n",
    "#4. filter out: 3rd party < threshold \n",
    "#PS. step 4 use unique cookies with impressions instead of eligible uniques on 3rd party (overlap vs all)\n",
    "#5. sort it by match ratio \n",
    "\n",
    "#method 2 using 31st party segment unique size * threshold% as threshold\n",
    "#1. assuming population base\n",
    "#2. 1st party eligible cookies / population base = threshold%\n",
    "#3. Eligible cookies on 3rd party * threshold% = threshold\n",
    "#4. filter out: Uniques cookies with impressions < threshold \n",
    "#5. sort it by match ratio "
   ]
  },
  {
   "cell_type": "code",
   "execution_count": null,
   "metadata": {
    "collapsed": true
   },
   "outputs": [],
   "source": [
    "#population assumption as base\n",
    "pop"
   ]
  },
  {
   "cell_type": "code",
   "execution_count": null,
   "metadata": {
    "collapsed": true
   },
   "outputs": [],
   "source": []
  },
  {
   "cell_type": "code",
   "execution_count": null,
   "metadata": {
    "collapsed": true
   },
   "outputs": [],
   "source": []
  },
  {
   "cell_type": "code",
   "execution_count": null,
   "metadata": {
    "collapsed": true
   },
   "outputs": [],
   "source": [
    "data = data.loc[:,[\"City\", \"Format\", \"Exchange\", \"Browser\", \"Operating System\", \n",
    "            \"Environment\", \"Device Type\", \"Potential Impressions\", \"Unique Cookies with Impressions\"]]"
   ]
  },
  {
   "cell_type": "code",
   "execution_count": null,
   "metadata": {
    "collapsed": true
   },
   "outputs": [],
   "source": [
    "data.columns = ['City', 'Format', 'Exchange', 'Browser', 'OS', 'Environment', 'Device', 'Impressions','Unique']"
   ]
  },
  {
   "cell_type": "code",
   "execution_count": null,
   "metadata": {
    "collapsed": true
   },
   "outputs": [],
   "source": [
    "data.Impressions = data.Impressions.str.replace(\"< 1000\", \"0\")\n",
    "data.Unique = data.Unique.str.replace(\"< 1000\", \"0\")"
   ]
  },
  {
   "cell_type": "code",
   "execution_count": null,
   "metadata": {
    "collapsed": true
   },
   "outputs": [],
   "source": [
    "data.Impressions = data.Impressions.astype(\"float64\")\n",
    "data.Unique = data.Unique.astype(\"float64\")"
   ]
  },
  {
   "cell_type": "code",
   "execution_count": null,
   "metadata": {
    "collapsed": true
   },
   "outputs": [],
   "source": [
    "data.head()"
   ]
  },
  {
   "cell_type": "code",
   "execution_count": null,
   "metadata": {
    "collapsed": true
   },
   "outputs": [],
   "source": [
    "sns.lmplot(data=data.head(200), x=\"OS\", y=\"Browser\")"
   ]
  },
  {
   "cell_type": "code",
   "execution_count": null,
   "metadata": {
    "collapsed": true
   },
   "outputs": [],
   "source": [
    "data.head()"
   ]
  },
  {
   "cell_type": "code",
   "execution_count": null,
   "metadata": {
    "collapsed": true
   },
   "outputs": [],
   "source": []
  }
 ],
 "metadata": {
  "kernelspec": {
   "display_name": "Python 3",
   "language": "python",
   "name": "python3"
  },
  "language_info": {
   "codemirror_mode": {
    "name": "ipython",
    "version": 3
   },
   "file_extension": ".py",
   "mimetype": "text/x-python",
   "name": "python",
   "nbconvert_exporter": "python",
   "pygments_lexer": "ipython3",
   "version": "3.6.1"
  }
 },
 "nbformat": 4,
 "nbformat_minor": 2
}
