{
 "cells": [
  {
   "cell_type": "code",
   "execution_count": 35,
   "metadata": {
    "collapsed": true
   },
   "outputs": [],
   "source": [
    "#Trying to extract\n",
    "#-monthly spend by client: a function which calls monthly spend by the client input\n",
    "#-monthly spend by publisher: a function which calls monthly spend by the publisher input"
   ]
  },
  {
   "cell_type": "code",
   "execution_count": 2,
   "metadata": {
    "collapsed": true
   },
   "outputs": [],
   "source": [
    "import numpy as np\n",
    "import pandas as pd\n",
    "import seaborn as sns\n",
    "import matplotlib.pyplot as plt\n",
    "%matplotlib inline"
   ]
  },
  {
   "cell_type": "code",
   "execution_count": 3,
   "metadata": {
    "collapsed": false
   },
   "outputs": [
    {
     "name": "stderr",
     "output_type": "stream",
     "text": [
      "C:\\Program Files\\Anaconda3\\lib\\site-packages\\IPython\\core\\interactiveshell.py:2717: DtypeWarning: Columns (6) have mixed types. Specify dtype option on import or set low_memory=False.\n",
      "  interactivity=interactivity, compiler=compiler, result=result)\n"
     ]
    }
   ],
   "source": [
    "pub = pd.read_csv(\"..\\..\\..\\publisher_0116_0217.csv\")"
   ]
  },
  {
   "cell_type": "code",
   "execution_count": 4,
   "metadata": {
    "collapsed": false
   },
   "outputs": [],
   "source": [
    "pub = pub.drop(pub.index[12830980:])"
   ]
  },
  {
   "cell_type": "code",
   "execution_count": 6,
   "metadata": {
    "collapsed": false
   },
   "outputs": [],
   "source": [
    "pub = pub.drop(['Advertiser ID', 'Advertiser Status', 'Advertiser Integration Code', 'App/URL ID'], 1)"
   ]
  },
  {
   "cell_type": "code",
   "execution_count": 7,
   "metadata": {
    "collapsed": true
   },
   "outputs": [],
   "source": [
    "pub.columns = ['Month', 'Advertiser', 'URL', 'PublicInventory', 'Currency', 'Impressions', 'Clicks', 'Spend']"
   ]
  },
  {
   "cell_type": "code",
   "execution_count": 8,
   "metadata": {
    "collapsed": false
   },
   "outputs": [],
   "source": [
    "pub.Advertiser = pub.Advertiser.astype(\"category\")"
   ]
  },
  {
   "cell_type": "code",
   "execution_count": 9,
   "metadata": {
    "collapsed": false
   },
   "outputs": [],
   "source": [
    "pub[\"AdvertiserNameX\"] = pub.Advertiser.str.split(\"_\").str[0]"
   ]
  },
  {
   "cell_type": "code",
   "execution_count": null,
   "metadata": {
    "collapsed": false
   },
   "outputs": [],
   "source": [
    "pub[\"AdvertiserName\"] = pub.AdvertiserNameX.str.lower()"
   ]
  },
  {
   "cell_type": "code",
   "execution_count": null,
   "metadata": {
    "collapsed": true
   },
   "outputs": [],
   "source": [
    "month = np.unique(pub.Month)"
   ]
  },
  {
   "cell_type": "code",
   "execution_count": null,
   "metadata": {
    "collapsed": false
   },
   "outputs": [],
   "source": [
    "ebay = pub[(pub.URL.str.contains(\"ebay.co.uk\")) | (pub.URL.str.contains(\"ebay.com\"))]"
   ]
  },
  {
   "cell_type": "code",
   "execution_count": null,
   "metadata": {
    "collapsed": false
   },
   "outputs": [],
   "source": [
    "pub.head()"
   ]
  },
  {
   "cell_type": "code",
   "execution_count": null,
   "metadata": {
    "collapsed": false
   },
   "outputs": [],
   "source": [
    "pub[pub.AdvertiserName == \"Aviva\"].pivot_table(index=\"Month\", values=\"Spend\", aggfunc=np.sum)"
   ]
  },
  {
   "cell_type": "code",
   "execution_count": null,
   "metadata": {
    "collapsed": false
   },
   "outputs": [],
   "source": [
    "def spend(x):\n",
    "    y = pub[pub.AdvertiserName == x].pivot_table(index=\"Month\", values=\"Spend\", aggfunc=np.sum)\n",
    "    print(y)"
   ]
  },
  {
   "cell_type": "code",
   "execution_count": null,
   "metadata": {
    "collapsed": false
   },
   "outputs": [],
   "source": [
    "def clientSpend(x):\n",
    "    g = pub[pub.AdvertiserName == x].pivot_table(index=\"Month\", values=[\"Spend\", \"Impressions\"], aggfunc=np.sum)\n",
    "    month = np.unique(pub[pub.AdvertiserName == x].Month)\n",
    "    f, ax = plt.subplots(1, 1, figsize=[20, 5])\n",
    "    chart = sns.barplot(data=g, x=month, y=\"Spend\")\n",
    "    chart.set_xticklabels(month, rotation=75)"
   ]
  },
  {
   "cell_type": "code",
   "execution_count": null,
   "metadata": {
    "collapsed": false
   },
   "outputs": [],
   "source": [
    "clientSpend(\"Aviva\")"
   ]
  },
  {
   "cell_type": "code",
   "execution_count": null,
   "metadata": {
    "collapsed": false
   },
   "outputs": [],
   "source": [
    "clientSpend(\"Next\")"
   ]
  },
  {
   "cell_type": "code",
   "execution_count": null,
   "metadata": {
    "collapsed": true
   },
   "outputs": [],
   "source": [
    "def clientSpend_1(x):\n",
    "    f, ax = plt.subplots(len(x), 1, figsize=[20, 5])\n",
    "    i = 0\n",
    "    for x in x:\n",
    "        g = pub[pub.AdvertiserName == x].pivot_table(index=\"Month\", values=[\"Spend\", \"Impressions\"], aggfunc=np.sum)\n",
    "        month = np.unique(pub.Month)\n",
    "        chart = sns.barplot(data=g, x=month, y=\"Spend\", ax=ax[i])\n",
    "        chart.set_xticklabels(month, rotation=75)\n",
    "        i = i + 1"
   ]
  },
  {
   "cell_type": "code",
   "execution_count": null,
   "metadata": {
    "collapsed": false
   },
   "outputs": [],
   "source": [
    "clientSpend_1([\"Aviva\", \"Next\"])"
   ]
  },
  {
   "cell_type": "code",
   "execution_count": null,
   "metadata": {
    "collapsed": false
   },
   "outputs": [],
   "source": [
    "def publisherSpend(x):\n",
    "    g = pub[(pub.URL.str.contains(x+\".co.uk\")) | (pub.URL.str.contains(x+\".com\"))].pivot_table(\n",
    "        index=\"Month\", values=[\"Spend\", \"Impressions\"], aggfunc=np.sum)\n",
    "    month = np.unique(pub[pub.AdvertiserName == x].Month)\n",
    "    f, ax = plt.subplots(1, 1, figsize=[20, 5])\n",
    "    chart = sns.barplot(data=g, x=month, y=\"Spend\", ax=ax)\n",
    "    chart.set_xticklabels(month, rotation=75)\n",
    "    print( x, \"total spend from\", month[0], \"to\", month[-1], \"is:\", \n",
    "          np.sum(pub[(pub.URL.str.contains(x+\".co.uk\")) | (pub.URL.str.contains(x+\".com\"))].Spend))"
   ]
  },
  {
   "cell_type": "code",
   "execution_count": null,
   "metadata": {
    "collapsed": false
   },
   "outputs": [],
   "source": [
    "publisherSpend(\"ebay\")"
   ]
  },
  {
   "cell_type": "code",
   "execution_count": null,
   "metadata": {
    "collapsed": false
   },
   "outputs": [],
   "source": [
    "np.sum(pub[(pub.URL.str.contains(\"ebay.co.uk\")) | (pub.URL.str.contains(\"ebay.com\"))].Spend)"
   ]
  },
  {
   "cell_type": "code",
   "execution_count": null,
   "metadata": {
    "collapsed": false
   },
   "outputs": [],
   "source": [
    "publisherSpend(\"theguardian\")"
   ]
  },
  {
   "cell_type": "code",
   "execution_count": null,
   "metadata": {
    "collapsed": false,
    "scrolled": true
   },
   "outputs": [],
   "source": [
    "publisherSpend(\"ebay\")"
   ]
  },
  {
   "cell_type": "code",
   "execution_count": null,
   "metadata": {
    "collapsed": false
   },
   "outputs": [],
   "source": [
    "clientSpend(\"ACER\")"
   ]
  },
  {
   "cell_type": "code",
   "execution_count": null,
   "metadata": {
    "collapsed": false
   },
   "outputs": [],
   "source": [
    "np.unique(pub[pub.AdvertiserName == \"CarphoneWarehouse2\"].Month)"
   ]
  },
  {
   "cell_type": "code",
   "execution_count": null,
   "metadata": {
    "collapsed": false
   },
   "outputs": [],
   "source": [
    "np.unique(pub.AdvertiserName)"
   ]
  },
  {
   "cell_type": "code",
   "execution_count": null,
   "metadata": {
    "collapsed": false
   },
   "outputs": [],
   "source": [
    "ggg = \"HSGSADKAD\""
   ]
  },
  {
   "cell_type": "code",
   "execution_count": null,
   "metadata": {
    "collapsed": true
   },
   "outputs": [],
   "source": [
    "pub.Advertiser.str.lower()"
   ]
  },
  {
   "cell_type": "code",
   "execution_count": null,
   "metadata": {
    "collapsed": true
   },
   "outputs": [],
   "source": []
  }
 ],
 "metadata": {
  "anaconda-cloud": {},
  "kernelspec": {
   "display_name": "Python [conda root]",
   "language": "python",
   "name": "conda-root-py"
  },
  "language_info": {
   "codemirror_mode": {
    "name": "ipython",
    "version": 3
   },
   "file_extension": ".py",
   "mimetype": "text/x-python",
   "name": "python",
   "nbconvert_exporter": "python",
   "pygments_lexer": "ipython3",
   "version": "3.5.2"
  }
 },
 "nbformat": 4,
 "nbformat_minor": 1
}
