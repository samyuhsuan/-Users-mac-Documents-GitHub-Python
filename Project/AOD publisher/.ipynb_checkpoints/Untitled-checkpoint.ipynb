{
 "cells": [
  {
   "cell_type": "code",
   "execution_count": 5,
   "metadata": {
    "collapsed": true
   },
   "outputs": [],
   "source": [
    "import numpy as np\n",
    "import pandas as pd\n",
    "import seaborn as sns\n",
    "import matplotlib.pyplot as plt\n",
    "%matplotlib inline"
   ]
  },
  {
   "cell_type": "code",
   "execution_count": 13,
   "metadata": {
    "collapsed": false
   },
   "outputs": [
    {
     "name": "stderr",
     "output_type": "stream",
     "text": [
      "C:\\Program Files\\Anaconda3\\lib\\site-packages\\IPython\\core\\interactiveshell.py:2717: DtypeWarning: Columns (6) have mixed types. Specify dtype option on import or set low_memory=False.\n",
      "  interactivity=interactivity, compiler=compiler, result=result)\n"
     ]
    }
   ],
   "source": [
    "pub = pd.read_csv(\"..\\..\\..\\publisher_0116_0217.csv\")"
   ]
  },
  {
   "cell_type": "code",
   "execution_count": 20,
   "metadata": {
    "collapsed": false
   },
   "outputs": [],
   "source": [
    "pub = pub.drop(pub.index[12830980:])"
   ]
  },
  {
   "cell_type": "code",
   "execution_count": 25,
   "metadata": {
    "collapsed": false
   },
   "outputs": [],
   "source": [
    "pub = pub.drop(['Advertiser ID', 'Advertiser Status', 'Advertiser Integration Code', 'App/URL ID'], 1)"
   ]
  },
  {
   "cell_type": "code",
   "execution_count": 26,
   "metadata": {
    "collapsed": false
   },
   "outputs": [
    {
     "data": {
      "text/plain": [
       "Index(['Month', 'Advertiser', 'App/URL', 'Public Inventory',\n",
       "       'Advertiser Currency', 'Impressions', 'Clicks',\n",
       "       'Revenue (Adv Currency)'],\n",
       "      dtype='object')"
      ]
     },
     "execution_count": 26,
     "metadata": {},
     "output_type": "execute_result"
    }
   ],
   "source": [
    "pub.columns"
   ]
  },
  {
   "cell_type": "code",
   "execution_count": 27,
   "metadata": {
    "collapsed": true
   },
   "outputs": [],
   "source": [
    "pub.columns = ['Month', 'Advertiser', 'URL', 'PublicInventory', 'Currency', 'Impressions', 'Clicks', 'Spend']"
   ]
  },
  {
   "cell_type": "code",
   "execution_count": 45,
   "metadata": {
    "collapsed": false
   },
   "outputs": [],
   "source": [
    "pub.Advertiser = pub.Advertiser.astype(\"category\")"
   ]
  },
  {
   "cell_type": "code",
   "execution_count": 57,
   "metadata": {
    "collapsed": false
   },
   "outputs": [],
   "source": [
    "pub[\"AdvertiserName\"] = pub.Advertiser.str.split(\"_\").str[0]"
   ]
  },
  {
   "cell_type": "code",
   "execution_count": 61,
   "metadata": {
    "collapsed": false
   },
   "outputs": [],
   "source": [
    "ebay = pub[(pub.URL.str.contains(\"ebay.co.uk\")) | (pub.URL.str.contains(\"ebay.com\"))]"
   ]
  },
  {
   "cell_type": "code",
   "execution_count": 129,
   "metadata": {
    "collapsed": false
   },
   "outputs": [
    {
     "data": {
      "text/html": [
       "<div>\n",
       "<table border=\"1\" class=\"dataframe\">\n",
       "  <thead>\n",
       "    <tr style=\"text-align: right;\">\n",
       "      <th></th>\n",
       "      <th>Month</th>\n",
       "      <th>Advertiser</th>\n",
       "      <th>URL</th>\n",
       "      <th>PublicInventory</th>\n",
       "      <th>Currency</th>\n",
       "      <th>Impressions</th>\n",
       "      <th>Clicks</th>\n",
       "      <th>Spend</th>\n",
       "      <th>AdvertiserName</th>\n",
       "    </tr>\n",
       "  </thead>\n",
       "  <tbody>\n",
       "    <tr>\n",
       "      <th>0</th>\n",
       "      <td>2016/01</td>\n",
       "      <td>CarphoneWarehouse2_UK_Blue449</td>\n",
       "      <td>recipes.in</td>\n",
       "      <td>Yes</td>\n",
       "      <td>GBP</td>\n",
       "      <td>79.0</td>\n",
       "      <td>0.0</td>\n",
       "      <td>0.045726</td>\n",
       "      <td>CarphoneWarehouse2</td>\n",
       "    </tr>\n",
       "    <tr>\n",
       "      <th>1</th>\n",
       "      <td>2016/01</td>\n",
       "      <td>CarphoneWarehouse2_UK_Blue449</td>\n",
       "      <td>red-brolly.com</td>\n",
       "      <td>Yes</td>\n",
       "      <td>GBP</td>\n",
       "      <td>12.0</td>\n",
       "      <td>0.0</td>\n",
       "      <td>0.005061</td>\n",
       "      <td>CarphoneWarehouse2</td>\n",
       "    </tr>\n",
       "    <tr>\n",
       "      <th>2</th>\n",
       "      <td>2016/01</td>\n",
       "      <td>CarphoneWarehouse2_UK_Blue449</td>\n",
       "      <td>s1006.photobucket.com</td>\n",
       "      <td>Yes</td>\n",
       "      <td>GBP</td>\n",
       "      <td>1.0</td>\n",
       "      <td>0.0</td>\n",
       "      <td>0.005649</td>\n",
       "      <td>CarphoneWarehouse2</td>\n",
       "    </tr>\n",
       "    <tr>\n",
       "      <th>3</th>\n",
       "      <td>2016/01</td>\n",
       "      <td>CarphoneWarehouse2_UK_Blue449</td>\n",
       "      <td>seniorhealth.about.com</td>\n",
       "      <td>Yes</td>\n",
       "      <td>GBP</td>\n",
       "      <td>72.0</td>\n",
       "      <td>0.0</td>\n",
       "      <td>0.111920</td>\n",
       "      <td>CarphoneWarehouse2</td>\n",
       "    </tr>\n",
       "    <tr>\n",
       "      <th>4</th>\n",
       "      <td>2016/01</td>\n",
       "      <td>CarphoneWarehouse2_UK_Blue449</td>\n",
       "      <td>skinnykitchen.com</td>\n",
       "      <td>Yes</td>\n",
       "      <td>GBP</td>\n",
       "      <td>258.0</td>\n",
       "      <td>0.0</td>\n",
       "      <td>0.254953</td>\n",
       "      <td>CarphoneWarehouse2</td>\n",
       "    </tr>\n",
       "  </tbody>\n",
       "</table>\n",
       "</div>"
      ],
      "text/plain": [
       "     Month                     Advertiser                     URL  \\\n",
       "0  2016/01  CarphoneWarehouse2_UK_Blue449              recipes.in   \n",
       "1  2016/01  CarphoneWarehouse2_UK_Blue449          red-brolly.com   \n",
       "2  2016/01  CarphoneWarehouse2_UK_Blue449   s1006.photobucket.com   \n",
       "3  2016/01  CarphoneWarehouse2_UK_Blue449  seniorhealth.about.com   \n",
       "4  2016/01  CarphoneWarehouse2_UK_Blue449       skinnykitchen.com   \n",
       "\n",
       "  PublicInventory Currency  Impressions  Clicks     Spend      AdvertiserName  \n",
       "0             Yes      GBP         79.0     0.0  0.045726  CarphoneWarehouse2  \n",
       "1             Yes      GBP         12.0     0.0  0.005061  CarphoneWarehouse2  \n",
       "2             Yes      GBP          1.0     0.0  0.005649  CarphoneWarehouse2  \n",
       "3             Yes      GBP         72.0     0.0  0.111920  CarphoneWarehouse2  \n",
       "4             Yes      GBP        258.0     0.0  0.254953  CarphoneWarehouse2  "
      ]
     },
     "execution_count": 129,
     "metadata": {},
     "output_type": "execute_result"
    }
   ],
   "source": [
    "pub.head()"
   ]
  },
  {
   "cell_type": "code",
   "execution_count": 65,
   "metadata": {
    "collapsed": false
   },
   "outputs": [
    {
     "data": {
      "text/plain": [
       "Month\n",
       "2016/01    122978.467319\n",
       "2016/02    106555.997821\n",
       "2016/03    151785.835684\n",
       "2016/04    161006.439318\n",
       "2016/05    124073.372243\n",
       "2016/06    122472.885110\n",
       "2016/07     93732.587367\n",
       "2016/08    139971.654078\n",
       "2016/09    203190.505641\n",
       "2016/10    261872.881402\n",
       "2016/11    189533.327129\n",
       "2016/12     53492.634845\n",
       "2017/01    106525.506839\n",
       "2017/02     90761.899515\n",
       "Name: Spend, dtype: float64"
      ]
     },
     "execution_count": 65,
     "metadata": {},
     "output_type": "execute_result"
    }
   ],
   "source": [
    "pub[pub.AdvertiserName == \"Aviva\"].pivot_table(index=\"Month\", values=\"Spend\", aggfunc=np.sum)"
   ]
  },
  {
   "cell_type": "code",
   "execution_count": 122,
   "metadata": {
    "collapsed": false
   },
   "outputs": [],
   "source": [
    "def spend(x):\n",
    "    y = pub[pub.AdvertiserName == x].pivot_table(index=\"Month\", values=\"Spend\", aggfunc=np.sum)\n",
    "    print(y)"
   ]
  },
  {
   "cell_type": "code",
   "execution_count": 124,
   "metadata": {
    "collapsed": false
   },
   "outputs": [],
   "source": [
    "def spend1(x):\n",
    "    y = pub[pub.AdvertiserName == x].pivot_table(index=\"Month\", values=\"Spend\", aggfunc=np.sum)\n",
    "    plt.plot(y.Month, y.Spend)"
   ]
  },
  {
   "cell_type": "code",
   "execution_count": 137,
   "metadata": {
    "collapsed": false
   },
   "outputs": [],
   "source": [
    "ggg = pub[pub.AdvertiserName == \"Aviva\"].pivot_table(index=\"Month\", values=[\"Spend\", \"Impressions\"], aggfunc=np.sum)"
   ]
  },
  {
   "cell_type": "code",
   "execution_count": 154,
   "metadata": {
    "collapsed": false
   },
   "outputs": [
    {
     "data": {
      "text/html": [
       "<div>\n",
       "<table border=\"1\" class=\"dataframe\">\n",
       "  <thead>\n",
       "    <tr style=\"text-align: right;\">\n",
       "      <th></th>\n",
       "      <th>Impressions</th>\n",
       "      <th>Spend</th>\n",
       "    </tr>\n",
       "    <tr>\n",
       "      <th>Month</th>\n",
       "      <th></th>\n",
       "      <th></th>\n",
       "    </tr>\n",
       "  </thead>\n",
       "  <tbody>\n",
       "    <tr>\n",
       "      <th>2016/01</th>\n",
       "      <td>3.079227e+07</td>\n",
       "      <td>122978.467319</td>\n",
       "    </tr>\n",
       "    <tr>\n",
       "      <th>2016/02</th>\n",
       "      <td>2.289812e+07</td>\n",
       "      <td>106555.997821</td>\n",
       "    </tr>\n",
       "    <tr>\n",
       "      <th>2016/03</th>\n",
       "      <td>3.646128e+07</td>\n",
       "      <td>151785.835684</td>\n",
       "    </tr>\n",
       "    <tr>\n",
       "      <th>2016/04</th>\n",
       "      <td>3.922660e+07</td>\n",
       "      <td>161006.439318</td>\n",
       "    </tr>\n",
       "    <tr>\n",
       "      <th>2016/05</th>\n",
       "      <td>3.127808e+07</td>\n",
       "      <td>124073.372243</td>\n",
       "    </tr>\n",
       "    <tr>\n",
       "      <th>2016/06</th>\n",
       "      <td>3.918806e+07</td>\n",
       "      <td>122472.885110</td>\n",
       "    </tr>\n",
       "    <tr>\n",
       "      <th>2016/07</th>\n",
       "      <td>2.577685e+07</td>\n",
       "      <td>93732.587367</td>\n",
       "    </tr>\n",
       "    <tr>\n",
       "      <th>2016/08</th>\n",
       "      <td>3.394556e+07</td>\n",
       "      <td>139971.654078</td>\n",
       "    </tr>\n",
       "    <tr>\n",
       "      <th>2016/09</th>\n",
       "      <td>9.247976e+07</td>\n",
       "      <td>203190.505641</td>\n",
       "    </tr>\n",
       "    <tr>\n",
       "      <th>2016/10</th>\n",
       "      <td>1.023881e+08</td>\n",
       "      <td>261872.881402</td>\n",
       "    </tr>\n",
       "    <tr>\n",
       "      <th>2016/11</th>\n",
       "      <td>5.084441e+07</td>\n",
       "      <td>189533.327129</td>\n",
       "    </tr>\n",
       "    <tr>\n",
       "      <th>2016/12</th>\n",
       "      <td>1.491306e+07</td>\n",
       "      <td>53492.634845</td>\n",
       "    </tr>\n",
       "    <tr>\n",
       "      <th>2017/01</th>\n",
       "      <td>2.629574e+07</td>\n",
       "      <td>106525.506839</td>\n",
       "    </tr>\n",
       "    <tr>\n",
       "      <th>2017/02</th>\n",
       "      <td>2.134156e+07</td>\n",
       "      <td>90761.899515</td>\n",
       "    </tr>\n",
       "  </tbody>\n",
       "</table>\n",
       "</div>"
      ],
      "text/plain": [
       "          Impressions          Spend\n",
       "Month                               \n",
       "2016/01  3.079227e+07  122978.467319\n",
       "2016/02  2.289812e+07  106555.997821\n",
       "2016/03  3.646128e+07  151785.835684\n",
       "2016/04  3.922660e+07  161006.439318\n",
       "2016/05  3.127808e+07  124073.372243\n",
       "2016/06  3.918806e+07  122472.885110\n",
       "2016/07  2.577685e+07   93732.587367\n",
       "2016/08  3.394556e+07  139971.654078\n",
       "2016/09  9.247976e+07  203190.505641\n",
       "2016/10  1.023881e+08  261872.881402\n",
       "2016/11  5.084441e+07  189533.327129\n",
       "2016/12  1.491306e+07   53492.634845\n",
       "2017/01  2.629574e+07  106525.506839\n",
       "2017/02  2.134156e+07   90761.899515"
      ]
     },
     "execution_count": 154,
     "metadata": {},
     "output_type": "execute_result"
    }
   ],
   "source": [
    "ggg"
   ]
  },
  {
   "cell_type": "code",
   "execution_count": 160,
   "metadata": {
    "collapsed": true
   },
   "outputs": [],
   "source": [
    "month = np.unique(pub.Month)"
   ]
  },
  {
   "cell_type": "code",
   "execution_count": 159,
   "metadata": {
    "collapsed": false
   },
   "outputs": [
    {
     "data": {
      "text/plain": [
       "<matplotlib.axes._subplots.AxesSubplot at 0xd850da0>"
      ]
     },
     "execution_count": 159,
     "metadata": {},
     "output_type": "execute_result"
    },
    {
     "data": {
      "image/png": "[encoded data removed]",
      "text/plain": [
       "<matplotlib.figure.Figure at 0xcb57550>"
      ]
     },
     "metadata": {},
     "output_type": "display_data"
    }
   ],
   "source": [
    "sns.barplot(data=ggg, x=month, y=\"Spend\")"
   ]
  },
  {
   "cell_type": "code",
   "execution_count": 158,
   "metadata": {
    "collapsed": false
   },
   "outputs": [],
   "source": []
  },
  {
   "cell_type": "code",
   "execution_count": null,
   "metadata": {
    "collapsed": true
   },
   "outputs": [],
   "source": []
  }
 ],
 "metadata": {
  "anaconda-cloud": {},
  "kernelspec": {
   "display_name": "Python [conda root]",
   "language": "python",
   "name": "conda-root-py"
  },
  "language_info": {
   "codemirror_mode": {
    "name": "ipython",
    "version": 3
   },
   "file_extension": ".py",
   "mimetype": "text/x-python",
   "name": "python",
   "nbconvert_exporter": "python",
   "pygments_lexer": "ipython3",
   "version": "3.5.2"
  }
 },
 "nbformat": 4,
 "nbformat_minor": 1
}
