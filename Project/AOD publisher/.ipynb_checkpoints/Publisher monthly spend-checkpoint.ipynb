{
 "cells": [
  {
   "cell_type": "code",
   "execution_count": 7,
   "metadata": {
    "collapsed": true
   },
   "outputs": [],
   "source": [
    "import numpy as np\n",
    "import pandas as pd\n",
    "import glob "
   ]
  },
  {
   "cell_type": "code",
   "execution_count": 6,
   "metadata": {
    "collapsed": false
   },
   "outputs": [
    {
     "data": {
      "text/plain": [
       "['Publisher_data_2017_Feb.csv', 'Publisher_data_2017_Jan.csv']"
      ]
     },
     "execution_count": 6,
     "metadata": {},
     "output_type": "execute_result"
    }
   ],
   "source": [
    "glob.glob(\"*.csv\")"
   ]
  },
  {
   "cell_type": "code",
   "execution_count": 73,
   "metadata": {
    "collapsed": false
   },
   "outputs": [
    {
     "name": "stderr",
     "output_type": "stream",
     "text": [
      "C:\\Program Files\\Anaconda3\\lib\\site-packages\\IPython\\core\\interactiveshell.py:2717: DtypeWarning: Columns (2,4,6,9,10,11) have mixed types. Specify dtype option on import or set low_memory=False.\n",
      "  interactivity=interactivity, compiler=compiler, result=result)\n"
     ]
    }
   ],
   "source": [
    "#load it without columne header\n",
    "pub = pd.read_csv(\"Publisher_data_2017_Feb.csv\", header=None)"
   ]
  },
  {
   "cell_type": "code",
   "execution_count": 111,
   "metadata": {
    "collapsed": false
   },
   "outputs": [
    {
     "name": "stderr",
     "output_type": "stream",
     "text": [
      "C:\\Program Files\\Anaconda3\\lib\\site-packages\\IPython\\core\\interactiveshell.py:2717: DtypeWarning: Columns (6) have mixed types. Specify dtype option on import or set low_memory=False.\n",
      "  interactivity=interactivity, compiler=compiler, result=result)\n"
     ]
    }
   ],
   "source": [
    "frame = pd.DataFrame()\n",
    "for ggg in glob.glob(\"*.csv\"):\n",
    "    df = pd.read_csv(ggg)\n",
    "    df = df[df[\"App/URL\"].isnull() == False]\n",
    "    frame = frame.append(df, ignore_index=True)"
   ]
  },
  {
   "cell_type": "code",
   "execution_count": 76,
   "metadata": {
    "collapsed": true
   },
   "outputs": [],
   "source": [
    "xyz = pd.DataFrame([[1, 2, 3] , [2, 3, 4], [4, 5, 6]])"
   ]
  },
  {
   "cell_type": "code",
   "execution_count": 84,
   "metadata": {
    "collapsed": false
   },
   "outputs": [],
   "source": [
    "hhh = pd.DataFrame([[4, 4, 4]])"
   ]
  },
  {
   "cell_type": "code",
   "execution_count": 114,
   "metadata": {
    "collapsed": false
   },
   "outputs": [
    {
     "data": {
      "text/html": [
       "<div>\n",
       "<table border=\"1\" class=\"dataframe\">\n",
       "  <thead>\n",
       "    <tr style=\"text-align: right;\">\n",
       "      <th></th>\n",
       "      <th>Month</th>\n",
       "      <th>Advertiser</th>\n",
       "      <th>Advertiser ID</th>\n",
       "      <th>Advertiser Status</th>\n",
       "      <th>Advertiser Integration Code</th>\n",
       "      <th>App/URL</th>\n",
       "      <th>App/URL ID</th>\n",
       "      <th>Public Inventory</th>\n",
       "      <th>Advertiser Currency</th>\n",
       "      <th>Impressions</th>\n",
       "      <th>Clicks</th>\n",
       "      <th>Revenue (Adv Currency)</th>\n",
       "    </tr>\n",
       "  </thead>\n",
       "  <tbody>\n",
       "    <tr>\n",
       "      <th>967883</th>\n",
       "      <td>2017/01</td>\n",
       "      <td>Toyota_UK_Zenith</td>\n",
       "      <td>5071.0</td>\n",
       "      <td>Active</td>\n",
       "      <td>NaN</td>\n",
       "      <td>zr.ru</td>\n",
       "      <td>39545403337</td>\n",
       "      <td>Yes</td>\n",
       "      <td>GBP</td>\n",
       "      <td>1.0</td>\n",
       "      <td>0.0</td>\n",
       "      <td>0.006553</td>\n",
       "    </tr>\n",
       "    <tr>\n",
       "      <th>967884</th>\n",
       "      <td>2017/01</td>\n",
       "      <td>Toyota_UK_Zenith</td>\n",
       "      <td>5071.0</td>\n",
       "      <td>Active</td>\n",
       "      <td>NaN</td>\n",
       "      <td>ztv.ro</td>\n",
       "      <td>17788932040</td>\n",
       "      <td>Yes</td>\n",
       "      <td>GBP</td>\n",
       "      <td>1.0</td>\n",
       "      <td>0.0</td>\n",
       "      <td>0.002434</td>\n",
       "    </tr>\n",
       "    <tr>\n",
       "      <th>967885</th>\n",
       "      <td>2017/01</td>\n",
       "      <td>Toyota_UK_Zenith</td>\n",
       "      <td>5071.0</td>\n",
       "      <td>Active</td>\n",
       "      <td>NaN</td>\n",
       "      <td>zuri.net</td>\n",
       "      <td>2186022247</td>\n",
       "      <td>Yes</td>\n",
       "      <td>GBP</td>\n",
       "      <td>1.0</td>\n",
       "      <td>0.0</td>\n",
       "      <td>0.003486</td>\n",
       "    </tr>\n",
       "    <tr>\n",
       "      <th>967886</th>\n",
       "      <td>2017/01</td>\n",
       "      <td>Toyota_UK_Zenith</td>\n",
       "      <td>5071.0</td>\n",
       "      <td>Active</td>\n",
       "      <td>NaN</td>\n",
       "      <td>zyczenia.sennik.biz</td>\n",
       "      <td>34388857745</td>\n",
       "      <td>Yes</td>\n",
       "      <td>GBP</td>\n",
       "      <td>1.0</td>\n",
       "      <td>0.0</td>\n",
       "      <td>0.003198</td>\n",
       "    </tr>\n",
       "    <tr>\n",
       "      <th>967887</th>\n",
       "      <td>2017/01</td>\n",
       "      <td>Toyota_UK_Zenith</td>\n",
       "      <td>5071.0</td>\n",
       "      <td>Active</td>\n",
       "      <td>NaN</td>\n",
       "      <td>zzz.sk</td>\n",
       "      <td>29419059210</td>\n",
       "      <td>Yes</td>\n",
       "      <td>GBP</td>\n",
       "      <td>2.0</td>\n",
       "      <td>0.0</td>\n",
       "      <td>0.004135</td>\n",
       "    </tr>\n",
       "  </tbody>\n",
       "</table>\n",
       "</div>"
      ],
      "text/plain": [
       "          Month        Advertiser  Advertiser ID Advertiser Status  \\\n",
       "967883  2017/01  Toyota_UK_Zenith         5071.0            Active   \n",
       "967884  2017/01  Toyota_UK_Zenith         5071.0            Active   \n",
       "967885  2017/01  Toyota_UK_Zenith         5071.0            Active   \n",
       "967886  2017/01  Toyota_UK_Zenith         5071.0            Active   \n",
       "967887  2017/01  Toyota_UK_Zenith         5071.0            Active   \n",
       "\n",
       "        Advertiser Integration Code              App/URL   App/URL ID  \\\n",
       "967883                          NaN                zr.ru  39545403337   \n",
       "967884                          NaN               ztv.ro  17788932040   \n",
       "967885                          NaN             zuri.net   2186022247   \n",
       "967886                          NaN  zyczenia.sennik.biz  34388857745   \n",
       "967887                          NaN               zzz.sk  29419059210   \n",
       "\n",
       "       Public Inventory Advertiser Currency  Impressions  Clicks  \\\n",
       "967883              Yes                 GBP          1.0     0.0   \n",
       "967884              Yes                 GBP          1.0     0.0   \n",
       "967885              Yes                 GBP          1.0     0.0   \n",
       "967886              Yes                 GBP          1.0     0.0   \n",
       "967887              Yes                 GBP          2.0     0.0   \n",
       "\n",
       "        Revenue (Adv Currency)  \n",
       "967883                0.006553  \n",
       "967884                0.002434  \n",
       "967885                0.003486  \n",
       "967886                0.003198  \n",
       "967887                0.004135  "
      ]
     },
     "execution_count": 114,
     "metadata": {},
     "output_type": "execute_result"
    }
   ],
   "source": [
    "frame.tail()"
   ]
  },
  {
   "cell_type": "code",
   "execution_count": 115,
   "metadata": {
    "collapsed": false
   },
   "outputs": [
    {
     "name": "stderr",
     "output_type": "stream",
     "text": [
      "C:\\Program Files\\Anaconda3\\lib\\site-packages\\IPython\\core\\interactiveshell.py:2717: DtypeWarning: Columns (6) have mixed types. Specify dtype option on import or set low_memory=False.\n",
      "  interactivity=interactivity, compiler=compiler, result=result)\n"
     ]
    }
   ],
   "source": [
    "ccc = pd.read_csv(\"Publisher_data_2017_Feb.csv\")"
   ]
  },
  {
   "cell_type": "code",
   "execution_count": null,
   "metadata": {
    "collapsed": true
   },
   "outputs": [],
   "source": []
  },
  {
   "cell_type": "code",
   "execution_count": null,
   "metadata": {
    "collapsed": true
   },
   "outputs": [],
   "source": []
  },
  {
   "cell_type": "code",
   "execution_count": 74,
   "metadata": {
    "collapsed": false
   },
   "outputs": [],
   "source": [
    "pub=pub.drop(pub.index[0])"
   ]
  },
  {
   "cell_type": "code",
   "execution_count": 56,
   "metadata": {
    "collapsed": false
   },
   "outputs": [],
   "source": [
    "pub = pub[pub[\"App/URL\"].isnull() == False]"
   ]
  },
  {
   "cell_type": "code",
   "execution_count": null,
   "metadata": {
    "collapsed": true
   },
   "outputs": [],
   "source": []
  }
 ],
 "metadata": {
  "anaconda-cloud": {},
  "kernelspec": {
   "display_name": "Python [conda root]",
   "language": "python",
   "name": "conda-root-py"
  },
  "language_info": {
   "codemirror_mode": {
    "name": "ipython",
    "version": 3
   },
   "file_extension": ".py",
   "mimetype": "text/x-python",
   "name": "python",
   "nbconvert_exporter": "python",
   "pygments_lexer": "ipython3",
   "version": "3.5.2"
  }
 },
 "nbformat": 4,
 "nbformat_minor": 1
}
