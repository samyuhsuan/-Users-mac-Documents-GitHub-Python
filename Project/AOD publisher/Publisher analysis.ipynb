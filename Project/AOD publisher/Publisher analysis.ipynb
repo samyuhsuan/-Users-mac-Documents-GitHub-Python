{
 "cells": [
  {
   "cell_type": "code",
   "execution_count": 42,
   "metadata": {
    "collapsed": true
   },
   "outputs": [],
   "source": [
    "import numpy as np\n",
    "import pandas as pd\n",
    "import glob \n",
    "import seaborn as sns\n",
    "import matplotlib.pyplot as plt\n",
    "%matplotlib inline"
   ]
  },
  {
   "cell_type": "code",
   "execution_count": 43,
   "metadata": {
    "collapsed": false
   },
   "outputs": [
    {
     "name": "stderr",
     "output_type": "stream",
     "text": [
      "C:\\Program Files\\Anaconda3\\lib\\site-packages\\IPython\\core\\interactiveshell.py:2717: DtypeWarning: Columns (6) have mixed types. Specify dtype option on import or set low_memory=False.\n",
      "  interactivity=interactivity, compiler=compiler, result=result)\n"
     ]
    }
   ],
   "source": [
    "pub = pd.DataFrame()\n",
    "for file in glob.glob(\"*.csv\"):\n",
    "    df = pd.read_csv(file)\n",
    "    df = df[df[\"App/URL\"].isnull() == False]\n",
    "    pub = pub.append(df, ignore_index=True)"
   ]
  },
  {
   "cell_type": "code",
   "execution_count": 44,
   "metadata": {
    "collapsed": true
   },
   "outputs": [],
   "source": [
    "#setting exchange rate\n",
    "#GBP > USD:\n",
    "GBPtoUSD = 1.3\n",
    "#GBPtoEUR:\n",
    "GBPtoEUR = 1.17"
   ]
  },
  {
   "cell_type": "code",
   "execution_count": 45,
   "metadata": {
    "collapsed": false
   },
   "outputs": [],
   "source": [
    "pub = pub.drop(['Advertiser ID', 'Advertiser Status', 'Advertiser Integration Code', 'App/URL ID'], 1)"
   ]
  },
  {
   "cell_type": "code",
   "execution_count": 46,
   "metadata": {
    "collapsed": false
   },
   "outputs": [],
   "source": [
    "pub.columns = ['Month', 'Advertiser', 'URL', 'PublicInventory', 'Currency', 'Impressions', 'Clicks', 'Spend']\n",
    "pub.Advertiser = pub.Advertiser.astype(\"category\")"
   ]
  },
  {
   "cell_type": "code",
   "execution_count": 47,
   "metadata": {
    "collapsed": false
   },
   "outputs": [],
   "source": [
    "pub.loc[pub.Currency == \"USD\", \"cSpend\"] = pub.Spend / GBPtoUSD\n",
    "pub.loc[pub.Currency == \"EUR\", \"cSpend\"] = pub.Spend / GBPtoEUR\n",
    "pub.loc[pub.Currency == \"GBP\", \"cSpend\"] = pub.Spend"
   ]
  },
  {
   "cell_type": "code",
   "execution_count": 48,
   "metadata": {
    "collapsed": false
   },
   "outputs": [],
   "source": [
    "pub[\"AdvertiserNameX\"] = pub.Advertiser.str.split(\"_\").str[0]\n",
    "pub[\"AdvertiserName\"] = pub.AdvertiserNameX.str.lower()\n",
    "pal = sns.color_palette([\"#00afef\"], 1)"
   ]
  },
  {
   "cell_type": "code",
   "execution_count": 49,
   "metadata": {
    "collapsed": false
   },
   "outputs": [],
   "source": [
    "pub[\"cURL\"] = pub.URL.str.split(\".\").str[0]"
   ]
  },
  {
   "cell_type": "code",
   "execution_count": 50,
   "metadata": {
    "collapsed": false
   },
   "outputs": [
    {
     "data": {
      "text/html": [
       "<div>\n",
       "<table border=\"1\" class=\"dataframe\">\n",
       "  <thead>\n",
       "    <tr style=\"text-align: right;\">\n",
       "      <th></th>\n",
       "      <th>Month</th>\n",
       "      <th>Advertiser</th>\n",
       "      <th>URL</th>\n",
       "      <th>PublicInventory</th>\n",
       "      <th>Currency</th>\n",
       "      <th>Impressions</th>\n",
       "      <th>Clicks</th>\n",
       "      <th>Spend</th>\n",
       "      <th>cSpend</th>\n",
       "      <th>AdvertiserNameX</th>\n",
       "      <th>AdvertiserName</th>\n",
       "      <th>cURL</th>\n",
       "    </tr>\n",
       "  </thead>\n",
       "  <tbody>\n",
       "    <tr>\n",
       "      <th>28032</th>\n",
       "      <td>2016/12</td>\n",
       "      <td>ACER USD_UK_Zenith International</td>\n",
       "      <td>m.220.ro</td>\n",
       "      <td>Yes</td>\n",
       "      <td>USD</td>\n",
       "      <td>54.0</td>\n",
       "      <td>0.0</td>\n",
       "      <td>0.060399</td>\n",
       "      <td>0.046461</td>\n",
       "      <td>ACER USD</td>\n",
       "      <td>acer usd</td>\n",
       "      <td>m</td>\n",
       "    </tr>\n",
       "    <tr>\n",
       "      <th>28033</th>\n",
       "      <td>2016/12</td>\n",
       "      <td>ACER USD_UK_Zenith International</td>\n",
       "      <td>m.411.ca</td>\n",
       "      <td>Yes</td>\n",
       "      <td>USD</td>\n",
       "      <td>13.0</td>\n",
       "      <td>0.0</td>\n",
       "      <td>0.024562</td>\n",
       "      <td>0.018894</td>\n",
       "      <td>ACER USD</td>\n",
       "      <td>acer usd</td>\n",
       "      <td>m</td>\n",
       "    </tr>\n",
       "    <tr>\n",
       "      <th>28034</th>\n",
       "      <td>2016/12</td>\n",
       "      <td>ACER USD_UK_Zenith International</td>\n",
       "      <td>m.agriaffaires.com</td>\n",
       "      <td>Yes</td>\n",
       "      <td>USD</td>\n",
       "      <td>5121.0</td>\n",
       "      <td>3.0</td>\n",
       "      <td>6.096755</td>\n",
       "      <td>4.689812</td>\n",
       "      <td>ACER USD</td>\n",
       "      <td>acer usd</td>\n",
       "      <td>m</td>\n",
       "    </tr>\n",
       "    <tr>\n",
       "      <th>28035</th>\n",
       "      <td>2016/12</td>\n",
       "      <td>ACER USD_UK_Zenith International</td>\n",
       "      <td>m.ascodevida.com</td>\n",
       "      <td>Yes</td>\n",
       "      <td>USD</td>\n",
       "      <td>2286.0</td>\n",
       "      <td>3.0</td>\n",
       "      <td>5.880843</td>\n",
       "      <td>4.523725</td>\n",
       "      <td>ACER USD</td>\n",
       "      <td>acer usd</td>\n",
       "      <td>m</td>\n",
       "    </tr>\n",
       "    <tr>\n",
       "      <th>28036</th>\n",
       "      <td>2016/12</td>\n",
       "      <td>ACER USD_UK_Zenith International</td>\n",
       "      <td>m.atrappo.com</td>\n",
       "      <td>Yes</td>\n",
       "      <td>USD</td>\n",
       "      <td>1.0</td>\n",
       "      <td>0.0</td>\n",
       "      <td>0.000714</td>\n",
       "      <td>0.000549</td>\n",
       "      <td>ACER USD</td>\n",
       "      <td>acer usd</td>\n",
       "      <td>m</td>\n",
       "    </tr>\n",
       "  </tbody>\n",
       "</table>\n",
       "</div>"
      ],
      "text/plain": [
       "         Month                        Advertiser                 URL  \\\n",
       "28032  2016/12  ACER USD_UK_Zenith International            m.220.ro   \n",
       "28033  2016/12  ACER USD_UK_Zenith International            m.411.ca   \n",
       "28034  2016/12  ACER USD_UK_Zenith International  m.agriaffaires.com   \n",
       "28035  2016/12  ACER USD_UK_Zenith International    m.ascodevida.com   \n",
       "28036  2016/12  ACER USD_UK_Zenith International       m.atrappo.com   \n",
       "\n",
       "      PublicInventory Currency  Impressions  Clicks     Spend    cSpend  \\\n",
       "28032             Yes      USD         54.0     0.0  0.060399  0.046461   \n",
       "28033             Yes      USD         13.0     0.0  0.024562  0.018894   \n",
       "28034             Yes      USD       5121.0     3.0  6.096755  4.689812   \n",
       "28035             Yes      USD       2286.0     3.0  5.880843  4.523725   \n",
       "28036             Yes      USD          1.0     0.0  0.000714  0.000549   \n",
       "\n",
       "      AdvertiserNameX AdvertiserName cURL  \n",
       "28032        ACER USD       acer usd    m  \n",
       "28033        ACER USD       acer usd    m  \n",
       "28034        ACER USD       acer usd    m  \n",
       "28035        ACER USD       acer usd    m  \n",
       "28036        ACER USD       acer usd    m  "
      ]
     },
     "execution_count": 50,
     "metadata": {},
     "output_type": "execute_result"
    }
   ],
   "source": [
    "pub[pub.cURL == \"m\"].head()"
   ]
  },
  {
   "cell_type": "code",
   "execution_count": 66,
   "metadata": {
    "collapsed": false
   },
   "outputs": [],
   "source": [
    "pub_p = pub.round(2).pivot_table(values=\"cSpend\", index=\"cURL\", aggfunc=np.sum)"
   ]
  },
  {
   "cell_type": "code",
   "execution_count": 70,
   "metadata": {
    "collapsed": false
   },
   "outputs": [
    {
     "ename": "TypeError",
     "evalue": "Required argument 'object' (pos 1) not found",
     "output_type": "error",
     "traceback": [
      "\u001b[0;31m---------------------------------------------------------------------------\u001b[0m",
      "\u001b[0;31mTypeError\u001b[0m                                 Traceback (most recent call last)",
      "\u001b[0;32m<ipython-input-70-fbb0ddf8f7fb>\u001b[0m in \u001b[0;36m<module>\u001b[0;34m()\u001b[0m\n\u001b[0;32m----> 1\u001b[0;31m \u001b[0mnp\u001b[0m\u001b[1;33m.\u001b[0m\u001b[0marray\u001b[0m\u001b[1;33m(\u001b[0m\u001b[1;33m)\u001b[0m\u001b[1;33m\u001b[0m\u001b[0m\n\u001b[0m",
      "\u001b[0;31mTypeError\u001b[0m: Required argument 'object' (pos 1) not found"
     ]
    }
   ],
   "source": [
    "np.array()"
   ]
  },
  {
   "cell_type": "code",
   "execution_count": 71,
   "metadata": {
    "collapsed": false
   },
   "outputs": [
    {
     "data": {
      "text/plain": [
       "pandas.core.series.Series"
      ]
     },
     "execution_count": 71,
     "metadata": {},
     "output_type": "execute_result"
    }
   ],
   "source": [
    "type(pub_p)"
   ]
  },
  {
   "cell_type": "code",
   "execution_count": 74,
   "metadata": {
    "collapsed": false
   },
   "outputs": [],
   "source": [
    "ddd = [1, 2, 4, 5, 6, 8]"
   ]
  },
  {
   "cell_type": "code",
   "execution_count": 75,
   "metadata": {
    "collapsed": false
   },
   "outputs": [
    {
     "ename": "TypeError",
     "evalue": "reshape() missing 1 required positional argument: 'newshape'",
     "output_type": "error",
     "traceback": [
      "\u001b[0;31m---------------------------------------------------------------------------\u001b[0m",
      "\u001b[0;31mTypeError\u001b[0m                                 Traceback (most recent call last)",
      "\u001b[0;32m<ipython-input-75-ec4d5cb85079>\u001b[0m in \u001b[0;36m<module>\u001b[0;34m()\u001b[0m\n\u001b[0;32m----> 1\u001b[0;31m \u001b[0mnp\u001b[0m\u001b[1;33m.\u001b[0m\u001b[0mreshape\u001b[0m\u001b[1;33m(\u001b[0m\u001b[0mddd\u001b[0m\u001b[1;33m)\u001b[0m\u001b[1;33m\u001b[0m\u001b[0m\n\u001b[0m",
      "\u001b[0;31mTypeError\u001b[0m: reshape() missing 1 required positional argument: 'newshape'"
     ]
    }
   ],
   "source": [
    "np.reshape(ddd)"
   ]
  },
  {
   "cell_type": "code",
   "execution_count": null,
   "metadata": {
    "collapsed": true
   },
   "outputs": [],
   "source": []
  }
 ],
 "metadata": {
  "anaconda-cloud": {},
  "kernelspec": {
   "display_name": "Python [conda root]",
   "language": "python",
   "name": "conda-root-py"
  },
  "language_info": {
   "codemirror_mode": {
    "name": "ipython",
    "version": 3
   },
   "file_extension": ".py",
   "mimetype": "text/x-python",
   "name": "python",
   "nbconvert_exporter": "python",
   "pygments_lexer": "ipython3",
   "version": "3.5.2"
  }
 },
 "nbformat": 4,
 "nbformat_minor": 1
}
