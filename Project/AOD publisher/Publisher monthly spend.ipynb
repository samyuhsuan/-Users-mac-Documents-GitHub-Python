{
 "cells": [
  {
   "cell_type": "code",
   "execution_count": 1,
   "metadata": {
    "collapsed": true
   },
   "outputs": [],
   "source": [
    "import numpy as np\n",
    "import pandas as pd\n",
    "import glob \n",
    "import seaborn as sns\n",
    "import matplotlib.pyplot as plt\n",
    "%matplotlib inline"
   ]
  },
  {
   "cell_type": "code",
   "execution_count": 2,
   "metadata": {
    "collapsed": false
   },
   "outputs": [
    {
     "name": "stderr",
     "output_type": "stream",
     "text": [
      "C:\\Program Files\\Anaconda3\\lib\\site-packages\\IPython\\core\\interactiveshell.py:2717: DtypeWarning: Columns (6) have mixed types. Specify dtype option on import or set low_memory=False.\n",
      "  interactivity=interactivity, compiler=compiler, result=result)\n"
     ]
    }
   ],
   "source": [
    "#create an empty dataframe for pub\n",
    "#using loop process on glob.glob(*.csv) among all csv files extracted\n",
    "#the loop goes through reading the csv file intp a df pandaframe \n",
    "#then it takes out all the rows which has 0 values under App/URL (this is to remove the summary info produced by DBM)\n",
    "#then pub initially empty dataframe is appended with the extracted data \n",
    "#ignore_index=True is to remove the appending creating row number to be messed up\n",
    "#then looping it again until all csv data is appended to pub\n",
    "#--------------------------\n",
    "pub = pd.DataFrame()\n",
    "for file in glob.glob(\"*.csv\"):\n",
    "    df = pd.read_csv(file)\n",
    "    df = df[df[\"App/URL\"].isnull() == False]\n",
    "    pub = pub.append(df, ignore_index=True)"
   ]
  },
  {
   "cell_type": "code",
   "execution_count": 3,
   "metadata": {
    "collapsed": true
   },
   "outputs": [],
   "source": [
    "#setting exchange rate\n",
    "#GBP > USD:\n",
    "GBPtoUSD = 1.3\n",
    "#GBPtoEUR:\n",
    "GBPtoEUR = 1.17"
   ]
  },
  {
   "cell_type": "code",
   "execution_count": 4,
   "metadata": {
    "collapsed": false
   },
   "outputs": [],
   "source": [
    "pub = pub.drop(['Advertiser ID', 'Advertiser Status', 'Advertiser Integration Code', 'App/URL ID'], 1)"
   ]
  },
  {
   "cell_type": "code",
   "execution_count": 5,
   "metadata": {
    "collapsed": false
   },
   "outputs": [],
   "source": [
    "pub.columns = ['Month', 'Advertiser', 'URL', 'PublicInventory', 'Currency', 'Impressions', 'Clicks', 'Spend']\n",
    "pub.Advertiser = pub.Advertiser.astype(\"category\")"
   ]
  },
  {
   "cell_type": "code",
   "execution_count": 6,
   "metadata": {
    "collapsed": false
   },
   "outputs": [],
   "source": [
    "pub.loc[pub.Currency == \"USD\", \"cSpend\"] = pub.Spend / GBPtoUSD\n",
    "pub.loc[pub.Currency == \"EUR\", \"cSpend\"] = pub.Spend / GBPtoEUR\n",
    "pub.loc[pub.Currency == \"GBP\", \"cSpend\"] = pub.Spend"
   ]
  },
  {
   "cell_type": "code",
   "execution_count": 7,
   "metadata": {
    "collapsed": false
   },
   "outputs": [],
   "source": [
    "pub[\"AdvertiserNameX\"] = pub.Advertiser.str.split(\"_\").str[0]\n",
    "pub[\"AdvertiserName\"] = pub.AdvertiserNameX.str.lower()\n",
    "pal = sns.color_palette([\"#00afef\"], 1)"
   ]
  },
  {
   "cell_type": "code",
   "execution_count": 8,
   "metadata": {
    "collapsed": true
   },
   "outputs": [],
   "source": [
    "def publisherSpend(x):\n",
    "    c = pub[(pub.URL.str.contains(x+\".co.uk\")) | (pub.URL.str.contains(x+\".com\"))]\n",
    "    cPMP = pub[(pub.URL.str.contains(x+\".co.uk\")) | (pub.URL.str.contains(x+\".com\"))][pub.PublicInventory == \"No\"]\n",
    "    g = c.pivot_table(\n",
    "        index=\"Month\", values=[\"cSpend\", \"Impressions\"], aggfunc=np.sum)\n",
    "    month = np.unique(pub[pub.URL.str.contains(x)].Month)\n",
    "    f, ax = plt.subplots(1, 1, figsize=[20, 5])\n",
    "    chart = sns.barplot(data=g, x=month, y=\"cSpend\", ax=ax, palette=pal)\n",
    "    chart.set_xticklabels(month, rotation=75)\n",
    "    print( x, \"total spend from\", month[0], \"to\", month[-1], \"is: £\", \n",
    "          \"%.2f\" % np.sum(c.cSpend), \";\", \"PMP spend is: £\", \"%.2f\" % np.sum(cPMP.cSpend), \";\",\n",
    "          \"%.2f\" % ((np.sum(cPMP.cSpend)/np.sum(c.cSpend))*100),\"%\")"
   ]
  },
  {
   "cell_type": "code",
   "execution_count": 9,
   "metadata": {
    "collapsed": true
   },
   "outputs": [],
   "source": [
    "def publisherSpendPMP(x):\n",
    "    c = pub[(pub.URL.str.contains(x+\".co.uk\")) | (pub.URL.str.contains(x+\".com\"))][pub.PublicInventory == \"No\"]\n",
    "    g = c.pivot_table(\n",
    "        index=\"Month\", values=[\"Spend\", \"Impressions\"], aggfunc=np.sum)\n",
    "    month = np.unique(pub[pub.URL.str.contains(x)].Month)\n",
    "    f, ax = plt.subplots(1, 1, figsize=[20, 5])\n",
    "    chart = sns.barplot(data=g, x=month, y=\"Spend\", ax=ax, palette=pal)\n",
    "    chart.set_xticklabels(month, rotation=75)\n",
    "    print( x, \"total PMP spend from\", month[0], \"to\", month[-1], \"is:\", \n",
    "          np.sum(c.Spend))"
   ]
  },
  {
   "cell_type": "code",
   "execution_count": 13,
   "metadata": {
    "collapsed": false
   },
   "outputs": [
    {
     "name": "stderr",
     "output_type": "stream",
     "text": [
      "C:\\Program Files\\Anaconda3\\lib\\site-packages\\ipykernel\\__main__.py:3: UserWarning: Boolean Series key will be reindexed to match DataFrame index.\n",
      "  app.launch_new_instance()\n"
     ]
    },
    {
     "name": "stdout",
     "output_type": "stream",
     "text": [
      "ebay total spend from 2016/10 to 2017/03 is: £ 863637.82 ; PMP spend is: £ 133124.21 ; 15.41 %\n"
     ]
    },
    {
     "data": {
      "image/png": "[encoded data removed]",
      "text/plain": [
       "<matplotlib.figure.Figure at 0x9394e48>"
      ]
     },
     "metadata": {},
     "output_type": "display_data"
    }
   ],
   "source": [
    "publisherSpend(\"ebay\")"
   ]
  },
  {
   "cell_type": "code",
   "execution_count": null,
   "metadata": {
    "collapsed": true
   },
   "outputs": [],
   "source": []
  },
  {
   "cell_type": "code",
   "execution_count": null,
   "metadata": {
    "collapsed": true
   },
   "outputs": [],
   "source": []
  }
 ],
 "metadata": {
  "anaconda-cloud": {},
  "kernelspec": {
   "display_name": "Python [conda root]",
   "language": "python",
   "name": "conda-root-py"
  },
  "language_info": {
   "codemirror_mode": {
    "name": "ipython",
    "version": 3
   },
   "file_extension": ".py",
   "mimetype": "text/x-python",
   "name": "python",
   "nbconvert_exporter": "python",
   "pygments_lexer": "ipython3",
   "version": "3.5.2"
  }
 },
 "nbformat": 4,
 "nbformat_minor": 1
}
