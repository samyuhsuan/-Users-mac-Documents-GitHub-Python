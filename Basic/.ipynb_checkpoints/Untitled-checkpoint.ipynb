{
 "cells": [
  {
   "cell_type": "code",
   "execution_count": 2,
   "metadata": {
    "collapsed": true
   },
   "outputs": [],
   "source": [
    "import numpy as np\n",
    "import pandas as pd\n",
    "import seaborn as sns\n",
    "import glob"
   ]
  },
  {
   "cell_type": "code",
   "execution_count": 4,
   "metadata": {
    "collapsed": false
   },
   "outputs": [
    {
     "data": {
      "text/plain": [
       "['dataouput.csv',\n",
       " 'example.csv',\n",
       " 'Excel manipulation.ipynb',\n",
       " 'List - comparison.ipynb',\n",
       " 'string - find string .ipynb',\n",
       " 'string - operations - string type check - concatenate.ipynb',\n",
       " 'Untitled.ipynb']"
      ]
     },
     "execution_count": 4,
     "metadata": {},
     "output_type": "execute_result"
    }
   ],
   "source": [
    "glob.glob(\"*\")"
   ]
  },
  {
   "cell_type": "code",
   "execution_count": 6,
   "metadata": {
    "collapsed": false
   },
   "outputs": [],
   "source": [
    "data = pd.read_csv(\"dataouput.csv\")"
   ]
  },
  {
   "cell_type": "code",
   "execution_count": 17,
   "metadata": {
    "collapsed": false
   },
   "outputs": [],
   "source": [
    "data = data.loc[data[\"Line Item ID\"].isnull() == False,]"
   ]
  },
  {
   "cell_type": "code",
   "execution_count": 20,
   "metadata": {
    "collapsed": false
   },
   "outputs": [],
   "source": [
    "data.columns = ['Date', 'IO', 'IOID',\n",
    "       'IOStatus', 'IOIntegraitonCode',\n",
    "       'LI', 'LIID', 'LIStatus',\n",
    "       'LIIntegrationCode', 'TVAdGroupID',\n",
    "       'TVAdGroup', 'Currency', 'Impressions',\n",
    "       'TVViews', 'Clicks', 'Spend',\n",
    "       'CTR', 'Quartile1',\n",
    "       'Quartile2', 'Quartile3',\n",
    "       'Quartile4']"
   ]
  },
  {
   "cell_type": "code",
   "execution_count": 33,
   "metadata": {
    "collapsed": false
   },
   "outputs": [],
   "source": [
    "data = data.loc[:,[\"Date\", \"IO\", \"IOID\", \"LI\", \"LIID\", \"TVAdGroup\", \"Impressions\", \"Clicks\", \"Spend\", \"CTR\", \"Quartile1\", \"Quartile2\", \"Quartile3\", \"Quartile4\"]]"
   ]
  },
  {
   "cell_type": "code",
   "execution_count": null,
   "metadata": {
    "collapsed": false
   },
   "outputs": [],
   "source": []
  },
  {
   "cell_type": "code",
   "execution_count": null,
   "metadata": {
    "collapsed": true
   },
   "outputs": [],
   "source": []
  }
 ],
 "metadata": {
  "anaconda-cloud": {},
  "kernelspec": {
   "display_name": "Python [conda root]",
   "language": "python",
   "name": "conda-root-py"
  },
  "language_info": {
   "codemirror_mode": {
    "name": "ipython",
    "version": 3
   },
   "file_extension": ".py",
   "mimetype": "text/x-python",
   "name": "python",
   "nbconvert_exporter": "python",
   "pygments_lexer": "ipython3",
   "version": "3.5.2"
  }
 },
 "nbformat": 4,
 "nbformat_minor": 1
}
