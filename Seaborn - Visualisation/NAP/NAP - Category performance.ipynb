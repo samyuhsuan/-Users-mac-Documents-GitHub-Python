{
 "cells": [
  {
   "cell_type": "code",
   "execution_count": 1,
   "metadata": {
    "collapsed": true
   },
   "outputs": [],
   "source": [
    "import numpy as np\n",
    "import seaborn as sns\n",
    "import matplotlib.pyplot as plt\n",
    "import pandas as pd\n",
    "%matplotlib inline"
   ]
  },
  {
   "cell_type": "code",
   "execution_count": 2,
   "metadata": {
    "collapsed": true
   },
   "outputs": [],
   "source": [
    "nap = pd.read_csv(\"NAP_category.csv\")"
   ]
  },
  {
   "cell_type": "code",
   "execution_count": 3,
   "metadata": {
    "collapsed": false
   },
   "outputs": [
    {
     "data": {
      "text/plain": [
       "Index(['Category', 'Advertiser Currency', 'Impressions', 'Clicks',\n",
       "       'Total Conversions', 'Post-Click Conversions', 'Post-View Conversions',\n",
       "       'Revenue (Adv Currency)'],\n",
       "      dtype='object')"
      ]
     },
     "execution_count": 3,
     "metadata": {},
     "output_type": "execute_result"
    }
   ],
   "source": [
    "nap.columns"
   ]
  },
  {
   "cell_type": "code",
   "execution_count": 6,
   "metadata": {
    "collapsed": false
   },
   "outputs": [],
   "source": [
    "nap = nap.drop([\"Advertiser Currency\"], axis=1)"
   ]
  },
  {
   "cell_type": "code",
   "execution_count": 9,
   "metadata": {
    "collapsed": false
   },
   "outputs": [],
   "source": [
    "nap.columns = ['Category', 'Impressions', 'Clicks', 'Conversions',\n",
    "       'PCConversions', 'PVConversions',\n",
    "       'Spend']"
   ]
  },
  {
   "cell_type": "code",
   "execution_count": 14,
   "metadata": {
    "collapsed": false
   },
   "outputs": [],
   "source": [
    "nap = nap.drop(nap.index[1943:])"
   ]
  },
  {
   "cell_type": "code",
   "execution_count": 37,
   "metadata": {
    "collapsed": false
   },
   "outputs": [],
   "source": [
    "nap[\"CategorySummary\"] = nap[\"Category\"].str.split(\"/\").str[1]"
   ]
  },
  {
   "cell_type": "code",
   "execution_count": 38,
   "metadata": {
    "collapsed": false
   },
   "outputs": [
    {
     "data": {
      "text/html": [
       "<div>\n",
       "<table border=\"1\" class=\"dataframe\">\n",
       "  <thead>\n",
       "    <tr style=\"text-align: right;\">\n",
       "      <th></th>\n",
       "      <th>Category</th>\n",
       "      <th>Impressions</th>\n",
       "      <th>Clicks</th>\n",
       "      <th>Conversions</th>\n",
       "      <th>PCConversions</th>\n",
       "      <th>PVConversions</th>\n",
       "      <th>Spend</th>\n",
       "      <th>CategorySummary</th>\n",
       "    </tr>\n",
       "  </thead>\n",
       "  <tbody>\n",
       "    <tr>\n",
       "      <th>0</th>\n",
       "      <td>/Arts &amp; Entertainment/TV &amp; Video/TV Shows &amp; Pr...</td>\n",
       "      <td>4289.0</td>\n",
       "      <td>0.0</td>\n",
       "      <td>1.0</td>\n",
       "      <td>0.0</td>\n",
       "      <td>1.0</td>\n",
       "      <td>27.004091</td>\n",
       "      <td>Arts &amp; Entertainment</td>\n",
       "    </tr>\n",
       "    <tr>\n",
       "      <th>1</th>\n",
       "      <td>/Autos &amp; Vehicles/Vehicle Brands/Land Rover</td>\n",
       "      <td>229.0</td>\n",
       "      <td>0.0</td>\n",
       "      <td>1.0</td>\n",
       "      <td>0.0</td>\n",
       "      <td>1.0</td>\n",
       "      <td>1.564716</td>\n",
       "      <td>Autos &amp; Vehicles</td>\n",
       "    </tr>\n",
       "    <tr>\n",
       "      <th>2</th>\n",
       "      <td>/Finance/Credit &amp; Lending/Credit Cards</td>\n",
       "      <td>998.0</td>\n",
       "      <td>1.0</td>\n",
       "      <td>0.0</td>\n",
       "      <td>0.0</td>\n",
       "      <td>0.0</td>\n",
       "      <td>7.519177</td>\n",
       "      <td>Finance</td>\n",
       "    </tr>\n",
       "    <tr>\n",
       "      <th>3</th>\n",
       "      <td>/Real Estate/Commercial &amp; Investment Real Estate</td>\n",
       "      <td>342.0</td>\n",
       "      <td>0.0</td>\n",
       "      <td>0.0</td>\n",
       "      <td>0.0</td>\n",
       "      <td>0.0</td>\n",
       "      <td>2.816406</td>\n",
       "      <td>Real Estate</td>\n",
       "    </tr>\n",
       "    <tr>\n",
       "      <th>4</th>\n",
       "      <td>/Science/Biological Sciences</td>\n",
       "      <td>4857.0</td>\n",
       "      <td>5.0</td>\n",
       "      <td>4.0</td>\n",
       "      <td>0.0</td>\n",
       "      <td>4.0</td>\n",
       "      <td>41.511666</td>\n",
       "      <td>Science</td>\n",
       "    </tr>\n",
       "  </tbody>\n",
       "</table>\n",
       "</div>"
      ],
      "text/plain": [
       "                                            Category  Impressions  Clicks  \\\n",
       "0  /Arts & Entertainment/TV & Video/TV Shows & Pr...       4289.0     0.0   \n",
       "1        /Autos & Vehicles/Vehicle Brands/Land Rover        229.0     0.0   \n",
       "2             /Finance/Credit & Lending/Credit Cards        998.0     1.0   \n",
       "3   /Real Estate/Commercial & Investment Real Estate        342.0     0.0   \n",
       "4                       /Science/Biological Sciences       4857.0     5.0   \n",
       "\n",
       "   Conversions  PCConversions  PVConversions      Spend       CategorySummary  \n",
       "0          1.0            0.0            1.0  27.004091  Arts & Entertainment  \n",
       "1          1.0            0.0            1.0   1.564716      Autos & Vehicles  \n",
       "2          0.0            0.0            0.0   7.519177               Finance  \n",
       "3          0.0            0.0            0.0   2.816406           Real Estate  \n",
       "4          4.0            0.0            4.0  41.511666               Science  "
      ]
     },
     "execution_count": 38,
     "metadata": {},
     "output_type": "execute_result"
    }
   ],
   "source": [
    "nap.head()"
   ]
  },
  {
   "cell_type": "code",
   "execution_count": 40,
   "metadata": {
    "collapsed": false
   },
   "outputs": [],
   "source": [
    "nap_p = nap.pivot_table(index=\"CategorySummary\", values=[\"Impressions\", \"Clicks\", \"Conversions\", \"Spend\"])"
   ]
  },
  {
   "cell_type": "code",
   "execution_count": 41,
   "metadata": {
    "collapsed": true
   },
   "outputs": [],
   "source": [
    "nap_p[\"CPA\"] = nap_p.Spend / nap_p.Conversions"
   ]
  },
  {
   "cell_type": "code",
   "execution_count": 47,
   "metadata": {
    "collapsed": false
   },
   "outputs": [
    {
     "data": {
      "text/html": [
       "<div>\n",
       "<table border=\"1\" class=\"dataframe\">\n",
       "  <thead>\n",
       "    <tr style=\"text-align: right;\">\n",
       "      <th></th>\n",
       "      <th>Clicks</th>\n",
       "      <th>Conversions</th>\n",
       "      <th>Impressions</th>\n",
       "      <th>Spend</th>\n",
       "      <th>CPA</th>\n",
       "    </tr>\n",
       "    <tr>\n",
       "      <th>CategorySummary</th>\n",
       "      <th></th>\n",
       "      <th></th>\n",
       "      <th></th>\n",
       "      <th></th>\n",
       "      <th></th>\n",
       "    </tr>\n",
       "  </thead>\n",
       "  <tbody>\n",
       "    <tr>\n",
       "      <th>Arts &amp; Entertainment</th>\n",
       "      <td>11.529801</td>\n",
       "      <td>9.072848</td>\n",
       "      <td>10511.768212</td>\n",
       "      <td>85.202635</td>\n",
       "      <td>9.390947</td>\n",
       "    </tr>\n",
       "    <tr>\n",
       "      <th>Autos &amp; Vehicles</th>\n",
       "      <td>0.380435</td>\n",
       "      <td>0.228261</td>\n",
       "      <td>422.554348</td>\n",
       "      <td>3.075815</td>\n",
       "      <td>13.474998</td>\n",
       "    </tr>\n",
       "    <tr>\n",
       "      <th>Beauty &amp; Fitness</th>\n",
       "      <td>26.230769</td>\n",
       "      <td>51.615385</td>\n",
       "      <td>27462.384615</td>\n",
       "      <td>259.850441</td>\n",
       "      <td>5.034360</td>\n",
       "    </tr>\n",
       "    <tr>\n",
       "      <th>Books &amp; Literature</th>\n",
       "      <td>16.888889</td>\n",
       "      <td>17.333333</td>\n",
       "      <td>10202.777778</td>\n",
       "      <td>98.171601</td>\n",
       "      <td>5.663746</td>\n",
       "    </tr>\n",
       "    <tr>\n",
       "      <th>Business &amp; Industrial</th>\n",
       "      <td>2.016667</td>\n",
       "      <td>1.325000</td>\n",
       "      <td>2157.041667</td>\n",
       "      <td>16.959929</td>\n",
       "      <td>12.799946</td>\n",
       "    </tr>\n",
       "    <tr>\n",
       "      <th>Computers &amp; Electronics</th>\n",
       "      <td>0.637097</td>\n",
       "      <td>0.193548</td>\n",
       "      <td>561.822581</td>\n",
       "      <td>4.228214</td>\n",
       "      <td>21.845770</td>\n",
       "    </tr>\n",
       "    <tr>\n",
       "      <th>Finance</th>\n",
       "      <td>4.226415</td>\n",
       "      <td>2.320755</td>\n",
       "      <td>5501.245283</td>\n",
       "      <td>37.850326</td>\n",
       "      <td>16.309490</td>\n",
       "    </tr>\n",
       "    <tr>\n",
       "      <th>Food &amp; Drink</th>\n",
       "      <td>6.821918</td>\n",
       "      <td>7.082192</td>\n",
       "      <td>7091.561644</td>\n",
       "      <td>55.811618</td>\n",
       "      <td>7.880557</td>\n",
       "    </tr>\n",
       "    <tr>\n",
       "      <th>Games</th>\n",
       "      <td>1.023810</td>\n",
       "      <td>0.071429</td>\n",
       "      <td>874.785714</td>\n",
       "      <td>5.959477</td>\n",
       "      <td>83.432681</td>\n",
       "    </tr>\n",
       "    <tr>\n",
       "      <th>Health</th>\n",
       "      <td>2.528736</td>\n",
       "      <td>1.448276</td>\n",
       "      <td>2741.885057</td>\n",
       "      <td>21.841644</td>\n",
       "      <td>15.081135</td>\n",
       "    </tr>\n",
       "    <tr>\n",
       "      <th>Hobbies &amp; Leisure</th>\n",
       "      <td>2.911765</td>\n",
       "      <td>2.382353</td>\n",
       "      <td>3198.911765</td>\n",
       "      <td>28.627452</td>\n",
       "      <td>12.016461</td>\n",
       "    </tr>\n",
       "    <tr>\n",
       "      <th>Home &amp; Garden</th>\n",
       "      <td>4.958333</td>\n",
       "      <td>2.895833</td>\n",
       "      <td>4889.729167</td>\n",
       "      <td>44.802683</td>\n",
       "      <td>15.471430</td>\n",
       "    </tr>\n",
       "    <tr>\n",
       "      <th>Internet &amp; Telecom</th>\n",
       "      <td>2.575758</td>\n",
       "      <td>0.545455</td>\n",
       "      <td>2648.969697</td>\n",
       "      <td>19.389358</td>\n",
       "      <td>35.547156</td>\n",
       "    </tr>\n",
       "    <tr>\n",
       "      <th>Jobs &amp; Education</th>\n",
       "      <td>5.055556</td>\n",
       "      <td>2.222222</td>\n",
       "      <td>5435.944444</td>\n",
       "      <td>41.126355</td>\n",
       "      <td>18.506860</td>\n",
       "    </tr>\n",
       "    <tr>\n",
       "      <th>Law &amp; Government</th>\n",
       "      <td>5.688889</td>\n",
       "      <td>5.555556</td>\n",
       "      <td>5333.600000</td>\n",
       "      <td>42.895527</td>\n",
       "      <td>7.721195</td>\n",
       "    </tr>\n",
       "    <tr>\n",
       "      <th>News</th>\n",
       "      <td>29.730769</td>\n",
       "      <td>20.038462</td>\n",
       "      <td>29823.346154</td>\n",
       "      <td>214.155776</td>\n",
       "      <td>10.687236</td>\n",
       "    </tr>\n",
       "    <tr>\n",
       "      <th>Online Communities</th>\n",
       "      <td>2.400000</td>\n",
       "      <td>1.800000</td>\n",
       "      <td>2975.200000</td>\n",
       "      <td>25.247142</td>\n",
       "      <td>14.026190</td>\n",
       "    </tr>\n",
       "    <tr>\n",
       "      <th>People &amp; Society</th>\n",
       "      <td>7.634146</td>\n",
       "      <td>3.341463</td>\n",
       "      <td>7178.048780</td>\n",
       "      <td>63.679200</td>\n",
       "      <td>19.057279</td>\n",
       "    </tr>\n",
       "    <tr>\n",
       "      <th>Pets &amp; Animals</th>\n",
       "      <td>0.866667</td>\n",
       "      <td>0.933333</td>\n",
       "      <td>1962.466667</td>\n",
       "      <td>15.969965</td>\n",
       "      <td>17.110677</td>\n",
       "    </tr>\n",
       "    <tr>\n",
       "      <th>Real Estate</th>\n",
       "      <td>2.000000</td>\n",
       "      <td>2.400000</td>\n",
       "      <td>3139.100000</td>\n",
       "      <td>24.082384</td>\n",
       "      <td>10.034327</td>\n",
       "    </tr>\n",
       "    <tr>\n",
       "      <th>Reference</th>\n",
       "      <td>3.966667</td>\n",
       "      <td>2.266667</td>\n",
       "      <td>5625.833333</td>\n",
       "      <td>47.542011</td>\n",
       "      <td>20.974417</td>\n",
       "    </tr>\n",
       "    <tr>\n",
       "      <th>Science</th>\n",
       "      <td>2.346154</td>\n",
       "      <td>1.153846</td>\n",
       "      <td>1842.461538</td>\n",
       "      <td>14.924972</td>\n",
       "      <td>12.934976</td>\n",
       "    </tr>\n",
       "    <tr>\n",
       "      <th>Shopping</th>\n",
       "      <td>4.774648</td>\n",
       "      <td>8.352113</td>\n",
       "      <td>3494.056338</td>\n",
       "      <td>32.552191</td>\n",
       "      <td>3.897480</td>\n",
       "    </tr>\n",
       "    <tr>\n",
       "      <th>Sports</th>\n",
       "      <td>5.402985</td>\n",
       "      <td>4.656716</td>\n",
       "      <td>6396.820896</td>\n",
       "      <td>43.826580</td>\n",
       "      <td>9.411477</td>\n",
       "    </tr>\n",
       "    <tr>\n",
       "      <th>Travel</th>\n",
       "      <td>7.037037</td>\n",
       "      <td>15.370370</td>\n",
       "      <td>9164.185185</td>\n",
       "      <td>76.865242</td>\n",
       "      <td>5.000871</td>\n",
       "    </tr>\n",
       "    <tr>\n",
       "      <th>World Localities</th>\n",
       "      <td>0.892617</td>\n",
       "      <td>1.394295</td>\n",
       "      <td>1038.944631</td>\n",
       "      <td>8.210005</td>\n",
       "      <td>5.888283</td>\n",
       "    </tr>\n",
       "  </tbody>\n",
       "</table>\n",
       "</div>"
      ],
      "text/plain": [
       "                            Clicks  Conversions   Impressions       Spend  \\\n",
       "CategorySummary                                                             \n",
       "Arts & Entertainment     11.529801     9.072848  10511.768212   85.202635   \n",
       "Autos & Vehicles          0.380435     0.228261    422.554348    3.075815   \n",
       "Beauty & Fitness         26.230769    51.615385  27462.384615  259.850441   \n",
       "Books & Literature       16.888889    17.333333  10202.777778   98.171601   \n",
       "Business & Industrial     2.016667     1.325000   2157.041667   16.959929   \n",
       "Computers & Electronics   0.637097     0.193548    561.822581    4.228214   \n",
       "Finance                   4.226415     2.320755   5501.245283   37.850326   \n",
       "Food & Drink              6.821918     7.082192   7091.561644   55.811618   \n",
       "Games                     1.023810     0.071429    874.785714    5.959477   \n",
       "Health                    2.528736     1.448276   2741.885057   21.841644   \n",
       "Hobbies & Leisure         2.911765     2.382353   3198.911765   28.627452   \n",
       "Home & Garden             4.958333     2.895833   4889.729167   44.802683   \n",
       "Internet & Telecom        2.575758     0.545455   2648.969697   19.389358   \n",
       "Jobs & Education          5.055556     2.222222   5435.944444   41.126355   \n",
       "Law & Government          5.688889     5.555556   5333.600000   42.895527   \n",
       "News                     29.730769    20.038462  29823.346154  214.155776   \n",
       "Online Communities        2.400000     1.800000   2975.200000   25.247142   \n",
       "People & Society          7.634146     3.341463   7178.048780   63.679200   \n",
       "Pets & Animals            0.866667     0.933333   1962.466667   15.969965   \n",
       "Real Estate               2.000000     2.400000   3139.100000   24.082384   \n",
       "Reference                 3.966667     2.266667   5625.833333   47.542011   \n",
       "Science                   2.346154     1.153846   1842.461538   14.924972   \n",
       "Shopping                  4.774648     8.352113   3494.056338   32.552191   \n",
       "Sports                    5.402985     4.656716   6396.820896   43.826580   \n",
       "Travel                    7.037037    15.370370   9164.185185   76.865242   \n",
       "World Localities          0.892617     1.394295   1038.944631    8.210005   \n",
       "\n",
       "                               CPA  \n",
       "CategorySummary                     \n",
       "Arts & Entertainment      9.390947  \n",
       "Autos & Vehicles         13.474998  \n",
       "Beauty & Fitness          5.034360  \n",
       "Books & Literature        5.663746  \n",
       "Business & Industrial    12.799946  \n",
       "Computers & Electronics  21.845770  \n",
       "Finance                  16.309490  \n",
       "Food & Drink              7.880557  \n",
       "Games                    83.432681  \n",
       "Health                   15.081135  \n",
       "Hobbies & Leisure        12.016461  \n",
       "Home & Garden            15.471430  \n",
       "Internet & Telecom       35.547156  \n",
       "Jobs & Education         18.506860  \n",
       "Law & Government          7.721195  \n",
       "News                     10.687236  \n",
       "Online Communities       14.026190  \n",
       "People & Society         19.057279  \n",
       "Pets & Animals           17.110677  \n",
       "Real Estate              10.034327  \n",
       "Reference                20.974417  \n",
       "Science                  12.934976  \n",
       "Shopping                  3.897480  \n",
       "Sports                    9.411477  \n",
       "Travel                    5.000871  \n",
       "World Localities          5.888283  "
      ]
     },
     "execution_count": 47,
     "metadata": {},
     "output_type": "execute_result"
    }
   ],
   "source": [
    "nap_p"
   ]
  },
  {
   "cell_type": "code",
   "execution_count": null,
   "metadata": {
    "collapsed": false
   },
   "outputs": [],
   "source": []
  },
  {
   "cell_type": "code",
   "execution_count": 45,
   "metadata": {
    "collapsed": false
   },
   "outputs": [
    {
     "data": {
      "text/plain": [
       "<seaborn.axisgrid.FacetGrid at 0x116042940>"
      ]
     },
     "execution_count": 45,
     "metadata": {},
     "output_type": "execute_result"
    },
    {
     "data": {
      "image/png": "[encoded data removed]",
      "text/plain": [
       "<matplotlib.figure.Figure at 0x116042358>"
      ]
     },
     "metadata": {},
     "output_type": "display_data"
    }
   ],
   "source": [
    "sns.lmplot(data=nap_p, x=\"Spend\", y=\"Conversions\")"
   ]
  },
  {
   "cell_type": "code",
   "execution_count": null,
   "metadata": {
    "collapsed": true
   },
   "outputs": [],
   "source": []
  }
 ],
 "metadata": {
  "anaconda-cloud": {},
  "kernelspec": {
   "display_name": "Python [conda root]",
   "language": "python",
   "name": "conda-root-py"
  },
  "language_info": {
   "codemirror_mode": {
    "name": "ipython",
    "version": 3
   },
   "file_extension": ".py",
   "mimetype": "text/x-python",
   "name": "python",
   "nbconvert_exporter": "python",
   "pygments_lexer": "ipython3",
   "version": "3.5.2"
  }
 },
 "nbformat": 4,
 "nbformat_minor": 1
}
