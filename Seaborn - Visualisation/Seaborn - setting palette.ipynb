{
 "cells": [
  {
   "cell_type": "code",
   "execution_count": 1,
   "metadata": {
    "collapsed": true
   },
   "outputs": [],
   "source": [
    "import pandas as pd\n",
    "import numpy as np\n",
    "import seaborn as sns\n",
    "%matplotlib inline"
   ]
  },
  {
   "cell_type": "code",
   "execution_count": 2,
   "metadata": {
    "collapsed": true
   },
   "outputs": [],
   "source": [
    "ndata = pd.read_csv(\"NextData.csv\")"
   ]
  },
  {
   "cell_type": "code",
   "execution_count": 3,
   "metadata": {
    "collapsed": false
   },
   "outputs": [
    {
     "data": {
      "text/html": [
       "<div>\n",
       "<table border=\"1\" class=\"dataframe\">\n",
       "  <thead>\n",
       "    <tr style=\"text-align: right;\">\n",
       "      <th></th>\n",
       "      <th>Advertiser</th>\n",
       "      <th>Advertiser ID</th>\n",
       "      <th>Advertiser Status</th>\n",
       "      <th>Advertiser Integration Code</th>\n",
       "      <th>Time of Day</th>\n",
       "      <th>Country</th>\n",
       "      <th>Device Type</th>\n",
       "      <th>Advertiser Currency</th>\n",
       "      <th>Impressions</th>\n",
       "      <th>Active View: Measurable Impressions</th>\n",
       "      <th>Active View: Viewable Impressions</th>\n",
       "      <th>Clicks</th>\n",
       "      <th>Revenue (Adv Currency)</th>\n",
       "    </tr>\n",
       "  </thead>\n",
       "  <tbody>\n",
       "    <tr>\n",
       "      <th>0</th>\n",
       "      <td>Next_UK_Zenith</td>\n",
       "      <td>378754</td>\n",
       "      <td>Active</td>\n",
       "      <td>NaN</td>\n",
       "      <td>0.0</td>\n",
       "      <td>DE</td>\n",
       "      <td>Desktop</td>\n",
       "      <td>GBP</td>\n",
       "      <td>16033.0</td>\n",
       "      <td>15214.0</td>\n",
       "      <td>4048.0</td>\n",
       "      <td>3.0</td>\n",
       "      <td>15.064673</td>\n",
       "    </tr>\n",
       "    <tr>\n",
       "      <th>1</th>\n",
       "      <td>Next_UK_Zenith</td>\n",
       "      <td>378754</td>\n",
       "      <td>Active</td>\n",
       "      <td>NaN</td>\n",
       "      <td>0.0</td>\n",
       "      <td>HK</td>\n",
       "      <td>Desktop</td>\n",
       "      <td>GBP</td>\n",
       "      <td>24158.0</td>\n",
       "      <td>23581.0</td>\n",
       "      <td>9229.0</td>\n",
       "      <td>19.0</td>\n",
       "      <td>51.533391</td>\n",
       "    </tr>\n",
       "    <tr>\n",
       "      <th>2</th>\n",
       "      <td>Next_UK_Zenith</td>\n",
       "      <td>378754</td>\n",
       "      <td>Active</td>\n",
       "      <td>NaN</td>\n",
       "      <td>1.0</td>\n",
       "      <td>DE</td>\n",
       "      <td>Desktop</td>\n",
       "      <td>GBP</td>\n",
       "      <td>31903.0</td>\n",
       "      <td>30341.0</td>\n",
       "      <td>7678.0</td>\n",
       "      <td>6.0</td>\n",
       "      <td>25.592858</td>\n",
       "    </tr>\n",
       "    <tr>\n",
       "      <th>3</th>\n",
       "      <td>Next_UK_Zenith</td>\n",
       "      <td>378754</td>\n",
       "      <td>Active</td>\n",
       "      <td>NaN</td>\n",
       "      <td>1.0</td>\n",
       "      <td>GB</td>\n",
       "      <td>Desktop</td>\n",
       "      <td>GBP</td>\n",
       "      <td>94044.0</td>\n",
       "      <td>92256.0</td>\n",
       "      <td>57478.0</td>\n",
       "      <td>157.0</td>\n",
       "      <td>301.121433</td>\n",
       "    </tr>\n",
       "    <tr>\n",
       "      <th>4</th>\n",
       "      <td>Next_UK_Zenith</td>\n",
       "      <td>378754</td>\n",
       "      <td>Active</td>\n",
       "      <td>NaN</td>\n",
       "      <td>1.0</td>\n",
       "      <td>GB</td>\n",
       "      <td>Tablet</td>\n",
       "      <td>GBP</td>\n",
       "      <td>53025.0</td>\n",
       "      <td>48877.0</td>\n",
       "      <td>25243.0</td>\n",
       "      <td>49.0</td>\n",
       "      <td>125.552097</td>\n",
       "    </tr>\n",
       "  </tbody>\n",
       "</table>\n",
       "</div>"
      ],
      "text/plain": [
       "       Advertiser Advertiser ID Advertiser Status  \\\n",
       "0  Next_UK_Zenith        378754            Active   \n",
       "1  Next_UK_Zenith        378754            Active   \n",
       "2  Next_UK_Zenith        378754            Active   \n",
       "3  Next_UK_Zenith        378754            Active   \n",
       "4  Next_UK_Zenith        378754            Active   \n",
       "\n",
       "   Advertiser Integration Code  Time of Day Country Device Type  \\\n",
       "0                          NaN          0.0      DE     Desktop   \n",
       "1                          NaN          0.0      HK     Desktop   \n",
       "2                          NaN          1.0      DE     Desktop   \n",
       "3                          NaN          1.0      GB     Desktop   \n",
       "4                          NaN          1.0      GB      Tablet   \n",
       "\n",
       "  Advertiser Currency  Impressions  Active View: Measurable Impressions  \\\n",
       "0                 GBP      16033.0                              15214.0   \n",
       "1                 GBP      24158.0                              23581.0   \n",
       "2                 GBP      31903.0                              30341.0   \n",
       "3                 GBP      94044.0                              92256.0   \n",
       "4                 GBP      53025.0                              48877.0   \n",
       "\n",
       "   Active View: Viewable Impressions  Clicks  Revenue (Adv Currency)  \n",
       "0                             4048.0     3.0               15.064673  \n",
       "1                             9229.0    19.0               51.533391  \n",
       "2                             7678.0     6.0               25.592858  \n",
       "3                            57478.0   157.0              301.121433  \n",
       "4                            25243.0    49.0              125.552097  "
      ]
     },
     "execution_count": 3,
     "metadata": {},
     "output_type": "execute_result"
    }
   ],
   "source": [
    "ndata.head()"
   ]
  },
  {
   "cell_type": "code",
   "execution_count": 4,
   "metadata": {
    "collapsed": false
   },
   "outputs": [],
   "source": [
    "ndata = ndata.drop(ndata.index[336::])"
   ]
  },
  {
   "cell_type": "code",
   "execution_count": 5,
   "metadata": {
    "collapsed": true
   },
   "outputs": [],
   "source": [
    "ndata = ndata.drop([\"Advertiser ID\", \"Advertiser Status\", \"Advertiser Integration Code\"], axis=1)"
   ]
  },
  {
   "cell_type": "code",
   "execution_count": 6,
   "metadata": {
    "collapsed": false
   },
   "outputs": [
    {
     "data": {
      "text/html": [
       "<div>\n",
       "<table border=\"1\" class=\"dataframe\">\n",
       "  <thead>\n",
       "    <tr style=\"text-align: right;\">\n",
       "      <th></th>\n",
       "      <th>Advertiser</th>\n",
       "      <th>Time of Day</th>\n",
       "      <th>Country</th>\n",
       "      <th>Device Type</th>\n",
       "      <th>Advertiser Currency</th>\n",
       "      <th>Impressions</th>\n",
       "      <th>Active View: Measurable Impressions</th>\n",
       "      <th>Active View: Viewable Impressions</th>\n",
       "      <th>Clicks</th>\n",
       "      <th>Revenue (Adv Currency)</th>\n",
       "    </tr>\n",
       "  </thead>\n",
       "  <tbody>\n",
       "    <tr>\n",
       "      <th>331</th>\n",
       "      <td>Next_UK_Zenith</td>\n",
       "      <td>8.0</td>\n",
       "      <td>AU</td>\n",
       "      <td>Desktop</td>\n",
       "      <td>GBP</td>\n",
       "      <td>54393.0</td>\n",
       "      <td>53375.0</td>\n",
       "      <td>24957.0</td>\n",
       "      <td>41.0</td>\n",
       "      <td>109.464148</td>\n",
       "    </tr>\n",
       "    <tr>\n",
       "      <th>332</th>\n",
       "      <td>Next_UK_Zenith</td>\n",
       "      <td>9.0</td>\n",
       "      <td>CZ</td>\n",
       "      <td>Desktop</td>\n",
       "      <td>GBP</td>\n",
       "      <td>11734.0</td>\n",
       "      <td>11593.0</td>\n",
       "      <td>5158.0</td>\n",
       "      <td>25.0</td>\n",
       "      <td>34.568392</td>\n",
       "    </tr>\n",
       "    <tr>\n",
       "      <th>333</th>\n",
       "      <td>Next_UK_Zenith</td>\n",
       "      <td>9.0</td>\n",
       "      <td>GB</td>\n",
       "      <td>Smart Phone</td>\n",
       "      <td>GBP</td>\n",
       "      <td>357093.0</td>\n",
       "      <td>333585.0</td>\n",
       "      <td>138886.0</td>\n",
       "      <td>1481.0</td>\n",
       "      <td>985.659847</td>\n",
       "    </tr>\n",
       "    <tr>\n",
       "      <th>334</th>\n",
       "      <td>Next_UK_Zenith</td>\n",
       "      <td>9.0</td>\n",
       "      <td>RU</td>\n",
       "      <td>Desktop</td>\n",
       "      <td>GBP</td>\n",
       "      <td>254583.0</td>\n",
       "      <td>251489.0</td>\n",
       "      <td>116124.0</td>\n",
       "      <td>251.0</td>\n",
       "      <td>383.502848</td>\n",
       "    </tr>\n",
       "    <tr>\n",
       "      <th>335</th>\n",
       "      <td>Next_UK_Zenith</td>\n",
       "      <td>9.0</td>\n",
       "      <td>SK</td>\n",
       "      <td>Desktop</td>\n",
       "      <td>GBP</td>\n",
       "      <td>82911.0</td>\n",
       "      <td>81246.0</td>\n",
       "      <td>33392.0</td>\n",
       "      <td>81.0</td>\n",
       "      <td>102.547073</td>\n",
       "    </tr>\n",
       "  </tbody>\n",
       "</table>\n",
       "</div>"
      ],
      "text/plain": [
       "         Advertiser  Time of Day Country  Device Type Advertiser Currency  \\\n",
       "331  Next_UK_Zenith          8.0      AU      Desktop                 GBP   \n",
       "332  Next_UK_Zenith          9.0      CZ      Desktop                 GBP   \n",
       "333  Next_UK_Zenith          9.0      GB  Smart Phone                 GBP   \n",
       "334  Next_UK_Zenith          9.0      RU      Desktop                 GBP   \n",
       "335  Next_UK_Zenith          9.0      SK      Desktop                 GBP   \n",
       "\n",
       "     Impressions  Active View: Measurable Impressions  \\\n",
       "331      54393.0                              53375.0   \n",
       "332      11734.0                              11593.0   \n",
       "333     357093.0                             333585.0   \n",
       "334     254583.0                             251489.0   \n",
       "335      82911.0                              81246.0   \n",
       "\n",
       "     Active View: Viewable Impressions  Clicks  Revenue (Adv Currency)  \n",
       "331                            24957.0    41.0              109.464148  \n",
       "332                             5158.0    25.0               34.568392  \n",
       "333                           138886.0  1481.0              985.659847  \n",
       "334                           116124.0   251.0              383.502848  \n",
       "335                            33392.0    81.0              102.547073  "
      ]
     },
     "execution_count": 6,
     "metadata": {},
     "output_type": "execute_result"
    }
   ],
   "source": [
    "ndata.tail()"
   ]
  },
  {
   "cell_type": "code",
   "execution_count": 7,
   "metadata": {
    "collapsed": false
   },
   "outputs": [
    {
     "data": {
      "text/plain": [
       "Index(['Advertiser', 'Time of Day', 'Country', 'Device Type',\n",
       "       'Advertiser Currency', 'Impressions',\n",
       "       'Active View: Measurable Impressions',\n",
       "       'Active View: Viewable Impressions', 'Clicks',\n",
       "       'Revenue (Adv Currency)'],\n",
       "      dtype='object')"
      ]
     },
     "execution_count": 7,
     "metadata": {},
     "output_type": "execute_result"
    }
   ],
   "source": [
    "ndata.columns"
   ]
  },
  {
   "cell_type": "code",
   "execution_count": 8,
   "metadata": {
    "collapsed": true
   },
   "outputs": [],
   "source": [
    "ndata.columns=['Advertiser', 'TOD', 'Country', 'DeviceType',\n",
    "       'AdvertiserCurrency', 'Impressions',\n",
    "       'MeasurableImpressions',\n",
    "       'ViewableImpressions', 'Clicks',\n",
    "       'Spend']"
   ]
  },
  {
   "cell_type": "code",
   "execution_count": 9,
   "metadata": {
    "collapsed": false
   },
   "outputs": [
    {
     "data": {
      "text/html": [
       "<div>\n",
       "<table border=\"1\" class=\"dataframe\">\n",
       "  <thead>\n",
       "    <tr style=\"text-align: right;\">\n",
       "      <th></th>\n",
       "      <th>Advertiser</th>\n",
       "      <th>TOD</th>\n",
       "      <th>Country</th>\n",
       "      <th>DeviceType</th>\n",
       "      <th>AdvertiserCurrency</th>\n",
       "      <th>Impressions</th>\n",
       "      <th>MeasurableImpressions</th>\n",
       "      <th>ViewableImpressions</th>\n",
       "      <th>Clicks</th>\n",
       "      <th>Spend</th>\n",
       "    </tr>\n",
       "  </thead>\n",
       "  <tbody>\n",
       "    <tr>\n",
       "      <th>0</th>\n",
       "      <td>Next_UK_Zenith</td>\n",
       "      <td>0.0</td>\n",
       "      <td>DE</td>\n",
       "      <td>Desktop</td>\n",
       "      <td>GBP</td>\n",
       "      <td>16033.0</td>\n",
       "      <td>15214.0</td>\n",
       "      <td>4048.0</td>\n",
       "      <td>3.0</td>\n",
       "      <td>15.064673</td>\n",
       "    </tr>\n",
       "    <tr>\n",
       "      <th>1</th>\n",
       "      <td>Next_UK_Zenith</td>\n",
       "      <td>0.0</td>\n",
       "      <td>HK</td>\n",
       "      <td>Desktop</td>\n",
       "      <td>GBP</td>\n",
       "      <td>24158.0</td>\n",
       "      <td>23581.0</td>\n",
       "      <td>9229.0</td>\n",
       "      <td>19.0</td>\n",
       "      <td>51.533391</td>\n",
       "    </tr>\n",
       "    <tr>\n",
       "      <th>2</th>\n",
       "      <td>Next_UK_Zenith</td>\n",
       "      <td>1.0</td>\n",
       "      <td>DE</td>\n",
       "      <td>Desktop</td>\n",
       "      <td>GBP</td>\n",
       "      <td>31903.0</td>\n",
       "      <td>30341.0</td>\n",
       "      <td>7678.0</td>\n",
       "      <td>6.0</td>\n",
       "      <td>25.592858</td>\n",
       "    </tr>\n",
       "    <tr>\n",
       "      <th>3</th>\n",
       "      <td>Next_UK_Zenith</td>\n",
       "      <td>1.0</td>\n",
       "      <td>GB</td>\n",
       "      <td>Desktop</td>\n",
       "      <td>GBP</td>\n",
       "      <td>94044.0</td>\n",
       "      <td>92256.0</td>\n",
       "      <td>57478.0</td>\n",
       "      <td>157.0</td>\n",
       "      <td>301.121433</td>\n",
       "    </tr>\n",
       "    <tr>\n",
       "      <th>4</th>\n",
       "      <td>Next_UK_Zenith</td>\n",
       "      <td>1.0</td>\n",
       "      <td>GB</td>\n",
       "      <td>Tablet</td>\n",
       "      <td>GBP</td>\n",
       "      <td>53025.0</td>\n",
       "      <td>48877.0</td>\n",
       "      <td>25243.0</td>\n",
       "      <td>49.0</td>\n",
       "      <td>125.552097</td>\n",
       "    </tr>\n",
       "  </tbody>\n",
       "</table>\n",
       "</div>"
      ],
      "text/plain": [
       "       Advertiser  TOD Country DeviceType AdvertiserCurrency  Impressions  \\\n",
       "0  Next_UK_Zenith  0.0      DE    Desktop                GBP      16033.0   \n",
       "1  Next_UK_Zenith  0.0      HK    Desktop                GBP      24158.0   \n",
       "2  Next_UK_Zenith  1.0      DE    Desktop                GBP      31903.0   \n",
       "3  Next_UK_Zenith  1.0      GB    Desktop                GBP      94044.0   \n",
       "4  Next_UK_Zenith  1.0      GB     Tablet                GBP      53025.0   \n",
       "\n",
       "   MeasurableImpressions  ViewableImpressions  Clicks       Spend  \n",
       "0                15214.0               4048.0     3.0   15.064673  \n",
       "1                23581.0               9229.0    19.0   51.533391  \n",
       "2                30341.0               7678.0     6.0   25.592858  \n",
       "3                92256.0              57478.0   157.0  301.121433  \n",
       "4                48877.0              25243.0    49.0  125.552097  "
      ]
     },
     "execution_count": 9,
     "metadata": {},
     "output_type": "execute_result"
    }
   ],
   "source": [
    "ndata.head()"
   ]
  },
  {
   "cell_type": "code",
   "execution_count": 10,
   "metadata": {
    "collapsed": false
   },
   "outputs": [],
   "source": [
    "ndata[\"CTR\"] = ndata.Clicks / ndata.Impressions\n",
    "ndata[\"CPM\"] = ndata.Spend / ndata.Impressions * 1000\n",
    "ndata[\"Viewability\"] = ndata.ViewableImpressions / ndata.MeasurableImpressions"
   ]
  },
  {
   "cell_type": "code",
   "execution_count": 11,
   "metadata": {
    "collapsed": true
   },
   "outputs": [],
   "source": [
    "ndata.Country = ndata.Country.astype(\"category\")\n",
    "ndata.DeviceType = ndata.DeviceType.astype(\"category\")"
   ]
  },
  {
   "cell_type": "code",
   "execution_count": 12,
   "metadata": {
    "collapsed": false
   },
   "outputs": [
    {
     "data": {
      "text/html": [
       "<div>\n",
       "<table border=\"1\" class=\"dataframe\">\n",
       "  <thead>\n",
       "    <tr style=\"text-align: right;\">\n",
       "      <th></th>\n",
       "      <th>Advertiser</th>\n",
       "      <th>TOD</th>\n",
       "      <th>Country</th>\n",
       "      <th>DeviceType</th>\n",
       "      <th>AdvertiserCurrency</th>\n",
       "      <th>Impressions</th>\n",
       "      <th>MeasurableImpressions</th>\n",
       "      <th>ViewableImpressions</th>\n",
       "      <th>Clicks</th>\n",
       "      <th>Spend</th>\n",
       "      <th>CTR</th>\n",
       "      <th>CPM</th>\n",
       "      <th>Viewability</th>\n",
       "    </tr>\n",
       "  </thead>\n",
       "  <tbody>\n",
       "    <tr>\n",
       "      <th>0</th>\n",
       "      <td>Next_UK_Zenith</td>\n",
       "      <td>0.0</td>\n",
       "      <td>DE</td>\n",
       "      <td>Desktop</td>\n",
       "      <td>GBP</td>\n",
       "      <td>16033.0</td>\n",
       "      <td>15214.0</td>\n",
       "      <td>4048.0</td>\n",
       "      <td>3.0</td>\n",
       "      <td>15.064673</td>\n",
       "      <td>0.000187</td>\n",
       "      <td>0.939604</td>\n",
       "      <td>0.266071</td>\n",
       "    </tr>\n",
       "    <tr>\n",
       "      <th>1</th>\n",
       "      <td>Next_UK_Zenith</td>\n",
       "      <td>0.0</td>\n",
       "      <td>HK</td>\n",
       "      <td>Desktop</td>\n",
       "      <td>GBP</td>\n",
       "      <td>24158.0</td>\n",
       "      <td>23581.0</td>\n",
       "      <td>9229.0</td>\n",
       "      <td>19.0</td>\n",
       "      <td>51.533391</td>\n",
       "      <td>0.000786</td>\n",
       "      <td>2.133181</td>\n",
       "      <td>0.391374</td>\n",
       "    </tr>\n",
       "    <tr>\n",
       "      <th>2</th>\n",
       "      <td>Next_UK_Zenith</td>\n",
       "      <td>1.0</td>\n",
       "      <td>DE</td>\n",
       "      <td>Desktop</td>\n",
       "      <td>GBP</td>\n",
       "      <td>31903.0</td>\n",
       "      <td>30341.0</td>\n",
       "      <td>7678.0</td>\n",
       "      <td>6.0</td>\n",
       "      <td>25.592858</td>\n",
       "      <td>0.000188</td>\n",
       "      <td>0.802209</td>\n",
       "      <td>0.253057</td>\n",
       "    </tr>\n",
       "    <tr>\n",
       "      <th>3</th>\n",
       "      <td>Next_UK_Zenith</td>\n",
       "      <td>1.0</td>\n",
       "      <td>GB</td>\n",
       "      <td>Desktop</td>\n",
       "      <td>GBP</td>\n",
       "      <td>94044.0</td>\n",
       "      <td>92256.0</td>\n",
       "      <td>57478.0</td>\n",
       "      <td>157.0</td>\n",
       "      <td>301.121433</td>\n",
       "      <td>0.001669</td>\n",
       "      <td>3.201921</td>\n",
       "      <td>0.623027</td>\n",
       "    </tr>\n",
       "    <tr>\n",
       "      <th>4</th>\n",
       "      <td>Next_UK_Zenith</td>\n",
       "      <td>1.0</td>\n",
       "      <td>GB</td>\n",
       "      <td>Tablet</td>\n",
       "      <td>GBP</td>\n",
       "      <td>53025.0</td>\n",
       "      <td>48877.0</td>\n",
       "      <td>25243.0</td>\n",
       "      <td>49.0</td>\n",
       "      <td>125.552097</td>\n",
       "      <td>0.000924</td>\n",
       "      <td>2.367791</td>\n",
       "      <td>0.516460</td>\n",
       "    </tr>\n",
       "  </tbody>\n",
       "</table>\n",
       "</div>"
      ],
      "text/plain": [
       "       Advertiser  TOD Country DeviceType AdvertiserCurrency  Impressions  \\\n",
       "0  Next_UK_Zenith  0.0      DE    Desktop                GBP      16033.0   \n",
       "1  Next_UK_Zenith  0.0      HK    Desktop                GBP      24158.0   \n",
       "2  Next_UK_Zenith  1.0      DE    Desktop                GBP      31903.0   \n",
       "3  Next_UK_Zenith  1.0      GB    Desktop                GBP      94044.0   \n",
       "4  Next_UK_Zenith  1.0      GB     Tablet                GBP      53025.0   \n",
       "\n",
       "   MeasurableImpressions  ViewableImpressions  Clicks       Spend       CTR  \\\n",
       "0                15214.0               4048.0     3.0   15.064673  0.000187   \n",
       "1                23581.0               9229.0    19.0   51.533391  0.000786   \n",
       "2                30341.0               7678.0     6.0   25.592858  0.000188   \n",
       "3                92256.0              57478.0   157.0  301.121433  0.001669   \n",
       "4                48877.0              25243.0    49.0  125.552097  0.000924   \n",
       "\n",
       "        CPM  Viewability  \n",
       "0  0.939604     0.266071  \n",
       "1  2.133181     0.391374  \n",
       "2  0.802209     0.253057  \n",
       "3  3.201921     0.623027  \n",
       "4  2.367791     0.516460  "
      ]
     },
     "execution_count": 12,
     "metadata": {},
     "output_type": "execute_result"
    }
   ],
   "source": [
    "ndata.head()"
   ]
  },
  {
   "cell_type": "markdown",
   "metadata": {},
   "source": [
    "---"
   ]
  },
  {
   "cell_type": "code",
   "execution_count": 13,
   "metadata": {
    "collapsed": true
   },
   "outputs": [],
   "source": [
    "#below we explore setting the palette\n",
    "#when seaborn plots are using the colors the color palette needs to be set prior to be called\n",
    "#this uses color_palette=()"
   ]
  },
  {
   "cell_type": "code",
   "execution_count": 14,
   "metadata": {
    "collapsed": false
   },
   "outputs": [
    {
     "data": {
      "image/png": "[encoded data removed]",
      "text/plain": [
       "<matplotlib.figure.Figure at 0x1157c5e80>"
      ]
     },
     "metadata": {},
     "output_type": "display_data"
    }
   ],
   "source": [
    "#qualitative colours\n",
    "#by default color_palette uses 6 srandard colours which is a standard RGB translation\n",
    "#and palplot() is used to plot the color scheme\n",
    "pal = sns.color_palette()\n",
    "sns.palplot(pal)"
   ]
  },
  {
   "cell_type": "code",
   "execution_count": 15,
   "metadata": {
    "collapsed": false
   },
   "outputs": [
    {
     "data": {
      "image/png": "[encoded data removed]",
      "text/plain": [
       "<matplotlib.figure.Figure at 0x1158322e8>"
      ]
     },
     "metadata": {},
     "output_type": "display_data"
    },
    {
     "data": {
      "image/png": "[encoded data removed]",
      "text/plain": [
       "<matplotlib.figure.Figure at 0x1158199b0>"
      ]
     },
     "metadata": {},
     "output_type": "display_data"
    },
    {
     "data": {
      "image/png": "[encoded data removed]",
      "text/plain": [
       "<matplotlib.figure.Figure at 0x11584b0b8>"
      ]
     },
     "metadata": {},
     "output_type": "display_data"
    },
    {
     "data": {
      "image/png": "[encoded data removed]",
      "text/plain": [
       "<matplotlib.figure.Figure at 0x116414a20>"
      ]
     },
     "metadata": {},
     "output_type": "display_data"
    },
    {
     "data": {
      "image/png": "[encoded data removed]",
      "text/plain": [
       "<matplotlib.figure.Figure at 0x11644fbe0>"
      ]
     },
     "metadata": {},
     "output_type": "display_data"
    },
    {
     "data": {
      "image/png": "[encoded data removed]",
      "text/plain": [
       "<matplotlib.figure.Figure at 0x1164a8fd0>"
      ]
     },
     "metadata": {},
     "output_type": "display_data"
    }
   ],
   "source": [
    "#There are six variations of the default theme, called deep, muted, pastel, bright, dark, and colorblind\n",
    "def stancolor(i):\n",
    "    col = [\"deep\", \"muted\", \"pastel\", \"bright\", \"dark\", \"colorblind\"]\n",
    "    for i in col:\n",
    "        pal = sns.color_palette(i)\n",
    "        sns.palplot(pal)\n",
    "stancolor([\"deep\", \"muted\", \"pastel\", \"bright\", \"dark\", \"colorblind\"])"
   ]
  },
  {
   "cell_type": "code",
   "execution_count": null,
   "metadata": {
    "collapsed": true
   },
   "outputs": [],
   "source": []
  }
 ],
 "metadata": {
  "anaconda-cloud": {},
  "kernelspec": {
   "display_name": "Python [conda root]",
   "language": "python",
   "name": "conda-root-py"
  },
  "language_info": {
   "codemirror_mode": {
    "name": "ipython",
    "version": 3
   },
   "file_extension": ".py",
   "mimetype": "text/x-python",
   "name": "python",
   "nbconvert_exporter": "python",
   "pygments_lexer": "ipython3",
   "version": "3.5.2"
  }
 },
 "nbformat": 4,
 "nbformat_minor": 1
}
