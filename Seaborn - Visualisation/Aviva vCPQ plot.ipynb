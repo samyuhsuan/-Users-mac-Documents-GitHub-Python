{
 "cells": [
  {
   "cell_type": "code",
   "execution_count": null,
   "metadata": {
    "collapsed": true
   },
   "outputs": [],
   "source": [
    "import numpy as np\n",
    "import pandas as pd\n",
    "import seaborn as sns\n",
    "%matplotlib inline"
   ]
  },
  {
   "cell_type": "code",
   "execution_count": null,
   "metadata": {
    "collapsed": false
   },
   "outputs": [],
   "source": [
    "aviva = pd.read_csv(\"AvivaView.csv\")"
   ]
  },
  {
   "cell_type": "code",
   "execution_count": null,
   "metadata": {
    "collapsed": false
   },
   "outputs": [],
   "source": [
    "aviva.columns"
   ]
  },
  {
   "cell_type": "code",
   "execution_count": null,
   "metadata": {
    "collapsed": false
   },
   "outputs": [],
   "source": [
    "aviva.columns = ['Key', 'Targeting', 'Recency', 'Viewability',\n",
    "       'MeasurableImpressions',\n",
    "       'ViewableImpressions', 'Impressions',\n",
    "       'Quotes', 'Spend', 'Viewgroup']"
   ]
  },
  {
   "cell_type": "code",
   "execution_count": null,
   "metadata": {
    "collapsed": false
   },
   "outputs": [],
   "source": [
    "aviva.tail(17)"
   ]
  },
  {
   "cell_type": "code",
   "execution_count": null,
   "metadata": {
    "collapsed": false
   },
   "outputs": [],
   "source": [
    "aviva = aviva.drop(aviva.index[724:])"
   ]
  },
  {
   "cell_type": "code",
   "execution_count": null,
   "metadata": {
    "collapsed": false
   },
   "outputs": [],
   "source": [
    "aviva.head()"
   ]
  },
  {
   "cell_type": "code",
   "execution_count": null,
   "metadata": {
    "collapsed": false
   },
   "outputs": [],
   "source": [
    "aviva = aviva.drop(aviva.Key == \"Grand Total\")"
   ]
  },
  {
   "cell_type": "code",
   "execution_count": null,
   "metadata": {
    "collapsed": false
   },
   "outputs": [],
   "source": [
    "aviva[\"CPM\"] = aviva.Spend / aviva.Impressions * 1000\n",
    "aviva[\"CPQ\"] = aviva.Spend / aviva.Quotes\n",
    "aviva[\"ViewQuotes\"] = aviva.Quotes * (aviva.ViewableImpressions / aviva.MeasurableImpressions)\n",
    "aviva[\"vCPQ\"] = aviva.Spend / (aviva.Quotes * (aviva.ViewableImpressions / aviva.MeasurableImpressions))\n",
    "aviva[\"Viewability\"] = aviva.ViewableImpressions / aviva.MeasurableImpressions"
   ]
  },
  {
   "cell_type": "code",
   "execution_count": null,
   "metadata": {
    "collapsed": false
   },
   "outputs": [],
   "source": [
    "aviva[\"Recency\"][aviva[\"Recency\"].isnull() == True] = \"Others\""
   ]
  },
  {
   "cell_type": "code",
   "execution_count": null,
   "metadata": {
    "collapsed": false
   },
   "outputs": [],
   "source": [
    "aviva[\"Viewgroup\"] = 0\n",
    "aviva[\"Viewgroup\"][aviva.Viewability < 0.3999999] = 0.3\n",
    "aviva[\"Viewgroup\"][(aviva.Viewability < 0.4999999) & (aviva.Viewability > 0.4)] = 0.4\n",
    "aviva[\"Viewgroup\"][(aviva.Viewability < 0.5999999) & (aviva.Viewability > 0.5)] = 0.5\n",
    "aviva[\"Viewgroup\"][(aviva.Viewability < 0.6999999) & (aviva.Viewability > 0.6)] = 0.6\n",
    "aviva[\"Viewgroup\"][(aviva.Viewability < 0.7999999) & (aviva.Viewability > 0.7)] = 0.7\n",
    "aviva[\"Viewgroup\"][aviva.Viewability > 0.8] = 0.8"
   ]
  },
  {
   "cell_type": "markdown",
   "metadata": {},
   "source": [
    "---"
   ]
  },
  {
   "cell_type": "code",
   "execution_count": null,
   "metadata": {
    "collapsed": false
   },
   "outputs": [],
   "source": [
    "sns.lmplot(data=aviva, x=\"Viewability\", y=\"vCPQ\", hue=\"Targeting\", row=\"Targeting\", col=\"Recency\", order=2, \n",
    "           sharey=False, col_order=[\"Others\", \"48 hours\", \"24 hours\", \"10 mins\"], \n",
    "          row_order=[\"Homepage\", \"Car homepage\", \"Start quote\", \"End quote\"])"
   ]
  },
  {
   "cell_type": "code",
   "execution_count": null,
   "metadata": {
    "collapsed": false
   },
   "outputs": [],
   "source": [
    "sns.lmplot(data=aviva, x=\"Viewgroup\", y=\"vCPQ\", hue=\"Targeting\", row=\"Targeting\", col=\"Recency\", order=2, \n",
    "           sharey=False, col_order=[\"Others\", \"48 hours\", \"24 hours\", \"10 mins\"], \n",
    "          row_order=[\"Homepage\", \"Car homepage\", \"Start quote\", \"End quote\"])"
   ]
  },
  {
   "cell_type": "code",
   "execution_count": null,
   "metadata": {
    "collapsed": true
   },
   "outputs": [],
   "source": [
    "sns.fac"
   ]
  },
  {
   "cell_type": "code",
   "execution_count": null,
   "metadata": {
    "collapsed": true
   },
   "outputs": [],
   "source": []
  },
  {
   "cell_type": "code",
   "execution_count": null,
   "metadata": {
    "collapsed": true
   },
   "outputs": [],
   "source": []
  }
 ],
 "metadata": {
  "anaconda-cloud": {},
  "kernelspec": {
   "display_name": "Python [conda root]",
   "language": "python",
   "name": "conda-root-py"
  },
  "language_info": {
   "codemirror_mode": {
    "name": "ipython",
    "version": 3
   },
   "file_extension": ".py",
   "mimetype": "text/x-python",
   "name": "python",
   "nbconvert_exporter": "python",
   "pygments_lexer": "ipython3",
   "version": "3.5.2"
  }
 },
 "nbformat": 4,
 "nbformat_minor": 1
}
