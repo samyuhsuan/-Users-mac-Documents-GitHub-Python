{
 "cells": [
  {
   "cell_type": "code",
   "execution_count": 1,
   "metadata": {
    "collapsed": true
   },
   "outputs": [],
   "source": [
    "import seaborn as sns\n",
    "import pandas as pd\n",
    "import numpy as np\n",
    "%matplotlib inline"
   ]
  },
  {
   "cell_type": "code",
   "execution_count": 11,
   "metadata": {
    "collapsed": false
   },
   "outputs": [],
   "source": [
    "ndata = pd.read_csv(\"NextData.csv\")"
   ]
  },
  {
   "cell_type": "code",
   "execution_count": 13,
   "metadata": {
    "collapsed": false
   },
   "outputs": [
    {
     "data": {
      "text/html": [
       "<div>\n",
       "<table border=\"1\" class=\"dataframe\">\n",
       "  <thead>\n",
       "    <tr style=\"text-align: right;\">\n",
       "      <th></th>\n",
       "      <th>Advertiser</th>\n",
       "      <th>Advertiser ID</th>\n",
       "      <th>Advertiser Status</th>\n",
       "      <th>Advertiser Integration Code</th>\n",
       "      <th>Time of Day</th>\n",
       "      <th>Country</th>\n",
       "      <th>Device Type</th>\n",
       "      <th>Advertiser Currency</th>\n",
       "      <th>Impressions</th>\n",
       "      <th>Active View: Measurable Impressions</th>\n",
       "      <th>Active View: Viewable Impressions</th>\n",
       "      <th>Clicks</th>\n",
       "      <th>Revenue (Adv Currency)</th>\n",
       "    </tr>\n",
       "  </thead>\n",
       "  <tbody>\n",
       "    <tr>\n",
       "      <th>0</th>\n",
       "      <td>Next_UK_Zenith</td>\n",
       "      <td>378754</td>\n",
       "      <td>Active</td>\n",
       "      <td>NaN</td>\n",
       "      <td>0.0</td>\n",
       "      <td>DE</td>\n",
       "      <td>Desktop</td>\n",
       "      <td>GBP</td>\n",
       "      <td>16033.0</td>\n",
       "      <td>15214.0</td>\n",
       "      <td>4048.0</td>\n",
       "      <td>3.0</td>\n",
       "      <td>15.064673</td>\n",
       "    </tr>\n",
       "    <tr>\n",
       "      <th>1</th>\n",
       "      <td>Next_UK_Zenith</td>\n",
       "      <td>378754</td>\n",
       "      <td>Active</td>\n",
       "      <td>NaN</td>\n",
       "      <td>0.0</td>\n",
       "      <td>HK</td>\n",
       "      <td>Desktop</td>\n",
       "      <td>GBP</td>\n",
       "      <td>24158.0</td>\n",
       "      <td>23581.0</td>\n",
       "      <td>9229.0</td>\n",
       "      <td>19.0</td>\n",
       "      <td>51.533391</td>\n",
       "    </tr>\n",
       "    <tr>\n",
       "      <th>2</th>\n",
       "      <td>Next_UK_Zenith</td>\n",
       "      <td>378754</td>\n",
       "      <td>Active</td>\n",
       "      <td>NaN</td>\n",
       "      <td>1.0</td>\n",
       "      <td>DE</td>\n",
       "      <td>Desktop</td>\n",
       "      <td>GBP</td>\n",
       "      <td>31903.0</td>\n",
       "      <td>30341.0</td>\n",
       "      <td>7678.0</td>\n",
       "      <td>6.0</td>\n",
       "      <td>25.592858</td>\n",
       "    </tr>\n",
       "    <tr>\n",
       "      <th>3</th>\n",
       "      <td>Next_UK_Zenith</td>\n",
       "      <td>378754</td>\n",
       "      <td>Active</td>\n",
       "      <td>NaN</td>\n",
       "      <td>1.0</td>\n",
       "      <td>GB</td>\n",
       "      <td>Desktop</td>\n",
       "      <td>GBP</td>\n",
       "      <td>94044.0</td>\n",
       "      <td>92256.0</td>\n",
       "      <td>57478.0</td>\n",
       "      <td>157.0</td>\n",
       "      <td>301.121433</td>\n",
       "    </tr>\n",
       "    <tr>\n",
       "      <th>4</th>\n",
       "      <td>Next_UK_Zenith</td>\n",
       "      <td>378754</td>\n",
       "      <td>Active</td>\n",
       "      <td>NaN</td>\n",
       "      <td>1.0</td>\n",
       "      <td>GB</td>\n",
       "      <td>Tablet</td>\n",
       "      <td>GBP</td>\n",
       "      <td>53025.0</td>\n",
       "      <td>48877.0</td>\n",
       "      <td>25243.0</td>\n",
       "      <td>49.0</td>\n",
       "      <td>125.552097</td>\n",
       "    </tr>\n",
       "  </tbody>\n",
       "</table>\n",
       "</div>"
      ],
      "text/plain": [
       "       Advertiser Advertiser ID Advertiser Status  \\\n",
       "0  Next_UK_Zenith        378754            Active   \n",
       "1  Next_UK_Zenith        378754            Active   \n",
       "2  Next_UK_Zenith        378754            Active   \n",
       "3  Next_UK_Zenith        378754            Active   \n",
       "4  Next_UK_Zenith        378754            Active   \n",
       "\n",
       "   Advertiser Integration Code  Time of Day Country Device Type  \\\n",
       "0                          NaN          0.0      DE     Desktop   \n",
       "1                          NaN          0.0      HK     Desktop   \n",
       "2                          NaN          1.0      DE     Desktop   \n",
       "3                          NaN          1.0      GB     Desktop   \n",
       "4                          NaN          1.0      GB      Tablet   \n",
       "\n",
       "  Advertiser Currency  Impressions  Active View: Measurable Impressions  \\\n",
       "0                 GBP      16033.0                              15214.0   \n",
       "1                 GBP      24158.0                              23581.0   \n",
       "2                 GBP      31903.0                              30341.0   \n",
       "3                 GBP      94044.0                              92256.0   \n",
       "4                 GBP      53025.0                              48877.0   \n",
       "\n",
       "   Active View: Viewable Impressions  Clicks  Revenue (Adv Currency)  \n",
       "0                             4048.0     3.0               15.064673  \n",
       "1                             9229.0    19.0               51.533391  \n",
       "2                             7678.0     6.0               25.592858  \n",
       "3                            57478.0   157.0              301.121433  \n",
       "4                            25243.0    49.0              125.552097  "
      ]
     },
     "execution_count": 13,
     "metadata": {},
     "output_type": "execute_result"
    }
   ],
   "source": [
    "ndata.head()"
   ]
  },
  {
   "cell_type": "code",
   "execution_count": 14,
   "metadata": {
    "collapsed": false
   },
   "outputs": [],
   "source": [
    "ndata[\"CTR\"] = ndata[\"Clicks\"] / ndata[\"Impressions\"]\n",
    "ndata[\"Viewability\"] = ndata[\"Active View: Viewable Impressions\"] / ndata[\"Active View: Measurable Impressions\"]"
   ]
  },
  {
   "cell_type": "code",
   "execution_count": 15,
   "metadata": {
    "collapsed": false
   },
   "outputs": [
    {
     "data": {
      "text/plain": [
       "Index(['Advertiser', 'Advertiser ID', 'Advertiser Status',\n",
       "       'Advertiser Integration Code', 'Time of Day', 'Country', 'Device Type',\n",
       "       'Advertiser Currency', 'Impressions',\n",
       "       'Active View: Measurable Impressions',\n",
       "       'Active View: Viewable Impressions', 'Clicks', 'Revenue (Adv Currency)',\n",
       "       'CTR', 'Viewability'],\n",
       "      dtype='object')"
      ]
     },
     "execution_count": 15,
     "metadata": {},
     "output_type": "execute_result"
    }
   ],
   "source": [
    "ndata.columns"
   ]
  },
  {
   "cell_type": "code",
   "execution_count": 16,
   "metadata": {
    "collapsed": false
   },
   "outputs": [],
   "source": [
    "ndata = ndata.drop(['Advertiser ID', 'Advertiser Status',\n",
    "       'Advertiser Integration Code'], axis=1)"
   ]
  },
  {
   "cell_type": "code",
   "execution_count": 17,
   "metadata": {
    "collapsed": false
   },
   "outputs": [
    {
     "data": {
      "text/plain": [
       "Index(['Advertiser', 'Time of Day', 'Country', 'Device Type',\n",
       "       'Advertiser Currency', 'Impressions',\n",
       "       'Active View: Measurable Impressions',\n",
       "       'Active View: Viewable Impressions', 'Clicks', 'Revenue (Adv Currency)',\n",
       "       'CTR', 'Viewability'],\n",
       "      dtype='object')"
      ]
     },
     "execution_count": 17,
     "metadata": {},
     "output_type": "execute_result"
    }
   ],
   "source": [
    "ndata.columns"
   ]
  },
  {
   "cell_type": "code",
   "execution_count": 18,
   "metadata": {
    "collapsed": true
   },
   "outputs": [],
   "source": [
    "ndata.columns = ['Advertiser', 'TOD', 'Country', 'DeviceType',\n",
    "       'Currency', 'Impressions',\n",
    "       'MeasurableImpressions',\n",
    "       'ViewableImpressions', 'Clicks', 'Spend',\n",
    "       'CTR', 'Viewability']"
   ]
  },
  {
   "cell_type": "code",
   "execution_count": 22,
   "metadata": {
    "collapsed": false
   },
   "outputs": [],
   "source": [
    "ndata = ndata.drop(ndata.index[336:])"
   ]
  },
  {
   "cell_type": "markdown",
   "metadata": {},
   "source": [
    "---"
   ]
  },
  {
   "cell_type": "code",
   "execution_count": 29,
   "metadata": {
    "collapsed": false
   },
   "outputs": [
    {
     "name": "stderr",
     "output_type": "stream",
     "text": [
      "C:\\Program Files\\Anaconda3\\lib\\site-packages\\statsmodels\\nonparametric\\kdetools.py:20: VisibleDeprecationWarning: using a non-integer number instead of an integer will result in an error in the future\n",
      "  y = X[:m/2+1] + np.r_[0,X[m/2+1:],0]*1j\n"
     ]
    },
    {
     "data": {
      "image/png": "[encoded data removed]",
      "text/plain": [
       "<matplotlib.figure.Figure at 0xba643c8>"
      ]
     },
     "metadata": {},
     "output_type": "display_data"
    }
   ],
   "source": [
    "testplot = sns.distplot(ndata.Viewability, bins=30, )"
   ]
  },
  {
   "cell_type": "code",
   "execution_count": 34,
   "metadata": {
    "collapsed": false
   },
   "outputs": [
    {
     "data": {
      "image/png": "[encoded data removed]",
      "text/plain": [
       "<matplotlib.figure.Figure at 0xb827d68>"
      ]
     },
     "metadata": {},
     "output_type": "display_data"
    }
   ],
   "source": [
    "ndata = sns.lmplot(data=ndata, x=\"Viewability\", y=\"CTR\")"
   ]
  },
  {
   "cell_type": "code",
   "execution_count": 31,
   "metadata": {
    "collapsed": false
   },
   "outputs": [],
   "source": [
    "import statsmodels.api as sm"
   ]
  },
  {
   "cell_type": "code",
   "execution_count": 33,
   "metadata": {
    "collapsed": false
   },
   "outputs": [
    {
     "name": "stdout",
     "output_type": "stream",
     "text": [
      "                            OLS Regression Results                            \n",
      "==============================================================================\n",
      "Dep. Variable:                    CTR   R-squared:                       0.659\n",
      "Model:                            OLS   Adj. R-squared:                  0.658\n",
      "Method:                 Least Squares   F-statistic:                     648.5\n",
      "Date:                Tue, 14 Feb 2017   Prob (F-statistic):           2.43e-80\n",
      "Time:                        14:51:28   Log-Likelihood:                 1893.7\n",
      "No. Observations:                 336   AIC:                            -3785.\n",
      "Df Residuals:                     335   BIC:                            -3782.\n",
      "Df Model:                           1                                         \n",
      "Covariance Type:            nonrobust                                         \n",
      "===============================================================================\n",
      "                  coef    std err          t      P>|t|      [95.0% Conf. Int.]\n",
      "-------------------------------------------------------------------------------\n",
      "Viewability     0.0027      0.000     25.465      0.000         0.002     0.003\n",
      "==============================================================================\n",
      "Omnibus:                      288.959   Durbin-Watson:                   2.147\n",
      "Prob(Omnibus):                  0.000   Jarque-Bera (JB):             6605.633\n",
      "Skew:                           3.489   Prob(JB):                         0.00\n",
      "Kurtosis:                      23.570   Cond. No.                         1.00\n",
      "==============================================================================\n",
      "\n",
      "Warnings:\n",
      "[1] Standard Errors assume that the covariance matrix of the errors is correctly specified.\n"
     ]
    }
   ],
   "source": [
    "model = sm.OLS(ndata.CTR, ndata.Viewability)\n",
    "results = model.fit()\n",
    "print(results.summary())"
   ]
  },
  {
   "cell_type": "code",
   "execution_count": null,
   "metadata": {
    "collapsed": true
   },
   "outputs": [],
   "source": []
  }
 ],
 "metadata": {
  "anaconda-cloud": {},
  "kernelspec": {
   "display_name": "Python [conda root]",
   "language": "python",
   "name": "conda-root-py"
  },
  "language_info": {
   "codemirror_mode": {
    "name": "ipython",
    "version": 3
   },
   "file_extension": ".py",
   "mimetype": "text/x-python",
   "name": "python",
   "nbconvert_exporter": "python",
   "pygments_lexer": "ipython3",
   "version": "3.5.2"
  }
 },
 "nbformat": 4,
 "nbformat_minor": 1
}
