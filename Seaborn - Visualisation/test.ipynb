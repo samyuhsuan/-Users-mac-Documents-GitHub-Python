{
 "cells": [
  {
   "cell_type": "code",
   "execution_count": 1,
   "metadata": {
    "collapsed": true
   },
   "outputs": [],
   "source": [
    "import seaborn as sns\n",
    "import pandas as pd\n",
    "import numpy as np\n",
    "%matplotlib inline"
   ]
  },
  {
   "cell_type": "code",
   "execution_count": 2,
   "metadata": {
    "collapsed": false
   },
   "outputs": [],
   "source": [
    "ndata = pd.read_csv(\"NextData.csv\")"
   ]
  },
  {
   "cell_type": "code",
   "execution_count": 3,
   "metadata": {
    "collapsed": false
   },
   "outputs": [
    {
     "data": {
      "text/html": [
       "<div>\n",
       "<table border=\"1\" class=\"dataframe\">\n",
       "  <thead>\n",
       "    <tr style=\"text-align: right;\">\n",
       "      <th></th>\n",
       "      <th>Advertiser</th>\n",
       "      <th>Advertiser ID</th>\n",
       "      <th>Advertiser Status</th>\n",
       "      <th>Advertiser Integration Code</th>\n",
       "      <th>Time of Day</th>\n",
       "      <th>Country</th>\n",
       "      <th>Device Type</th>\n",
       "      <th>Advertiser Currency</th>\n",
       "      <th>Impressions</th>\n",
       "      <th>Active View: Measurable Impressions</th>\n",
       "      <th>Active View: Viewable Impressions</th>\n",
       "      <th>Clicks</th>\n",
       "      <th>Revenue (Adv Currency)</th>\n",
       "    </tr>\n",
       "  </thead>\n",
       "  <tbody>\n",
       "    <tr>\n",
       "      <th>0</th>\n",
       "      <td>Next_UK_Zenith</td>\n",
       "      <td>378754</td>\n",
       "      <td>Active</td>\n",
       "      <td>NaN</td>\n",
       "      <td>0.0</td>\n",
       "      <td>DE</td>\n",
       "      <td>Desktop</td>\n",
       "      <td>GBP</td>\n",
       "      <td>16033.0</td>\n",
       "      <td>15214.0</td>\n",
       "      <td>4048.0</td>\n",
       "      <td>3.0</td>\n",
       "      <td>15.064673</td>\n",
       "    </tr>\n",
       "    <tr>\n",
       "      <th>1</th>\n",
       "      <td>Next_UK_Zenith</td>\n",
       "      <td>378754</td>\n",
       "      <td>Active</td>\n",
       "      <td>NaN</td>\n",
       "      <td>0.0</td>\n",
       "      <td>HK</td>\n",
       "      <td>Desktop</td>\n",
       "      <td>GBP</td>\n",
       "      <td>24158.0</td>\n",
       "      <td>23581.0</td>\n",
       "      <td>9229.0</td>\n",
       "      <td>19.0</td>\n",
       "      <td>51.533391</td>\n",
       "    </tr>\n",
       "    <tr>\n",
       "      <th>2</th>\n",
       "      <td>Next_UK_Zenith</td>\n",
       "      <td>378754</td>\n",
       "      <td>Active</td>\n",
       "      <td>NaN</td>\n",
       "      <td>1.0</td>\n",
       "      <td>DE</td>\n",
       "      <td>Desktop</td>\n",
       "      <td>GBP</td>\n",
       "      <td>31903.0</td>\n",
       "      <td>30341.0</td>\n",
       "      <td>7678.0</td>\n",
       "      <td>6.0</td>\n",
       "      <td>25.592858</td>\n",
       "    </tr>\n",
       "    <tr>\n",
       "      <th>3</th>\n",
       "      <td>Next_UK_Zenith</td>\n",
       "      <td>378754</td>\n",
       "      <td>Active</td>\n",
       "      <td>NaN</td>\n",
       "      <td>1.0</td>\n",
       "      <td>GB</td>\n",
       "      <td>Desktop</td>\n",
       "      <td>GBP</td>\n",
       "      <td>94044.0</td>\n",
       "      <td>92256.0</td>\n",
       "      <td>57478.0</td>\n",
       "      <td>157.0</td>\n",
       "      <td>301.121433</td>\n",
       "    </tr>\n",
       "    <tr>\n",
       "      <th>4</th>\n",
       "      <td>Next_UK_Zenith</td>\n",
       "      <td>378754</td>\n",
       "      <td>Active</td>\n",
       "      <td>NaN</td>\n",
       "      <td>1.0</td>\n",
       "      <td>GB</td>\n",
       "      <td>Tablet</td>\n",
       "      <td>GBP</td>\n",
       "      <td>53025.0</td>\n",
       "      <td>48877.0</td>\n",
       "      <td>25243.0</td>\n",
       "      <td>49.0</td>\n",
       "      <td>125.552097</td>\n",
       "    </tr>\n",
       "  </tbody>\n",
       "</table>\n",
       "</div>"
      ],
      "text/plain": [
       "       Advertiser Advertiser ID Advertiser Status  \\\n",
       "0  Next_UK_Zenith        378754            Active   \n",
       "1  Next_UK_Zenith        378754            Active   \n",
       "2  Next_UK_Zenith        378754            Active   \n",
       "3  Next_UK_Zenith        378754            Active   \n",
       "4  Next_UK_Zenith        378754            Active   \n",
       "\n",
       "   Advertiser Integration Code  Time of Day Country Device Type  \\\n",
       "0                          NaN          0.0      DE     Desktop   \n",
       "1                          NaN          0.0      HK     Desktop   \n",
       "2                          NaN          1.0      DE     Desktop   \n",
       "3                          NaN          1.0      GB     Desktop   \n",
       "4                          NaN          1.0      GB      Tablet   \n",
       "\n",
       "  Advertiser Currency  Impressions  Active View: Measurable Impressions  \\\n",
       "0                 GBP      16033.0                              15214.0   \n",
       "1                 GBP      24158.0                              23581.0   \n",
       "2                 GBP      31903.0                              30341.0   \n",
       "3                 GBP      94044.0                              92256.0   \n",
       "4                 GBP      53025.0                              48877.0   \n",
       "\n",
       "   Active View: Viewable Impressions  Clicks  Revenue (Adv Currency)  \n",
       "0                             4048.0     3.0               15.064673  \n",
       "1                             9229.0    19.0               51.533391  \n",
       "2                             7678.0     6.0               25.592858  \n",
       "3                            57478.0   157.0              301.121433  \n",
       "4                            25243.0    49.0              125.552097  "
      ]
     },
     "execution_count": 3,
     "metadata": {},
     "output_type": "execute_result"
    }
   ],
   "source": [
    "ndata.head()"
   ]
  },
  {
   "cell_type": "code",
   "execution_count": 4,
   "metadata": {
    "collapsed": false
   },
   "outputs": [],
   "source": [
    "ndata[\"CTR\"] = ndata[\"Clicks\"] / ndata[\"Impressions\"]\n",
    "ndata[\"Viewability\"] = ndata[\"Active View: Viewable Impressions\"] / ndata[\"Active View: Measurable Impressions\"]"
   ]
  },
  {
   "cell_type": "code",
   "execution_count": 5,
   "metadata": {
    "collapsed": false
   },
   "outputs": [
    {
     "data": {
      "text/plain": [
       "Index(['Advertiser', 'Advertiser ID', 'Advertiser Status',\n",
       "       'Advertiser Integration Code', 'Time of Day', 'Country', 'Device Type',\n",
       "       'Advertiser Currency', 'Impressions',\n",
       "       'Active View: Measurable Impressions',\n",
       "       'Active View: Viewable Impressions', 'Clicks', 'Revenue (Adv Currency)',\n",
       "       'CTR', 'Viewability'],\n",
       "      dtype='object')"
      ]
     },
     "execution_count": 5,
     "metadata": {},
     "output_type": "execute_result"
    }
   ],
   "source": [
    "ndata.columns"
   ]
  },
  {
   "cell_type": "code",
   "execution_count": 6,
   "metadata": {
    "collapsed": false
   },
   "outputs": [],
   "source": [
    "ndata = ndata.drop(['Advertiser ID', 'Advertiser Status',\n",
    "       'Advertiser Integration Code'], axis=1)"
   ]
  },
  {
   "cell_type": "code",
   "execution_count": 7,
   "metadata": {
    "collapsed": false
   },
   "outputs": [
    {
     "data": {
      "text/plain": [
       "Index(['Advertiser', 'Time of Day', 'Country', 'Device Type',\n",
       "       'Advertiser Currency', 'Impressions',\n",
       "       'Active View: Measurable Impressions',\n",
       "       'Active View: Viewable Impressions', 'Clicks', 'Revenue (Adv Currency)',\n",
       "       'CTR', 'Viewability'],\n",
       "      dtype='object')"
      ]
     },
     "execution_count": 7,
     "metadata": {},
     "output_type": "execute_result"
    }
   ],
   "source": [
    "ndata.columns"
   ]
  },
  {
   "cell_type": "code",
   "execution_count": 8,
   "metadata": {
    "collapsed": true
   },
   "outputs": [],
   "source": [
    "ndata.columns = ['Advertiser', 'TOD', 'Country', 'DeviceType',\n",
    "       'Currency', 'Impressions',\n",
    "       'MeasurableImpressions',\n",
    "       'ViewableImpressions', 'Clicks', 'Spend',\n",
    "       'CTR', 'Viewability']"
   ]
  },
  {
   "cell_type": "code",
   "execution_count": 9,
   "metadata": {
    "collapsed": false
   },
   "outputs": [],
   "source": [
    "ndata = ndata.drop(ndata.index[336:])"
   ]
  },
  {
   "cell_type": "markdown",
   "metadata": {},
   "source": [
    "---"
   ]
  },
  {
   "cell_type": "code",
   "execution_count": 10,
   "metadata": {
    "collapsed": false
   },
   "outputs": [
    {
     "name": "stderr",
     "output_type": "stream",
     "text": [
      "C:\\Program Files\\Anaconda3\\lib\\site-packages\\statsmodels\\nonparametric\\kdetools.py:20: VisibleDeprecationWarning: using a non-integer number instead of an integer will result in an error in the future\n",
      "  y = X[:m/2+1] + np.r_[0,X[m/2+1:],0]*1j\n"
     ]
    },
    {
     "data": {
      "image/png": "[encoded data removed]",
      "text/plain": [
       "<matplotlib.figure.Figure at 0xad8ab38>"
      ]
     },
     "metadata": {},
     "output_type": "display_data"
    }
   ],
   "source": [
    "testplot = sns.distplot(ndata.Viewability, bins=30, )"
   ]
  },
  {
   "cell_type": "code",
   "execution_count": 11,
   "metadata": {
    "collapsed": false
   },
   "outputs": [
    {
     "data": {
      "image/png": "[encoded data removed]",
      "text/plain": [
       "<matplotlib.figure.Figure at 0xb1f26a0>"
      ]
     },
     "metadata": {},
     "output_type": "display_data"
    }
   ],
   "source": [
    "ndata = sns.lmplot(data=ndata, x=\"Viewability\", y=\"CTR\")"
   ]
  },
  {
   "cell_type": "code",
   "execution_count": 12,
   "metadata": {
    "collapsed": false
   },
   "outputs": [],
   "source": [
    "import statsmodels.api as sm"
   ]
  },
  {
   "cell_type": "code",
   "execution_count": 13,
   "metadata": {
    "collapsed": false
   },
   "outputs": [
    {
     "ename": "AttributeError",
     "evalue": "'FacetGrid' object has no attribute 'CTR'",
     "output_type": "error",
     "traceback": [
      "\u001b[0;31m---------------------------------------------------------------------------\u001b[0m",
      "\u001b[0;31mAttributeError\u001b[0m                            Traceback (most recent call last)",
      "\u001b[0;32m<ipython-input-13-294b24b0bef0>\u001b[0m in \u001b[0;36m<module>\u001b[0;34m()\u001b[0m\n\u001b[0;32m----> 1\u001b[0;31m \u001b[0mmodel\u001b[0m \u001b[1;33m=\u001b[0m \u001b[0msm\u001b[0m\u001b[1;33m.\u001b[0m\u001b[0mOLS\u001b[0m\u001b[1;33m(\u001b[0m\u001b[0mndata\u001b[0m\u001b[1;33m.\u001b[0m\u001b[0mCTR\u001b[0m\u001b[1;33m,\u001b[0m \u001b[0mndata\u001b[0m\u001b[1;33m.\u001b[0m\u001b[0mViewability\u001b[0m\u001b[1;33m)\u001b[0m\u001b[1;33m\u001b[0m\u001b[0m\n\u001b[0m\u001b[1;32m      2\u001b[0m \u001b[0mresults\u001b[0m \u001b[1;33m=\u001b[0m \u001b[0mmodel\u001b[0m\u001b[1;33m.\u001b[0m\u001b[0mfit\u001b[0m\u001b[1;33m(\u001b[0m\u001b[1;33m)\u001b[0m\u001b[1;33m\u001b[0m\u001b[0m\n\u001b[1;32m      3\u001b[0m \u001b[0mprint\u001b[0m\u001b[1;33m(\u001b[0m\u001b[0mresults\u001b[0m\u001b[1;33m.\u001b[0m\u001b[0msummary\u001b[0m\u001b[1;33m(\u001b[0m\u001b[1;33m)\u001b[0m\u001b[1;33m)\u001b[0m\u001b[1;33m\u001b[0m\u001b[0m\n",
      "\u001b[0;31mAttributeError\u001b[0m: 'FacetGrid' object has no attribute 'CTR'"
     ]
    }
   ],
   "source": [
    "model = sm.OLS(ndata.CTR, ndata.Viewability)\n",
    "results = model.fit()\n",
    "print(results.summary())"
   ]
  },
  {
   "cell_type": "code",
   "execution_count": 19,
   "metadata": {
    "collapsed": false
   },
   "outputs": [],
   "source": [
    "import pandas as pd\n",
    "from pandas import *\n",
    "import glob"
   ]
  },
  {
   "cell_type": "code",
   "execution_count": 68,
   "metadata": {
    "collapsed": false
   },
   "outputs": [
    {
     "name": "stdout",
     "output_type": "stream",
     "text": [
      "['NextData.csv']\n"
     ]
    }
   ],
   "source": [
    "for folder in glob.glob(\"../Project/AOD publisher\"):\n",
    "    print(glob.glob(\"*.csv\"))"
   ]
  },
  {
   "cell_type": "code",
   "execution_count": 69,
   "metadata": {
    "collapsed": false
   },
   "outputs": [
    {
     "name": "stdout",
     "output_type": "stream",
     "text": [
      "../Project/AOD publisher\\publisher_0116_0217.csv\n"
     ]
    }
   ],
   "source": [
    "for datafile in glob.glob(\"../Project/AOD publisher/*.csv\"):\n",
    "    print(datafile)"
   ]
  },
  {
   "cell_type": "code",
   "execution_count": 62,
   "metadata": {
    "collapsed": false
   },
   "outputs": [
    {
     "name": "stdout",
     "output_type": "stream",
     "text": [
      "[]\n",
      "[]\n"
     ]
    }
   ],
   "source": [
    "for folder in glob.glob(\"../Project/AOD publisher/*\"):\n",
    "    print(glob.glob(\"/*.csv\"))"
   ]
  },
  {
   "cell_type": "code",
   "execution_count": 65,
   "metadata": {
    "collapsed": false
   },
   "outputs": [
    {
     "data": {
      "text/plain": [
       "['../Project/AOD publisher\\\\publisher_0116_0217.csv']"
      ]
     },
     "execution_count": 65,
     "metadata": {},
     "output_type": "execute_result"
    }
   ],
   "source": [
    "glob.glob(\"../Project/AOD publisher/*.csv\")"
   ]
  },
  {
   "cell_type": "code",
   "execution_count": 45,
   "metadata": {
    "collapsed": false
   },
   "outputs": [
    {
     "data": {
      "text/plain": [
       "['..\\\\Matplotlib - Visualisation',\n",
       " '..\\\\numpy',\n",
       " '..\\\\Pandas - dataframe',\n",
       " '..\\\\Project',\n",
       " '..\\\\Seaborn - Visualisation',\n",
       " '..\\\\Untitled.ipynb']"
      ]
     },
     "execution_count": 45,
     "metadata": {},
     "output_type": "execute_result"
    }
   ],
   "source": [
    "glob.glob(\"../*\")"
   ]
  },
  {
   "cell_type": "code",
   "execution_count": 60,
   "metadata": {
    "collapsed": false
   },
   "outputs": [
    {
     "data": {
      "text/plain": [
       "['../Project\\\\AOD publisher']"
      ]
     },
     "execution_count": 60,
     "metadata": {},
     "output_type": "execute_result"
    }
   ],
   "source": [
    "glob.glob(\"../Project/*\")"
   ]
  },
  {
   "cell_type": "code",
   "execution_count": null,
   "metadata": {
    "collapsed": true
   },
   "outputs": [],
   "source": []
  }
 ],
 "metadata": {
  "anaconda-cloud": {},
  "kernelspec": {
   "display_name": "Python [conda root]",
   "language": "python",
   "name": "conda-root-py"
  }
 },
 "nbformat": 4,
 "nbformat_minor": 1
}
