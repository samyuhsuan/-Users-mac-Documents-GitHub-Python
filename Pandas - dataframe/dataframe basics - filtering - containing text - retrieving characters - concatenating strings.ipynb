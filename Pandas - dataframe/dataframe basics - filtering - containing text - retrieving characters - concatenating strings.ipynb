{
 "cells": [
  {
   "cell_type": "code",
   "execution_count": 2,
   "metadata": {
    "collapsed": true
   },
   "outputs": [],
   "source": [
    "import pandas as pd"
   ]
  },
  {
   "cell_type": "code",
   "execution_count": 3,
   "metadata": {
    "collapsed": false
   },
   "outputs": [],
   "source": [
    "data = pd.read_csv(\"sample.csv\")"
   ]
  },
  {
   "cell_type": "code",
   "execution_count": 4,
   "metadata": {
    "collapsed": false
   },
   "outputs": [
    {
     "data": {
      "text/html": [
       "<div>\n",
       "<table border=\"1\" class=\"dataframe\">\n",
       "  <thead>\n",
       "    <tr style=\"text-align: right;\">\n",
       "      <th></th>\n",
       "      <th>City</th>\n",
       "      <th>City ID</th>\n",
       "      <th>Country</th>\n",
       "      <th>Advertiser Currency</th>\n",
       "      <th>Impressions</th>\n",
       "      <th>Clicks</th>\n",
       "      <th>Revenue (Adv Currency)</th>\n",
       "    </tr>\n",
       "  </thead>\n",
       "  <tbody>\n",
       "    <tr>\n",
       "      <th>0</th>\n",
       "      <td>Abingdon</td>\n",
       "      <td>1006457</td>\n",
       "      <td>GB</td>\n",
       "      <td>GBP</td>\n",
       "      <td>174.0</td>\n",
       "      <td>1.0</td>\n",
       "      <td>0.468812</td>\n",
       "    </tr>\n",
       "    <tr>\n",
       "      <th>1</th>\n",
       "      <td>Alloa</td>\n",
       "      <td>1007295</td>\n",
       "      <td>GB</td>\n",
       "      <td>GBP</td>\n",
       "      <td>89.0</td>\n",
       "      <td>0.0</td>\n",
       "      <td>0.252819</td>\n",
       "    </tr>\n",
       "    <tr>\n",
       "      <th>2</th>\n",
       "      <td>Amersham</td>\n",
       "      <td>1006474</td>\n",
       "      <td>GB</td>\n",
       "      <td>GBP</td>\n",
       "      <td>45.0</td>\n",
       "      <td>0.0</td>\n",
       "      <td>0.126163</td>\n",
       "    </tr>\n",
       "    <tr>\n",
       "      <th>3</th>\n",
       "      <td>Annan</td>\n",
       "      <td>1007297</td>\n",
       "      <td>GB</td>\n",
       "      <td>GBP</td>\n",
       "      <td>58.0</td>\n",
       "      <td>0.0</td>\n",
       "      <td>0.144051</td>\n",
       "    </tr>\n",
       "    <tr>\n",
       "      <th>4</th>\n",
       "      <td>Baldock</td>\n",
       "      <td>1006493</td>\n",
       "      <td>GB</td>\n",
       "      <td>GBP</td>\n",
       "      <td>93.0</td>\n",
       "      <td>0.0</td>\n",
       "      <td>0.264777</td>\n",
       "    </tr>\n",
       "  </tbody>\n",
       "</table>\n",
       "</div>"
      ],
      "text/plain": [
       "       City  City ID Country Advertiser Currency  Impressions  Clicks  \\\n",
       "0  Abingdon  1006457      GB                 GBP        174.0     1.0   \n",
       "1     Alloa  1007295      GB                 GBP         89.0     0.0   \n",
       "2  Amersham  1006474      GB                 GBP         45.0     0.0   \n",
       "3     Annan  1007297      GB                 GBP         58.0     0.0   \n",
       "4   Baldock  1006493      GB                 GBP         93.0     0.0   \n",
       "\n",
       "   Revenue (Adv Currency)  \n",
       "0                0.468812  \n",
       "1                0.252819  \n",
       "2                0.126163  \n",
       "3                0.144051  \n",
       "4                0.264777  "
      ]
     },
     "execution_count": 4,
     "metadata": {},
     "output_type": "execute_result"
    }
   ],
   "source": [
    "data.head()"
   ]
  },
  {
   "cell_type": "code",
   "execution_count": 5,
   "metadata": {
    "collapsed": false
   },
   "outputs": [
    {
     "data": {
      "text/plain": [
       "0    False\n",
       "1    False\n",
       "2    False\n",
       "3    False\n",
       "4    False\n",
       "Name: Impressions, dtype: bool"
      ]
     },
     "execution_count": 5,
     "metadata": {},
     "output_type": "execute_result"
    }
   ],
   "source": [
    "#can use below or as data.Impressions, the output of this is boolean\n",
    "data[\"Impressions\"].head() > 5000"
   ]
  },
  {
   "cell_type": "code",
   "execution_count": 6,
   "metadata": {
    "collapsed": false
   },
   "outputs": [],
   "source": [
    "#so to return all the filtered rows, it's as below\n",
    "filter = data[\"Impressions\"] > 10000"
   ]
  },
  {
   "cell_type": "code",
   "execution_count": 7,
   "metadata": {
    "collapsed": false
   },
   "outputs": [
    {
     "data": {
      "text/html": [
       "<div>\n",
       "<table border=\"1\" class=\"dataframe\">\n",
       "  <thead>\n",
       "    <tr style=\"text-align: right;\">\n",
       "      <th></th>\n",
       "      <th>City</th>\n",
       "      <th>City ID</th>\n",
       "      <th>Country</th>\n",
       "      <th>Advertiser Currency</th>\n",
       "      <th>Impressions</th>\n",
       "      <th>Clicks</th>\n",
       "      <th>Revenue (Adv Currency)</th>\n",
       "    </tr>\n",
       "  </thead>\n",
       "  <tbody>\n",
       "    <tr>\n",
       "      <th>501</th>\n",
       "      <td>Unknown</td>\n",
       "      <td>Unknown</td>\n",
       "      <td>GB</td>\n",
       "      <td>GBP</td>\n",
       "      <td>58965.0</td>\n",
       "      <td>102.0</td>\n",
       "      <td>155.147206</td>\n",
       "    </tr>\n",
       "    <tr>\n",
       "      <th>774</th>\n",
       "      <td>London</td>\n",
       "      <td>1006886</td>\n",
       "      <td>GB</td>\n",
       "      <td>GBP</td>\n",
       "      <td>29341.0</td>\n",
       "      <td>33.0</td>\n",
       "      <td>77.162183</td>\n",
       "    </tr>\n",
       "    <tr>\n",
       "      <th>844</th>\n",
       "      <td>NaN</td>\n",
       "      <td>NaN</td>\n",
       "      <td>NaN</td>\n",
       "      <td>NaN</td>\n",
       "      <td>275810.0</td>\n",
       "      <td>478.0</td>\n",
       "      <td>724.855704</td>\n",
       "    </tr>\n",
       "  </tbody>\n",
       "</table>\n",
       "</div>"
      ],
      "text/plain": [
       "        City  City ID Country Advertiser Currency  Impressions  Clicks  \\\n",
       "501  Unknown  Unknown      GB                 GBP      58965.0   102.0   \n",
       "774   London  1006886      GB                 GBP      29341.0    33.0   \n",
       "844      NaN      NaN     NaN                 NaN     275810.0   478.0   \n",
       "\n",
       "     Revenue (Adv Currency)  \n",
       "501              155.147206  \n",
       "774               77.162183  \n",
       "844              724.855704  "
      ]
     },
     "execution_count": 7,
     "metadata": {},
     "output_type": "execute_result"
    }
   ],
   "source": [
    "data[filter]"
   ]
  },
  {
   "cell_type": "code",
   "execution_count": 8,
   "metadata": {
    "collapsed": false
   },
   "outputs": [
    {
     "data": {
      "text/html": [
       "<div>\n",
       "<table border=\"1\" class=\"dataframe\">\n",
       "  <thead>\n",
       "    <tr style=\"text-align: right;\">\n",
       "      <th></th>\n",
       "      <th>City</th>\n",
       "      <th>City ID</th>\n",
       "      <th>Country</th>\n",
       "      <th>Advertiser Currency</th>\n",
       "      <th>Impressions</th>\n",
       "      <th>Clicks</th>\n",
       "      <th>Revenue (Adv Currency)</th>\n",
       "    </tr>\n",
       "  </thead>\n",
       "  <tbody>\n",
       "    <tr>\n",
       "      <th>501</th>\n",
       "      <td>Unknown</td>\n",
       "      <td>Unknown</td>\n",
       "      <td>GB</td>\n",
       "      <td>GBP</td>\n",
       "      <td>58965.0</td>\n",
       "      <td>102.0</td>\n",
       "      <td>155.147206</td>\n",
       "    </tr>\n",
       "  </tbody>\n",
       "</table>\n",
       "</div>"
      ],
      "text/plain": [
       "        City  City ID Country Advertiser Currency  Impressions  Clicks  \\\n",
       "501  Unknown  Unknown      GB                 GBP      58965.0   102.0   \n",
       "\n",
       "     Revenue (Adv Currency)  \n",
       "501              155.147206  "
      ]
     },
     "execution_count": 8,
     "metadata": {},
     "output_type": "execute_result"
    }
   ],
   "source": [
    "data[data.Clicks == 102]"
   ]
  },
  {
   "cell_type": "code",
   "execution_count": 9,
   "metadata": {
    "collapsed": false
   },
   "outputs": [
    {
     "data": {
      "text/html": [
       "<div>\n",
       "<table border=\"1\" class=\"dataframe\">\n",
       "  <thead>\n",
       "    <tr style=\"text-align: right;\">\n",
       "      <th></th>\n",
       "      <th>City</th>\n",
       "      <th>City ID</th>\n",
       "      <th>Country</th>\n",
       "      <th>Advertiser Currency</th>\n",
       "      <th>Impressions</th>\n",
       "      <th>Clicks</th>\n",
       "      <th>Revenue (Adv Currency)</th>\n",
       "    </tr>\n",
       "  </thead>\n",
       "  <tbody>\n",
       "    <tr>\n",
       "      <th>501</th>\n",
       "      <td>Unknown</td>\n",
       "      <td>Unknown</td>\n",
       "      <td>GB</td>\n",
       "      <td>GBP</td>\n",
       "      <td>58965.0</td>\n",
       "      <td>102.0</td>\n",
       "      <td>155.147206</td>\n",
       "    </tr>\n",
       "    <tr>\n",
       "      <th>844</th>\n",
       "      <td>NaN</td>\n",
       "      <td>NaN</td>\n",
       "      <td>NaN</td>\n",
       "      <td>NaN</td>\n",
       "      <td>275810.0</td>\n",
       "      <td>478.0</td>\n",
       "      <td>724.855704</td>\n",
       "    </tr>\n",
       "  </tbody>\n",
       "</table>\n",
       "</div>"
      ],
      "text/plain": [
       "        City  City ID Country Advertiser Currency  Impressions  Clicks  \\\n",
       "501  Unknown  Unknown      GB                 GBP      58965.0   102.0   \n",
       "844      NaN      NaN     NaN                 NaN     275810.0   478.0   \n",
       "\n",
       "     Revenue (Adv Currency)  \n",
       "501              155.147206  \n",
       "844              724.855704  "
      ]
     },
     "execution_count": 9,
     "metadata": {},
     "output_type": "execute_result"
    }
   ],
   "source": [
    "data[data.Clicks > 100]"
   ]
  },
  {
   "cell_type": "code",
   "execution_count": 11,
   "metadata": {
    "collapsed": false
   },
   "outputs": [
    {
     "data": {
      "text/html": [
       "<div>\n",
       "<table border=\"1\" class=\"dataframe\">\n",
       "  <thead>\n",
       "    <tr style=\"text-align: right;\">\n",
       "      <th></th>\n",
       "      <th>City</th>\n",
       "      <th>City ID</th>\n",
       "      <th>Country</th>\n",
       "      <th>Advertiser Currency</th>\n",
       "      <th>Impressions</th>\n",
       "      <th>Clicks</th>\n",
       "      <th>Revenue (Adv Currency)</th>\n",
       "    </tr>\n",
       "  </thead>\n",
       "  <tbody>\n",
       "    <tr>\n",
       "      <th>844</th>\n",
       "      <td>NaN</td>\n",
       "      <td>NaN</td>\n",
       "      <td>NaN</td>\n",
       "      <td>NaN</td>\n",
       "      <td>275810.0</td>\n",
       "      <td>478.0</td>\n",
       "      <td>724.855704</td>\n",
       "    </tr>\n",
       "  </tbody>\n",
       "</table>\n",
       "</div>"
      ],
      "text/plain": [
       "    City City ID Country Advertiser Currency  Impressions  Clicks  \\\n",
       "844  NaN     NaN     NaN                 NaN     275810.0   478.0   \n",
       "\n",
       "     Revenue (Adv Currency)  \n",
       "844              724.855704  "
      ]
     },
     "execution_count": 11,
     "metadata": {},
     "output_type": "execute_result"
    }
   ],
   "source": [
    "#above created an error because python doesn't know how to return 1 true or false value\n",
    "#so above we need to use & instead \n",
    "#with & it will return True only when both conditions are met\n",
    "data[(data.Clicks > 200) & (data.Impressions > 10000)]"
   ]
  },
  {
   "cell_type": "code",
   "execution_count": 12,
   "metadata": {
    "collapsed": false
   },
   "outputs": [
    {
     "data": {
      "text/html": [
       "<div>\n",
       "<table border=\"1\" class=\"dataframe\">\n",
       "  <thead>\n",
       "    <tr style=\"text-align: right;\">\n",
       "      <th></th>\n",
       "      <th>City</th>\n",
       "      <th>City ID</th>\n",
       "      <th>Country</th>\n",
       "      <th>Advertiser Currency</th>\n",
       "      <th>Impressions</th>\n",
       "      <th>Clicks</th>\n",
       "      <th>Revenue (Adv Currency)</th>\n",
       "    </tr>\n",
       "  </thead>\n",
       "  <tbody>\n",
       "    <tr>\n",
       "      <th>501</th>\n",
       "      <td>Unknown</td>\n",
       "      <td>Unknown</td>\n",
       "      <td>GB</td>\n",
       "      <td>GBP</td>\n",
       "      <td>58965.0</td>\n",
       "      <td>102.0</td>\n",
       "      <td>155.147206</td>\n",
       "    </tr>\n",
       "    <tr>\n",
       "      <th>844</th>\n",
       "      <td>NaN</td>\n",
       "      <td>NaN</td>\n",
       "      <td>NaN</td>\n",
       "      <td>NaN</td>\n",
       "      <td>275810.0</td>\n",
       "      <td>478.0</td>\n",
       "      <td>724.855704</td>\n",
       "    </tr>\n",
       "  </tbody>\n",
       "</table>\n",
       "</div>"
      ],
      "text/plain": [
       "        City  City ID Country Advertiser Currency  Impressions  Clicks  \\\n",
       "501  Unknown  Unknown      GB                 GBP      58965.0   102.0   \n",
       "844      NaN      NaN     NaN                 NaN     275810.0   478.0   \n",
       "\n",
       "     Revenue (Adv Currency)  \n",
       "501              155.147206  \n",
       "844              724.855704  "
      ]
     },
     "execution_count": 12,
     "metadata": {},
     "output_type": "execute_result"
    }
   ],
   "source": [
    "#above there is error again, because condition 1 has mixed True and False signals\n",
    "#condition 2 also has mixed True and False \n",
    "#so 'and' doesn't know how to work with this\n",
    "#so we change it to & so it compares individual row's whether it has met first and second condition \n",
    "#as opposed to condition 1 as a whole 'and' condition 2 as a whole\n",
    "\n",
    "#now below with brackets to make sure it's clearly defined\n",
    "data[(data.Clicks > 100) & (data.Impressions > 10000)]"
   ]
  },
  {
   "cell_type": "code",
   "execution_count": 13,
   "metadata": {
    "collapsed": false
   },
   "outputs": [
    {
     "data": {
      "text/html": [
       "<div>\n",
       "<table border=\"1\" class=\"dataframe\">\n",
       "  <thead>\n",
       "    <tr style=\"text-align: right;\">\n",
       "      <th></th>\n",
       "      <th>City</th>\n",
       "      <th>City ID</th>\n",
       "      <th>Country</th>\n",
       "      <th>Advertiser Currency</th>\n",
       "      <th>Impressions</th>\n",
       "      <th>Clicks</th>\n",
       "      <th>Revenue (Adv Currency)</th>\n",
       "    </tr>\n",
       "  </thead>\n",
       "  <tbody>\n",
       "  </tbody>\n",
       "</table>\n",
       "</div>"
      ],
      "text/plain": [
       "Empty DataFrame\n",
       "Columns: [City, City ID, Country, Advertiser Currency, Impressions, Clicks, Revenue (Adv Currency)]\n",
       "Index: []"
      ]
     },
     "execution_count": 13,
     "metadata": {},
     "output_type": "execute_result"
    }
   ],
   "source": [
    "#here another example\n",
    "data[(data.City == \"Alloa\") & (data.Impressions > 10000)]"
   ]
  },
  {
   "cell_type": "markdown",
   "metadata": {},
   "source": [
    "---"
   ]
  },
  {
   "cell_type": "code",
   "execution_count": 14,
   "metadata": {
    "collapsed": false
   },
   "outputs": [
    {
     "data": {
      "text/plain": [
       "array(['GB', nan], dtype=object)"
      ]
     },
     "execution_count": 14,
     "metadata": {},
     "output_type": "execute_result"
    }
   ],
   "source": [
    "#below function returns the unique value \n",
    "data.Country.unique()"
   ]
  },
  {
   "cell_type": "code",
   "execution_count": 15,
   "metadata": {
    "collapsed": false
   },
   "outputs": [
    {
     "data": {
      "text/html": [
       "<div>\n",
       "<table border=\"1\" class=\"dataframe\">\n",
       "  <thead>\n",
       "    <tr style=\"text-align: right;\">\n",
       "      <th></th>\n",
       "      <th>City</th>\n",
       "      <th>City ID</th>\n",
       "      <th>Country</th>\n",
       "      <th>Advertiser Currency</th>\n",
       "      <th>Impressions</th>\n",
       "      <th>Clicks</th>\n",
       "      <th>Revenue (Adv Currency)</th>\n",
       "    </tr>\n",
       "  </thead>\n",
       "  <tbody>\n",
       "    <tr>\n",
       "      <th>0</th>\n",
       "      <td>Abingdon</td>\n",
       "      <td>1006457</td>\n",
       "      <td>GB</td>\n",
       "      <td>GBP</td>\n",
       "      <td>174.0</td>\n",
       "      <td>1.0</td>\n",
       "      <td>0.468812</td>\n",
       "    </tr>\n",
       "    <tr>\n",
       "      <th>1</th>\n",
       "      <td>Alloa</td>\n",
       "      <td>1007295</td>\n",
       "      <td>GB</td>\n",
       "      <td>GBP</td>\n",
       "      <td>89.0</td>\n",
       "      <td>0.0</td>\n",
       "      <td>0.252819</td>\n",
       "    </tr>\n",
       "    <tr>\n",
       "      <th>2</th>\n",
       "      <td>Amersham</td>\n",
       "      <td>1006474</td>\n",
       "      <td>GB</td>\n",
       "      <td>GBP</td>\n",
       "      <td>45.0</td>\n",
       "      <td>0.0</td>\n",
       "      <td>0.126163</td>\n",
       "    </tr>\n",
       "    <tr>\n",
       "      <th>3</th>\n",
       "      <td>Annan</td>\n",
       "      <td>1007297</td>\n",
       "      <td>GB</td>\n",
       "      <td>GBP</td>\n",
       "      <td>58.0</td>\n",
       "      <td>0.0</td>\n",
       "      <td>0.144051</td>\n",
       "    </tr>\n",
       "    <tr>\n",
       "      <th>4</th>\n",
       "      <td>Baldock</td>\n",
       "      <td>1006493</td>\n",
       "      <td>GB</td>\n",
       "      <td>GBP</td>\n",
       "      <td>93.0</td>\n",
       "      <td>0.0</td>\n",
       "      <td>0.264777</td>\n",
       "    </tr>\n",
       "  </tbody>\n",
       "</table>\n",
       "</div>"
      ],
      "text/plain": [
       "       City  City ID Country Advertiser Currency  Impressions  Clicks  \\\n",
       "0  Abingdon  1006457      GB                 GBP        174.0     1.0   \n",
       "1     Alloa  1007295      GB                 GBP         89.0     0.0   \n",
       "2  Amersham  1006474      GB                 GBP         45.0     0.0   \n",
       "3     Annan  1007297      GB                 GBP         58.0     0.0   \n",
       "4   Baldock  1006493      GB                 GBP         93.0     0.0   \n",
       "\n",
       "   Revenue (Adv Currency)  \n",
       "0                0.468812  \n",
       "1                0.252819  \n",
       "2                0.126163  \n",
       "3                0.144051  \n",
       "4                0.264777  "
      ]
     },
     "execution_count": 15,
     "metadata": {},
     "output_type": "execute_result"
    }
   ],
   "source": [
    "data.head()"
   ]
  },
  {
   "cell_type": "code",
   "execution_count": 58,
   "metadata": {
    "collapsed": false
   },
   "outputs": [],
   "source": [
    "data = data.drop(data.index[844:])"
   ]
  },
  {
   "cell_type": "code",
   "execution_count": 35,
   "metadata": {
    "collapsed": false
   },
   "outputs": [
    {
     "data": {
      "text/html": [
       "<div>\n",
       "<table border=\"1\" class=\"dataframe\">\n",
       "  <thead>\n",
       "    <tr style=\"text-align: right;\">\n",
       "      <th></th>\n",
       "      <th>City</th>\n",
       "      <th>City ID</th>\n",
       "      <th>Country</th>\n",
       "      <th>Advertiser Currency</th>\n",
       "      <th>Impressions</th>\n",
       "      <th>Clicks</th>\n",
       "      <th>Revenue (Adv Currency)</th>\n",
       "    </tr>\n",
       "  </thead>\n",
       "  <tbody>\n",
       "    <tr>\n",
       "      <th>1</th>\n",
       "      <td>Alloa</td>\n",
       "      <td>1007295</td>\n",
       "      <td>GB</td>\n",
       "      <td>GBP</td>\n",
       "      <td>89.0</td>\n",
       "      <td>0.0</td>\n",
       "      <td>0.252819</td>\n",
       "    </tr>\n",
       "  </tbody>\n",
       "</table>\n",
       "</div>"
      ],
      "text/plain": [
       "    City  City ID Country Advertiser Currency  Impressions  Clicks  \\\n",
       "1  Alloa  1007295      GB                 GBP         89.0     0.0   \n",
       "\n",
       "   Revenue (Adv Currency)  \n",
       "1                0.252819  "
      ]
     },
     "execution_count": 35,
     "metadata": {},
     "output_type": "execute_result"
    }
   ],
   "source": [
    "#below we explore how to return data/rows with cells contains certain texts/string\n",
    "data[data.City.str.contains(\"Alloa\")]"
   ]
  },
  {
   "cell_type": "code",
   "execution_count": 37,
   "metadata": {
    "collapsed": false
   },
   "outputs": [
    {
     "data": {
      "text/html": [
       "<div>\n",
       "<table border=\"1\" class=\"dataframe\">\n",
       "  <thead>\n",
       "    <tr style=\"text-align: right;\">\n",
       "      <th></th>\n",
       "      <th>City</th>\n",
       "      <th>City ID</th>\n",
       "      <th>Country</th>\n",
       "      <th>Advertiser Currency</th>\n",
       "      <th>Impressions</th>\n",
       "      <th>Clicks</th>\n",
       "      <th>Revenue (Adv Currency)</th>\n",
       "    </tr>\n",
       "  </thead>\n",
       "  <tbody>\n",
       "    <tr>\n",
       "      <th>1</th>\n",
       "      <td>Alloa</td>\n",
       "      <td>1007295</td>\n",
       "      <td>GB</td>\n",
       "      <td>GBP</td>\n",
       "      <td>89.0</td>\n",
       "      <td>0.0</td>\n",
       "      <td>0.252819</td>\n",
       "    </tr>\n",
       "  </tbody>\n",
       "</table>\n",
       "</div>"
      ],
      "text/plain": [
       "    City  City ID Country Advertiser Currency  Impressions  Clicks  \\\n",
       "1  Alloa  1007295      GB                 GBP         89.0     0.0   \n",
       "\n",
       "   Revenue (Adv Currency)  \n",
       "1                0.252819  "
      ]
     },
     "execution_count": 37,
     "metadata": {},
     "output_type": "execute_result"
    }
   ],
   "source": [
    "#here if we weren't sure about the case of the test then we can use case=boolean on this\n",
    "data[data.City.str.contains(\"alloa\", case=False)]"
   ]
  },
  {
   "cell_type": "code",
   "execution_count": 41,
   "metadata": {
    "collapsed": false
   },
   "outputs": [
    {
     "data": {
      "text/html": [
       "<div>\n",
       "<table border=\"1\" class=\"dataframe\">\n",
       "  <thead>\n",
       "    <tr style=\"text-align: right;\">\n",
       "      <th></th>\n",
       "      <th>City</th>\n",
       "      <th>City ID</th>\n",
       "      <th>Country</th>\n",
       "      <th>Advertiser Currency</th>\n",
       "      <th>Impressions</th>\n",
       "      <th>Clicks</th>\n",
       "      <th>Revenue (Adv Currency)</th>\n",
       "    </tr>\n",
       "  </thead>\n",
       "  <tbody>\n",
       "    <tr>\n",
       "      <th>1</th>\n",
       "      <td>Alloa</td>\n",
       "      <td>1007295</td>\n",
       "      <td>GB</td>\n",
       "      <td>GBP</td>\n",
       "      <td>89.0</td>\n",
       "      <td>0.0</td>\n",
       "      <td>0.252819</td>\n",
       "    </tr>\n",
       "    <tr>\n",
       "      <th>24</th>\n",
       "      <td>Broadbridge Heath</td>\n",
       "      <td>1006568</td>\n",
       "      <td>GB</td>\n",
       "      <td>GBP</td>\n",
       "      <td>1.0</td>\n",
       "      <td>0.0</td>\n",
       "      <td>0.002763</td>\n",
       "    </tr>\n",
       "    <tr>\n",
       "      <th>139</th>\n",
       "      <td>Wainfleet All Saints</td>\n",
       "      <td>1007187</td>\n",
       "      <td>GB</td>\n",
       "      <td>GBP</td>\n",
       "      <td>52.0</td>\n",
       "      <td>1.0</td>\n",
       "      <td>0.123673</td>\n",
       "    </tr>\n",
       "    <tr>\n",
       "      <th>140</th>\n",
       "      <td>Wallasey</td>\n",
       "      <td>1007189</td>\n",
       "      <td>GB</td>\n",
       "      <td>GBP</td>\n",
       "      <td>181.0</td>\n",
       "      <td>0.0</td>\n",
       "      <td>0.491592</td>\n",
       "    </tr>\n",
       "    <tr>\n",
       "      <th>141</th>\n",
       "      <td>Wallingford</td>\n",
       "      <td>1007190</td>\n",
       "      <td>GB</td>\n",
       "      <td>GBP</td>\n",
       "      <td>27.0</td>\n",
       "      <td>0.0</td>\n",
       "      <td>0.060245</td>\n",
       "    </tr>\n",
       "    <tr>\n",
       "      <th>142</th>\n",
       "      <td>Walsall</td>\n",
       "      <td>1007192</td>\n",
       "      <td>GB</td>\n",
       "      <td>GBP</td>\n",
       "      <td>832.0</td>\n",
       "      <td>0.0</td>\n",
       "      <td>2.177804</td>\n",
       "    </tr>\n",
       "    <tr>\n",
       "      <th>183</th>\n",
       "      <td>Broadstairs</td>\n",
       "      <td>1006569</td>\n",
       "      <td>GB</td>\n",
       "      <td>GBP</td>\n",
       "      <td>137.0</td>\n",
       "      <td>0.0</td>\n",
       "      <td>0.345322</td>\n",
       "    </tr>\n",
       "    <tr>\n",
       "      <th>184</th>\n",
       "      <td>Broadway</td>\n",
       "      <td>1006570</td>\n",
       "      <td>GB</td>\n",
       "      <td>GBP</td>\n",
       "      <td>8.0</td>\n",
       "      <td>0.0</td>\n",
       "      <td>0.024582</td>\n",
       "    </tr>\n",
       "    <tr>\n",
       "      <th>253</th>\n",
       "      <td>Kirkwall</td>\n",
       "      <td>1007361</td>\n",
       "      <td>GB</td>\n",
       "      <td>GBP</td>\n",
       "      <td>46.0</td>\n",
       "      <td>0.0</td>\n",
       "      <td>0.111931</td>\n",
       "    </tr>\n",
       "    <tr>\n",
       "      <th>278</th>\n",
       "      <td>Rawtenstall</td>\n",
       "      <td>1007007</td>\n",
       "      <td>GB</td>\n",
       "      <td>GBP</td>\n",
       "      <td>6.0</td>\n",
       "      <td>0.0</td>\n",
       "      <td>0.016169</td>\n",
       "    </tr>\n",
       "    <tr>\n",
       "      <th>311</th>\n",
       "      <td>Tattenhall</td>\n",
       "      <td>1007148</td>\n",
       "      <td>GB</td>\n",
       "      <td>GBP</td>\n",
       "      <td>28.0</td>\n",
       "      <td>0.0</td>\n",
       "      <td>0.079470</td>\n",
       "    </tr>\n",
       "    <tr>\n",
       "      <th>321</th>\n",
       "      <td>Wallington</td>\n",
       "      <td>1007191</td>\n",
       "      <td>GB</td>\n",
       "      <td>GBP</td>\n",
       "      <td>33.0</td>\n",
       "      <td>0.0</td>\n",
       "      <td>0.088308</td>\n",
       "    </tr>\n",
       "    <tr>\n",
       "      <th>328</th>\n",
       "      <td>Willenhall</td>\n",
       "      <td>1007231</td>\n",
       "      <td>GB</td>\n",
       "      <td>GBP</td>\n",
       "      <td>141.0</td>\n",
       "      <td>0.0</td>\n",
       "      <td>0.362815</td>\n",
       "    </tr>\n",
       "    <tr>\n",
       "      <th>356</th>\n",
       "      <td>Birstall</td>\n",
       "      <td>1006525</td>\n",
       "      <td>GB</td>\n",
       "      <td>GBP</td>\n",
       "      <td>314.0</td>\n",
       "      <td>1.0</td>\n",
       "      <td>0.810502</td>\n",
       "    </tr>\n",
       "    <tr>\n",
       "      <th>478</th>\n",
       "      <td>Shepton Mallet</td>\n",
       "      <td>1007068</td>\n",
       "      <td>GB</td>\n",
       "      <td>GBP</td>\n",
       "      <td>109.0</td>\n",
       "      <td>0.0</td>\n",
       "      <td>0.285291</td>\n",
       "    </tr>\n",
       "    <tr>\n",
       "      <th>510</th>\n",
       "      <td>West Malling</td>\n",
       "      <td>1007214</td>\n",
       "      <td>GB</td>\n",
       "      <td>GBP</td>\n",
       "      <td>34.0</td>\n",
       "      <td>0.0</td>\n",
       "      <td>0.087178</td>\n",
       "    </tr>\n",
       "    <tr>\n",
       "      <th>546</th>\n",
       "      <td>Callington</td>\n",
       "      <td>1006594</td>\n",
       "      <td>GB</td>\n",
       "      <td>GBP</td>\n",
       "      <td>16.0</td>\n",
       "      <td>0.0</td>\n",
       "      <td>0.040879</td>\n",
       "    </tr>\n",
       "    <tr>\n",
       "      <th>561</th>\n",
       "      <td>Dingwall</td>\n",
       "      <td>1007316</td>\n",
       "      <td>GB</td>\n",
       "      <td>GBP</td>\n",
       "      <td>50.0</td>\n",
       "      <td>0.0</td>\n",
       "      <td>0.135643</td>\n",
       "    </tr>\n",
       "    <tr>\n",
       "      <th>595</th>\n",
       "      <td>Hucknall</td>\n",
       "      <td>1006814</td>\n",
       "      <td>GB</td>\n",
       "      <td>GBP</td>\n",
       "      <td>236.0</td>\n",
       "      <td>0.0</td>\n",
       "      <td>0.604410</td>\n",
       "    </tr>\n",
       "    <tr>\n",
       "      <th>607</th>\n",
       "      <td>Larkhall</td>\n",
       "      <td>1007363</td>\n",
       "      <td>GB</td>\n",
       "      <td>GBP</td>\n",
       "      <td>26.0</td>\n",
       "      <td>1.0</td>\n",
       "      <td>0.074705</td>\n",
       "    </tr>\n",
       "    <tr>\n",
       "      <th>628</th>\n",
       "      <td>Northallerton</td>\n",
       "      <td>1006958</td>\n",
       "      <td>GB</td>\n",
       "      <td>GBP</td>\n",
       "      <td>98.0</td>\n",
       "      <td>0.0</td>\n",
       "      <td>0.263757</td>\n",
       "    </tr>\n",
       "    <tr>\n",
       "      <th>788</th>\n",
       "      <td>Mildenhall</td>\n",
       "      <td>1006930</td>\n",
       "      <td>GB</td>\n",
       "      <td>GBP</td>\n",
       "      <td>66.0</td>\n",
       "      <td>0.0</td>\n",
       "      <td>0.167967</td>\n",
       "    </tr>\n",
       "    <tr>\n",
       "      <th>831</th>\n",
       "      <td>Swallowfield</td>\n",
       "      <td>1007140</td>\n",
       "      <td>GB</td>\n",
       "      <td>GBP</td>\n",
       "      <td>2.0</td>\n",
       "      <td>0.0</td>\n",
       "      <td>0.005092</td>\n",
       "    </tr>\n",
       "  </tbody>\n",
       "</table>\n",
       "</div>"
      ],
      "text/plain": [
       "                     City  City ID Country Advertiser Currency  Impressions  \\\n",
       "1                   Alloa  1007295      GB                 GBP         89.0   \n",
       "24      Broadbridge Heath  1006568      GB                 GBP          1.0   \n",
       "139  Wainfleet All Saints  1007187      GB                 GBP         52.0   \n",
       "140              Wallasey  1007189      GB                 GBP        181.0   \n",
       "141           Wallingford  1007190      GB                 GBP         27.0   \n",
       "142               Walsall  1007192      GB                 GBP        832.0   \n",
       "183           Broadstairs  1006569      GB                 GBP        137.0   \n",
       "184              Broadway  1006570      GB                 GBP          8.0   \n",
       "253              Kirkwall  1007361      GB                 GBP         46.0   \n",
       "278           Rawtenstall  1007007      GB                 GBP          6.0   \n",
       "311            Tattenhall  1007148      GB                 GBP         28.0   \n",
       "321            Wallington  1007191      GB                 GBP         33.0   \n",
       "328            Willenhall  1007231      GB                 GBP        141.0   \n",
       "356              Birstall  1006525      GB                 GBP        314.0   \n",
       "478        Shepton Mallet  1007068      GB                 GBP        109.0   \n",
       "510          West Malling  1007214      GB                 GBP         34.0   \n",
       "546            Callington  1006594      GB                 GBP         16.0   \n",
       "561              Dingwall  1007316      GB                 GBP         50.0   \n",
       "595              Hucknall  1006814      GB                 GBP        236.0   \n",
       "607              Larkhall  1007363      GB                 GBP         26.0   \n",
       "628         Northallerton  1006958      GB                 GBP         98.0   \n",
       "788            Mildenhall  1006930      GB                 GBP         66.0   \n",
       "831          Swallowfield  1007140      GB                 GBP          2.0   \n",
       "\n",
       "     Clicks  Revenue (Adv Currency)  \n",
       "1       0.0                0.252819  \n",
       "24      0.0                0.002763  \n",
       "139     1.0                0.123673  \n",
       "140     0.0                0.491592  \n",
       "141     0.0                0.060245  \n",
       "142     0.0                2.177804  \n",
       "183     0.0                0.345322  \n",
       "184     0.0                0.024582  \n",
       "253     0.0                0.111931  \n",
       "278     0.0                0.016169  \n",
       "311     0.0                0.079470  \n",
       "321     0.0                0.088308  \n",
       "328     0.0                0.362815  \n",
       "356     1.0                0.810502  \n",
       "478     0.0                0.285291  \n",
       "510     0.0                0.087178  \n",
       "546     0.0                0.040879  \n",
       "561     0.0                0.135643  \n",
       "595     0.0                0.604410  \n",
       "607     1.0                0.074705  \n",
       "628     0.0                0.263757  \n",
       "788     0.0                0.167967  \n",
       "831     0.0                0.005092  "
      ]
     },
     "execution_count": 41,
     "metadata": {},
     "output_type": "execute_result"
    }
   ],
   "source": [
    "#what if the string of text is long or you like multiple to be filled then we use & or |\n",
    "data[(data.City.str.contains(\"all\", case=False)) | (data.City.str.contains(\"oad\", case=False))]"
   ]
  },
  {
   "cell_type": "code",
   "execution_count": 56,
   "metadata": {
    "collapsed": false
   },
   "outputs": [
    {
     "data": {
      "text/html": [
       "<div>\n",
       "<table border=\"1\" class=\"dataframe\">\n",
       "  <thead>\n",
       "    <tr style=\"text-align: right;\">\n",
       "      <th></th>\n",
       "      <th>City</th>\n",
       "      <th>City ID</th>\n",
       "      <th>Country</th>\n",
       "      <th>Advertiser Currency</th>\n",
       "      <th>Impressions</th>\n",
       "      <th>Clicks</th>\n",
       "      <th>Revenue (Adv Currency)</th>\n",
       "    </tr>\n",
       "  </thead>\n",
       "  <tbody>\n",
       "    <tr>\n",
       "      <th>10</th>\n",
       "      <td>Bishop s Stortford</td>\n",
       "      <td>1006528</td>\n",
       "      <td>GB</td>\n",
       "      <td>GBP</td>\n",
       "      <td>124.0</td>\n",
       "      <td>0.0</td>\n",
       "      <td>0.319464</td>\n",
       "    </tr>\n",
       "    <tr>\n",
       "      <th>12</th>\n",
       "      <td>Blackpool</td>\n",
       "      <td>1006532</td>\n",
       "      <td>GB</td>\n",
       "      <td>GBP</td>\n",
       "      <td>753.0</td>\n",
       "      <td>2.0</td>\n",
       "      <td>1.922611</td>\n",
       "    </tr>\n",
       "    <tr>\n",
       "      <th>14</th>\n",
       "      <td>Bloxham</td>\n",
       "      <td>1006535</td>\n",
       "      <td>GB</td>\n",
       "      <td>GBP</td>\n",
       "      <td>16.0</td>\n",
       "      <td>0.0</td>\n",
       "      <td>0.030731</td>\n",
       "    </tr>\n",
       "    <tr>\n",
       "      <th>16</th>\n",
       "      <td>Bognor Regis</td>\n",
       "      <td>1006538</td>\n",
       "      <td>GB</td>\n",
       "      <td>GBP</td>\n",
       "      <td>75.0</td>\n",
       "      <td>0.0</td>\n",
       "      <td>0.186539</td>\n",
       "    </tr>\n",
       "    <tr>\n",
       "      <th>18</th>\n",
       "      <td>Bradford-on-Avon</td>\n",
       "      <td>1006554</td>\n",
       "      <td>GB</td>\n",
       "      <td>GBP</td>\n",
       "      <td>9.0</td>\n",
       "      <td>0.0</td>\n",
       "      <td>0.026149</td>\n",
       "    </tr>\n",
       "  </tbody>\n",
       "</table>\n",
       "</div>"
      ],
      "text/plain": [
       "                  City  City ID Country Advertiser Currency  Impressions  \\\n",
       "10  Bishop s Stortford  1006528      GB                 GBP        124.0   \n",
       "12           Blackpool  1006532      GB                 GBP        753.0   \n",
       "14             Bloxham  1006535      GB                 GBP         16.0   \n",
       "16        Bognor Regis  1006538      GB                 GBP         75.0   \n",
       "18    Bradford-on-Avon  1006554      GB                 GBP          9.0   \n",
       "\n",
       "    Clicks  Revenue (Adv Currency)  \n",
       "10     0.0                0.319464  \n",
       "12     2.0                1.922611  \n",
       "14     0.0                0.030731  \n",
       "16     0.0                0.186539  \n",
       "18     0.0                0.026149  "
      ]
     },
     "execution_count": 56,
     "metadata": {},
     "output_type": "execute_result"
    }
   ],
   "source": [
    "#retriving characters within cells is similar to the slicing concenpt employed\n",
    "#so to return the even rows between 10th rows and 20th\n",
    "data[10:20:2]"
   ]
  },
  {
   "cell_type": "code",
   "execution_count": null,
   "metadata": {
    "collapsed": true
   },
   "outputs": [],
   "source": [
    "#an important concept to note is that by adding str in the end of the series ie. data.City.str\n",
    "#this essentially referring to the data in the cell"
   ]
  },
  {
   "cell_type": "code",
   "execution_count": 65,
   "metadata": {
    "collapsed": false
   },
   "outputs": [
    {
     "data": {
      "text/html": [
       "<div>\n",
       "<table border=\"1\" class=\"dataframe\">\n",
       "  <thead>\n",
       "    <tr style=\"text-align: right;\">\n",
       "      <th></th>\n",
       "      <th>City</th>\n",
       "      <th>City ID</th>\n",
       "      <th>Country</th>\n",
       "      <th>Advertiser Currency</th>\n",
       "      <th>Impressions</th>\n",
       "      <th>Clicks</th>\n",
       "      <th>Revenue (Adv Currency)</th>\n",
       "      <th>City5</th>\n",
       "    </tr>\n",
       "  </thead>\n",
       "  <tbody>\n",
       "    <tr>\n",
       "      <th>0</th>\n",
       "      <td>Abingdon</td>\n",
       "      <td>1006457</td>\n",
       "      <td>GB</td>\n",
       "      <td>GBP</td>\n",
       "      <td>174.0</td>\n",
       "      <td>1.0</td>\n",
       "      <td>0.468812</td>\n",
       "      <td>Abing</td>\n",
       "    </tr>\n",
       "    <tr>\n",
       "      <th>1</th>\n",
       "      <td>Alloa</td>\n",
       "      <td>1007295</td>\n",
       "      <td>GB</td>\n",
       "      <td>GBP</td>\n",
       "      <td>89.0</td>\n",
       "      <td>0.0</td>\n",
       "      <td>0.252819</td>\n",
       "      <td>Alloa</td>\n",
       "    </tr>\n",
       "    <tr>\n",
       "      <th>2</th>\n",
       "      <td>Amersham</td>\n",
       "      <td>1006474</td>\n",
       "      <td>GB</td>\n",
       "      <td>GBP</td>\n",
       "      <td>45.0</td>\n",
       "      <td>0.0</td>\n",
       "      <td>0.126163</td>\n",
       "      <td>Amers</td>\n",
       "    </tr>\n",
       "    <tr>\n",
       "      <th>3</th>\n",
       "      <td>Annan</td>\n",
       "      <td>1007297</td>\n",
       "      <td>GB</td>\n",
       "      <td>GBP</td>\n",
       "      <td>58.0</td>\n",
       "      <td>0.0</td>\n",
       "      <td>0.144051</td>\n",
       "      <td>Annan</td>\n",
       "    </tr>\n",
       "    <tr>\n",
       "      <th>4</th>\n",
       "      <td>Baldock</td>\n",
       "      <td>1006493</td>\n",
       "      <td>GB</td>\n",
       "      <td>GBP</td>\n",
       "      <td>93.0</td>\n",
       "      <td>0.0</td>\n",
       "      <td>0.264777</td>\n",
       "      <td>Baldo</td>\n",
       "    </tr>\n",
       "  </tbody>\n",
       "</table>\n",
       "</div>"
      ],
      "text/plain": [
       "       City  City ID Country Advertiser Currency  Impressions  Clicks  \\\n",
       "0  Abingdon  1006457      GB                 GBP        174.0     1.0   \n",
       "1     Alloa  1007295      GB                 GBP         89.0     0.0   \n",
       "2  Amersham  1006474      GB                 GBP         45.0     0.0   \n",
       "3     Annan  1007297      GB                 GBP         58.0     0.0   \n",
       "4   Baldock  1006493      GB                 GBP         93.0     0.0   \n",
       "\n",
       "   Revenue (Adv Currency)  City5  \n",
       "0                0.468812  Abing  \n",
       "1                0.252819  Alloa  \n",
       "2                0.126163  Amers  \n",
       "3                0.144051  Annan  \n",
       "4                0.264777  Baldo  "
      ]
     },
     "execution_count": 65,
     "metadata": {},
     "output_type": "execute_result"
    }
   ],
   "source": [
    "#here we returns the first 5 characters of the City column\n",
    "#and make this 5 characters of its own column\n",
    "data[\"City5\"] = data.City.str[:5]\n",
    "data.head()"
   ]
  },
  {
   "cell_type": "code",
   "execution_count": 122,
   "metadata": {
    "collapsed": false
   },
   "outputs": [
    {
     "data": {
      "text/plain": [
       "0    GB\n",
       "1    GB\n",
       "2    GB\n",
       "3    GB\n",
       "4    GB\n",
       "Name: Country, dtype: object"
      ]
     },
     "execution_count": 122,
     "metadata": {},
     "output_type": "execute_result"
    }
   ],
   "source": [
    "#to return the last 2 character\n",
    "data.Country.str[:2].head()"
   ]
  },
  {
   "cell_type": "code",
   "execution_count": 101,
   "metadata": {
    "collapsed": false
   },
   "outputs": [
    {
     "data": {
      "text/plain": [
       "0    Abingdon--GB\n",
       "1       Alloa--GB\n",
       "2    Amersham--GB\n",
       "3       Annan--GB\n",
       "4     Baldock--GB\n",
       "Name: City, dtype: object"
      ]
     },
     "execution_count": 101,
     "metadata": {},
     "output_type": "execute_result"
    }
   ],
   "source": [
    "#concatenate two strings from 2 different cells using .str.cat\n",
    "#syntax is str.cat(others=[list], sep=\"additional string\")\n",
    "#others default is None \n",
    "data.City.str.cat(others=data.Country, sep=\"--\").head()"
   ]
  },
  {
   "cell_type": "code",
   "execution_count": 100,
   "metadata": {
    "collapsed": false
   },
   "outputs": [
    {
     "data": {
      "text/plain": [
       "0    1006457--Abingdon--GB\n",
       "1       1007295--Alloa--GB\n",
       "2    1006474--Amersham--GB\n",
       "3       1007297--Annan--GB\n",
       "4     1006493--Baldock--GB\n",
       "Name: City ID, dtype: object"
      ]
     },
     "execution_count": 100,
     "metadata": {},
     "output_type": "execute_result"
    }
   ],
   "source": [
    "#to concatenate multiple string it's nested method as below\n",
    "data[\"City ID\"].str.cat(data.City.str.cat(others=data.Country, sep=\"--\"), sep=\"--\").head()"
   ]
  },
  {
   "cell_type": "code",
   "execution_count": null,
   "metadata": {
    "collapsed": true
   },
   "outputs": [],
   "source": []
  }
 ],
 "metadata": {
  "anaconda-cloud": {},
  "kernelspec": {
   "display_name": "Python [conda root]",
   "language": "python",
   "name": "conda-root-py"
  },
  "language_info": {
   "codemirror_mode": {
    "name": "ipython",
    "version": 3
   },
   "file_extension": ".py",
   "mimetype": "text/x-python",
   "name": "python",
   "nbconvert_exporter": "python",
   "pygments_lexer": "ipython3",
   "version": "3.5.2"
  }
 },
 "nbformat": 4,
 "nbformat_minor": 1
}
