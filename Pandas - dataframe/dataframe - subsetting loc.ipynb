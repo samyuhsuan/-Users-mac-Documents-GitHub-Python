{
 "cells": [
  {
   "cell_type": "code",
   "execution_count": 1,
   "metadata": {
    "collapsed": true
   },
   "outputs": [],
   "source": [
    "import pandas as pd\n",
    "import numpy as np"
   ]
  },
  {
   "cell_type": "code",
   "execution_count": 2,
   "metadata": {
    "collapsed": true
   },
   "outputs": [],
   "source": [
    "ndata = pd.read_csv(\"NextData.csv\")"
   ]
  },
  {
   "cell_type": "code",
   "execution_count": 3,
   "metadata": {
    "collapsed": false
   },
   "outputs": [],
   "source": [
    "ndata = ndata.drop(ndata.index[336::])"
   ]
  },
  {
   "cell_type": "code",
   "execution_count": 4,
   "metadata": {
    "collapsed": true
   },
   "outputs": [],
   "source": [
    "ndata = ndata.drop([\"Advertiser ID\", \"Advertiser Status\", \"Advertiser Integration Code\"], axis=1)"
   ]
  },
  {
   "cell_type": "code",
   "execution_count": 7,
   "metadata": {
    "collapsed": true
   },
   "outputs": [],
   "source": [
    "ndata.columns=['Advertiser', 'TOD', 'Country', 'DeviceType',\n",
    "       'AdvertiserCurrency', 'Impressions',\n",
    "       'MeasurableImpressions',\n",
    "       'ViewableImpressions', 'Clicks',\n",
    "       'Spend']"
   ]
  },
  {
   "cell_type": "code",
   "execution_count": 9,
   "metadata": {
    "collapsed": true
   },
   "outputs": [],
   "source": [
    "ndata[\"CTR\"] = ndata.Clicks / ndata.Impressions"
   ]
  },
  {
   "cell_type": "code",
   "execution_count": 10,
   "metadata": {
    "collapsed": true
   },
   "outputs": [],
   "source": [
    "ndata[\"CPM\"] = ndata.Spend / ndata.Impressions * 1000"
   ]
  },
  {
   "cell_type": "code",
   "execution_count": 11,
   "metadata": {
    "collapsed": true
   },
   "outputs": [],
   "source": [
    "ndata.Country = ndata.Country.astype(\"category\")\n",
    "ndata.DeviceType = ndata.DeviceType.astype(\"category\")"
   ]
  },
  {
   "cell_type": "markdown",
   "metadata": {},
   "source": [
    "---"
   ]
  },
  {
   "cell_type": "code",
   "execution_count": 16,
   "metadata": {
    "collapsed": false
   },
   "outputs": [
    {
     "data": {
      "text/html": [
       "<div>\n",
       "<table border=\"1\" class=\"dataframe\">\n",
       "  <thead>\n",
       "    <tr style=\"text-align: right;\">\n",
       "      <th></th>\n",
       "      <th>Advertiser</th>\n",
       "      <th>TOD</th>\n",
       "      <th>Country</th>\n",
       "      <th>DeviceType</th>\n",
       "      <th>AdvertiserCurrency</th>\n",
       "      <th>Impressions</th>\n",
       "      <th>MeasurableImpressions</th>\n",
       "      <th>ViewableImpressions</th>\n",
       "      <th>Clicks</th>\n",
       "      <th>Spend</th>\n",
       "      <th>CTR</th>\n",
       "      <th>CPM</th>\n",
       "    </tr>\n",
       "  </thead>\n",
       "  <tbody>\n",
       "    <tr>\n",
       "      <th>0</th>\n",
       "      <td>Next_UK_Zenith</td>\n",
       "      <td>0.0</td>\n",
       "      <td>DE</td>\n",
       "      <td>Desktop</td>\n",
       "      <td>GBP</td>\n",
       "      <td>16033.0</td>\n",
       "      <td>15214.0</td>\n",
       "      <td>4048.0</td>\n",
       "      <td>3.0</td>\n",
       "      <td>15.064673</td>\n",
       "      <td>0.000187</td>\n",
       "      <td>0.939604</td>\n",
       "    </tr>\n",
       "    <tr>\n",
       "      <th>1</th>\n",
       "      <td>Next_UK_Zenith</td>\n",
       "      <td>0.0</td>\n",
       "      <td>HK</td>\n",
       "      <td>Desktop</td>\n",
       "      <td>GBP</td>\n",
       "      <td>24158.0</td>\n",
       "      <td>23581.0</td>\n",
       "      <td>9229.0</td>\n",
       "      <td>19.0</td>\n",
       "      <td>51.533391</td>\n",
       "      <td>0.000786</td>\n",
       "      <td>2.133181</td>\n",
       "    </tr>\n",
       "    <tr>\n",
       "      <th>2</th>\n",
       "      <td>Next_UK_Zenith</td>\n",
       "      <td>1.0</td>\n",
       "      <td>DE</td>\n",
       "      <td>Desktop</td>\n",
       "      <td>GBP</td>\n",
       "      <td>31903.0</td>\n",
       "      <td>30341.0</td>\n",
       "      <td>7678.0</td>\n",
       "      <td>6.0</td>\n",
       "      <td>25.592858</td>\n",
       "      <td>0.000188</td>\n",
       "      <td>0.802209</td>\n",
       "    </tr>\n",
       "    <tr>\n",
       "      <th>3</th>\n",
       "      <td>Next_UK_Zenith</td>\n",
       "      <td>1.0</td>\n",
       "      <td>GB</td>\n",
       "      <td>Desktop</td>\n",
       "      <td>GBP</td>\n",
       "      <td>94044.0</td>\n",
       "      <td>92256.0</td>\n",
       "      <td>57478.0</td>\n",
       "      <td>157.0</td>\n",
       "      <td>301.121433</td>\n",
       "      <td>0.001669</td>\n",
       "      <td>3.201921</td>\n",
       "    </tr>\n",
       "    <tr>\n",
       "      <th>4</th>\n",
       "      <td>Next_UK_Zenith</td>\n",
       "      <td>1.0</td>\n",
       "      <td>GB</td>\n",
       "      <td>Tablet</td>\n",
       "      <td>GBP</td>\n",
       "      <td>53025.0</td>\n",
       "      <td>48877.0</td>\n",
       "      <td>25243.0</td>\n",
       "      <td>49.0</td>\n",
       "      <td>125.552097</td>\n",
       "      <td>0.000924</td>\n",
       "      <td>2.367791</td>\n",
       "    </tr>\n",
       "  </tbody>\n",
       "</table>\n",
       "</div>"
      ],
      "text/plain": [
       "       Advertiser  TOD Country DeviceType AdvertiserCurrency  Impressions  \\\n",
       "0  Next_UK_Zenith  0.0      DE    Desktop                GBP      16033.0   \n",
       "1  Next_UK_Zenith  0.0      HK    Desktop                GBP      24158.0   \n",
       "2  Next_UK_Zenith  1.0      DE    Desktop                GBP      31903.0   \n",
       "3  Next_UK_Zenith  1.0      GB    Desktop                GBP      94044.0   \n",
       "4  Next_UK_Zenith  1.0      GB     Tablet                GBP      53025.0   \n",
       "\n",
       "   MeasurableImpressions  ViewableImpressions  Clicks       Spend       CTR  \\\n",
       "0                15214.0               4048.0     3.0   15.064673  0.000187   \n",
       "1                23581.0               9229.0    19.0   51.533391  0.000786   \n",
       "2                30341.0               7678.0     6.0   25.592858  0.000188   \n",
       "3                92256.0              57478.0   157.0  301.121433  0.001669   \n",
       "4                48877.0              25243.0    49.0  125.552097  0.000924   \n",
       "\n",
       "        CPM  \n",
       "0  0.939604  \n",
       "1  2.133181  \n",
       "2  0.802209  \n",
       "3  3.201921  \n",
       "4  2.367791  "
      ]
     },
     "execution_count": 16,
     "metadata": {},
     "output_type": "execute_result"
    }
   ],
   "source": [
    "#below we use .loc[] to extract all the fields \n",
    "ndata.loc[:,:].head()"
   ]
  },
  {
   "cell_type": "code",
   "execution_count": 20,
   "metadata": {
    "collapsed": false
   },
   "outputs": [
    {
     "data": {
      "text/plain": [
       "1      HK\n",
       "2      DE\n",
       "3      GB\n",
       "4      GB\n",
       "5      GB\n",
       "6      IL\n",
       "7      TW\n",
       "8      CZ\n",
       "9      DE\n",
       "10     RO\n",
       "11     RU\n",
       "12     AU\n",
       "13     GB\n",
       "14     IE\n",
       "15     TW\n",
       "16     IL\n",
       "17     AU\n",
       "18     GB\n",
       "19     IE\n",
       "20     CZ\n",
       "21     RO\n",
       "22     RU\n",
       "23     AU\n",
       "24     GB\n",
       "25     GB\n",
       "26     HK\n",
       "27     AU\n",
       "28     AU\n",
       "29     DE\n",
       "30     GB\n",
       "       ..\n",
       "71     SK\n",
       "72     DE\n",
       "73     GB\n",
       "74     CZ\n",
       "75     RU\n",
       "76     SK\n",
       "77     UA\n",
       "78     CZ\n",
       "79     IL\n",
       "80     SK\n",
       "81     DE\n",
       "82     GB\n",
       "83     HK\n",
       "84     IE\n",
       "85     IL\n",
       "86     UA\n",
       "87     IL\n",
       "88     TW\n",
       "89     GB\n",
       "90     GB\n",
       "91     IE\n",
       "92     DE\n",
       "93     TW\n",
       "94     AU\n",
       "95     IE\n",
       "96     TW\n",
       "97     IL\n",
       "98     UA\n",
       "99     GB\n",
       "100    GB\n",
       "Name: Country, dtype: category\n",
       "Categories (12, object): [AU, CZ, DE, GB, ..., RU, SK, TW, UA]"
      ]
     },
     "execution_count": 20,
     "metadata": {},
     "output_type": "execute_result"
    }
   ],
   "source": [
    "ndata.loc[1:100,(\"Country\")]"
   ]
  },
  {
   "cell_type": "code",
   "execution_count": null,
   "metadata": {
    "collapsed": true
   },
   "outputs": [],
   "source": []
  },
  {
   "cell_type": "code",
   "execution_count": null,
   "metadata": {
    "collapsed": true
   },
   "outputs": [],
   "source": []
  },
  {
   "cell_type": "code",
   "execution_count": null,
   "metadata": {
    "collapsed": true
   },
   "outputs": [],
   "source": []
  },
  {
   "cell_type": "code",
   "execution_count": null,
   "metadata": {
    "collapsed": true
   },
   "outputs": [],
   "source": []
  }
 ],
 "metadata": {
  "anaconda-cloud": {},
  "kernelspec": {
   "display_name": "Python [conda root]",
   "language": "python",
   "name": "conda-root-py"
  },
  "language_info": {
   "codemirror_mode": {
    "name": "ipython",
    "version": 3
   },
   "file_extension": ".py",
   "mimetype": "text/x-python",
   "name": "python",
   "nbconvert_exporter": "python",
   "pygments_lexer": "ipython3",
   "version": "3.5.2"
  }
 },
 "nbformat": 4,
 "nbformat_minor": 1
}
