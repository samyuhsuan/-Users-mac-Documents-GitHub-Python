{
 "cells": [
  {
   "cell_type": "code",
   "execution_count": 1,
   "metadata": {
    "collapsed": true
   },
   "outputs": [],
   "source": [
    "import pandas as pd\n",
    "from pandas import *\n",
    "import glob\n",
    "import numpy as np"
   ]
  },
  {
   "cell_type": "code",
   "execution_count": null,
   "metadata": {
    "collapsed": true
   },
   "outputs": [],
   "source": [
    "# It is useful in any situation where your program needs to look for a list of files on the filesystem with names matching a pattern. \n",
    "#If you need a list of filenames that all have a certain extension, prefix, or any common string in the middle, \n",
    "#use glob instead of writing code to scan the directory contents yourself."
   ]
  },
  {
   "cell_type": "code",
   "execution_count": 22,
   "metadata": {
    "collapsed": false
   },
   "outputs": [
    {
     "data": {
      "text/plain": [
       "['Aviva.csv',\n",
       " 'dataframe basics - buiding dataframe - subsetting inf, nan, error.ipynb',\n",
       " 'dataframe basics - data creation on filtering .ipynb',\n",
       " 'dataframe basics - drop columns rows - np extracting unique - filters with multiple values - selected columns.ipynb',\n",
       " 'dataframe basics - extracting individual cell value - .iat and .at.ipynb',\n",
       " 'dataframe basics - filtering - containing text - retrieving characters - concatenating strings.ipynb',\n",
       " 'dataframe basics - import data - basic info exploration.ipynb',\n",
       " 'dataframe basics - pivot table.ipynb',\n",
       " 'dataframe basics - rename columns  - subset - column calculation - add and removing columns.ipynb',\n",
       " 'glob - pathname - file loading - read multiple csv.ipynb',\n",
       " 'NextData.csv',\n",
       " 'practice 2.ipynb',\n",
       " 'practice 3.ipynb',\n",
       " 'practice.ipynb',\n",
       " 'sample.csv']"
      ]
     },
     "execution_count": 22,
     "metadata": {},
     "output_type": "execute_result"
    }
   ],
   "source": [
    "#to extract a list of file contained in the folder we can use glob.glob(\"filePath\")\n",
    "# * is used to represent 0 or more character\n",
    "#please note this will only retrieve what's contained in the path specified rather than all things sub folder level\n",
    "glob.glob(\"*\")"
   ]
  },
  {
   "cell_type": "code",
   "execution_count": 17,
   "metadata": {
    "collapsed": false
   },
   "outputs": [
    {
     "data": {
      "text/plain": [
       "list"
      ]
     },
     "execution_count": 17,
     "metadata": {},
     "output_type": "execute_result"
    }
   ],
   "source": [
    "#the output of this is a list of output\n",
    "type(glob.glob(\"*\"))"
   ]
  },
  {
   "cell_type": "code",
   "execution_count": 31,
   "metadata": {
    "collapsed": false
   },
   "outputs": [
    {
     "data": {
      "text/plain": [
       "['..\\\\Matplotlib - Visualisation',\n",
       " '..\\\\numpy',\n",
       " '..\\\\Pandas - dataframe',\n",
       " '..\\\\Project',\n",
       " '..\\\\Seaborn - Visualisation',\n",
       " '..\\\\Untitled.ipynb']"
      ]
     },
     "execution_count": 31,
     "metadata": {},
     "output_type": "execute_result"
    }
   ],
   "source": [
    "#to search a folder level up we use the same ../ to identify\n",
    "# below basically go up a layer and list all the items within the file\n",
    "glob.glob(\"../*\")"
   ]
  },
  {
   "cell_type": "code",
   "execution_count": 32,
   "metadata": {
    "collapsed": false
   },
   "outputs": [
    {
     "data": {
      "text/plain": [
       "['..\\\\Matplotlib - Visualisation\\\\matplotlib basics - pyplot.ipynb',\n",
       " '..\\\\numpy\\\\Untitled Folder',\n",
       " '..\\\\Pandas - dataframe\\\\Aviva.csv',\n",
       " '..\\\\Pandas - dataframe\\\\dataframe basics - buiding dataframe - subsetting inf, nan, error.ipynb',\n",
       " '..\\\\Pandas - dataframe\\\\dataframe basics - data creation on filtering .ipynb',\n",
       " '..\\\\Pandas - dataframe\\\\dataframe basics - drop columns rows - np extracting unique - filters with multiple values - selected columns.ipynb',\n",
       " '..\\\\Pandas - dataframe\\\\dataframe basics - extracting individual cell value - .iat and .at.ipynb',\n",
       " '..\\\\Pandas - dataframe\\\\dataframe basics - filtering - containing text - retrieving characters - concatenating strings.ipynb',\n",
       " '..\\\\Pandas - dataframe\\\\dataframe basics - import data - basic info exploration.ipynb',\n",
       " '..\\\\Pandas - dataframe\\\\dataframe basics - pivot table.ipynb',\n",
       " '..\\\\Pandas - dataframe\\\\dataframe basics - rename columns  - subset - column calculation - add and removing columns.ipynb',\n",
       " '..\\\\Pandas - dataframe\\\\glob - pathname - file loading - read multiple csv.ipynb',\n",
       " '..\\\\Pandas - dataframe\\\\NextData.csv',\n",
       " '..\\\\Pandas - dataframe\\\\practice 2.ipynb',\n",
       " '..\\\\Pandas - dataframe\\\\practice 3.ipynb',\n",
       " '..\\\\Pandas - dataframe\\\\practice.ipynb',\n",
       " '..\\\\Pandas - dataframe\\\\sample.csv',\n",
       " '..\\\\Project\\\\AOD publisher',\n",
       " '..\\\\Seaborn - Visualisation\\\\Aviva View Project',\n",
       " '..\\\\Seaborn - Visualisation\\\\NAP',\n",
       " '..\\\\Seaborn - Visualisation\\\\NextData.csv',\n",
       " '..\\\\Seaborn - Visualisation\\\\Seaborn - FacetGrid.ipynb',\n",
       " '..\\\\Seaborn - Visualisation\\\\Seaborn - Heatmap.ipynb',\n",
       " '..\\\\Seaborn - Visualisation\\\\Seaborn - jointplot - sns and plt hist and displot - all functions - function to automate .ipynb',\n",
       " '..\\\\Seaborn - Visualisation\\\\Seaborn - kde plot.ipynb',\n",
       " '..\\\\Seaborn - Visualisation\\\\Seaborn - lmplot - all functions.ipynb',\n",
       " '..\\\\Seaborn - Visualisation\\\\Seaborn - lmplot - setting axis.ipynb',\n",
       " '..\\\\Seaborn - Visualisation\\\\Seaborn - plotting against pivot chart.ipynb',\n",
       " '..\\\\Seaborn - Visualisation\\\\Seaborn - setting palette.ipynb',\n",
       " '..\\\\Seaborn - Visualisation\\\\Seaborn - subplot.ipynb',\n",
       " '..\\\\Seaborn - Visualisation\\\\test.ipynb']"
      ]
     },
     "execution_count": 32,
     "metadata": {},
     "output_type": "execute_result"
    }
   ],
   "source": [
    "#as mentioned above it only list a level down as specified, we can do this to retrieve all files from the second layer as below\n",
    "glob.glob(\"../*/*\")"
   ]
  },
  {
   "cell_type": "code",
   "execution_count": 35,
   "metadata": {
    "collapsed": false
   },
   "outputs": [
    {
     "name": "stdout",
     "output_type": "stream",
     "text": [
      "Aviva.csv\n",
      "dataframe basics - buiding dataframe - subsetting inf, nan, error.ipynb\n",
      "dataframe basics - data creation on filtering .ipynb\n",
      "dataframe basics - drop columns rows - np extracting unique - filters with multiple values - selected columns.ipynb\n",
      "dataframe basics - extracting individual cell value - .iat and .at.ipynb\n",
      "dataframe basics - filtering - containing text - retrieving characters - concatenating strings.ipynb\n",
      "dataframe basics - import data - basic info exploration.ipynb\n",
      "dataframe basics - pivot table.ipynb\n",
      "dataframe basics - rename columns  - subset - column calculation - add and removing columns.ipynb\n",
      "glob - pathname - file loading - read multiple csv.ipynb\n",
      "NextData.csv\n",
      "practice 2.ipynb\n",
      "practice 3.ipynb\n",
      "practice.ipynb\n",
      "sample.csv\n"
     ]
    }
   ],
   "source": [
    "#another common practice is to create a loop which will print out all file names instead of creating a list \n",
    "for ggg in glob.glob(\"*\"):\n",
    "    print(ggg)"
   ]
  },
  {
   "cell_type": "code",
   "execution_count": 19,
   "metadata": {
    "collapsed": false
   },
   "outputs": [
    {
     "data": {
      "text/plain": [
       "['Aviva.csv', 'NextData.csv', 'sample.csv']"
      ]
     },
     "execution_count": 19,
     "metadata": {},
     "output_type": "execute_result"
    }
   ],
   "source": [
    "#then where it becomes powerful is the specfication of the data file type\n",
    "#to extract only .csv file, we can use *.csv, so a combination of * and .csv file to extract only .csv files\n",
    "glob.glob(\"*.csv\")"
   ]
  },
  {
   "cell_type": "code",
   "execution_count": 39,
   "metadata": {
    "collapsed": false
   },
   "outputs": [
    {
     "data": {
      "text/plain": [
       "['practice 2.ipynb', 'practice 3.ipynb']"
      ]
     },
     "execution_count": 39,
     "metadata": {},
     "output_type": "execute_result"
    }
   ],
   "source": [
    "# ? is sometimes used to represent the variation of a single character rather than *\n",
    "#below example in the current file we have 2 files named 'practice 2.ipynb' and 'practice 3.ipynb'\n",
    "#we can use ? to represent the variation of the number to extract the file for this specfic type of file name\n",
    "#to be honest in this case using * instead of ? will still work:\n",
    "#glob.glob(\"practice *.ipynb\") > this will still work\n",
    "glob.glob(\"practice ?.ipynb\")"
   ]
  },
  {
   "cell_type": "code",
   "execution_count": 42,
   "metadata": {
    "collapsed": false
   },
   "outputs": [
    {
     "data": {
      "text/plain": [
       "['practice 2.ipynb', 'practice 3.ipynb']"
      ]
     },
     "execution_count": 42,
     "metadata": {},
     "output_type": "execute_result"
    }
   ],
   "source": [
    "#lastly we can do the same but on number specfication using the form of [0-9]\n",
    "#please note that there shouldn't be any space within the square bracket\n",
    "#using the same example above\n",
    "glob.glob(\"practice [1-9].ipynb\")"
   ]
  },
  {
   "cell_type": "code",
   "execution_count": null,
   "metadata": {
    "collapsed": true
   },
   "outputs": [],
   "source": []
  }
 ],
 "metadata": {
  "anaconda-cloud": {},
  "kernelspec": {
   "display_name": "Python [conda root]",
   "language": "python",
   "name": "conda-root-py"
  },
  "language_info": {
   "codemirror_mode": {
    "name": "ipython",
    "version": 3
   },
   "file_extension": ".py",
   "mimetype": "text/x-python",
   "name": "python",
   "nbconvert_exporter": "python",
   "pygments_lexer": "ipython3",
   "version": "3.5.2"
  }
 },
 "nbformat": 4,
 "nbformat_minor": 1
}
