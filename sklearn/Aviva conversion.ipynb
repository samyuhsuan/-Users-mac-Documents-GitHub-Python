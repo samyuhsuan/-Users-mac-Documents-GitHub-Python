{
 "cells": [
  {
   "cell_type": "code",
   "execution_count": 226,
   "metadata": {
    "collapsed": true
   },
   "outputs": [],
   "source": [
    "import numpy as np\n",
    "import pandas as pd\n",
    "import matplotlib.pyplot as plt\n",
    "from sklearn.preprocessing import Imputer\n",
    "%matplotlib inline"
   ]
  },
  {
   "cell_type": "code",
   "execution_count": 227,
   "metadata": {
    "collapsed": true
   },
   "outputs": [],
   "source": [
    "data = pd.read_csv(\"Aviva.csv\")"
   ]
  },
  {
   "cell_type": "code",
   "execution_count": 228,
   "metadata": {
    "collapsed": false
   },
   "outputs": [
    {
     "data": {
      "text/plain": [
       "Index(['Creative Width', 'Creative Height', 'Ad Position', 'Exchange',\n",
       "       'Exchange ID', 'Device Type', 'Advertiser Currency', 'Impressions',\n",
       "       'Active View: Measurable Impressions',\n",
       "       'Active View: Viewable Impressions', 'Clicks', 'Total Conversions',\n",
       "       'Revenue (Adv Currency)'],\n",
       "      dtype='object')"
      ]
     },
     "execution_count": 228,
     "metadata": {},
     "output_type": "execute_result"
    }
   ],
   "source": [
    "data.columns"
   ]
  },
  {
   "cell_type": "code",
   "execution_count": 229,
   "metadata": {
    "collapsed": false
   },
   "outputs": [],
   "source": [
    "data = data.drop(['Exchange ID', 'Advertiser Currency'], axis = 1)"
   ]
  },
  {
   "cell_type": "code",
   "execution_count": 230,
   "metadata": {
    "collapsed": false
   },
   "outputs": [],
   "source": [
    "data.columns = ['CW', 'CH', 'AdPosition', 'Exchange',\n",
    "       'Device', 'Impressions', 'mImpressions',\n",
    "       'vImpressions', 'Clicks', \"Conversions\",\n",
    "       'Spend']"
   ]
  },
  {
   "cell_type": "code",
   "execution_count": 231,
   "metadata": {
    "collapsed": false
   },
   "outputs": [],
   "source": [
    "data.CW = data.CW.apply(str)\n",
    "data.CH = data.CH.apply(str)"
   ]
  },
  {
   "cell_type": "code",
   "execution_count": 232,
   "metadata": {
    "collapsed": false
   },
   "outputs": [],
   "source": [
    "data[\"Size\"] = data.CW + \"x\" + data.CH\n",
    "data[\"CTR\"] = data.Clicks / data.Impressions\n",
    "data[\"Viewability\"] = data.vImpressions / data.mImpressions\n",
    "data[\"CPM\"] = data.Spend / data.Impressions * 1000\n",
    "data[\"CPA\"] = data.Spend / data.Conversions"
   ]
  },
  {
   "cell_type": "code",
   "execution_count": 233,
   "metadata": {
    "collapsed": false
   },
   "outputs": [],
   "source": [
    "data = data.drop(['CW', 'CH', 'mImpressions', 'vImpressions'], axis=1)"
   ]
  },
  {
   "cell_type": "code",
   "execution_count": 234,
   "metadata": {
    "collapsed": false
   },
   "outputs": [],
   "source": [
    "data.loc[data.CPA == np.inf, \"CPA\"] = np.median(data.CPA)"
   ]
  },
  {
   "cell_type": "code",
   "execution_count": 235,
   "metadata": {
    "collapsed": false
   },
   "outputs": [
    {
     "data": {
      "text/plain": [
       "2.4426547186400938"
      ]
     },
     "execution_count": 235,
     "metadata": {},
     "output_type": "execute_result"
    }
   ],
   "source": [
    "np.sum(data.Spend) / np.sum(data.Conversions)"
   ]
  },
  {
   "cell_type": "code",
   "execution_count": 236,
   "metadata": {
    "collapsed": false
   },
   "outputs": [
    {
     "data": {
      "text/html": [
       "<div>\n",
       "<table border=\"1\" class=\"dataframe\">\n",
       "  <thead>\n",
       "    <tr style=\"text-align: right;\">\n",
       "      <th></th>\n",
       "      <th>AdPosition</th>\n",
       "      <th>Exchange</th>\n",
       "      <th>Device</th>\n",
       "      <th>Impressions</th>\n",
       "      <th>Clicks</th>\n",
       "      <th>Conversions</th>\n",
       "      <th>Spend</th>\n",
       "      <th>Size</th>\n",
       "      <th>CTR</th>\n",
       "      <th>Viewability</th>\n",
       "      <th>CPM</th>\n",
       "      <th>CPA</th>\n",
       "    </tr>\n",
       "  </thead>\n",
       "  <tbody>\n",
       "    <tr>\n",
       "      <th>0</th>\n",
       "      <td>Unknown</td>\n",
       "      <td>Admeta</td>\n",
       "      <td>Desktop</td>\n",
       "      <td>17</td>\n",
       "      <td>0</td>\n",
       "      <td>12</td>\n",
       "      <td>0.042347</td>\n",
       "      <td>160x600</td>\n",
       "      <td>0.000000</td>\n",
       "      <td>0.588235</td>\n",
       "      <td>2.491000</td>\n",
       "      <td>0.003529</td>\n",
       "    </tr>\n",
       "    <tr>\n",
       "      <th>1</th>\n",
       "      <td>Unknown</td>\n",
       "      <td>Rubicon</td>\n",
       "      <td>Desktop</td>\n",
       "      <td>3235</td>\n",
       "      <td>1</td>\n",
       "      <td>6</td>\n",
       "      <td>4.204572</td>\n",
       "      <td>160x600</td>\n",
       "      <td>0.000309</td>\n",
       "      <td>0.512065</td>\n",
       "      <td>1.299713</td>\n",
       "      <td>0.700762</td>\n",
       "    </tr>\n",
       "    <tr>\n",
       "      <th>2</th>\n",
       "      <td>ABOVE_THE_FOLD</td>\n",
       "      <td>AppNexus</td>\n",
       "      <td>Desktop</td>\n",
       "      <td>9493</td>\n",
       "      <td>7</td>\n",
       "      <td>10</td>\n",
       "      <td>23.783270</td>\n",
       "      <td>160x600</td>\n",
       "      <td>0.000737</td>\n",
       "      <td>0.632013</td>\n",
       "      <td>2.505348</td>\n",
       "      <td>2.378327</td>\n",
       "    </tr>\n",
       "    <tr>\n",
       "      <th>3</th>\n",
       "      <td>BELOW_THE_FOLD</td>\n",
       "      <td>AppNexus</td>\n",
       "      <td>Desktop</td>\n",
       "      <td>16709</td>\n",
       "      <td>0</td>\n",
       "      <td>7</td>\n",
       "      <td>44.777355</td>\n",
       "      <td>160x600</td>\n",
       "      <td>0.000000</td>\n",
       "      <td>0.226668</td>\n",
       "      <td>2.679835</td>\n",
       "      <td>6.396765</td>\n",
       "    </tr>\n",
       "    <tr>\n",
       "      <th>4</th>\n",
       "      <td>BELOW_THE_FOLD</td>\n",
       "      <td>BidSwitch</td>\n",
       "      <td>Desktop</td>\n",
       "      <td>3</td>\n",
       "      <td>0</td>\n",
       "      <td>0</td>\n",
       "      <td>0.005513</td>\n",
       "      <td>160x600</td>\n",
       "      <td>0.000000</td>\n",
       "      <td>0.333333</td>\n",
       "      <td>1.837667</td>\n",
       "      <td>6.355343</td>\n",
       "    </tr>\n",
       "  </tbody>\n",
       "</table>\n",
       "</div>"
      ],
      "text/plain": [
       "       AdPosition   Exchange   Device  Impressions  Clicks  Conversions  \\\n",
       "0         Unknown     Admeta  Desktop           17       0           12   \n",
       "1         Unknown    Rubicon  Desktop         3235       1            6   \n",
       "2  ABOVE_THE_FOLD   AppNexus  Desktop         9493       7           10   \n",
       "3  BELOW_THE_FOLD   AppNexus  Desktop        16709       0            7   \n",
       "4  BELOW_THE_FOLD  BidSwitch  Desktop            3       0            0   \n",
       "\n",
       "       Spend     Size       CTR  Viewability       CPM       CPA  \n",
       "0   0.042347  160x600  0.000000     0.588235  2.491000  0.003529  \n",
       "1   4.204572  160x600  0.000309     0.512065  1.299713  0.700762  \n",
       "2  23.783270  160x600  0.000737     0.632013  2.505348  2.378327  \n",
       "3  44.777355  160x600  0.000000     0.226668  2.679835  6.396765  \n",
       "4   0.005513  160x600  0.000000     0.333333  1.837667  6.355343  "
      ]
     },
     "execution_count": 236,
     "metadata": {},
     "output_type": "execute_result"
    }
   ],
   "source": [
    "data.head()"
   ]
  },
  {
   "cell_type": "code",
   "execution_count": 237,
   "metadata": {
    "collapsed": true
   },
   "outputs": [],
   "source": [
    "from sklearn.preprocessing import LabelEncoder, OneHotEncoder"
   ]
  },
  {
   "cell_type": "code",
   "execution_count": 238,
   "metadata": {
    "collapsed": false
   },
   "outputs": [],
   "source": [
    "X = data.loc[:, [\"AdPosition\", \"Size\", \"Viewability\", \"CPM\"]].values\n",
    "y = data.loc[:, \"CTR\"].values"
   ]
  },
  {
   "cell_type": "code",
   "execution_count": 239,
   "metadata": {
    "collapsed": true
   },
   "outputs": [],
   "source": [
    "labelencoder = LabelEncoder()"
   ]
  },
  {
   "cell_type": "code",
   "execution_count": 240,
   "metadata": {
    "collapsed": false
   },
   "outputs": [
    {
     "data": {
      "text/plain": [
       "array(['Unknown', '160x600', 0.5120651833281104, 1.2997131375579596], dtype=object)"
      ]
     },
     "execution_count": 240,
     "metadata": {},
     "output_type": "execute_result"
    }
   ],
   "source": [
    "X[1,:]"
   ]
  },
  {
   "cell_type": "code",
   "execution_count": 241,
   "metadata": {
    "collapsed": false
   },
   "outputs": [],
   "source": [
    "X[:, 0] = labelencoder.fit_transform(X[:,0])\n",
    "X[:, 1] = labelencoder.fit_transform(X[:,1])"
   ]
  },
  {
   "cell_type": "code",
   "execution_count": 242,
   "metadata": {
    "collapsed": false
   },
   "outputs": [
    {
     "data": {
      "text/plain": [
       "array([2, 0, 0.5120651833281104, 1.2997131375579596], dtype=object)"
      ]
     },
     "execution_count": 242,
     "metadata": {},
     "output_type": "execute_result"
    }
   ],
   "source": [
    "X[1,:]"
   ]
  },
  {
   "cell_type": "code",
   "execution_count": 243,
   "metadata": {
    "collapsed": true
   },
   "outputs": [],
   "source": [
    "onehotencoder = OneHotEncoder(categorical_features=[0])"
   ]
  },
  {
   "cell_type": "code",
   "execution_count": 244,
   "metadata": {
    "collapsed": true
   },
   "outputs": [],
   "source": [
    "X = onehotencoder.fit_transform(X).toarray()"
   ]
  },
  {
   "cell_type": "code",
   "execution_count": 245,
   "metadata": {
    "collapsed": false
   },
   "outputs": [
    {
     "data": {
      "text/plain": [
       "array([ 0.        ,  0.        ,  1.        ,  0.        ,  0.51206518,\n",
       "        1.29971314])"
      ]
     },
     "execution_count": 245,
     "metadata": {},
     "output_type": "execute_result"
    }
   ],
   "source": [
    "X[1,:]"
   ]
  },
  {
   "cell_type": "code",
   "execution_count": 246,
   "metadata": {
    "collapsed": true
   },
   "outputs": [],
   "source": [
    "onehotencoder1 = OneHotEncoder(categorical_features=[3])"
   ]
  },
  {
   "cell_type": "code",
   "execution_count": 247,
   "metadata": {
    "collapsed": true
   },
   "outputs": [],
   "source": [
    "X = onehotencoder1.fit_transform(X).toarray()"
   ]
  },
  {
   "cell_type": "code",
   "execution_count": 248,
   "metadata": {
    "collapsed": false
   },
   "outputs": [
    {
     "data": {
      "text/plain": [
       "array([ 1.        ,  0.        ,  0.        ,  0.        ,  0.        ,\n",
       "        0.        ,  1.        ,  0.51206518,  1.29971314])"
      ]
     },
     "execution_count": 248,
     "metadata": {},
     "output_type": "execute_result"
    }
   ],
   "source": [
    "X[1,:]"
   ]
  },
  {
   "cell_type": "code",
   "execution_count": 249,
   "metadata": {
    "collapsed": false
   },
   "outputs": [],
   "source": [
    "from sklearn.cross_validation import train_test_split"
   ]
  },
  {
   "cell_type": "code",
   "execution_count": 250,
   "metadata": {
    "collapsed": true
   },
   "outputs": [],
   "source": [
    "X_train, X_test, y_train, y_test = train_test_split(X, y, test_size=0.2, random_state=0)"
   ]
  },
  {
   "cell_type": "code",
   "execution_count": 251,
   "metadata": {
    "collapsed": true
   },
   "outputs": [],
   "source": [
    "import statsmodels.formula.api as sm"
   ]
  },
  {
   "cell_type": "code",
   "execution_count": 252,
   "metadata": {
    "collapsed": true
   },
   "outputs": [],
   "source": [
    "X = np.append(arr=np.ones((len(X[:,0]), 1)).astype(int), values = X, axis=1)\n"
   ]
  },
  {
   "cell_type": "code",
   "execution_count": 280,
   "metadata": {
    "collapsed": true
   },
   "outputs": [],
   "source": [
    "X_opt = X[:, [0, 3, 5]]"
   ]
  },
  {
   "cell_type": "code",
   "execution_count": 281,
   "metadata": {
    "collapsed": false
   },
   "outputs": [
    {
     "data": {
      "text/plain": [
       "array([ 1.        ,  1.        ,  0.        ,  0.        ,  0.        ,\n",
       "        0.        ,  0.        ,  1.        ,  0.51206518,  1.29971314])"
      ]
     },
     "execution_count": 281,
     "metadata": {},
     "output_type": "execute_result"
    }
   ],
   "source": [
    "X[1, :]"
   ]
  },
  {
   "cell_type": "code",
   "execution_count": 282,
   "metadata": {
    "collapsed": true
   },
   "outputs": [],
   "source": [
    "regressor_summary = sm.OLS(endog = y, exog = X_opt).fit()"
   ]
  },
  {
   "cell_type": "code",
   "execution_count": 283,
   "metadata": {
    "collapsed": false
   },
   "outputs": [
    {
     "name": "stdout",
     "output_type": "stream",
     "text": [
      "                            OLS Regression Results                            \n",
      "==============================================================================\n",
      "Dep. Variable:                      y   R-squared:                       0.068\n",
      "Model:                            OLS   Adj. R-squared:                  0.055\n",
      "Method:                 Least Squares   F-statistic:                     5.415\n",
      "Date:                Wed, 19 Apr 2017   Prob (F-statistic):            0.00537\n",
      "Time:                        17:35:56   Log-Likelihood:                 803.89\n",
      "No. Observations:                 152   AIC:                            -1602.\n",
      "Df Residuals:                     149   BIC:                            -1593.\n",
      "Df Model:                           2                                         \n",
      "Covariance Type:            nonrobust                                         \n",
      "==============================================================================\n",
      "                 coef    std err          t      P>|t|      [95.0% Conf. Int.]\n",
      "------------------------------------------------------------------------------\n",
      "const       5.257e-05      0.000      0.385      0.701        -0.000     0.000\n",
      "x1             0.0007      0.000      2.779      0.006         0.000     0.001\n",
      "x2             0.0004      0.000      1.790      0.076     -3.88e-05     0.001\n",
      "==============================================================================\n",
      "Omnibus:                      299.730   Durbin-Watson:                   2.204\n",
      "Prob(Omnibus):                  0.000   Jarque-Bera (JB):            82720.394\n",
      "Skew:                          10.022   Prob(JB):                         0.00\n",
      "Kurtosis:                     115.514   Cond. No.                         2.78\n",
      "==============================================================================\n",
      "\n",
      "Warnings:\n",
      "[1] Standard Errors assume that the covariance matrix of the errors is correctly specified.\n"
     ]
    }
   ],
   "source": [
    "print(regressor_summary.summary())"
   ]
  },
  {
   "cell_type": "code",
   "execution_count": null,
   "metadata": {
    "collapsed": true
   },
   "outputs": [],
   "source": []
  }
 ],
 "metadata": {
  "anaconda-cloud": {},
  "kernelspec": {
   "display_name": "Python [conda root]",
   "language": "python",
   "name": "conda-root-py"
  },
  "language_info": {
   "codemirror_mode": {
    "name": "ipython",
    "version": 3
   },
   "file_extension": ".py",
   "mimetype": "text/x-python",
   "name": "python",
   "nbconvert_exporter": "python",
   "pygments_lexer": "ipython3",
   "version": "3.5.2"
  }
 },
 "nbformat": 4,
 "nbformat_minor": 1
}
